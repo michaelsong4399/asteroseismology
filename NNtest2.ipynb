{
  "nbformat": 4,
  "nbformat_minor": 0,
  "metadata": {
    "language_info": {
      "codemirror_mode": {
        "name": "ipython",
        "version": 3
      },
      "file_extension": ".py",
      "mimetype": "text/x-python",
      "name": "python",
      "nbconvert_exporter": "python",
      "pygments_lexer": "ipython3",
      "version": "3.6.0-final"
    },
    "orig_nbformat": 2,
    "kernelspec": {
      "name": "python3",
      "display_name": "Python 3",
      "language": "python"
    },
    "colab": {
      "name": "NNtest.ipynb",
      "provenance": []
    }
  },
  "cells": [
    {
      "cell_type": "code",
      "metadata": {
        "colab": {
          "base_uri": "https://localhost:8080/"
        },
        "id": "WMs8mlllTNs6",
        "outputId": "c2565f0c-ab33-4322-c30e-39f92c22cd76"
      },
      "source": [
        "!pip install lightkurve\n",
        "!pip install astroquery\n",
        "!pip install matplotlib\n",
        "!pip install numpy\n",
        "!pip install scipy\n",
        "!pip install pandas\n",
        "!pip install tensorflow"
      ],
      "execution_count": 21,
      "outputs": [
        {
          "output_type": "stream",
          "text": [
            "Requirement already satisfied: lightkurve in /usr/local/lib/python3.6/dist-packages (1.11.3)\n",
            "Requirement already satisfied: matplotlib>=1.5.3 in /usr/local/lib/python3.6/dist-packages (from lightkurve) (3.2.2)\n",
            "Requirement already satisfied: patsy>=0.5.1 in /usr/local/lib/python3.6/dist-packages (from lightkurve) (0.5.1)\n",
            "Requirement already satisfied: uncertainties in /usr/local/lib/python3.6/dist-packages (from lightkurve) (3.1.5)\n",
            "Requirement already satisfied: tqdm>=4.25.0 in /usr/local/lib/python3.6/dist-packages (from lightkurve) (4.41.1)\n",
            "Requirement already satisfied: bs4 in /usr/local/lib/python3.6/dist-packages (from lightkurve) (0.0.1)\n",
            "Requirement already satisfied: astroquery>=0.3.9 in /usr/local/lib/python3.6/dist-packages (from lightkurve) (0.4.1)\n",
            "Requirement already satisfied: fbpca>=1.0 in /usr/local/lib/python3.6/dist-packages (from lightkurve) (1.0)\n",
            "Requirement already satisfied: requests in /usr/local/lib/python3.6/dist-packages (from lightkurve) (2.23.0)\n",
            "Requirement already satisfied: scipy!=1.4.0,!=1.4.1,>=0.19.0 in /usr/local/lib/python3.6/dist-packages (from lightkurve) (1.5.4)\n",
            "Requirement already satisfied: astropy>=1.3 in /usr/local/lib/python3.6/dist-packages (from lightkurve) (4.1)\n",
            "Requirement already satisfied: pandas in /usr/local/lib/python3.6/dist-packages (from lightkurve) (1.1.5)\n",
            "Requirement already satisfied: numpy>=1.11 in /usr/local/lib/python3.6/dist-packages (from lightkurve) (1.19.5)\n",
            "Requirement already satisfied: oktopus in /usr/local/lib/python3.6/dist-packages (from lightkurve) (0.1.2)\n",
            "Requirement already satisfied: python-dateutil>=2.1 in /usr/local/lib/python3.6/dist-packages (from matplotlib>=1.5.3->lightkurve) (2.8.1)\n",
            "Requirement already satisfied: cycler>=0.10 in /usr/local/lib/python3.6/dist-packages (from matplotlib>=1.5.3->lightkurve) (0.10.0)\n",
            "Requirement already satisfied: pyparsing!=2.0.4,!=2.1.2,!=2.1.6,>=2.0.1 in /usr/local/lib/python3.6/dist-packages (from matplotlib>=1.5.3->lightkurve) (2.4.7)\n",
            "Requirement already satisfied: kiwisolver>=1.0.1 in /usr/local/lib/python3.6/dist-packages (from matplotlib>=1.5.3->lightkurve) (1.3.1)\n",
            "Requirement already satisfied: six in /usr/local/lib/python3.6/dist-packages (from patsy>=0.5.1->lightkurve) (1.15.0)\n",
            "Requirement already satisfied: future in /usr/local/lib/python3.6/dist-packages (from uncertainties->lightkurve) (0.16.0)\n",
            "Requirement already satisfied: beautifulsoup4 in /usr/local/lib/python3.6/dist-packages (from bs4->lightkurve) (4.6.3)\n",
            "Requirement already satisfied: html5lib>=0.999 in /usr/local/lib/python3.6/dist-packages (from astroquery>=0.3.9->lightkurve) (1.0.1)\n",
            "Requirement already satisfied: keyring>=4.0 in /usr/local/lib/python3.6/dist-packages (from astroquery>=0.3.9->lightkurve) (22.0.1)\n",
            "Requirement already satisfied: certifi>=2017.4.17 in /usr/local/lib/python3.6/dist-packages (from requests->lightkurve) (2020.12.5)\n",
            "Requirement already satisfied: idna<3,>=2.5 in /usr/local/lib/python3.6/dist-packages (from requests->lightkurve) (2.10)\n",
            "Requirement already satisfied: chardet<4,>=3.0.2 in /usr/local/lib/python3.6/dist-packages (from requests->lightkurve) (3.0.4)\n",
            "Requirement already satisfied: urllib3!=1.25.0,!=1.25.1,<1.26,>=1.21.1 in /usr/local/lib/python3.6/dist-packages (from requests->lightkurve) (1.24.3)\n",
            "Requirement already satisfied: pytz>=2017.2 in /usr/local/lib/python3.6/dist-packages (from pandas->lightkurve) (2018.9)\n",
            "Requirement already satisfied: autograd in /usr/local/lib/python3.6/dist-packages (from oktopus->lightkurve) (1.3)\n",
            "Requirement already satisfied: webencodings in /usr/local/lib/python3.6/dist-packages (from html5lib>=0.999->astroquery>=0.3.9->lightkurve) (0.5.1)\n",
            "Requirement already satisfied: jeepney>=0.4.2; sys_platform == \"linux\" in /usr/local/lib/python3.6/dist-packages (from keyring>=4.0->astroquery>=0.3.9->lightkurve) (0.6.0)\n",
            "Requirement already satisfied: SecretStorage>=3.2; sys_platform == \"linux\" in /usr/local/lib/python3.6/dist-packages (from keyring>=4.0->astroquery>=0.3.9->lightkurve) (3.3.1)\n",
            "Requirement already satisfied: importlib-metadata>=1; python_version < \"3.8\" in /usr/local/lib/python3.6/dist-packages (from keyring>=4.0->astroquery>=0.3.9->lightkurve) (3.4.0)\n",
            "Requirement already satisfied: cryptography>=2.0 in /usr/local/lib/python3.6/dist-packages (from SecretStorage>=3.2; sys_platform == \"linux\"->keyring>=4.0->astroquery>=0.3.9->lightkurve) (3.4.5)\n",
            "Requirement already satisfied: typing-extensions>=3.6.4; python_version < \"3.8\" in /usr/local/lib/python3.6/dist-packages (from importlib-metadata>=1; python_version < \"3.8\"->keyring>=4.0->astroquery>=0.3.9->lightkurve) (3.7.4.3)\n",
            "Requirement already satisfied: zipp>=0.5 in /usr/local/lib/python3.6/dist-packages (from importlib-metadata>=1; python_version < \"3.8\"->keyring>=4.0->astroquery>=0.3.9->lightkurve) (3.4.0)\n",
            "Requirement already satisfied: cffi>=1.12 in /usr/local/lib/python3.6/dist-packages (from cryptography>=2.0->SecretStorage>=3.2; sys_platform == \"linux\"->keyring>=4.0->astroquery>=0.3.9->lightkurve) (1.14.4)\n",
            "Requirement already satisfied: pycparser in /usr/local/lib/python3.6/dist-packages (from cffi>=1.12->cryptography>=2.0->SecretStorage>=3.2; sys_platform == \"linux\"->keyring>=4.0->astroquery>=0.3.9->lightkurve) (2.20)\n",
            "Requirement already satisfied: astroquery in /usr/local/lib/python3.6/dist-packages (0.4.1)\n",
            "Requirement already satisfied: astropy>=3.1 in /usr/local/lib/python3.6/dist-packages (from astroquery) (4.1)\n",
            "Requirement already satisfied: requests>=2.4.3 in /usr/local/lib/python3.6/dist-packages (from astroquery) (2.23.0)\n",
            "Requirement already satisfied: six in /usr/local/lib/python3.6/dist-packages (from astroquery) (1.15.0)\n",
            "Requirement already satisfied: keyring>=4.0 in /usr/local/lib/python3.6/dist-packages (from astroquery) (22.0.1)\n",
            "Requirement already satisfied: numpy in /usr/local/lib/python3.6/dist-packages (from astroquery) (1.19.5)\n",
            "Requirement already satisfied: beautifulsoup4>=4.3.2 in /usr/local/lib/python3.6/dist-packages (from astroquery) (4.6.3)\n",
            "Requirement already satisfied: html5lib>=0.999 in /usr/local/lib/python3.6/dist-packages (from astroquery) (1.0.1)\n",
            "Requirement already satisfied: idna<3,>=2.5 in /usr/local/lib/python3.6/dist-packages (from requests>=2.4.3->astroquery) (2.10)\n",
            "Requirement already satisfied: urllib3!=1.25.0,!=1.25.1,<1.26,>=1.21.1 in /usr/local/lib/python3.6/dist-packages (from requests>=2.4.3->astroquery) (1.24.3)\n",
            "Requirement already satisfied: chardet<4,>=3.0.2 in /usr/local/lib/python3.6/dist-packages (from requests>=2.4.3->astroquery) (3.0.4)\n",
            "Requirement already satisfied: certifi>=2017.4.17 in /usr/local/lib/python3.6/dist-packages (from requests>=2.4.3->astroquery) (2020.12.5)\n",
            "Requirement already satisfied: importlib-metadata>=1; python_version < \"3.8\" in /usr/local/lib/python3.6/dist-packages (from keyring>=4.0->astroquery) (3.4.0)\n",
            "Requirement already satisfied: jeepney>=0.4.2; sys_platform == \"linux\" in /usr/local/lib/python3.6/dist-packages (from keyring>=4.0->astroquery) (0.6.0)\n",
            "Requirement already satisfied: SecretStorage>=3.2; sys_platform == \"linux\" in /usr/local/lib/python3.6/dist-packages (from keyring>=4.0->astroquery) (3.3.1)\n",
            "Requirement already satisfied: webencodings in /usr/local/lib/python3.6/dist-packages (from html5lib>=0.999->astroquery) (0.5.1)\n",
            "Requirement already satisfied: typing-extensions>=3.6.4; python_version < \"3.8\" in /usr/local/lib/python3.6/dist-packages (from importlib-metadata>=1; python_version < \"3.8\"->keyring>=4.0->astroquery) (3.7.4.3)\n",
            "Requirement already satisfied: zipp>=0.5 in /usr/local/lib/python3.6/dist-packages (from importlib-metadata>=1; python_version < \"3.8\"->keyring>=4.0->astroquery) (3.4.0)\n",
            "Requirement already satisfied: cryptography>=2.0 in /usr/local/lib/python3.6/dist-packages (from SecretStorage>=3.2; sys_platform == \"linux\"->keyring>=4.0->astroquery) (3.4.5)\n",
            "Requirement already satisfied: cffi>=1.12 in /usr/local/lib/python3.6/dist-packages (from cryptography>=2.0->SecretStorage>=3.2; sys_platform == \"linux\"->keyring>=4.0->astroquery) (1.14.4)\n",
            "Requirement already satisfied: pycparser in /usr/local/lib/python3.6/dist-packages (from cffi>=1.12->cryptography>=2.0->SecretStorage>=3.2; sys_platform == \"linux\"->keyring>=4.0->astroquery) (2.20)\n",
            "Requirement already satisfied: matplotlib in /usr/local/lib/python3.6/dist-packages (3.2.2)\n",
            "Requirement already satisfied: pyparsing!=2.0.4,!=2.1.2,!=2.1.6,>=2.0.1 in /usr/local/lib/python3.6/dist-packages (from matplotlib) (2.4.7)\n",
            "Requirement already satisfied: cycler>=0.10 in /usr/local/lib/python3.6/dist-packages (from matplotlib) (0.10.0)\n",
            "Requirement already satisfied: python-dateutil>=2.1 in /usr/local/lib/python3.6/dist-packages (from matplotlib) (2.8.1)\n",
            "Requirement already satisfied: kiwisolver>=1.0.1 in /usr/local/lib/python3.6/dist-packages (from matplotlib) (1.3.1)\n",
            "Requirement already satisfied: numpy>=1.11 in /usr/local/lib/python3.6/dist-packages (from matplotlib) (1.19.5)\n",
            "Requirement already satisfied: six in /usr/local/lib/python3.6/dist-packages (from cycler>=0.10->matplotlib) (1.15.0)\n",
            "Requirement already satisfied: numpy in /usr/local/lib/python3.6/dist-packages (1.19.5)\n",
            "Requirement already satisfied: scipy in /usr/local/lib/python3.6/dist-packages (1.5.4)\n",
            "Requirement already satisfied: numpy>=1.14.5 in /usr/local/lib/python3.6/dist-packages (from scipy) (1.19.5)\n",
            "Requirement already satisfied: pandas in /usr/local/lib/python3.6/dist-packages (1.1.5)\n",
            "Requirement already satisfied: python-dateutil>=2.7.3 in /usr/local/lib/python3.6/dist-packages (from pandas) (2.8.1)\n",
            "Requirement already satisfied: numpy>=1.15.4 in /usr/local/lib/python3.6/dist-packages (from pandas) (1.19.5)\n",
            "Requirement already satisfied: pytz>=2017.2 in /usr/local/lib/python3.6/dist-packages (from pandas) (2018.9)\n",
            "Requirement already satisfied: six>=1.5 in /usr/local/lib/python3.6/dist-packages (from python-dateutil>=2.7.3->pandas) (1.15.0)\n",
            "Requirement already satisfied: tensorflow in /usr/local/lib/python3.6/dist-packages (2.4.1)\n",
            "Requirement already satisfied: six~=1.15.0 in /usr/local/lib/python3.6/dist-packages (from tensorflow) (1.15.0)\n",
            "Requirement already satisfied: opt-einsum~=3.3.0 in /usr/local/lib/python3.6/dist-packages (from tensorflow) (3.3.0)\n",
            "Requirement already satisfied: protobuf>=3.9.2 in /usr/local/lib/python3.6/dist-packages (from tensorflow) (3.12.4)\n",
            "Requirement already satisfied: keras-preprocessing~=1.1.2 in /usr/local/lib/python3.6/dist-packages (from tensorflow) (1.1.2)\n",
            "Requirement already satisfied: astunparse~=1.6.3 in /usr/local/lib/python3.6/dist-packages (from tensorflow) (1.6.3)\n",
            "Requirement already satisfied: wheel~=0.35 in /usr/local/lib/python3.6/dist-packages (from tensorflow) (0.36.2)\n",
            "Requirement already satisfied: gast==0.3.3 in /usr/local/lib/python3.6/dist-packages (from tensorflow) (0.3.3)\n",
            "Requirement already satisfied: typing-extensions~=3.7.4 in /usr/local/lib/python3.6/dist-packages (from tensorflow) (3.7.4.3)\n",
            "Requirement already satisfied: flatbuffers~=1.12.0 in /usr/local/lib/python3.6/dist-packages (from tensorflow) (1.12)\n",
            "Requirement already satisfied: tensorflow-estimator<2.5.0,>=2.4.0 in /usr/local/lib/python3.6/dist-packages (from tensorflow) (2.4.0)\n",
            "Requirement already satisfied: grpcio~=1.32.0 in /usr/local/lib/python3.6/dist-packages (from tensorflow) (1.32.0)\n",
            "Requirement already satisfied: termcolor~=1.1.0 in /usr/local/lib/python3.6/dist-packages (from tensorflow) (1.1.0)\n",
            "Requirement already satisfied: wrapt~=1.12.1 in /usr/local/lib/python3.6/dist-packages (from tensorflow) (1.12.1)\n",
            "Requirement already satisfied: numpy~=1.19.2 in /usr/local/lib/python3.6/dist-packages (from tensorflow) (1.19.5)\n",
            "Requirement already satisfied: tensorboard~=2.4 in /usr/local/lib/python3.6/dist-packages (from tensorflow) (2.4.1)\n",
            "Requirement already satisfied: h5py~=2.10.0 in /usr/local/lib/python3.6/dist-packages (from tensorflow) (2.10.0)\n",
            "Requirement already satisfied: absl-py~=0.10 in /usr/local/lib/python3.6/dist-packages (from tensorflow) (0.10.0)\n",
            "Requirement already satisfied: google-pasta~=0.2 in /usr/local/lib/python3.6/dist-packages (from tensorflow) (0.2.0)\n",
            "Requirement already satisfied: setuptools in /usr/local/lib/python3.6/dist-packages (from protobuf>=3.9.2->tensorflow) (53.0.0)\n",
            "Requirement already satisfied: markdown>=2.6.8 in /usr/local/lib/python3.6/dist-packages (from tensorboard~=2.4->tensorflow) (3.3.3)\n",
            "Requirement already satisfied: requests<3,>=2.21.0 in /usr/local/lib/python3.6/dist-packages (from tensorboard~=2.4->tensorflow) (2.23.0)\n",
            "Requirement already satisfied: tensorboard-plugin-wit>=1.6.0 in /usr/local/lib/python3.6/dist-packages (from tensorboard~=2.4->tensorflow) (1.8.0)\n",
            "Requirement already satisfied: google-auth-oauthlib<0.5,>=0.4.1 in /usr/local/lib/python3.6/dist-packages (from tensorboard~=2.4->tensorflow) (0.4.2)\n",
            "Requirement already satisfied: google-auth<2,>=1.6.3 in /usr/local/lib/python3.6/dist-packages (from tensorboard~=2.4->tensorflow) (1.25.0)\n",
            "Requirement already satisfied: werkzeug>=0.11.15 in /usr/local/lib/python3.6/dist-packages (from tensorboard~=2.4->tensorflow) (1.0.1)\n",
            "Requirement already satisfied: importlib-metadata; python_version < \"3.8\" in /usr/local/lib/python3.6/dist-packages (from markdown>=2.6.8->tensorboard~=2.4->tensorflow) (3.4.0)\n",
            "Requirement already satisfied: idna<3,>=2.5 in /usr/local/lib/python3.6/dist-packages (from requests<3,>=2.21.0->tensorboard~=2.4->tensorflow) (2.10)\n",
            "Requirement already satisfied: certifi>=2017.4.17 in /usr/local/lib/python3.6/dist-packages (from requests<3,>=2.21.0->tensorboard~=2.4->tensorflow) (2020.12.5)\n",
            "Requirement already satisfied: urllib3!=1.25.0,!=1.25.1,<1.26,>=1.21.1 in /usr/local/lib/python3.6/dist-packages (from requests<3,>=2.21.0->tensorboard~=2.4->tensorflow) (1.24.3)\n",
            "Requirement already satisfied: chardet<4,>=3.0.2 in /usr/local/lib/python3.6/dist-packages (from requests<3,>=2.21.0->tensorboard~=2.4->tensorflow) (3.0.4)\n",
            "Requirement already satisfied: requests-oauthlib>=0.7.0 in /usr/local/lib/python3.6/dist-packages (from google-auth-oauthlib<0.5,>=0.4.1->tensorboard~=2.4->tensorflow) (1.3.0)\n",
            "Requirement already satisfied: rsa<5,>=3.1.4; python_version >= \"3.6\" in /usr/local/lib/python3.6/dist-packages (from google-auth<2,>=1.6.3->tensorboard~=2.4->tensorflow) (4.7)\n",
            "Requirement already satisfied: pyasn1-modules>=0.2.1 in /usr/local/lib/python3.6/dist-packages (from google-auth<2,>=1.6.3->tensorboard~=2.4->tensorflow) (0.2.8)\n",
            "Requirement already satisfied: cachetools<5.0,>=2.0.0 in /usr/local/lib/python3.6/dist-packages (from google-auth<2,>=1.6.3->tensorboard~=2.4->tensorflow) (4.2.1)\n",
            "Requirement already satisfied: zipp>=0.5 in /usr/local/lib/python3.6/dist-packages (from importlib-metadata; python_version < \"3.8\"->markdown>=2.6.8->tensorboard~=2.4->tensorflow) (3.4.0)\n",
            "Requirement already satisfied: oauthlib>=3.0.0 in /usr/local/lib/python3.6/dist-packages (from requests-oauthlib>=0.7.0->google-auth-oauthlib<0.5,>=0.4.1->tensorboard~=2.4->tensorflow) (3.1.0)\n",
            "Requirement already satisfied: pyasn1>=0.1.3 in /usr/local/lib/python3.6/dist-packages (from rsa<5,>=3.1.4; python_version >= \"3.6\"->google-auth<2,>=1.6.3->tensorboard~=2.4->tensorflow) (0.4.8)\n"
          ],
          "name": "stdout"
        }
      ]
    },
    {
      "cell_type": "code",
      "metadata": {
        "id": "E0zy1nr7S22e"
      },
      "source": [
        "import lightkurve as lk\n",
        "from astropy.io import fits\n",
        "from matplotlib import pyplot as plt\n",
        "import numpy as np\n",
        "from sklearn.model_selection import train_test_split\n",
        "from sklearn.linear_model import LinearRegression\n",
        "from sklearn.metrics import r2_score\n",
        "import math\n",
        "import scipy\n",
        "import pandas as pd \n",
        "from scipy import interpolate"
      ],
      "execution_count": 22,
      "outputs": []
    },
    {
      "cell_type": "code",
      "metadata": {
        "id": "QgldYUDPS22g"
      },
      "source": [
        "#tf\n",
        "from __future__ import absolute_import, division, print_function, unicode_literals\n",
        "import tensorflow as tf\n",
        "from tensorflow import keras\n",
        "from tensorflow.keras import datasets, layers, models"
      ],
      "execution_count": 23,
      "outputs": []
    },
    {
      "cell_type": "code",
      "metadata": {
        "id": "XDg13sKyS22g"
      },
      "source": [
        "#Cycles\n",
        "    #21\n",
        "        #cycle_21 = []\n",
        "        \n",
        "        #Start 1 March 1976\n",
        "        #End 1 September 1986\n",
        "        \n",
        "    #22\n",
        "        #cycle_22 = [2446674.5,2450296.5]\n",
        "        \n",
        "        #Start: 1 September 1986 2446674.5\n",
        "        #End: 1 August 1996 2450296.5\n",
        "        \n",
        "    #23\n",
        "cycle_23 = [2450296.5,2454801.5]\n",
        "        \n",
        "        #Start: 1 August 1996 2450296.5\n",
        "        #End: 1 December 2008 2454801.5\n",
        "        \n",
        "    #24\n",
        "cycle_24 = [2454801.5,2458940.5]\n",
        "        \n",
        "        #Start: 1 December 2008 2454801.5\n",
        "        #End: 1 May 2020 2458970.5\n",
        "        #NOTE: Due to dataset limitation, only analyzed up to 2458940.5\n",
        "        "
      ],
      "execution_count": 24,
      "outputs": []
    },
    {
      "cell_type": "code",
      "metadata": {
        "id": "pVrmudpmGMn0",
        "colab": {
          "base_uri": "https://localhost:8080/"
        },
        "outputId": "421ce504-c359-4a97-c6f1-c617431e2ba9"
      },
      "source": [
        "from google.colab import drive\n",
        "drive.mount('/content/drive')"
      ],
      "execution_count": 25,
      "outputs": [
        {
          "output_type": "stream",
          "text": [
            "Drive already mounted at /content/drive; to attempt to forcibly remount, call drive.mount(\"/content/drive\", force_remount=True).\n"
          ],
          "name": "stdout"
        }
      ]
    },
    {
      "cell_type": "markdown",
      "metadata": {
        "id": "OnDY2j_yS22h"
      },
      "source": [
        "# BiSON Data"
      ]
    },
    {
      "cell_type": "code",
      "metadata": {
        "colab": {
          "base_uri": "https://localhost:8080/"
        },
        "id": "GNQ-R7k_S22h",
        "outputId": "20d44378-b3b7-4f63-d043-9ac085f51243"
      },
      "source": [
        "#hdul = fits.open('data/allsites-alldata-waverage-fill.fits')\n",
        "hdul = fits.open('/content/drive/MyDrive/Korea Research - Yihong Song and Rohit Prasanna/DSHS & AOS Physics Research Collaboration 2020/Project/Jr:Sr Project/allsites-alldata-waverage-fill.fits')\n",
        "\n",
        "hdul.info()\n",
        "\n",
        "tsdata = hdul[0].data\n",
        "#         SIMPLE  =                    T / Written by IDL:  Tue Jan 19 11:22:20 2016      \n",
        "#         BITPIX  =                  -64 /Real*8 (double precision)                       \n",
        "#         NAXIS   =                    2 /                                                \n",
        "#         NAXIS1  =                    2 /                                                \n",
        "#         NAXIS2  =             24455519 /                                                \n",
        "DSTART =        2442778.50000 #Data start (Julian)      1/1/1976 0:00:00                        \n",
        "DEND   =        2458940.50000 #Data end (Julian)        4/1/2020 0:00:00                       \n",
        "#         STATIONS= 'na ca cb su iz la lb mo' /Stations Used                              \n",
        "#         METHOD  = 'waverage'           /Overlap Method                                  \n",
        "#         CADENCE = '40      '           /Timeseries Cadence                              \n",
        "#         N-THRES =                   80 /Noise Rejection Threshold                       \n",
        "#         GAPFILL =                    1 /GapFill                                         \n",
        "#         FILL    =             0.638866 /Duty Cycle   \n",
        "#\n",
        "#         ~2160 datapoints per day"
      ],
      "execution_count": 26,
      "outputs": [
        {
          "output_type": "stream",
          "text": [
            "Filename: /content/drive/MyDrive/Korea Research - Yihong Song and Rohit Prasanna/DSHS & AOS Physics Research Collaboration 2020/Project/Jr:Sr Project/allsites-alldata-waverage-fill.fits\n",
            "No.    Name      Ver    Type      Cards   Dimensions   Format\n",
            "  0  PRIMARY       1 PrimaryHDU      15   (2, 34909918)   float64   \n"
          ],
          "name": "stdout"
        }
      ]
    },
    {
      "cell_type": "code",
      "metadata": {
        "id": "D4JGyNOTS22i"
      },
      "source": [
        "def getSV(cycle):\n",
        "    #Subtract starting date\n",
        "    cycle = np.subtract(cycle,DSTART)\n",
        "    \n",
        "    #multiply by 2160 (2160 datapoints per day)\n",
        "    cycle = np.multiply(cycle,2160)\n",
        "    \n",
        "    return tsdata[int(cycle[0]):int(cycle[1])].T[1]"
      ],
      "execution_count": 27,
      "outputs": []
    },
    {
      "cell_type": "code",
      "metadata": {
        "id": "FL4r687HS22j"
      },
      "source": [
        "def getSV_index(cycle):\n",
        "    #Subtract starting date\n",
        "    cycle = np.subtract(cycle,DSTART)\n",
        "    \n",
        "    #multiply by 2160 (2160 datapoints per day)\n",
        "    cycle = np.multiply(cycle,2160)\n",
        "    \n",
        "    return tsdata[int(cycle[0]):int(cycle[1])].T[0]"
      ],
      "execution_count": 28,
      "outputs": []
    },
    {
      "cell_type": "code",
      "metadata": {
        "colab": {
          "base_uri": "https://localhost:8080/"
        },
        "id": "ckf2ssgiS22j",
        "outputId": "ef5de82a-daa6-4946-9e08-5798ccd412d4"
      },
      "source": [
        "print(getSV(cycle_23))\n",
        "print(getSV_index(cycle_23))"
      ],
      "execution_count": 29,
      "outputs": [
        {
          "output_type": "stream",
          "text": [
            "[ 0.52007627  0.87248993  0.11934945 ...  0.25079036 -1.0275805\n",
            " -0.95429337]\n",
            "[2450296.50033958 2450296.50080254 2450296.50126551 ... 2454801.49915418\n",
            " 2454801.49961714 2454801.50008011]\n"
          ],
          "name": "stdout"
        }
      ]
    },
    {
      "cell_type": "markdown",
      "metadata": {
        "id": "YKIn0NAPS22k"
      },
      "source": [
        "# Sunspot Count"
      ]
    },
    {
      "cell_type": "code",
      "metadata": {
        "id": "3K6TCtF5S22k"
      },
      "source": [
        "#sunspot_Day = np.genfromtxt('data/SN_d_tot_V2.0.csv',delimiter=';')\n",
        "sunspot_Day = np.genfromtxt('/content/drive/MyDrive/Korea Research - Yihong Song and Rohit Prasanna/DSHS & AOS Physics Research Collaboration 2020/Project/Jr:Sr Project/SN_d_tot_V2.0.csv',delimiter=';')\n",
        "SNSTART_Day = 2385070.5\n",
        "SNEND_day = 2459000.5\n",
        "\n",
        "#sunspot_Month = np.genfromtxt('data/SN_ms_tot_V2.0.csv',delimiter=';')\n",
        "sunspot_Month = np.genfromtxt('/content/drive/MyDrive/Korea Research - Yihong Song and Rohit Prasanna/DSHS & AOS Physics Research Collaboration 2020/Project/Jr:Sr Project/SN_ms_tot_V2.0.csv',delimiter=';')\n",
        "sunspot_Month = sunspot_Month[828:]"
      ],
      "execution_count": 30,
      "outputs": []
    },
    {
      "cell_type": "code",
      "metadata": {
        "id": "kS4pX8WwS22l"
      },
      "source": [
        "def getSN_Day(cycle):\n",
        "    if cycle[1] >= SNEND_day:\n",
        "        cycle[1] = SNEND_day\n",
        "    cycle = np.subtract(cycle, SNSTART_Day)\n",
        "    sn = sunspot_Day.T[4][int(cycle[0]):int(cycle[1])]\n",
        "    \n",
        "    npout = [[0,0]]\n",
        "    for i in range(len(sn)):\n",
        "        npout = np.append(npout,[[i+SNSTART_Day+cycle[0],sn[i]]],0)\n",
        "    npout = npout[1:]\n",
        "    return npout"
      ],
      "execution_count": 31,
      "outputs": []
    },
    {
      "cell_type": "code",
      "metadata": {
        "id": "iMoMC4uoS22l"
      },
      "source": [
        "def getSNAverage(cycle,length):\n",
        "    \n",
        "    npout = [[0,0]]\n",
        "    total = 0\n",
        "    valid_count = 0\n",
        "    start = cycle[0][0]\n",
        "    for i in range(len(cycle)):\n",
        "        if cycle[i][1] >= 0:\n",
        "            total += cycle[i][1]\n",
        "            valid_count += 1\n",
        "        if (i+1) % length < 1 or i == len(cycle)-1:\n",
        "            npout = np.append(npout,[[start,total/valid_count]],0)\n",
        "            total = 0\n",
        "            valid_count = 0\n",
        "            if i == len(cycle)-1:\n",
        "                break\n",
        "            start = cycle[i+1][0]\n",
        "    npout = npout[1:]\n",
        "    return npout"
      ],
      "execution_count": 32,
      "outputs": []
    },
    {
      "cell_type": "code",
      "metadata": {
        "colab": {
          "base_uri": "https://localhost:8080/"
        },
        "id": "GnQ1yj4qS22m",
        "outputId": "caa7784e-cc11-4daa-ffeb-07682965efba"
      },
      "source": [
        "getSN_Day(cycle_23)"
      ],
      "execution_count": 33,
      "outputs": [
        {
          "output_type": "execute_result",
          "data": {
            "text/plain": [
              "array([[2.4502965e+06, 2.6000000e+01],\n",
              "       [2.4502975e+06, 3.1000000e+01],\n",
              "       [2.4502985e+06, 3.1000000e+01],\n",
              "       ...,\n",
              "       [2.4547985e+06, 0.0000000e+00],\n",
              "       [2.4547995e+06, 0.0000000e+00],\n",
              "       [2.4548005e+06, 0.0000000e+00]])"
            ]
          },
          "metadata": {
            "tags": []
          },
          "execution_count": 33
        }
      ]
    },
    {
      "cell_type": "code",
      "metadata": {
        "colab": {
          "base_uri": "https://localhost:8080/"
        },
        "id": "utzQ6B8iS22n",
        "outputId": "2927cea8-1cd6-43b0-c53f-e935036f60be"
      },
      "source": [
        "getSNAverage(getSN_Day(cycle_23),365)"
      ],
      "execution_count": 34,
      "outputs": [
        {
          "output_type": "execute_result",
          "data": {
            "text/plain": [
              "array([[2.45029650e+06, 1.45643836e+01],\n",
              "       [2.45066150e+06, 6.19232877e+01],\n",
              "       [2.45102650e+06, 1.21704110e+02],\n",
              "       [2.45139150e+06, 1.69175342e+02],\n",
              "       [2.45175650e+06, 1.53487671e+02],\n",
              "       [2.45212150e+06, 1.78747945e+02],\n",
              "       [2.45248650e+06, 1.29030137e+02],\n",
              "       [2.45285150e+06, 7.85397260e+01],\n",
              "       [2.45321650e+06, 5.33808219e+01],\n",
              "       [2.45358150e+06, 3.17945205e+01],\n",
              "       [2.45394650e+06, 1.95780822e+01],\n",
              "       [2.45431150e+06, 6.09041096e+00],\n",
              "       [2.45467650e+06, 2.98400000e+00]])"
            ]
          },
          "metadata": {
            "tags": []
          },
          "execution_count": 34
        }
      ]
    },
    {
      "cell_type": "markdown",
      "metadata": {
        "id": "Ynl1TMktS22n"
      },
      "source": [
        "# Preprocessing"
      ]
    },
    {
      "cell_type": "code",
      "metadata": {
        "colab": {
          "base_uri": "https://localhost:8080/"
        },
        "id": "8_k-fxZNS22n",
        "outputId": "86206474-9ce1-4783-88bc-26e4e1094ac3"
      },
      "source": [
        "datax_SV = getSV_index(cycle_23)\n",
        "datay_SV = getSV(cycle_23)\n",
        "\n",
        "\n",
        "# plt.xlabel('Time (BJD)')\n",
        "# plt.title('Numax and Sunspot Number vs. Time - Cycle 24')\n",
        "\n",
        "# #Axis 1\n",
        "# plt.autoscale(enable=True, axis='both', tight=None)\n",
        "# plt.scatter(datax_SV,datay_SV, s = 10, c='blue', alpha=0.5)\n",
        "# plt.show()\n",
        "print(datax_SV.size)"
      ],
      "execution_count": 56,
      "outputs": [
        {
          "output_type": "stream",
          "text": [
            "9730800\n"
          ],
          "name": "stdout"
        }
      ]
    },
    {
      "cell_type": "code",
      "metadata": {
        "colab": {
          "base_uri": "https://localhost:8080/",
          "height": 312
        },
        "id": "G0i74ma6S22o",
        "outputId": "24566f43-78b0-4d4b-b3de-db1ba2fddb41"
      },
      "source": [
        "data_SN = getSNAverage(np.ma.masked_equal(getSN_Day(cycle_23),0),115)\n",
        "# data_SN = np.ma.masked_equal(getSN_Day(cycle_23),0)\n",
        "datax_SN = data_SN.T[0] #np.subtract(data_SN.T[0],200)\n",
        "datay_SN = data_SN.T[1]\n",
        "\n",
        "plt.xlabel('Time (BJD)')\n",
        "plt.title('Numax and Sunspot Number vs. Time - Cycle 24')\n",
        "\n",
        "#Axis 1\n",
        "plt.autoscale(enable=True, axis='both', tight=None)\n",
        "plt.scatter(datax_SN,datay_SN, s = 10, c='blue', alpha=0.5)\n",
        "plt.show()\n",
        "print(data_SN.size)"
      ],
      "execution_count": 204,
      "outputs": [
        {
          "output_type": "display_data",
          "data": {
            "image/png": "[encoded data removed]",
            "text/plain": [
              "<Figure size 432x288 with 1 Axes>"
            ]
          },
          "metadata": {
            "tags": [],
            "needs_background": "light"
          }
        },
        {
          "output_type": "stream",
          "text": [
            "80\n"
          ],
          "name": "stdout"
        }
      ]
    },
    {
      "cell_type": "code",
      "metadata": {
        "id": "JS4KzUiZXhSM"
      },
      "source": [
        "#Interpolation\n",
        "def interpolate(data, smoothness):\n",
        "    from scipy import interpolate\n",
        "    x_new = np.linspace((data[0][0])-1,int(data[-1][0])+1,smoothness)\n",
        "    a_BSpline = interpolate.make_interp_spline(data.T[0],data.T[1])\n",
        "    y_new = a_BSpline(x_new)\n",
        "    return x_new,y_new"
      ],
      "execution_count": 200,
      "outputs": []
    },
    {
      "cell_type": "code",
      "metadata": {
        "id": "gJaizt_k6zaR"
      },
      "source": [
        "def prepXY(datax,datay,duration):\n",
        "  oldx = np.reshape(datax, (-1, 2160))\n",
        "  size = (duration-1)/2\n",
        "  newx = oldx[:int(len(oldx)-size)]\n",
        "  for i in range(int(size),int(len(oldx)-size)):\n",
        "    newx[i] = np.append(newx[i],(oldx[i][i-size+j] for j in range(duration)))\n",
        "  # newx = np.zeros([int(len(datax)/2160-duration),duration])\n",
        "  # for i in range(int(len(datax)/2160-duration)):\n",
        "  #   for j in range(duration):\n",
        "  #     newx[i][j] = datax[i+j]\n",
        "  # newx = np.array(list(zip(*(datax[i:] for i in range(duration)))))\n",
        "  newy = datay[int((duration-1)/2):-int((duration-1)/2)]\n",
        "  return newx, newy"
      ],
      "execution_count": 37,
      "outputs": []
    },
    {
      "cell_type": "code",
      "metadata": {
        "id": "w8ILJIAE7gJv",
        "colab": {
          "base_uri": "https://localhost:8080/"
        },
        "outputId": "bb5a1403-5090-4068-f72f-c4f885277ab6"
      },
      "source": [
        "# x, y = prepXY(getSV(cycle_23),getSN_Day(cycle_23).T[1],5)\n",
        "print(getSV(cycle_23).shape)"
      ],
      "execution_count": 42,
      "outputs": [
        {
          "output_type": "stream",
          "text": [
            "(9730800,)\n"
          ],
          "name": "stdout"
        }
      ]
    },
    {
      "cell_type": "code",
      "metadata": {
        "colab": {
          "base_uri": "https://localhost:8080/"
        },
        "id": "yGXiFvKTS22o",
        "outputId": "9f0cb483-a3a5-4869-c920-2d567f46a906"
      },
      "source": [
        "train_x = getSV(cycle_23)\n",
        "train_y = datay_SN #getSN_Day(cycle_23).T[1]\n",
        "#train_y = SN_23_AVG.T[1]\n",
        "print(train_x.shape, train_y.shape)\n",
        "print(9730800/40)\n",
        "train_x = np.reshape(train_x, (-1, 243270)) #2160\n",
        "print(train_x.shape)\n",
        "print(max(train_y))\n",
        "\n",
        "# normalize\n",
        "train_y = np.divide(train_y,353.0)\n",
        "print(max(train_y),train_y.shape)"
      ],
      "execution_count": 208,
      "outputs": [
        {
          "output_type": "stream",
          "text": [
            "(9730800,) (40,)\n",
            "243270.0\n",
            "(40, 243270)\n",
            "202.41739130434783\n",
            "0.573420371966991 (40,)\n"
          ],
          "name": "stdout"
        }
      ]
    },
    {
      "cell_type": "code",
      "metadata": {
        "colab": {
          "base_uri": "https://localhost:8080/"
        },
        "id": "I2pV2aNepXby",
        "outputId": "b15925bd-2b50-4f0e-ac27-c7812b2f6010"
      },
      "source": [
        "check_x = getSV(cycle_24)\n",
        "check_y = getSNAverage(np.ma.masked_equal(getSN_Day(cycle_23),0),115).T[1][:36]\n",
        "print(check_x.shape, check_y.shape)\n",
        "check_x = np.reshape(check_x[:-182518], (-1, 243270)) #2160\n",
        "print(check_x.shape)\n",
        "print(max(check_y))\n",
        "\n",
        "# normalize\n",
        "train_y = np.divide(train_y,353.0)\n",
        "print(max(check_y),check_y.shape)"
      ],
      "execution_count": 243,
      "outputs": [
        {
          "output_type": "stream",
          "text": [
            "(8940238,) (36,)\n",
            "(36, 243270)\n",
            "202.41739130434783\n",
            "202.41739130434783 (36,)\n"
          ],
          "name": "stdout"
        }
      ]
    },
    {
      "cell_type": "code",
      "metadata": {
        "colab": {
          "base_uri": "https://localhost:8080/"
        },
        "id": "S-J15I9mS22p",
        "outputId": "fa4d0727-8261-4347-d2f4-46a43c2fc3b8"
      },
      "source": [
        "tf.test.gpu_device_name()\n",
        "keras.backend.clear_session()\n",
        "# model = models.Sequential()\n",
        "\n",
        "# model.add(layers.Conv1D(1024, 1, activation='relu',batch_input_shape=train_x.shape))\n",
        "# model.add(layers.Dense(128))\n",
        "# model.add(layers.Conv1D(32, 1, activation='relu'))\n",
        "# model.add(layers.Dense(1,activation=\"sigmoid\"))\n",
        "\n",
        "# model.summary()\n",
        "\n",
        "model = models.Sequential()\n",
        "#model.add(layers.Conv1D(filters=16, kernel_size=1, activation='relu', batch_input_shape=(train_x.shape)))\n",
        "model.add(layers.Dense(128, activation='relu', input_shape=(train_x.shape)))\n",
        "model.add(layers.Dense(32, activation='relu'))\n",
        "model.add(layers.Dense(1))\n",
        "model.summary()"
      ],
      "execution_count": 271,
      "outputs": [
        {
          "output_type": "stream",
          "text": [
            "Model: \"sequential\"\n",
            "_________________________________________________________________\n",
            "Layer (type)                 Output Shape              Param #   \n",
            "=================================================================\n",
            "dense (Dense)                (None, 40, 128)           31138688  \n",
            "_________________________________________________________________\n",
            "dense_1 (Dense)              (None, 40, 32)            4128      \n",
            "_________________________________________________________________\n",
            "dense_2 (Dense)              (None, 40, 1)             33        \n",
            "=================================================================\n",
            "Total params: 31,142,849\n",
            "Trainable params: 31,142,849\n",
            "Non-trainable params: 0\n",
            "_________________________________________________________________\n"
          ],
          "name": "stdout"
        }
      ]
    },
    {
      "cell_type": "code",
      "metadata": {
        "id": "-brAzt0wS22q"
      },
      "source": [
        "# model.compile(optimizer='adam',\n",
        "#              loss='binary_crossentropy',\n",
        "#              metrics=['accuracy'])\n",
        "model.compile(optimizer='adam', loss='mse', metrics=['accuracy'])"
      ],
      "execution_count": 272,
      "outputs": []
    },
    {
      "cell_type": "code",
      "metadata": {
        "tags": [
          "outputPrepend"
        ],
        "colab": {
          "base_uri": "https://localhost:8080/"
        },
        "id": "d5PYniV0S22r",
        "outputId": "cb69efcb-698f-4d37-8ecb-ee1ecfb0e742"
      },
      "source": [
        "history = model.fit(train_x, train_y, epochs=100,validation_data=(check_x, check_y))"
      ],
      "execution_count": 274,
      "outputs": [
        {
          "output_type": "stream",
          "text": [
            "Epoch 1/100\n",
            "2/2 [==============================] - 1s 356ms/step - loss: 58.5543 - accuracy: 0.0000e+00 - val_loss: 11721.5859 - val_accuracy: 0.0000e+00\n",
            "Epoch 2/100\n",
            "2/2 [==============================] - 0s 278ms/step - loss: 52.1823 - accuracy: 0.0000e+00 - val_loss: 11735.9854 - val_accuracy: 0.0000e+00\n",
            "Epoch 3/100\n",
            "2/2 [==============================] - 0s 260ms/step - loss: 130.6686 - accuracy: 0.0000e+00 - val_loss: 11747.5342 - val_accuracy: 0.0000e+00\n",
            "Epoch 4/100\n",
            "2/2 [==============================] - 0s 270ms/step - loss: 194.6126 - accuracy: 0.0000e+00 - val_loss: 11746.0449 - val_accuracy: 0.0000e+00\n",
            "Epoch 5/100\n",
            "2/2 [==============================] - 0s 270ms/step - loss: 74.8485 - accuracy: 0.0000e+00 - val_loss: 11718.4688 - val_accuracy: 0.0000e+00\n",
            "Epoch 6/100\n",
            "2/2 [==============================] - 0s 260ms/step - loss: 111.8237 - accuracy: 0.0000e+00 - val_loss: 11711.3672 - val_accuracy: 0.0000e+00\n",
            "Epoch 7/100\n",
            "2/2 [==============================] - 0s 271ms/step - loss: 283.4149 - accuracy: 0.0000e+00 - val_loss: 11723.8008 - val_accuracy: 0.0000e+00\n",
            "Epoch 8/100\n",
            "2/2 [==============================] - 0s 273ms/step - loss: 430.5786 - accuracy: 0.0000e+00 - val_loss: 11725.6006 - val_accuracy: 0.0000e+00\n",
            "Epoch 9/100\n",
            "2/2 [==============================] - 1s 307ms/step - loss: 310.3591 - accuracy: 0.0000e+00 - val_loss: 11716.2686 - val_accuracy: 0.0000e+00\n",
            "Epoch 10/100\n",
            "2/2 [==============================] - 1s 297ms/step - loss: 103.2017 - accuracy: 0.0000e+00 - val_loss: 11722.4893 - val_accuracy: 0.0000e+00\n",
            "Epoch 11/100\n",
            "2/2 [==============================] - 0s 285ms/step - loss: 34.1991 - accuracy: 0.0000e+00 - val_loss: 11739.8135 - val_accuracy: 0.0000e+00\n",
            "Epoch 12/100\n",
            "2/2 [==============================] - 1s 568ms/step - loss: 67.3663 - accuracy: 0.0000e+00 - val_loss: 11749.7109 - val_accuracy: 0.0000e+00\n",
            "Epoch 13/100\n",
            "2/2 [==============================] - 0s 262ms/step - loss: 96.3469 - accuracy: 0.0000e+00 - val_loss: 11750.4541 - val_accuracy: 0.0000e+00\n",
            "Epoch 14/100\n",
            "2/2 [==============================] - 1s 293ms/step - loss: 93.4493 - accuracy: 0.0000e+00 - val_loss: 11741.0977 - val_accuracy: 0.0000e+00\n",
            "Epoch 15/100\n",
            "2/2 [==============================] - 0s 285ms/step - loss: 74.0682 - accuracy: 0.0000e+00 - val_loss: 11722.4775 - val_accuracy: 0.0000e+00\n",
            "Epoch 16/100\n",
            "2/2 [==============================] - 0s 243ms/step - loss: 79.3018 - accuracy: 0.0000e+00 - val_loss: 11711.2285 - val_accuracy: 0.0000e+00\n",
            "Epoch 17/100\n",
            "2/2 [==============================] - 0s 270ms/step - loss: 82.5293 - accuracy: 0.0000e+00 - val_loss: 11714.0186 - val_accuracy: 0.0000e+00\n",
            "Epoch 18/100\n",
            "2/2 [==============================] - 0s 278ms/step - loss: 53.4959 - accuracy: 0.0000e+00 - val_loss: 11716.9629 - val_accuracy: 0.0000e+00\n",
            "Epoch 19/100\n",
            "2/2 [==============================] - 0s 268ms/step - loss: 125.2420 - accuracy: 0.0000e+00 - val_loss: 11716.9414 - val_accuracy: 0.0000e+00\n",
            "Epoch 20/100\n",
            "2/2 [==============================] - 0s 250ms/step - loss: 190.8382 - accuracy: 0.0000e+00 - val_loss: 11718.8496 - val_accuracy: 0.0000e+00\n",
            "Epoch 21/100\n",
            "2/2 [==============================] - 0s 297ms/step - loss: 114.5236 - accuracy: 0.0000e+00 - val_loss: 11719.9414 - val_accuracy: 0.0000e+00\n",
            "Epoch 22/100\n",
            "2/2 [==============================] - 0s 268ms/step - loss: 177.9134 - accuracy: 0.0000e+00 - val_loss: 11718.3994 - val_accuracy: 0.0000e+00\n",
            "Epoch 23/100\n",
            "2/2 [==============================] - 0s 263ms/step - loss: 202.4529 - accuracy: 0.0000e+00 - val_loss: 11731.6953 - val_accuracy: 0.0000e+00\n",
            "Epoch 24/100\n",
            "2/2 [==============================] - 1s 293ms/step - loss: 172.1913 - accuracy: 0.0000e+00 - val_loss: 11731.2197 - val_accuracy: 0.0000e+00\n",
            "Epoch 25/100\n",
            "2/2 [==============================] - 0s 294ms/step - loss: 52.6673 - accuracy: 0.0000e+00 - val_loss: 11715.6680 - val_accuracy: 0.0000e+00\n",
            "Epoch 26/100\n",
            "2/2 [==============================] - 1s 292ms/step - loss: 100.0638 - accuracy: 0.0000e+00 - val_loss: 11716.2373 - val_accuracy: 0.0000e+00\n",
            "Epoch 27/100\n",
            "2/2 [==============================] - 0s 274ms/step - loss: 123.8561 - accuracy: 0.0000e+00 - val_loss: 11728.0547 - val_accuracy: 0.0000e+00\n",
            "Epoch 28/100\n",
            "2/2 [==============================] - 0s 249ms/step - loss: 59.8347 - accuracy: 0.0000e+00 - val_loss: 11743.6025 - val_accuracy: 0.0000e+00\n",
            "Epoch 29/100\n",
            "2/2 [==============================] - 0s 240ms/step - loss: 142.5525 - accuracy: 0.0000e+00 - val_loss: 11714.0781 - val_accuracy: 0.0000e+00\n",
            "Epoch 30/100\n",
            "2/2 [==============================] - 0s 242ms/step - loss: 96.1492 - accuracy: 0.0000e+00 - val_loss: 11663.1797 - val_accuracy: 0.0000e+00\n",
            "Epoch 31/100\n",
            "2/2 [==============================] - 0s 251ms/step - loss: 828.1206 - accuracy: 0.0000e+00 - val_loss: 11730.1787 - val_accuracy: 0.0000e+00\n",
            "Epoch 32/100\n",
            "2/2 [==============================] - 0s 257ms/step - loss: 280.1564 - accuracy: 0.0000e+00 - val_loss: 11848.5537 - val_accuracy: 0.0000e+00\n",
            "Epoch 33/100\n",
            "2/2 [==============================] - 0s 236ms/step - loss: 2181.9900 - accuracy: 0.0000e+00 - val_loss: 11888.7188 - val_accuracy: 0.0000e+00\n",
            "Epoch 34/100\n",
            "2/2 [==============================] - 0s 236ms/step - loss: 1223.0393 - accuracy: 0.0000e+00 - val_loss: 11823.9590 - val_accuracy: 0.0000e+00\n",
            "Epoch 35/100\n",
            "2/2 [==============================] - 0s 239ms/step - loss: 229.7216 - accuracy: 0.0000e+00 - val_loss: 11767.9629 - val_accuracy: 0.0000e+00\n",
            "Epoch 36/100\n",
            "2/2 [==============================] - 0s 252ms/step - loss: 204.1908 - accuracy: 0.0000e+00 - val_loss: 11768.0820 - val_accuracy: 0.0000e+00\n",
            "Epoch 37/100\n",
            "2/2 [==============================] - 0s 259ms/step - loss: 437.8254 - accuracy: 0.0000e+00 - val_loss: 11795.7910 - val_accuracy: 0.0000e+00\n",
            "Epoch 38/100\n",
            "2/2 [==============================] - 0s 251ms/step - loss: 374.4536 - accuracy: 0.0000e+00 - val_loss: 11836.8799 - val_accuracy: 0.0000e+00\n",
            "Epoch 39/100\n",
            "2/2 [==============================] - 0s 263ms/step - loss: 913.0322 - accuracy: 0.0000e+00 - val_loss: 11827.6758 - val_accuracy: 0.0000e+00\n",
            "Epoch 40/100\n",
            "2/2 [==============================] - 0s 241ms/step - loss: 780.0286 - accuracy: 0.0000e+00 - val_loss: 11784.5342 - val_accuracy: 0.0000e+00\n",
            "Epoch 41/100\n",
            "2/2 [==============================] - 0s 275ms/step - loss: 261.7288 - accuracy: 0.0000e+00 - val_loss: 11747.0908 - val_accuracy: 0.0000e+00\n",
            "Epoch 42/100\n",
            "2/2 [==============================] - 0s 239ms/step - loss: 286.4191 - accuracy: 0.0000e+00 - val_loss: 11760.0439 - val_accuracy: 0.0000e+00\n",
            "Epoch 43/100\n",
            "2/2 [==============================] - 0s 236ms/step - loss: 401.5436 - accuracy: 0.0000e+00 - val_loss: 11786.7188 - val_accuracy: 0.0000e+00\n",
            "Epoch 44/100\n",
            "2/2 [==============================] - 0s 241ms/step - loss: 676.2928 - accuracy: 0.0000e+00 - val_loss: 11822.1348 - val_accuracy: 0.0000e+00\n",
            "Epoch 45/100\n",
            "2/2 [==============================] - 0s 233ms/step - loss: 492.0811 - accuracy: 0.0000e+00 - val_loss: 11838.0342 - val_accuracy: 0.0000e+00\n",
            "Epoch 46/100\n",
            "2/2 [==============================] - 0s 252ms/step - loss: 299.1227 - accuracy: 0.0000e+00 - val_loss: 11814.8027 - val_accuracy: 0.0000e+00\n",
            "Epoch 47/100\n",
            "2/2 [==============================] - 0s 242ms/step - loss: 227.4895 - accuracy: 0.0000e+00 - val_loss: 11792.9727 - val_accuracy: 0.0000e+00\n",
            "Epoch 48/100\n",
            "2/2 [==============================] - 0s 253ms/step - loss: 802.3451 - accuracy: 0.0000e+00 - val_loss: 11784.2920 - val_accuracy: 0.0000e+00\n",
            "Epoch 49/100\n",
            "2/2 [==============================] - 0s 254ms/step - loss: 483.8345 - accuracy: 0.0000e+00 - val_loss: 11802.1104 - val_accuracy: 0.0000e+00\n",
            "Epoch 50/100\n",
            "2/2 [==============================] - 0s 241ms/step - loss: 637.8181 - accuracy: 0.0000e+00 - val_loss: 11820.2979 - val_accuracy: 0.0000e+00\n",
            "Epoch 51/100\n",
            "2/2 [==============================] - 0s 241ms/step - loss: 366.1967 - accuracy: 0.0000e+00 - val_loss: 11827.3535 - val_accuracy: 0.0000e+00\n",
            "Epoch 52/100\n",
            "2/2 [==============================] - 1s 466ms/step - loss: 138.2694 - accuracy: 0.0000e+00 - val_loss: 11831.6230 - val_accuracy: 0.0000e+00\n",
            "Epoch 53/100\n",
            "2/2 [==============================] - 0s 247ms/step - loss: 187.6711 - accuracy: 0.0000e+00 - val_loss: 11840.9590 - val_accuracy: 0.0000e+00\n",
            "Epoch 54/100\n",
            "2/2 [==============================] - 0s 248ms/step - loss: 277.2896 - accuracy: 0.0000e+00 - val_loss: 11846.8623 - val_accuracy: 0.0000e+00\n",
            "Epoch 55/100\n",
            "2/2 [==============================] - 0s 239ms/step - loss: 236.2169 - accuracy: 0.0000e+00 - val_loss: 11830.8770 - val_accuracy: 0.0000e+00\n",
            "Epoch 56/100\n",
            "2/2 [==============================] - 0s 249ms/step - loss: 269.2716 - accuracy: 0.0000e+00 - val_loss: 11826.5352 - val_accuracy: 0.0000e+00\n",
            "Epoch 57/100\n",
            "2/2 [==============================] - 0s 250ms/step - loss: 257.3544 - accuracy: 0.0000e+00 - val_loss: 11853.0020 - val_accuracy: 0.0000e+00\n",
            "Epoch 58/100\n",
            "2/2 [==============================] - 0s 250ms/step - loss: 240.2662 - accuracy: 0.0000e+00 - val_loss: 11889.7109 - val_accuracy: 0.0000e+00\n",
            "Epoch 59/100\n",
            "2/2 [==============================] - 0s 257ms/step - loss: 355.2162 - accuracy: 0.0000e+00 - val_loss: 11901.1074 - val_accuracy: 0.0000e+00\n",
            "Epoch 60/100\n",
            "2/2 [==============================] - 0s 260ms/step - loss: 205.9261 - accuracy: 0.0000e+00 - val_loss: 11879.1543 - val_accuracy: 0.0000e+00\n",
            "Epoch 61/100\n",
            "2/2 [==============================] - 0s 238ms/step - loss: 242.1302 - accuracy: 0.0000e+00 - val_loss: 11843.1357 - val_accuracy: 0.0000e+00\n",
            "Epoch 62/100\n",
            "2/2 [==============================] - 0s 248ms/step - loss: 368.9616 - accuracy: 0.0000e+00 - val_loss: 11836.6641 - val_accuracy: 0.0000e+00\n",
            "Epoch 63/100\n",
            "2/2 [==============================] - 0s 241ms/step - loss: 301.2153 - accuracy: 0.0000e+00 - val_loss: 11854.1201 - val_accuracy: 0.0000e+00\n",
            "Epoch 64/100\n",
            "2/2 [==============================] - 0s 255ms/step - loss: 401.5190 - accuracy: 0.0000e+00 - val_loss: 11877.9561 - val_accuracy: 0.0000e+00\n",
            "Epoch 65/100\n",
            "2/2 [==============================] - 0s 255ms/step - loss: 341.3491 - accuracy: 0.0000e+00 - val_loss: 11883.2871 - val_accuracy: 0.0000e+00\n",
            "Epoch 66/100\n",
            "2/2 [==============================] - 0s 269ms/step - loss: 252.8536 - accuracy: 0.0000e+00 - val_loss: 11862.4619 - val_accuracy: 0.0000e+00\n",
            "Epoch 67/100\n",
            "2/2 [==============================] - 0s 241ms/step - loss: 143.5601 - accuracy: 0.0000e+00 - val_loss: 11876.8721 - val_accuracy: 0.0000e+00\n",
            "Epoch 68/100\n",
            "2/2 [==============================] - 0s 247ms/step - loss: 140.4586 - accuracy: 0.0000e+00 - val_loss: 11923.0176 - val_accuracy: 0.0000e+00\n",
            "Epoch 69/100\n",
            "2/2 [==============================] - 0s 257ms/step - loss: 392.1880 - accuracy: 0.0000e+00 - val_loss: 11936.9570 - val_accuracy: 0.0000e+00\n",
            "Epoch 70/100\n",
            "2/2 [==============================] - 0s 253ms/step - loss: 419.4594 - accuracy: 0.0000e+00 - val_loss: 11908.1465 - val_accuracy: 0.0000e+00\n",
            "Epoch 71/100\n",
            "2/2 [==============================] - 0s 246ms/step - loss: 239.5312 - accuracy: 0.0000e+00 - val_loss: 11878.3740 - val_accuracy: 0.0000e+00\n",
            "Epoch 72/100\n",
            "2/2 [==============================] - 0s 251ms/step - loss: 115.7778 - accuracy: 0.0000e+00 - val_loss: 11876.4014 - val_accuracy: 0.0000e+00\n",
            "Epoch 73/100\n",
            "2/2 [==============================] - 0s 248ms/step - loss: 169.7475 - accuracy: 0.0000e+00 - val_loss: 11899.4209 - val_accuracy: 0.0000e+00\n",
            "Epoch 74/100\n",
            "2/2 [==============================] - 0s 259ms/step - loss: 310.3706 - accuracy: 0.0000e+00 - val_loss: 11931.9541 - val_accuracy: 0.0000e+00\n",
            "Epoch 75/100\n",
            "2/2 [==============================] - 0s 240ms/step - loss: 168.1133 - accuracy: 0.0000e+00 - val_loss: 11946.7627 - val_accuracy: 0.0000e+00\n",
            "Epoch 76/100\n",
            "2/2 [==============================] - 0s 244ms/step - loss: 123.7030 - accuracy: 0.0000e+00 - val_loss: 11933.6084 - val_accuracy: 0.0000e+00\n",
            "Epoch 77/100\n",
            "2/2 [==============================] - 0s 258ms/step - loss: 60.5402 - accuracy: 0.0000e+00 - val_loss: 11900.9268 - val_accuracy: 0.0000e+00\n",
            "Epoch 78/100\n",
            "2/2 [==============================] - 0s 244ms/step - loss: 86.8498 - accuracy: 0.0000e+00 - val_loss: 11888.8262 - val_accuracy: 0.0000e+00\n",
            "Epoch 79/100\n",
            "2/2 [==============================] - 0s 260ms/step - loss: 85.3252 - accuracy: 0.0000e+00 - val_loss: 11895.6484 - val_accuracy: 0.0000e+00\n",
            "Epoch 80/100\n",
            "2/2 [==============================] - 0s 239ms/step - loss: 53.3849 - accuracy: 0.0000e+00 - val_loss: 11909.9004 - val_accuracy: 0.0000e+00\n",
            "Epoch 81/100\n",
            "2/2 [==============================] - 0s 260ms/step - loss: 32.9242 - accuracy: 0.0000e+00 - val_loss: 11921.9883 - val_accuracy: 0.0000e+00\n",
            "Epoch 82/100\n",
            "2/2 [==============================] - 0s 247ms/step - loss: 44.6351 - accuracy: 0.0000e+00 - val_loss: 11923.3604 - val_accuracy: 0.0000e+00\n",
            "Epoch 83/100\n",
            "2/2 [==============================] - 0s 233ms/step - loss: 67.6804 - accuracy: 0.0000e+00 - val_loss: 11909.7344 - val_accuracy: 0.0000e+00\n",
            "Epoch 84/100\n",
            "2/2 [==============================] - 0s 246ms/step - loss: 48.0849 - accuracy: 0.0000e+00 - val_loss: 11885.2295 - val_accuracy: 0.0000e+00\n",
            "Epoch 85/100\n",
            "2/2 [==============================] - 0s 238ms/step - loss: 97.5340 - accuracy: 0.0000e+00 - val_loss: 11882.2686 - val_accuracy: 0.0000e+00\n",
            "Epoch 86/100\n",
            "2/2 [==============================] - 0s 248ms/step - loss: 33.0324 - accuracy: 0.0000e+00 - val_loss: 11898.9658 - val_accuracy: 0.0000e+00\n",
            "Epoch 87/100\n",
            "2/2 [==============================] - 0s 256ms/step - loss: 77.0592 - accuracy: 0.0000e+00 - val_loss: 11905.7148 - val_accuracy: 0.0000e+00\n",
            "Epoch 88/100\n",
            "2/2 [==============================] - 0s 261ms/step - loss: 182.6726 - accuracy: 0.0000e+00 - val_loss: 11898.0195 - val_accuracy: 0.0000e+00\n",
            "Epoch 89/100\n",
            "2/2 [==============================] - 0s 260ms/step - loss: 146.7988 - accuracy: 0.0000e+00 - val_loss: 11881.6211 - val_accuracy: 0.0000e+00\n",
            "Epoch 90/100\n",
            "2/2 [==============================] - 0s 264ms/step - loss: 45.4103 - accuracy: 0.0000e+00 - val_loss: 11864.1807 - val_accuracy: 0.0000e+00\n",
            "Epoch 91/100\n",
            "2/2 [==============================] - 0s 260ms/step - loss: 15.3161 - accuracy: 0.0000e+00 - val_loss: 11855.5742 - val_accuracy: 0.0000e+00\n",
            "Epoch 92/100\n",
            "2/2 [==============================] - 1s 481ms/step - loss: 64.0931 - accuracy: 0.0000e+00 - val_loss: 11858.8467 - val_accuracy: 0.0000e+00\n",
            "Epoch 93/100\n",
            "2/2 [==============================] - 0s 252ms/step - loss: 101.0527 - accuracy: 0.0000e+00 - val_loss: 11868.5498 - val_accuracy: 0.0000e+00\n",
            "Epoch 94/100\n",
            "2/2 [==============================] - 0s 241ms/step - loss: 76.3567 - accuracy: 0.0000e+00 - val_loss: 11875.6777 - val_accuracy: 0.0000e+00\n",
            "Epoch 95/100\n",
            "2/2 [==============================] - 0s 241ms/step - loss: 28.4579 - accuracy: 0.0000e+00 - val_loss: 11877.2588 - val_accuracy: 0.0000e+00\n",
            "Epoch 96/100\n",
            "2/2 [==============================] - 0s 247ms/step - loss: 82.5194 - accuracy: 0.0000e+00 - val_loss: 11867.7617 - val_accuracy: 0.0000e+00\n",
            "Epoch 97/100\n",
            "2/2 [==============================] - 0s 257ms/step - loss: 155.6173 - accuracy: 0.0000e+00 - val_loss: 11857.5439 - val_accuracy: 0.0000e+00\n",
            "Epoch 98/100\n",
            "2/2 [==============================] - 0s 255ms/step - loss: 114.2837 - accuracy: 0.0000e+00 - val_loss: 11854.0977 - val_accuracy: 0.0000e+00\n",
            "Epoch 99/100\n",
            "2/2 [==============================] - 0s 262ms/step - loss: 29.8284 - accuracy: 0.0000e+00 - val_loss: 11855.3584 - val_accuracy: 0.0000e+00\n",
            "Epoch 100/100\n",
            "2/2 [==============================] - 0s 260ms/step - loss: 30.3599 - accuracy: 0.0000e+00 - val_loss: 11855.2471 - val_accuracy: 0.0000e+00\n"
          ],
          "name": "stdout"
        }
      ]
    },
    {
      "cell_type": "code",
      "metadata": {
        "id": "R1V71K6BS22r",
        "colab": {
          "base_uri": "https://localhost:8080/"
        },
        "outputId": "c72f205c-7078-4eec-e960-6f429510f8a0"
      },
      "source": [
        "print(history.history)"
      ],
      "execution_count": 275,
      "outputs": [
        {
          "output_type": "stream",
          "text": [
            "{'loss': [58.55431365966797, 52.18231964111328, 130.66860961914062, 194.61260986328125, 74.84852600097656, 111.82368469238281, 283.4149169921875, 430.57855224609375, 310.35906982421875, 103.20174407958984, 34.19906234741211, 67.36627197265625, 96.34687042236328, 93.4493179321289, 74.06815338134766, 79.30180358886719, 82.52925872802734, 53.495880126953125, 125.24201965332031, 190.83819580078125, 114.5235824584961, 177.91342163085938, 202.452880859375, 172.1912841796875, 52.667320251464844, 100.06376647949219, 123.8560791015625, 59.8347282409668, 142.55252075195312, 96.14915466308594, 828.12060546875, 280.1563720703125, 2181.989990234375, 1223.039306640625, 229.7216339111328, 204.19081115722656, 437.82537841796875, 374.45355224609375, 913.0322265625, 780.028564453125, 261.728759765625, 286.4190673828125, 401.5435791015625, 676.2927856445312, 492.0810546875, 299.1226501464844, 227.48947143554688, 802.3450927734375, 483.83447265625, 637.8180541992188, 366.1966857910156, 138.26943969726562, 187.6710968017578, 277.28955078125, 236.21688842773438, 269.2716064453125, 257.35443115234375, 240.2661590576172, 355.21624755859375, 205.9261474609375, 242.1302490234375, 368.96160888671875, 301.21527099609375, 401.51898193359375, 341.3490905761719, 252.8535614013672, 143.56008911132812, 140.45863342285156, 392.18798828125, 419.4593811035156, 239.53115844726562, 115.77775573730469, 169.74749755859375, 310.3705749511719, 168.11331176757812, 123.70295715332031, 60.5401725769043, 86.84983825683594, 85.32518768310547, 53.384864807128906, 32.9242057800293, 44.63506317138672, 67.68036651611328, 48.084938049316406, 97.53404235839844, 33.03238296508789, 77.05924987792969, 182.67257690429688, 146.79884338378906, 45.410274505615234, 15.3160982131958, 64.09307861328125, 101.05265045166016, 76.3566665649414, 28.457916259765625, 82.51939392089844, 155.6172637939453, 114.28365325927734, 29.828393936157227, 30.359943389892578], 'accuracy': [0.0, 0.0, 0.0, 0.0, 0.0, 0.0, 0.0, 0.0, 0.0, 0.0, 0.0, 0.0, 0.0, 0.0, 0.0, 0.0, 0.0, 0.0, 0.0, 0.0, 0.0, 0.0, 0.0, 0.0, 0.0, 0.0, 0.0, 0.0, 0.0, 0.0, 0.0, 0.0, 0.0, 0.0, 0.0, 0.0, 0.0, 0.0, 0.0, 0.0, 0.0, 0.0, 0.0, 0.0, 0.0, 0.0, 0.0, 0.0, 0.0, 0.0, 0.0, 0.0, 0.0, 0.0, 0.0, 0.0, 0.0, 0.0, 0.0, 0.0, 0.0, 0.0, 0.0, 0.0, 0.0, 0.0, 0.0, 0.0, 0.0, 0.0, 0.0, 0.0, 0.0, 0.0, 0.0, 0.0, 0.0, 0.0, 0.0, 0.0, 0.0, 0.0, 0.0, 0.0, 0.0, 0.0, 0.0, 0.0, 0.0, 0.0, 0.0, 0.0, 0.0, 0.0, 0.0, 0.0, 0.0, 0.0, 0.0, 0.0], 'val_loss': [11721.5859375, 11735.9853515625, 11747.5341796875, 11746.044921875, 11718.46875, 11711.3671875, 11723.80078125, 11725.6005859375, 11716.2685546875, 11722.4892578125, 11739.8134765625, 11749.7109375, 11750.4541015625, 11741.09765625, 11722.4775390625, 11711.228515625, 11714.0185546875, 11716.962890625, 11716.94140625, 11718.849609375, 11719.94140625, 11718.3994140625, 11731.6953125, 11731.2197265625, 11715.66796875, 11716.2373046875, 11728.0546875, 11743.6025390625, 11714.078125, 11663.1796875, 11730.1787109375, 11848.5537109375, 11888.71875, 11823.958984375, 11767.962890625, 11768.08203125, 11795.791015625, 11836.8798828125, 11827.67578125, 11784.5341796875, 11747.0908203125, 11760.0439453125, 11786.71875, 11822.134765625, 11838.0341796875, 11814.802734375, 11792.97265625, 11784.2919921875, 11802.1103515625, 11820.2978515625, 11827.353515625, 11831.623046875, 11840.958984375, 11846.8623046875, 11830.876953125, 11826.53515625, 11853.001953125, 11889.7109375, 11901.107421875, 11879.154296875, 11843.1357421875, 11836.6640625, 11854.1201171875, 11877.9560546875, 11883.287109375, 11862.4619140625, 11876.8720703125, 11923.017578125, 11936.95703125, 11908.146484375, 11878.3740234375, 11876.4013671875, 11899.4208984375, 11931.9541015625, 11946.7626953125, 11933.6083984375, 11900.9267578125, 11888.826171875, 11895.6484375, 11909.900390625, 11921.98828125, 11923.3603515625, 11909.734375, 11885.2294921875, 11882.2685546875, 11898.9658203125, 11905.71484375, 11898.01953125, 11881.62109375, 11864.1806640625, 11855.57421875, 11858.8466796875, 11868.5498046875, 11875.677734375, 11877.2587890625, 11867.76171875, 11857.5439453125, 11854.09765625, 11855.3583984375, 11855.2470703125], 'val_accuracy': [0.0, 0.0, 0.0, 0.0, 0.0, 0.0, 0.0, 0.0, 0.0, 0.0, 0.0, 0.0, 0.0, 0.0, 0.0, 0.0, 0.0, 0.0, 0.0, 0.0, 0.0, 0.0, 0.0, 0.0, 0.0, 0.0, 0.0, 0.0, 0.0, 0.0, 0.0, 0.0, 0.0, 0.0, 0.0, 0.0, 0.0, 0.0, 0.0, 0.0, 0.0, 0.0, 0.0, 0.0, 0.0, 0.0, 0.0, 0.0, 0.0, 0.0, 0.0, 0.0, 0.0, 0.0, 0.0, 0.0, 0.0, 0.0, 0.0, 0.0, 0.0, 0.0, 0.0, 0.0, 0.0, 0.0, 0.0, 0.0, 0.0, 0.0, 0.0, 0.0, 0.0, 0.0, 0.0, 0.0, 0.0, 0.0, 0.0, 0.0, 0.0, 0.0, 0.0, 0.0, 0.0, 0.0, 0.0, 0.0, 0.0, 0.0, 0.0, 0.0, 0.0, 0.0, 0.0, 0.0, 0.0, 0.0, 0.0, 0.0]}\n"
          ],
          "name": "stdout"
        }
      ]
    },
    {
      "cell_type": "code",
      "metadata": {
        "colab": {
          "base_uri": "https://localhost:8080/"
        },
        "id": "ynUakKNeS22s",
        "outputId": "f02e9628-2c5c-4a0a-e63e-7272a181c788"
      },
      "source": [
        "pred_y = model.predict(train_x)"
      ],
      "execution_count": 276,
      "outputs": [
        {
          "output_type": "stream",
          "text": [
            "WARNING:tensorflow:Model was constructed with shape (None, 40, 243270) for input KerasTensor(type_spec=TensorSpec(shape=(None, 40, 243270), dtype=tf.float32, name='dense_input'), name='dense_input', description=\"created by layer 'dense_input'\"), but it was called on an input with incompatible shape (None, 243270).\n"
          ],
          "name": "stdout"
        }
      ]
    },
    {
      "cell_type": "code",
      "metadata": {
        "colab": {
          "base_uri": "https://localhost:8080/"
        },
        "id": "HMCo1ag6S22s",
        "outputId": "7e52ac25-6747-4054-c5ff-9ed5bd1f69e2"
      },
      "source": [
        "pred_y = pred_y.reshape(-1)\n",
        "pred_y = np.multiply(pred_y,353.0)\n",
        "print(pred_y)"
      ],
      "execution_count": 277,
      "outputs": [
        {
          "output_type": "stream",
          "text": [
            "[   157.4476      447.60367     101.07623    -373.3559    -1328.1885\n",
            "   -344.3497      126.66898   -1559.2219     1639.073      -141.06808\n",
            "  -3231.0974     -617.44116    -371.21887    -346.87286   -3582.2446\n",
            "    468.16876    -399.67767      49.142864    549.20374   -1049.7269\n",
            "   1550.8809     -669.0559      599.182      -897.584       463.47827\n",
            "    -70.2214      986.7729     -634.1564     -327.1477      184.75507\n",
            "    375.89514     -86.87331   -1092.1431      232.47276  -12835.243\n",
            "    926.013     12372.379      1092.6046     -117.105865   1031.961   ]\n"
          ],
          "name": "stdout"
        }
      ]
    },
    {
      "cell_type": "code",
      "metadata": {
        "colab": {
          "base_uri": "https://localhost:8080/",
          "height": 312
        },
        "id": "N0GnIPaiS22s",
        "outputId": "30b9100e-859c-4a65-b752-d7968ceaf1b3"
      },
      "source": [
        "data_SN = getSNAverage(np.ma.masked_equal(getSN_Day(cycle_23),0),115)\n",
        "# data_SN = np.ma.masked_equal(getSN_Day(cycle_23),0)\n",
        "datax_SN = data_SN.T[0] #np.subtract(data_SN.T[0],200)\n",
        "datay_SN = data_SN.T[1]\n",
        "print(datax_SN.shape, datay_SN.shape, pred_y.shape)\n",
        "\n",
        "figure, axis_1 = plt.subplots()\n",
        "plt.xlabel('Time (BJD)')\n",
        "plt.title('Numax and Sunspot Number vs. Time - Cycle 23')\n",
        "\n",
        "#Axis 1\n",
        "axis_1.autoscale(enable=True, axis='both', tight=None)\n",
        "axis_1.set_ylabel('Numax (Diff. from Avg.)')\n",
        "axis_1.scatter(datax_SN,pred_y, s = 10, c='blue', alpha=0.5)\n",
        "\n",
        "#Axis 2\n",
        "axis_2 = axis_1.twinx()\n",
        "axis_2.set_ylabel('Sunspot Number')\n",
        "axis_2.scatter(datax_SN,datay_SN, s = 10, c='red', alpha=0.5)\n",
        "\n",
        "#Append Labels\n",
        "lines_1, labels_1 = axis_1.get_legend_handles_labels()\n",
        "lines_2, labels_2 = axis_2.get_legend_handles_labels()\n",
        "lines = lines_1 + lines_2\n",
        "labels = labels_1 + labels_2\n",
        "axis_1.legend(lines, labels, loc=0)\n",
        "\n",
        "#Show Plot\n",
        "#plt.savefig('Graphs/C23_Numax_SSN_Time.png')\n",
        "plt.show()"
      ],
      "execution_count": 278,
      "outputs": [
        {
          "output_type": "stream",
          "text": [
            "(40,) (40,) (40,)\n"
          ],
          "name": "stdout"
        },
        {
          "output_type": "display_data",
          "data": {
            "image/png": "[encoded data removed]",
            "text/plain": [
              "<Figure size 432x288 with 2 Axes>"
            ]
          },
          "metadata": {
            "tags": [],
            "needs_background": "light"
          }
        }
      ]
    },
    {
      "cell_type": "code",
      "metadata": {
        "colab": {
          "base_uri": "https://localhost:8080/"
        },
        "id": "b-gDI7c5S22t",
        "outputId": "458d4e52-caf1-454c-bbfb-2708c25ef213"
      },
      "source": [
        "test_x = getSV(cycle_24)[:-182518]\n",
        "test_x = np.reshape(test_x, (-1,243270))\n",
        "print(test_x.shape)\n",
        "test_y = model.predict(test_x)\n",
        "test_y = test_y.reshape(-1)\n",
        "test_y = np.multiply(test_y,353.0)\n",
        "print(test_y)"
      ],
      "execution_count": 279,
      "outputs": [
        {
          "output_type": "stream",
          "text": [
            "(36, 243270)\n",
            "[  -77.795456   688.07025   1990.1287    4080.49      1920.2477\n",
            "  2402.475       64.051445   824.4145    2391.295    -4166.7676\n",
            "  -814.17395    153.1536   -1240.2261    1384.2416     587.05786\n",
            " -1340.7024   -1987.1251    -161.25858  -1807.5403     296.11377\n",
            "   974.4947    1586.9109    -526.505     2073.6282     976.94556\n",
            "  -472.76895   -521.28906  -1561.8296    6986.856      295.73044\n",
            "  2342.4385    -164.20685  -1377.0377    1279.3286   -1312.977\n",
            "  2440.1897  ]\n"
          ],
          "name": "stdout"
        }
      ]
    },
    {
      "cell_type": "code",
      "metadata": {
        "id": "8Ot6z0jBMHIX",
        "colab": {
          "base_uri": "https://localhost:8080/",
          "height": 312
        },
        "outputId": "fc38702f-0f34-435a-dfa1-e7b8836dc6ee"
      },
      "source": [
        "data_SN = getSNAverage(np.ma.masked_equal(getSN_Day(cycle_24),0),115)\n",
        "#data_SN = np.ma.masked_equal(getSN_Day(cycle_24),0)[:-1]\n",
        "datax_SN = data_SN.T[0] #np.subtract(data_SN.T[0],200)\n",
        "datay_SN = data_SN.T[1]\n",
        "print(datax_SN.shape, datay_SN.shape, test_y.shape)\n",
        "\n",
        "figure, axis_1 = plt.subplots()\n",
        "plt.xlabel('Time (BJD)')\n",
        "plt.title('Numax and Sunspot Number vs. Time - Cycle 23')\n",
        "\n",
        "#Axis 1\n",
        "axis_1.autoscale(enable=True, axis='both', tight=None)\n",
        "axis_1.set_ylabel('Numax (Diff. from Avg.)')\n",
        "axis_1.scatter(datax_SN,test_y, s = 10, c='blue', alpha=0.5)\n",
        "\n",
        "#Axis 2\n",
        "axis_2 = axis_1.twinx()\n",
        "axis_2.set_ylabel('Sunspot Number')\n",
        "axis_2.scatter(datax_SN,datay_SN, s = 10, c='red', alpha=0.5)\n",
        "\n",
        "#Append Labels\n",
        "lines_1, labels_1 = axis_1.get_legend_handles_labels()\n",
        "lines_2, labels_2 = axis_2.get_legend_handles_labels()\n",
        "lines = lines_1 + lines_2\n",
        "labels = labels_1 + labels_2\n",
        "axis_1.legend(lines, labels, loc=0)\n",
        "\n",
        "#Show Plot\n",
        "#plt.savefig('Graphs/C23_Numax_SSN_Time.png')\n",
        "plt.show()"
      ],
      "execution_count": 270,
      "outputs": [
        {
          "output_type": "stream",
          "text": [
            "(36,) (36,) (36,)\n"
          ],
          "name": "stdout"
        },
        {
          "output_type": "display_data",
          "data": {
            "image/png": "[encoded data removed]",
            "text/plain": [
              "<Figure size 432x288 with 2 Axes>"
            ]
          },
          "metadata": {
            "tags": [],
            "needs_background": "light"
          }
        }
      ]
    },
    {
      "cell_type": "code",
      "metadata": {
        "id": "1zWQWvGTNOmt"
      },
      "source": [
        ""
      ],
      "execution_count": null,
      "outputs": []
    }
  ]
}
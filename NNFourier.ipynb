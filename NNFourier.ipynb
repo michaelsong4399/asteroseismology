{
  "nbformat": 4,
  "nbformat_minor": 0,
  "metadata": {
    "colab": {
      "name": "NNFourier.ipynb",
      "provenance": [],
      "collapsed_sections": [],
      "authorship_tag": "ABX9TyMLkOlcy+XziXYmSDwBI7us",
      "include_colab_link": true
    },
    "kernelspec": {
      "name": "python3",
      "display_name": "Python 3"
    }
  },
  "cells": [
    {
      "cell_type": "markdown",
      "metadata": {
        "id": "view-in-github",
        "colab_type": "text"
      },
      "source": [
        "<a href=\"https://colab.research.google.com/github/michaelsong4399/asteroseismology/blob/yihong/NNFourier.ipynb\" target=\"_parent\"><img src=\"https://colab.research.google.com/assets/colab-badge.svg\" alt=\"Open In Colab\"/></a>"
      ]
    },
    {
      "cell_type": "code",
      "metadata": {
        "colab": {
          "base_uri": "https://localhost:8080/",
          "height": 1000
        },
        "id": "zzDDjvqhW-q0",
        "outputId": "32b2c1dc-64f5-4b31-f64d-e02d71170156"
      },
      "source": [
        "!pip install lightkurve\n",
        "!pip install astroquery\n",
        "!pip install matplotlib\n",
        "!pip install numpy\n",
        "!pip install scipy\n",
        "!pip install pandas\n",
        "!pip install tensorflow\n",
        "!pip install astropy"
      ],
      "execution_count": 1,
      "outputs": [
        {
          "output_type": "stream",
          "text": [
            "Collecting lightkurve\n",
            "\u001b[?25l  Downloading https://files.pythonhosted.org/packages/6c/ed/f2aaf0b3a9641457ccb44f05c7afc111ec232387c84c33f13ff196b8940d/lightkurve-2.0.0-py3-none-any.whl (232kB)\n",
            "\r\u001b[K     |█▍                              | 10kB 19.5MB/s eta 0:00:01\r\u001b[K     |██▉                             | 20kB 24.3MB/s eta 0:00:01\r\u001b[K     |████▏                           | 30kB 17.0MB/s eta 0:00:01\r\u001b[K     |█████▋                          | 40kB 14.6MB/s eta 0:00:01\r\u001b[K     |███████                         | 51kB 9.2MB/s eta 0:00:01\r\u001b[K     |████████▍                       | 61kB 8.8MB/s eta 0:00:01\r\u001b[K     |█████████▉                      | 71kB 9.8MB/s eta 0:00:01\r\u001b[K     |███████████▎                    | 81kB 10.2MB/s eta 0:00:01\r\u001b[K     |████████████▋                   | 92kB 10.2MB/s eta 0:00:01\r\u001b[K     |██████████████                  | 102kB 8.8MB/s eta 0:00:01\r\u001b[K     |███████████████▌                | 112kB 8.8MB/s eta 0:00:01\r\u001b[K     |████████████████▉               | 122kB 8.8MB/s eta 0:00:01\r\u001b[K     |██████████████████▎             | 133kB 8.8MB/s eta 0:00:01\r\u001b[K     |███████████████████▊            | 143kB 8.8MB/s eta 0:00:01\r\u001b[K     |█████████████████████           | 153kB 8.8MB/s eta 0:00:01\r\u001b[K     |██████████████████████▌         | 163kB 8.8MB/s eta 0:00:01\r\u001b[K     |████████████████████████        | 174kB 8.8MB/s eta 0:00:01\r\u001b[K     |█████████████████████████▎      | 184kB 8.8MB/s eta 0:00:01\r\u001b[K     |██████████████████████████▊     | 194kB 8.8MB/s eta 0:00:01\r\u001b[K     |████████████████████████████▏   | 204kB 8.8MB/s eta 0:00:01\r\u001b[K     |█████████████████████████████▌  | 215kB 8.8MB/s eta 0:00:01\r\u001b[K     |███████████████████████████████ | 225kB 8.8MB/s eta 0:00:01\r\u001b[K     |████████████████████████████████| 235kB 8.8MB/s \n",
            "\u001b[?25hCollecting memoization>=0.3.1\n",
            "  Downloading https://files.pythonhosted.org/packages/16/87/37229296c2a9506867d5f5440b9aac015d97af54c951cdfc129bb4bb8d75/memoization-0.3.2-py3-none-any.whl\n",
            "Requirement already satisfied: beautifulsoup4<5.0.0,>=4.6.0 in /usr/local/lib/python3.6/dist-packages (from lightkurve) (4.6.3)\n",
            "Collecting ipython>=6.0.0\n",
            "\u001b[?25l  Downloading https://files.pythonhosted.org/packages/23/6a/210816c943c9aeeb29e4e18a298f14bf0e118fe222a23e13bfcc2d41b0a4/ipython-7.16.1-py3-none-any.whl (785kB)\n",
            "\u001b[K     |████████████████████████████████| 788kB 26.5MB/s \n",
            "\u001b[?25hCollecting oktopus<0.2.0,>=0.1.2\n",
            "  Downloading https://files.pythonhosted.org/packages/2d/6e/7b7e11442ff70286c22614d200f6145f83528dc6c99fec0982665e25c8d3/oktopus-0.1.2.tar.gz\n",
            "Collecting requests<3.0.0,>=2.25.0\n",
            "\u001b[?25l  Downloading https://files.pythonhosted.org/packages/29/c1/24814557f1d22c56d50280771a17307e6bf87b70727d975fd6b2ce6b014a/requests-2.25.1-py2.py3-none-any.whl (61kB)\n",
            "\u001b[K     |████████████████████████████████| 61kB 9.9MB/s \n",
            "\u001b[?25hCollecting uncertainties<4.0.0,>=3.1.4\n",
            "\u001b[?25l  Downloading https://files.pythonhosted.org/packages/45/41/fc7e7b73b603e7c2c9e040b7aa8caf4a88d74b6faa567601ed82b6f0d8e1/uncertainties-3.1.5-py2.py3-none-any.whl (246kB)\n",
            "\u001b[K     |████████████████████████████████| 256kB 17.8MB/s \n",
            "\u001b[?25hCollecting scikit-learn>=0.24.0\n",
            "\u001b[?25l  Downloading https://files.pythonhosted.org/packages/e2/4c/6111b9a325f29527d7f262e2ee8c730d354b47a728d955e186dacad57a0d/scikit_learn-0.24.1-cp36-cp36m-manylinux2010_x86_64.whl (22.2MB)\n",
            "\u001b[K     |████████████████████████████████| 22.2MB 1.5MB/s \n",
            "\u001b[?25hRequirement already satisfied: pandas<2.0.0,>=1.1.4 in /usr/local/lib/python3.6/dist-packages (from lightkurve) (1.1.5)\n",
            "Collecting fbpca>=1.0\n",
            "  Downloading https://files.pythonhosted.org/packages/a7/a5/2085d0645a4bb4f0b606251b0b7466c61326e4a471d445c1c3761a2d07bc/fbpca-1.0.tar.gz\n",
            "Collecting astroquery>=0.3.10\n",
            "\u001b[?25l  Downloading https://files.pythonhosted.org/packages/1b/f8/4690523783691ed816b3469c3ec611af3798594d37ade510dd918d59f57e/astroquery-0.4.1.tar.gz (6.5MB)\n",
            "\u001b[K     |████████████████████████████████| 6.5MB 26.5MB/s \n",
            "\u001b[?25hRequirement already satisfied: matplotlib>=1.5.3 in /usr/local/lib/python3.6/dist-packages (from lightkurve) (3.2.2)\n",
            "Requirement already satisfied: numpy>=1.11 in /usr/local/lib/python3.6/dist-packages (from lightkurve) (1.19.5)\n",
            "Requirement already satisfied: numba>=0.39.0 in /usr/local/lib/python3.6/dist-packages (from lightkurve) (0.51.2)\n",
            "Requirement already satisfied: scipy>=0.19.0 in /usr/local/lib/python3.6/dist-packages (from lightkurve) (1.4.1)\n",
            "Requirement already satisfied: bokeh>=1.0 in /usr/local/lib/python3.6/dist-packages (from lightkurve) (2.1.1)\n",
            "Requirement already satisfied: tqdm>=4.25.0 in /usr/local/lib/python3.6/dist-packages (from lightkurve) (4.41.1)\n",
            "Requirement already satisfied: astropy>=4.1 in /usr/local/lib/python3.6/dist-packages (from lightkurve) (4.1)\n",
            "Requirement already satisfied: patsy>=0.5.0 in /usr/local/lib/python3.6/dist-packages (from lightkurve) (0.5.1)\n",
            "Requirement already satisfied: backcall in /usr/local/lib/python3.6/dist-packages (from ipython>=6.0.0->lightkurve) (0.2.0)\n",
            "Requirement already satisfied: traitlets>=4.2 in /usr/local/lib/python3.6/dist-packages (from ipython>=6.0.0->lightkurve) (4.3.3)\n",
            "Collecting prompt-toolkit!=3.0.0,!=3.0.1,<3.1.0,>=2.0.0\n",
            "\u001b[?25l  Downloading https://files.pythonhosted.org/packages/a6/0b/c6de29441b29f8b54d5bbe29a8b223de6e400714ff50e85541bd4c783421/prompt_toolkit-3.0.16-py3-none-any.whl (366kB)\n",
            "\u001b[K     |████████████████████████████████| 368kB 55.3MB/s \n",
            "\u001b[?25hRequirement already satisfied: jedi>=0.10 in /usr/local/lib/python3.6/dist-packages (from ipython>=6.0.0->lightkurve) (0.18.0)\n",
            "Requirement already satisfied: pickleshare in /usr/local/lib/python3.6/dist-packages (from ipython>=6.0.0->lightkurve) (0.7.5)\n",
            "Requirement already satisfied: setuptools>=18.5 in /usr/local/lib/python3.6/dist-packages (from ipython>=6.0.0->lightkurve) (53.0.0)\n",
            "Requirement already satisfied: pexpect; sys_platform != \"win32\" in /usr/local/lib/python3.6/dist-packages (from ipython>=6.0.0->lightkurve) (4.8.0)\n",
            "Requirement already satisfied: decorator in /usr/local/lib/python3.6/dist-packages (from ipython>=6.0.0->lightkurve) (4.4.2)\n",
            "Requirement already satisfied: pygments in /usr/local/lib/python3.6/dist-packages (from ipython>=6.0.0->lightkurve) (2.6.1)\n",
            "Requirement already satisfied: autograd in /usr/local/lib/python3.6/dist-packages (from oktopus<0.2.0,>=0.1.2->lightkurve) (1.3)\n",
            "Requirement already satisfied: urllib3<1.27,>=1.21.1 in /usr/local/lib/python3.6/dist-packages (from requests<3.0.0,>=2.25.0->lightkurve) (1.24.3)\n",
            "Requirement already satisfied: chardet<5,>=3.0.2 in /usr/local/lib/python3.6/dist-packages (from requests<3.0.0,>=2.25.0->lightkurve) (3.0.4)\n",
            "Requirement already satisfied: certifi>=2017.4.17 in /usr/local/lib/python3.6/dist-packages (from requests<3.0.0,>=2.25.0->lightkurve) (2020.12.5)\n",
            "Requirement already satisfied: idna<3,>=2.5 in /usr/local/lib/python3.6/dist-packages (from requests<3.0.0,>=2.25.0->lightkurve) (2.10)\n",
            "Requirement already satisfied: future in /usr/local/lib/python3.6/dist-packages (from uncertainties<4.0.0,>=3.1.4->lightkurve) (0.16.0)\n",
            "Collecting threadpoolctl>=2.0.0\n",
            "  Downloading https://files.pythonhosted.org/packages/f7/12/ec3f2e203afa394a149911729357aa48affc59c20e2c1c8297a60f33f133/threadpoolctl-2.1.0-py3-none-any.whl\n",
            "Requirement already satisfied: joblib>=0.11 in /usr/local/lib/python3.6/dist-packages (from scikit-learn>=0.24.0->lightkurve) (1.0.0)\n",
            "Requirement already satisfied: python-dateutil>=2.7.3 in /usr/local/lib/python3.6/dist-packages (from pandas<2.0.0,>=1.1.4->lightkurve) (2.8.1)\n",
            "Requirement already satisfied: pytz>=2017.2 in /usr/local/lib/python3.6/dist-packages (from pandas<2.0.0,>=1.1.4->lightkurve) (2018.9)\n",
            "Collecting keyring>=4.0\n",
            "  Downloading https://files.pythonhosted.org/packages/96/17/86e1e5b50dc14e5984a661dde2ed3b7f05efe1fdee32145a77708cf06904/keyring-22.0.1-py3-none-any.whl\n",
            "Requirement already satisfied: html5lib>=0.999 in /usr/local/lib/python3.6/dist-packages (from astroquery>=0.3.10->lightkurve) (1.0.1)\n",
            "Requirement already satisfied: six in /usr/local/lib/python3.6/dist-packages (from astroquery>=0.3.10->lightkurve) (1.15.0)\n",
            "Requirement already satisfied: pyparsing!=2.0.4,!=2.1.2,!=2.1.6,>=2.0.1 in /usr/local/lib/python3.6/dist-packages (from matplotlib>=1.5.3->lightkurve) (2.4.7)\n",
            "Requirement already satisfied: cycler>=0.10 in /usr/local/lib/python3.6/dist-packages (from matplotlib>=1.5.3->lightkurve) (0.10.0)\n",
            "Requirement already satisfied: kiwisolver>=1.0.1 in /usr/local/lib/python3.6/dist-packages (from matplotlib>=1.5.3->lightkurve) (1.3.1)\n",
            "Requirement already satisfied: llvmlite<0.35,>=0.34.0.dev0 in /usr/local/lib/python3.6/dist-packages (from numba>=0.39.0->lightkurve) (0.34.0)\n",
            "Requirement already satisfied: pillow>=4.0 in /usr/local/lib/python3.6/dist-packages (from bokeh>=1.0->lightkurve) (7.0.0)\n",
            "Requirement already satisfied: packaging>=16.8 in /usr/local/lib/python3.6/dist-packages (from bokeh>=1.0->lightkurve) (20.9)\n",
            "Requirement already satisfied: typing-extensions>=3.7.4 in /usr/local/lib/python3.6/dist-packages (from bokeh>=1.0->lightkurve) (3.7.4.3)\n",
            "Requirement already satisfied: PyYAML>=3.10 in /usr/local/lib/python3.6/dist-packages (from bokeh>=1.0->lightkurve) (3.13)\n",
            "Requirement already satisfied: Jinja2>=2.7 in /usr/local/lib/python3.6/dist-packages (from bokeh>=1.0->lightkurve) (2.11.3)\n",
            "Requirement already satisfied: tornado>=5.1 in /usr/local/lib/python3.6/dist-packages (from bokeh>=1.0->lightkurve) (5.1.1)\n",
            "Requirement already satisfied: ipython-genutils in /usr/local/lib/python3.6/dist-packages (from traitlets>=4.2->ipython>=6.0.0->lightkurve) (0.2.0)\n",
            "Requirement already satisfied: wcwidth in /usr/local/lib/python3.6/dist-packages (from prompt-toolkit!=3.0.0,!=3.0.1,<3.1.0,>=2.0.0->ipython>=6.0.0->lightkurve) (0.2.5)\n",
            "Requirement already satisfied: parso<0.9.0,>=0.8.0 in /usr/local/lib/python3.6/dist-packages (from jedi>=0.10->ipython>=6.0.0->lightkurve) (0.8.1)\n",
            "Requirement already satisfied: ptyprocess>=0.5 in /usr/local/lib/python3.6/dist-packages (from pexpect; sys_platform != \"win32\"->ipython>=6.0.0->lightkurve) (0.7.0)\n",
            "Requirement already satisfied: importlib-metadata>=1; python_version < \"3.8\" in /usr/local/lib/python3.6/dist-packages (from keyring>=4.0->astroquery>=0.3.10->lightkurve) (3.4.0)\n",
            "Collecting jeepney>=0.4.2; sys_platform == \"linux\"\n",
            "\u001b[?25l  Downloading https://files.pythonhosted.org/packages/51/b0/a6ea72741aaac3f37fb96d195e4ee576a103c4c04e279bc6b446a70960e1/jeepney-0.6.0-py3-none-any.whl (45kB)\n",
            "\u001b[K     |████████████████████████████████| 51kB 8.8MB/s \n",
            "\u001b[?25hCollecting SecretStorage>=3.2; sys_platform == \"linux\"\n",
            "  Downloading https://files.pythonhosted.org/packages/d9/1e/29cd69fdac7391aa51510dfd42aa70b4e6a826c8cd019ee2a8ab9ec0777f/SecretStorage-3.3.1-py3-none-any.whl\n",
            "Requirement already satisfied: webencodings in /usr/local/lib/python3.6/dist-packages (from html5lib>=0.999->astroquery>=0.3.10->lightkurve) (0.5.1)\n",
            "Requirement already satisfied: MarkupSafe>=0.23 in /usr/local/lib/python3.6/dist-packages (from Jinja2>=2.7->bokeh>=1.0->lightkurve) (1.1.1)\n",
            "Requirement already satisfied: zipp>=0.5 in /usr/local/lib/python3.6/dist-packages (from importlib-metadata>=1; python_version < \"3.8\"->keyring>=4.0->astroquery>=0.3.10->lightkurve) (3.4.0)\n",
            "Collecting cryptography>=2.0\n",
            "\u001b[?25l  Downloading https://files.pythonhosted.org/packages/f8/1f/acde6ff69864c5e78b56488e3afd93c1ccc8c2651186e2a5f93d93f64859/cryptography-3.4.6-cp36-abi3-manylinux2014_x86_64.whl (3.2MB)\n",
            "\u001b[K     |████████████████████████████████| 3.2MB 41.7MB/s \n",
            "\u001b[?25hRequirement already satisfied: cffi>=1.12 in /usr/local/lib/python3.6/dist-packages (from cryptography>=2.0->SecretStorage>=3.2; sys_platform == \"linux\"->keyring>=4.0->astroquery>=0.3.10->lightkurve) (1.14.4)\n",
            "Requirement already satisfied: pycparser in /usr/local/lib/python3.6/dist-packages (from cffi>=1.12->cryptography>=2.0->SecretStorage>=3.2; sys_platform == \"linux\"->keyring>=4.0->astroquery>=0.3.10->lightkurve) (2.20)\n",
            "Building wheels for collected packages: oktopus, fbpca, astroquery\n",
            "  Building wheel for oktopus (setup.py) ... \u001b[?25l\u001b[?25hdone\n",
            "  Created wheel for oktopus: filename=oktopus-0.1.2-cp36-none-any.whl size=12779 sha256=9b741cbd600bc3f56f52916c52a33a24ee574fe804ba12d73031592927b64b6b\n",
            "  Stored in directory: /root/.cache/pip/wheels/9b/90/81/098fc66ee56166d63c9a8fc0a9672ae7b3423396a588ec952a\n",
            "  Building wheel for fbpca (setup.py) ... \u001b[?25l\u001b[?25hdone\n",
            "  Created wheel for fbpca: filename=fbpca-1.0-cp36-none-any.whl size=11377 sha256=a92f11c756bdf2c1eb85b625d8d3be6850446cba01a44f0a21f9438ee4544222\n",
            "  Stored in directory: /root/.cache/pip/wheels/53/a2/dd/9b66cf53dbc58cec1e613d216689e5fa946d3e7805c30f60dc\n",
            "  Building wheel for astroquery (setup.py) ... \u001b[?25l\u001b[?25hdone\n",
            "  Created wheel for astroquery: filename=astroquery-0.4.1-cp36-none-any.whl size=3831873 sha256=e312c96d3101df70a3b8c9cc0a0099278f26ba7188842ae58ffbe8b1d0e3fbc0\n",
            "  Stored in directory: /root/.cache/pip/wheels/88/f8/b7/a254cd96e808f708bc0b7d755a8e095c56fbbe94099d7b464f\n",
            "Successfully built oktopus fbpca astroquery\n",
            "\u001b[31mERROR: jupyter-console 5.2.0 has requirement prompt-toolkit<2.0.0,>=1.0.0, but you'll have prompt-toolkit 3.0.16 which is incompatible.\u001b[0m\n",
            "\u001b[31mERROR: google-colab 1.0.0 has requirement ipython~=5.5.0, but you'll have ipython 7.16.1 which is incompatible.\u001b[0m\n",
            "\u001b[31mERROR: google-colab 1.0.0 has requirement requests~=2.23.0, but you'll have requests 2.25.1 which is incompatible.\u001b[0m\n",
            "\u001b[31mERROR: datascience 0.10.6 has requirement folium==0.2.1, but you'll have folium 0.8.3 which is incompatible.\u001b[0m\n",
            "Installing collected packages: memoization, prompt-toolkit, ipython, oktopus, requests, uncertainties, threadpoolctl, scikit-learn, fbpca, jeepney, cryptography, SecretStorage, keyring, astroquery, lightkurve\n",
            "  Found existing installation: prompt-toolkit 1.0.18\n",
            "    Uninstalling prompt-toolkit-1.0.18:\n",
            "      Successfully uninstalled prompt-toolkit-1.0.18\n",
            "  Found existing installation: ipython 5.5.0\n",
            "    Uninstalling ipython-5.5.0:\n",
            "      Successfully uninstalled ipython-5.5.0\n",
            "  Found existing installation: requests 2.23.0\n",
            "    Uninstalling requests-2.23.0:\n",
            "      Successfully uninstalled requests-2.23.0\n",
            "  Found existing installation: scikit-learn 0.22.2.post1\n",
            "    Uninstalling scikit-learn-0.22.2.post1:\n",
            "      Successfully uninstalled scikit-learn-0.22.2.post1\n",
            "Successfully installed SecretStorage-3.3.1 astroquery-0.4.1 cryptography-3.4.6 fbpca-1.0 ipython-7.16.1 jeepney-0.6.0 keyring-22.0.1 lightkurve-2.0.0 memoization-0.3.2 oktopus-0.1.2 prompt-toolkit-3.0.16 requests-2.25.1 scikit-learn-0.24.1 threadpoolctl-2.1.0 uncertainties-3.1.5\n"
          ],
          "name": "stdout"
        },
        {
          "output_type": "display_data",
          "data": {
            "application/vnd.colab-display-data+json": {
              "pip_warning": {
                "packages": [
                  "IPython",
                  "prompt_toolkit"
                ]
              }
            }
          },
          "metadata": {
            "tags": []
          }
        },
        {
          "output_type": "stream",
          "text": [
            "Requirement already satisfied: astroquery in /usr/local/lib/python3.6/dist-packages (0.4.1)\n",
            "Requirement already satisfied: numpy in /usr/local/lib/python3.6/dist-packages (from astroquery) (1.19.5)\n",
            "Requirement already satisfied: requests>=2.4.3 in /usr/local/lib/python3.6/dist-packages (from astroquery) (2.25.1)\n",
            "Requirement already satisfied: keyring>=4.0 in /usr/local/lib/python3.6/dist-packages (from astroquery) (22.0.1)\n",
            "Requirement already satisfied: six in /usr/local/lib/python3.6/dist-packages (from astroquery) (1.15.0)\n",
            "Requirement already satisfied: beautifulsoup4>=4.3.2 in /usr/local/lib/python3.6/dist-packages (from astroquery) (4.6.3)\n",
            "Requirement already satisfied: astropy>=3.1 in /usr/local/lib/python3.6/dist-packages (from astroquery) (4.1)\n",
            "Requirement already satisfied: html5lib>=0.999 in /usr/local/lib/python3.6/dist-packages (from astroquery) (1.0.1)\n",
            "Requirement already satisfied: chardet<5,>=3.0.2 in /usr/local/lib/python3.6/dist-packages (from requests>=2.4.3->astroquery) (3.0.4)\n",
            "Requirement already satisfied: certifi>=2017.4.17 in /usr/local/lib/python3.6/dist-packages (from requests>=2.4.3->astroquery) (2020.12.5)\n",
            "Requirement already satisfied: urllib3<1.27,>=1.21.1 in /usr/local/lib/python3.6/dist-packages (from requests>=2.4.3->astroquery) (1.24.3)\n",
            "Requirement already satisfied: idna<3,>=2.5 in /usr/local/lib/python3.6/dist-packages (from requests>=2.4.3->astroquery) (2.10)\n",
            "Requirement already satisfied: importlib-metadata>=1; python_version < \"3.8\" in /usr/local/lib/python3.6/dist-packages (from keyring>=4.0->astroquery) (3.4.0)\n",
            "Requirement already satisfied: jeepney>=0.4.2; sys_platform == \"linux\" in /usr/local/lib/python3.6/dist-packages (from keyring>=4.0->astroquery) (0.6.0)\n",
            "Requirement already satisfied: SecretStorage>=3.2; sys_platform == \"linux\" in /usr/local/lib/python3.6/dist-packages (from keyring>=4.0->astroquery) (3.3.1)\n",
            "Requirement already satisfied: webencodings in /usr/local/lib/python3.6/dist-packages (from html5lib>=0.999->astroquery) (0.5.1)\n",
            "Requirement already satisfied: zipp>=0.5 in /usr/local/lib/python3.6/dist-packages (from importlib-metadata>=1; python_version < \"3.8\"->keyring>=4.0->astroquery) (3.4.0)\n",
            "Requirement already satisfied: typing-extensions>=3.6.4; python_version < \"3.8\" in /usr/local/lib/python3.6/dist-packages (from importlib-metadata>=1; python_version < \"3.8\"->keyring>=4.0->astroquery) (3.7.4.3)\n",
            "Requirement already satisfied: cryptography>=2.0 in /usr/local/lib/python3.6/dist-packages (from SecretStorage>=3.2; sys_platform == \"linux\"->keyring>=4.0->astroquery) (3.4.6)\n",
            "Requirement already satisfied: cffi>=1.12 in /usr/local/lib/python3.6/dist-packages (from cryptography>=2.0->SecretStorage>=3.2; sys_platform == \"linux\"->keyring>=4.0->astroquery) (1.14.4)\n",
            "Requirement already satisfied: pycparser in /usr/local/lib/python3.6/dist-packages (from cffi>=1.12->cryptography>=2.0->SecretStorage>=3.2; sys_platform == \"linux\"->keyring>=4.0->astroquery) (2.20)\n",
            "Requirement already satisfied: matplotlib in /usr/local/lib/python3.6/dist-packages (3.2.2)\n",
            "Requirement already satisfied: python-dateutil>=2.1 in /usr/local/lib/python3.6/dist-packages (from matplotlib) (2.8.1)\n",
            "Requirement already satisfied: kiwisolver>=1.0.1 in /usr/local/lib/python3.6/dist-packages (from matplotlib) (1.3.1)\n",
            "Requirement already satisfied: pyparsing!=2.0.4,!=2.1.2,!=2.1.6,>=2.0.1 in /usr/local/lib/python3.6/dist-packages (from matplotlib) (2.4.7)\n",
            "Requirement already satisfied: cycler>=0.10 in /usr/local/lib/python3.6/dist-packages (from matplotlib) (0.10.0)\n",
            "Requirement already satisfied: numpy>=1.11 in /usr/local/lib/python3.6/dist-packages (from matplotlib) (1.19.5)\n",
            "Requirement already satisfied: six>=1.5 in /usr/local/lib/python3.6/dist-packages (from python-dateutil>=2.1->matplotlib) (1.15.0)\n",
            "Requirement already satisfied: numpy in /usr/local/lib/python3.6/dist-packages (1.19.5)\n",
            "Requirement already satisfied: scipy in /usr/local/lib/python3.6/dist-packages (1.4.1)\n",
            "Requirement already satisfied: numpy>=1.13.3 in /usr/local/lib/python3.6/dist-packages (from scipy) (1.19.5)\n",
            "Requirement already satisfied: pandas in /usr/local/lib/python3.6/dist-packages (1.1.5)\n",
            "Requirement already satisfied: pytz>=2017.2 in /usr/local/lib/python3.6/dist-packages (from pandas) (2018.9)\n",
            "Requirement already satisfied: python-dateutil>=2.7.3 in /usr/local/lib/python3.6/dist-packages (from pandas) (2.8.1)\n",
            "Requirement already satisfied: numpy>=1.15.4 in /usr/local/lib/python3.6/dist-packages (from pandas) (1.19.5)\n",
            "Requirement already satisfied: six>=1.5 in /usr/local/lib/python3.6/dist-packages (from python-dateutil>=2.7.3->pandas) (1.15.0)\n",
            "Requirement already satisfied: tensorflow in /usr/local/lib/python3.6/dist-packages (2.4.1)\n",
            "Requirement already satisfied: tensorboard~=2.4 in /usr/local/lib/python3.6/dist-packages (from tensorflow) (2.4.1)\n",
            "Requirement already satisfied: keras-preprocessing~=1.1.2 in /usr/local/lib/python3.6/dist-packages (from tensorflow) (1.1.2)\n",
            "Requirement already satisfied: opt-einsum~=3.3.0 in /usr/local/lib/python3.6/dist-packages (from tensorflow) (3.3.0)\n",
            "Requirement already satisfied: absl-py~=0.10 in /usr/local/lib/python3.6/dist-packages (from tensorflow) (0.10.0)\n",
            "Requirement already satisfied: typing-extensions~=3.7.4 in /usr/local/lib/python3.6/dist-packages (from tensorflow) (3.7.4.3)\n",
            "Requirement already satisfied: gast==0.3.3 in /usr/local/lib/python3.6/dist-packages (from tensorflow) (0.3.3)\n",
            "Requirement already satisfied: protobuf>=3.9.2 in /usr/local/lib/python3.6/dist-packages (from tensorflow) (3.12.4)\n",
            "Requirement already satisfied: tensorflow-estimator<2.5.0,>=2.4.0 in /usr/local/lib/python3.6/dist-packages (from tensorflow) (2.4.0)\n",
            "Requirement already satisfied: flatbuffers~=1.12.0 in /usr/local/lib/python3.6/dist-packages (from tensorflow) (1.12)\n",
            "Requirement already satisfied: numpy~=1.19.2 in /usr/local/lib/python3.6/dist-packages (from tensorflow) (1.19.5)\n",
            "Requirement already satisfied: google-pasta~=0.2 in /usr/local/lib/python3.6/dist-packages (from tensorflow) (0.2.0)\n",
            "Requirement already satisfied: grpcio~=1.32.0 in /usr/local/lib/python3.6/dist-packages (from tensorflow) (1.32.0)\n",
            "Requirement already satisfied: six~=1.15.0 in /usr/local/lib/python3.6/dist-packages (from tensorflow) (1.15.0)\n",
            "Requirement already satisfied: h5py~=2.10.0 in /usr/local/lib/python3.6/dist-packages (from tensorflow) (2.10.0)\n",
            "Requirement already satisfied: termcolor~=1.1.0 in /usr/local/lib/python3.6/dist-packages (from tensorflow) (1.1.0)\n",
            "Requirement already satisfied: wheel~=0.35 in /usr/local/lib/python3.6/dist-packages (from tensorflow) (0.36.2)\n",
            "Requirement already satisfied: astunparse~=1.6.3 in /usr/local/lib/python3.6/dist-packages (from tensorflow) (1.6.3)\n",
            "Requirement already satisfied: wrapt~=1.12.1 in /usr/local/lib/python3.6/dist-packages (from tensorflow) (1.12.1)\n",
            "Requirement already satisfied: markdown>=2.6.8 in /usr/local/lib/python3.6/dist-packages (from tensorboard~=2.4->tensorflow) (3.3.3)\n",
            "Requirement already satisfied: google-auth<2,>=1.6.3 in /usr/local/lib/python3.6/dist-packages (from tensorboard~=2.4->tensorflow) (1.25.0)\n",
            "Requirement already satisfied: setuptools>=41.0.0 in /usr/local/lib/python3.6/dist-packages (from tensorboard~=2.4->tensorflow) (53.0.0)\n",
            "Requirement already satisfied: requests<3,>=2.21.0 in /usr/local/lib/python3.6/dist-packages (from tensorboard~=2.4->tensorflow) (2.25.1)\n",
            "Requirement already satisfied: tensorboard-plugin-wit>=1.6.0 in /usr/local/lib/python3.6/dist-packages (from tensorboard~=2.4->tensorflow) (1.8.0)\n",
            "Requirement already satisfied: google-auth-oauthlib<0.5,>=0.4.1 in /usr/local/lib/python3.6/dist-packages (from tensorboard~=2.4->tensorflow) (0.4.2)\n",
            "Requirement already satisfied: werkzeug>=0.11.15 in /usr/local/lib/python3.6/dist-packages (from tensorboard~=2.4->tensorflow) (1.0.1)\n",
            "Requirement already satisfied: importlib-metadata; python_version < \"3.8\" in /usr/local/lib/python3.6/dist-packages (from markdown>=2.6.8->tensorboard~=2.4->tensorflow) (3.4.0)\n",
            "Requirement already satisfied: pyasn1-modules>=0.2.1 in /usr/local/lib/python3.6/dist-packages (from google-auth<2,>=1.6.3->tensorboard~=2.4->tensorflow) (0.2.8)\n",
            "Requirement already satisfied: cachetools<5.0,>=2.0.0 in /usr/local/lib/python3.6/dist-packages (from google-auth<2,>=1.6.3->tensorboard~=2.4->tensorflow) (4.2.1)\n",
            "Requirement already satisfied: rsa<5,>=3.1.4; python_version >= \"3.6\" in /usr/local/lib/python3.6/dist-packages (from google-auth<2,>=1.6.3->tensorboard~=2.4->tensorflow) (4.7)\n",
            "Requirement already satisfied: urllib3<1.27,>=1.21.1 in /usr/local/lib/python3.6/dist-packages (from requests<3,>=2.21.0->tensorboard~=2.4->tensorflow) (1.24.3)\n",
            "Requirement already satisfied: chardet<5,>=3.0.2 in /usr/local/lib/python3.6/dist-packages (from requests<3,>=2.21.0->tensorboard~=2.4->tensorflow) (3.0.4)\n",
            "Requirement already satisfied: idna<3,>=2.5 in /usr/local/lib/python3.6/dist-packages (from requests<3,>=2.21.0->tensorboard~=2.4->tensorflow) (2.10)\n",
            "Requirement already satisfied: certifi>=2017.4.17 in /usr/local/lib/python3.6/dist-packages (from requests<3,>=2.21.0->tensorboard~=2.4->tensorflow) (2020.12.5)\n",
            "Requirement already satisfied: requests-oauthlib>=0.7.0 in /usr/local/lib/python3.6/dist-packages (from google-auth-oauthlib<0.5,>=0.4.1->tensorboard~=2.4->tensorflow) (1.3.0)\n",
            "Requirement already satisfied: zipp>=0.5 in /usr/local/lib/python3.6/dist-packages (from importlib-metadata; python_version < \"3.8\"->markdown>=2.6.8->tensorboard~=2.4->tensorflow) (3.4.0)\n",
            "Requirement already satisfied: pyasn1<0.5.0,>=0.4.6 in /usr/local/lib/python3.6/dist-packages (from pyasn1-modules>=0.2.1->google-auth<2,>=1.6.3->tensorboard~=2.4->tensorflow) (0.4.8)\n",
            "Requirement already satisfied: oauthlib>=3.0.0 in /usr/local/lib/python3.6/dist-packages (from requests-oauthlib>=0.7.0->google-auth-oauthlib<0.5,>=0.4.1->tensorboard~=2.4->tensorflow) (3.1.0)\n",
            "Requirement already satisfied: astropy in /usr/local/lib/python3.6/dist-packages (4.1)\n",
            "Requirement already satisfied: numpy>=1.16 in /usr/local/lib/python3.6/dist-packages (from astropy) (1.19.5)\n"
          ],
          "name": "stdout"
        }
      ]
    },
    {
      "cell_type": "code",
      "metadata": {
        "id": "7shLojBNXI3W"
      },
      "source": [
        "import lightkurve as lk\n",
        "from astropy.io import fits\n",
        "from matplotlib import pyplot as plt\n",
        "import numpy as np\n",
        "from sklearn.model_selection import train_test_split\n",
        "from sklearn.linear_model import LinearRegression\n",
        "from sklearn.metrics import r2_score\n",
        "import math\n",
        "import scipy\n",
        "import pandas as pd \n",
        "from scipy import interpolate\n",
        "#tf\n",
        "from __future__ import absolute_import, division, print_function, unicode_literals\n",
        "import tensorflow as tf\n",
        "from tensorflow import keras\n",
        "from tensorflow.keras import datasets, layers, models"
      ],
      "execution_count": 2,
      "outputs": []
    },
    {
      "cell_type": "code",
      "metadata": {
        "colab": {
          "base_uri": "https://localhost:8080/"
        },
        "id": "DLHab7V3XP4i",
        "outputId": "b7e93a2a-e186-4424-ed31-2ab0673f4550"
      },
      "source": [
        "from google.colab import drive\n",
        "drive.mount('/content/drive')"
      ],
      "execution_count": 3,
      "outputs": [
        {
          "output_type": "stream",
          "text": [
            "Mounted at /content/drive\n"
          ],
          "name": "stdout"
        }
      ]
    },
    {
      "cell_type": "code",
      "metadata": {
        "id": "5ZKcFyGfXQaX"
      },
      "source": [
        "#Cycles\n",
        "    #21\n",
        "        #cycle_21 = []\n",
        "        \n",
        "        #Start 1 March 1976\n",
        "        #End 1 September 1986\n",
        "        \n",
        "    #22\n",
        "        #cycle_22 = [2446674.5,2450296.5]\n",
        "        \n",
        "        #Start: 1 September 1986 2446674.5\n",
        "        #End: 1 August 1996 2450296.5\n",
        "        \n",
        "    #23\n",
        "cycle_23 = [2450296.5,2454801.5]\n",
        "        \n",
        "        #Start: 1 August 1996 2450296.5\n",
        "        #End: 1 December 2008 2454801.5\n",
        "        \n",
        "    #24\n",
        "cycle_24 = [2454801.5,2458940.5]\n",
        "        \n",
        "        #Start: 1 December 2008 2454801.5\n",
        "        #End: 1 May 2020 2458970.5\n",
        "        #NOTE: Due to dataset limitation, only analyzed up to 2458940.5\n",
        "        "
      ],
      "execution_count": 4,
      "outputs": []
    },
    {
      "cell_type": "markdown",
      "metadata": {
        "id": "sGSkrknqYIxF"
      },
      "source": [
        "# Surface Velocity"
      ]
    },
    {
      "cell_type": "code",
      "metadata": {
        "colab": {
          "base_uri": "https://localhost:8080/"
        },
        "id": "kH9U4qZyXcsv",
        "outputId": "bdda81ce-e067-43a1-f6f9-866ed782fc88"
      },
      "source": [
        "#hdul = fits.open('data/allsites-alldata-waverage-fill.fits')\n",
        "hdul = fits.open('/content/drive/MyDrive/Korea Research - Yihong Song and Rohit Prasanna/DSHS & AOS Physics Research Collaboration 2020/Project/Jr:Sr Project/allsites-alldata-waverage-fill.fits')\n",
        "\n",
        "hdul.info()\n",
        "\n",
        "tsdata = hdul[0].data\n",
        "#         SIMPLE  =                    T / Written by IDL:  Tue Jan 19 11:22:20 2016      \n",
        "#         BITPIX  =                  -64 /Real*8 (double precision)                       \n",
        "#         NAXIS   =                    2 /                                                \n",
        "#         NAXIS1  =                    2 /                                                \n",
        "#         NAXIS2  =             24455519 /                                                \n",
        "DSTART =        2442778.50000 #Data start (Julian)      1/1/1976 0:00:00                        \n",
        "DEND   =        2458940.50000 #Data end (Julian)        4/1/2020 0:00:00                       \n",
        "#         STATIONS= 'na ca cb su iz la lb mo' /Stations Used                              \n",
        "#         METHOD  = 'waverage'           /Overlap Method                                  \n",
        "#         CADENCE = '40      '           /Timeseries Cadence                              \n",
        "#         N-THRES =                   80 /Noise Rejection Threshold                       \n",
        "#         GAPFILL =                    1 /GapFill                                         \n",
        "#         FILL    =             0.638866 /Duty Cycle   \n",
        "#\n",
        "#         ~2160 datapoints per day"
      ],
      "execution_count": 5,
      "outputs": [
        {
          "output_type": "stream",
          "text": [
            "Filename: /content/drive/MyDrive/Korea Research - Yihong Song and Rohit Prasanna/DSHS & AOS Physics Research Collaboration 2020/Project/Jr:Sr Project/allsites-alldata-waverage-fill.fits\n",
            "No.    Name      Ver    Type      Cards   Dimensions   Format\n",
            "  0  PRIMARY       1 PrimaryHDU      15   (2, 34909918)   float64   \n"
          ],
          "name": "stdout"
        }
      ]
    },
    {
      "cell_type": "code",
      "metadata": {
        "id": "jodTHElTX93F"
      },
      "source": [
        "def getSV(cycle):\n",
        "    #Subtract starting date\n",
        "    cycle = np.subtract(cycle,DSTART)\n",
        "    \n",
        "    #multiply by 2160 (2160 datapoints per day)\n",
        "    cycle = np.multiply(cycle,2160)\n",
        "    \n",
        "    return tsdata[int(cycle[0]):int(cycle[1])].T[1]"
      ],
      "execution_count": 6,
      "outputs": []
    },
    {
      "cell_type": "code",
      "metadata": {
        "id": "kTYNLJheYDEN"
      },
      "source": [
        "def getSV_index(cycle):\n",
        "    #Subtract starting date\n",
        "    cycle = np.subtract(cycle,DSTART)\n",
        "    \n",
        "    #multiply by 2160 (2160 datapoints per day)\n",
        "    cycle = np.multiply(cycle,2160)\n",
        "    \n",
        "    return tsdata[int(cycle[0]):int(cycle[1])].T[0]"
      ],
      "execution_count": 7,
      "outputs": []
    },
    {
      "cell_type": "code",
      "metadata": {
        "colab": {
          "base_uri": "https://localhost:8080/"
        },
        "id": "y1sX2qHVYEED",
        "outputId": "2858284b-95f1-4a56-d827-b5371a021ac2"
      },
      "source": [
        "print(getSV(cycle_23))\n",
        "print(getSV_index(cycle_23))"
      ],
      "execution_count": 8,
      "outputs": [
        {
          "output_type": "stream",
          "text": [
            "[ 0.52007627  0.87248993  0.11934945 ...  0.25079036 -1.0275805\n",
            " -0.95429337]\n",
            "[2450296.50033958 2450296.50080254 2450296.50126551 ... 2454801.49915418\n",
            " 2454801.49961714 2454801.50008011]\n"
          ],
          "name": "stdout"
        }
      ]
    },
    {
      "cell_type": "markdown",
      "metadata": {
        "id": "wfFK4UnCYMwN"
      },
      "source": [
        "# Sunspot Number"
      ]
    },
    {
      "cell_type": "code",
      "metadata": {
        "id": "z-srS4JVYFLy"
      },
      "source": [
        "#sunspot_Day = np.genfromtxt('data/SN_d_tot_V2.0.csv',delimiter=';')\n",
        "sunspot_Day = np.genfromtxt('/content/drive/MyDrive/Korea Research - Yihong Song and Rohit Prasanna/DSHS & AOS Physics Research Collaboration 2020/Project/Jr:Sr Project/SN_d_tot_V2.0.csv',delimiter=';')\n",
        "SNSTART_Day = 2385070.5\n",
        "SNEND_day = 2459000.5\n",
        "\n",
        "#sunspot_Month = np.genfromtxt('data/SN_ms_tot_V2.0.csv',delimiter=';')\n",
        "sunspot_Month = np.genfromtxt('/content/drive/MyDrive/Korea Research - Yihong Song and Rohit Prasanna/DSHS & AOS Physics Research Collaboration 2020/Project/Jr:Sr Project/SN_ms_tot_V2.0.csv',delimiter=';')\n",
        "sunspot_Month = sunspot_Month[828:]"
      ],
      "execution_count": 9,
      "outputs": []
    },
    {
      "cell_type": "code",
      "metadata": {
        "id": "6EqN00fdYPiu"
      },
      "source": [
        "def getSN_Day(cycle):\n",
        "    if cycle[1] >= SNEND_day:\n",
        "        cycle[1] = SNEND_day\n",
        "    cycle = np.subtract(cycle, SNSTART_Day)\n",
        "    sn = sunspot_Day.T[4][int(cycle[0]):int(cycle[1])]\n",
        "    \n",
        "    npout = [[0,0]]\n",
        "    for i in range(len(sn)):\n",
        "        npout = np.append(npout,[[i+SNSTART_Day+cycle[0],sn[i]]],0)\n",
        "    npout = npout[1:]\n",
        "    return npout"
      ],
      "execution_count": 10,
      "outputs": []
    },
    {
      "cell_type": "code",
      "metadata": {
        "id": "PO-bkCcmYRFk"
      },
      "source": [
        "def getSNAverage(cycle,length):\n",
        "    \n",
        "    npout = [[0,0]]\n",
        "    total = 0\n",
        "    valid_count = 0\n",
        "    start = cycle[0][0]\n",
        "    for i in range(len(cycle)):\n",
        "        if cycle[i][1] >= 0:\n",
        "            total += cycle[i][1]\n",
        "            valid_count += 1\n",
        "        if (i+1) % length < 1 or i == len(cycle)-1:\n",
        "            npout = np.append(npout,[[start,total/valid_count]],0)\n",
        "            total = 0\n",
        "            valid_count = 0\n",
        "            if i == len(cycle)-1:\n",
        "                break\n",
        "            start = cycle[i+1][0]\n",
        "    npout = npout[1:]\n",
        "    return npout"
      ],
      "execution_count": 11,
      "outputs": []
    },
    {
      "cell_type": "code",
      "metadata": {
        "colab": {
          "base_uri": "https://localhost:8080/"
        },
        "id": "tA4IeAc6YSDM",
        "outputId": "c812fb80-f147-4c3e-b5f2-a21c5bce8d00"
      },
      "source": [
        "getSN_Day(cycle_23)"
      ],
      "execution_count": 12,
      "outputs": [
        {
          "output_type": "execute_result",
          "data": {
            "text/plain": [
              "array([[2.4502965e+06, 2.6000000e+01],\n",
              "       [2.4502975e+06, 3.1000000e+01],\n",
              "       [2.4502985e+06, 3.1000000e+01],\n",
              "       ...,\n",
              "       [2.4547985e+06, 0.0000000e+00],\n",
              "       [2.4547995e+06, 0.0000000e+00],\n",
              "       [2.4548005e+06, 0.0000000e+00]])"
            ]
          },
          "metadata": {
            "tags": []
          },
          "execution_count": 12
        }
      ]
    },
    {
      "cell_type": "code",
      "metadata": {
        "colab": {
          "base_uri": "https://localhost:8080/"
        },
        "id": "Dns0zisTYTMz",
        "outputId": "2e1cdc8b-bff8-44bb-8759-7ed7b8540e67"
      },
      "source": [
        "getSNAverage(getSN_Day(cycle_23),365)"
      ],
      "execution_count": 13,
      "outputs": [
        {
          "output_type": "execute_result",
          "data": {
            "text/plain": [
              "array([[2.45029650e+06, 1.45643836e+01],\n",
              "       [2.45066150e+06, 6.19232877e+01],\n",
              "       [2.45102650e+06, 1.21704110e+02],\n",
              "       [2.45139150e+06, 1.69175342e+02],\n",
              "       [2.45175650e+06, 1.53487671e+02],\n",
              "       [2.45212150e+06, 1.78747945e+02],\n",
              "       [2.45248650e+06, 1.29030137e+02],\n",
              "       [2.45285150e+06, 7.85397260e+01],\n",
              "       [2.45321650e+06, 5.33808219e+01],\n",
              "       [2.45358150e+06, 3.17945205e+01],\n",
              "       [2.45394650e+06, 1.95780822e+01],\n",
              "       [2.45431150e+06, 6.09041096e+00],\n",
              "       [2.45467650e+06, 2.98400000e+00]])"
            ]
          },
          "metadata": {
            "tags": []
          },
          "execution_count": 13
        }
      ]
    },
    {
      "cell_type": "markdown",
      "metadata": {
        "id": "XiwYhOmpYXsw"
      },
      "source": [
        "# Preprocessing\n"
      ]
    },
    {
      "cell_type": "code",
      "metadata": {
        "id": "2neuAkQrYZwi"
      },
      "source": [
        "def getPeriodogram(time,freq):\n",
        "    lc = lk.LightCurve(time=time.tolist(),flux=freq.tolist())\n",
        "    lc = lc.remove_nans()\n",
        "    pg = lc.to_periodogram(method='lombscargle', normalization='psd',minimum_frequency=1000, maximum_frequency=5000)\n",
        "    #ax = pg.plot()\n",
        "    pg_data = pg.to_table()\n",
        "    data = np.array(pg_data['power']).T#.tolist()\n",
        "\n",
        "\n",
        "    # pg.smooth(method='boxkernel', filter_width=1.)#.plot(ax=ax, label='Smoothed', c='red', lw=2)\n",
        "    # #ax.axvline(pg.frequency_at_max_power.value, lw=2, ls='dashed')\n",
        "    # snr = pg.flatten()\n",
        "    # seis = snr.to_seismology()\n",
        "    # numax = seis.estimate_numax()\n",
        "    # numax = float(str(numax)[0:7])\n",
        "    return data"
      ],
      "execution_count": 29,
      "outputs": []
    },
    {
      "cell_type": "code",
      "metadata": {
        "id": "xj-nwd5IYgnG"
      },
      "source": [
        "pg = getPeriodogram(getSV_index(cycle_23)[110000:120000],getSV(cycle_23)[110000:120000])"
      ],
      "execution_count": 30,
      "outputs": []
    },
    {
      "cell_type": "code",
      "metadata": {
        "colab": {
          "base_uri": "https://localhost:8080/"
        },
        "id": "dCevb53xaN-x",
        "outputId": "059cf5fc-1d77-4da1-849d-7f2ba1777161"
      },
      "source": [
        "print(pg[0:5])"
      ],
      "execution_count": 31,
      "outputs": [
        {
          "output_type": "stream",
          "text": [
            "[9.43163103e-06 9.01683009e-06 9.53623339e-05 4.53297555e-05\n",
            " 6.06767015e-05]\n"
          ],
          "name": "stdout"
        }
      ]
    },
    {
      "cell_type": "code",
      "metadata": {
        "id": "TP73XJJRxoBq"
      },
      "source": [
        "#Debug\n",
        "# time,freq,length,interval = getSV_index(cycle_23),getSV(cycle_23),182.5,91.25\n",
        "\n",
        "# length = int(length * 2160)\n",
        "# interval = int(interval * 2160)\n",
        "# #npout = [[0,0]]\n",
        "# check = True\n",
        "# for start in range(0,len(time),interval):\n",
        "#     if start + length >= len(time):\n",
        "#         length = len(time) - start\n",
        "#     if check:\n",
        "#       check = False\n",
        "#       npout1d = np.array([getPeriodogram(time[start:start+length],freq[start:start+length])])\n",
        "#     else:\n",
        "#       temp = np.array([getPeriodogram(time[start:start+length],freq[start:start+length])])\n",
        "#       if temp.size == npout1d[-1].size:\n",
        "#         npout1d = np.append(npout1d,temp,0)\n",
        "#       else:\n",
        "#         print(temp.shape,npout1d.shape)\n",
        "#     print(npout1d.shape)"
      ],
      "execution_count": 80,
      "outputs": []
    },
    {
      "cell_type": "code",
      "metadata": {
        "id": "NIBjkqCRYiNI"
      },
      "source": [
        "def tsNumax(time,freq,length,interval):\n",
        "  length = int(length * 2160)\n",
        "  interval = int(interval * 2160)\n",
        "  #npout = [[0,0]]\n",
        "  check = True\n",
        "  for start in range(0,len(time),interval):\n",
        "      if start + length >= len(time):\n",
        "          length = len(time) - start\n",
        "      if check:\n",
        "        check = False\n",
        "        npout1d = np.array([getPeriodogram(time[start:start+length],freq[start:start+length])])\n",
        "      else:\n",
        "        temp = np.array([getPeriodogram(time[start:start+length],freq[start:start+length])])\n",
        "        if temp.size == npout1d[-1].size:\n",
        "          npout1d = np.append(npout1d,temp,0)\n",
        "  return npout1d"
      ],
      "execution_count": 81,
      "outputs": []
    },
    {
      "cell_type": "code",
      "metadata": {
        "id": "ZRAqbWg4a0kq"
      },
      "source": [
        "numax_cycle_23_182 = tsNumax(getSV_index(cycle_23),getSV(cycle_23),182.5,91.25)\n",
        "#print(numax_cycle_23)"
      ],
      "execution_count": 82,
      "outputs": []
    },
    {
      "cell_type": "code",
      "metadata": {
        "id": "GQmIDBUd5I9A"
      },
      "source": [
        "numax_cycle_24_182 = tsNumax(getSV_index(cycle_24),getSV(cycle_24),182.5,91.25)"
      ],
      "execution_count": null,
      "outputs": []
    },
    {
      "cell_type": "code",
      "metadata": {
        "colab": {
          "base_uri": "https://localhost:8080/"
        },
        "id": "wtYgin1va2Vn",
        "outputId": "d324033e-edf6-45fc-a340-6dd72d733a54"
      },
      "source": [
        "print(numax_cycle_23_182)"
      ],
      "execution_count": 84,
      "outputs": [
        {
          "output_type": "stream",
          "text": [
            "[[2.97696466e-05 8.19987704e-06 1.05384707e-04 ... 3.20928767e-05\n",
            "  3.64857617e-05 7.95015702e-06]\n",
            " [1.89955818e-05 4.13591288e-07 8.07475522e-05 ... 1.53489174e-05\n",
            "  3.13521866e-05 8.11285198e-06]\n",
            " [2.30028433e-05 9.34467566e-05 1.23647725e-04 ... 3.59797493e-06\n",
            "  1.25009879e-05 2.82519005e-05]\n",
            " ...\n",
            " [1.96578274e-05 4.02596243e-06 9.75902648e-05 ... 2.66164597e-06\n",
            "  4.55807005e-05 4.70582693e-05]\n",
            " [5.72381487e-06 7.66772419e-05 3.20141675e-06 ... 6.67835719e-06\n",
            "  3.86473800e-07 1.02447020e-04]\n",
            " [5.38898835e-05 1.23581167e-05 6.63245233e-05 ... 6.38514917e-06\n",
            "  7.26191132e-05 6.05639946e-05]]\n"
          ],
          "name": "stdout"
        }
      ]
    },
    {
      "cell_type": "markdown",
      "metadata": {
        "id": "xnTl7YNPcPRl"
      },
      "source": [
        "# SN"
      ]
    },
    {
      "cell_type": "code",
      "metadata": {
        "colab": {
          "base_uri": "https://localhost:8080/",
          "height": 312
        },
        "id": "H7C0UBPqb5sn",
        "outputId": "d741dc59-dcd3-4ecb-ae24-22ae2758fd71"
      },
      "source": [
        "data_SN = getSNAverage(np.ma.masked_equal(getSN_Day(cycle_23),0),91.25)\n",
        "datax_SN = data_SN.T[0] #np.subtract(data_SN.T[0],200)\n",
        "datay_SN = data_SN.T[1]\n",
        "\n",
        "plt.xlabel('Time (BJD)')\n",
        "plt.title('Numax and Sunspot Number vs. Time - Cycle 24')\n",
        "\n",
        "#Axis 1\n",
        "plt.autoscale(enable=True, axis='both', tight=None)\n",
        "plt.scatter(datax_SN,datay_SN, s = 10, c='blue', alpha=0.5)\n",
        "plt.show()\n",
        "print(data_SN.size)\n"
      ],
      "execution_count": 222,
      "outputs": [
        {
          "output_type": "display_data",
          "data": {
            "image/png": "[encoded data removed]",
            "text/plain": [
              "<Figure size 432x288 with 1 Axes>"
            ]
          },
          "metadata": {
            "tags": [],
            "needs_background": "light"
          }
        },
        {
          "output_type": "stream",
          "text": [
            "100\n"
          ],
          "name": "stdout"
        }
      ]
    },
    {
      "cell_type": "code",
      "metadata": {
        "colab": {
          "base_uri": "https://localhost:8080/"
        },
        "id": "alk3QHltcRFe",
        "outputId": "351978b7-ff04-4a68-cf68-3bb11fd2fa71"
      },
      "source": [
        "train_x = numax_cycle_23_182\n",
        "train_y_pre = datay_SN[:-2]\n",
        "print(train_y_pre)\n",
        "print(train_x.shape, train_y_pre.shape)\n",
        "#train_x = np.reshape(train_x, (-1, 2160))\n",
        "print(train_x.shape)\n",
        "print(train_x)\n",
        "\n",
        "# normalize\n",
        "max = float(np.max(train_y_pre))\n",
        "train_y = np.divide(train_y_pre,max)\n",
        "print(np.max(train_y),train_y.shape)\n",
        "\n",
        "#Train-test set\n",
        "train_test_x = numax_cycle_24_182\n",
        "train_test_y = getSNAverage(np.ma.masked_equal(getSN_Day(cycle_24),0),91.25)[:-2].T[1]"
      ],
      "execution_count": 223,
      "outputs": [
        {
          "output_type": "stream",
          "text": [
            "[ 18.51282051  24.54385965  22.72131148  23.80263158  44.\n",
            "  52.14772727  67.74725275  87.16483516 110.29347826 101.52747253\n",
            "  97.91208791 177.20879121 139.47826087 146.24175824 191.04395604\n",
            " 200.26373626 159.13043478 148.7032967  149.71428571 156.34065934\n",
            " 196.76086957 191.28571429 168.20879121 158.53846154 172.11956522\n",
            " 140.05494505  91.75824176 111.71428571  95.54347826  74.86666667\n",
            "  69.38461538  75.          63.46666667  51.38461538  40.65555556\n",
            "  62.49425287  41.1744186   37.86363636  33.10769231  32.25\n",
            "  24.05263158  32.6875      20.1875      25.5         14.26470588\n",
            "  21.44117647  21.          12.15384615]\n",
            "(48, 63072) (48,)\n",
            "(48, 63072)\n",
            "[[2.97696466e-05 8.19987704e-06 1.05384707e-04 ... 3.20928767e-05\n",
            "  3.64857617e-05 7.95015702e-06]\n",
            " [1.89955818e-05 4.13591288e-07 8.07475522e-05 ... 1.53489174e-05\n",
            "  3.13521866e-05 8.11285198e-06]\n",
            " [2.30028433e-05 9.34467566e-05 1.23647725e-04 ... 3.59797493e-06\n",
            "  1.25009879e-05 2.82519005e-05]\n",
            " ...\n",
            " [1.96578274e-05 4.02596243e-06 9.75902648e-05 ... 2.66164597e-06\n",
            "  4.55807005e-05 4.70582693e-05]\n",
            " [5.72381487e-06 7.66772419e-05 3.20141675e-06 ... 6.67835719e-06\n",
            "  3.86473800e-07 1.02447020e-04]\n",
            " [5.38898835e-05 1.23581167e-05 6.63245233e-05 ... 6.38514917e-06\n",
            "  7.26191132e-05 6.05639946e-05]]\n",
            "1.0 (48,)\n"
          ],
          "name": "stdout"
        }
      ]
    },
    {
      "cell_type": "code",
      "metadata": {
        "colab": {
          "base_uri": "https://localhost:8080/"
        },
        "id": "NMJn0fPZcf2B",
        "outputId": "6a445ce3-172e-4a5d-e065-1ac3d5f8d310"
      },
      "source": [
        "tf.test.gpu_device_name()\n",
        "keras.backend.clear_session()\n",
        "# model = models.Sequential()\n",
        "\n",
        "# model.add(layers.Conv1D(1024, 1, activation='relu',batch_input_shape=train_x.shape))\n",
        "# model.add(layers.Dense(128))\n",
        "# model.add(layers.Conv1D(32, 1, activation='relu'))\n",
        "# model.add(layers.Dense(1,activation=\"sigmoid\"))\n",
        "\n",
        "# model.summary()\n",
        "\n",
        "model = models.Sequential()\n",
        "#model.add(layers.Conv1D(filters=16, kernel_size=1, activation='relu', batch_input_shape=(train_x.shape)))\n",
        "model.add(layers.Dense(1024, activation='relu', input_shape=(train_x.shape)))\n",
        "model.add(layers.Dense(512, activation='relu'))\n",
        "model.add(layers.Dense(512, activation='relu'))\n",
        "model.add(layers.Dense(512, activation='relu'))\n",
        "model.add(layers.Dense(128, activation='relu'))\n",
        "model.add(layers.Dense(128, activation='relu'))\n",
        "model.add(layers.Dense(128, activation='relu'))\n",
        "model.add(layers.Dense(16, activation='relu'))\n",
        "model.add(layers.Dense(16, activation='relu'))\n",
        "model.add(layers.Dense(16, activation='relu'))\n",
        "model.add(layers.Dense(1))\n",
        "model.summary()"
      ],
      "execution_count": 313,
      "outputs": [
        {
          "output_type": "stream",
          "text": [
            "Model: \"sequential\"\n",
            "_________________________________________________________________\n",
            "Layer (type)                 Output Shape              Param #   \n",
            "=================================================================\n",
            "dense (Dense)                (None, 48, 1024)          64586752  \n",
            "_________________________________________________________________\n",
            "dense_1 (Dense)              (None, 48, 512)           524800    \n",
            "_________________________________________________________________\n",
            "dense_2 (Dense)              (None, 48, 512)           262656    \n",
            "_________________________________________________________________\n",
            "dense_3 (Dense)              (None, 48, 512)           262656    \n",
            "_________________________________________________________________\n",
            "dense_4 (Dense)              (None, 48, 128)           65664     \n",
            "_________________________________________________________________\n",
            "dense_5 (Dense)              (None, 48, 128)           16512     \n",
            "_________________________________________________________________\n",
            "dense_6 (Dense)              (None, 48, 128)           16512     \n",
            "_________________________________________________________________\n",
            "dense_7 (Dense)              (None, 48, 16)            2064      \n",
            "_________________________________________________________________\n",
            "dense_8 (Dense)              (None, 48, 16)            272       \n",
            "_________________________________________________________________\n",
            "dense_9 (Dense)              (None, 48, 16)            272       \n",
            "_________________________________________________________________\n",
            "dense_10 (Dense)             (None, 48, 1)             17        \n",
            "=================================================================\n",
            "Total params: 65,738,177\n",
            "Trainable params: 65,738,177\n",
            "Non-trainable params: 0\n",
            "_________________________________________________________________\n"
          ],
          "name": "stdout"
        }
      ]
    },
    {
      "cell_type": "code",
      "metadata": {
        "id": "qS2YU2JFc4y2"
      },
      "source": [
        "# model.compile(optimizer='adam',\n",
        "#              loss='binary_crossentropy',\n",
        "#              metrics=['accuracy'])\n",
        "model.compile(optimizer='adam', loss='mse', metrics=['accuracy'])"
      ],
      "execution_count": 314,
      "outputs": []
    },
    {
      "cell_type": "code",
      "metadata": {
        "colab": {
          "base_uri": "https://localhost:8080/"
        },
        "id": "ffIxg9adc69j",
        "outputId": "06d07ebc-ffc4-424c-a347-02a9ba12460d"
      },
      "source": [
        "history = model.fit(train_x, train_y, epochs=50,\n",
        "                   validation_data=(train_test_x, train_test_y))"
      ],
      "execution_count": 315,
      "outputs": [
        {
          "output_type": "stream",
          "text": [
            "Epoch 1/50\n",
            "WARNING:tensorflow:Model was constructed with shape (None, 48, 63072) for input KerasTensor(type_spec=TensorSpec(shape=(None, 48, 63072), dtype=tf.float32, name='dense_input'), name='dense_input', description=\"created by layer 'dense_input'\"), but it was called on an input with incompatible shape (None, 63072).\n",
            "WARNING:tensorflow:Model was constructed with shape (None, 48, 63072) for input KerasTensor(type_spec=TensorSpec(shape=(None, 48, 63072), dtype=tf.float32, name='dense_input'), name='dense_input', description=\"created by layer 'dense_input'\"), but it was called on an input with incompatible shape (None, 63072).\n",
            "2/2 [==============================] - ETA: 0s - loss: 0.2915 - accuracy: 0.0000e+00WARNING:tensorflow:Model was constructed with shape (None, 48, 63072) for input KerasTensor(type_spec=TensorSpec(shape=(None, 48, 63072), dtype=tf.float32, name='dense_input'), name='dense_input', description=\"created by layer 'dense_input'\"), but it was called on an input with incompatible shape (None, 63072).\n",
            "2/2 [==============================] - 2s 771ms/step - loss: 0.2874 - accuracy: 0.0000e+00 - val_loss: 4168.2236 - val_accuracy: 0.0000e+00\n",
            "Epoch 2/50\n",
            "2/2 [==============================] - 1s 453ms/step - loss: 0.2667 - accuracy: 0.0000e+00 - val_loss: 4165.3198 - val_accuracy: 0.0000e+00\n",
            "Epoch 3/50\n",
            "2/2 [==============================] - 1s 428ms/step - loss: 0.2530 - accuracy: 0.0000e+00 - val_loss: 4155.9556 - val_accuracy: 0.0000e+00\n",
            "Epoch 4/50\n",
            "2/2 [==============================] - 1s 445ms/step - loss: 0.1896 - accuracy: 0.0000e+00 - val_loss: 4126.5894 - val_accuracy: 0.0000e+00\n",
            "Epoch 5/50\n",
            "2/2 [==============================] - 1s 446ms/step - loss: 0.0962 - accuracy: 0.0139 - val_loss: 4110.3965 - val_accuracy: 0.0000e+00\n",
            "Epoch 6/50\n",
            "2/2 [==============================] - 1s 442ms/step - loss: 0.1310 - accuracy: 0.0000e+00 - val_loss: 4129.3799 - val_accuracy: 0.0000e+00\n",
            "Epoch 7/50\n",
            "2/2 [==============================] - 1s 441ms/step - loss: 0.0916 - accuracy: 0.0000e+00 - val_loss: 4134.0957 - val_accuracy: 0.0000e+00\n",
            "Epoch 8/50\n",
            "2/2 [==============================] - 1s 443ms/step - loss: 0.0906 - accuracy: 0.0000e+00 - val_loss: 4131.4907 - val_accuracy: 0.0000e+00\n",
            "Epoch 9/50\n",
            "2/2 [==============================] - 1s 449ms/step - loss: 0.0876 - accuracy: 0.0000e+00 - val_loss: 4122.5645 - val_accuracy: 0.0000e+00\n",
            "Epoch 10/50\n",
            "2/2 [==============================] - 1s 448ms/step - loss: 0.0719 - accuracy: 0.0139 - val_loss: 4117.1523 - val_accuracy: 0.0000e+00\n",
            "Epoch 11/50\n",
            "2/2 [==============================] - 1s 452ms/step - loss: 0.0724 - accuracy: 0.0243 - val_loss: 4121.3032 - val_accuracy: 0.0000e+00\n",
            "Epoch 12/50\n",
            "2/2 [==============================] - 1s 439ms/step - loss: 0.0633 - accuracy: 0.0243 - val_loss: 4128.0933 - val_accuracy: 0.0000e+00\n",
            "Epoch 13/50\n",
            "2/2 [==============================] - 1s 447ms/step - loss: 0.0586 - accuracy: 0.0243 - val_loss: 4126.5669 - val_accuracy: 0.0000e+00\n",
            "Epoch 14/50\n",
            "2/2 [==============================] - 1s 457ms/step - loss: 0.0424 - accuracy: 0.0139 - val_loss: 4120.7827 - val_accuracy: 0.0000e+00\n",
            "Epoch 15/50\n",
            "2/2 [==============================] - 1s 445ms/step - loss: 0.0284 - accuracy: 0.0243 - val_loss: 4115.1792 - val_accuracy: 0.0000e+00\n",
            "Epoch 16/50\n",
            "2/2 [==============================] - 1s 444ms/step - loss: 0.0206 - accuracy: 0.0139 - val_loss: 4121.2544 - val_accuracy: 0.0000e+00\n",
            "Epoch 17/50\n",
            "2/2 [==============================] - 1s 442ms/step - loss: 0.0082 - accuracy: 0.0243 - val_loss: 4132.3291 - val_accuracy: 0.0000e+00\n",
            "Epoch 18/50\n",
            "2/2 [==============================] - 1s 438ms/step - loss: 0.0068 - accuracy: 0.0139 - val_loss: 4130.9824 - val_accuracy: 0.0000e+00\n",
            "Epoch 19/50\n",
            "2/2 [==============================] - 1s 448ms/step - loss: 0.0052 - accuracy: 0.0243 - val_loss: 4130.1035 - val_accuracy: 0.0000e+00\n",
            "Epoch 20/50\n",
            "2/2 [==============================] - 1s 443ms/step - loss: 0.0074 - accuracy: 0.0243 - val_loss: 4137.7388 - val_accuracy: 0.0000e+00\n",
            "Epoch 21/50\n",
            "2/2 [==============================] - 1s 446ms/step - loss: 0.0059 - accuracy: 0.0139 - val_loss: 4135.7261 - val_accuracy: 0.0000e+00\n",
            "Epoch 22/50\n",
            "2/2 [==============================] - 1s 437ms/step - loss: 0.0038 - accuracy: 0.0243 - val_loss: 4127.4761 - val_accuracy: 0.0000e+00\n",
            "Epoch 23/50\n",
            "2/2 [==============================] - 1s 448ms/step - loss: 0.0043 - accuracy: 0.0139 - val_loss: 4130.8760 - val_accuracy: 0.0000e+00\n",
            "Epoch 24/50\n",
            "2/2 [==============================] - 1s 453ms/step - loss: 0.0015 - accuracy: 0.0139 - val_loss: 4133.3413 - val_accuracy: 0.0000e+00\n",
            "Epoch 25/50\n",
            "2/2 [==============================] - 1s 437ms/step - loss: 0.0017 - accuracy: 0.0243 - val_loss: 4128.6816 - val_accuracy: 0.0000e+00\n",
            "Epoch 26/50\n",
            "2/2 [==============================] - 1s 444ms/step - loss: 9.5487e-04 - accuracy: 0.0243 - val_loss: 4128.4277 - val_accuracy: 0.0000e+00\n",
            "Epoch 27/50\n",
            "2/2 [==============================] - 1s 439ms/step - loss: 0.0011 - accuracy: 0.0139 - val_loss: 4133.0684 - val_accuracy: 0.0000e+00\n",
            "Epoch 28/50\n",
            "2/2 [==============================] - 1s 454ms/step - loss: 0.0013 - accuracy: 0.0243 - val_loss: 4130.9258 - val_accuracy: 0.0000e+00\n",
            "Epoch 29/50\n",
            "2/2 [==============================] - 1s 452ms/step - loss: 5.9793e-04 - accuracy: 0.0139 - val_loss: 4128.2529 - val_accuracy: 0.0000e+00\n",
            "Epoch 30/50\n",
            "2/2 [==============================] - 1s 444ms/step - loss: 8.0290e-04 - accuracy: 0.0139 - val_loss: 4131.5405 - val_accuracy: 0.0000e+00\n",
            "Epoch 31/50\n",
            "2/2 [==============================] - 1s 442ms/step - loss: 5.7440e-04 - accuracy: 0.0243 - val_loss: 4132.4004 - val_accuracy: 0.0000e+00\n",
            "Epoch 32/50\n",
            "2/2 [==============================] - 1s 454ms/step - loss: 6.0985e-04 - accuracy: 0.0139 - val_loss: 4129.6382 - val_accuracy: 0.0000e+00\n",
            "Epoch 33/50\n",
            "2/2 [==============================] - 1s 451ms/step - loss: 5.8173e-04 - accuracy: 0.0243 - val_loss: 4131.7310 - val_accuracy: 0.0000e+00\n",
            "Epoch 34/50\n",
            "2/2 [==============================] - 1s 589ms/step - loss: 2.1170e-04 - accuracy: 0.0243 - val_loss: 4133.8120 - val_accuracy: 0.0000e+00\n",
            "Epoch 35/50\n",
            "2/2 [==============================] - 1s 447ms/step - loss: 4.0778e-04 - accuracy: 0.0139 - val_loss: 4131.5430 - val_accuracy: 0.0000e+00\n",
            "Epoch 36/50\n",
            "2/2 [==============================] - 1s 429ms/step - loss: 3.3710e-04 - accuracy: 0.0139 - val_loss: 4131.9526 - val_accuracy: 0.0000e+00\n",
            "Epoch 37/50\n",
            "2/2 [==============================] - 1s 446ms/step - loss: 1.7472e-04 - accuracy: 0.0243 - val_loss: 4133.4771 - val_accuracy: 0.0000e+00\n",
            "Epoch 38/50\n",
            "2/2 [==============================] - 1s 456ms/step - loss: 2.4684e-04 - accuracy: 0.0243 - val_loss: 4131.6255 - val_accuracy: 0.0000e+00\n",
            "Epoch 39/50\n",
            "2/2 [==============================] - 1s 438ms/step - loss: 1.5800e-04 - accuracy: 0.0243 - val_loss: 4131.4785 - val_accuracy: 0.0000e+00\n",
            "Epoch 40/50\n",
            "2/2 [==============================] - 1s 444ms/step - loss: 1.0215e-04 - accuracy: 0.0139 - val_loss: 4132.6919 - val_accuracy: 0.0000e+00\n",
            "Epoch 41/50\n",
            "2/2 [==============================] - 1s 447ms/step - loss: 1.6579e-04 - accuracy: 0.0243 - val_loss: 4131.4058 - val_accuracy: 0.0000e+00\n",
            "Epoch 42/50\n",
            "2/2 [==============================] - 1s 433ms/step - loss: 9.1901e-05 - accuracy: 0.0243 - val_loss: 4131.4019 - val_accuracy: 0.0000e+00\n",
            "Epoch 43/50\n",
            "2/2 [==============================] - 1s 447ms/step - loss: 6.3256e-05 - accuracy: 0.0139 - val_loss: 4132.5112 - val_accuracy: 0.0000e+00\n",
            "Epoch 44/50\n",
            "2/2 [==============================] - 1s 442ms/step - loss: 8.9011e-05 - accuracy: 0.0243 - val_loss: 4131.8027 - val_accuracy: 0.0000e+00\n",
            "Epoch 45/50\n",
            "2/2 [==============================] - 1s 458ms/step - loss: 5.1409e-05 - accuracy: 0.0139 - val_loss: 4131.7407 - val_accuracy: 0.0000e+00\n",
            "Epoch 46/50\n",
            "2/2 [==============================] - 1s 437ms/step - loss: 5.1806e-05 - accuracy: 0.0243 - val_loss: 4132.4067 - val_accuracy: 0.0000e+00\n",
            "Epoch 47/50\n",
            "2/2 [==============================] - 1s 450ms/step - loss: 6.2587e-05 - accuracy: 0.0243 - val_loss: 4131.6016 - val_accuracy: 0.0000e+00\n",
            "Epoch 48/50\n",
            "2/2 [==============================] - 1s 452ms/step - loss: 4.6024e-05 - accuracy: 0.0139 - val_loss: 4131.6997 - val_accuracy: 0.0000e+00\n",
            "Epoch 49/50\n",
            "2/2 [==============================] - 1s 451ms/step - loss: 3.2022e-05 - accuracy: 0.0139 - val_loss: 4132.1577 - val_accuracy: 0.0000e+00\n",
            "Epoch 50/50\n",
            "2/2 [==============================] - 1s 447ms/step - loss: 4.3560e-05 - accuracy: 0.0139 - val_loss: 4131.7017 - val_accuracy: 0.0000e+00\n"
          ],
          "name": "stdout"
        }
      ]
    },
    {
      "cell_type": "code",
      "metadata": {
        "id": "XNm1Qq7Bc9rJ",
        "colab": {
          "base_uri": "https://localhost:8080/"
        },
        "outputId": "a20ba0e2-0d2b-45ff-94ab-18da9f7da38a"
      },
      "source": [
        "pred_y = model.predict(train_x)"
      ],
      "execution_count": 316,
      "outputs": [
        {
          "output_type": "stream",
          "text": [
            "WARNING:tensorflow:Model was constructed with shape (None, 48, 63072) for input KerasTensor(type_spec=TensorSpec(shape=(None, 48, 63072), dtype=tf.float32, name='dense_input'), name='dense_input', description=\"created by layer 'dense_input'\"), but it was called on an input with incompatible shape (None, 63072).\n"
          ],
          "name": "stdout"
        }
      ]
    },
    {
      "cell_type": "code",
      "metadata": {
        "colab": {
          "base_uri": "https://localhost:8080/"
        },
        "id": "k4ne-vcH19Qp",
        "outputId": "7fe13596-19e3-433b-8732-8f4e489dd002"
      },
      "source": [
        "pred_y = pred_y.reshape(-1)\n",
        "#pred_y = np.multiply(pred_y,353.0)\n",
        "print(pred_y)"
      ],
      "execution_count": 317,
      "outputs": [
        {
          "output_type": "stream",
          "text": [
            "[0.09640088 0.12332181 0.11601796 0.12113749 0.22025107 0.26190126\n",
            " 0.33932492 0.43917996 0.55221045 0.5071809  0.49250576 0.88344646\n",
            " 0.69975233 0.7372091  0.96186084 1.0066053  0.79912674 0.7415407\n",
            " 0.7493547  0.7809258  0.986382   0.9515314  0.84468925 0.7952111\n",
            " 0.8603548  0.6983777  0.46258208 0.5598347  0.48045635 0.3759781\n",
            " 0.3488109  0.37503508 0.32062653 0.2576335  0.2021693  0.31518364\n",
            " 0.20531993 0.18562597 0.16794044 0.16246924 0.12290636 0.16812164\n",
            " 0.10790277 0.12773502 0.08571596 0.099338   0.09728454 0.08223653]\n"
          ],
          "name": "stdout"
        }
      ]
    },
    {
      "cell_type": "code",
      "metadata": {
        "colab": {
          "base_uri": "https://localhost:8080/",
          "height": 312
        },
        "id": "DTgImdoD2Blo",
        "outputId": "57b4544e-4967-415f-ac6d-118f4ef0fc36"
      },
      "source": [
        "data_SN = getSNAverage(np.ma.masked_equal(getSN_Day(cycle_23),0),91.25)[:-2]\n",
        "#data_SN = np.ma.masked_equal(getSN_Day(cycle_23),0)\n",
        "datax_SN = data_SN.T[0] #np.subtract(data_SN.T[0],200)\n",
        "datay_SN = data_SN.T[1]\n",
        "print(datax_SN.shape, datay_SN.shape, pred_y.shape)\n",
        "\n",
        "figure, axis_1 = plt.subplots()\n",
        "plt.xlabel('Time (BJD)')\n",
        "plt.title('Numax and Sunspot Number vs. Time - Cycle 23')\n",
        "\n",
        "#Axis 1\n",
        "axis_1.autoscale(enable=True, axis='both', tight=None)\n",
        "axis_1.set_ylabel('Numax (Diff. from Avg.)')\n",
        "axis_1.scatter(datax_SN,pred_y, s = 10, c='blue', alpha=0.5)\n",
        "\n",
        "#Axis 2\n",
        "axis_2 = axis_1.twinx()\n",
        "axis_2.set_ylabel('Sunspot Number')\n",
        "axis_2.scatter(datax_SN,datay_SN, s = 10, c='red', alpha=0.5)\n",
        "\n",
        "#Append Labels\n",
        "lines_1, labels_1 = axis_1.get_legend_handles_labels()\n",
        "lines_2, labels_2 = axis_2.get_legend_handles_labels()\n",
        "lines = lines_1 + lines_2\n",
        "labels = labels_1 + labels_2\n",
        "axis_1.legend(lines, labels, loc=0)\n",
        "\n",
        "#Show Plot\n",
        "#plt.savefig('Graphs/C23_Numax_SSN_Time.png')\n",
        "plt.show()"
      ],
      "execution_count": 318,
      "outputs": [
        {
          "output_type": "stream",
          "text": [
            "(48,) (48,) (48,)\n"
          ],
          "name": "stdout"
        },
        {
          "output_type": "display_data",
          "data": {
            "image/png": "[encoded data removed]",
            "text/plain": [
              "<Figure size 432x288 with 2 Axes>"
            ]
          },
          "metadata": {
            "tags": [],
            "needs_background": "light"
          }
        }
      ]
    },
    {
      "cell_type": "code",
      "metadata": {
        "colab": {
          "base_uri": "https://localhost:8080/"
        },
        "id": "ZH2UJac42vIR",
        "outputId": "fa9070e0-a640-416f-8132-949984df4ff1"
      },
      "source": [
        "print(numax_cycle_24_182)"
      ],
      "execution_count": 319,
      "outputs": [
        {
          "output_type": "stream",
          "text": [
            "[[5.12939512e-06 2.74658667e-05 1.30162586e-04 ... 1.87572875e-05\n",
            "  1.07630421e-04 1.14339673e-05]\n",
            " [8.86564049e-06 1.51447890e-05 1.33395100e-04 ... 9.20475404e-05\n",
            "  6.35275028e-06 3.08707556e-05]\n",
            " [7.59165790e-06 4.96486497e-05 1.19273949e-05 ... 1.41437212e-04\n",
            "  2.59161848e-05 1.19579854e-05]\n",
            " ...\n",
            " [5.68322111e-06 6.56638822e-05 2.34159817e-05 ... 2.65698299e-05\n",
            "  9.17601694e-05 1.25909167e-05]\n",
            " [3.51589832e-05 2.43807003e-05 2.50134107e-05 ... 9.85385126e-06\n",
            "  7.86522784e-05 1.88420818e-05]\n",
            " [7.53107874e-07 7.63718514e-06 1.56116418e-05 ... 5.53692171e-05\n",
            "  2.80536905e-05 2.98976611e-05]]\n"
          ],
          "name": "stdout"
        }
      ]
    },
    {
      "cell_type": "code",
      "metadata": {
        "colab": {
          "base_uri": "https://localhost:8080/"
        },
        "id": "4pwNRp1_2Dli",
        "outputId": "05493a81-b61e-4572-da42-5379a1defdc6"
      },
      "source": [
        "\n",
        "test_x = numax_cycle_24_182\n",
        "print(test_x.shape)\n",
        "test_y = model.predict(test_x)\n",
        "test_y = test_y.reshape(-1)\n",
        "print(test_y)"
      ],
      "execution_count": 320,
      "outputs": [
        {
          "output_type": "stream",
          "text": [
            "(44, 63072)\n",
            "[0.27947515 0.28479683 0.2789734  0.27634087 0.2941251  0.29968742\n",
            " 0.2712114  0.27705738 0.298961   0.3356722  0.3634212  0.3978752\n",
            " 0.3331944  0.32700595 0.3403941  0.32372558 0.3215942  0.32891697\n",
            " 0.3324651  0.40294334 0.4785139  0.42630017 0.3867059  0.41509834\n",
            " 0.38422903 0.3866037  0.3466109  0.368846   0.39191863 0.3197612\n",
            " 0.33188182 0.29607773 0.2849308  0.3063212  0.3040893  0.27310538\n",
            " 0.25589377 0.25831527 0.28732815 0.28734916 0.304044   0.26856607\n",
            " 0.24458233 0.26662335]\n"
          ],
          "name": "stdout"
        }
      ]
    },
    {
      "cell_type": "code",
      "metadata": {
        "colab": {
          "base_uri": "https://localhost:8080/",
          "height": 312
        },
        "id": "zEmwlRrx22TU",
        "outputId": "5c4e2b85-4208-4dcc-80ab-1a3412176ea6"
      },
      "source": [
        "data_SN = getSNAverage(np.ma.masked_equal(getSN_Day(cycle_24),0),91.25)[:-2]\n",
        "datax_SN = data_SN.T[0] #np.subtract(data_SN.T[0],200)\n",
        "datay_SN = data_SN.T[1]\n",
        "data2_SN = np.ma.masked_equal(getSN_Day(cycle_24),0)[:-1]\n",
        "data2x_SN = data2_SN.T[0]\n",
        "data2y_SN = data2_SN.T[1]\n",
        "print(datax_SN.shape, datay_SN.shape, test_y.shape)\n",
        "\n",
        "figure, axis_1 = plt.subplots()\n",
        "plt.xlabel('Time (BJD)')\n",
        "plt.title('ML Prediction and Sunspot Number vs. Time - Cycle 24')\n",
        "\n",
        "#Axis 1\n",
        "axis_1.autoscale(enable=True, axis='both', tight=None)\n",
        "axis_1.set_ylabel('ML Prediction')\n",
        "axis_1.scatter(datax_SN,test_y, s = 20, c='blue', alpha=0.5)\n",
        "\n",
        "#Axis 2\n",
        "axis_2 = axis_1.twinx()\n",
        "axis_2.set_ylabel('Sunspot Number')\n",
        "axis_2.scatter(data2x_SN,data2y_SN, s = 10, c='red', alpha=0.5)\n",
        "\n",
        "#Append Labels\n",
        "lines_1, labels_1 = axis_1.get_legend_handles_labels()\n",
        "lines_2, labels_2 = axis_2.get_legend_handles_labels()\n",
        "lines = lines_1 + lines_2\n",
        "labels = labels_1 + labels_2\n",
        "axis_1.legend(lines, labels, loc=0)\n",
        "\n",
        "#Show Plot\n",
        "#plt.savefig('Graphs/C23_Numax_SSN_Time.png')\n",
        "plt.show()"
      ],
      "execution_count": 323,
      "outputs": [
        {
          "output_type": "stream",
          "text": [
            "(44,) (44,) (44,)\n"
          ],
          "name": "stdout"
        },
        {
          "output_type": "display_data",
          "data": {
            "image/png": "[encoded data removed]",
            "text/plain": [
              "<Figure size 432x288 with 2 Axes>"
            ]
          },
          "metadata": {
            "tags": [],
            "needs_background": "light"
          }
        }
      ]
    },
    {
      "cell_type": "code",
      "metadata": {
        "id": "i1w3VNVQ3cgV"
      },
      "source": [
        ""
      ],
      "execution_count": 211,
      "outputs": []
    }
  ]
}
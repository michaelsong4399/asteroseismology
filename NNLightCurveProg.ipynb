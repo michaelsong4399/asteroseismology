{
  "nbformat": 4,
  "nbformat_minor": 0,
  "metadata": {
    "colab": {
      "name": "NNLightCurve.ipynb",
      "provenance": [],
      "collapsed_sections": [
        "fgWzaIiqtliy",
        "QxQoSvIgsMt3",
        "k3m1DupVtFpy",
        "ibWpBF6Wtcm0",
        "qTogHSG6CCzr",
        "RdzzwEyWvELy",
        "U4eOXkoW7XKZ",
        "8n-wlqek7giV",
        "H2RNBiUsBnCn",
        "9GdgXJ-XEr_J",
        "AVeEeZh0hNJv",
        "SCx800fhc51y"
      ],
      "authorship_tag": "ABX9TyPuCr8uacFcPy4gUEePMklJ",
      "include_colab_link": true
    },
    "kernelspec": {
      "display_name": "Python 3",
      "name": "python3"
    }
  },
  "cells": [
    {
      "cell_type": "markdown",
      "metadata": {
        "id": "view-in-github",
        "colab_type": "text"
      },
      "source": [
        "<a href=\"https://colab.research.google.com/github/michaelsong4399/asteroseismology/blob/master/NNLightCurveProg.ipynb\" target=\"_parent\"><img src=\"https://colab.research.google.com/assets/colab-badge.svg\" alt=\"Open In Colab\"/></a>"
      ]
    },
    {
      "cell_type": "markdown",
      "metadata": {
        "id": "fgWzaIiqtliy"
      },
      "source": [
        "# Initialization"
      ]
    },
    {
      "cell_type": "code",
      "metadata": {
        "colab": {
          "base_uri": "https://localhost:8080/"
        },
        "id": "E-fZxcJGsC1X",
        "outputId": "dd7b89d3-c9fe-479f-a64b-8584d2c48591"
      },
      "source": [
        "from google.colab import drive\n",
        "drive.mount('/content/drive')"
      ],
      "execution_count": 1,
      "outputs": [
        {
          "output_type": "stream",
          "text": [
            "Mounted at /content/drive\n"
          ],
          "name": "stdout"
        }
      ]
    },
    {
      "cell_type": "code",
      "metadata": {
        "colab": {
          "base_uri": "https://localhost:8080/",
          "height": 0
        },
        "id": "5N38g_6rr5tq",
        "outputId": "f6dcb1fd-5989-4fb1-caed-a47184dbae1f"
      },
      "source": [
        "!pip install lightkurve\n",
        "!pip install astroquery\n",
        "!pip install matplotlib\n",
        "!pip install numpy\n",
        "!pip install scipy\n",
        "!pip install pandas\n",
        "!pip install tensorflow\n",
        "!pip install astropy"
      ],
      "execution_count": 2,
      "outputs": [
        {
          "output_type": "stream",
          "text": [
            "Collecting lightkurve\n",
            "\u001b[?25l  Downloading https://files.pythonhosted.org/packages/fd/1f/6f350fbf7d41c786c14eeacec5f24aae212da5362560763574c845973a54/lightkurve-2.0.3-py3-none-any.whl (235kB)\n",
            "\u001b[K     |████████████████████████████████| 235kB 11.6MB/s \n",
            "\u001b[?25hCollecting ipython>=6.0.0\n",
            "\u001b[?25l  Downloading https://files.pythonhosted.org/packages/3b/43/6dbd0610550708fc418ad027fda97b5f415da9053749641654fdacfec93f/ipython-7.21.0-py3-none-any.whl (784kB)\n",
            "\u001b[K     |████████████████████████████████| 788kB 25.7MB/s \n",
            "\u001b[?25hCollecting oktopus<0.2.0,>=0.1.2\n",
            "  Downloading https://files.pythonhosted.org/packages/2d/6e/7b7e11442ff70286c22614d200f6145f83528dc6c99fec0982665e25c8d3/oktopus-0.1.2.tar.gz\n",
            "Requirement already satisfied: scipy>=0.19.0 in /usr/local/lib/python3.7/dist-packages (from lightkurve) (1.4.1)\n",
            "Collecting astroquery>=0.3.10\n",
            "\u001b[?25l  Downloading https://files.pythonhosted.org/packages/1b/f8/4690523783691ed816b3469c3ec611af3798594d37ade510dd918d59f57e/astroquery-0.4.1.tar.gz (6.5MB)\n",
            "\u001b[K     |████████████████████████████████| 6.5MB 19.0MB/s \n",
            "\u001b[?25hRequirement already satisfied: beautifulsoup4<5.0.0,>=4.6.0 in /usr/local/lib/python3.7/dist-packages (from lightkurve) (4.6.3)\n",
            "Collecting memoization>=0.3.1\n",
            "  Downloading https://files.pythonhosted.org/packages/16/87/37229296c2a9506867d5f5440b9aac015d97af54c951cdfc129bb4bb8d75/memoization-0.3.2-py3-none-any.whl\n",
            "Requirement already satisfied: bokeh>=1.0 in /usr/local/lib/python3.7/dist-packages (from lightkurve) (2.1.1)\n",
            "Collecting fbpca>=1.0\n",
            "  Downloading https://files.pythonhosted.org/packages/a7/a5/2085d0645a4bb4f0b606251b0b7466c61326e4a471d445c1c3761a2d07bc/fbpca-1.0.tar.gz\n",
            "Requirement already satisfied: pandas<2.0.0,>=1.1.4 in /usr/local/lib/python3.7/dist-packages (from lightkurve) (1.1.5)\n",
            "Collecting uncertainties<4.0.0,>=3.1.4\n",
            "\u001b[?25l  Downloading https://files.pythonhosted.org/packages/45/41/fc7e7b73b603e7c2c9e040b7aa8caf4a88d74b6faa567601ed82b6f0d8e1/uncertainties-3.1.5-py2.py3-none-any.whl (246kB)\n",
            "\u001b[K     |████████████████████████████████| 256kB 56.0MB/s \n",
            "\u001b[?25hCollecting scikit-learn>=0.24.0\n",
            "\u001b[?25l  Downloading https://files.pythonhosted.org/packages/f3/74/eb899f41d55f957e2591cde5528e75871f817d9fb46d4732423ecaca736d/scikit_learn-0.24.1-cp37-cp37m-manylinux2010_x86_64.whl (22.3MB)\n",
            "\u001b[K     |████████████████████████████████| 22.3MB 1.5MB/s \n",
            "\u001b[?25hCollecting numba>=0.53.0rc1; python_version >= \"3.6\" and python_version < \"3.10\"\n",
            "\u001b[?25l  Downloading https://files.pythonhosted.org/packages/e9/d5/8f10780467d37a364dfc48dfa615942219cc6d9ccda11af40c8d69b12c5f/numba-0.53.0rc3-cp37-cp37m-manylinux2014_x86_64.whl (3.4MB)\n",
            "\u001b[K     |████████████████████████████████| 3.4MB 41.6MB/s \n",
            "\u001b[?25hRequirement already satisfied: numpy>=1.11 in /usr/local/lib/python3.7/dist-packages (from lightkurve) (1.19.5)\n",
            "Requirement already satisfied: tqdm>=4.25.0 in /usr/local/lib/python3.7/dist-packages (from lightkurve) (4.41.1)\n",
            "Requirement already satisfied: patsy>=0.5.0 in /usr/local/lib/python3.7/dist-packages (from lightkurve) (0.5.1)\n",
            "Requirement already satisfied: astropy>=4.1 in /usr/local/lib/python3.7/dist-packages (from lightkurve) (4.2)\n",
            "Requirement already satisfied: matplotlib>=1.5.3 in /usr/local/lib/python3.7/dist-packages (from lightkurve) (3.2.2)\n",
            "Collecting requests<3.0.0,>=2.25.0\n",
            "\u001b[?25l  Downloading https://files.pythonhosted.org/packages/29/c1/24814557f1d22c56d50280771a17307e6bf87b70727d975fd6b2ce6b014a/requests-2.25.1-py2.py3-none-any.whl (61kB)\n",
            "\u001b[K     |████████████████████████████████| 61kB 4.9MB/s \n",
            "\u001b[?25hRequirement already satisfied: pexpect>4.3; sys_platform != \"win32\" in /usr/local/lib/python3.7/dist-packages (from ipython>=6.0.0->lightkurve) (4.8.0)\n",
            "Requirement already satisfied: pygments in /usr/local/lib/python3.7/dist-packages (from ipython>=6.0.0->lightkurve) (2.6.1)\n",
            "Requirement already satisfied: traitlets>=4.2 in /usr/local/lib/python3.7/dist-packages (from ipython>=6.0.0->lightkurve) (5.0.5)\n",
            "Requirement already satisfied: decorator in /usr/local/lib/python3.7/dist-packages (from ipython>=6.0.0->lightkurve) (4.4.2)\n",
            "Requirement already satisfied: backcall in /usr/local/lib/python3.7/dist-packages (from ipython>=6.0.0->lightkurve) (0.2.0)\n",
            "Collecting prompt-toolkit!=3.0.0,!=3.0.1,<3.1.0,>=2.0.0\n",
            "\u001b[?25l  Downloading https://files.pythonhosted.org/packages/a6/0b/c6de29441b29f8b54d5bbe29a8b223de6e400714ff50e85541bd4c783421/prompt_toolkit-3.0.16-py3-none-any.whl (366kB)\n",
            "\u001b[K     |████████████████████████████████| 368kB 50.4MB/s \n",
            "\u001b[?25hRequirement already satisfied: jedi>=0.16 in /usr/local/lib/python3.7/dist-packages (from ipython>=6.0.0->lightkurve) (0.18.0)\n",
            "Requirement already satisfied: pickleshare in /usr/local/lib/python3.7/dist-packages (from ipython>=6.0.0->lightkurve) (0.7.5)\n",
            "Requirement already satisfied: setuptools>=18.5 in /usr/local/lib/python3.7/dist-packages (from ipython>=6.0.0->lightkurve) (54.0.0)\n",
            "Requirement already satisfied: autograd in /usr/local/lib/python3.7/dist-packages (from oktopus<0.2.0,>=0.1.2->lightkurve) (1.3)\n",
            "Collecting keyring>=4.0\n",
            "  Downloading https://files.pythonhosted.org/packages/4a/4f/a63f284d26eac29a29e24657d12f17bddac58b12673ca39b53ae5f20c1a3/keyring-23.0.0-py3-none-any.whl\n",
            "Requirement already satisfied: html5lib>=0.999 in /usr/local/lib/python3.7/dist-packages (from astroquery>=0.3.10->lightkurve) (1.0.1)\n",
            "Requirement already satisfied: six in /usr/local/lib/python3.7/dist-packages (from astroquery>=0.3.10->lightkurve) (1.15.0)\n",
            "Requirement already satisfied: python-dateutil>=2.1 in /usr/local/lib/python3.7/dist-packages (from bokeh>=1.0->lightkurve) (2.8.1)\n",
            "Requirement already satisfied: PyYAML>=3.10 in /usr/local/lib/python3.7/dist-packages (from bokeh>=1.0->lightkurve) (3.13)\n",
            "Requirement already satisfied: packaging>=16.8 in /usr/local/lib/python3.7/dist-packages (from bokeh>=1.0->lightkurve) (20.9)\n",
            "Requirement already satisfied: pillow>=4.0 in /usr/local/lib/python3.7/dist-packages (from bokeh>=1.0->lightkurve) (7.0.0)\n",
            "Requirement already satisfied: Jinja2>=2.7 in /usr/local/lib/python3.7/dist-packages (from bokeh>=1.0->lightkurve) (2.11.3)\n",
            "Requirement already satisfied: tornado>=5.1 in /usr/local/lib/python3.7/dist-packages (from bokeh>=1.0->lightkurve) (5.1.1)\n",
            "Requirement already satisfied: typing-extensions>=3.7.4 in /usr/local/lib/python3.7/dist-packages (from bokeh>=1.0->lightkurve) (3.7.4.3)\n",
            "Requirement already satisfied: pytz>=2017.2 in /usr/local/lib/python3.7/dist-packages (from pandas<2.0.0,>=1.1.4->lightkurve) (2018.9)\n",
            "Requirement already satisfied: future in /usr/local/lib/python3.7/dist-packages (from uncertainties<4.0.0,>=3.1.4->lightkurve) (0.16.0)\n",
            "Collecting threadpoolctl>=2.0.0\n",
            "  Downloading https://files.pythonhosted.org/packages/f7/12/ec3f2e203afa394a149911729357aa48affc59c20e2c1c8297a60f33f133/threadpoolctl-2.1.0-py3-none-any.whl\n",
            "Requirement already satisfied: joblib>=0.11 in /usr/local/lib/python3.7/dist-packages (from scikit-learn>=0.24.0->lightkurve) (1.0.1)\n",
            "Collecting llvmlite<0.37,>=0.36.0rc1\n",
            "\u001b[?25l  Downloading https://files.pythonhosted.org/packages/7a/8a/73ebe617e4cbc42b9c35c1c62e17de785a8b72e9ddb6b3bf4dbe62ea9b04/llvmlite-0.36.0rc2-cp37-cp37m-manylinux2010_x86_64.whl (25.3MB)\n",
            "\u001b[K     |████████████████████████████████| 25.3MB 1.4MB/s \n",
            "\u001b[?25hRequirement already satisfied: pyerfa in /usr/local/lib/python3.7/dist-packages (from astropy>=4.1->lightkurve) (1.7.2)\n",
            "Requirement already satisfied: pyparsing!=2.0.4,!=2.1.2,!=2.1.6,>=2.0.1 in /usr/local/lib/python3.7/dist-packages (from matplotlib>=1.5.3->lightkurve) (2.4.7)\n",
            "Requirement already satisfied: cycler>=0.10 in /usr/local/lib/python3.7/dist-packages (from matplotlib>=1.5.3->lightkurve) (0.10.0)\n",
            "Requirement already satisfied: kiwisolver>=1.0.1 in /usr/local/lib/python3.7/dist-packages (from matplotlib>=1.5.3->lightkurve) (1.3.1)\n",
            "Requirement already satisfied: idna<3,>=2.5 in /usr/local/lib/python3.7/dist-packages (from requests<3.0.0,>=2.25.0->lightkurve) (2.10)\n",
            "Requirement already satisfied: chardet<5,>=3.0.2 in /usr/local/lib/python3.7/dist-packages (from requests<3.0.0,>=2.25.0->lightkurve) (3.0.4)\n",
            "Requirement already satisfied: certifi>=2017.4.17 in /usr/local/lib/python3.7/dist-packages (from requests<3.0.0,>=2.25.0->lightkurve) (2020.12.5)\n",
            "Requirement already satisfied: urllib3<1.27,>=1.21.1 in /usr/local/lib/python3.7/dist-packages (from requests<3.0.0,>=2.25.0->lightkurve) (1.24.3)\n",
            "Requirement already satisfied: ptyprocess>=0.5 in /usr/local/lib/python3.7/dist-packages (from pexpect>4.3; sys_platform != \"win32\"->ipython>=6.0.0->lightkurve) (0.7.0)\n",
            "Requirement already satisfied: ipython-genutils in /usr/local/lib/python3.7/dist-packages (from traitlets>=4.2->ipython>=6.0.0->lightkurve) (0.2.0)\n",
            "Requirement already satisfied: wcwidth in /usr/local/lib/python3.7/dist-packages (from prompt-toolkit!=3.0.0,!=3.0.1,<3.1.0,>=2.0.0->ipython>=6.0.0->lightkurve) (0.2.5)\n",
            "Requirement already satisfied: parso<0.9.0,>=0.8.0 in /usr/local/lib/python3.7/dist-packages (from jedi>=0.16->ipython>=6.0.0->lightkurve) (0.8.1)\n",
            "Requirement already satisfied: importlib-metadata>=3.6 in /usr/local/lib/python3.7/dist-packages (from keyring>=4.0->astroquery>=0.3.10->lightkurve) (3.7.0)\n",
            "Collecting jeepney>=0.4.2; sys_platform == \"linux\"\n",
            "\u001b[?25l  Downloading https://files.pythonhosted.org/packages/51/b0/a6ea72741aaac3f37fb96d195e4ee576a103c4c04e279bc6b446a70960e1/jeepney-0.6.0-py3-none-any.whl (45kB)\n",
            "\u001b[K     |████████████████████████████████| 51kB 4.5MB/s \n",
            "\u001b[?25hCollecting SecretStorage>=3.2; sys_platform == \"linux\"\n",
            "  Downloading https://files.pythonhosted.org/packages/d9/1e/29cd69fdac7391aa51510dfd42aa70b4e6a826c8cd019ee2a8ab9ec0777f/SecretStorage-3.3.1-py3-none-any.whl\n",
            "Requirement already satisfied: webencodings in /usr/local/lib/python3.7/dist-packages (from html5lib>=0.999->astroquery>=0.3.10->lightkurve) (0.5.1)\n",
            "Requirement already satisfied: MarkupSafe>=0.23 in /usr/local/lib/python3.7/dist-packages (from Jinja2>=2.7->bokeh>=1.0->lightkurve) (1.1.1)\n",
            "Requirement already satisfied: zipp>=0.5 in /usr/local/lib/python3.7/dist-packages (from importlib-metadata>=3.6->keyring>=4.0->astroquery>=0.3.10->lightkurve) (3.4.1)\n",
            "Collecting cryptography>=2.0\n",
            "\u001b[?25l  Downloading https://files.pythonhosted.org/packages/f8/1f/acde6ff69864c5e78b56488e3afd93c1ccc8c2651186e2a5f93d93f64859/cryptography-3.4.6-cp36-abi3-manylinux2014_x86_64.whl (3.2MB)\n",
            "\u001b[K     |████████████████████████████████| 3.2MB 42.7MB/s \n",
            "\u001b[?25hRequirement already satisfied: cffi>=1.12 in /usr/local/lib/python3.7/dist-packages (from cryptography>=2.0->SecretStorage>=3.2; sys_platform == \"linux\"->keyring>=4.0->astroquery>=0.3.10->lightkurve) (1.14.5)\n",
            "Requirement already satisfied: pycparser in /usr/local/lib/python3.7/dist-packages (from cffi>=1.12->cryptography>=2.0->SecretStorage>=3.2; sys_platform == \"linux\"->keyring>=4.0->astroquery>=0.3.10->lightkurve) (2.20)\n",
            "Building wheels for collected packages: oktopus, astroquery, fbpca\n",
            "  Building wheel for oktopus (setup.py) ... \u001b[?25l\u001b[?25hdone\n",
            "  Created wheel for oktopus: filename=oktopus-0.1.2-cp37-none-any.whl size=12780 sha256=8a77f49aa36ce67fc48375644a96dd35f3de904144c862879ee0bcbcfaad51aa\n",
            "  Stored in directory: /root/.cache/pip/wheels/9b/90/81/098fc66ee56166d63c9a8fc0a9672ae7b3423396a588ec952a\n",
            "  Building wheel for astroquery (setup.py) ... \u001b[?25l\u001b[?25hdone\n",
            "  Created wheel for astroquery: filename=astroquery-0.4.1-cp37-none-any.whl size=3831874 sha256=a46c478f9fa8abf57f472b647d4836d765b22fcb8cc2305dcfed6f54fbc5d05f\n",
            "  Stored in directory: /root/.cache/pip/wheels/88/f8/b7/a254cd96e808f708bc0b7d755a8e095c56fbbe94099d7b464f\n",
            "  Building wheel for fbpca (setup.py) ... \u001b[?25l\u001b[?25hdone\n",
            "  Created wheel for fbpca: filename=fbpca-1.0-cp37-none-any.whl size=11376 sha256=86061d9453e0c47c86fb600f05652fda556182c4f9504d142a18fc1a22036f9f\n",
            "  Stored in directory: /root/.cache/pip/wheels/53/a2/dd/9b66cf53dbc58cec1e613d216689e5fa946d3e7805c30f60dc\n",
            "Successfully built oktopus astroquery fbpca\n",
            "\u001b[31mERROR: jupyter-console 5.2.0 has requirement prompt-toolkit<2.0.0,>=1.0.0, but you'll have prompt-toolkit 3.0.16 which is incompatible.\u001b[0m\n",
            "\u001b[31mERROR: google-colab 1.0.0 has requirement ipython~=5.5.0, but you'll have ipython 7.21.0 which is incompatible.\u001b[0m\n",
            "\u001b[31mERROR: google-colab 1.0.0 has requirement requests~=2.23.0, but you'll have requests 2.25.1 which is incompatible.\u001b[0m\n",
            "\u001b[31mERROR: datascience 0.10.6 has requirement folium==0.2.1, but you'll have folium 0.8.3 which is incompatible.\u001b[0m\n",
            "Installing collected packages: prompt-toolkit, ipython, oktopus, requests, jeepney, cryptography, SecretStorage, keyring, astroquery, memoization, fbpca, uncertainties, threadpoolctl, scikit-learn, llvmlite, numba, lightkurve\n",
            "  Found existing installation: prompt-toolkit 1.0.18\n",
            "    Uninstalling prompt-toolkit-1.0.18:\n",
            "      Successfully uninstalled prompt-toolkit-1.0.18\n",
            "  Found existing installation: ipython 5.5.0\n",
            "    Uninstalling ipython-5.5.0:\n",
            "      Successfully uninstalled ipython-5.5.0\n",
            "  Found existing installation: requests 2.23.0\n",
            "    Uninstalling requests-2.23.0:\n",
            "      Successfully uninstalled requests-2.23.0\n",
            "  Found existing installation: scikit-learn 0.22.2.post1\n",
            "    Uninstalling scikit-learn-0.22.2.post1:\n",
            "      Successfully uninstalled scikit-learn-0.22.2.post1\n",
            "  Found existing installation: llvmlite 0.34.0\n",
            "    Uninstalling llvmlite-0.34.0:\n",
            "      Successfully uninstalled llvmlite-0.34.0\n",
            "  Found existing installation: numba 0.51.2\n",
            "    Uninstalling numba-0.51.2:\n",
            "      Successfully uninstalled numba-0.51.2\n",
            "Successfully installed SecretStorage-3.3.1 astroquery-0.4.1 cryptography-3.4.6 fbpca-1.0 ipython-7.21.0 jeepney-0.6.0 keyring-23.0.0 lightkurve-2.0.3 llvmlite-0.36.0rc2 memoization-0.3.2 numba-0.53.0rc3 oktopus-0.1.2 prompt-toolkit-3.0.16 requests-2.25.1 scikit-learn-0.24.1 threadpoolctl-2.1.0 uncertainties-3.1.5\n"
          ],
          "name": "stdout"
        },
        {
          "output_type": "display_data",
          "data": {
            "application/vnd.colab-display-data+json": {
              "pip_warning": {
                "packages": [
                  "IPython",
                  "prompt_toolkit"
                ]
              }
            }
          },
          "metadata": {
            "tags": []
          }
        },
        {
          "output_type": "stream",
          "text": [
            "Requirement already satisfied: astroquery in /usr/local/lib/python3.7/dist-packages (0.4.1)\n",
            "Requirement already satisfied: requests>=2.4.3 in /usr/local/lib/python3.7/dist-packages (from astroquery) (2.25.1)\n",
            "Requirement already satisfied: six in /usr/local/lib/python3.7/dist-packages (from astroquery) (1.15.0)\n",
            "Requirement already satisfied: keyring>=4.0 in /usr/local/lib/python3.7/dist-packages (from astroquery) (23.0.0)\n",
            "Requirement already satisfied: beautifulsoup4>=4.3.2 in /usr/local/lib/python3.7/dist-packages (from astroquery) (4.6.3)\n",
            "Requirement already satisfied: html5lib>=0.999 in /usr/local/lib/python3.7/dist-packages (from astroquery) (1.0.1)\n",
            "Requirement already satisfied: astropy>=3.1 in /usr/local/lib/python3.7/dist-packages (from astroquery) (4.2)\n",
            "Requirement already satisfied: numpy in /usr/local/lib/python3.7/dist-packages (from astroquery) (1.19.5)\n",
            "Requirement already satisfied: certifi>=2017.4.17 in /usr/local/lib/python3.7/dist-packages (from requests>=2.4.3->astroquery) (2020.12.5)\n",
            "Requirement already satisfied: urllib3<1.27,>=1.21.1 in /usr/local/lib/python3.7/dist-packages (from requests>=2.4.3->astroquery) (1.24.3)\n",
            "Requirement already satisfied: chardet<5,>=3.0.2 in /usr/local/lib/python3.7/dist-packages (from requests>=2.4.3->astroquery) (3.0.4)\n",
            "Requirement already satisfied: idna<3,>=2.5 in /usr/local/lib/python3.7/dist-packages (from requests>=2.4.3->astroquery) (2.10)\n",
            "Requirement already satisfied: importlib-metadata>=3.6 in /usr/local/lib/python3.7/dist-packages (from keyring>=4.0->astroquery) (3.7.0)\n",
            "Requirement already satisfied: jeepney>=0.4.2; sys_platform == \"linux\" in /usr/local/lib/python3.7/dist-packages (from keyring>=4.0->astroquery) (0.6.0)\n",
            "Requirement already satisfied: SecretStorage>=3.2; sys_platform == \"linux\" in /usr/local/lib/python3.7/dist-packages (from keyring>=4.0->astroquery) (3.3.1)\n",
            "Requirement already satisfied: webencodings in /usr/local/lib/python3.7/dist-packages (from html5lib>=0.999->astroquery) (0.5.1)\n",
            "Requirement already satisfied: pyerfa in /usr/local/lib/python3.7/dist-packages (from astropy>=3.1->astroquery) (1.7.2)\n",
            "Requirement already satisfied: zipp>=0.5 in /usr/local/lib/python3.7/dist-packages (from importlib-metadata>=3.6->keyring>=4.0->astroquery) (3.4.1)\n",
            "Requirement already satisfied: typing-extensions>=3.6.4; python_version < \"3.8\" in /usr/local/lib/python3.7/dist-packages (from importlib-metadata>=3.6->keyring>=4.0->astroquery) (3.7.4.3)\n",
            "Requirement already satisfied: cryptography>=2.0 in /usr/local/lib/python3.7/dist-packages (from SecretStorage>=3.2; sys_platform == \"linux\"->keyring>=4.0->astroquery) (3.4.6)\n",
            "Requirement already satisfied: cffi>=1.12 in /usr/local/lib/python3.7/dist-packages (from cryptography>=2.0->SecretStorage>=3.2; sys_platform == \"linux\"->keyring>=4.0->astroquery) (1.14.5)\n",
            "Requirement already satisfied: pycparser in /usr/local/lib/python3.7/dist-packages (from cffi>=1.12->cryptography>=2.0->SecretStorage>=3.2; sys_platform == \"linux\"->keyring>=4.0->astroquery) (2.20)\n",
            "Requirement already satisfied: matplotlib in /usr/local/lib/python3.7/dist-packages (3.2.2)\n",
            "Requirement already satisfied: python-dateutil>=2.1 in /usr/local/lib/python3.7/dist-packages (from matplotlib) (2.8.1)\n",
            "Requirement already satisfied: numpy>=1.11 in /usr/local/lib/python3.7/dist-packages (from matplotlib) (1.19.5)\n",
            "Requirement already satisfied: pyparsing!=2.0.4,!=2.1.2,!=2.1.6,>=2.0.1 in /usr/local/lib/python3.7/dist-packages (from matplotlib) (2.4.7)\n",
            "Requirement already satisfied: kiwisolver>=1.0.1 in /usr/local/lib/python3.7/dist-packages (from matplotlib) (1.3.1)\n",
            "Requirement already satisfied: cycler>=0.10 in /usr/local/lib/python3.7/dist-packages (from matplotlib) (0.10.0)\n",
            "Requirement already satisfied: six>=1.5 in /usr/local/lib/python3.7/dist-packages (from python-dateutil>=2.1->matplotlib) (1.15.0)\n",
            "Requirement already satisfied: numpy in /usr/local/lib/python3.7/dist-packages (1.19.5)\n",
            "Requirement already satisfied: scipy in /usr/local/lib/python3.7/dist-packages (1.4.1)\n",
            "Requirement already satisfied: numpy>=1.13.3 in /usr/local/lib/python3.7/dist-packages (from scipy) (1.19.5)\n",
            "Requirement already satisfied: pandas in /usr/local/lib/python3.7/dist-packages (1.1.5)\n",
            "Requirement already satisfied: numpy>=1.15.4 in /usr/local/lib/python3.7/dist-packages (from pandas) (1.19.5)\n",
            "Requirement already satisfied: python-dateutil>=2.7.3 in /usr/local/lib/python3.7/dist-packages (from pandas) (2.8.1)\n",
            "Requirement already satisfied: pytz>=2017.2 in /usr/local/lib/python3.7/dist-packages (from pandas) (2018.9)\n",
            "Requirement already satisfied: six>=1.5 in /usr/local/lib/python3.7/dist-packages (from python-dateutil>=2.7.3->pandas) (1.15.0)\n",
            "Requirement already satisfied: tensorflow in /usr/local/lib/python3.7/dist-packages (2.4.1)\n",
            "Requirement already satisfied: wheel~=0.35 in /usr/local/lib/python3.7/dist-packages (from tensorflow) (0.36.2)\n",
            "Requirement already satisfied: gast==0.3.3 in /usr/local/lib/python3.7/dist-packages (from tensorflow) (0.3.3)\n",
            "Requirement already satisfied: tensorboard~=2.4 in /usr/local/lib/python3.7/dist-packages (from tensorflow) (2.4.1)\n",
            "Requirement already satisfied: numpy~=1.19.2 in /usr/local/lib/python3.7/dist-packages (from tensorflow) (1.19.5)\n",
            "Requirement already satisfied: tensorflow-estimator<2.5.0,>=2.4.0 in /usr/local/lib/python3.7/dist-packages (from tensorflow) (2.4.0)\n",
            "Requirement already satisfied: opt-einsum~=3.3.0 in /usr/local/lib/python3.7/dist-packages (from tensorflow) (3.3.0)\n",
            "Requirement already satisfied: wrapt~=1.12.1 in /usr/local/lib/python3.7/dist-packages (from tensorflow) (1.12.1)\n",
            "Requirement already satisfied: grpcio~=1.32.0 in /usr/local/lib/python3.7/dist-packages (from tensorflow) (1.32.0)\n",
            "Requirement already satisfied: keras-preprocessing~=1.1.2 in /usr/local/lib/python3.7/dist-packages (from tensorflow) (1.1.2)\n",
            "Requirement already satisfied: typing-extensions~=3.7.4 in /usr/local/lib/python3.7/dist-packages (from tensorflow) (3.7.4.3)\n",
            "Requirement already satisfied: flatbuffers~=1.12.0 in /usr/local/lib/python3.7/dist-packages (from tensorflow) (1.12)\n",
            "Requirement already satisfied: termcolor~=1.1.0 in /usr/local/lib/python3.7/dist-packages (from tensorflow) (1.1.0)\n",
            "Requirement already satisfied: absl-py~=0.10 in /usr/local/lib/python3.7/dist-packages (from tensorflow) (0.10.0)\n",
            "Requirement already satisfied: h5py~=2.10.0 in /usr/local/lib/python3.7/dist-packages (from tensorflow) (2.10.0)\n",
            "Requirement already satisfied: google-pasta~=0.2 in /usr/local/lib/python3.7/dist-packages (from tensorflow) (0.2.0)\n",
            "Requirement already satisfied: six~=1.15.0 in /usr/local/lib/python3.7/dist-packages (from tensorflow) (1.15.0)\n",
            "Requirement already satisfied: protobuf>=3.9.2 in /usr/local/lib/python3.7/dist-packages (from tensorflow) (3.12.4)\n",
            "Requirement already satisfied: astunparse~=1.6.3 in /usr/local/lib/python3.7/dist-packages (from tensorflow) (1.6.3)\n",
            "Requirement already satisfied: requests<3,>=2.21.0 in /usr/local/lib/python3.7/dist-packages (from tensorboard~=2.4->tensorflow) (2.25.1)\n",
            "Requirement already satisfied: google-auth<2,>=1.6.3 in /usr/local/lib/python3.7/dist-packages (from tensorboard~=2.4->tensorflow) (1.27.1)\n",
            "Requirement already satisfied: tensorboard-plugin-wit>=1.6.0 in /usr/local/lib/python3.7/dist-packages (from tensorboard~=2.4->tensorflow) (1.8.0)\n",
            "Requirement already satisfied: werkzeug>=0.11.15 in /usr/local/lib/python3.7/dist-packages (from tensorboard~=2.4->tensorflow) (1.0.1)\n",
            "Requirement already satisfied: markdown>=2.6.8 in /usr/local/lib/python3.7/dist-packages (from tensorboard~=2.4->tensorflow) (3.3.4)\n",
            "Requirement already satisfied: setuptools>=41.0.0 in /usr/local/lib/python3.7/dist-packages (from tensorboard~=2.4->tensorflow) (54.0.0)\n",
            "Requirement already satisfied: google-auth-oauthlib<0.5,>=0.4.1 in /usr/local/lib/python3.7/dist-packages (from tensorboard~=2.4->tensorflow) (0.4.3)\n",
            "Requirement already satisfied: urllib3<1.27,>=1.21.1 in /usr/local/lib/python3.7/dist-packages (from requests<3,>=2.21.0->tensorboard~=2.4->tensorflow) (1.24.3)\n",
            "Requirement already satisfied: idna<3,>=2.5 in /usr/local/lib/python3.7/dist-packages (from requests<3,>=2.21.0->tensorboard~=2.4->tensorflow) (2.10)\n",
            "Requirement already satisfied: certifi>=2017.4.17 in /usr/local/lib/python3.7/dist-packages (from requests<3,>=2.21.0->tensorboard~=2.4->tensorflow) (2020.12.5)\n",
            "Requirement already satisfied: chardet<5,>=3.0.2 in /usr/local/lib/python3.7/dist-packages (from requests<3,>=2.21.0->tensorboard~=2.4->tensorflow) (3.0.4)\n",
            "Requirement already satisfied: rsa<5,>=3.1.4; python_version >= \"3.6\" in /usr/local/lib/python3.7/dist-packages (from google-auth<2,>=1.6.3->tensorboard~=2.4->tensorflow) (4.7.2)\n",
            "Requirement already satisfied: pyasn1-modules>=0.2.1 in /usr/local/lib/python3.7/dist-packages (from google-auth<2,>=1.6.3->tensorboard~=2.4->tensorflow) (0.2.8)\n",
            "Requirement already satisfied: cachetools<5.0,>=2.0.0 in /usr/local/lib/python3.7/dist-packages (from google-auth<2,>=1.6.3->tensorboard~=2.4->tensorflow) (4.2.1)\n",
            "Requirement already satisfied: importlib-metadata; python_version < \"3.8\" in /usr/local/lib/python3.7/dist-packages (from markdown>=2.6.8->tensorboard~=2.4->tensorflow) (3.7.0)\n",
            "Requirement already satisfied: requests-oauthlib>=0.7.0 in /usr/local/lib/python3.7/dist-packages (from google-auth-oauthlib<0.5,>=0.4.1->tensorboard~=2.4->tensorflow) (1.3.0)\n",
            "Requirement already satisfied: pyasn1>=0.1.3 in /usr/local/lib/python3.7/dist-packages (from rsa<5,>=3.1.4; python_version >= \"3.6\"->google-auth<2,>=1.6.3->tensorboard~=2.4->tensorflow) (0.4.8)\n",
            "Requirement already satisfied: zipp>=0.5 in /usr/local/lib/python3.7/dist-packages (from importlib-metadata; python_version < \"3.8\"->markdown>=2.6.8->tensorboard~=2.4->tensorflow) (3.4.1)\n",
            "Requirement already satisfied: oauthlib>=3.0.0 in /usr/local/lib/python3.7/dist-packages (from requests-oauthlib>=0.7.0->google-auth-oauthlib<0.5,>=0.4.1->tensorboard~=2.4->tensorflow) (3.1.0)\n",
            "Requirement already satisfied: astropy in /usr/local/lib/python3.7/dist-packages (4.2)\n",
            "Requirement already satisfied: pyerfa in /usr/local/lib/python3.7/dist-packages (from astropy) (1.7.2)\n",
            "Requirement already satisfied: numpy>=1.17 in /usr/local/lib/python3.7/dist-packages (from astropy) (1.19.5)\n"
          ],
          "name": "stdout"
        }
      ]
    },
    {
      "cell_type": "code",
      "metadata": {
        "id": "Oe9YHGNpr_NV"
      },
      "source": [
        "import lightkurve as lk\n",
        "from astropy.io import fits\n",
        "from matplotlib import pyplot as plt\n",
        "import numpy as np\n",
        "from sklearn.model_selection import train_test_split\n",
        "from sklearn.linear_model import LinearRegression\n",
        "from sklearn.metrics import r2_score, mean_squared_error, mean_absolute_error\n",
        "import math\n",
        "import scipy\n",
        "import pandas as pd \n",
        "from scipy import interpolate\n",
        "#tf\n",
        "from __future__ import absolute_import, division, print_function, unicode_literals\n",
        "import tensorflow as tf\n",
        "from tensorflow import keras\n",
        "from tensorflow.keras import datasets, layers, models"
      ],
      "execution_count": 3,
      "outputs": []
    },
    {
      "cell_type": "markdown",
      "metadata": {
        "id": "DVGjokUlsHAR"
      },
      "source": [
        "# ML Model"
      ]
    },
    {
      "cell_type": "markdown",
      "metadata": {
        "id": "QxQoSvIgsMt3"
      },
      "source": [
        "## Cycle Configs"
      ]
    },
    {
      "cell_type": "code",
      "metadata": {
        "id": "XWra6TU8sEqV"
      },
      "source": [
        "#Cycles\n",
        "    #21\n",
        "        #cycle_21 = []\n",
        "        \n",
        "        #Start 1 March 1976\n",
        "        #End 1 September 1986\n",
        "        \n",
        "    #22\n",
        "        #cycle_22 = [2446674.5,2450296.5]\n",
        "        \n",
        "        #Start: 1 September 1986 2446674.5\n",
        "        #End: 1 August 1996 2450296.5\n",
        "        \n",
        "    #23\n",
        "cycle_23 = [2450296.5,2454801.5]\n",
        "        \n",
        "        #Start: 1 August 1996 2450296.5\n",
        "        #End: 1 December 2008 2454801.5\n",
        "        \n",
        "    #24\n",
        "cycle_24 = [2454801.5,2458940.5]\n",
        "        \n",
        "        #Start: 1 December 2008 2454801.5\n",
        "        #End: 1 May 2020 2458970.5\n",
        "        #NOTE: Due to dataset limitation, only analyzed up to 2458940.5\n",
        "\n",
        "cycle_2324 = [2450296.5,2458940.5]\n",
        "        "
      ],
      "execution_count": 4,
      "outputs": []
    },
    {
      "cell_type": "markdown",
      "metadata": {
        "id": "k3m1DupVtFpy"
      },
      "source": [
        "## BiSON Surface Velocity - Import X"
      ]
    },
    {
      "cell_type": "code",
      "metadata": {
        "colab": {
          "base_uri": "https://localhost:8080/"
        },
        "id": "cxjYC6eCtA3f",
        "outputId": "98d8d8e9-1fc8-41b1-b035-58a9a1e7e7da"
      },
      "source": [
        "#hdul = fits.open('data/allsites-alldata-waverage-fill.fits')\n",
        "hdul = fits.open('/content/drive/MyDrive/Korea Research - Yihong Song and Rohit Prasanna/DSHS & AOS Physics Research Collaboration 2020/Project/Jr:Sr Project/Data/allsites-alldata-waverage-fill.fits')\n",
        "\n",
        "hdul.info()\n",
        "\n",
        "tsdata = hdul[0].data\n",
        "#         SIMPLE  =                    T / Written by IDL:  Tue Jan 19 11:22:20 2016      \n",
        "#         BITPIX  =                  -64 /Real*8 (double precision)                       \n",
        "#         NAXIS   =                    2 /                                                \n",
        "#         NAXIS1  =                    2 /                                                \n",
        "#         NAXIS2  =             24455519 /                                                \n",
        "DSTART =        2442778.50000 #Data start (Julian)      1/1/1976 0:00:00                        \n",
        "DEND   =        2458940.50000 #Data end (Julian)        4/1/2020 0:00:00                       \n",
        "#         STATIONS= 'na ca cb su iz la lb mo' /Stations Used                              \n",
        "#         METHOD  = 'waverage'           /Overlap Method                                  \n",
        "#         CADENCE = '40      '           /Timeseries Cadence                              \n",
        "#         N-THRES =                   80 /Noise Rejection Threshold                       \n",
        "#         GAPFILL =                    1 /GapFill                                         \n",
        "#         FILL    =             0.638866 /Duty Cycle   \n",
        "#\n",
        "#         ~2160 datapoints per day"
      ],
      "execution_count": 5,
      "outputs": [
        {
          "output_type": "stream",
          "text": [
            "Filename: /content/drive/MyDrive/Korea Research - Yihong Song and Rohit Prasanna/DSHS & AOS Physics Research Collaboration 2020/Project/Jr:Sr Project/Data/allsites-alldata-waverage-fill.fits\n",
            "No.    Name      Ver    Type      Cards   Dimensions   Format\n",
            "  0  PRIMARY       1 PrimaryHDU      15   (2, 34909918)   float64   \n"
          ],
          "name": "stdout"
        }
      ]
    },
    {
      "cell_type": "code",
      "metadata": {
        "id": "GSxgMWHPTQgC"
      },
      "source": [
        "NOISE = False\n",
        "\n",
        "if NOISE:\n",
        "  noise = np.random.normal(0, 0.2*np.max(tsdata.T[1]), tsdata.T[1].shape)\n",
        "  tsdata = np.array([tsdata.T[0],np.add(tsdata.T[1],noise).T]).T"
      ],
      "execution_count": 6,
      "outputs": []
    },
    {
      "cell_type": "code",
      "metadata": {
        "colab": {
          "base_uri": "https://localhost:8080/"
        },
        "id": "Z0Dr-zxetLVx",
        "outputId": "5a90018b-9434-4a66-e806-dbd19cf69fb4"
      },
      "source": [
        "def getSV(cycle):\n",
        "    #Subtract starting date\n",
        "    cycle = np.subtract(cycle,DSTART)\n",
        "    \n",
        "    #multiply by 2160 (2160 datapoints per day)\n",
        "    cycle = np.multiply(cycle,2160)\n",
        "    \n",
        "    return tsdata[int(cycle[0]):int(cycle[1])].T[1]\n",
        "\n",
        "def getSV_index(cycle):\n",
        "    #Subtract starting date\n",
        "    cycle = np.subtract(cycle,DSTART)\n",
        "    \n",
        "    #multiply by 2160 (2160 datapoints per day)\n",
        "    cycle = np.multiply(cycle,2160)\n",
        "    \n",
        "    return tsdata[int(cycle[0]):int(cycle[1])].T[0]\n",
        "\n",
        "#test\n",
        "print(getSV(cycle_23))\n",
        "print(getSV_index(cycle_23))"
      ],
      "execution_count": 7,
      "outputs": [
        {
          "output_type": "stream",
          "text": [
            "[ 0.52007627  0.87248993  0.11934945 ...  0.25079036 -1.0275805\n",
            " -0.95429337]\n",
            "[2450296.50033958 2450296.50080254 2450296.50126551 ... 2454801.49915418\n",
            " 2454801.49961714 2454801.50008011]\n"
          ],
          "name": "stdout"
        }
      ]
    },
    {
      "cell_type": "markdown",
      "metadata": {
        "id": "ibWpBF6Wtcm0"
      },
      "source": [
        "## Sunspot Number - Import Y"
      ]
    },
    {
      "cell_type": "code",
      "metadata": {
        "id": "loH2j9fGti1M"
      },
      "source": [
        "#sunspot_Day = np.genfromtxt('data/SN_d_tot_V2.0.csv',delimiter=';')\n",
        "sunspot_Day = np.genfromtxt('/content/drive/MyDrive/Korea Research - Yihong Song and Rohit Prasanna/DSHS & AOS Physics Research Collaboration 2020/Project/Jr:Sr Project/Data/SN_d_tot_V2.0.csv',delimiter=';')\n",
        "SNSTART_Day = 2385070.5\n",
        "SNEND_day = 2459000.5\n",
        "\n",
        "#sunspot_Month = np.genfromtxt('data/SN_ms_tot_V2.0.csv',delimiter=';')\n",
        "sunspot_Month = np.genfromtxt('/content/drive/MyDrive/Korea Research - Yihong Song and Rohit Prasanna/DSHS & AOS Physics Research Collaboration 2020/Project/Jr:Sr Project/Data/SN_ms_tot_V2.0.csv',delimiter=';')\n",
        "sunspot_Month = sunspot_Month[828:]"
      ],
      "execution_count": 8,
      "outputs": []
    },
    {
      "cell_type": "code",
      "metadata": {
        "colab": {
          "base_uri": "https://localhost:8080/"
        },
        "id": "HuJF_F7GuNrX",
        "outputId": "58a77944-d134-4db2-fce2-dc300a5a916f"
      },
      "source": [
        "def getSN_Day(cycle):\n",
        "    if cycle[1] >= SNEND_day:\n",
        "        cycle[1] = SNEND_day\n",
        "    cycle = np.subtract(cycle, SNSTART_Day)\n",
        "    sn = sunspot_Day.T[4][int(cycle[0]):int(cycle[1])]\n",
        "    \n",
        "    npout = [[0,0]]\n",
        "    for i in range(len(sn)):\n",
        "        npout = np.append(npout,[[i+SNSTART_Day+cycle[0],sn[i]]],0)\n",
        "    npout = npout[1:]\n",
        "    return npout\n",
        "\n",
        "def getSNAverage(cycle,length):\n",
        "    \n",
        "    npout = [[0,0]]\n",
        "    total = 0\n",
        "    valid_count = 0\n",
        "    start = cycle[0][0]\n",
        "    for i in range(len(cycle)):\n",
        "        if cycle[i][1] >= 0:\n",
        "            total += cycle[i][1]\n",
        "            valid_count += 1\n",
        "        if (i+1) % length < 1 or i == len(cycle)-1:\n",
        "            if valid_count == 0:\n",
        "              npout = np.append(npout,[[start,np.average(cycle)]],0)\n",
        "            else:\n",
        "              npout = np.append(npout,[[start,total/valid_count]],0)\n",
        "            total = 0\n",
        "            valid_count = 0\n",
        "            if i == len(cycle)-1:\n",
        "                break\n",
        "            start = cycle[i+1][0]\n",
        "    npout = npout[1:]\n",
        "    return npout\n",
        "\n",
        "#Test\n",
        "getSN_Day(cycle_23)\n",
        "getSNAverage(getSN_Day(cycle_23),365)"
      ],
      "execution_count": 9,
      "outputs": [
        {
          "output_type": "execute_result",
          "data": {
            "text/plain": [
              "array([[2.45029650e+06, 1.45643836e+01],\n",
              "       [2.45066150e+06, 6.19232877e+01],\n",
              "       [2.45102650e+06, 1.21704110e+02],\n",
              "       [2.45139150e+06, 1.69175342e+02],\n",
              "       [2.45175650e+06, 1.53487671e+02],\n",
              "       [2.45212150e+06, 1.78747945e+02],\n",
              "       [2.45248650e+06, 1.29030137e+02],\n",
              "       [2.45285150e+06, 7.85397260e+01],\n",
              "       [2.45321650e+06, 5.33808219e+01],\n",
              "       [2.45358150e+06, 3.17945205e+01],\n",
              "       [2.45394650e+06, 1.95780822e+01],\n",
              "       [2.45431150e+06, 6.09041096e+00],\n",
              "       [2.45467650e+06, 2.98400000e+00]])"
            ]
          },
          "metadata": {
            "tags": []
          },
          "execution_count": 9
        }
      ]
    },
    {
      "cell_type": "markdown",
      "metadata": {
        "id": "qTogHSG6CCzr"
      },
      "source": [
        "## LOI Luminosity - Import Pred_Y"
      ]
    },
    {
      "cell_type": "code",
      "metadata": {
        "colab": {
          "base_uri": "https://localhost:8080/"
        },
        "id": "kGEexqpOCLVe",
        "outputId": "11a47eaf-96a3-403d-dcf2-e510de5e5c24"
      },
      "source": [
        "#hdul = fits.open('data/allsites-alldata-waverage-fill.fits')\n",
        "hdul = fits.open('/content/drive/MyDrive/Korea Research - Yihong Song and Rohit Prasanna/DSHS & AOS Physics Research Collaboration 2020/Project/Jr:Sr Project/Data/ts_loi.fits')\n",
        "\n",
        "hdul.info()\n",
        "\n",
        "loidata = hdul[0].data\n",
        "\n",
        "# variations at at most 2000 ppm\n",
        "# cadence: 60s\n",
        "LOI_DSTART =        2450174.50000 #Data start (Julian)      1 April 1996 0:00:00                        \n",
        "LOI_DEND   =        2458589.50000 #Data end (Julian)        15 April 2019 0:00:00  \n",
        "\n",
        "#    #23\n",
        "# cycle_23 = [2450296.5,2454801.5]\n",
        "        \n",
        "#         #Start: 1 August 1996 2450296.5\n",
        "#         #End: 1 December 2008 2454801.5\n",
        "        \n",
        "#     #24\n",
        "# cycle_24 = [2454801.5,2458940.5]\n",
        "        \n",
        "#         #Start: 1 December 2008 2454801.5\n",
        "#         #End: 1 May 2020 2458970.5\n"
      ],
      "execution_count": 10,
      "outputs": [
        {
          "output_type": "stream",
          "text": [
            "Filename: /content/drive/MyDrive/Korea Research - Yihong Song and Rohit Prasanna/DSHS & AOS Physics Research Collaboration 2020/Project/Jr:Sr Project/Data/ts_loi.fits\n",
            "No.    Name      Ver    Type      Cards   Dimensions   Format\n",
            "  0  PRIMARY       1 PrimaryHDU       8   (12117600,)   float64   \n"
          ],
          "name": "stdout"
        }
      ]
    },
    {
      "cell_type": "code",
      "metadata": {
        "colab": {
          "base_uri": "https://localhost:8080/"
        },
        "id": "kRQ9lUiKCS0P",
        "outputId": "125f997d-016d-4d24-a183-e93fff91cc2b"
      },
      "source": [
        "#Prepare LOI\n",
        "\n",
        "if NOISE:\n",
        "  noise = np.random.normal(0, 0.2*np.max(loidata), loidata.shape)\n",
        "  loidata = np.add(loidata,noise)\n",
        "\n",
        "loidatax = np.arange(LOI_DSTART,LOI_DEND,1/1440)\n",
        "loifull = np.append([loidatax],[loidata],0).T\n",
        "print(loifull.shape)"
      ],
      "execution_count": 11,
      "outputs": [
        {
          "output_type": "stream",
          "text": [
            "(12117600, 2)\n"
          ],
          "name": "stdout"
        }
      ]
    },
    {
      "cell_type": "code",
      "metadata": {
        "colab": {
          "base_uri": "https://localhost:8080/"
        },
        "id": "-9zTYxeDCbYg",
        "outputId": "86d81a90-c2ae-47de-c35a-ef6617a9307d"
      },
      "source": [
        "def getLOI(cycle):\n",
        "    #Subtract starting date\n",
        "    cycle = np.subtract(cycle,LOI_DSTART)\n",
        "    \n",
        "    #multiply by 1440 (1440 datapoints per day)\n",
        "    cycle = np.multiply(cycle,1440)\n",
        "    \n",
        "    return loifull[int(cycle[0]):int(cycle[1])]\n",
        "\n",
        "print(getLOI([2450174.5,2458590.5]).shape)"
      ],
      "execution_count": 12,
      "outputs": [
        {
          "output_type": "stream",
          "text": [
            "(12117600, 2)\n"
          ],
          "name": "stdout"
        }
      ]
    },
    {
      "cell_type": "markdown",
      "metadata": {
        "id": "PP5GA4qKvi9u"
      },
      "source": [
        "## Helper Functions"
      ]
    },
    {
      "cell_type": "code",
      "metadata": {
        "id": "QVsGWCJsvyAF"
      },
      "source": [
        "#Interpolation\n",
        "def interpolate(data, smoothness):\n",
        "    from scipy import interpolate\n",
        "    x_new = np.linspace((data[0][0])-1,int(data[-1][0])+1,smoothness)\n",
        "    a_BSpline = interpolate.make_interp_spline(data.T[0],data.T[1])\n",
        "    y_new = a_BSpline(x_new)\n",
        "    return x_new,y_new"
      ],
      "execution_count": 169,
      "outputs": []
    },
    {
      "cell_type": "code",
      "metadata": {
        "id": "iHp-zY52JK0Q"
      },
      "source": [
        "def normalize1D(data):\n",
        "    return np.divide(np.nan_to_num(data,np.nanmean(data)),np.nanmax(data))"
      ],
      "execution_count": 14,
      "outputs": []
    },
    {
      "cell_type": "code",
      "metadata": {
        "id": "jZiUtYeIKP5k",
        "colab": {
          "base_uri": "https://localhost:8080/"
        },
        "outputId": "50b84c2f-6dab-4f28-a256-e94d2253b7ed"
      },
      "source": [
        "def normalize2D(data,feature = None):\n",
        "    threshold = 0.4\n",
        "    data = np.asarray(data).T\n",
        "    power = data[0:int(len(data)/2)].T\n",
        "    freq = data[int(len(data)/2):]\n",
        "    data = power\n",
        "    for i in range(int(len(data))):\n",
        "        # Scale to 0-1\n",
        "        if np.isnan(data[i]).all():\n",
        "            data[i] = np.nan_to_num(data[i],np.nanmean(data[i-1]))\n",
        "        else:\n",
        "            data[i] = np.nan_to_num(data[i],np.nanmean(data[i-1] if i > 0 else 0))\n",
        "            maximum = float(np.nanmax(data[i]))\n",
        "            maximum = maximum if maximum not in [\"nan\",0] else 1\n",
        "            data[i] = np.divide(data[i],maximum)\n",
        "\n",
        "    # Remove < 0.4\n",
        "    # for i in range(int(len(data))):\n",
        "    #     for j in range(int(len(data[i]))):\n",
        "    #         if data[i][j] < threshold:\n",
        "    #           data[i][j] = 0\n",
        "    value = 1 if feature == \"BiSON\" else 0\n",
        "    add = np.full((1,len(data)),value)\n",
        "    return np.append(add,np.append(data.T,freq,0),0).T\n",
        "\n",
        "print(normalize2D([[1.0,2,3,4,5,6,7,8,9,10],[2,3,4,5,6,7,8,9,10,11]],\"BiSON\"))"
      ],
      "execution_count": 15,
      "outputs": [
        {
          "output_type": "stream",
          "text": [
            "[[ 1.          0.2         0.4         0.6         0.8         1.\n",
            "   6.          7.          8.          9.         10.        ]\n",
            " [ 1.          0.33333333  0.5         0.66666667  0.83333333  1.\n",
            "   7.          8.          9.         10.         11.        ]]\n"
          ],
          "name": "stdout"
        }
      ]
    },
    {
      "cell_type": "code",
      "metadata": {
        "id": "TKfYGF1Gfu89"
      },
      "source": [
        "def removeNans(data):\n",
        "  arr = data.T[1]\n",
        "  arr[arr == 0] = 'nan'\n",
        "  return [data.T[0],arr].T"
      ],
      "execution_count": 16,
      "outputs": []
    },
    {
      "cell_type": "markdown",
      "metadata": {
        "id": "RdzzwEyWvELy"
      },
      "source": [
        "## Lightkurve Asteroseismology - Functions"
      ]
    },
    {
      "cell_type": "code",
      "metadata": {
        "colab": {
          "base_uri": "https://localhost:8080/"
        },
        "id": "Juc8dyxbuO_B",
        "outputId": "f84f56d9-4cb0-4bc2-98a7-68118a9fca43"
      },
      "source": [
        "def getPeriodogram(time,freq,numax=-1):\n",
        "    lc = lk.LightCurve(time=time.tolist(),flux=freq.tolist())\n",
        "    lc = lc.remove_nans()\n",
        "    if numax != -1:\n",
        "        pg = lc.to_periodogram(method='lombscargle', normalization='psd',minimum_frequency=numax-500, maximum_frequency=numax+500) #-600, +1000\n",
        "    else:\n",
        "        pg = lc.to_periodogram(method='lombscargle', normalization='psd',minimum_frequency=500, maximum_frequency=5000)\n",
        "    #ax = pg.plot()\n",
        "    return pg.flatten()\n",
        "\n",
        "pg = getPeriodogram(getSV_index(cycle_23)[110000:120000],getSV(cycle_23)[110000:120000])[0:5]\n",
        "print(pg)"
      ],
      "execution_count": 17,
      "outputs": [
        {
          "output_type": "stream",
          "text": [
            "SNRPeriodogram(ID: None)\n"
          ],
          "name": "stdout"
        }
      ]
    },
    {
      "cell_type": "code",
      "metadata": {
        "colab": {
          "base_uri": "https://localhost:8080/"
        },
        "id": "dbhEO8JyyFX7",
        "outputId": "d55a77aa-34ff-48fd-9d48-19ef1f92bc3b"
      },
      "source": [
        "def getPower(pg):\n",
        "    pg_data = pg.to_table()\n",
        "    data = np.array(pg_data['power']).T#.tolist()\n",
        "    return data\n",
        "\n",
        "ptest = getPower(getPeriodogram(getSV_index(cycle_23)[110000:120000],getSV(cycle_23)[110000:120000]))[0:5]\n",
        "print(ptest)"
      ],
      "execution_count": 18,
      "outputs": [
        {
          "output_type": "stream",
          "text": [
            "[1.8647114  0.60279692 0.25367425 0.61840873 0.11310825]\n"
          ],
          "name": "stdout"
        }
      ]
    },
    {
      "cell_type": "code",
      "metadata": {
        "colab": {
          "base_uri": "https://localhost:8080/"
        },
        "id": "UmGy8zFj7j31",
        "outputId": "97da8b25-cf2c-4a8b-a714-c392ba55be5f"
      },
      "source": [
        "def getModes(pg,deltanu):\n",
        "    pg_data = pg.to_table()\n",
        "    data = np.array(pg_data['power']).T#.tolist()\n",
        "    #deltanu = int(deltanu*5.2) #scaling factor\n",
        "    length = int(len(data)/15)\n",
        "    out = []\n",
        "    outindex = []\n",
        "    for i in range(6,int(len(data)),length):\n",
        "        highest = -100\n",
        "        highestindex = 0\n",
        "        for j in range(i,min(int(len(data)),i+length)):\n",
        "            if data[j] >= highest:\n",
        "                highest = data[j]\n",
        "                highestindex = j\n",
        "        outindex = np.append(outindex,highestindex/int(len(data)))\n",
        "        out = np.append(out,highest)\n",
        "\n",
        "    return np.append(out,outindex)\n",
        "\n",
        "mtest = getModes(getPeriodogram(getSV_index(cycle_23)[110000:120000],getSV(cycle_23)[110000:120000]),135.231610746949)\n",
        "print(mtest,mtest.shape)\n",
        "        "
      ],
      "execution_count": 19,
      "outputs": [
        {
          "output_type": "stream",
          "text": [
            "[7.17626956e+00 4.48497237e+00 5.14808119e+00 6.60090347e+00\n",
            " 7.22529052e+00 2.56212826e+01 4.91433134e+01 7.82265410e+01\n",
            " 1.07699461e+02 3.25588096e+01 1.32481425e+01 1.86162301e+01\n",
            " 8.18082737e+00 7.03552462e+00 4.46056015e+00 6.66666667e-02\n",
            " 8.33333333e-02 1.78888889e-01 2.34444444e-01 2.91111111e-01\n",
            " 3.81666667e-01 4.27777778e-01 5.17222222e-01 5.92777778e-01\n",
            " 6.67222222e-01 6.81666667e-01 7.73333333e-01 8.51111111e-01\n",
            " 9.27777778e-01 9.86666667e-01] (30,)\n"
          ],
          "name": "stdout"
        }
      ]
    },
    {
      "cell_type": "code",
      "metadata": {
        "colab": {
          "base_uri": "https://localhost:8080/"
        },
        "id": "skiqRJwiyTQS",
        "outputId": "7a6de4fd-e72d-460d-9338-82d9264d8c50"
      },
      "source": [
        "def getNumax(pg):\n",
        "  snr = pg.flatten()\n",
        "  seis = snr.to_seismology()\n",
        "  numax = float(str(seis.estimate_numax())[:-6])\n",
        "  deltanu = float(str(seis.estimate_deltanu(numax=numax))[:-6])\n",
        "\n",
        "  return numax,deltanu\n",
        "\n",
        "nutest,deltanu = getNumax(getPeriodogram(getSV_index(cycle_23)[110000:120000],getSV(cycle_23)[110000:120000]))\n",
        "print(nutest,deltanu)"
      ],
      "execution_count": 20,
      "outputs": [
        {
          "output_type": "stream",
          "text": [
            "3105.0 135.231610746949\n"
          ],
          "name": "stdout"
        }
      ]
    },
    {
      "cell_type": "code",
      "metadata": {
        "id": "ISIWlXg4vILA"
      },
      "source": [
        "def tsPower(time,freq,length,interval,BiSON=False):\n",
        "  if BiSON:\n",
        "      length = int(length * 2160)\n",
        "      interval = int(interval * 2160)\n",
        "  else:\n",
        "      length = int(length * 1440)\n",
        "      interval = int(interval * 1440)\n",
        "  \n",
        "  numax,deltanu = getNumax(getPeriodogram(time[:500000],freq[:500000]))\n",
        "\n",
        "  check = True\n",
        "  for start in range(0,len(time),interval):\n",
        "      if start + length >= len(time):\n",
        "          length = len(time) - start\n",
        "      if check:\n",
        "        check = False\n",
        "        npout1d = np.array([getModes(getPeriodogram(time[start:start+length],freq[start:start+length],numax),deltanu)])\n",
        "      else:\n",
        "        temp = np.array([getModes(getPeriodogram(time[start:start+length],freq[start:start+length],numax),deltanu)])\n",
        "        if temp.size == npout1d[-1].size:\n",
        "          npout1d = np.append(npout1d,temp,0)\n",
        "\n",
        "\n",
        "  return npout1d,numax"
      ],
      "execution_count": 21,
      "outputs": []
    },
    {
      "cell_type": "code",
      "metadata": {
        "id": "2BMN0X1BYper"
      },
      "source": [
        "def toLightCurve(time,freq):\n",
        "  return lk.LightCurve(time=time,flux=freq)"
      ],
      "execution_count": 22,
      "outputs": []
    },
    {
      "cell_type": "code",
      "metadata": {
        "id": "GZczSCZzgEba"
      },
      "source": [
        "def toData(lc):\n",
        "    lc_data = lc.to_table()\n",
        "    data = np.array(lc_data['flux'])\n",
        "    \n"
      ],
      "execution_count": 23,
      "outputs": []
    },
    {
      "cell_type": "markdown",
      "metadata": {
        "id": "x1LYwyeEvkrf"
      },
      "source": [
        "## Model Preprocessing"
      ]
    },
    {
      "cell_type": "markdown",
      "metadata": {
        "id": "U4eOXkoW7XKZ"
      },
      "source": [
        "### BiSON Surface Velocity - Preprocess X"
      ]
    },
    {
      "cell_type": "code",
      "metadata": {
        "id": "eVKe_vlRvY2L"
      },
      "source": [
        "BiSON_ts_23,BiSON_numax_23= tsPower(getSV_index(cycle_23),getSV(cycle_23),90,30,True)"
      ],
      "execution_count": 24,
      "outputs": []
    },
    {
      "cell_type": "code",
      "metadata": {
        "colab": {
          "base_uri": "https://localhost:8080/"
        },
        "id": "vLX6vNIk2Beb",
        "outputId": "c9666dae-70c5-4399-cad6-8aa07789ff83"
      },
      "source": [
        "print(BiSON_numax_23,BiSON_ts_23.shape)\n",
        "print(BiSON_ts_23[:5])"
      ],
      "execution_count": 25,
      "outputs": [
        {
          "output_type": "stream",
          "text": [
            "3005.0 (149, 30)\n",
            "[[1.15271974e+02 7.62480426e+01 2.18817625e+02 8.81822238e+01\n",
            "  1.29319464e+02 1.81549225e+02 1.47028607e+02 1.44118859e+02\n",
            "  1.48548598e+02 1.25074389e+02 1.89380742e+02 9.76172160e+01\n",
            "  6.51703586e+01 7.95213151e+01 8.77684774e+01 5.49125514e-02\n",
            "  1.24228395e-01 1.87628601e-01 2.50385802e-01 3.22659465e-01\n",
            "  3.85673868e-01 4.58719136e-01 5.18775720e-01 5.93878601e-01\n",
            "  6.63451646e-01 7.28780864e-01 7.97710905e-01 8.63040123e-01\n",
            "  9.26568930e-01 9.98713992e-01]\n",
            " [1.20662207e+02 1.09534756e+02 1.27195697e+02 8.01138988e+01\n",
            "  1.50261818e+02 2.04940655e+02 1.13616726e+02 9.78226935e+01\n",
            "  1.13764143e+02 1.43280142e+02 1.16822701e+02 7.88051908e+01\n",
            "  8.19551162e+01 6.39285912e+01 6.06753449e+01 5.49125514e-02\n",
            "  1.24871399e-01 1.87628601e-01 2.59130658e-01 3.22788066e-01\n",
            "  3.85159465e-01 4.58461934e-01 5.28806584e-01 5.92335391e-01\n",
            "  6.54063786e-01 7.28780864e-01 7.98868313e-01 8.63811728e-01\n",
            "  9.26568930e-01 9.98328189e-01]\n",
            " [1.04053419e+02 9.84509746e+01 1.37427260e+02 6.98811659e+01\n",
            "  1.92395344e+02 1.82494896e+02 1.21173808e+02 9.11919107e+01\n",
            "  1.01752130e+02 5.98001217e+01 1.96815884e+02 4.25188266e+01\n",
            "  8.60468219e+01 4.85719450e+01 5.51734352e+01 5.36265432e-02\n",
            "  1.24742798e-01 1.87757202e-01 2.59259259e-01 3.23431070e-01\n",
            "  3.85159465e-01 4.58461934e-01 5.28549383e-01 5.93106996e-01\n",
            "  6.63837449e-01 7.28523663e-01 7.89737654e-01 8.64454733e-01\n",
            "  9.32870370e-01 9.98713992e-01]\n",
            " [8.02217009e+01 6.28785416e+01 7.28795221e+01 7.74959394e+01\n",
            "  8.99198627e+01 9.60338594e+01 2.04979690e+02 8.14995890e+01\n",
            "  1.51668261e+02 7.05840326e+01 1.26874680e+02 5.67034924e+01\n",
            "  1.47168413e+02 5.40959380e+01 4.26232454e+01 5.37551440e-02\n",
            "  1.24614198e-01 1.88400206e-01 2.58616255e-01 3.23431070e-01\n",
            "  3.85159465e-01 4.58461934e-01 5.28549383e-01 5.92978395e-01\n",
            "  6.55478395e-01 7.27623457e-01 7.89609053e-01 8.64583333e-01\n",
            "  9.32870370e-01 9.33641975e-01]\n",
            " [6.53309610e+01 7.45337293e+01 9.76005218e+01 6.92937957e+01\n",
            "  8.22004903e+01 5.23586237e+01 1.87692942e+02 8.54907077e+01\n",
            "  1.37790296e+02 5.75049349e+01 1.73448529e+02 8.15444650e+01\n",
            "  8.54970863e+01 3.48277105e+01 3.73587886e+01 5.46553498e-02\n",
            "  1.15483539e-01 1.88143004e-01 2.59259259e-01 3.23559671e-01\n",
            "  3.85416667e-01 4.58590535e-01 5.20576132e-01 5.93621399e-01\n",
            "  6.55606996e-01 7.28652263e-01 7.90766461e-01 8.64583333e-01\n",
            "  9.25411523e-01 9.34027778e-01]]\n"
          ],
          "name": "stdout"
        }
      ]
    },
    {
      "cell_type": "code",
      "metadata": {
        "id": "mFoyeOmL6k1z"
      },
      "source": [
        "BiSON_ts_24,BiSON_numax_24 = tsPower(getSV_index(cycle_24),getSV(cycle_24),90,30,True)"
      ],
      "execution_count": 26,
      "outputs": []
    },
    {
      "cell_type": "code",
      "metadata": {
        "colab": {
          "base_uri": "https://localhost:8080/"
        },
        "id": "12_hPsaQ7HAx",
        "outputId": "e6ee6bc4-cf9b-4747-a0de-f15854aaee8d"
      },
      "source": [
        "print(BiSON_numax_24,BiSON_ts_24.shape)\n",
        "print(BiSON_ts_24[:5])"
      ],
      "execution_count": 27,
      "outputs": [
        {
          "output_type": "stream",
          "text": [
            "3025.0 (136, 30)\n",
            "[[8.48666209e+01 5.10353671e+01 1.13605319e+02 8.14340516e+01\n",
            "  1.28103291e+02 1.18285666e+02 1.34750920e+02 9.16048957e+01\n",
            "  2.21000722e+02 5.27948988e+01 5.33435229e+01 5.25127461e+01\n",
            "  7.20185787e+01 4.95608013e+01 6.24252038e+01 3.45936214e-02\n",
            "  1.04423868e-01 1.68081276e-01 2.30324074e-01 3.03112140e-01\n",
            "  3.63425926e-01 4.37885802e-01 5.09002058e-01 5.73173868e-01\n",
            "  6.34387860e-01 7.07433128e-01 7.69547325e-01 8.43750000e-01\n",
            "  9.05092593e-01 9.79038066e-01]\n",
            " [7.79143125e+01 6.29978123e+01 9.75480669e+01 7.37574195e+01\n",
            "  1.66399630e+02 1.13074627e+02 1.46323641e+02 9.91841480e+01\n",
            "  1.39346061e+02 8.22631915e+01 1.32981319e+02 9.73371056e+01\n",
            "  4.35601354e+01 3.60031953e+01 3.41181708e+01 3.43364198e-02\n",
            "  1.04423868e-01 1.68724280e-01 2.39326132e-01 3.03369342e-01\n",
            "  3.64711934e-01 4.37885802e-01 5.08487654e-01 5.73173868e-01\n",
            "  6.34387860e-01 7.08076132e-01 7.70961934e-01 8.43106996e-01\n",
            "  9.14351852e-01 9.78523663e-01]\n",
            " [3.74859801e+01 6.60167653e+01 7.58027817e+01 7.16974972e+01\n",
            "  1.30695109e+02 9.26193484e+01 1.61517659e+02 1.42496191e+02\n",
            "  7.19732392e+01 1.34501195e+02 1.18177162e+02 8.83217759e+01\n",
            "  5.08025905e+01 3.63409273e+01 2.63766125e+01 3.43364198e-02\n",
            "  9.52932099e-02 1.68209877e-01 2.39326132e-01 3.03497942e-01\n",
            "  3.64711934e-01 4.37885802e-01 5.08744856e-01 5.73816872e-01\n",
            "  6.35288066e-01 7.08076132e-01 7.70961934e-01 8.44650206e-01\n",
            "  9.14223251e-01 9.79295267e-01]\n",
            " [5.10990585e+01 7.58902416e+01 5.40403751e+01 1.04870454e+02\n",
            "  1.12405788e+02 1.21234135e+02 1.91209749e+02 2.41266073e+02\n",
            "  1.61044186e+02 1.47108298e+02 1.10805257e+02 9.76897139e+01\n",
            "  5.45575329e+01 5.06851088e+01 9.82880563e+01 3.39506173e-02\n",
            "  9.51646091e-02 1.68467078e-01 2.39326132e-01 3.03626543e-01\n",
            "  3.73842593e-01 4.38657407e-01 5.08744856e-01 5.73816872e-01\n",
            "  6.35416667e-01 7.07690329e-01 7.79192387e-01 8.44135802e-01\n",
            "  9.04063786e-01 9.78780864e-01]\n",
            " [6.68555699e+01 7.28388338e+01 5.70852663e+01 6.57758067e+01\n",
            "  1.61602771e+02 1.04885484e+02 1.54911064e+02 1.44419933e+02\n",
            "  1.34549326e+02 1.08958753e+02 1.34060271e+02 8.98754362e+01\n",
            "  4.86591039e+01 4.00469125e+01 5.97390655e+01 3.35648148e-02\n",
            "  9.50360082e-02 1.68338477e-01 2.30195473e-01 3.03755144e-01\n",
            "  3.73713992e-01 4.38014403e-01 5.08744856e-01 5.73816872e-01\n",
            "  6.43647119e-01 7.07690329e-01 7.78420782e-01 8.43621399e-01\n",
            "  9.06250000e-01 9.78909465e-01]]\n"
          ],
          "name": "stdout"
        }
      ]
    },
    {
      "cell_type": "code",
      "metadata": {
        "id": "sp23I4WT7qUj",
        "colab": {
          "base_uri": "https://localhost:8080/"
        },
        "outputId": "3d66e3b1-ac3f-4dc1-d06b-09bdef869a1e"
      },
      "source": [
        "BiSON_ts_full,BiSON_numax_full = tsPower(getSV_index(cycle_2324),getSV(cycle_2324),90,30,True)"
      ],
      "execution_count": 28,
      "outputs": [
        {
          "output_type": "stream",
          "text": [
            "/usr/local/lib/python3.7/dist-packages/astropy/units/quantity.py:477: RuntimeWarning: divide by zero encountered in true_divide\n",
            "  result = super().__array_ufunc__(function, method, *arrays, **kwargs)\n",
            "/usr/local/lib/python3.7/dist-packages/astropy/units/quantity.py:477: RuntimeWarning: invalid value encountered in multiply\n",
            "  result = super().__array_ufunc__(function, method, *arrays, **kwargs)\n"
          ],
          "name": "stderr"
        }
      ]
    },
    {
      "cell_type": "code",
      "metadata": {
        "colab": {
          "base_uri": "https://localhost:8080/"
        },
        "id": "pWB8ykV38zVe",
        "outputId": "78e7cf6a-9cb4-40bb-fa31-6d8780924f08"
      },
      "source": [
        "print(BiSON_numax_full,BiSON_ts_full.shape)\n",
        "print(BiSON_ts_full[:5])"
      ],
      "execution_count": 29,
      "outputs": [
        {
          "output_type": "stream",
          "text": [
            "3005.0 (287, 30)\n",
            "[[1.15271974e+02 7.62480426e+01 2.18817625e+02 8.81822238e+01\n",
            "  1.29319464e+02 1.81549225e+02 1.47028607e+02 1.44118859e+02\n",
            "  1.48548598e+02 1.25074389e+02 1.89380742e+02 9.76172160e+01\n",
            "  6.51703586e+01 7.95213151e+01 8.77684774e+01 5.49125514e-02\n",
            "  1.24228395e-01 1.87628601e-01 2.50385802e-01 3.22659465e-01\n",
            "  3.85673868e-01 4.58719136e-01 5.18775720e-01 5.93878601e-01\n",
            "  6.63451646e-01 7.28780864e-01 7.97710905e-01 8.63040123e-01\n",
            "  9.26568930e-01 9.98713992e-01]\n",
            " [1.20662207e+02 1.09534756e+02 1.27195697e+02 8.01138988e+01\n",
            "  1.50261818e+02 2.04940655e+02 1.13616726e+02 9.78226935e+01\n",
            "  1.13764143e+02 1.43280142e+02 1.16822701e+02 7.88051908e+01\n",
            "  8.19551162e+01 6.39285912e+01 6.06753449e+01 5.49125514e-02\n",
            "  1.24871399e-01 1.87628601e-01 2.59130658e-01 3.22788066e-01\n",
            "  3.85159465e-01 4.58461934e-01 5.28806584e-01 5.92335391e-01\n",
            "  6.54063786e-01 7.28780864e-01 7.98868313e-01 8.63811728e-01\n",
            "  9.26568930e-01 9.98328189e-01]\n",
            " [1.04053419e+02 9.84509746e+01 1.37427260e+02 6.98811659e+01\n",
            "  1.92395344e+02 1.82494896e+02 1.21173808e+02 9.11919107e+01\n",
            "  1.01752130e+02 5.98001217e+01 1.96815884e+02 4.25188266e+01\n",
            "  8.60468219e+01 4.85719450e+01 5.51734352e+01 5.36265432e-02\n",
            "  1.24742798e-01 1.87757202e-01 2.59259259e-01 3.23431070e-01\n",
            "  3.85159465e-01 4.58461934e-01 5.28549383e-01 5.93106996e-01\n",
            "  6.63837449e-01 7.28523663e-01 7.89737654e-01 8.64454733e-01\n",
            "  9.32870370e-01 9.98713992e-01]\n",
            " [8.02217009e+01 6.28785416e+01 7.28795221e+01 7.74959394e+01\n",
            "  8.99198627e+01 9.60338594e+01 2.04979690e+02 8.14995890e+01\n",
            "  1.51668261e+02 7.05840326e+01 1.26874680e+02 5.67034924e+01\n",
            "  1.47168413e+02 5.40959380e+01 4.26232454e+01 5.37551440e-02\n",
            "  1.24614198e-01 1.88400206e-01 2.58616255e-01 3.23431070e-01\n",
            "  3.85159465e-01 4.58461934e-01 5.28549383e-01 5.92978395e-01\n",
            "  6.55478395e-01 7.27623457e-01 7.89609053e-01 8.64583333e-01\n",
            "  9.32870370e-01 9.33641975e-01]\n",
            " [6.53309610e+01 7.45337293e+01 9.76005218e+01 6.92937957e+01\n",
            "  8.22004903e+01 5.23586237e+01 1.87692942e+02 8.54907077e+01\n",
            "  1.37790296e+02 5.75049349e+01 1.73448529e+02 8.15444650e+01\n",
            "  8.54970863e+01 3.48277105e+01 3.73587886e+01 5.46553498e-02\n",
            "  1.15483539e-01 1.88143004e-01 2.59259259e-01 3.23559671e-01\n",
            "  3.85416667e-01 4.58590535e-01 5.20576132e-01 5.93621399e-01\n",
            "  6.55606996e-01 7.28652263e-01 7.90766461e-01 8.64583333e-01\n",
            "  9.25411523e-01 9.34027778e-01]]\n"
          ],
          "name": "stdout"
        }
      ]
    },
    {
      "cell_type": "markdown",
      "metadata": {
        "id": "8n-wlqek7giV"
      },
      "source": [
        "### Sunspot Number - Preprocess Y"
      ]
    },
    {
      "cell_type": "code",
      "metadata": {
        "id": "0fn2OZLNBYc0"
      },
      "source": [
        "SN_DELETE = -3"
      ],
      "execution_count": 30,
      "outputs": []
    },
    {
      "cell_type": "code",
      "metadata": {
        "colab": {
          "base_uri": "https://localhost:8080/"
        },
        "id": "vUm9luU47IGy",
        "outputId": "7cc89593-d6fb-400a-b43a-5b9e76c6b42a"
      },
      "source": [
        "SN_ts_23 = getSNAverage(np.ma.masked_equal(getSN_Day(cycle_23),0),30)[:SN_DELETE]\n",
        "print(SN_ts_23.shape)"
      ],
      "execution_count": 31,
      "outputs": [
        {
          "output_type": "stream",
          "text": [
            "(148, 2)\n"
          ],
          "name": "stdout"
        }
      ]
    },
    {
      "cell_type": "code",
      "metadata": {
        "colab": {
          "base_uri": "https://localhost:8080/"
        },
        "id": "w0JqYzN1-j89",
        "outputId": "894e1c91-dcd5-4dc2-9dbf-be48a859617d"
      },
      "source": [
        "SN_ts_24 = getSNAverage(np.ma.masked_equal(getSN_Day(cycle_24),0),30)[:SN_DELETE]\n",
        "print(SN_ts_24.shape)"
      ],
      "execution_count": 32,
      "outputs": [
        {
          "output_type": "stream",
          "text": [
            "(135, 2)\n"
          ],
          "name": "stdout"
        }
      ]
    },
    {
      "cell_type": "code",
      "metadata": {
        "colab": {
          "base_uri": "https://localhost:8080/"
        },
        "id": "orldmhXG_IR7",
        "outputId": "bd741b16-e115-4e25-ec89-d56d792d6bee"
      },
      "source": [
        "SN_ts_full = getSNAverage(np.ma.masked_equal(getSN_Day(cycle_2324),0),30)[:SN_DELETE]\n",
        "print(SN_ts_full.shape)"
      ],
      "execution_count": 33,
      "outputs": [
        {
          "output_type": "stream",
          "text": [
            "(286, 2)\n"
          ],
          "name": "stdout"
        }
      ]
    },
    {
      "cell_type": "markdown",
      "metadata": {
        "id": "H2RNBiUsBnCn"
      },
      "source": [
        "### LOI Luminosity - Preprocess Pred_Y"
      ]
    },
    {
      "cell_type": "code",
      "metadata": {
        "colab": {
          "base_uri": "https://localhost:8080/"
        },
        "id": "bQrZ1Hx9_KNg",
        "outputId": "b6f03ec4-cbe5-4fbf-c579-506bbb99f1c9"
      },
      "source": [
        "print(getLOI(cycle_23).shape)\n",
        "print(getLOI(cycle_23)[:10])"
      ],
      "execution_count": 34,
      "outputs": [
        {
          "output_type": "stream",
          "text": [
            "(6487200, 2)\n",
            "[[ 2.45029650e+06 -2.08807224e-04]\n",
            " [ 2.45029650e+06 -1.99935382e-04]\n",
            " [ 2.45029650e+06 -2.12478601e-04]\n",
            " [ 2.45029650e+06 -2.09473520e-04]\n",
            " [ 2.45029650e+06 -2.38117448e-04]\n",
            " [ 2.45029650e+06 -2.55843421e-04]\n",
            " [ 2.45029650e+06 -2.29274237e-04]\n",
            " [ 2.45029650e+06 -2.39407792e-04]\n",
            " [ 2.45029651e+06 -2.34207347e-04]\n",
            " [ 2.45029651e+06 -1.84112930e-04]]\n"
          ],
          "name": "stdout"
        }
      ]
    },
    {
      "cell_type": "code",
      "metadata": {
        "id": "Nq_-jtMVC9j6",
        "colab": {
          "base_uri": "https://localhost:8080/"
        },
        "outputId": "571f535a-4cff-41fb-c42c-b1706788d97c"
      },
      "source": [
        "LOI_ts_23,LOI_numax_23= tsPower(getLOI(cycle_23).T[0],getLOI(cycle_23).T[1],90,30)"
      ],
      "execution_count": 35,
      "outputs": [
        {
          "output_type": "stream",
          "text": [
            "/usr/local/lib/python3.7/dist-packages/astropy/units/quantity.py:477: RuntimeWarning: divide by zero encountered in true_divide\n",
            "  result = super().__array_ufunc__(function, method, *arrays, **kwargs)\n",
            "/usr/local/lib/python3.7/dist-packages/astropy/units/quantity.py:477: RuntimeWarning: invalid value encountered in multiply\n",
            "  result = super().__array_ufunc__(function, method, *arrays, **kwargs)\n"
          ],
          "name": "stderr"
        }
      ]
    },
    {
      "cell_type": "code",
      "metadata": {
        "colab": {
          "base_uri": "https://localhost:8080/"
        },
        "id": "vAtqlsO2DkxS",
        "outputId": "363ecf3c-32e3-452a-e920-8449d85e7d78"
      },
      "source": [
        "print(LOI_numax_23,LOI_ts_23.shape)\n",
        "print(LOI_ts_23[0:5])"
      ],
      "execution_count": 36,
      "outputs": [
        {
          "output_type": "stream",
          "text": [
            "3135.0 (149, 30)\n",
            "[[4.79816565e+01 2.31074080e+01 7.84415714e+01 5.19360880e+01\n",
            "  6.13852025e+01 4.86421782e+01 5.85902283e+01 4.49463499e+01\n",
            "  6.31807730e+01 3.78309025e+01 5.52999094e+01 3.63698232e+01\n",
            "  2.89420075e+01 4.64818364e+01 1.76538101e+01 5.76131687e-02\n",
            "  1.29115226e-01 1.93415638e-01 2.55658436e-01 3.28703704e-01\n",
            "  3.89531893e-01 4.63348765e-01 5.33307613e-01 5.97993827e-01\n",
            "  6.60751029e-01 6.67695473e-01 7.33796296e-01 8.03755144e-01\n",
            "  8.68698560e-01 9.40329218e-01]\n",
            " [4.15604839e+01 2.78987425e+01 1.07876524e+02 4.72783681e+01\n",
            "  4.96324375e+01 6.61171525e+01 5.27382686e+01 6.23478589e+01\n",
            "  6.08661442e+01 1.85416993e+01 5.09174436e+01 4.68129923e+01\n",
            "  2.07163356e+01 3.34645546e+01 1.45352102e+01 5.83847737e-02\n",
            "  1.28858025e-01 1.93415638e-01 2.55144033e-01 3.28446502e-01\n",
            "  3.98791152e-01 4.62319959e-01 5.33307613e-01 5.98122428e-01\n",
            "  6.61008230e-01 6.68852881e-01 7.35210905e-01 8.03497942e-01\n",
            "  8.68312757e-01 9.38271605e-01]\n",
            " [3.44844617e+01 3.32035856e+01 1.10475262e+02 5.56160969e+01\n",
            "  4.61826326e+01 5.64661196e+01 1.10544289e+02 4.32326009e+01\n",
            "  1.03523061e+02 1.71664024e+01 4.40290988e+01 3.94720630e+01\n",
            "  3.09407912e+01 2.68614109e+01 1.29698836e+01 5.77417695e-02\n",
            "  1.29243827e-01 1.93415638e-01 2.55144033e-01 3.28446502e-01\n",
            "  3.89531893e-01 4.63091564e-01 5.33436214e-01 5.98251029e-01\n",
            "  6.59722222e-01 7.33153292e-01 7.35210905e-01 8.02854938e-01\n",
            "  8.68698560e-01 9.38271605e-01]\n",
            " [3.01376869e+01 5.34477890e+01 7.00514586e+01 4.68865305e+01\n",
            "  1.02077542e+02 4.25741670e+01 7.78714200e+01 4.12679738e+01\n",
            "  1.00294378e+02 2.85187653e+01 3.95190412e+01 8.95744963e+01\n",
            "  3.16053740e+01 1.91587204e+01 1.29492350e+01 5.83847737e-02\n",
            "  1.28986626e-01 1.92772634e-01 2.63503086e-01 3.28446502e-01\n",
            "  3.98919753e-01 4.62962963e-01 5.25462963e-01 5.97608025e-01\n",
            "  6.59593621e-01 7.33024691e-01 7.34567901e-01 8.02854938e-01\n",
            "  8.68055556e-01 9.39300412e-01]\n",
            " [2.30889306e+01 4.35475280e+01 7.64909083e+01 6.70300515e+01\n",
            "  1.27335019e+02 5.66376485e+01 9.89534572e+01 6.06131962e+01\n",
            "  1.23864679e+02 6.42729637e+01 5.31307573e+01 8.66641634e+01\n",
            "  5.55452584e+01 2.96938884e+01 1.97305568e+01 5.97993827e-02\n",
            "  1.28986626e-01 1.93801440e-01 2.64146091e-01 3.28575103e-01\n",
            "  3.98791152e-01 4.63605967e-01 5.33436214e-01 5.98636831e-01\n",
            "  6.59593621e-01 6.68724280e-01 7.34567901e-01 8.04398148e-01\n",
            "  8.68569959e-01 9.39557613e-01]]\n"
          ],
          "name": "stdout"
        }
      ]
    },
    {
      "cell_type": "code",
      "metadata": {
        "id": "mFzeLBpGD5Is"
      },
      "source": [
        "LOI_ts_24,LOI_numax_24= tsPower(getLOI(cycle_24).T[0],getLOI(cycle_24).T[1],90,30)"
      ],
      "execution_count": 37,
      "outputs": []
    },
    {
      "cell_type": "code",
      "metadata": {
        "id": "La4xs0vgEcfl",
        "colab": {
          "base_uri": "https://localhost:8080/"
        },
        "outputId": "3baf07e5-4f0e-4306-fd32-25609fdff72b"
      },
      "source": [
        "print(LOI_numax_24,LOI_ts_24.shape)\n",
        "print(LOI_ts_24[0:5])"
      ],
      "execution_count": 38,
      "outputs": [
        {
          "output_type": "stream",
          "text": [
            "3115.0 (125, 30)\n",
            "[[1.80191605e+01 4.73493574e+01 2.79705684e+01 1.07285120e+02\n",
            "  5.25345502e+01 1.38036315e+02 1.03147692e+02 2.28169799e+02\n",
            "  4.72811053e+01 9.02007494e+01 6.09972150e+01 5.40109011e+01\n",
            "  3.62100814e+01 5.67827527e+01 2.54749495e+01 1.47890947e-02\n",
            "  7.80606996e-02 1.39146091e-01 2.13091564e-01 2.75205761e-01\n",
            "  3.47865226e-01 4.18981481e-01 4.83153292e-01 5.53112140e-01\n",
            "  6.18569959e-01 6.79526749e-01 7.53729424e-01 8.24074074e-01\n",
            "  8.89017490e-01 9.52546296e-01]\n",
            " [3.64533705e+01 7.35971075e+01 3.93034633e+01 7.10426219e+01\n",
            "  6.46252803e+01 1.32293272e+02 9.04749116e+01 1.63440138e+02\n",
            "  5.53788672e+01 1.89854609e+02 6.18779843e+01 3.25903386e+01\n",
            "  3.27238968e+01 3.31300780e+01 2.40597421e+01 1.44032922e-02\n",
            "  7.87037037e-02 1.49305556e-01 2.13091564e-01 2.84593621e-01\n",
            "  3.47865226e-01 4.18467078e-01 4.83153292e-01 5.43724280e-01\n",
            "  6.18055556e-01 6.80941358e-01 7.53086420e-01 8.24202675e-01\n",
            "  8.89017490e-01 9.57047325e-01]\n",
            " [2.88389928e+01 4.35973132e+01 6.17221521e+01 5.05050186e+01\n",
            "  7.24171390e+01 1.10162037e+02 1.41929002e+02 1.28137120e+02\n",
            "  7.68650340e+01 2.29789856e+02 7.38175273e+01 6.37214934e+01\n",
            "  3.17545922e+01 3.41402454e+01 2.21238411e+01 1.47890947e-02\n",
            "  7.81893004e-02 1.49305556e-01 2.12834362e-01 2.84593621e-01\n",
            "  3.47865226e-01 4.18724280e-01 4.83281893e-01 5.45267490e-01\n",
            "  6.18055556e-01 6.80941358e-01 7.54629630e-01 8.24202675e-01\n",
            "  8.89274691e-01 9.58719136e-01]\n",
            " [2.23706860e+01 2.33962468e+01 5.29535421e+01 7.98269570e+01\n",
            "  1.02004113e+02 8.75445452e+01 2.04906567e+02 1.96936139e+02\n",
            "  7.69631380e+01 1.25974533e+02 8.74305634e+01 5.02405127e+01\n",
            "  5.20403584e+01 7.80579425e+01 4.04039322e+01 1.42746914e-02\n",
            "  7.75462963e-02 1.49305556e-01 2.13605967e-01 2.83822016e-01\n",
            "  3.48636831e-01 4.18724280e-01 4.83796296e-01 5.53112140e-01\n",
            "  6.18055556e-01 6.89171811e-01 7.54115226e-01 8.25102881e-01\n",
            "  8.88760288e-01 9.58719136e-01]\n",
            " [5.20591207e+01 2.84858021e+01 4.83032071e+01 9.84255811e+01\n",
            "  1.20921181e+02 1.10913081e+02 1.15473487e+02 1.84691225e+02\n",
            "  1.37928238e+02 1.14459004e+02 9.11781877e+01 4.78039506e+01\n",
            "  4.60838404e+01 6.93777393e+01 3.42461844e+01 1.46604938e-02\n",
            "  7.81893004e-02 1.49176955e-01 2.13734568e-01 2.83822016e-01\n",
            "  3.48636831e-01 4.18724280e-01 4.83796296e-01 5.53626543e-01\n",
            "  6.18055556e-01 6.88657407e-01 7.53600823e-01 8.25102881e-01\n",
            "  8.88888889e-01 9.60519547e-01]]\n"
          ],
          "name": "stdout"
        }
      ]
    },
    {
      "cell_type": "code",
      "metadata": {
        "id": "lX70UBDtEeAV",
        "colab": {
          "base_uri": "https://localhost:8080/"
        },
        "outputId": "da14f7d6-9ff4-477e-aae6-b5be704bd59f"
      },
      "source": [
        "LOI_ts_full,LOI_numax_full= tsPower(getLOI(cycle_2324).T[0],getLOI(cycle_2324).T[1],90,30)"
      ],
      "execution_count": 39,
      "outputs": [
        {
          "output_type": "stream",
          "text": [
            "/usr/local/lib/python3.7/dist-packages/astropy/units/quantity.py:477: RuntimeWarning: divide by zero encountered in true_divide\n",
            "  result = super().__array_ufunc__(function, method, *arrays, **kwargs)\n",
            "/usr/local/lib/python3.7/dist-packages/astropy/units/quantity.py:477: RuntimeWarning: invalid value encountered in multiply\n",
            "  result = super().__array_ufunc__(function, method, *arrays, **kwargs)\n"
          ],
          "name": "stderr"
        }
      ]
    },
    {
      "cell_type": "code",
      "metadata": {
        "id": "dDKMl2_sEkaR",
        "colab": {
          "base_uri": "https://localhost:8080/"
        },
        "outputId": "1399f5f2-f0da-4e4b-a46e-d25e7f8b786e"
      },
      "source": [
        "print(LOI_numax_full,LOI_ts_full.shape)\n",
        "print(LOI_ts_full[0:5])"
      ],
      "execution_count": 40,
      "outputs": [
        {
          "output_type": "stream",
          "text": [
            "3135.0 (274, 30)\n",
            "[[4.79816565e+01 2.31074080e+01 7.84415714e+01 5.19360880e+01\n",
            "  6.13852025e+01 4.86421782e+01 5.85902283e+01 4.49463499e+01\n",
            "  6.31807730e+01 3.78309025e+01 5.52999094e+01 3.63698232e+01\n",
            "  2.89420075e+01 4.64818364e+01 1.76538101e+01 5.76131687e-02\n",
            "  1.29115226e-01 1.93415638e-01 2.55658436e-01 3.28703704e-01\n",
            "  3.89531893e-01 4.63348765e-01 5.33307613e-01 5.97993827e-01\n",
            "  6.60751029e-01 6.67695473e-01 7.33796296e-01 8.03755144e-01\n",
            "  8.68698560e-01 9.40329218e-01]\n",
            " [4.15604839e+01 2.78987425e+01 1.07876524e+02 4.72783681e+01\n",
            "  4.96324375e+01 6.61171525e+01 5.27382686e+01 6.23478589e+01\n",
            "  6.08661442e+01 1.85416993e+01 5.09174436e+01 4.68129923e+01\n",
            "  2.07163356e+01 3.34645546e+01 1.45352102e+01 5.83847737e-02\n",
            "  1.28858025e-01 1.93415638e-01 2.55144033e-01 3.28446502e-01\n",
            "  3.98791152e-01 4.62319959e-01 5.33307613e-01 5.98122428e-01\n",
            "  6.61008230e-01 6.68852881e-01 7.35210905e-01 8.03497942e-01\n",
            "  8.68312757e-01 9.38271605e-01]\n",
            " [3.44844617e+01 3.32035856e+01 1.10475262e+02 5.56160969e+01\n",
            "  4.61826326e+01 5.64661196e+01 1.10544289e+02 4.32326009e+01\n",
            "  1.03523061e+02 1.71664024e+01 4.40290988e+01 3.94720630e+01\n",
            "  3.09407912e+01 2.68614109e+01 1.29698836e+01 5.77417695e-02\n",
            "  1.29243827e-01 1.93415638e-01 2.55144033e-01 3.28446502e-01\n",
            "  3.89531893e-01 4.63091564e-01 5.33436214e-01 5.98251029e-01\n",
            "  6.59722222e-01 7.33153292e-01 7.35210905e-01 8.02854938e-01\n",
            "  8.68698560e-01 9.38271605e-01]\n",
            " [3.01376869e+01 5.34477890e+01 7.00514586e+01 4.68865305e+01\n",
            "  1.02077542e+02 4.25741670e+01 7.78714200e+01 4.12679738e+01\n",
            "  1.00294378e+02 2.85187653e+01 3.95190412e+01 8.95744963e+01\n",
            "  3.16053740e+01 1.91587204e+01 1.29492350e+01 5.83847737e-02\n",
            "  1.28986626e-01 1.92772634e-01 2.63503086e-01 3.28446502e-01\n",
            "  3.98919753e-01 4.62962963e-01 5.25462963e-01 5.97608025e-01\n",
            "  6.59593621e-01 7.33024691e-01 7.34567901e-01 8.02854938e-01\n",
            "  8.68055556e-01 9.39300412e-01]\n",
            " [2.30889306e+01 4.35475280e+01 7.64909083e+01 6.70300515e+01\n",
            "  1.27335019e+02 5.66376485e+01 9.89534572e+01 6.06131962e+01\n",
            "  1.23864679e+02 6.42729637e+01 5.31307573e+01 8.66641634e+01\n",
            "  5.55452584e+01 2.96938884e+01 1.97305568e+01 5.97993827e-02\n",
            "  1.28986626e-01 1.93801440e-01 2.64146091e-01 3.28575103e-01\n",
            "  3.98791152e-01 4.63605967e-01 5.33436214e-01 5.98636831e-01\n",
            "  6.59593621e-01 6.68724280e-01 7.34567901e-01 8.04398148e-01\n",
            "  8.68569959e-01 9.39557613e-01]]\n"
          ],
          "name": "stdout"
        }
      ]
    },
    {
      "cell_type": "markdown",
      "metadata": {
        "id": "9GdgXJ-XEr_J"
      },
      "source": [
        "## Align Dims"
      ]
    },
    {
      "cell_type": "code",
      "metadata": {
        "id": "VVVqrL5fEnT3",
        "colab": {
          "base_uri": "https://localhost:8080/"
        },
        "outputId": "ef3313dd-ef03-416c-af27-b67b9d32e3fc"
      },
      "source": [
        "# Cycle 23 Dims\n",
        "print(\"Cycle 23 Dims\")\n",
        "try:\n",
        "  print(BiSON_ts_23.shape,SN_ts_23.shape,LOI_ts_23.shape)\n",
        "except:\n",
        "  pass\n",
        "print()\n",
        "\n",
        "# Cycle 24 Dims\n",
        "print(\"Cycle 24 Dims\")\n",
        "try:\n",
        "  print(BiSON_ts_24.shape,SN_ts_24.shape,LOI_ts_24.shape)\n",
        "except:\n",
        "  pass\n",
        "print()\n",
        "\n",
        "# Full Cycle Dims\n",
        "print(\"Cycle FULL Dims\")\n",
        "try:\n",
        "  print(BiSON_ts_full.shape,SN_ts_full.shape,LOI_ts_full.shape)\n",
        "except:\n",
        "  pass\n",
        "print()"
      ],
      "execution_count": 44,
      "outputs": [
        {
          "output_type": "stream",
          "text": [
            "Cycle 23 Dims\n",
            "(149, 30) (148, 2) (149, 30)\n",
            "\n",
            "Cycle 24 Dims\n",
            "(136, 30) (135, 2) (125, 30)\n",
            "\n",
            "Cycle FULL Dims\n",
            "(287, 30) (286, 2) (274, 30)\n",
            "\n"
          ],
          "name": "stdout"
        }
      ]
    },
    {
      "cell_type": "code",
      "metadata": {
        "id": "LDWqFa_rFtUC"
      },
      "source": [
        "#Fitting dims to LOI due to missing end of cycle 24\n",
        "BiSON_ts_24_fit = BiSON_ts_24[:len(LOI_ts_24)]\n",
        "SN_ts_24_fit = SN_ts_24[:len(LOI_ts_24)]\n",
        "\n",
        "BiSON_ts_full_fit = BiSON_ts_full[:len(LOI_ts_full)]\n",
        "SN_ts_full_fit = SN_ts_full[:len(LOI_ts_full)]"
      ],
      "execution_count": 45,
      "outputs": []
    },
    {
      "cell_type": "code",
      "metadata": {
        "id": "bIB-nkdDG7Mb",
        "colab": {
          "base_uri": "https://localhost:8080/"
        },
        "outputId": "cf53c67c-dba4-42da-caea-fc7fbef44ee9"
      },
      "source": [
        "# Test Fitted Dims\n",
        "# Cycle 23 Dims\n",
        "print(\"Cycle 23 Dims\")\n",
        "try:\n",
        "  print(BiSON_ts_23.shape,SN_ts_23.shape,LOI_ts_23.shape)\n",
        "except:\n",
        "  pass\n",
        "print()\n",
        "\n",
        "# Cycle 24 Dims\n",
        "print(\"Cycle 24 Dims\")\n",
        "try:\n",
        "  print(BiSON_ts_24_fit.shape,SN_ts_24_fit.shape,LOI_ts_24.shape)\n",
        "except:\n",
        "  pass\n",
        "print()\n",
        "\n",
        "# Full Cycle Dims\n",
        "print(\"Cycle FULL Dims\")\n",
        "try:\n",
        "  print(BiSON_ts_full_fit.shape,SN_ts_full_fit.shape,LOI_ts_full.shape)\n",
        "except:\n",
        "  pass\n",
        "print()"
      ],
      "execution_count": 46,
      "outputs": [
        {
          "output_type": "stream",
          "text": [
            "Cycle 23 Dims\n",
            "(149, 30) (148, 2) (149, 30)\n",
            "\n",
            "Cycle 24 Dims\n",
            "(125, 30) (125, 2) (125, 30)\n",
            "\n",
            "Cycle FULL Dims\n",
            "(274, 30) (274, 2) (274, 30)\n",
            "\n"
          ],
          "name": "stdout"
        }
      ]
    },
    {
      "cell_type": "markdown",
      "metadata": {
        "id": "hVpmJmoWHih2"
      },
      "source": [
        "## Model Architecture"
      ]
    },
    {
      "cell_type": "code",
      "metadata": {
        "colab": {
          "base_uri": "https://localhost:8080/"
        },
        "id": "69wMSk9cKCC3",
        "outputId": "2e1d020f-d841-44be-fcb9-f3f065af9662"
      },
      "source": [
        "#Test_Normalize\n",
        "print(normalize1D(SN_ts_full_fit.T[1])[0:10])\n",
        "print(np.max(normalize2D(BiSON_ts_full_fit)))\n",
        "print(normalize2D(BiSON_ts_full_fit)[0:2])"
      ],
      "execution_count": 47,
      "outputs": [
        {
          "output_type": "stream",
          "text": [
            "[0.07982504 0.07996173 0.02870421 0.14460016 0.09997657 0.05194095\n",
            " 0.07927829 0.0763737  0.11193123 0.1154477 ]\n",
            "1.0\n",
            "[[0.         0.52679474 0.34845476 1.         0.40299415 0.59099199\n",
            "  0.82968282 0.67192305 0.65862546 0.67886944 0.57159193 0.86547298\n",
            "  0.44611222 0.29782957 0.36341367 0.40110333 0.05491255 0.1242284\n",
            "  0.1876286  0.2503858  0.32265947 0.38567387 0.45871914 0.51877572\n",
            "  0.5938786  0.66345165 0.72878086 0.79771091 0.86304012 0.92656893\n",
            "  0.99871399]\n",
            " [0.         0.58876657 0.5344706  0.62064648 0.39091267 0.73319673\n",
            "  1.         0.55438842 0.47732205 0.55510774 0.69912991 0.57003185\n",
            "  0.38452688 0.39989682 0.31193709 0.296063   0.05491255 0.1248714\n",
            "  0.1876286  0.25913066 0.32278807 0.38515947 0.45846193 0.52880658\n",
            "  0.59233539 0.65406379 0.72878086 0.79886831 0.86381173 0.92656893\n",
            "  0.99832819]]\n"
          ],
          "name": "stdout"
        }
      ]
    },
    {
      "cell_type": "code",
      "metadata": {
        "colab": {
          "base_uri": "https://localhost:8080/"
        },
        "id": "GG6HSObaH_32",
        "outputId": "2d276608-1db3-4f5d-db29-0553f853b760"
      },
      "source": [
        "#Load Data\n",
        "tLOI = normalize2D(LOI_ts_full,\"LOI\")#.T[:16].T\n",
        "tBiSON = normalize2D(BiSON_ts_full_fit,\"BiSON\")#.T[:16].T\n",
        "print(np.max(tLOI),np.max(tBiSON))\n",
        "print(tLOI.shape,tBiSON.shape)\n",
        "\n",
        "ty2 = np.append(normalize1D(SN_ts_full_fit.T[1]),normalize1D(SN_ts_full_fit.T[1]),0)\n",
        "\n",
        "\n",
        "tx = np.append(tBiSON,tLOI,0) #BiSON_ts_full_fit\n",
        "ty = ty2\n",
        "print(tx.shape,ty.shape)\n",
        "\n",
        "train_x,test_x,train_y,test_y=train_test_split(tx, ty, test_size=0.20, random_state=42)\n",
        "\n",
        "train_x = train_x.reshape(train_x.shape[0],1,train_x.shape[1])\n",
        "test_x = test_x.reshape(test_x.shape[0],1,test_x.shape[1])\n",
        "\n",
        "# train_x = train_x[..., None]\n",
        "# test_x = test_x[..., None]\n",
        "print(train_x.shape,test_x.shape)\n",
        "\n",
        "print(np.max(train_x),np.max(train_y),np.max(test_x),np.max(test_y))"
      ],
      "execution_count": 105,
      "outputs": [
        {
          "output_type": "stream",
          "text": [
            "1.0 1.0\n",
            "(274, 31) (274, 31)\n",
            "(548, 31) (548,)\n",
            "(438, 1, 31) (110, 1, 31)\n",
            "1.0 1.0 1.0 0.8894204483324221\n"
          ],
          "name": "stdout"
        }
      ]
    },
    {
      "cell_type": "code",
      "metadata": {
        "colab": {
          "base_uri": "https://localhost:8080/"
        },
        "id": "OO7Q1o3PUoPn",
        "outputId": "4a33bb7b-ff1b-4699-9443-d984429dc99e"
      },
      "source": [
        "print(train_x[12])"
      ],
      "execution_count": 106,
      "outputs": [
        {
          "output_type": "stream",
          "text": [
            "[[1.         0.33245383 0.32909236 0.41445279 0.55540779 1.\n",
            "  0.42466322 0.60874674 0.28188814 0.63528124 0.19336054 0.43251199\n",
            "  0.23393229 0.3992568  0.12080809 0.21167761 0.05388374 0.11535494\n",
            "  0.1880144  0.24884259 0.32317387 0.39364712 0.45781893 0.52019033\n",
            "  0.59246399 0.6559928  0.72839506 0.78973765 0.86304012 0.92528292\n",
            "  0.999357  ]]\n"
          ],
          "name": "stdout"
        }
      ]
    },
    {
      "cell_type": "code",
      "metadata": {
        "colab": {
          "base_uri": "https://localhost:8080/"
        },
        "id": "WQrAq0ZxHQIn",
        "outputId": "44efb833-c422-4527-f2e6-46a5efd857a8"
      },
      "source": [
        "# tf.test.gpu_device_name() # No GPU Sad :v\n",
        "keras.backend.clear_session()\n",
        "# model = models.Sequential()\n",
        "\n",
        "# model.add(layers.Conv1D(1024, 1, activation='relu',batch_input_shape=train_x.shape))\n",
        "# model.add(layers.Dense(128))\n",
        "# model.add(layers.Conv1D(32, 1, activation='relu'))\n",
        "# model.add(layers.Dense(1,activation=\"sigmoid\"))\n",
        "\n",
        "# model.summary()\n",
        "\n",
        "model = models.Sequential()\n",
        "#model.add(layers.Conv1D(filters=16, kernel_size=1, activation='relu', batch_input_shape=(train_x.shape)))\n",
        "\n",
        "#model.add(layers.Embedding(input_dim=64, output_dim=16))\n",
        "#model.add(layers.LSTM(128,dropout=0.2,recurrent_dropout=0.2,input_dim=(train_x.shape[2])))\n",
        "model.add(layers.Dense(2048, activation='relu', input_shape=(train_x.shape)))\n",
        "#model.add(layers.Conv1D(1024,1,activation='relu',input_shape=(train_x.shape)))\n",
        "#model.add(layers.Conv1D(256,1,activation='relu'))\n",
        "model.add(layers.Dense(1024, activation=\"relu\"))\n",
        "model.add(layers.Dense(512, activation=\"relu\"))\n",
        "model.add(layers.Dense(256, activation=\"relu\"))\n",
        "model.add(layers.Dense(32, activation=\"relu\"))\n",
        "model.add(layers.Dense(4, activation=\"relu\"))\n",
        "# model.add(layers.Dense(2, activation=\"relu\"))\n",
        "model.add(layers.Dense(1))\n",
        "model.summary()"
      ],
      "execution_count": 240,
      "outputs": [
        {
          "output_type": "stream",
          "text": [
            "Model: \"sequential\"\n",
            "_________________________________________________________________\n",
            "Layer (type)                 Output Shape              Param #   \n",
            "=================================================================\n",
            "dense (Dense)                (None, 438, 1, 2048)      65536     \n",
            "_________________________________________________________________\n",
            "dense_1 (Dense)              (None, 438, 1, 1024)      2098176   \n",
            "_________________________________________________________________\n",
            "dense_2 (Dense)              (None, 438, 1, 512)       524800    \n",
            "_________________________________________________________________\n",
            "dense_3 (Dense)              (None, 438, 1, 256)       131328    \n",
            "_________________________________________________________________\n",
            "dense_4 (Dense)              (None, 438, 1, 32)        8224      \n",
            "_________________________________________________________________\n",
            "dense_5 (Dense)              (None, 438, 1, 4)         132       \n",
            "_________________________________________________________________\n",
            "dense_6 (Dense)              (None, 438, 1, 1)         5         \n",
            "=================================================================\n",
            "Total params: 2,828,201\n",
            "Trainable params: 2,828,201\n",
            "Non-trainable params: 0\n",
            "_________________________________________________________________\n"
          ],
          "name": "stdout"
        }
      ]
    },
    {
      "cell_type": "code",
      "metadata": {
        "id": "ztmdn70rH9BT"
      },
      "source": [
        "model.compile(optimizer='adam', loss='mse', metrics=['accuracy'])\n",
        "monitor = keras.callbacks.EarlyStopping(monitor='val_loss', min_delta=1e-4, \n",
        "        patience=30, verbose=1, mode='auto',\n",
        "        restore_best_weights=True)"
      ],
      "execution_count": 241,
      "outputs": []
    },
    {
      "cell_type": "code",
      "metadata": {
        "colab": {
          "base_uri": "https://localhost:8080/"
        },
        "id": "GHwC6-3eIhj3",
        "outputId": "79dc20cb-7c7e-43d1-f34f-9bc8583f94a0"
      },
      "source": [
        "history = model.fit(train_x, train_y, epochs=1000,\n",
        "                   validation_data=(test_x, test_y),callbacks=[monitor], verbose=2)"
      ],
      "execution_count": 242,
      "outputs": [
        {
          "output_type": "stream",
          "text": [
            "Epoch 1/1000\n",
            "WARNING:tensorflow:Model was constructed with shape (None, 438, 1, 31) for input KerasTensor(type_spec=TensorSpec(shape=(None, 438, 1, 31), dtype=tf.float32, name='dense_input'), name='dense_input', description=\"created by layer 'dense_input'\"), but it was called on an input with incompatible shape (None, 1, 31).\n",
            "WARNING:tensorflow:Model was constructed with shape (None, 438, 1, 31) for input KerasTensor(type_spec=TensorSpec(shape=(None, 438, 1, 31), dtype=tf.float32, name='dense_input'), name='dense_input', description=\"created by layer 'dense_input'\"), but it was called on an input with incompatible shape (None, 1, 31).\n",
            "WARNING:tensorflow:Model was constructed with shape (None, 438, 1, 31) for input KerasTensor(type_spec=TensorSpec(shape=(None, 438, 1, 31), dtype=tf.float32, name='dense_input'), name='dense_input', description=\"created by layer 'dense_input'\"), but it was called on an input with incompatible shape (None, 1, 31).\n",
            "14/14 - 2s - loss: 0.1354 - accuracy: 0.0000e+00 - val_loss: 0.0431 - val_accuracy: 0.0000e+00\n",
            "Epoch 2/1000\n",
            "14/14 - 1s - loss: 0.0502 - accuracy: 0.0000e+00 - val_loss: 0.0439 - val_accuracy: 0.0000e+00\n",
            "Epoch 3/1000\n",
            "14/14 - 1s - loss: 0.0509 - accuracy: 0.0000e+00 - val_loss: 0.0425 - val_accuracy: 0.0000e+00\n",
            "Epoch 4/1000\n",
            "14/14 - 1s - loss: 0.0484 - accuracy: 0.0000e+00 - val_loss: 0.0418 - val_accuracy: 0.0000e+00\n",
            "Epoch 5/1000\n",
            "14/14 - 1s - loss: 0.0484 - accuracy: 0.0000e+00 - val_loss: 0.0417 - val_accuracy: 0.0000e+00\n",
            "Epoch 6/1000\n",
            "14/14 - 1s - loss: 0.0476 - accuracy: 0.0000e+00 - val_loss: 0.0417 - val_accuracy: 0.0000e+00\n",
            "Epoch 7/1000\n",
            "14/14 - 1s - loss: 0.0472 - accuracy: 0.0000e+00 - val_loss: 0.0493 - val_accuracy: 0.0000e+00\n",
            "Epoch 8/1000\n",
            "14/14 - 1s - loss: 0.0454 - accuracy: 0.0000e+00 - val_loss: 0.0481 - val_accuracy: 0.0000e+00\n",
            "Epoch 9/1000\n",
            "14/14 - 1s - loss: 0.0481 - accuracy: 0.0000e+00 - val_loss: 0.0432 - val_accuracy: 0.0000e+00\n",
            "Epoch 10/1000\n",
            "14/14 - 1s - loss: 0.0421 - accuracy: 0.0023 - val_loss: 0.0445 - val_accuracy: 0.0000e+00\n",
            "Epoch 11/1000\n",
            "14/14 - 1s - loss: 0.0416 - accuracy: 0.0000e+00 - val_loss: 0.0430 - val_accuracy: 0.0000e+00\n",
            "Epoch 12/1000\n",
            "14/14 - 1s - loss: 0.0440 - accuracy: 0.0023 - val_loss: 0.0431 - val_accuracy: 0.0000e+00\n",
            "Epoch 13/1000\n",
            "14/14 - 1s - loss: 0.0416 - accuracy: 0.0000e+00 - val_loss: 0.0482 - val_accuracy: 0.0000e+00\n",
            "Epoch 14/1000\n",
            "14/14 - 1s - loss: 0.0443 - accuracy: 0.0023 - val_loss: 0.0488 - val_accuracy: 0.0000e+00\n",
            "Epoch 15/1000\n",
            "14/14 - 1s - loss: 0.0451 - accuracy: 0.0000e+00 - val_loss: 0.0407 - val_accuracy: 0.0000e+00\n",
            "Epoch 16/1000\n",
            "14/14 - 1s - loss: 0.0398 - accuracy: 0.0000e+00 - val_loss: 0.0448 - val_accuracy: 0.0000e+00\n",
            "Epoch 17/1000\n",
            "14/14 - 1s - loss: 0.0403 - accuracy: 0.0000e+00 - val_loss: 0.0425 - val_accuracy: 0.0000e+00\n",
            "Epoch 18/1000\n",
            "14/14 - 1s - loss: 0.0421 - accuracy: 0.0000e+00 - val_loss: 0.0454 - val_accuracy: 0.0000e+00\n",
            "Epoch 19/1000\n",
            "14/14 - 1s - loss: 0.0404 - accuracy: 0.0000e+00 - val_loss: 0.0433 - val_accuracy: 0.0000e+00\n",
            "Epoch 20/1000\n",
            "14/14 - 1s - loss: 0.0396 - accuracy: 0.0023 - val_loss: 0.0439 - val_accuracy: 0.0000e+00\n",
            "Epoch 21/1000\n",
            "14/14 - 1s - loss: 0.0411 - accuracy: 0.0023 - val_loss: 0.0404 - val_accuracy: 0.0000e+00\n",
            "Epoch 22/1000\n",
            "14/14 - 1s - loss: 0.0374 - accuracy: 0.0000e+00 - val_loss: 0.0465 - val_accuracy: 0.0000e+00\n",
            "Epoch 23/1000\n",
            "14/14 - 1s - loss: 0.0382 - accuracy: 0.0023 - val_loss: 0.0438 - val_accuracy: 0.0000e+00\n",
            "Epoch 24/1000\n",
            "14/14 - 1s - loss: 0.0381 - accuracy: 0.0023 - val_loss: 0.0425 - val_accuracy: 0.0000e+00\n",
            "Epoch 25/1000\n",
            "14/14 - 1s - loss: 0.0352 - accuracy: 0.0023 - val_loss: 0.0431 - val_accuracy: 0.0000e+00\n",
            "Epoch 26/1000\n",
            "14/14 - 1s - loss: 0.0399 - accuracy: 0.0000e+00 - val_loss: 0.0438 - val_accuracy: 0.0000e+00\n",
            "Epoch 27/1000\n",
            "14/14 - 1s - loss: 0.0365 - accuracy: 0.0023 - val_loss: 0.0430 - val_accuracy: 0.0000e+00\n",
            "Epoch 28/1000\n",
            "14/14 - 1s - loss: 0.0352 - accuracy: 0.0023 - val_loss: 0.0431 - val_accuracy: 0.0000e+00\n",
            "Epoch 29/1000\n",
            "14/14 - 1s - loss: 0.0365 - accuracy: 0.0000e+00 - val_loss: 0.0463 - val_accuracy: 0.0000e+00\n",
            "Epoch 30/1000\n",
            "14/14 - 1s - loss: 0.0341 - accuracy: 0.0023 - val_loss: 0.0426 - val_accuracy: 0.0000e+00\n",
            "Epoch 31/1000\n",
            "14/14 - 1s - loss: 0.0377 - accuracy: 0.0023 - val_loss: 0.0457 - val_accuracy: 0.0000e+00\n",
            "Epoch 32/1000\n",
            "14/14 - 1s - loss: 0.0367 - accuracy: 0.0023 - val_loss: 0.0432 - val_accuracy: 0.0000e+00\n",
            "Epoch 33/1000\n",
            "14/14 - 1s - loss: 0.0343 - accuracy: 0.0023 - val_loss: 0.0442 - val_accuracy: 0.0000e+00\n",
            "Epoch 34/1000\n",
            "14/14 - 1s - loss: 0.0385 - accuracy: 0.0023 - val_loss: 0.0444 - val_accuracy: 0.0000e+00\n",
            "Epoch 35/1000\n",
            "14/14 - 1s - loss: 0.0354 - accuracy: 0.0023 - val_loss: 0.0437 - val_accuracy: 0.0000e+00\n",
            "Epoch 36/1000\n",
            "14/14 - 1s - loss: 0.0362 - accuracy: 0.0023 - val_loss: 0.0465 - val_accuracy: 0.0000e+00\n",
            "Epoch 37/1000\n",
            "14/14 - 1s - loss: 0.0337 - accuracy: 0.0023 - val_loss: 0.0421 - val_accuracy: 0.0000e+00\n",
            "Epoch 38/1000\n",
            "14/14 - 1s - loss: 0.0322 - accuracy: 0.0023 - val_loss: 0.0431 - val_accuracy: 0.0000e+00\n",
            "Epoch 39/1000\n",
            "14/14 - 1s - loss: 0.0318 - accuracy: 0.0023 - val_loss: 0.0438 - val_accuracy: 0.0000e+00\n",
            "Epoch 40/1000\n",
            "14/14 - 1s - loss: 0.0341 - accuracy: 0.0046 - val_loss: 0.0425 - val_accuracy: 0.0000e+00\n",
            "Epoch 41/1000\n",
            "14/14 - 1s - loss: 0.0361 - accuracy: 0.0023 - val_loss: 0.0415 - val_accuracy: 0.0000e+00\n",
            "Epoch 42/1000\n",
            "14/14 - 1s - loss: 0.0319 - accuracy: 0.0023 - val_loss: 0.0434 - val_accuracy: 0.0000e+00\n",
            "Epoch 43/1000\n",
            "14/14 - 1s - loss: 0.0322 - accuracy: 0.0023 - val_loss: 0.0391 - val_accuracy: 0.0000e+00\n",
            "Epoch 44/1000\n",
            "14/14 - 1s - loss: 0.0331 - accuracy: 0.0023 - val_loss: 0.0443 - val_accuracy: 0.0000e+00\n",
            "Epoch 45/1000\n",
            "14/14 - 1s - loss: 0.0307 - accuracy: 0.0023 - val_loss: 0.0436 - val_accuracy: 0.0000e+00\n",
            "Epoch 46/1000\n",
            "14/14 - 1s - loss: 0.0348 - accuracy: 0.0023 - val_loss: 0.0412 - val_accuracy: 0.0000e+00\n",
            "Epoch 47/1000\n",
            "14/14 - 1s - loss: 0.0305 - accuracy: 0.0023 - val_loss: 0.0445 - val_accuracy: 0.0000e+00\n",
            "Epoch 48/1000\n",
            "14/14 - 1s - loss: 0.0309 - accuracy: 0.0023 - val_loss: 0.0406 - val_accuracy: 0.0000e+00\n",
            "Epoch 49/1000\n",
            "14/14 - 1s - loss: 0.0298 - accuracy: 0.0046 - val_loss: 0.0398 - val_accuracy: 0.0000e+00\n",
            "Epoch 50/1000\n",
            "14/14 - 1s - loss: 0.0279 - accuracy: 0.0023 - val_loss: 0.0427 - val_accuracy: 0.0000e+00\n",
            "Epoch 51/1000\n",
            "14/14 - 1s - loss: 0.0258 - accuracy: 0.0046 - val_loss: 0.0409 - val_accuracy: 0.0000e+00\n",
            "Epoch 52/1000\n",
            "14/14 - 1s - loss: 0.0269 - accuracy: 0.0046 - val_loss: 0.0460 - val_accuracy: 0.0000e+00\n",
            "Epoch 53/1000\n",
            "14/14 - 1s - loss: 0.0281 - accuracy: 0.0023 - val_loss: 0.0415 - val_accuracy: 0.0000e+00\n",
            "Epoch 54/1000\n",
            "14/14 - 1s - loss: 0.0306 - accuracy: 0.0023 - val_loss: 0.0409 - val_accuracy: 0.0000e+00\n",
            "Epoch 55/1000\n",
            "14/14 - 1s - loss: 0.0290 - accuracy: 0.0023 - val_loss: 0.0448 - val_accuracy: 0.0000e+00\n",
            "Epoch 56/1000\n",
            "14/14 - 1s - loss: 0.0362 - accuracy: 0.0046 - val_loss: 0.0404 - val_accuracy: 0.0000e+00\n",
            "Epoch 57/1000\n",
            "14/14 - 1s - loss: 0.0297 - accuracy: 0.0046 - val_loss: 0.0391 - val_accuracy: 0.0000e+00\n",
            "Epoch 58/1000\n",
            "14/14 - 1s - loss: 0.0290 - accuracy: 0.0046 - val_loss: 0.0447 - val_accuracy: 0.0000e+00\n",
            "Epoch 59/1000\n",
            "14/14 - 1s - loss: 0.0270 - accuracy: 0.0046 - val_loss: 0.0398 - val_accuracy: 0.0000e+00\n",
            "Epoch 60/1000\n",
            "14/14 - 1s - loss: 0.0273 - accuracy: 0.0046 - val_loss: 0.0399 - val_accuracy: 0.0000e+00\n",
            "Epoch 61/1000\n",
            "14/14 - 1s - loss: 0.0312 - accuracy: 0.0046 - val_loss: 0.0470 - val_accuracy: 0.0000e+00\n",
            "Epoch 62/1000\n",
            "14/14 - 1s - loss: 0.0327 - accuracy: 0.0023 - val_loss: 0.0409 - val_accuracy: 0.0000e+00\n",
            "Epoch 63/1000\n",
            "14/14 - 1s - loss: 0.0260 - accuracy: 0.0046 - val_loss: 0.0414 - val_accuracy: 0.0000e+00\n",
            "Epoch 64/1000\n",
            "14/14 - 1s - loss: 0.0260 - accuracy: 0.0046 - val_loss: 0.0429 - val_accuracy: 0.0000e+00\n",
            "Epoch 65/1000\n",
            "14/14 - 1s - loss: 0.0278 - accuracy: 0.0046 - val_loss: 0.0452 - val_accuracy: 0.0000e+00\n",
            "Epoch 66/1000\n",
            "14/14 - 1s - loss: 0.0254 - accuracy: 0.0046 - val_loss: 0.0413 - val_accuracy: 0.0000e+00\n",
            "Epoch 67/1000\n",
            "14/14 - 1s - loss: 0.0263 - accuracy: 0.0046 - val_loss: 0.0427 - val_accuracy: 0.0000e+00\n",
            "Epoch 68/1000\n",
            "14/14 - 1s - loss: 0.0270 - accuracy: 0.0046 - val_loss: 0.0401 - val_accuracy: 0.0000e+00\n",
            "Epoch 69/1000\n",
            "14/14 - 1s - loss: 0.0239 - accuracy: 0.0046 - val_loss: 0.0492 - val_accuracy: 0.0000e+00\n",
            "Epoch 70/1000\n",
            "14/14 - 1s - loss: 0.0243 - accuracy: 0.0046 - val_loss: 0.0389 - val_accuracy: 0.0000e+00\n",
            "Epoch 71/1000\n",
            "14/14 - 1s - loss: 0.0217 - accuracy: 0.0046 - val_loss: 0.0474 - val_accuracy: 0.0000e+00\n",
            "Epoch 72/1000\n",
            "14/14 - 1s - loss: 0.0266 - accuracy: 0.0046 - val_loss: 0.0465 - val_accuracy: 0.0000e+00\n",
            "Epoch 73/1000\n",
            "14/14 - 1s - loss: 0.0325 - accuracy: 0.0046 - val_loss: 0.0426 - val_accuracy: 0.0000e+00\n",
            "Epoch 74/1000\n",
            "14/14 - 1s - loss: 0.0284 - accuracy: 0.0046 - val_loss: 0.0441 - val_accuracy: 0.0000e+00\n",
            "Epoch 75/1000\n",
            "14/14 - 1s - loss: 0.0246 - accuracy: 0.0046 - val_loss: 0.0420 - val_accuracy: 0.0000e+00\n",
            "Epoch 76/1000\n",
            "14/14 - 1s - loss: 0.0225 - accuracy: 0.0046 - val_loss: 0.0456 - val_accuracy: 0.0000e+00\n",
            "Epoch 77/1000\n",
            "14/14 - 1s - loss: 0.0222 - accuracy: 0.0046 - val_loss: 0.0457 - val_accuracy: 0.0000e+00\n",
            "Epoch 78/1000\n",
            "14/14 - 1s - loss: 0.0250 - accuracy: 0.0046 - val_loss: 0.0439 - val_accuracy: 0.0000e+00\n",
            "Epoch 79/1000\n",
            "14/14 - 1s - loss: 0.0233 - accuracy: 0.0046 - val_loss: 0.0423 - val_accuracy: 0.0000e+00\n",
            "Epoch 80/1000\n",
            "14/14 - 1s - loss: 0.0252 - accuracy: 0.0046 - val_loss: 0.0471 - val_accuracy: 0.0000e+00\n",
            "Epoch 81/1000\n",
            "14/14 - 1s - loss: 0.0291 - accuracy: 0.0046 - val_loss: 0.0424 - val_accuracy: 0.0000e+00\n",
            "Epoch 82/1000\n",
            "14/14 - 1s - loss: 0.0268 - accuracy: 0.0046 - val_loss: 0.0442 - val_accuracy: 0.0000e+00\n",
            "Epoch 83/1000\n",
            "14/14 - 1s - loss: 0.0243 - accuracy: 0.0046 - val_loss: 0.0397 - val_accuracy: 0.0000e+00\n",
            "Epoch 84/1000\n",
            "14/14 - 1s - loss: 0.0212 - accuracy: 0.0046 - val_loss: 0.0429 - val_accuracy: 0.0000e+00\n",
            "Epoch 85/1000\n",
            "14/14 - 1s - loss: 0.0217 - accuracy: 0.0046 - val_loss: 0.0497 - val_accuracy: 0.0000e+00\n",
            "Epoch 86/1000\n",
            "14/14 - 1s - loss: 0.0224 - accuracy: 0.0046 - val_loss: 0.0481 - val_accuracy: 0.0000e+00\n",
            "Epoch 87/1000\n",
            "14/14 - 1s - loss: 0.0235 - accuracy: 0.0046 - val_loss: 0.0409 - val_accuracy: 0.0000e+00\n",
            "Epoch 88/1000\n",
            "14/14 - 1s - loss: 0.0217 - accuracy: 0.0046 - val_loss: 0.0460 - val_accuracy: 0.0000e+00\n",
            "Epoch 89/1000\n",
            "14/14 - 1s - loss: 0.0256 - accuracy: 0.0046 - val_loss: 0.0377 - val_accuracy: 0.0000e+00\n",
            "Epoch 90/1000\n",
            "14/14 - 1s - loss: 0.0221 - accuracy: 0.0046 - val_loss: 0.0485 - val_accuracy: 0.0000e+00\n",
            "Epoch 91/1000\n",
            "14/14 - 1s - loss: 0.0194 - accuracy: 0.0046 - val_loss: 0.0431 - val_accuracy: 0.0000e+00\n",
            "Epoch 92/1000\n",
            "14/14 - 1s - loss: 0.0194 - accuracy: 0.0046 - val_loss: 0.0494 - val_accuracy: 0.0000e+00\n",
            "Epoch 93/1000\n",
            "14/14 - 1s - loss: 0.0195 - accuracy: 0.0046 - val_loss: 0.0411 - val_accuracy: 0.0000e+00\n",
            "Epoch 94/1000\n",
            "14/14 - 1s - loss: 0.0180 - accuracy: 0.0046 - val_loss: 0.0482 - val_accuracy: 0.0000e+00\n",
            "Epoch 95/1000\n",
            "14/14 - 1s - loss: 0.0163 - accuracy: 0.0046 - val_loss: 0.0468 - val_accuracy: 0.0000e+00\n",
            "Epoch 96/1000\n",
            "14/14 - 1s - loss: 0.0178 - accuracy: 0.0046 - val_loss: 0.0438 - val_accuracy: 0.0000e+00\n",
            "Epoch 97/1000\n",
            "14/14 - 1s - loss: 0.0179 - accuracy: 0.0046 - val_loss: 0.0420 - val_accuracy: 0.0000e+00\n",
            "Epoch 98/1000\n",
            "14/14 - 1s - loss: 0.0145 - accuracy: 0.0046 - val_loss: 0.0464 - val_accuracy: 0.0000e+00\n",
            "Epoch 99/1000\n",
            "14/14 - 1s - loss: 0.0176 - accuracy: 0.0046 - val_loss: 0.0445 - val_accuracy: 0.0000e+00\n",
            "Epoch 100/1000\n",
            "14/14 - 1s - loss: 0.0196 - accuracy: 0.0046 - val_loss: 0.0408 - val_accuracy: 0.0000e+00\n",
            "Epoch 101/1000\n",
            "14/14 - 1s - loss: 0.0158 - accuracy: 0.0046 - val_loss: 0.0459 - val_accuracy: 0.0000e+00\n",
            "Epoch 102/1000\n",
            "14/14 - 1s - loss: 0.0154 - accuracy: 0.0046 - val_loss: 0.0440 - val_accuracy: 0.0000e+00\n",
            "Epoch 103/1000\n",
            "14/14 - 1s - loss: 0.0129 - accuracy: 0.0046 - val_loss: 0.0476 - val_accuracy: 0.0000e+00\n",
            "Epoch 104/1000\n",
            "14/14 - 1s - loss: 0.0131 - accuracy: 0.0046 - val_loss: 0.0464 - val_accuracy: 0.0000e+00\n",
            "Epoch 105/1000\n",
            "14/14 - 1s - loss: 0.0179 - accuracy: 0.0046 - val_loss: 0.0565 - val_accuracy: 0.0000e+00\n",
            "Epoch 106/1000\n",
            "14/14 - 1s - loss: 0.0196 - accuracy: 0.0046 - val_loss: 0.0440 - val_accuracy: 0.0000e+00\n",
            "Epoch 107/1000\n",
            "14/14 - 1s - loss: 0.0181 - accuracy: 0.0046 - val_loss: 0.0503 - val_accuracy: 0.0000e+00\n",
            "Epoch 108/1000\n",
            "14/14 - 1s - loss: 0.0152 - accuracy: 0.0046 - val_loss: 0.0447 - val_accuracy: 0.0000e+00\n",
            "Epoch 109/1000\n",
            "14/14 - 1s - loss: 0.0130 - accuracy: 0.0046 - val_loss: 0.0427 - val_accuracy: 0.0000e+00\n",
            "Epoch 110/1000\n",
            "14/14 - 1s - loss: 0.0121 - accuracy: 0.0046 - val_loss: 0.0472 - val_accuracy: 0.0000e+00\n",
            "Epoch 111/1000\n",
            "14/14 - 1s - loss: 0.0117 - accuracy: 0.0046 - val_loss: 0.0410 - val_accuracy: 0.0000e+00\n",
            "Epoch 112/1000\n",
            "14/14 - 1s - loss: 0.0095 - accuracy: 0.0046 - val_loss: 0.0489 - val_accuracy: 0.0000e+00\n",
            "Epoch 113/1000\n",
            "14/14 - 1s - loss: 0.0090 - accuracy: 0.0046 - val_loss: 0.0483 - val_accuracy: 0.0000e+00\n",
            "Epoch 114/1000\n",
            "14/14 - 1s - loss: 0.0081 - accuracy: 0.0046 - val_loss: 0.0470 - val_accuracy: 0.0000e+00\n",
            "Epoch 115/1000\n",
            "14/14 - 1s - loss: 0.0086 - accuracy: 0.0046 - val_loss: 0.0494 - val_accuracy: 0.0000e+00\n",
            "Epoch 116/1000\n",
            "14/14 - 1s - loss: 0.0081 - accuracy: 0.0046 - val_loss: 0.0467 - val_accuracy: 0.0000e+00\n",
            "Epoch 117/1000\n",
            "14/14 - 1s - loss: 0.0086 - accuracy: 0.0046 - val_loss: 0.0526 - val_accuracy: 0.0000e+00\n",
            "Epoch 118/1000\n",
            "14/14 - 1s - loss: 0.0064 - accuracy: 0.0046 - val_loss: 0.0505 - val_accuracy: 0.0000e+00\n",
            "Epoch 119/1000\n",
            "14/14 - 1s - loss: 0.0064 - accuracy: 0.0046 - val_loss: 0.0479 - val_accuracy: 0.0000e+00\n",
            "Restoring model weights from the end of the best epoch.\n",
            "Epoch 00119: early stopping\n"
          ],
          "name": "stdout"
        }
      ]
    },
    {
      "cell_type": "markdown",
      "metadata": {
        "id": "j3kkaWgTTyH9"
      },
      "source": [
        "## Model Prediction"
      ]
    },
    {
      "cell_type": "code",
      "metadata": {
        "colab": {
          "base_uri": "https://localhost:8080/"
        },
        "id": "bkD6txXUT2Fk",
        "outputId": "fb2ca198-4530-4418-b58e-68d10e32a588"
      },
      "source": [
        "# Load Prediction Data\n",
        "pred_BiSON = normalize2D(BiSON_ts_full_fit,\"BiSON\")#.T[16:].T\n",
        "pred_LOI = normalize2D(LOI_ts_full,\"LOI\")#.T[16:].T\n",
        "print(np.max(pred_BiSON),np.max(pred_LOI))\n",
        "pred_BiSON = pred_BiSON.reshape(pred_BiSON.shape[0],1,pred_BiSON.shape[1])\n",
        "pred_LOI = pred_LOI.reshape(pred_LOI.shape[0],1,pred_LOI.shape[1])\n",
        "print(train_x.shape,test_x.shape)"
      ],
      "execution_count": 243,
      "outputs": [
        {
          "output_type": "stream",
          "text": [
            "1.0 1.0\n",
            "(438, 1, 31) (110, 1, 31)\n"
          ],
          "name": "stdout"
        }
      ]
    },
    {
      "cell_type": "code",
      "metadata": {
        "colab": {
          "base_uri": "https://localhost:8080/"
        },
        "id": "-QNspIGiIizL",
        "outputId": "387b17ca-ef31-46f1-8568-f33f920ac988"
      },
      "source": [
        "pred_BiSON = model.predict(pred_BiSON)\n",
        "print(pred_BiSON.shape)\n",
        "pred_BiSON = pred_BiSON.reshape(-1)\n",
        "print(pred_BiSON.shape)\n",
        "print(pred_BiSON[0])\n",
        "pred_LOI = model.predict(pred_LOI).reshape(-1)\n",
        "print(pred_LOI[0:15])\n",
        "# for i in range(0,int(len(pred_LOI)/2)):\n",
        "#   if pred_LOI[i] >= 0.8:\n",
        "#     pred_LOI[i] = pred_LOI[i-1]\n",
        "# for i in range(int(len(pred_LOI)/2),len(pred_LOI)):\n",
        "#   if pred_LOI[i] >= 0.55:\n",
        "#     pred_LOI[i] = pred_LOI[i-1]"
      ],
      "execution_count": 244,
      "outputs": [
        {
          "output_type": "stream",
          "text": [
            "WARNING:tensorflow:Model was constructed with shape (None, 438, 1, 31) for input KerasTensor(type_spec=TensorSpec(shape=(None, 438, 1, 31), dtype=tf.float32, name='dense_input'), name='dense_input', description=\"created by layer 'dense_input'\"), but it was called on an input with incompatible shape (None, 1, 31).\n",
            "(274, 1, 1)\n",
            "(274,)\n",
            "0.23310582\n",
            "[0.25972807 0.15732165 0.12989162 0.2157004  0.32004696 0.2304974\n",
            " 0.22945431 0.2808639  0.36304346 0.18399744 0.16197525 0.17708197\n",
            " 0.18117243 0.20303705 0.18853967]\n"
          ],
          "name": "stdout"
        }
      ]
    },
    {
      "cell_type": "code",
      "metadata": {
        "colab": {
          "base_uri": "https://localhost:8080/",
          "height": 312
        },
        "id": "7BJVrVp8OvCe",
        "outputId": "25d36c6c-0a98-47fb-d6c6-909b329a0e01"
      },
      "source": [
        "figure, axis_1 = plt.subplots()\n",
        "plt.xlabel('Time (BJD)')\n",
        "plt.title('ML Prediction and Sunspot Number vs. Time - Cycle 23 & 24')\n",
        "\n",
        "print(pred_BiSON.shape, SN_ts_full_fit.T[0].shape)\n",
        "\n",
        "#Axis 1\n",
        "axis_1.autoscale(enable=True, axis='both', tight=None)\n",
        "axis_1.set_ylabel('BiSON (Scaling)')\n",
        "#axis_1.scatter(SN_ts_full_fit.T[0],pred_BiSON, s = 10, c='blue', alpha=0.5, label=\"pred_BiSON\")\n",
        "x1_ITP, y1_ITP = interpolate(np.array([SN_ts_full_fit.T[0],pred_BiSON]).T,140)\n",
        "axis_1.plot(x1_ITP, y1_ITP, c='blue', alpha=0.5, label = \"Pred. BiSON\")\n",
        "\n",
        "# #Axis 2\n",
        "axis_2 = axis_1.twinx()\n",
        "axis_2.set_ylabel('LOI (Scaling)')\n",
        "#axis_2.scatter(SN_ts_full_fit.T[0],pred_LOI, s = 10, c='red', alpha=0.5, label=\"pred_LOI\")\n",
        "x2_ITP, y2_ITP = interpolate(np.array([SN_ts_full_fit.T[0],pred_LOI]).T,140)\n",
        "axis_1.plot(x2_ITP, y2_ITP, c='red', alpha=0.5, label = \"Pred. LOI\")\n",
        "\n",
        "#Axis 3\n",
        "axis_3 = axis_1.twinx()\n",
        "axis_3.axis(\"off\")\n",
        "axis_3.set_ylabel('SN')\n",
        "axis_3.scatter(SN_ts_full_fit.T[0],SN_ts_full_fit.T[1], s = 10, c='green', alpha=0.5, label=\"actual_SN\")\n",
        "\n",
        "#Append Labels\n",
        "lines_1, labels_1 = axis_1.get_legend_handles_labels()\n",
        "lines_2, labels_2 = axis_2.get_legend_handles_labels()\n",
        "lines_3, labels_3 = axis_3.get_legend_handles_labels()\n",
        "lines = lines_1 + lines_2 + lines_3\n",
        "labels = labels_1 + labels_2 + labels_3\n",
        "axis_1.legend(lines, labels, loc=0)\n",
        "\n",
        "#Show Plot\n",
        "#plt.savefig('Graphs/C23_Numax_SSN_Time.png')\n",
        "plt.savefig('/content/drive/MyDrive/Korea Research - Yihong Song and Rohit Prasanna/DSHS & AOS Physics Research Collaboration 2020/Project/Jr:Sr Project/Graphs/BiSON_LOI_SN.png')\n",
        "plt.show()"
      ],
      "execution_count": 245,
      "outputs": [
        {
          "output_type": "stream",
          "text": [
            "(274,) (274,)\n"
          ],
          "name": "stdout"
        },
        {
          "output_type": "display_data",
          "data": {
            "image/png": "[encoded data removed]",
            "text/plain": [
              "<Figure size 432x288 with 3 Axes>"
            ]
          },
          "metadata": {
            "tags": [],
            "needs_background": "light"
          }
        }
      ]
    },
    {
      "cell_type": "code",
      "metadata": {
        "colab": {
          "base_uri": "https://localhost:8080/",
          "height": 294
        },
        "id": "VFvynv1qQrNl",
        "outputId": "da4a093b-cb4b-41e6-e8c0-357e0e2088e9"
      },
      "source": [
        "figure, axis_1 = plt.subplots()\n",
        "plt.xlabel('Solar Activity (Scaling)')\n",
        "plt.title('ML Prediction and Sunspot Number vs. Time - Cycle 23 & 24')\n",
        "\n",
        "#Axis 1\n",
        "axis_1.autoscale(enable=True, axis='both', tight=None)\n",
        "axis_1.set_ylabel('BiSON (Scaling)')\n",
        "axis_1.scatter(SN_ts_full_fit.T[1],pred_BiSON, s = 10, c='blue', alpha=0.5, label=\"pred_BiSON\")\n",
        "\n",
        "#Axis 2\n",
        "axis_2 = axis_1.twinx()\n",
        "axis_2.set_ylabel('LOI (Scaling)')\n",
        "axis_2.scatter(SN_ts_full_fit.T[1],pred_LOI, s = 10, c='red', alpha=0.5, label=\"pred_LOI\")\n",
        "\n",
        "# #Axis 3\n",
        "# axis_3 = axis_1.twinx()\n",
        "# axis_3.axis(\"off\")\n",
        "# axis_3.set_ylabel('SN')\n",
        "# axis_3.scatter(datax_SN,datay_SN, s = 10, c='green', alpha=0.5, label=\"actual_SN\")\n",
        "\n",
        "#Append Labels\n",
        "lines_1, labels_1 = axis_1.get_legend_handles_labels()\n",
        "lines_2, labels_2 = axis_2.get_legend_handles_labels()\n",
        "# lines_3, labels_3 = axis_3.get_legend_handles_labels()\n",
        "lines = lines_1 + lines_2 #+ lines_3\n",
        "labels = labels_1 + labels_2 #+ labels_3\n",
        "axis_1.legend(lines, labels, loc=0)\n",
        "\n",
        "#Show Plot\n",
        "#plt.savefig('Graphs/C23_Numax_SSN_Time.png')\n",
        "plt.savefig('/content/drive/MyDrive/Korea Research - Yihong Song and Rohit Prasanna/DSHS & AOS Physics Research Collaboration 2020/Project/Jr:Sr Project/Graphs/BiSON_LOI_SN.png')\n",
        "plt.show()"
      ],
      "execution_count": 246,
      "outputs": [
        {
          "output_type": "display_data",
          "data": {
            "image/png": "[encoded data removed]",
            "text/plain": [
              "<Figure size 432x288 with 2 Axes>"
            ]
          },
          "metadata": {
            "tags": [],
            "needs_background": "light"
          }
        }
      ]
    },
    {
      "cell_type": "code",
      "metadata": {
        "colab": {
          "base_uri": "https://localhost:8080/"
        },
        "id": "ALps_abvRJkY",
        "outputId": "3f1c37f0-ce01-4cd0-f951-092ac7f4f116"
      },
      "source": [
        "sn_ts_full_fit_norm = normalize1D(SN_ts_full_fit.T[1])\n",
        "BiSONxSN_mse = np.sqrt(mean_squared_error(sn_ts_full_fit_norm,pred_BiSON))\n",
        "BiSONxSN_mae = mean_absolute_error(sn_ts_full_fit_norm,pred_BiSON)\n",
        "print(\"BiSON vs. Actual - Mean Sq. Error, Mean Abs. Error\")\n",
        "print(BiSONxSN_mse,BiSONxSN_mae)"
      ],
      "execution_count": 247,
      "outputs": [
        {
          "output_type": "stream",
          "text": [
            "BiSON vs. Actual - Mean Sq. Error, Mean Abs. Error\n",
            "0.1804711934502041 0.14606198889940158\n"
          ],
          "name": "stdout"
        }
      ]
    },
    {
      "cell_type": "code",
      "metadata": {
        "colab": {
          "base_uri": "https://localhost:8080/"
        },
        "id": "DqZZCzspRoj6",
        "outputId": "64c4218e-3006-4192-8d0c-cae8ec6590bf"
      },
      "source": [
        "LOIxSN_mse = np.sqrt(mean_squared_error(sn_ts_full_fit_norm,pred_LOI))\n",
        "LOIxSN_mae = mean_absolute_error(sn_ts_full_fit_norm,pred_LOI)\n",
        "print(\"LOI vs. Actual - Mean Sq. Error, Mean Abs. Error\")\n",
        "print(LOIxSN_mse,LOIxSN_mae)"
      ],
      "execution_count": 248,
      "outputs": [
        {
          "output_type": "stream",
          "text": [
            "LOI vs. Actual - Mean Sq. Error, Mean Abs. Error\n",
            "0.11906716140703084 0.09312631991759884\n"
          ],
          "name": "stdout"
        }
      ]
    },
    {
      "cell_type": "code",
      "metadata": {
        "colab": {
          "base_uri": "https://localhost:8080/"
        },
        "id": "sCr2wiKbsLko",
        "outputId": "cc53692e-3f8c-4479-dd94-8356068f5d91"
      },
      "source": [
        "BiSONxLOI_mse = np.sqrt(mean_squared_error(pred_BiSON,pred_LOI))\n",
        "BiSONxLOI_mae = mean_absolute_error(pred_BiSON,pred_LOI)\n",
        "print(\"BiSON vs. LOI - Mean Sq. Error, Mean Abs. Error\")\n",
        "print(BiSONxLOI_mse,BiSONxLOI_mae)"
      ],
      "execution_count": 249,
      "outputs": [
        {
          "output_type": "stream",
          "text": [
            "BiSON vs. LOI - Mean Sq. Error, Mean Abs. Error\n",
            "0.13481528 0.10936022\n"
          ],
          "name": "stdout"
        }
      ]
    },
    {
      "cell_type": "code",
      "metadata": {
        "id": "qGCHiqsRRM_k"
      },
      "source": [
        "def getData(koi_name,skipfront=0):\n",
        "  search_result = lk.search_lightcurve(koi_name, author='Kepler', cadence=\"short\")\n",
        "  lc_test = search_result.download_all().stitch()\n",
        "  lc_test = lc_test.fill_gaps()\n",
        "  lc_table = lc_test.to_table()\n",
        "  lc_array = np.array(lc_table['flux'])[skipfront*1440:]\n",
        "  lcdatax = np.arange(0,len(lc_array)/1440,1/1440)\n",
        "  lcfull = np.append([lcdatax],[lc_array],0).T\n",
        "  return lcfull"
      ],
      "execution_count": 147,
      "outputs": []
    },
    {
      "cell_type": "code",
      "metadata": {
        "colab": {
          "base_uri": "https://localhost:8080/",
          "height": 404
        },
        "id": "UWIEh5ZtU0km",
        "outputId": "5371cc81-3bea-48e9-b1f8-21d11a3a4d22"
      },
      "source": [
        "  search_result = lk.search_lightcurve(\"KIC 8120608\", author='Kepler', cadence=\"short\")\n",
        "  lc_test = search_result.download_all().stitch()\n",
        "  lc_test = lc_test.fill_gaps()\n",
        "  lc_test.plot()"
      ],
      "execution_count": 197,
      "outputs": [
        {
          "output_type": "execute_result",
          "data": {
            "text/plain": [
              "<matplotlib.axes._subplots.AxesSubplot at 0x7fd94d304a10>"
            ]
          },
          "metadata": {
            "tags": []
          },
          "execution_count": 197
        },
        {
          "output_type": "display_data",
          "data": {
            "image/png": "[encoded data removed]",
            "text/plain": [
              "<Figure size 848.5x400 with 1 Axes>"
            ]
          },
          "metadata": {
            "tags": []
          }
        }
      ]
    },
    {
      "cell_type": "code",
      "metadata": {
        "colab": {
          "base_uri": "https://localhost:8080/",
          "height": 404
        },
        "id": "OqSlh2_KVEAT",
        "outputId": "2002586f-cb74-421f-80e7-44e9061d48b8"
      },
      "source": [
        "search_result = lk.search_lightcurve(\"KIC 10454113\", author='Kepler', cadence=\"short\")\n",
        "lc_test = search_result.download_all().stitch()\n",
        "lc_test = lc_test.fill_gaps()\n",
        "lc_test.plot()"
      ],
      "execution_count": 199,
      "outputs": [
        {
          "output_type": "execute_result",
          "data": {
            "text/plain": [
              "<matplotlib.axes._subplots.AxesSubplot at 0x7fd936ec7910>"
            ]
          },
          "metadata": {
            "tags": []
          },
          "execution_count": 199
        },
        {
          "output_type": "display_data",
          "data": {
            "image/png": "[encoded data removed]",
            "text/plain": [
              "<Figure size 848.5x400 with 1 Axes>"
            ]
          },
          "metadata": {
            "tags": []
          }
        }
      ]
    },
    {
      "cell_type": "code",
      "metadata": {
        "id": "6yS2xoelrJOb"
      },
      "source": [
        "def prepData(data):\n",
        "  power, numax = tsPower(data.T[0],data.T[1],90,30)\n",
        "  power = normalize2D(power,\"LOI\")\n",
        "  return power,numax"
      ],
      "execution_count": 200,
      "outputs": []
    },
    {
      "cell_type": "code",
      "metadata": {
        "id": "3ap9rjR_YbUi"
      },
      "source": [
        "def predData(power):\n",
        "  pred = model.predict(power).reshape(-1)\n",
        "  return pred"
      ],
      "execution_count": 149,
      "outputs": []
    },
    {
      "cell_type": "code",
      "metadata": {
        "id": "587yfp8fj0nI"
      },
      "source": [
        "def getSlice(data):\n",
        "  power, numax = tsPower(data.T[0],data.T[1],90,30)\n",
        "  return normalize2D(power)"
      ],
      "execution_count": 201,
      "outputs": []
    },
    {
      "cell_type": "code",
      "metadata": {
        "id": "u9f69i4ps6oP"
      },
      "source": [
        "def to3D(data):\n",
        "  return data.reshape(data.shape[0],1,data.shape[1])"
      ],
      "execution_count": 209,
      "outputs": []
    },
    {
      "cell_type": "code",
      "metadata": {
        "id": "K7juh8FdqieC"
      },
      "source": [
        "lc1 = getData(\"KIC 10454113\",400)\n",
        "lc2 = getData(\"KIC 8006161\",400)\n",
        "lc3 = getData(\"KIC 6116048\",400)"
      ],
      "execution_count": 179,
      "outputs": []
    },
    {
      "cell_type": "code",
      "metadata": {
        "id": "qHU2KFSRR7rI"
      },
      "source": [
        "#lc4 = getData(\"KIC 6444896\",400)\n",
        "lc5 = getData(\"KIC 8120608\")"
      ],
      "execution_count": 192,
      "outputs": []
    },
    {
      "cell_type": "code",
      "metadata": {
        "id": "SAoa-YqOrbfP"
      },
      "source": [
        "lc1_prep,p1 = prepData(lc1)\n",
        "lc2_prep,p2 = prepData(lc2)\n",
        "lc3_prep,p3 = prepData(lc3)"
      ],
      "execution_count": 182,
      "outputs": []
    },
    {
      "cell_type": "code",
      "metadata": {
        "id": "QtUMS-vMT3Sn"
      },
      "source": [
        "lc5_prep,p5 = prepData(lc5)\n",
        "lc5_prep = lc5_prep.reshape(lc5_prep.shape[0],1,lc5_prep.shape[1])"
      ],
      "execution_count": 193,
      "outputs": []
    },
    {
      "cell_type": "code",
      "metadata": {
        "id": "xDymiYKz8g_z"
      },
      "source": [
        "IS_3D = True\n",
        "if IS_3D:\n",
        "    lc1_prep = lc1_prep.reshape(lc1_prep.shape[0],1,lc1_prep.shape[1])\n",
        "    lc2_prep = lc2_prep.reshape(lc2_prep.shape[0],1,lc2_prep.shape[1])\n",
        "    lc3_prep = lc3_prep.reshape(lc3_prep.shape[0],1,lc3_prep.shape[1])"
      ],
      "execution_count": 183,
      "outputs": []
    },
    {
      "cell_type": "code",
      "metadata": {
        "id": "rvkELUv9ZUJQ",
        "colab": {
          "base_uri": "https://localhost:8080/"
        },
        "outputId": "f1fa67da-7aa6-4055-daa0-700654d7efa0"
      },
      "source": [
        "pred1 = predData(lc1_prep)\n",
        "pred2 = predData(lc2_prep)\n",
        "pred3 = predData(lc3_prep)\n",
        "\n",
        "print(pred1[0:10])"
      ],
      "execution_count": 255,
      "outputs": [
        {
          "output_type": "stream",
          "text": [
            "[0.47090393 0.44702685 0.46050575 0.6445949  0.45859846 0.60380745\n",
            " 0.531919   0.49306592 0.42867878 0.62432826]\n"
          ],
          "name": "stdout"
        }
      ]
    },
    {
      "cell_type": "code",
      "metadata": {
        "colab": {
          "base_uri": "https://localhost:8080/"
        },
        "id": "lGfG5UwbUChv",
        "outputId": "c9d34fbc-9120-4ac4-e91a-78145dcea8ec"
      },
      "source": [
        "pred5 = predData(lc5_prep)\n",
        "print(pred5)\n",
        "print(len(pred5),len(pred3))"
      ],
      "execution_count": 194,
      "outputs": [
        {
          "output_type": "stream",
          "text": [
            "[0.09237891 0.1101785  0.11569811 0.07759851 0.07987424 0.08046253\n",
            " 0.09100252 0.08379169 0.08713545 0.42765826 0.98628867 0.6799362\n",
            " 0.83036155 0.6669282  0.36242563 0.11794683 0.10803081 0.09650895\n",
            " 0.37925673 0.6012472  0.75068533 0.17945734 0.13500369 0.10754307\n",
            " 0.10010922 0.08726926 0.08554039 0.09195538 0.08714572 0.09355615\n",
            " 0.09474806 0.35346517]\n",
            "32 32\n"
          ],
          "name": "stdout"
        }
      ]
    },
    {
      "cell_type": "code",
      "metadata": {
        "colab": {
          "base_uri": "https://localhost:8080/",
          "height": 294
        },
        "id": "w2JOX_zxdFsH",
        "outputId": "aca311bc-5782-465c-d6a0-b9a454a7c02e"
      },
      "source": [
        "#figure, axis_1 = plt.subplots()\n",
        "plt.xlabel('Time (BJD)')\n",
        "plt.ylabel(\"Predicted Solar Activity\")\n",
        "plt.title('Predicted Solar Activity vs. Time')\n",
        "\n",
        "lc_predy1 = pred1\n",
        "lc_predy2 = pred2\n",
        "lc_predy3 = pred3\n",
        "\n",
        "lc_predx = np.arange(200,int(len(lc_predy1))*30+200,30)\n",
        "\n",
        "#Axis 1\n",
        "plt.autoscale(enable=True, axis='both', tight=None)\n",
        "plt.scatter(lc_predx,lc_predy1, s = 10, c='blue', alpha=0.5, label=\"KIC 10454113\")\n",
        "x1_ITP, y1_ITP = interpolate(np.array([lc_predx,lc_predy1]).T,30)\n",
        "plt.plot(x1_ITP[1:-1], y1_ITP[1:-1], c='blue', alpha=0.5)\n",
        "\n",
        "#axis_2 = axis_1.twinx()\n",
        "#axis_2.set_ylabel('LOI (Scaling)')\n",
        "plt.scatter(lc_predx,lc_predy2, s = 5, c='red', alpha=0.5, label=\"KIC 8006161\")\n",
        "x2_ITP, y2_ITP = interpolate(np.array([lc_predx,lc_predy2]).T,30)\n",
        "plt.plot(x2_ITP, y2_ITP, c='red', alpha=0.5)\n",
        "\n",
        "#axis_3 = axis_1.twinx()\n",
        "#axis_3.set_ylabel('LOI (Scaling)')\n",
        "plt.scatter(lc_predx,lc_predy3, s = 5, c='green', alpha=0.5, label=\"KIC 6116048\")\n",
        "x2_ITP, y2_ITP = interpolate(np.array([lc_predx,lc_predy3]).T,30)\n",
        "plt.plot(x2_ITP, y2_ITP, c='green', alpha=0.5)\n",
        "\n",
        "plt.legend()\n",
        "plt.show()"
      ],
      "execution_count": 256,
      "outputs": [
        {
          "output_type": "display_data",
          "data": {
            "image/png": "[encoded data removed]",
            "text/plain": [
              "<Figure size 432x288 with 1 Axes>"
            ]
          },
          "metadata": {
            "tags": [],
            "needs_background": "light"
          }
        }
      ]
    },
    {
      "cell_type": "code",
      "metadata": {
        "id": "PomUPNAxpvAX"
      },
      "source": [
        "exohost = [1871056,8120608,2571238,2692377,3632418,3544595,11968749] #11554100,\n",
        "#First 6 Exoplanet, Last red giant"
      ],
      "execution_count": 290,
      "outputs": []
    },
    {
      "cell_type": "code",
      "metadata": {
        "colab": {
          "base_uri": "https://localhost:8080/",
          "height": 410
        },
        "id": "xNHqgIekEe3b",
        "outputId": "7dadf725-0d65-4c0d-b06c-4b4f52b58440"
      },
      "source": [
        "search_result = lk.search_lightcurve(\"KIC 11968749\", author='Kepler', cadence=\"short\")\n",
        "lc_test = search_result.download_all().stitch()\n",
        "lc_test = lc_test.fill_gaps()\n",
        "lc_test.plot()"
      ],
      "execution_count": 321,
      "outputs": [
        {
          "output_type": "execute_result",
          "data": {
            "text/plain": [
              "<matplotlib.axes._subplots.AxesSubplot at 0x7fd94f8bb490>"
            ]
          },
          "metadata": {
            "tags": []
          },
          "execution_count": 321
        },
        {
          "output_type": "display_data",
          "data": {
            "image/png": "[encoded data removed]",
            "text/plain": [
              "<Figure size 848.5x400 with 1 Axes>"
            ]
          },
          "metadata": {
            "tags": []
          }
        }
      ]
    },
    {
      "cell_type": "code",
      "metadata": {
        "id": "tonryUswqSEY"
      },
      "source": [
        "exohost_data = []\n",
        "for star in exohost:\n",
        "  exohost_data.append(getData((\"KIC \"+str(star))))"
      ],
      "execution_count": 291,
      "outputs": []
    },
    {
      "cell_type": "code",
      "metadata": {
        "colab": {
          "base_uri": "https://localhost:8080/"
        },
        "id": "VaAmmAMY6Yfp",
        "outputId": "5050fc95-d419-49bd-80d4-f9fa3a35f61e"
      },
      "source": [
        "print(exohost_data[0][0])"
      ],
      "execution_count": 316,
      "outputs": [
        {
          "output_type": "stream",
          "text": [
            "[0.         0.99948037]\n"
          ],
          "name": "stdout"
        }
      ]
    },
    {
      "cell_type": "code",
      "metadata": {
        "id": "mLhSdS3Zqj48"
      },
      "source": [
        "exohost_prep = []\n",
        "for stardata in exohost_data:\n",
        "  exohost_prep.append(prepData(stardata)[0])"
      ],
      "execution_count": 293,
      "outputs": []
    },
    {
      "cell_type": "code",
      "metadata": {
        "id": "x4UYNgMbtX9y"
      },
      "source": [
        "for i in range(len(exohost_prep)):\n",
        "  exohost_prep[i] = to3D(exohost_prep[i])"
      ],
      "execution_count": 294,
      "outputs": []
    },
    {
      "cell_type": "code",
      "metadata": {
        "id": "poB7MJyFtfD7"
      },
      "source": [
        "exohost_pred = []\n",
        "for starpred in exohost_prep:\n",
        "  exohost_pred.append(predData(starpred))"
      ],
      "execution_count": 295,
      "outputs": []
    },
    {
      "cell_type": "code",
      "metadata": {
        "id": "FDwLOB8ktvGW"
      },
      "source": [
        "def addFiller(data,totallength):\n",
        "  while len(data) < totallength:\n",
        "    data = np.append(data,0.5)\n",
        "  return data"
      ],
      "execution_count": 275,
      "outputs": []
    },
    {
      "cell_type": "code",
      "metadata": {
        "id": "HRfhDiwLurDi"
      },
      "source": [
        "def findMaxLen(data): \n",
        "    maxLength = max(len(x) for x in data) \n",
        "    return maxLength "
      ],
      "execution_count": 276,
      "outputs": []
    },
    {
      "cell_type": "code",
      "metadata": {
        "id": "3GXUsEMPuNtM"
      },
      "source": [
        "exohost_fill = []\n",
        "maxlen2 = findMaxLen(exohost_pred)\n",
        "for starpred in exohost_pred:\n",
        "  exohost_fill.append(addFiller(starpred,maxlen))"
      ],
      "execution_count": 296,
      "outputs": []
    },
    {
      "cell_type": "code",
      "metadata": {
        "colab": {
          "base_uri": "https://localhost:8080/"
        },
        "id": "ZJh2JIgGvAbX",
        "outputId": "40bdda9c-1b58-4b52-a26b-0463a1f30a04"
      },
      "source": [
        "print(exohost_fill)"
      ],
      "execution_count": 297,
      "outputs": [
        {
          "output_type": "stream",
          "text": [
            "[array([0.40717149, 0.61508608, 0.86041331, 0.47961378, 0.65414518,\n",
            "       0.28521717, 0.18561058, 0.17089973, 0.31407827, 0.37242618,\n",
            "       0.38891083, 0.34466285, 0.46319506, 0.41501439, 0.42025676,\n",
            "       0.36596033, 0.2253909 , 0.16889063, 0.25218663, 0.35439894,\n",
            "       0.28750786, 0.2168349 , 0.30867091, 0.20334585, 0.32426426,\n",
            "       0.5       , 0.5       , 0.5       , 0.5       , 0.5       ,\n",
            "       0.5       , 0.5       , 0.5       , 0.5       , 0.5       ,\n",
            "       0.5       , 0.5       , 0.5       , 0.5       , 0.5       ,\n",
            "       0.5       , 0.5       , 0.5       , 0.5       , 0.5       ,\n",
            "       0.5       , 0.5       , 0.5       , 0.5       ]), array([0.13109997, 0.16589361, 0.19313246, 0.11593385, 0.11063643,\n",
            "       0.12147345, 0.13524629, 0.13308223, 0.13220154, 0.5278492 ,\n",
            "       0.61974901, 0.706918  , 0.51084524, 0.6615544 , 0.2912893 ,\n",
            "       0.16342992, 0.13776749, 0.1381115 , 0.38298157, 0.42963997,\n",
            "       0.39034691, 0.247834  , 0.22865333, 0.13928601, 0.13490841,\n",
            "       0.13366443, 0.12766603, 0.13251026, 0.12742552, 0.13153523,\n",
            "       0.13520533, 0.39150494, 0.5       , 0.5       , 0.5       ,\n",
            "       0.5       , 0.5       , 0.5       , 0.5       , 0.5       ,\n",
            "       0.5       , 0.5       , 0.5       , 0.5       , 0.5       ,\n",
            "       0.5       , 0.5       , 0.5       , 0.5       ]), array([0.28855738, 0.13428403, 0.13276759, 0.13300326, 0.13225698,\n",
            "       0.1510299 , 0.5150696 , 0.50307631, 0.42139894, 0.61614084,\n",
            "       0.65170121, 0.49913809, 0.1485711 , 0.15749933, 0.34951556,\n",
            "       0.45193917, 0.4706853 , 0.56106985, 0.6302498 , 0.44978452,\n",
            "       0.51737046, 0.49157456, 0.5861237 , 0.35330969, 0.18345153,\n",
            "       0.13560392, 0.23377815, 0.36154377, 0.70439726, 0.4473851 ,\n",
            "       0.76250869, 0.82446736, 0.66217571, 0.65997058, 0.4895173 ,\n",
            "       0.34881842, 0.4228572 , 0.41705322, 0.38863441, 0.3298206 ,\n",
            "       0.14294182, 0.64098912, 0.49139187, 0.6148808 , 0.70830745,\n",
            "       0.70116431, 0.5       , 0.5       , 0.5       ]), array([0.27297425, 0.50491953, 0.47059375, 0.81526166, 0.62733734,\n",
            "       0.80208617, 0.67542672, 0.72937864, 0.77862316, 0.62621701,\n",
            "       0.65562844, 0.07523449, 0.07366479, 0.07383685, 0.07506733,\n",
            "       0.58666694, 0.64454907, 0.15386288, 0.08912703, 0.06884029,\n",
            "       0.08202133, 0.07407698, 0.07192613, 0.16490203, 0.62804675,\n",
            "       0.55983037, 0.65840167, 0.61156112, 0.64622474, 0.68138069,\n",
            "       0.08203553, 0.07522641, 0.07925662, 0.07729717, 0.07097854,\n",
            "       0.5       , 0.5       , 0.5       , 0.5       , 0.5       ,\n",
            "       0.5       , 0.5       , 0.5       , 0.5       , 0.5       ,\n",
            "       0.5       , 0.5       , 0.5       , 0.5       ]), array([0.50075424, 0.62490672, 0.70933044, 0.71901804, 0.59623766,\n",
            "       0.40138552, 0.38922217, 0.177205  , 0.21263936, 0.42641985,\n",
            "       0.30666941, 0.33475634, 0.36078098, 0.3232041 , 0.45353389,\n",
            "       0.4197337 , 0.52946383, 0.39974028, 0.45664358, 0.43814057,\n",
            "       0.39566872, 0.38352785, 0.35205612, 0.49771363, 0.49443063,\n",
            "       0.33901808, 0.45147467, 0.45459893, 0.38548887, 0.28982398,\n",
            "       0.31114182, 0.33988041, 0.31529048, 0.4027296 , 0.36445996,\n",
            "       0.42057955, 0.48054761, 0.3213878 , 0.63560557, 0.41408736,\n",
            "       0.45703924, 0.40960148, 0.79702228, 0.80114925, 0.5       ,\n",
            "       0.5       , 0.5       , 0.5       , 0.5       ]), array([0.63508773, 0.70492095, 0.54379702, 0.75374424, 0.60892028,\n",
            "       0.72129786, 0.66405791, 0.41343927, 0.4273794 , 0.39439541,\n",
            "       0.51009035, 0.4550297 , 0.64141899, 0.45640129, 0.50723314,\n",
            "       0.47408679, 0.60581887, 0.67665243, 0.7613492 , 0.62893784,\n",
            "       0.32694253, 0.42914647, 0.45784321, 0.78268963, 0.83172619,\n",
            "       0.56637287, 0.57618213, 0.69657713, 0.38376722, 0.58896601,\n",
            "       0.71147996, 0.62503833, 0.54465532, 0.68863815, 0.58206284,\n",
            "       0.73737603, 0.79977214, 0.58167392, 0.79023576, 0.51624614,\n",
            "       0.67674279, 0.78154755, 0.64200979, 0.56357902, 0.5       ,\n",
            "       0.5       , 0.5       , 0.5       , 0.5       ]), array([0.71528655, 0.57646275, 0.59098756, 0.4597827 , 0.36052394,\n",
            "       0.6715178 , 0.83877116, 0.6871842 , 0.67667955, 0.53109545,\n",
            "       0.5573989 , 0.39534482, 0.78345984, 0.6360883 , 0.70977616,\n",
            "       0.6094807 , 0.64993984, 0.44394585, 0.5209109 , 0.51457775,\n",
            "       0.8376371 , 0.6774913 , 0.61682403, 0.71572304, 0.68668354,\n",
            "       0.5035754 , 0.48529518, 0.7000051 , 0.79938895, 0.62819827,\n",
            "       0.665412  , 0.62897456, 0.5284039 , 0.49858916, 0.5933887 ,\n",
            "       0.7983787 , 0.717955  , 0.69482845, 0.59019834, 0.9178047 ,\n",
            "       0.650466  , 0.49094334, 0.40108758, 0.4107052 , 0.5800482 ,\n",
            "       0.4782056 , 0.6788116 , 0.71064   , 0.48431996], dtype=float32)]\n"
          ],
          "name": "stdout"
        }
      ]
    },
    {
      "cell_type": "code",
      "metadata": {
        "colab": {
          "base_uri": "https://localhost:8080/",
          "height": 294
        },
        "id": "iNaDmd87vFJL",
        "outputId": "fdc566f7-9d3d-47d8-b312-e0c5604b4ad0"
      },
      "source": [
        "plt.xlabel('Time (BJD)')\n",
        "plt.ylabel(\"Predicted Solar Activity\")\n",
        "plt.title('Predicted Solar Activity vs. Time')\n",
        "\n",
        "maxlen = findMaxLen(exohost_fill)\n",
        "lcx = np.arange(0,maxlen*30,30)\n",
        "\n",
        "plt.autoscale(enable=True, axis='both', tight=None)\n",
        "\n",
        "# for i in range(len(exohost_fill)):\n",
        "#   plt.scatter(lcx,exohost_fill[i], s = 10, c='blue', alpha=0.5, label=(\"KIC\"+str(exohost[i])))\n",
        "#   x1_ITP, y1_ITP = interpolate(np.array([lcx,exohost_fill[i]]).T,30)\n",
        "#   plt.plot(x1_ITP[1:-1], y1_ITP[1:-1], c='blue', alpha=0.5)\n",
        "plt.scatter(lcx,exohost_fill[0], s = 10, c='blue', alpha=0.5, label=(\"KIC\"+str(exohost[0])))\n",
        "x1_ITP, y1_ITP = interpolate(np.array([lcx,exohost_fill[0]]).T,30)\n",
        "plt.plot(x1_ITP[1:-1], y1_ITP[1:-1], c='blue', alpha=0.5)\n",
        "\n",
        "plt.scatter(lcx,exohost_fill[1], s = 10, c='red', alpha=0.5, label=(\"KIC\"+str(exohost[1])))\n",
        "x1_ITP, y1_ITP = interpolate(np.array([lcx,exohost_fill[1]]).T,30)\n",
        "plt.plot(x1_ITP[1:-1], y1_ITP[1:-1], c='red', alpha=0.5)\n",
        "\n",
        "plt.scatter(lcx,exohost_fill[2], s = 10, c='green', alpha=0.5, label=(\"KIC\"+str(exohost[2])))\n",
        "x1_ITP, y1_ITP = interpolate(np.array([lcx,exohost_fill[2]]).T,30)\n",
        "plt.plot(x1_ITP[1:-1], y1_ITP[1:-1], c='green', alpha=0.5)\n",
        "\n",
        "plt.scatter(lcx,exohost_fill[3], s = 10, c='orange', alpha=0.5, label=(\"KIC\"+str(exohost[3])))\n",
        "x1_ITP, y1_ITP = interpolate(np.array([lcx,exohost_fill[3]]).T,30)\n",
        "plt.plot(x1_ITP[1:-1], y1_ITP[1:-1], c='orange', alpha=0.5)\n",
        "plt.scatter(lcx,exohost_fill[4], s = 10, c='purple', alpha=0.5, label=(\"KIC\"+str(exohost[4])))\n",
        "x1_ITP, y1_ITP = interpolate(np.array([lcx,exohost_fill[4]]).T,30)\n",
        "plt.plot(x1_ITP[1:-1], y1_ITP[1:-1], c='purple', alpha=0.5)\n",
        "plt.scatter(lcx,exohost_fill[5], s = 10, c='black', alpha=0.5, label=(\"KIC\"+str(exohost[5])))\n",
        "x1_ITP, y1_ITP = interpolate(np.array([lcx,exohost_fill[5]]).T,30)\n",
        "plt.plot(x1_ITP[1:-1], y1_ITP[1:-1], c='black', alpha=0.5)\n",
        "plt.scatter(lcx,exohost_fill[6], s = 10, c='brown', alpha=0.5, label=(\"KIC\"+str(exohost[6])))\n",
        "x1_ITP, y1_ITP = interpolate(np.array([lcx,exohost_fill[6]]).T,30)\n",
        "plt.plot(x1_ITP[1:-1], y1_ITP[1:-1], c='brown', alpha=0.5)\n",
        "\n",
        "# plt.scatter(lcx,exohost_fill[3], s = 10, c='purple', alpha=0.5, label=(\"KIC\"+str(exohost[3])))\n",
        "# x1_ITP, y1_ITP = interpolate(np.array([lcx,exohost_fill[3]]).T,30)\n",
        "# plt.plot(x1_ITP[1:-1], y1_ITP[1:-1], c='purple', alpha=0.5)\n",
        "\n",
        "\n",
        "plt.legend()\n",
        "plt.show()"
      ],
      "execution_count": 299,
      "outputs": [
        {
          "output_type": "display_data",
          "data": {
            "image/png": "[encoded data removed]",
            "text/plain": [
              "<Figure size 432x288 with 1 Axes>"
            ]
          },
          "metadata": {
            "tags": [],
            "needs_background": "light"
          }
        }
      ]
    },
    {
      "cell_type": "code",
      "metadata": {
        "colab": {
          "base_uri": "https://localhost:8080/",
          "height": 512
        },
        "id": "51dvuYjaCgzQ",
        "outputId": "d13c4b13-dd70-457a-cb2f-95cd56eeef15"
      },
      "source": [
        "plt.xlabel('Time (BJD)')\n",
        "plt.ylabel(\"Predicted Solar Activity\")\n",
        "plt.title('Predicted Solar Activity vs. Time')\n",
        "\n",
        "# maxlen = len(exohost_data[0])\n",
        "# lcx = np.arange(0,maxlen)\n",
        "\n",
        "plt.autoscale(enable=True, axis='both', tight=None)\n",
        "\n",
        "# for i in range(len(exohost_fill)):\n",
        "#   plt.scatter(lcx,exohost_fill[i], s = 10, c='blue', alpha=0.5, label=(\"KIC\"+str(exohost[i])))\n",
        "#   x1_ITP, y1_ITP = interpolate(np.array([lcx,exohost_fill[i]]).T,30)\n",
        "#   plt.plot(x1_ITP[1:-1], y1_ITP[1:-1], c='blue', alpha=0.5)\n",
        "plt.scatter(exohost_data[0].T[0],exohost_data[0].T[1], s = 10, c='blue', alpha=0.5)\n",
        "x1_ITP, y1_ITP = interpolate(np.array(exohost_data[0].T[0],exohost_data[0].T[1]).T,30)\n",
        "plt.plot(x1_ITP[1:-1], y1_ITP[1:-1], c='blue', alpha=0.5)\n",
        "\n",
        "plt.show()"
      ],
      "execution_count": 315,
      "outputs": [
        {
          "output_type": "error",
          "ename": "TypeError",
          "evalue": "ignored",
          "traceback": [
            "\u001b[0;31m---------------------------------------------------------------------------\u001b[0m",
            "\u001b[0;31mTypeError\u001b[0m                                 Traceback (most recent call last)",
            "\u001b[0;32m<ipython-input-315-137a63d210d9>\u001b[0m in \u001b[0;36m<module>\u001b[0;34m()\u001b[0m\n\u001b[1;32m     13\u001b[0m \u001b[0;31m#   plt.plot(x1_ITP[1:-1], y1_ITP[1:-1], c='blue', alpha=0.5)\u001b[0m\u001b[0;34m\u001b[0m\u001b[0;34m\u001b[0m\u001b[0;34m\u001b[0m\u001b[0m\n\u001b[1;32m     14\u001b[0m \u001b[0mplt\u001b[0m\u001b[0;34m.\u001b[0m\u001b[0mscatter\u001b[0m\u001b[0;34m(\u001b[0m\u001b[0mexohost_data\u001b[0m\u001b[0;34m[\u001b[0m\u001b[0;36m0\u001b[0m\u001b[0;34m]\u001b[0m\u001b[0;34m.\u001b[0m\u001b[0mT\u001b[0m\u001b[0;34m[\u001b[0m\u001b[0;36m0\u001b[0m\u001b[0;34m]\u001b[0m\u001b[0;34m,\u001b[0m\u001b[0mexohost_data\u001b[0m\u001b[0;34m[\u001b[0m\u001b[0;36m0\u001b[0m\u001b[0;34m]\u001b[0m\u001b[0;34m.\u001b[0m\u001b[0mT\u001b[0m\u001b[0;34m[\u001b[0m\u001b[0;36m1\u001b[0m\u001b[0;34m]\u001b[0m\u001b[0;34m,\u001b[0m \u001b[0ms\u001b[0m \u001b[0;34m=\u001b[0m \u001b[0;36m10\u001b[0m\u001b[0;34m,\u001b[0m \u001b[0mc\u001b[0m\u001b[0;34m=\u001b[0m\u001b[0;34m'blue'\u001b[0m\u001b[0;34m,\u001b[0m \u001b[0malpha\u001b[0m\u001b[0;34m=\u001b[0m\u001b[0;36m0.5\u001b[0m\u001b[0;34m)\u001b[0m\u001b[0;34m\u001b[0m\u001b[0;34m\u001b[0m\u001b[0m\n\u001b[0;32m---> 15\u001b[0;31m \u001b[0mx1_ITP\u001b[0m\u001b[0;34m,\u001b[0m \u001b[0my1_ITP\u001b[0m \u001b[0;34m=\u001b[0m \u001b[0minterpolate\u001b[0m\u001b[0;34m(\u001b[0m\u001b[0mnp\u001b[0m\u001b[0;34m.\u001b[0m\u001b[0marray\u001b[0m\u001b[0;34m(\u001b[0m\u001b[0mexohost_data\u001b[0m\u001b[0;34m[\u001b[0m\u001b[0;36m0\u001b[0m\u001b[0;34m]\u001b[0m\u001b[0;34m.\u001b[0m\u001b[0mT\u001b[0m\u001b[0;34m[\u001b[0m\u001b[0;36m0\u001b[0m\u001b[0;34m]\u001b[0m\u001b[0;34m,\u001b[0m\u001b[0mexohost_data\u001b[0m\u001b[0;34m[\u001b[0m\u001b[0;36m0\u001b[0m\u001b[0;34m]\u001b[0m\u001b[0;34m.\u001b[0m\u001b[0mT\u001b[0m\u001b[0;34m[\u001b[0m\u001b[0;36m1\u001b[0m\u001b[0;34m]\u001b[0m\u001b[0;34m)\u001b[0m\u001b[0;34m.\u001b[0m\u001b[0mT\u001b[0m\u001b[0;34m,\u001b[0m\u001b[0;36m30\u001b[0m\u001b[0;34m)\u001b[0m\u001b[0;34m\u001b[0m\u001b[0;34m\u001b[0m\u001b[0m\n\u001b[0m\u001b[1;32m     16\u001b[0m \u001b[0mplt\u001b[0m\u001b[0;34m.\u001b[0m\u001b[0mplot\u001b[0m\u001b[0;34m(\u001b[0m\u001b[0mx1_ITP\u001b[0m\u001b[0;34m[\u001b[0m\u001b[0;36m1\u001b[0m\u001b[0;34m:\u001b[0m\u001b[0;34m-\u001b[0m\u001b[0;36m1\u001b[0m\u001b[0;34m]\u001b[0m\u001b[0;34m,\u001b[0m \u001b[0my1_ITP\u001b[0m\u001b[0;34m[\u001b[0m\u001b[0;36m1\u001b[0m\u001b[0;34m:\u001b[0m\u001b[0;34m-\u001b[0m\u001b[0;36m1\u001b[0m\u001b[0;34m]\u001b[0m\u001b[0;34m,\u001b[0m \u001b[0mc\u001b[0m\u001b[0;34m=\u001b[0m\u001b[0;34m'blue'\u001b[0m\u001b[0;34m,\u001b[0m \u001b[0malpha\u001b[0m\u001b[0;34m=\u001b[0m\u001b[0;36m0.5\u001b[0m\u001b[0;34m)\u001b[0m\u001b[0;34m\u001b[0m\u001b[0;34m\u001b[0m\u001b[0m\n\u001b[1;32m     17\u001b[0m \u001b[0;34m\u001b[0m\u001b[0m\n",
            "\u001b[0;31mTypeError\u001b[0m: Cannot construct a dtype from an array"
          ]
        },
        {
          "output_type": "display_data",
          "data": {
            "image/png": "[encoded data removed]",
            "text/plain": [
              "<Figure size 432x288 with 1 Axes>"
            ]
          },
          "metadata": {
            "tags": [],
            "needs_background": "light"
          }
        }
      ]
    },
    {
      "cell_type": "markdown",
      "metadata": {
        "id": "AVeEeZh0hNJv"
      },
      "source": [
        "## Compare Datasets"
      ]
    },
    {
      "cell_type": "code",
      "metadata": {
        "id": "6Bj19EW_hPt4"
      },
      "source": [
        "#23\n",
        "#   print(BiSON_ts_23.shape,SN_ts_23.shape,LOI_ts_23.shape)\n",
        "\n",
        "#24\n",
        "#   print(BiSON_ts_24_fit.shape,SN_ts_24_fit.shape,LOI_ts_24.shape)\n",
        "\n",
        "#Full\n",
        "#   print(BiSON_ts_full_fit.shape,SN_ts_full_fit.shape,LOI_ts_full.shape)\n",
        "y1 = normalize2D(BiSON_ts_full_fit)[0]\n",
        "y2 = normalize2D(LOI_ts_full)[0]\n",
        "y3 = lc1_prep[0]"
      ],
      "execution_count": null,
      "outputs": []
    },
    {
      "cell_type": "code",
      "metadata": {
        "id": "30S56QilauDa"
      },
      "source": [
        "def filterPg(pg):\n",
        "  discard = 0.3\n",
        "  for i in range(int(len(pg))):\n",
        "    if pg[i] <= discard:\n",
        "      pg[i] = 0\n",
        "  #   else:\n",
        "  #     pg[i] -= discard\n",
        "  # pg = np.divide(pg,np.max(pg))\n",
        "  return pg"
      ],
      "execution_count": null,
      "outputs": []
    },
    {
      "cell_type": "code",
      "metadata": {
        "colab": {
          "base_uri": "https://localhost:8080/",
          "height": 381
        },
        "id": "Y8GDaptYhuU7",
        "outputId": "5c9cfbfe-0456-4d10-efdc-76822ce77f88"
      },
      "source": [
        "figure, axis_1 = plt.subplots()\n",
        "plt.xlabel('Time (BJD)')\n",
        "plt.title('ML Prediction and Sunspot Number vs. Time - Cycle 23 & 24')\n",
        "# for i in range(len(y3)):\n",
        "#   if y3[i] < 0.4:\n",
        "#     y3[i] = 0\n",
        "# print(y3[0])\n",
        "  \n",
        "\n",
        "x1 = np.arange(0,7776)\n",
        "\n",
        "y4 = []\n",
        "for value in x1:\n",
        "    check = True\n",
        "    for i in range(int(len(tfreqs))):\n",
        "        if int(tfreqs[i]-1) == value:\n",
        "            y4 = np.append(y4,tmodes[i])\n",
        "            check = False\n",
        "            break\n",
        "    if check:\n",
        "        y4 = np.append(y4,0)\n",
        "\n",
        "print(len(y4))\n",
        "\n",
        "#Axis 1\n",
        "axis_1.autoscale(enable=True, axis='both', tight=None)\n",
        "axis_1.set_ylabel('BiSON (Scaling)')\n",
        "axis_1.scatter(x1,y4, s = 5, c='blue', alpha=0.5, label=\"pred_BiSON\")\n",
        "# x1_ITP, y1_ITP = interpolate(np.array([x1,y1]).T,50)\n",
        "# axis_1.plot(x1_ITP, y1_ITP, c='blue', alpha=0.5, label = \"Pred. BiSON\")\n",
        "\n",
        "# # #Axis 2\n",
        "# axis_2 = axis_1.twinx()\n",
        "# axis_2.set_ylabel('LOI (Scaling)')\n",
        "# axis_2.scatter(x1,y2, s = 5, c='red', alpha=0.5, label=\"pred_LOI\")\n",
        "# x2_ITP, y2_ITP = interpolate(np.array([x1,y2]).T,50)\n",
        "# axis_1.plot(x2_ITP, y2_ITP, c='red', alpha=0.5, label = \"Pred. LOI\")\n",
        "\n",
        "# #Axis 3\n",
        "# axis_3 = axis_1.twinx()\n",
        "# axis_3.axis(\"off\")\n",
        "# axis_3.set_ylabel('SN')\n",
        "# axis_3.scatter(x1,y4, s = 5, c='green', alpha=0.5, label=\"actual_SN\")\n",
        "\n",
        "#Append Labels\n",
        "lines_1, labels_1 = axis_1.get_legend_handles_labels()\n",
        "lines_2, labels_2 = axis_2.get_legend_handles_labels()\n",
        "lines_3, labels_3 = axis_3.get_legend_handles_labels()\n",
        "lines = lines_1 + lines_2 + lines_3\n",
        "labels = labels_1 + labels_2 + labels_3\n",
        "axis_1.legend(lines, labels, loc=0)\n",
        "plt.show()"
      ],
      "execution_count": null,
      "outputs": [
        {
          "output_type": "stream",
          "text": [
            "[ 992. 1380. 1622. 2132. 2916. 3371. 4148. 4526. 4939. 5290. 5836. 6571.\n",
            " 6951. 7354.] [0.44721106 0.49577136 0.56318943 0.54038116 1.         0.39177608\n",
            " 0.36370707 0.53226221 0.47128111 0.35626258 0.50778757 0.52390755\n",
            " 0.55922793 0.35757202 0.44401813 0.04963992]\n",
            "7776\n"
          ],
          "name": "stdout"
        },
        {
          "output_type": "display_data",
          "data": {
            "image/png": "[encoded data removed]",
            "text/plain": [
              "<Figure size 432x288 with 1 Axes>"
            ]
          },
          "metadata": {
            "tags": [],
            "needs_background": "light"
          }
        }
      ]
    },
    {
      "cell_type": "code",
      "metadata": {
        "id": "xaQ84OGIj_FQ"
      },
      "source": [
        "lk.seismology.estimate_deltanu_acf2d?"
      ],
      "execution_count": null,
      "outputs": []
    },
    {
      "cell_type": "markdown",
      "metadata": {
        "id": "SCx800fhc51y"
      },
      "source": [
        "## Test Code"
      ]
    },
    {
      "cell_type": "code",
      "metadata": {
        "colab": {
          "base_uri": "https://localhost:8080/",
          "height": 404
        },
        "id": "SfTytx0JR0Ir",
        "outputId": "947fbc11-fdfd-4a09-c162-ac3bb9b22bd6"
      },
      "source": [
        "search_result = lk.search_lightcurve('KIC 10454113', author='Kepler', cadence=\"short\")\n",
        "search_result\n",
        "lc_test = search_result.download_all().stitch()\n",
        "lc_test.plot()"
      ],
      "execution_count": null,
      "outputs": [
        {
          "output_type": "execute_result",
          "data": {
            "text/plain": [
              "<matplotlib.axes._subplots.AxesSubplot at 0x7fa04a18ddd0>"
            ]
          },
          "metadata": {
            "tags": []
          },
          "execution_count": 79
        },
        {
          "output_type": "display_data",
          "data": {
            "image/png": "[encoded data removed]",
            "text/plain": [
              "<Figure size 848.5x400 with 1 Axes>"
            ]
          },
          "metadata": {
            "tags": []
          }
        }
      ]
    },
    {
      "cell_type": "code",
      "metadata": {
        "colab": {
          "base_uri": "https://localhost:8080/",
          "height": 404
        },
        "id": "VEYHxHRtXd_6",
        "outputId": "756a2bdb-b0a0-4afc-ac1a-81b48cf41a15"
      },
      "source": [
        "lc_test = lc_test.fill_gaps()\n",
        "lc_test.plot()"
      ],
      "execution_count": null,
      "outputs": [
        {
          "output_type": "execute_result",
          "data": {
            "text/plain": [
              "<matplotlib.axes._subplots.AxesSubplot at 0x7fa049e69190>"
            ]
          },
          "metadata": {
            "tags": []
          },
          "execution_count": 80
        },
        {
          "output_type": "display_data",
          "data": {
            "image/png": "[encoded data removed]",
            "text/plain": [
              "<Figure size 848.5x400 with 1 Axes>"
            ]
          },
          "metadata": {
            "tags": []
          }
        }
      ]
    },
    {
      "cell_type": "code",
      "metadata": {
        "id": "PHLvcn4FXoIM"
      },
      "source": [
        "Dlc_table = lc_test.to_table()\n",
        "lc_array = np.array(lc_table['flux'])\n",
        "print(lc_array)"
      ],
      "execution_count": null,
      "outputs": []
    },
    {
      "cell_type": "code",
      "metadata": {
        "colab": {
          "base_uri": "https://localhost:8080/"
        },
        "id": "j4k4clUGrpUu",
        "outputId": "bfa1e412-2052-4405-d91c-b1957b3c7992"
      },
      "source": [
        "lcdatax = np.arange(0,len(lc_array)/1440,1/1440)\n",
        "lcfull = np.append([lcdatax],[lc_array],0).T\n",
        "print(lcfull.shape)"
      ],
      "execution_count": null,
      "outputs": [
        {
          "output_type": "stream",
          "text": [
            "(1996170, 2)\n"
          ],
          "name": "stdout"
        }
      ]
    },
    {
      "cell_type": "code",
      "metadata": {
        "colab": {
          "base_uri": "https://localhost:8080/"
        },
        "id": "nQlyHOmdxrgO",
        "outputId": "dac435f9-c41a-4ac7-9a69-1119d3f57f0b"
      },
      "source": [
        "print(lcfull[-1])"
      ],
      "execution_count": null,
      "outputs": [
        {
          "output_type": "stream",
          "text": [
            "[1.38622847e+03 1.00039232e+00]\n"
          ],
          "name": "stdout"
        }
      ]
    },
    {
      "cell_type": "code",
      "metadata": {
        "id": "fHUO4dAsxuq4"
      },
      "source": [
        "lc_power, lc_numax = tsPower(lcfull.T[0],lcfull.T[1],90,30)"
      ],
      "execution_count": null,
      "outputs": []
    },
    {
      "cell_type": "code",
      "metadata": {
        "colab": {
          "base_uri": "https://localhost:8080/"
        },
        "id": "t1FkTsS4IJi5",
        "outputId": "98e181a0-d15a-484a-cdb9-7e6c1034efd6"
      },
      "source": [
        "print(lc_power.shape,lc_numax)"
      ],
      "execution_count": null,
      "outputs": [
        {
          "output_type": "stream",
          "text": [
            "(44, 7776) 1425\n"
          ],
          "name": "stdout"
        }
      ]
    },
    {
      "cell_type": "code",
      "metadata": {
        "colab": {
          "base_uri": "https://localhost:8080/"
        },
        "id": "RYZqVKsLIkTy",
        "outputId": "c14b15c3-18e7-4939-8454-1df0a3c3bcb7"
      },
      "source": [
        "lc_power_norm = normalize2D(lc_power)\n",
        "print(np.max(lc_power_norm))"
      ],
      "execution_count": null,
      "outputs": [
        {
          "output_type": "stream",
          "text": [
            "1.0\n"
          ],
          "name": "stdout"
        }
      ]
    },
    {
      "cell_type": "code",
      "metadata": {
        "colab": {
          "base_uri": "https://localhost:8080/"
        },
        "id": "eogoUd46Iznw",
        "outputId": "1cec3147-0d7a-4043-846f-9eca43f55cba"
      },
      "source": [
        "pred_lc = model.predict(lc_power_norm[9:]).reshape(-1)\n",
        "print(pred_lc.shape)\n",
        "print(pred_lc)"
      ],
      "execution_count": null,
      "outputs": [
        {
          "output_type": "stream",
          "text": [
            "(35,)\n",
            "[2.1501856 2.1978247 2.218618  1.9813035 1.8138002 1.6447774 1.7670627\n",
            " 1.3543344 1.6227567 1.4145533 1.6896728 1.8097239 1.6240644 2.0843878\n",
            " 2.0923507 1.9381614 2.283571  2.4614487 2.109753  1.9923794 2.4358625\n",
            " 2.504476  2.693074  2.2238019 2.4378045 2.00395   1.5316311 2.0904558\n",
            " 1.6939368 1.8036245 1.837662  1.5059265 2.7730196 2.3647003 2.3227234]\n"
          ],
          "name": "stdout"
        }
      ]
    },
    {
      "cell_type": "code",
      "metadata": {
        "colab": {
          "base_uri": "https://localhost:8080/",
          "height": 312
        },
        "id": "BcydxAK4JAeF",
        "outputId": "bca64533-50d6-4ed3-8824-1f9f726f8771"
      },
      "source": [
        "plt.xlabel('Time (BJD)')\n",
        "plt.title('ML Prediction and Sunspot Number vs. Time - Cycle 23 & 24')\n",
        "\n",
        "lc_testx = np.arange(0,int(len(pred_lc)))\n",
        "\n",
        "#Axis 1\n",
        "plt.autoscale(enable=True, axis='both', tight=None)\n",
        "plt.scatter(lc_testx,pred_lc, s = 10, c='blue', alpha=0.5, label=\"pred_BiSON\")\n",
        "x1_ITP, y1_ITP = interpolate(np.array([lc_testx,pred_lc]).T,50)\n",
        "plt.plot(x1_ITP, y1_ITP, c='blue', alpha=0.5, label = \"Pred. BiSON\")\n",
        "\n",
        "plt.show"
      ],
      "execution_count": null,
      "outputs": [
        {
          "output_type": "execute_result",
          "data": {
            "text/plain": [
              "<function matplotlib.pyplot.show>"
            ]
          },
          "metadata": {
            "tags": []
          },
          "execution_count": 109
        },
        {
          "output_type": "display_data",
          "data": {
            "image/png": "[encoded data removed]",
            "text/plain": [
              "<Figure size 432x288 with 1 Axes>"
            ]
          },
          "metadata": {
            "tags": []
          }
        }
      ]
    },
    {
      "cell_type": "code",
      "metadata": {
        "id": "j-yFPY2CQaUP"
      },
      "source": [
        "lcdata3 = getData(\"KIC 6116048\")"
      ],
      "execution_count": null,
      "outputs": []
    },
    {
      "cell_type": "code",
      "metadata": {
        "id": "SgRO735OR3VQ"
      },
      "source": [
        "lc_power, lc_numax = tsPower(lcdata3.T[0],lcdata3.T[1],90,30)"
      ],
      "execution_count": null,
      "outputs": []
    },
    {
      "cell_type": "code",
      "metadata": {
        "colab": {
          "base_uri": "https://localhost:8080/"
        },
        "id": "pg9JgEJyR7t3",
        "outputId": "dfd9b5ba-77f0-4ba7-fbdb-892034b2690f"
      },
      "source": [
        "lc_power_norm = normalize2D(lc_power)\n",
        "print(np.max(lc_power_norm))"
      ],
      "execution_count": null,
      "outputs": [
        {
          "output_type": "stream",
          "text": [
            "1.0\n"
          ],
          "name": "stdout"
        }
      ]
    },
    {
      "cell_type": "code",
      "metadata": {
        "colab": {
          "base_uri": "https://localhost:8080/"
        },
        "id": "9MzwGRYaSEZt",
        "outputId": "d8f0dba2-6b57-4242-b0bf-7d5f921d200a"
      },
      "source": [
        "pred_lc = model.predict(lc_power_norm[9:]).reshape(-1)\n",
        "print(pred_lc.shape)\n",
        "print(pred_lc)"
      ],
      "execution_count": null,
      "outputs": [
        {
          "output_type": "stream",
          "text": [
            "(36,)\n",
            "[0.5277961  0.63132465 0.40478465 0.42059588 0.5209544  0.7009002\n",
            " 1.031577   0.7302094  0.58843035 0.5559162  0.57662654 0.58658266\n",
            " 0.5535707  0.4052446  0.38021135 0.54982436 1.748396   1.4241097\n",
            " 2.086725   1.1885546  1.8470598  1.8879963  1.9531791  1.8862461\n",
            " 1.4063263  1.131757   1.1278707  1.4685751  1.067278   1.2002715\n",
            " 1.1034241  0.6847471  0.71507204 1.2039894  1.3913287  1.1852996 ]\n"
          ],
          "name": "stdout"
        }
      ]
    },
    {
      "cell_type": "code",
      "metadata": {
        "id": "Bv_2SXKJStOF"
      },
      "source": [
        "lcdata4 = getData(\"KIC 12009504\")"
      ],
      "execution_count": null,
      "outputs": []
    },
    {
      "cell_type": "code",
      "metadata": {
        "id": "kV49mnLmSwck"
      },
      "source": [
        "lc_power2, lc_numax2 = tsPower(lcdata4.T[0],lcdata4.T[1],90,30)"
      ],
      "execution_count": null,
      "outputs": []
    },
    {
      "cell_type": "code",
      "metadata": {
        "colab": {
          "base_uri": "https://localhost:8080/"
        },
        "id": "58gSwqazSz0l",
        "outputId": "adfd212b-187b-4c38-d1e9-003eb1b9f833"
      },
      "source": [
        "lc_power_norm2 = normalize2D(lc_power2)\n",
        "print(np.max(lc_power_norm2))\n",
        "pred_lc2 = model.predict(lc_power_norm2[9:-2]).reshape(-1)\n",
        "print(pred_lc2.shape)\n",
        "print(pred_lc2)"
      ],
      "execution_count": null,
      "outputs": [
        {
          "output_type": "stream",
          "text": [
            "1.0\n",
            "(36,)\n",
            "[1.0906223  1.0631001  1.0119612  1.1853065  1.2532316  0.87308747\n",
            " 0.9431411  0.9877703  1.6166066  1.683091   1.5640908  0.886065\n",
            " 1.0997486  1.0799937  1.2167377  0.99084055 1.1682     1.0814201\n",
            " 1.524697   1.6352017  1.7068578  1.4969152  0.9861238  1.2276504\n",
            " 1.0122035  1.7186154  1.7474402  2.0638342  2.1568449  1.5226185\n",
            " 1.688213   1.412455   1.489743   1.0179482  1.2917794  0.8883791 ]\n"
          ],
          "name": "stdout"
        }
      ]
    },
    {
      "cell_type": "code",
      "metadata": {
        "id": "xFcTMRD2VVvo"
      },
      "source": [
        "lcdata5 = getData(\"KIC 8006161\")"
      ],
      "execution_count": null,
      "outputs": []
    },
    {
      "cell_type": "code",
      "metadata": {
        "id": "DlomK81KVXg1"
      },
      "source": [
        "lc_power3, lc_numax3 = tsPower(lcdata5.T[0],lcdata5.T[1],90,30)"
      ],
      "execution_count": null,
      "outputs": []
    },
    {
      "cell_type": "code",
      "metadata": {
        "colab": {
          "base_uri": "https://localhost:8080/"
        },
        "id": "UkaTTnEeVaRO",
        "outputId": "8a2cd349-cc97-48e2-98c9-5ba1ec414f11"
      },
      "source": [
        "lc_power_norm3 = normalize2D(lc_power3)\n",
        "print(np.max(lc_power_norm3))\n",
        "pred_lc3 = model.predict(lc_power_norm3[9:]).reshape(-1)\n",
        "print(pred_lc3.shape)\n",
        "print(pred_lc3)"
      ],
      "execution_count": null,
      "outputs": [
        {
          "output_type": "stream",
          "text": [
            "1.0\n",
            "(36,)\n",
            "[0.51671636 0.4697245  0.5306659  0.4744122  0.5324677  0.8603418\n",
            " 0.8463695  0.9316367  1.2206714  1.2951821  0.85572636 0.7345146\n",
            " 0.80385494 0.774252   1.3114283  1.420307   1.7812022  1.5878102\n",
            " 1.1935314  1.2851081  1.3955448  2.1604865  2.4565613  1.9691529\n",
            " 1.7256997  1.3129588  1.7235616  1.5142536  1.7675918  1.2173353\n",
            " 0.9837395  0.6535239  2.0073683  1.9211634  1.6827221  1.8208772 ]\n"
          ],
          "name": "stdout"
        }
      ]
    },
    {
      "cell_type": "code",
      "metadata": {
        "colab": {
          "base_uri": "https://localhost:8080/",
          "height": 312
        },
        "id": "12BPuOaBSJwu",
        "outputId": "b3e2c772-547e-4c76-992a-2f44ff41d8ff"
      },
      "source": [
        "figure, axis_1 = plt.subplots()\n",
        "plt.xlabel('Time (BJD)')\n",
        "plt.title('ML Prediction and Sunspot Number vs. Time - Cycle 23 & 24')\n",
        "\n",
        "lc_testx = np.arange(200,int(len(pred_lc))*30+200,30)\n",
        "\n",
        "\n",
        "\n",
        "#Axis 1\n",
        "axis_1.autoscale(enable=True, axis='both', tight=None)\n",
        "axis_1.scatter(lc_testx,pred_lc, s = 10, c='blue', alpha=0.5, label=\"pred_BiSON\")\n",
        "x1_ITP, y1_ITP = interpolate(np.array([lc_testx,pred_lc]).T,30)\n",
        "axis_1.plot(x1_ITP[1:-1], y1_ITP[1:-1], c='blue', alpha=0.5, label = \"Pred. BiSON\")\n",
        "\n",
        "\n",
        "# #Axis 2\n",
        "axis_2 = axis_1.twinx()\n",
        "axis_2.scatter(lc_testx,pred_lc2, s = 10, c='red', alpha=0.5, label=\"pred_BiSON\")\n",
        "x1_ITP, y1_ITP = interpolate(np.array([lc_testx,pred_lc2]).T,30)\n",
        "axis_2.plot(x1_ITP[1:-1], y1_ITP[1:-1], c='red', alpha=0.5, label = \"Pred. BiSON\")\n",
        "\n",
        "\n",
        "# #Axis 3\n",
        "axis_3 = axis_1.twinx()\n",
        "axis_3.scatter(lc_testx,pred_lc3, s = 10, c='green', alpha=0.5, label=\"pred_BiSON\")\n",
        "x1_ITP, y1_ITP = interpolate(np.array([lc_testx,pred_lc3]).T,30)\n",
        "axis_3.plot(x1_ITP[1:-1], y1_ITP[1:-1], c='green', alpha=0.5, label = \"Pred. BiSON\")\n",
        "\n",
        "#Append Labels\n",
        "lines_1, labels_1 = axis_1.get_legend_handles_labels()\n",
        "lines_2, labels_2 = axis_2.get_legend_handles_labels()\n",
        "lines_3, labels_3 = axis_3.get_legend_handles_labels()\n",
        "lines = lines_1 + lines_2 + lines_3\n",
        "labels = labels_1 + labels_2 + labels_3\n",
        "axis_1.legend(lines, labels, loc=0)\n",
        "\n",
        "\n",
        "plt.show"
      ],
      "execution_count": null,
      "outputs": [
        {
          "output_type": "execute_result",
          "data": {
            "text/plain": [
              "<function matplotlib.pyplot.show>"
            ]
          },
          "metadata": {
            "tags": []
          },
          "execution_count": 179
        },
        {
          "output_type": "display_data",
          "data": {
            "image/png": "[encoded data removed]",
            "text/plain": [
              "<Figure size 432x288 with 3 Axes>"
            ]
          },
          "metadata": {
            "tags": []
          }
        }
      ]
    },
    {
      "cell_type": "code",
      "metadata": {
        "id": "hBlft6OQSZH3"
      },
      "source": [
        ""
      ],
      "execution_count": null,
      "outputs": []
    }
  ]
}
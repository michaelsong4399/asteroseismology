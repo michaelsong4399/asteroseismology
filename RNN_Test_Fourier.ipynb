{
  "nbformat": 4,
  "nbformat_minor": 0,
  "metadata": {
    "colab": {
      "name": "RNN_Test_Fourier.ipynb",
      "provenance": [],
      "collapsed_sections": [
        "XnSr9QHSm5qf"
      ],
      "authorship_tag": "ABX9TyPvA574lzLonOqFv0okbqPM",
      "include_colab_link": true
    },
    "kernelspec": {
      "name": "python3",
      "display_name": "Python 3"
    }
  },
  "cells": [
    {
      "cell_type": "markdown",
      "metadata": {
        "id": "view-in-github",
        "colab_type": "text"
      },
      "source": [
        "<a href=\"https://colab.research.google.com/github/michaelsong4399/asteroseismology/blob/rohit/RNN_Test_Fourier.ipynb\" target=\"_parent\"><img src=\"https://colab.research.google.com/assets/colab-badge.svg\" alt=\"Open In Colab\"/></a>"
      ]
    },
    {
      "cell_type": "markdown",
      "metadata": {
        "id": "xF8rxswRmokD"
      },
      "source": [
        "# Libraries and Cycles"
      ]
    },
    {
      "cell_type": "code",
      "metadata": {
        "id": "HkLPA4bRXqBX",
        "colab": {
          "base_uri": "https://localhost:8080/",
          "height": 1000
        },
        "outputId": "db4e3931-14c1-4690-b374-ac4b119951f0"
      },
      "source": [
        "!pip install lightkurve"
      ],
      "execution_count": 1,
      "outputs": [
        {
          "output_type": "stream",
          "text": [
            "Collecting lightkurve\n",
            "\u001b[?25l  Downloading https://files.pythonhosted.org/packages/10/22/710acfc7df7c86ab6b3c6ef50dec821133ea0b3548108294f9f2ed1a7231/lightkurve-2.0.1-py3-none-any.whl (233kB)\n",
            "\r\u001b[K     |█▍                              | 10kB 17.4MB/s eta 0:00:01\r\u001b[K     |██▉                             | 20kB 12.2MB/s eta 0:00:01\r\u001b[K     |████▏                           | 30kB 9.2MB/s eta 0:00:01\r\u001b[K     |█████▋                          | 40kB 8.2MB/s eta 0:00:01\r\u001b[K     |███████                         | 51kB 5.4MB/s eta 0:00:01\r\u001b[K     |████████▍                       | 61kB 5.4MB/s eta 0:00:01\r\u001b[K     |█████████▉                      | 71kB 5.8MB/s eta 0:00:01\r\u001b[K     |███████████▎                    | 81kB 6.3MB/s eta 0:00:01\r\u001b[K     |████████████▋                   | 92kB 6.1MB/s eta 0:00:01\r\u001b[K     |██████████████                  | 102kB 6.7MB/s eta 0:00:01\r\u001b[K     |███████████████▌                | 112kB 6.7MB/s eta 0:00:01\r\u001b[K     |████████████████▉               | 122kB 6.7MB/s eta 0:00:01\r\u001b[K     |██████████████████▎             | 133kB 6.7MB/s eta 0:00:01\r\u001b[K     |███████████████████▊            | 143kB 6.7MB/s eta 0:00:01\r\u001b[K     |█████████████████████           | 153kB 6.7MB/s eta 0:00:01\r\u001b[K     |██████████████████████▌         | 163kB 6.7MB/s eta 0:00:01\r\u001b[K     |████████████████████████        | 174kB 6.7MB/s eta 0:00:01\r\u001b[K     |█████████████████████████▎      | 184kB 6.7MB/s eta 0:00:01\r\u001b[K     |██████████████████████████▊     | 194kB 6.7MB/s eta 0:00:01\r\u001b[K     |████████████████████████████▏   | 204kB 6.7MB/s eta 0:00:01\r\u001b[K     |█████████████████████████████▌  | 215kB 6.7MB/s eta 0:00:01\r\u001b[K     |███████████████████████████████ | 225kB 6.7MB/s eta 0:00:01\r\u001b[K     |████████████████████████████████| 235kB 6.7MB/s \n",
            "\u001b[?25hRequirement already satisfied: astropy>=4.1 in /usr/local/lib/python3.6/dist-packages (from lightkurve) (4.1)\n",
            "Collecting requests<3.0.0,>=2.25.0\n",
            "\u001b[?25l  Downloading https://files.pythonhosted.org/packages/29/c1/24814557f1d22c56d50280771a17307e6bf87b70727d975fd6b2ce6b014a/requests-2.25.1-py2.py3-none-any.whl (61kB)\n",
            "\u001b[K     |████████████████████████████████| 61kB 8.7MB/s \n",
            "\u001b[?25hCollecting numba>=0.53.0rc1; python_version >= \"3.6\" and python_version < \"3.10\"\n",
            "\u001b[?25l  Downloading https://files.pythonhosted.org/packages/a8/07/bebed035a29203cca7a5950e864f3bdc4dcd899882502b09e85f8ace5589/numba-0.53.0rc1.post1-cp36-cp36m-manylinux2014_x86_64.whl (3.4MB)\n",
            "\u001b[K     |████████████████████████████████| 3.4MB 40.2MB/s \n",
            "\u001b[?25hRequirement already satisfied: bokeh>=1.0 in /usr/local/lib/python3.6/dist-packages (from lightkurve) (2.1.1)\n",
            "Requirement already satisfied: tqdm>=4.25.0 in /usr/local/lib/python3.6/dist-packages (from lightkurve) (4.41.1)\n",
            "Requirement already satisfied: patsy>=0.5.0 in /usr/local/lib/python3.6/dist-packages (from lightkurve) (0.5.1)\n",
            "Requirement already satisfied: matplotlib>=1.5.3 in /usr/local/lib/python3.6/dist-packages (from lightkurve) (3.2.2)\n",
            "Collecting astroquery>=0.3.10\n",
            "\u001b[?25l  Downloading https://files.pythonhosted.org/packages/1b/f8/4690523783691ed816b3469c3ec611af3798594d37ade510dd918d59f57e/astroquery-0.4.1.tar.gz (6.5MB)\n",
            "\u001b[K     |████████████████████████████████| 6.5MB 45.4MB/s \n",
            "\u001b[?25hRequirement already satisfied: beautifulsoup4<5.0.0,>=4.6.0 in /usr/local/lib/python3.6/dist-packages (from lightkurve) (4.6.3)\n",
            "Requirement already satisfied: numpy>=1.11 in /usr/local/lib/python3.6/dist-packages (from lightkurve) (1.19.5)\n",
            "Collecting scikit-learn>=0.24.0\n",
            "\u001b[?25l  Downloading https://files.pythonhosted.org/packages/e2/4c/6111b9a325f29527d7f262e2ee8c730d354b47a728d955e186dacad57a0d/scikit_learn-0.24.1-cp36-cp36m-manylinux2010_x86_64.whl (22.2MB)\n",
            "\u001b[K     |████████████████████████████████| 22.2MB 71.6MB/s \n",
            "\u001b[?25hCollecting uncertainties<4.0.0,>=3.1.4\n",
            "\u001b[?25l  Downloading https://files.pythonhosted.org/packages/45/41/fc7e7b73b603e7c2c9e040b7aa8caf4a88d74b6faa567601ed82b6f0d8e1/uncertainties-3.1.5-py2.py3-none-any.whl (246kB)\n",
            "\u001b[K     |████████████████████████████████| 256kB 49.5MB/s \n",
            "\u001b[?25hRequirement already satisfied: scipy>=0.19.0 in /usr/local/lib/python3.6/dist-packages (from lightkurve) (1.4.1)\n",
            "Collecting memoization>=0.3.1\n",
            "  Downloading https://files.pythonhosted.org/packages/16/87/37229296c2a9506867d5f5440b9aac015d97af54c951cdfc129bb4bb8d75/memoization-0.3.2-py3-none-any.whl\n",
            "Collecting ipython>=6.0.0\n",
            "\u001b[?25l  Downloading https://files.pythonhosted.org/packages/23/6a/210816c943c9aeeb29e4e18a298f14bf0e118fe222a23e13bfcc2d41b0a4/ipython-7.16.1-py3-none-any.whl (785kB)\n",
            "\u001b[K     |████████████████████████████████| 788kB 49.0MB/s \n",
            "\u001b[?25hCollecting fbpca>=1.0\n",
            "  Downloading https://files.pythonhosted.org/packages/a7/a5/2085d0645a4bb4f0b606251b0b7466c61326e4a471d445c1c3761a2d07bc/fbpca-1.0.tar.gz\n",
            "Requirement already satisfied: pandas<2.0.0,>=1.1.4 in /usr/local/lib/python3.6/dist-packages (from lightkurve) (1.1.5)\n",
            "Collecting oktopus<0.2.0,>=0.1.2\n",
            "  Downloading https://files.pythonhosted.org/packages/2d/6e/7b7e11442ff70286c22614d200f6145f83528dc6c99fec0982665e25c8d3/oktopus-0.1.2.tar.gz\n",
            "Requirement already satisfied: urllib3<1.27,>=1.21.1 in /usr/local/lib/python3.6/dist-packages (from requests<3.0.0,>=2.25.0->lightkurve) (1.24.3)\n",
            "Requirement already satisfied: certifi>=2017.4.17 in /usr/local/lib/python3.6/dist-packages (from requests<3.0.0,>=2.25.0->lightkurve) (2020.12.5)\n",
            "Requirement already satisfied: chardet<5,>=3.0.2 in /usr/local/lib/python3.6/dist-packages (from requests<3.0.0,>=2.25.0->lightkurve) (3.0.4)\n",
            "Requirement already satisfied: idna<3,>=2.5 in /usr/local/lib/python3.6/dist-packages (from requests<3.0.0,>=2.25.0->lightkurve) (2.10)\n",
            "Collecting llvmlite<0.37,>=0.36.0rc1\n",
            "\u001b[?25l  Downloading https://files.pythonhosted.org/packages/33/99/be1dbd0b40b33f22a4f00cde3ff0be04b7bcbee1f461e011fd7e868ac3d5/llvmlite-0.36.0rc1-cp36-cp36m-manylinux2010_x86_64.whl (25.3MB)\n",
            "\u001b[K     |████████████████████████████████| 25.3MB 65.6MB/s \n",
            "\u001b[?25hRequirement already satisfied: setuptools in /usr/local/lib/python3.6/dist-packages (from numba>=0.53.0rc1; python_version >= \"3.6\" and python_version < \"3.10\"->lightkurve) (53.0.0)\n",
            "Requirement already satisfied: packaging>=16.8 in /usr/local/lib/python3.6/dist-packages (from bokeh>=1.0->lightkurve) (20.9)\n",
            "Requirement already satisfied: Jinja2>=2.7 in /usr/local/lib/python3.6/dist-packages (from bokeh>=1.0->lightkurve) (2.11.3)\n",
            "Requirement already satisfied: PyYAML>=3.10 in /usr/local/lib/python3.6/dist-packages (from bokeh>=1.0->lightkurve) (3.13)\n",
            "Requirement already satisfied: pillow>=4.0 in /usr/local/lib/python3.6/dist-packages (from bokeh>=1.0->lightkurve) (7.0.0)\n",
            "Requirement already satisfied: typing-extensions>=3.7.4 in /usr/local/lib/python3.6/dist-packages (from bokeh>=1.0->lightkurve) (3.7.4.3)\n",
            "Requirement already satisfied: python-dateutil>=2.1 in /usr/local/lib/python3.6/dist-packages (from bokeh>=1.0->lightkurve) (2.8.1)\n",
            "Requirement already satisfied: tornado>=5.1 in /usr/local/lib/python3.6/dist-packages (from bokeh>=1.0->lightkurve) (5.1.1)\n",
            "Requirement already satisfied: six in /usr/local/lib/python3.6/dist-packages (from patsy>=0.5.0->lightkurve) (1.15.0)\n",
            "Requirement already satisfied: kiwisolver>=1.0.1 in /usr/local/lib/python3.6/dist-packages (from matplotlib>=1.5.3->lightkurve) (1.3.1)\n",
            "Requirement already satisfied: cycler>=0.10 in /usr/local/lib/python3.6/dist-packages (from matplotlib>=1.5.3->lightkurve) (0.10.0)\n",
            "Requirement already satisfied: pyparsing!=2.0.4,!=2.1.2,!=2.1.6,>=2.0.1 in /usr/local/lib/python3.6/dist-packages (from matplotlib>=1.5.3->lightkurve) (2.4.7)\n",
            "Collecting keyring>=4.0\n",
            "  Downloading https://files.pythonhosted.org/packages/96/17/86e1e5b50dc14e5984a661dde2ed3b7f05efe1fdee32145a77708cf06904/keyring-22.0.1-py3-none-any.whl\n",
            "Requirement already satisfied: html5lib>=0.999 in /usr/local/lib/python3.6/dist-packages (from astroquery>=0.3.10->lightkurve) (1.0.1)\n",
            "Collecting threadpoolctl>=2.0.0\n",
            "  Downloading https://files.pythonhosted.org/packages/f7/12/ec3f2e203afa394a149911729357aa48affc59c20e2c1c8297a60f33f133/threadpoolctl-2.1.0-py3-none-any.whl\n",
            "Requirement already satisfied: joblib>=0.11 in /usr/local/lib/python3.6/dist-packages (from scikit-learn>=0.24.0->lightkurve) (1.0.0)\n",
            "Requirement already satisfied: future in /usr/local/lib/python3.6/dist-packages (from uncertainties<4.0.0,>=3.1.4->lightkurve) (0.16.0)\n",
            "Requirement already satisfied: backcall in /usr/local/lib/python3.6/dist-packages (from ipython>=6.0.0->lightkurve) (0.2.0)\n",
            "Requirement already satisfied: decorator in /usr/local/lib/python3.6/dist-packages (from ipython>=6.0.0->lightkurve) (4.4.2)\n",
            "Requirement already satisfied: traitlets>=4.2 in /usr/local/lib/python3.6/dist-packages (from ipython>=6.0.0->lightkurve) (4.3.3)\n",
            "Requirement already satisfied: pexpect; sys_platform != \"win32\" in /usr/local/lib/python3.6/dist-packages (from ipython>=6.0.0->lightkurve) (4.8.0)\n",
            "Requirement already satisfied: jedi>=0.10 in /usr/local/lib/python3.6/dist-packages (from ipython>=6.0.0->lightkurve) (0.18.0)\n",
            "Requirement already satisfied: pygments in /usr/local/lib/python3.6/dist-packages (from ipython>=6.0.0->lightkurve) (2.6.1)\n",
            "Requirement already satisfied: pickleshare in /usr/local/lib/python3.6/dist-packages (from ipython>=6.0.0->lightkurve) (0.7.5)\n",
            "Collecting prompt-toolkit!=3.0.0,!=3.0.1,<3.1.0,>=2.0.0\n",
            "\u001b[?25l  Downloading https://files.pythonhosted.org/packages/a6/0b/c6de29441b29f8b54d5bbe29a8b223de6e400714ff50e85541bd4c783421/prompt_toolkit-3.0.16-py3-none-any.whl (366kB)\n",
            "\u001b[K     |████████████████████████████████| 368kB 44.6MB/s \n",
            "\u001b[?25hRequirement already satisfied: pytz>=2017.2 in /usr/local/lib/python3.6/dist-packages (from pandas<2.0.0,>=1.1.4->lightkurve) (2018.9)\n",
            "Requirement already satisfied: autograd in /usr/local/lib/python3.6/dist-packages (from oktopus<0.2.0,>=0.1.2->lightkurve) (1.3)\n",
            "Requirement already satisfied: MarkupSafe>=0.23 in /usr/local/lib/python3.6/dist-packages (from Jinja2>=2.7->bokeh>=1.0->lightkurve) (1.1.1)\n",
            "Requirement already satisfied: importlib-metadata>=1; python_version < \"3.8\" in /usr/local/lib/python3.6/dist-packages (from keyring>=4.0->astroquery>=0.3.10->lightkurve) (3.4.0)\n",
            "Collecting SecretStorage>=3.2; sys_platform == \"linux\"\n",
            "  Downloading https://files.pythonhosted.org/packages/d9/1e/29cd69fdac7391aa51510dfd42aa70b4e6a826c8cd019ee2a8ab9ec0777f/SecretStorage-3.3.1-py3-none-any.whl\n",
            "Collecting jeepney>=0.4.2; sys_platform == \"linux\"\n",
            "\u001b[?25l  Downloading https://files.pythonhosted.org/packages/51/b0/a6ea72741aaac3f37fb96d195e4ee576a103c4c04e279bc6b446a70960e1/jeepney-0.6.0-py3-none-any.whl (45kB)\n",
            "\u001b[K     |████████████████████████████████| 51kB 7.0MB/s \n",
            "\u001b[?25hRequirement already satisfied: webencodings in /usr/local/lib/python3.6/dist-packages (from html5lib>=0.999->astroquery>=0.3.10->lightkurve) (0.5.1)\n",
            "Requirement already satisfied: ipython-genutils in /usr/local/lib/python3.6/dist-packages (from traitlets>=4.2->ipython>=6.0.0->lightkurve) (0.2.0)\n",
            "Requirement already satisfied: ptyprocess>=0.5 in /usr/local/lib/python3.6/dist-packages (from pexpect; sys_platform != \"win32\"->ipython>=6.0.0->lightkurve) (0.7.0)\n",
            "Requirement already satisfied: parso<0.9.0,>=0.8.0 in /usr/local/lib/python3.6/dist-packages (from jedi>=0.10->ipython>=6.0.0->lightkurve) (0.8.1)\n",
            "Requirement already satisfied: wcwidth in /usr/local/lib/python3.6/dist-packages (from prompt-toolkit!=3.0.0,!=3.0.1,<3.1.0,>=2.0.0->ipython>=6.0.0->lightkurve) (0.2.5)\n",
            "Requirement already satisfied: zipp>=0.5 in /usr/local/lib/python3.6/dist-packages (from importlib-metadata>=1; python_version < \"3.8\"->keyring>=4.0->astroquery>=0.3.10->lightkurve) (3.4.0)\n",
            "Collecting cryptography>=2.0\n",
            "\u001b[?25l  Downloading https://files.pythonhosted.org/packages/f8/1f/acde6ff69864c5e78b56488e3afd93c1ccc8c2651186e2a5f93d93f64859/cryptography-3.4.6-cp36-abi3-manylinux2014_x86_64.whl (3.2MB)\n",
            "\u001b[K     |████████████████████████████████| 3.2MB 48.3MB/s \n",
            "\u001b[?25hRequirement already satisfied: cffi>=1.12 in /usr/local/lib/python3.6/dist-packages (from cryptography>=2.0->SecretStorage>=3.2; sys_platform == \"linux\"->keyring>=4.0->astroquery>=0.3.10->lightkurve) (1.14.4)\n",
            "Requirement already satisfied: pycparser in /usr/local/lib/python3.6/dist-packages (from cffi>=1.12->cryptography>=2.0->SecretStorage>=3.2; sys_platform == \"linux\"->keyring>=4.0->astroquery>=0.3.10->lightkurve) (2.20)\n",
            "Building wheels for collected packages: astroquery, fbpca, oktopus\n",
            "  Building wheel for astroquery (setup.py) ... \u001b[?25l\u001b[?25hdone\n",
            "  Created wheel for astroquery: filename=astroquery-0.4.1-cp36-none-any.whl size=3831873 sha256=a0e5cc06b398d3af440585520130c473acd1f11a0dedf08dc11f7afe07798844\n",
            "  Stored in directory: /root/.cache/pip/wheels/88/f8/b7/a254cd96e808f708bc0b7d755a8e095c56fbbe94099d7b464f\n",
            "  Building wheel for fbpca (setup.py) ... \u001b[?25l\u001b[?25hdone\n",
            "  Created wheel for fbpca: filename=fbpca-1.0-cp36-none-any.whl size=11377 sha256=d521cf71dd61931e7b86b26178a86f3593926388a6aad17a72993daccd00a8b3\n",
            "  Stored in directory: /root/.cache/pip/wheels/53/a2/dd/9b66cf53dbc58cec1e613d216689e5fa946d3e7805c30f60dc\n",
            "  Building wheel for oktopus (setup.py) ... \u001b[?25l\u001b[?25hdone\n",
            "  Created wheel for oktopus: filename=oktopus-0.1.2-cp36-none-any.whl size=12779 sha256=6b23c95d79911bb20684d9fc17dccc6d60651358873f54710655cf9658e446d8\n",
            "  Stored in directory: /root/.cache/pip/wheels/9b/90/81/098fc66ee56166d63c9a8fc0a9672ae7b3423396a588ec952a\n",
            "Successfully built astroquery fbpca oktopus\n",
            "\u001b[31mERROR: jupyter-console 5.2.0 has requirement prompt-toolkit<2.0.0,>=1.0.0, but you'll have prompt-toolkit 3.0.16 which is incompatible.\u001b[0m\n",
            "\u001b[31mERROR: google-colab 1.0.0 has requirement ipython~=5.5.0, but you'll have ipython 7.16.1 which is incompatible.\u001b[0m\n",
            "\u001b[31mERROR: google-colab 1.0.0 has requirement requests~=2.23.0, but you'll have requests 2.25.1 which is incompatible.\u001b[0m\n",
            "\u001b[31mERROR: datascience 0.10.6 has requirement folium==0.2.1, but you'll have folium 0.8.3 which is incompatible.\u001b[0m\n",
            "Installing collected packages: requests, llvmlite, numba, cryptography, jeepney, SecretStorage, keyring, astroquery, threadpoolctl, scikit-learn, uncertainties, memoization, prompt-toolkit, ipython, fbpca, oktopus, lightkurve\n",
            "  Found existing installation: requests 2.23.0\n",
            "    Uninstalling requests-2.23.0:\n",
            "      Successfully uninstalled requests-2.23.0\n",
            "  Found existing installation: llvmlite 0.34.0\n",
            "    Uninstalling llvmlite-0.34.0:\n",
            "      Successfully uninstalled llvmlite-0.34.0\n",
            "  Found existing installation: numba 0.51.2\n",
            "    Uninstalling numba-0.51.2:\n",
            "      Successfully uninstalled numba-0.51.2\n",
            "  Found existing installation: scikit-learn 0.22.2.post1\n",
            "    Uninstalling scikit-learn-0.22.2.post1:\n",
            "      Successfully uninstalled scikit-learn-0.22.2.post1\n",
            "  Found existing installation: prompt-toolkit 1.0.18\n",
            "    Uninstalling prompt-toolkit-1.0.18:\n",
            "      Successfully uninstalled prompt-toolkit-1.0.18\n",
            "  Found existing installation: ipython 5.5.0\n",
            "    Uninstalling ipython-5.5.0:\n",
            "      Successfully uninstalled ipython-5.5.0\n",
            "Successfully installed SecretStorage-3.3.1 astroquery-0.4.1 cryptography-3.4.6 fbpca-1.0 ipython-7.16.1 jeepney-0.6.0 keyring-22.0.1 lightkurve-2.0.1 llvmlite-0.36.0rc1 memoization-0.3.2 numba-0.53.0rc1.post1 oktopus-0.1.2 prompt-toolkit-3.0.16 requests-2.25.1 scikit-learn-0.24.1 threadpoolctl-2.1.0 uncertainties-3.1.5\n"
          ],
          "name": "stdout"
        },
        {
          "output_type": "display_data",
          "data": {
            "application/vnd.colab-display-data+json": {
              "pip_warning": {
                "packages": [
                  "IPython",
                  "prompt_toolkit"
                ]
              }
            }
          },
          "metadata": {
            "tags": []
          }
        }
      ]
    },
    {
      "cell_type": "code",
      "metadata": {
        "id": "Obtzo4qRQnd-"
      },
      "source": [
        "import lightkurve as lk\n",
        "from astropy.io import fits\n",
        "from matplotlib import pyplot as plt\n",
        "import numpy as np\n",
        "from sklearn.model_selection import train_test_split\n",
        "from sklearn.linear_model import LinearRegression\n",
        "from sklearn.metrics import r2_score, mean_absolute_error, mean_squared_error\n",
        "import math\n",
        "import scipy\n",
        "import pandas as pd \n",
        "from scipy import interpolate"
      ],
      "execution_count": 74,
      "outputs": []
    },
    {
      "cell_type": "code",
      "metadata": {
        "id": "niHFM1-8S3V4"
      },
      "source": [
        "#tf\n",
        "from __future__ import absolute_import, division, print_function, unicode_literals\n",
        "import tensorflow as tf\n",
        "from tensorflow import keras\n",
        "from tensorflow.keras import datasets, layers, models"
      ],
      "execution_count": 3,
      "outputs": []
    },
    {
      "cell_type": "code",
      "metadata": {
        "id": "8L1OPG0lS4zO"
      },
      "source": [
        "#Cycles\n",
        "    #21\n",
        "        #cycle_21 = []\n",
        "        \n",
        "        #Start 1 March 1976\n",
        "        #End 1 September 1986\n",
        "        \n",
        "    #22 - partially incomplete \n",
        "        #cycle_22 = [2446674.5,2450296.5]\n",
        "        \n",
        "        #Start: 1 September 1986 2446674.5\n",
        "        #End: 1 August 1996 2450296.5\n",
        "        \n",
        "    #23\n",
        "cycle_23 = [2450296.5,2454801.5]\n",
        "        \n",
        "        #Start: 1 August 1996 2450296.5\n",
        "        #End: 1 December 2008 2454801.5\n",
        "        \n",
        "    #24\n",
        "cycle_24 = [2454801.5,2458940.5]\n",
        "        \n",
        "        #Start: 1 December 2008 2454801.5\n",
        "        #End: 1 May 2020 2458970.5\n",
        "        #NOTE: Due to dataset limitation, only analyzed up to 2458940.5\n",
        "  "
      ],
      "execution_count": 4,
      "outputs": []
    },
    {
      "cell_type": "markdown",
      "metadata": {
        "id": "1TjRAEU3arJC"
      },
      "source": [
        "# Google Drive  Login\n"
      ]
    },
    {
      "cell_type": "code",
      "metadata": {
        "colab": {
          "base_uri": "https://localhost:8080/"
        },
        "id": "gS5T4HIZhI6_",
        "outputId": "71d6de21-bc61-4ff4-b262-6f0720dfc4bb"
      },
      "source": [
        "from google.colab import drive\n",
        "drive.mount('/content/drive')"
      ],
      "execution_count": 5,
      "outputs": [
        {
          "output_type": "stream",
          "text": [
            "Mounted at /content/drive\n"
          ],
          "name": "stdout"
        }
      ]
    },
    {
      "cell_type": "markdown",
      "metadata": {
        "id": "awWuVEIdTKj_"
      },
      "source": [
        "# BiSON Data"
      ]
    },
    {
      "cell_type": "code",
      "metadata": {
        "colab": {
          "base_uri": "https://localhost:8080/"
        },
        "id": "Tkq6ChZfTQKo",
        "outputId": "20b4558e-1dfb-4808-b2dc-3be6fdd36fe2"
      },
      "source": [
        "data_sv = '/content/drive/My Drive/Korea Research - Yihong Song and Rohit Prasanna/DSHS & AOS Physics Research Collaboration 2020/Project/Jr:Sr Project/Data/allsites-alldata-waverage-fill.fits'\n",
        "hdul = fits.open(data_sv)\n",
        "\n",
        "hdul.info()\n",
        "\n",
        "tsdata = hdul[0].data\n",
        "#         SIMPLE  =                    T / Written by IDL:  Tue Jan 19 11:22:20 2016      \n",
        "#         BITPIX  =                  -64 /Real*8 (double precision)                       \n",
        "#         NAXIS   =                    2 /                                                \n",
        "#         NAXIS1  =                    2 /                                                \n",
        "#         NAXIS2  =             24455519 /                                                \n",
        "DSTART =        2442778.50000 #Data start (Julian)      1/1/1976 0:00:00                        \n",
        "DEND   =        2458940.50000 #Data end (Julian)        4/1/2020 0:00:00                       \n",
        "#         STATIONS= 'na ca cb su iz la lb mo' /Stations Used                              \n",
        "#         METHOD  = 'waverage'           /Overlap Method                                  \n",
        "#         CADENCE = '40      '           /Timeseries Cadence                              \n",
        "#         N-THRES =                   80 /Noise Rejection Threshold                       \n",
        "#         GAPFILL =                    1 /GapFill                                         \n",
        "#         FILL    =             0.638866 /Duty Cycle   \n",
        "#\n",
        "#         ~2160 datapoints per day"
      ],
      "execution_count": 6,
      "outputs": [
        {
          "output_type": "stream",
          "text": [
            "Filename: /content/drive/My Drive/Korea Research - Yihong Song and Rohit Prasanna/DSHS & AOS Physics Research Collaboration 2020/Project/Jr:Sr Project/Data/allsites-alldata-waverage-fill.fits\n",
            "No.    Name      Ver    Type      Cards   Dimensions   Format\n",
            "  0  PRIMARY       1 PrimaryHDU      15   (2, 34909918)   float64   \n"
          ],
          "name": "stdout"
        }
      ]
    },
    {
      "cell_type": "code",
      "metadata": {
        "colab": {
          "base_uri": "https://localhost:8080/"
        },
        "id": "TVZUOKmzifYz",
        "outputId": "a402d4a1-b9c7-42b4-bb65-bda00e1bf340"
      },
      "source": [
        "def getSV(cycle):\n",
        "    #Subtract starting date\n",
        "  cycle = np.subtract(cycle,DSTART)\n",
        "    \n",
        "    #multiply by 2160 (2160 datapoints per day)\n",
        "  cycle = np.multiply(cycle,2160)\n",
        "    \n",
        "  return tsdata[int(cycle[0]):int(cycle[1])].T[1]\n",
        "print(getSV(cycle_23))"
      ],
      "execution_count": 7,
      "outputs": [
        {
          "output_type": "stream",
          "text": [
            "[ 0.52007627  0.87248993  0.11934945 ...  0.25079036 -1.0275805\n",
            " -0.95429337]\n"
          ],
          "name": "stdout"
        }
      ]
    },
    {
      "cell_type": "code",
      "metadata": {
        "colab": {
          "base_uri": "https://localhost:8080/"
        },
        "id": "Mw2BLHtsmEgF",
        "outputId": "9453373c-6555-45e2-e62f-1e58ba0d22aa"
      },
      "source": [
        "def getSV_index(cycle):\n",
        "  cycle = np.subtract(cycle, DSTART)\n",
        "  cycle = np.multiply(cycle, 2160)\n",
        "  return tsdata[int(cycle[0]):int(cycle[1])].T[0]\n",
        "print(getSV_index(cycle_23))"
      ],
      "execution_count": 8,
      "outputs": [
        {
          "output_type": "stream",
          "text": [
            "[2450296.50033958 2450296.50080254 2450296.50126551 ... 2454801.49915418\n",
            " 2454801.49961714 2454801.50008011]\n"
          ],
          "name": "stdout"
        }
      ]
    },
    {
      "cell_type": "code",
      "metadata": {
        "id": "1f8nNlY6Z6X_"
      },
      "source": [
        "# plt.xlabel('Time (BJD)')\n",
        "# plt.ylabel('Surface Velocity (m/s)')\n",
        "# plt.title('Surface Velocity vs Time for Cycle 23')\n",
        "\n",
        "# plt.autoscale(enable=True, axis='both', tight=None)\n",
        "# plt.scatter(getSV_index(cycle_23), getSV(cycle_23), s = 5, c = 'red', alpha = 0.5)\n",
        "# plt.show()"
      ],
      "execution_count": 9,
      "outputs": []
    },
    {
      "cell_type": "code",
      "metadata": {
        "id": "u2-HrupGTSGL"
      },
      "source": [
        "# plt.xlabel('Time (BJD)')\n",
        "# plt.ylabel('Surface Velocity (m/s)')\n",
        "# plt.title('Surface Velocity vs Time for Cycle 24')\n",
        "\n",
        "# plt.autoscale(enable=True, axis='both', tight=None)\n",
        "# plt.scatter(getSV_index(cycle_24), getSV(cycle_24), s = 5, c = 'red', alpha = 0.5)\n",
        "# plt.show()"
      ],
      "execution_count": 10,
      "outputs": []
    },
    {
      "cell_type": "markdown",
      "metadata": {
        "id": "XnSr9QHSm5qf"
      },
      "source": [
        "# Solar Proxies (Sun Spot)"
      ]
    },
    {
      "cell_type": "code",
      "metadata": {
        "id": "ay_oquLOnAxN"
      },
      "source": [
        "#sunspot_Day = np.genfromtxt('data/SN_d_tot_V2.0.csv',delimiter=';')\n",
        "sunspot_Day = np.genfromtxt('/content/drive/MyDrive/Korea Research - Yihong Song and Rohit Prasanna/DSHS & AOS Physics Research Collaboration 2020/Project/Jr:Sr Project/Data/SN_d_tot_V2.0.csv',delimiter=';')\n",
        "SNSTART_Day = 2385070.5\n",
        "SNEND_day = 2459000.5\n",
        "\n",
        "#sunspot_Month = np.genfromtxt('data/SN_ms_tot_V2.0.csv',delimiter=';')\n",
        "sunspot_Month = np.genfromtxt('/content/drive/MyDrive/Korea Research - Yihong Song and Rohit Prasanna/DSHS & AOS Physics Research Collaboration 2020/Project/Jr:Sr Project/Data/SN_ms_tot_V2.0.csv',delimiter=';')\n",
        "sunspot_Month = sunspot_Month[828:]"
      ],
      "execution_count": 11,
      "outputs": []
    },
    {
      "cell_type": "code",
      "metadata": {
        "id": "gZvs38MFtBSe"
      },
      "source": [
        "def getSN_Day(cycle):\n",
        "  if cycle[1] >= SNEND_day:\n",
        "      cycle[1] = SNEND_day\n",
        "  cycle = np.subtract(cycle, SNSTART_Day)\n",
        "  sn = sunspot_Day.T[4][int(cycle[0]):int(cycle[1])]\n",
        "  \n",
        "  npout = [[0,0]]\n",
        "  for i in range(len(sn)):\n",
        "      npout = np.append(npout,[[i+SNSTART_Day+cycle[0],sn[i]]],0)\n",
        "  npout = npout[1:]\n",
        "  return npout"
      ],
      "execution_count": 12,
      "outputs": []
    },
    {
      "cell_type": "code",
      "metadata": {
        "id": "K5nTDwowcODV"
      },
      "source": [
        "def getSNAverage(cycle,length):\n",
        "  npout = [[0,0]]\n",
        "  total = 0\n",
        "  valid_count = 0\n",
        "  start = cycle[0][0]\n",
        "  for i in range(len(cycle)):\n",
        "      if cycle[i][1] >= 0:\n",
        "          total += cycle[i][1]\n",
        "          valid_count += 1\n",
        "      if (i+1) % length < 1 or i == len(cycle)-1:\n",
        "          if valid_count == 0:\n",
        "            npout = np.append(npout,[[start,np.average(cycle)]],0)\n",
        "          else:\n",
        "            npout = np.append(npout,[[start,total/valid_count]],0)\n",
        "          total = 0\n",
        "          valid_count = 0\n",
        "          if i == len(cycle)-1:\n",
        "              break\n",
        "          start = cycle[i+1][0]\n",
        "  npout = npout[1:]\n",
        "  return npout"
      ],
      "execution_count": 13,
      "outputs": []
    },
    {
      "cell_type": "markdown",
      "metadata": {
        "id": "bnjqz9QCjwY3"
      },
      "source": [
        "# Preprocessing\n"
      ]
    },
    {
      "cell_type": "code",
      "metadata": {
        "id": "kL04_Kdfjz09"
      },
      "source": [
        "def getPeriodogram(time,freq):\n",
        "    lc = lk.LightCurve(time=time.tolist(),flux=freq.tolist())\n",
        "    lc = lc.remove_nans()\n",
        "    pg = lc.to_periodogram(method='lombscargle', normalization='psd',minimum_frequency=1000, maximum_frequency=5000)\n",
        "    #ax = pg.plot()\n",
        "    pg_data = pg.to_table()\n",
        "    data = np.array(pg_data['power']).T#.tolist()\n",
        "\n",
        "\n",
        "    # pg.smooth(method='boxkernel', filter_width=1.)#.plot(ax=ax, label='Smoothed', c='red', lw=2)\n",
        "    # #ax.axvline(pg.frequency_at_max_power.value, lw=2, ls='dashed')\n",
        "    # snr = pg.flatten()\n",
        "    # seis = snr.to_seismology()\n",
        "    # numax = seis.estimate_numax()\n",
        "    # numax = float(str(numax)[0:7])\n",
        "    return data"
      ],
      "execution_count": 14,
      "outputs": []
    },
    {
      "cell_type": "code",
      "metadata": {
        "id": "uYKLaSjykrU9"
      },
      "source": [
        "def tsNumax(time,freq,length,interval):\n",
        "  length = int(length * 2160)\n",
        "  interval = int(interval * 2160)\n",
        "  #npout = [[0,0]]\n",
        "  check = True\n",
        "  for start in range(0,len(time),interval):\n",
        "      if start + length >= len(time):\n",
        "          length = len(time) - start\n",
        "      if check:\n",
        "        check = False\n",
        "        npout1d = np.array([getPeriodogram(time[start:start+length],freq[start:start+length])])\n",
        "      else:\n",
        "        temp = np.array([getPeriodogram(time[start:start+length],freq[start:start+length])])\n",
        "        if temp.size == npout1d[-1].size:\n",
        "          npout1d = np.append(npout1d,temp,0)\n",
        "  return npout1d"
      ],
      "execution_count": 15,
      "outputs": []
    },
    {
      "cell_type": "code",
      "metadata": {
        "id": "i2mU3370e4Va"
      },
      "source": [
        "numax_cycle_23_37 = tsNumax(getSV_index(cycle_23), getSV(cycle_23), 182.5, 37)"
      ],
      "execution_count": 16,
      "outputs": []
    },
    {
      "cell_type": "code",
      "metadata": {
        "id": "VMo2IkpBCDuG"
      },
      "source": [
        "numax_cycle_24_37 = tsNumax(getSV_index(cycle_24), getSV(cycle_24), 182.5, 37)"
      ],
      "execution_count": 17,
      "outputs": []
    },
    {
      "cell_type": "markdown",
      "metadata": {
        "id": "ITx3OzPZhAdK"
      },
      "source": [
        "# RNN Model"
      ]
    },
    {
      "cell_type": "code",
      "metadata": {
        "id": "9OgDIy8LBGZd"
      },
      "source": [
        "def normalize_SN_y(cycle):\n",
        "  data_SN = getSNAverage(np.ma.masked_equal(getSN_Day(cycle), 0), 37)\n",
        "  y_pre = (data_SN.T[1])[:-5]\n",
        "  SN_max = float(np.max(y_pre))\n",
        "  train_y = np.divide(y_pre, SN_max)\n",
        "  return train_y"
      ],
      "execution_count": 31,
      "outputs": []
    },
    {
      "cell_type": "code",
      "metadata": {
        "id": "zs4K9C-SeYWU"
      },
      "source": [
        "train_x = numax_cycle_23_37\n",
        "train_x = train_x.reshape(train_x.shape[0], 1, train_x.shape[1])\n",
        "train_y = normalize_SN_y(cycle_23)\n",
        "\n",
        "test_train_x = numax_cycle_24_37\n",
        "test_train_x = test_train_x.reshape(test_train_x.shape[0], 1, test_train_x.shape[1])\n",
        "test_train_y = normalize_SN_y(cycle_24)"
      ],
      "execution_count": 48,
      "outputs": []
    },
    {
      "cell_type": "code",
      "metadata": {
        "colab": {
          "base_uri": "https://localhost:8080/"
        },
        "id": "5uxFiTAGf1LI",
        "outputId": "ebb9483f-d258-4e2b-f273-9c5e3450256a"
      },
      "source": [
        "tf.test.gpu_device_name()\n",
        "keras.backend.clear_session()\n",
        "\n",
        "model = models.Sequential()\n",
        "\n",
        "model.add(layers.LSTM(100, input_shape=(train_x.shape[1], train_x.shape[2]), return_sequences=True))\n",
        "model.add(layers.Dropout(0.2))\n",
        "\n",
        "model.add(layers.LSTM(100))\n",
        "model.add(layers.Dropout(0.2))\n",
        "\n",
        "model.add(layers.Dense(50, activation='relu'))\n",
        "model.add(layers.Dense(50, activation='relu'))\n",
        "\n",
        "model.add(layers.Dense(1))\n",
        "model.compile(loss='mse', optimizer='adam', metrics=['acc'])\n",
        "\n",
        "model.summary()"
      ],
      "execution_count": 93,
      "outputs": [
        {
          "output_type": "stream",
          "text": [
            "Model: \"sequential\"\n",
            "_________________________________________________________________\n",
            "Layer (type)                 Output Shape              Param #   \n",
            "=================================================================\n",
            "lstm (LSTM)                  (None, 1, 100)            25269200  \n",
            "_________________________________________________________________\n",
            "dropout (Dropout)            (None, 1, 100)            0         \n",
            "_________________________________________________________________\n",
            "lstm_1 (LSTM)                (None, 100)               80400     \n",
            "_________________________________________________________________\n",
            "dropout_1 (Dropout)          (None, 100)               0         \n",
            "_________________________________________________________________\n",
            "dense (Dense)                (None, 50)                5050      \n",
            "_________________________________________________________________\n",
            "dense_1 (Dense)              (None, 50)                2550      \n",
            "_________________________________________________________________\n",
            "dense_2 (Dense)              (None, 1)                 51        \n",
            "=================================================================\n",
            "Total params: 25,357,251\n",
            "Trainable params: 25,357,251\n",
            "Non-trainable params: 0\n",
            "_________________________________________________________________\n"
          ],
          "name": "stdout"
        }
      ]
    },
    {
      "cell_type": "code",
      "metadata": {
        "colab": {
          "base_uri": "https://localhost:8080/"
        },
        "id": "19AqV_kKAArq",
        "outputId": "707de71e-1d57-46a7-da2c-cacf5bbacde0"
      },
      "source": [
        "# print('Train X Size: ', train_x.shape)\n",
        "# print('Train Y Size: ', train_y.shape)\n",
        "\n",
        "# print('Test X Size: ', test_train_x.shape)\n",
        "# print('Test Y Size: ', test_train_y.shape)\n",
        "\n",
        "history = model.fit(train_x, train_y, epochs=100, validation_data=(test_train_x, test_train_y))\n"
      ],
      "execution_count": 94,
      "outputs": [
        {
          "output_type": "stream",
          "text": [
            "Epoch 1/100\n",
            "4/4 [==============================] - 5s 461ms/step - loss: 0.2018 - acc: 0.0000e+00 - val_loss: 0.1865 - val_acc: 0.0000e+00\n",
            "Epoch 2/100\n",
            "4/4 [==============================] - 1s 214ms/step - loss: 0.2132 - acc: 0.0000e+00 - val_loss: 0.1578 - val_acc: 0.0000e+00\n",
            "Epoch 3/100\n",
            "4/4 [==============================] - 1s 216ms/step - loss: 0.1636 - acc: 0.0000e+00 - val_loss: 0.1214 - val_acc: 0.0000e+00\n",
            "Epoch 4/100\n",
            "4/4 [==============================] - 1s 213ms/step - loss: 0.1298 - acc: 0.0000e+00 - val_loss: 0.0841 - val_acc: 0.0000e+00\n",
            "Epoch 5/100\n",
            "4/4 [==============================] - 1s 215ms/step - loss: 0.0802 - acc: 0.0000e+00 - val_loss: 0.0692 - val_acc: 0.0000e+00\n",
            "Epoch 6/100\n",
            "4/4 [==============================] - 1s 215ms/step - loss: 0.0820 - acc: 0.0000e+00 - val_loss: 0.0762 - val_acc: 0.0000e+00\n",
            "Epoch 7/100\n",
            "4/4 [==============================] - 1s 212ms/step - loss: 0.0865 - acc: 0.0000e+00 - val_loss: 0.0702 - val_acc: 0.0000e+00\n",
            "Epoch 8/100\n",
            "4/4 [==============================] - 1s 214ms/step - loss: 0.0783 - acc: 0.0000e+00 - val_loss: 0.0682 - val_acc: 0.0000e+00\n",
            "Epoch 9/100\n",
            "4/4 [==============================] - 1s 215ms/step - loss: 0.0775 - acc: 0.0000e+00 - val_loss: 0.0701 - val_acc: 0.0000e+00\n",
            "Epoch 10/100\n",
            "4/4 [==============================] - 1s 210ms/step - loss: 0.0730 - acc: 0.0000e+00 - val_loss: 0.0699 - val_acc: 0.0000e+00\n",
            "Epoch 11/100\n",
            "4/4 [==============================] - 1s 214ms/step - loss: 0.0813 - acc: 0.0000e+00 - val_loss: 0.0676 - val_acc: 0.0000e+00\n",
            "Epoch 12/100\n",
            "4/4 [==============================] - 1s 218ms/step - loss: 0.0648 - acc: 0.0000e+00 - val_loss: 0.0668 - val_acc: 0.0000e+00\n",
            "Epoch 13/100\n",
            "4/4 [==============================] - 1s 214ms/step - loss: 0.0596 - acc: 0.0000e+00 - val_loss: 0.0670 - val_acc: 0.0000e+00\n",
            "Epoch 14/100\n",
            "4/4 [==============================] - 1s 215ms/step - loss: 0.0582 - acc: 0.0034 - val_loss: 0.0661 - val_acc: 0.0000e+00\n",
            "Epoch 15/100\n",
            "4/4 [==============================] - 1s 215ms/step - loss: 0.0584 - acc: 0.0086 - val_loss: 0.0645 - val_acc: 0.0000e+00\n",
            "Epoch 16/100\n",
            "4/4 [==============================] - 1s 218ms/step - loss: 0.0504 - acc: 0.0034 - val_loss: 0.0631 - val_acc: 0.0000e+00\n",
            "Epoch 17/100\n",
            "4/4 [==============================] - 1s 216ms/step - loss: 0.0431 - acc: 0.0086 - val_loss: 0.0613 - val_acc: 0.0000e+00\n",
            "Epoch 18/100\n",
            "4/4 [==============================] - 1s 218ms/step - loss: 0.0340 - acc: 0.0055 - val_loss: 0.0587 - val_acc: 0.0000e+00\n",
            "Epoch 19/100\n",
            "4/4 [==============================] - 1s 216ms/step - loss: 0.0260 - acc: 0.0055 - val_loss: 0.0554 - val_acc: 0.0000e+00\n",
            "Epoch 20/100\n",
            "4/4 [==============================] - 1s 206ms/step - loss: 0.0134 - acc: 0.0086 - val_loss: 0.0522 - val_acc: 0.0000e+00\n",
            "Epoch 21/100\n",
            "4/4 [==============================] - 1s 216ms/step - loss: 0.0073 - acc: 0.0055 - val_loss: 0.0482 - val_acc: 0.0000e+00\n",
            "Epoch 22/100\n",
            "4/4 [==============================] - 1s 212ms/step - loss: 0.0059 - acc: 0.0149 - val_loss: 0.0476 - val_acc: 0.0000e+00\n",
            "Epoch 23/100\n",
            "4/4 [==============================] - 1s 211ms/step - loss: 0.0065 - acc: 0.0149 - val_loss: 0.0509 - val_acc: 0.0000e+00\n",
            "Epoch 24/100\n",
            "4/4 [==============================] - 1s 211ms/step - loss: 0.0070 - acc: 0.0086 - val_loss: 0.0491 - val_acc: 0.0000e+00\n",
            "Epoch 25/100\n",
            "4/4 [==============================] - 1s 216ms/step - loss: 0.0052 - acc: 0.0055 - val_loss: 0.0472 - val_acc: 0.0000e+00\n",
            "Epoch 26/100\n",
            "4/4 [==============================] - 1s 213ms/step - loss: 0.0055 - acc: 0.0055 - val_loss: 0.0495 - val_acc: 0.0000e+00\n",
            "Epoch 27/100\n",
            "4/4 [==============================] - 1s 213ms/step - loss: 0.0043 - acc: 0.0086 - val_loss: 0.0484 - val_acc: 0.0000e+00\n",
            "Epoch 28/100\n",
            "4/4 [==============================] - 1s 211ms/step - loss: 0.0034 - acc: 0.0086 - val_loss: 0.0485 - val_acc: 0.0000e+00\n",
            "Epoch 29/100\n",
            "4/4 [==============================] - 1s 210ms/step - loss: 0.0036 - acc: 0.0034 - val_loss: 0.0493 - val_acc: 0.0000e+00\n",
            "Epoch 30/100\n",
            "4/4 [==============================] - 1s 211ms/step - loss: 0.0035 - acc: 0.0086 - val_loss: 0.0487 - val_acc: 0.0000e+00\n",
            "Epoch 31/100\n",
            "4/4 [==============================] - 1s 207ms/step - loss: 0.0027 - acc: 0.0086 - val_loss: 0.0518 - val_acc: 0.0000e+00\n",
            "Epoch 32/100\n",
            "4/4 [==============================] - 1s 213ms/step - loss: 0.0029 - acc: 0.0149 - val_loss: 0.0487 - val_acc: 0.0000e+00\n",
            "Epoch 33/100\n",
            "4/4 [==============================] - 1s 212ms/step - loss: 0.0026 - acc: 0.0034 - val_loss: 0.0482 - val_acc: 0.0000e+00\n",
            "Epoch 34/100\n",
            "4/4 [==============================] - 1s 214ms/step - loss: 0.0024 - acc: 0.0149 - val_loss: 0.0499 - val_acc: 0.0000e+00\n",
            "Epoch 35/100\n",
            "4/4 [==============================] - 1s 216ms/step - loss: 0.0028 - acc: 0.0055 - val_loss: 0.0493 - val_acc: 0.0000e+00\n",
            "Epoch 36/100\n",
            "4/4 [==============================] - 1s 215ms/step - loss: 0.0029 - acc: 0.0149 - val_loss: 0.0492 - val_acc: 0.0000e+00\n",
            "Epoch 37/100\n",
            "4/4 [==============================] - 1s 217ms/step - loss: 0.0021 - acc: 0.0086 - val_loss: 0.0498 - val_acc: 0.0000e+00\n",
            "Epoch 38/100\n",
            "4/4 [==============================] - 1s 212ms/step - loss: 0.0023 - acc: 0.0086 - val_loss: 0.0483 - val_acc: 0.0000e+00\n",
            "Epoch 39/100\n",
            "4/4 [==============================] - 1s 275ms/step - loss: 0.0026 - acc: 0.0055 - val_loss: 0.0512 - val_acc: 0.0000e+00\n",
            "Epoch 40/100\n",
            "4/4 [==============================] - 1s 213ms/step - loss: 0.0026 - acc: 0.0149 - val_loss: 0.0493 - val_acc: 0.0000e+00\n",
            "Epoch 41/100\n",
            "4/4 [==============================] - 1s 212ms/step - loss: 0.0024 - acc: 0.0149 - val_loss: 0.0473 - val_acc: 0.0093\n",
            "Epoch 42/100\n",
            "4/4 [==============================] - 1s 214ms/step - loss: 0.0021 - acc: 0.0086 - val_loss: 0.0519 - val_acc: 0.0000e+00\n",
            "Epoch 43/100\n",
            "4/4 [==============================] - 1s 215ms/step - loss: 0.0025 - acc: 0.0086 - val_loss: 0.0483 - val_acc: 0.0000e+00\n",
            "Epoch 44/100\n",
            "4/4 [==============================] - 1s 212ms/step - loss: 0.0023 - acc: 0.0086 - val_loss: 0.0486 - val_acc: 0.0000e+00\n",
            "Epoch 45/100\n",
            "4/4 [==============================] - 1s 213ms/step - loss: 0.0023 - acc: 0.0055 - val_loss: 0.0511 - val_acc: 0.0000e+00\n",
            "Epoch 46/100\n",
            "4/4 [==============================] - 1s 213ms/step - loss: 0.0022 - acc: 0.0149 - val_loss: 0.0482 - val_acc: 0.0000e+00\n",
            "Epoch 47/100\n",
            "4/4 [==============================] - 1s 214ms/step - loss: 0.0020 - acc: 0.0086 - val_loss: 0.0502 - val_acc: 0.0000e+00\n",
            "Epoch 48/100\n",
            "4/4 [==============================] - 1s 211ms/step - loss: 0.0017 - acc: 0.0055 - val_loss: 0.0487 - val_acc: 0.0000e+00\n",
            "Epoch 49/100\n",
            "4/4 [==============================] - 1s 213ms/step - loss: 0.0018 - acc: 0.0086 - val_loss: 0.0499 - val_acc: 0.0000e+00\n",
            "Epoch 50/100\n",
            "4/4 [==============================] - 1s 215ms/step - loss: 0.0015 - acc: 0.0034 - val_loss: 0.0520 - val_acc: 0.0000e+00\n",
            "Epoch 51/100\n",
            "4/4 [==============================] - 1s 214ms/step - loss: 0.0015 - acc: 0.0034 - val_loss: 0.0481 - val_acc: 0.0000e+00\n",
            "Epoch 52/100\n",
            "4/4 [==============================] - 1s 210ms/step - loss: 0.0014 - acc: 0.0149 - val_loss: 0.0504 - val_acc: 0.0000e+00\n",
            "Epoch 53/100\n",
            "4/4 [==============================] - 1s 209ms/step - loss: 0.0011 - acc: 0.0034 - val_loss: 0.0508 - val_acc: 0.0000e+00\n",
            "Epoch 54/100\n",
            "4/4 [==============================] - 1s 212ms/step - loss: 0.0011 - acc: 0.0149 - val_loss: 0.0492 - val_acc: 0.0000e+00\n",
            "Epoch 55/100\n",
            "4/4 [==============================] - 1s 218ms/step - loss: 0.0012 - acc: 0.0149 - val_loss: 0.0516 - val_acc: 0.0000e+00\n",
            "Epoch 56/100\n",
            "4/4 [==============================] - 1s 218ms/step - loss: 0.0018 - acc: 0.0086 - val_loss: 0.0485 - val_acc: 0.0000e+00\n",
            "Epoch 57/100\n",
            "4/4 [==============================] - 1s 212ms/step - loss: 0.0011 - acc: 0.0034 - val_loss: 0.0512 - val_acc: 0.0000e+00\n",
            "Epoch 58/100\n",
            "4/4 [==============================] - 1s 211ms/step - loss: 0.0010 - acc: 0.0149 - val_loss: 0.0500 - val_acc: 0.0000e+00\n",
            "Epoch 59/100\n",
            "4/4 [==============================] - 1s 214ms/step - loss: 9.5527e-04 - acc: 0.0086 - val_loss: 0.0494 - val_acc: 0.0000e+00\n",
            "Epoch 60/100\n",
            "4/4 [==============================] - 1s 216ms/step - loss: 0.0010 - acc: 0.0055 - val_loss: 0.0501 - val_acc: 0.0000e+00\n",
            "Epoch 61/100\n",
            "4/4 [==============================] - 1s 216ms/step - loss: 0.0011 - acc: 0.0055 - val_loss: 0.0503 - val_acc: 0.0000e+00\n",
            "Epoch 62/100\n",
            "4/4 [==============================] - 1s 212ms/step - loss: 0.0011 - acc: 0.0086 - val_loss: 0.0499 - val_acc: 0.0000e+00\n",
            "Epoch 63/100\n",
            "4/4 [==============================] - 1s 213ms/step - loss: 0.0012 - acc: 0.0055 - val_loss: 0.0512 - val_acc: 0.0000e+00\n",
            "Epoch 64/100\n",
            "4/4 [==============================] - 1s 214ms/step - loss: 0.0010 - acc: 0.0055 - val_loss: 0.0484 - val_acc: 0.0000e+00\n",
            "Epoch 65/100\n",
            "4/4 [==============================] - 1s 215ms/step - loss: 0.0012 - acc: 0.0149 - val_loss: 0.0520 - val_acc: 0.0000e+00\n",
            "Epoch 66/100\n",
            "4/4 [==============================] - 1s 211ms/step - loss: 0.0013 - acc: 0.0055 - val_loss: 0.0501 - val_acc: 0.0000e+00\n",
            "Epoch 67/100\n",
            "4/4 [==============================] - 1s 211ms/step - loss: 0.0012 - acc: 0.0086 - val_loss: 0.0506 - val_acc: 0.0000e+00\n",
            "Epoch 68/100\n",
            "4/4 [==============================] - 1s 214ms/step - loss: 9.8128e-04 - acc: 0.0034 - val_loss: 0.0504 - val_acc: 0.0000e+00\n",
            "Epoch 69/100\n",
            "4/4 [==============================] - 1s 215ms/step - loss: 7.9680e-04 - acc: 0.0055 - val_loss: 0.0489 - val_acc: 0.0000e+00\n",
            "Epoch 70/100\n",
            "4/4 [==============================] - 1s 216ms/step - loss: 9.6121e-04 - acc: 0.0086 - val_loss: 0.0516 - val_acc: 0.0000e+00\n",
            "Epoch 71/100\n",
            "4/4 [==============================] - 1s 214ms/step - loss: 7.4585e-04 - acc: 0.0149 - val_loss: 0.0497 - val_acc: 0.0000e+00\n",
            "Epoch 72/100\n",
            "4/4 [==============================] - 1s 210ms/step - loss: 9.0315e-04 - acc: 0.0149 - val_loss: 0.0508 - val_acc: 0.0000e+00\n",
            "Epoch 73/100\n",
            "4/4 [==============================] - 1s 214ms/step - loss: 7.8151e-04 - acc: 0.0149 - val_loss: 0.0507 - val_acc: 0.0000e+00\n",
            "Epoch 74/100\n",
            "4/4 [==============================] - 1s 217ms/step - loss: 9.4699e-04 - acc: 0.0149 - val_loss: 0.0500 - val_acc: 0.0000e+00\n",
            "Epoch 75/100\n",
            "4/4 [==============================] - 1s 215ms/step - loss: 7.7111e-04 - acc: 0.0149 - val_loss: 0.0506 - val_acc: 0.0000e+00\n",
            "Epoch 76/100\n",
            "4/4 [==============================] - 1s 216ms/step - loss: 7.8276e-04 - acc: 0.0086 - val_loss: 0.0509 - val_acc: 0.0000e+00\n",
            "Epoch 77/100\n",
            "4/4 [==============================] - 1s 212ms/step - loss: 0.0011 - acc: 0.0055 - val_loss: 0.0503 - val_acc: 0.0000e+00\n",
            "Epoch 78/100\n",
            "4/4 [==============================] - 1s 215ms/step - loss: 8.7474e-04 - acc: 0.0149 - val_loss: 0.0509 - val_acc: 0.0000e+00\n",
            "Epoch 79/100\n",
            "4/4 [==============================] - 1s 210ms/step - loss: 9.3749e-04 - acc: 0.0149 - val_loss: 0.0504 - val_acc: 0.0000e+00\n",
            "Epoch 80/100\n",
            "4/4 [==============================] - 1s 208ms/step - loss: 7.1602e-04 - acc: 0.0055 - val_loss: 0.0496 - val_acc: 0.0000e+00\n",
            "Epoch 81/100\n",
            "4/4 [==============================] - 1s 210ms/step - loss: 8.8587e-04 - acc: 0.0034 - val_loss: 0.0511 - val_acc: 0.0000e+00\n",
            "Epoch 82/100\n",
            "4/4 [==============================] - 1s 217ms/step - loss: 7.6639e-04 - acc: 0.0086 - val_loss: 0.0493 - val_acc: 0.0000e+00\n",
            "Epoch 83/100\n",
            "4/4 [==============================] - 1s 212ms/step - loss: 9.4797e-04 - acc: 0.0055 - val_loss: 0.0503 - val_acc: 0.0000e+00\n",
            "Epoch 84/100\n",
            "4/4 [==============================] - 1s 216ms/step - loss: 7.4145e-04 - acc: 0.0055 - val_loss: 0.0510 - val_acc: 0.0000e+00\n",
            "Epoch 85/100\n",
            "4/4 [==============================] - 1s 211ms/step - loss: 6.6758e-04 - acc: 0.0086 - val_loss: 0.0484 - val_acc: 0.0000e+00\n",
            "Epoch 86/100\n",
            "4/4 [==============================] - 1s 211ms/step - loss: 0.0014 - acc: 0.0086 - val_loss: 0.0523 - val_acc: 0.0000e+00\n",
            "Epoch 87/100\n",
            "4/4 [==============================] - 1s 214ms/step - loss: 7.4231e-04 - acc: 0.0055 - val_loss: 0.0495 - val_acc: 0.0000e+00\n",
            "Epoch 88/100\n",
            "4/4 [==============================] - 1s 217ms/step - loss: 8.3191e-04 - acc: 0.0149 - val_loss: 0.0518 - val_acc: 0.0000e+00\n",
            "Epoch 89/100\n",
            "4/4 [==============================] - 1s 222ms/step - loss: 6.5487e-04 - acc: 0.0086 - val_loss: 0.0496 - val_acc: 0.0000e+00\n",
            "Epoch 90/100\n",
            "4/4 [==============================] - 1s 273ms/step - loss: 6.4599e-04 - acc: 0.0149 - val_loss: 0.0511 - val_acc: 0.0000e+00\n",
            "Epoch 91/100\n",
            "4/4 [==============================] - 1s 211ms/step - loss: 6.7282e-04 - acc: 0.0149 - val_loss: 0.0506 - val_acc: 0.0000e+00\n",
            "Epoch 92/100\n",
            "4/4 [==============================] - 1s 212ms/step - loss: 6.1481e-04 - acc: 0.0086 - val_loss: 0.0494 - val_acc: 0.0000e+00\n",
            "Epoch 93/100\n",
            "4/4 [==============================] - 1s 221ms/step - loss: 7.4608e-04 - acc: 0.0055 - val_loss: 0.0510 - val_acc: 0.0000e+00\n",
            "Epoch 94/100\n",
            "4/4 [==============================] - 1s 218ms/step - loss: 3.9242e-04 - acc: 0.0055 - val_loss: 0.0511 - val_acc: 0.0000e+00\n",
            "Epoch 95/100\n",
            "4/4 [==============================] - 1s 217ms/step - loss: 7.0006e-04 - acc: 0.0086 - val_loss: 0.0502 - val_acc: 0.0000e+00\n",
            "Epoch 96/100\n",
            "4/4 [==============================] - 1s 219ms/step - loss: 5.4387e-04 - acc: 0.0055 - val_loss: 0.0499 - val_acc: 0.0000e+00\n",
            "Epoch 97/100\n",
            "4/4 [==============================] - 1s 215ms/step - loss: 7.7062e-04 - acc: 0.0055 - val_loss: 0.0517 - val_acc: 0.0000e+00\n",
            "Epoch 98/100\n",
            "4/4 [==============================] - 1s 216ms/step - loss: 0.0010 - acc: 0.0034 - val_loss: 0.0496 - val_acc: 0.0000e+00\n",
            "Epoch 99/100\n",
            "4/4 [==============================] - 1s 228ms/step - loss: 7.1943e-04 - acc: 0.0086 - val_loss: 0.0512 - val_acc: 0.0000e+00\n",
            "Epoch 100/100\n",
            "4/4 [==============================] - 1s 214ms/step - loss: 6.1755e-04 - acc: 0.0055 - val_loss: 0.0500 - val_acc: 0.0000e+00\n"
          ],
          "name": "stdout"
        }
      ]
    },
    {
      "cell_type": "code",
      "metadata": {
        "id": "wziw7Lu6FWA_"
      },
      "source": [
        "pred_y = model.predict(train_x)"
      ],
      "execution_count": 95,
      "outputs": []
    },
    {
      "cell_type": "code",
      "metadata": {
        "colab": {
          "base_uri": "https://localhost:8080/"
        },
        "id": "2AnQxP8fFbHu",
        "outputId": "97709730-692f-416b-dc32-2ce0ba60a793"
      },
      "source": [
        "pred_y = pred_y.reshape(-1)\n",
        "print(pred_y)"
      ],
      "execution_count": 96,
      "outputs": [
        {
          "output_type": "stream",
          "text": [
            "[0.09309365 0.09202635 0.10000531 0.10725503 0.10269272 0.10133392\n",
            " 0.10333744 0.10340171 0.10494903 0.1099867  0.2333194  0.19561175\n",
            " 0.20136008 0.23082092 0.20421919 0.28089836 0.37658226 0.28118673\n",
            " 0.4032017  0.4186145  0.5562627  0.46351704 0.38973036 0.51066285\n",
            " 0.33854207 0.56028694 0.38582632 0.6540461  0.9100284  0.69786555\n",
            " 0.57164043 0.6313336  0.7867469  0.5036293  0.6803213  0.8721493\n",
            " 0.90636003 0.72018695 0.9458708  1.0013671  0.64228225 0.6582728\n",
            " 0.65513486 0.69010013 0.56351566 0.6212404  0.73960876 0.649162\n",
            " 0.7318391  0.64007074 0.96484417 0.85069305 0.8348071  0.87418264\n",
            " 0.78180367 0.6889617  0.8560874  0.7227537  0.51355267 0.83558506\n",
            " 0.7701641  0.729618   0.6185525  0.5594081  0.37689686 0.45681667\n",
            " 0.41488695 0.43639922 0.57358515 0.47600004 0.35317233 0.37793347\n",
            " 0.42964858 0.2781891  0.3110714  0.32369602 0.29238006 0.32445252\n",
            " 0.34260458 0.28080863 0.20593733 0.4154529  0.17068028 0.18939209\n",
            " 0.18922529 0.19861725 0.23479116 0.27486283 0.3191085  0.22248036\n",
            " 0.12099702 0.12254064 0.23079821 0.11492057 0.10987472 0.1949462\n",
            " 0.20284376 0.12213269 0.10865593 0.10382017 0.10586771 0.11154743\n",
            " 0.10269544 0.09774598 0.09096086 0.08478063 0.08656575 0.08789529\n",
            " 0.08276073 0.08421062 0.08000864 0.08457457 0.08573298 0.08677147\n",
            " 0.08737127 0.09198721 0.08990166]\n"
          ],
          "name": "stdout"
        }
      ]
    },
    {
      "cell_type": "code",
      "metadata": {
        "colab": {
          "base_uri": "https://localhost:8080/",
          "height": 312
        },
        "id": "-DsWwRbyFhBL",
        "outputId": "c8efe414-6f04-4173-b5c5-2ab03646d46b"
      },
      "source": [
        "data_SN_23 = getSNAverage(np.ma.masked_equal(getSN_Day(cycle_23),0),37)[:-5]\n",
        "datax_SN_23 = data_SN_23.T[0]\n",
        "datay_SN_23 = data_SN_23.T[1]\n",
        "print(datax_SN_23.shape, datay_SN_23.shape, pred_y.shape)\n",
        "\n",
        "figure, axis_1 = plt.subplots()\n",
        "plt.xlabel('Time (BJD)')\n",
        "plt.title('ML Prediction and Sunspot Number vs. Time - Cycle 23')\n",
        "\n",
        "axis_1.autoscale(enable=True, axis='both', tight=None)\n",
        "axis_1.set_ylabel('ML Prediction')\n",
        "axis_1.scatter(datax_SN_23,pred_y, s = 10, c='blue', alpha=0.5)\n",
        "\n",
        "axis_2 = axis_1.twinx()\n",
        "axis_2.set_ylabel('Sunspot Number')\n",
        "axis_2.scatter(datax_SN_23,datay_SN_23, s = 10, c='red', alpha=0.5)\n",
        "\n",
        "# lines_1, labels_1 = axis_1.get_legend_handles_labels() ------- add legend later\n",
        "# lines_2, labels_2 = axis_2.get_legend_handles_labels()\n",
        "# lines = lines_1 + lines_2\n",
        "# labels = labels_1 + labels_2\n",
        "# axis_1.legend(lines, labels, loc=0)\n",
        "\n",
        "plt.show()"
      ],
      "execution_count": 97,
      "outputs": [
        {
          "output_type": "stream",
          "text": [
            "(117,) (117,) (117,)\n"
          ],
          "name": "stdout"
        },
        {
          "output_type": "display_data",
          "data": {
            "image/png": "[encoded data removed]",
            "text/plain": [
              "<Figure size 432x288 with 2 Axes>"
            ]
          },
          "metadata": {
            "tags": [],
            "needs_background": "light"
          }
        }
      ]
    },
    {
      "cell_type": "code",
      "metadata": {
        "colab": {
          "base_uri": "https://localhost:8080/"
        },
        "id": "vGzBqAuHG-hU",
        "outputId": "6a6f3d63-64b6-41ff-aba7-44f3b84c31ad"
      },
      "source": [
        "test_x = numax_cycle_24_37\n",
        "test_x = test_x.reshape(test_x.shape[0], 1, test_x.shape[1])\n",
        "print(test_x.shape)\n",
        "test_y = model.predict(test_x)\n",
        "test_y = test_y.reshape(-1)\n",
        "print(test_y)"
      ],
      "execution_count": 98,
      "outputs": [
        {
          "output_type": "stream",
          "text": [
            "(107, 1, 63072)\n",
            "[0.22875023 0.24513987 0.23573521 0.19164512 0.21094865 0.18284687\n",
            " 0.19539934 0.21811697 0.2216883  0.26821142 0.21958485 0.24264139\n",
            " 0.25398496 0.27536678 0.26600674 0.23046735 0.2549472  0.23979795\n",
            " 0.25593606 0.27448067 0.28790227 0.28838545 0.2830752  0.2931903\n",
            " 0.30087492 0.32458073 0.32692444 0.3870864  0.42644665 0.3879122\n",
            " 0.36538678 0.37777072 0.3685202  0.3740969  0.30926454 0.31595007\n",
            " 0.3214278  0.31865814 0.34088734 0.36118335 0.36978155 0.3666352\n",
            " 0.3481464  0.31272072 0.33146176 0.3350924  0.3442793  0.41009772\n",
            " 0.42495906 0.43009102 0.43399072 0.4651489  0.4360811  0.41608733\n",
            " 0.41825998 0.42346394 0.47119206 0.45522517 0.4645173  0.43025923\n",
            " 0.4090481  0.42953372 0.41633528 0.40018696 0.3504445  0.36596105\n",
            " 0.37789798 0.37584484 0.3680864  0.3941402  0.3507641  0.34279406\n",
            " 0.39492568 0.35688487 0.31651714 0.2978629  0.28878552 0.27392933\n",
            " 0.24274892 0.2764868  0.31511033 0.37133265 0.38490292 0.39146453\n",
            " 0.39616892 0.38013926 0.33599776 0.30005074 0.24974549 0.23288482\n",
            " 0.22245932 0.24360839 0.28324175 0.3221402  0.36946976 0.3980382\n",
            " 0.3732033  0.33771098 0.31875405 0.33729675 0.2896534  0.3178448\n",
            " 0.31604254 0.2916831  0.21226326 0.22546414 0.25554657]\n"
          ],
          "name": "stdout"
        }
      ]
    },
    {
      "cell_type": "code",
      "metadata": {
        "colab": {
          "base_uri": "https://localhost:8080/",
          "height": 312
        },
        "id": "IlQpU0PLGezX",
        "outputId": "65c2d1c3-e4c0-4372-a037-e4b1951a9f44"
      },
      "source": [
        "data_SN_24 = getSNAverage(np.ma.masked_equal(getSN_Day(cycle_24),0),37)[:-5]\n",
        "datax_SN_24 = data_SN_24.T[0]\n",
        "datay_SN_24 = data_SN_24.T[1]\n",
        "print(datax_SN_24.shape, datay_SN_24.shape, test_y.shape)\n",
        "\n",
        "figure, axis_1 = plt.subplots()\n",
        "plt.xlabel('Time (BJD)')\n",
        "plt.title('ML Prediction and Sunspot Number vs. Time - Cycle 24')\n",
        "\n",
        "#Axis 1\n",
        "axis_1.autoscale(enable=True, axis='both', tight=None)\n",
        "axis_1.set_ylabel('ML Prediction')\n",
        "axis_1.scatter(datax_SN_24,test_y, s = 10, c='blue', alpha=0.5)\n",
        "\n",
        "#Axis 2\n",
        "axis_2 = axis_1.twinx()\n",
        "axis_2.set_ylabel('Sunspot Number')\n",
        "axis_2.scatter(datax_SN_24,datay_SN_24, s = 10, c='red', alpha=0.5)\n",
        "\n",
        "plt.show()"
      ],
      "execution_count": 99,
      "outputs": [
        {
          "output_type": "stream",
          "text": [
            "(107,) (107,) (107,)\n"
          ],
          "name": "stdout"
        },
        {
          "output_type": "display_data",
          "data": {
            "image/png": "[encoded data removed]",
            "text/plain": [
              "<Figure size 432x288 with 2 Axes>"
            ]
          },
          "metadata": {
            "tags": [],
            "needs_background": "light"
          }
        }
      ]
    },
    {
      "cell_type": "code",
      "metadata": {
        "id": "WZC-4bA-NboF",
        "colab": {
          "base_uri": "https://localhost:8080/"
        },
        "outputId": "6be538c0-fc7a-4a3c-f8d2-89cb941408c6"
      },
      "source": [
        "scale_23 = np.max(datay_SN_23)\n",
        "valid_datay_SN_23 = np.divide(datay_SN_23, scale_23)\n",
        "\n",
        "scale_24 = np.max(datay_SN_24)\n",
        "valid_datay_SN_24 = np.divide(datay_SN_24, scale_24)\n",
        "\n",
        "mse_23 = np.sqrt(mean_squared_error(valid_datay_SN_23,pred_y))\n",
        "mae_23 = mean_absolute_error(valid_datay_SN_23,pred_y)\n",
        "print(\"Cycle 23: Mean Sq. Err, Mean Abs. Err.\")\n",
        "print(round(mse_23,4),round(mae_23,4),round(min(mse_23,mae_23)*scale_23,4))\n",
        "print()\n",
        "mse_24 = np.sqrt(mean_squared_error(valid_datay_SN_24,test_y))\n",
        "mae_24 = mean_absolute_error(valid_datay_SN_24,test_y)\n",
        "print(\"Cycle 24: Mean Sq. Err, Mean Abs. Err.\")\n",
        "print(round(mse_24,4),round(mae_24,4),round(min(mse_24,mae_24)*scale_24,4))"
      ],
      "execution_count": 100,
      "outputs": [
        {
          "output_type": "stream",
          "text": [
            "Cycle 23: Mean Sq. Err, Mean Abs. Err.\n",
            "0.0148 0.0109 2.4645\n",
            "\n",
            "Cycle 24: Mean Sq. Err, Mean Abs. Err.\n",
            "0.2237 0.1832 26.3823\n"
          ],
          "name": "stdout"
        }
      ]
    }
  ]
}
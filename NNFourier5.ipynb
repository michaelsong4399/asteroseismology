{
  "nbformat": 4,
  "nbformat_minor": 0,
  "metadata": {
    "colab": {
      "name": "NNFourier.ipynb",
      "provenance": [],
      "collapsed_sections": [],
      "authorship_tag": "ABX9TyPPsFsDEbm73bB8xRtfPGmQ",
      "include_colab_link": true
    },
    "kernelspec": {
      "name": "python3",
      "display_name": "Python 3"
    }
  },
  "cells": [
    {
      "cell_type": "markdown",
      "metadata": {
        "id": "view-in-github",
        "colab_type": "text"
      },
      "source": [
        "<a href=\"https://colab.research.google.com/github/michaelsong4399/asteroseismology/blob/yihong/NNFourier5.ipynb\" target=\"_parent\"><img src=\"https://colab.research.google.com/assets/colab-badge.svg\" alt=\"Open In Colab\"/></a>"
      ]
    },
    {
      "cell_type": "code",
      "metadata": {
        "colab": {
          "base_uri": "https://localhost:8080/",
          "height": 1000
        },
        "id": "zzDDjvqhW-q0",
        "outputId": "7e4481c0-68cf-459c-e30c-9563c3d3ec59"
      },
      "source": [
        "!pip install lightkurve\n",
        "!pip install astroquery\n",
        "!pip install matplotlib\n",
        "!pip install numpy\n",
        "!pip install scipy\n",
        "!pip install pandas\n",
        "!pip install tensorflow\n",
        "!pip install astropy"
      ],
      "execution_count": 1,
      "outputs": [
        {
          "output_type": "stream",
          "text": [
            "Collecting lightkurve\n",
            "\u001b[?25l  Downloading https://files.pythonhosted.org/packages/10/22/710acfc7df7c86ab6b3c6ef50dec821133ea0b3548108294f9f2ed1a7231/lightkurve-2.0.1-py3-none-any.whl (233kB)\n",
            "\r\u001b[K     |█▍                              | 10kB 13.2MB/s eta 0:00:01\r\u001b[K     |██▉                             | 20kB 8.9MB/s eta 0:00:01\r\u001b[K     |████▏                           | 30kB 7.5MB/s eta 0:00:01\r\u001b[K     |█████▋                          | 40kB 7.5MB/s eta 0:00:01\r\u001b[K     |███████                         | 51kB 4.5MB/s eta 0:00:01\r\u001b[K     |████████▍                       | 61kB 5.0MB/s eta 0:00:01\r\u001b[K     |█████████▉                      | 71kB 4.8MB/s eta 0:00:01\r\u001b[K     |███████████▎                    | 81kB 4.6MB/s eta 0:00:01\r\u001b[K     |████████████▋                   | 92kB 5.1MB/s eta 0:00:01\r\u001b[K     |██████████████                  | 102kB 5.3MB/s eta 0:00:01\r\u001b[K     |███████████████▌                | 112kB 5.3MB/s eta 0:00:01\r\u001b[K     |████████████████▉               | 122kB 5.3MB/s eta 0:00:01\r\u001b[K     |██████████████████▎             | 133kB 5.3MB/s eta 0:00:01\r\u001b[K     |███████████████████▊            | 143kB 5.3MB/s eta 0:00:01\r\u001b[K     |█████████████████████           | 153kB 5.3MB/s eta 0:00:01\r\u001b[K     |██████████████████████▌         | 163kB 5.3MB/s eta 0:00:01\r\u001b[K     |████████████████████████        | 174kB 5.3MB/s eta 0:00:01\r\u001b[K     |█████████████████████████▎      | 184kB 5.3MB/s eta 0:00:01\r\u001b[K     |██████████████████████████▊     | 194kB 5.3MB/s eta 0:00:01\r\u001b[K     |████████████████████████████▏   | 204kB 5.3MB/s eta 0:00:01\r\u001b[K     |█████████████████████████████▌  | 215kB 5.3MB/s eta 0:00:01\r\u001b[K     |███████████████████████████████ | 225kB 5.3MB/s eta 0:00:01\r\u001b[K     |████████████████████████████████| 235kB 5.3MB/s \n",
            "\u001b[?25hRequirement already satisfied: bokeh>=1.0 in /usr/local/lib/python3.6/dist-packages (from lightkurve) (2.1.1)\n",
            "Requirement already satisfied: scipy>=0.19.0 in /usr/local/lib/python3.6/dist-packages (from lightkurve) (1.4.1)\n",
            "Collecting uncertainties<4.0.0,>=3.1.4\n",
            "\u001b[?25l  Downloading https://files.pythonhosted.org/packages/45/41/fc7e7b73b603e7c2c9e040b7aa8caf4a88d74b6faa567601ed82b6f0d8e1/uncertainties-3.1.5-py2.py3-none-any.whl (246kB)\n",
            "\u001b[K     |████████████████████████████████| 256kB 7.5MB/s \n",
            "\u001b[?25hCollecting fbpca>=1.0\n",
            "  Downloading https://files.pythonhosted.org/packages/a7/a5/2085d0645a4bb4f0b606251b0b7466c61326e4a471d445c1c3761a2d07bc/fbpca-1.0.tar.gz\n",
            "Collecting ipython>=6.0.0\n",
            "\u001b[?25l  Downloading https://files.pythonhosted.org/packages/23/6a/210816c943c9aeeb29e4e18a298f14bf0e118fe222a23e13bfcc2d41b0a4/ipython-7.16.1-py3-none-any.whl (785kB)\n",
            "\u001b[K     |████████████████████████████████| 788kB 8.3MB/s \n",
            "\u001b[?25hCollecting memoization>=0.3.1\n",
            "  Downloading https://files.pythonhosted.org/packages/16/87/37229296c2a9506867d5f5440b9aac015d97af54c951cdfc129bb4bb8d75/memoization-0.3.2-py3-none-any.whl\n",
            "Requirement already satisfied: matplotlib>=1.5.3 in /usr/local/lib/python3.6/dist-packages (from lightkurve) (3.2.2)\n",
            "Collecting numba>=0.53.0rc1; python_version >= \"3.6\" and python_version < \"3.10\"\n",
            "\u001b[?25l  Downloading https://files.pythonhosted.org/packages/a8/07/bebed035a29203cca7a5950e864f3bdc4dcd899882502b09e85f8ace5589/numba-0.53.0rc1.post1-cp36-cp36m-manylinux2014_x86_64.whl (3.4MB)\n",
            "\u001b[K     |████████████████████████████████| 3.4MB 14.8MB/s \n",
            "\u001b[?25hRequirement already satisfied: pandas<2.0.0,>=1.1.4 in /usr/local/lib/python3.6/dist-packages (from lightkurve) (1.1.5)\n",
            "Collecting requests<3.0.0,>=2.25.0\n",
            "\u001b[?25l  Downloading https://files.pythonhosted.org/packages/29/c1/24814557f1d22c56d50280771a17307e6bf87b70727d975fd6b2ce6b014a/requests-2.25.1-py2.py3-none-any.whl (61kB)\n",
            "\u001b[K     |████████████████████████████████| 61kB 5.7MB/s \n",
            "\u001b[?25hRequirement already satisfied: beautifulsoup4<5.0.0,>=4.6.0 in /usr/local/lib/python3.6/dist-packages (from lightkurve) (4.6.3)\n",
            "Collecting scikit-learn>=0.24.0\n",
            "\u001b[?25l  Downloading https://files.pythonhosted.org/packages/e2/4c/6111b9a325f29527d7f262e2ee8c730d354b47a728d955e186dacad57a0d/scikit_learn-0.24.1-cp36-cp36m-manylinux2010_x86_64.whl (22.2MB)\n",
            "\u001b[K     |████████████████████████████████| 22.2MB 1.7MB/s \n",
            "\u001b[?25hRequirement already satisfied: astropy>=4.1 in /usr/local/lib/python3.6/dist-packages (from lightkurve) (4.1)\n",
            "Requirement already satisfied: tqdm>=4.25.0 in /usr/local/lib/python3.6/dist-packages (from lightkurve) (4.41.1)\n",
            "Requirement already satisfied: numpy>=1.11 in /usr/local/lib/python3.6/dist-packages (from lightkurve) (1.19.5)\n",
            "Collecting oktopus<0.2.0,>=0.1.2\n",
            "  Downloading https://files.pythonhosted.org/packages/2d/6e/7b7e11442ff70286c22614d200f6145f83528dc6c99fec0982665e25c8d3/oktopus-0.1.2.tar.gz\n",
            "Collecting astroquery>=0.3.10\n",
            "\u001b[?25l  Downloading https://files.pythonhosted.org/packages/1b/f8/4690523783691ed816b3469c3ec611af3798594d37ade510dd918d59f57e/astroquery-0.4.1.tar.gz (6.5MB)\n",
            "\u001b[K     |████████████████████████████████| 6.5MB 30.6MB/s \n",
            "\u001b[?25hRequirement already satisfied: patsy>=0.5.0 in /usr/local/lib/python3.6/dist-packages (from lightkurve) (0.5.1)\n",
            "Requirement already satisfied: pillow>=4.0 in /usr/local/lib/python3.6/dist-packages (from bokeh>=1.0->lightkurve) (7.0.0)\n",
            "Requirement already satisfied: typing-extensions>=3.7.4 in /usr/local/lib/python3.6/dist-packages (from bokeh>=1.0->lightkurve) (3.7.4.3)\n",
            "Requirement already satisfied: PyYAML>=3.10 in /usr/local/lib/python3.6/dist-packages (from bokeh>=1.0->lightkurve) (3.13)\n",
            "Requirement already satisfied: Jinja2>=2.7 in /usr/local/lib/python3.6/dist-packages (from bokeh>=1.0->lightkurve) (2.11.3)\n",
            "Requirement already satisfied: python-dateutil>=2.1 in /usr/local/lib/python3.6/dist-packages (from bokeh>=1.0->lightkurve) (2.8.1)\n",
            "Requirement already satisfied: tornado>=5.1 in /usr/local/lib/python3.6/dist-packages (from bokeh>=1.0->lightkurve) (5.1.1)\n",
            "Requirement already satisfied: packaging>=16.8 in /usr/local/lib/python3.6/dist-packages (from bokeh>=1.0->lightkurve) (20.9)\n",
            "Requirement already satisfied: future in /usr/local/lib/python3.6/dist-packages (from uncertainties<4.0.0,>=3.1.4->lightkurve) (0.16.0)\n",
            "Requirement already satisfied: decorator in /usr/local/lib/python3.6/dist-packages (from ipython>=6.0.0->lightkurve) (4.4.2)\n",
            "Requirement already satisfied: pickleshare in /usr/local/lib/python3.6/dist-packages (from ipython>=6.0.0->lightkurve) (0.7.5)\n",
            "Requirement already satisfied: pexpect; sys_platform != \"win32\" in /usr/local/lib/python3.6/dist-packages (from ipython>=6.0.0->lightkurve) (4.8.0)\n",
            "Collecting prompt-toolkit!=3.0.0,!=3.0.1,<3.1.0,>=2.0.0\n",
            "\u001b[?25l  Downloading https://files.pythonhosted.org/packages/a6/0b/c6de29441b29f8b54d5bbe29a8b223de6e400714ff50e85541bd4c783421/prompt_toolkit-3.0.16-py3-none-any.whl (366kB)\n",
            "\u001b[K     |████████████████████████████████| 368kB 37.9MB/s \n",
            "\u001b[?25hRequirement already satisfied: jedi>=0.10 in /usr/local/lib/python3.6/dist-packages (from ipython>=6.0.0->lightkurve) (0.18.0)\n",
            "Requirement already satisfied: setuptools>=18.5 in /usr/local/lib/python3.6/dist-packages (from ipython>=6.0.0->lightkurve) (53.0.0)\n",
            "Requirement already satisfied: pygments in /usr/local/lib/python3.6/dist-packages (from ipython>=6.0.0->lightkurve) (2.6.1)\n",
            "Requirement already satisfied: backcall in /usr/local/lib/python3.6/dist-packages (from ipython>=6.0.0->lightkurve) (0.2.0)\n",
            "Requirement already satisfied: traitlets>=4.2 in /usr/local/lib/python3.6/dist-packages (from ipython>=6.0.0->lightkurve) (4.3.3)\n",
            "Requirement already satisfied: pyparsing!=2.0.4,!=2.1.2,!=2.1.6,>=2.0.1 in /usr/local/lib/python3.6/dist-packages (from matplotlib>=1.5.3->lightkurve) (2.4.7)\n",
            "Requirement already satisfied: cycler>=0.10 in /usr/local/lib/python3.6/dist-packages (from matplotlib>=1.5.3->lightkurve) (0.10.0)\n",
            "Requirement already satisfied: kiwisolver>=1.0.1 in /usr/local/lib/python3.6/dist-packages (from matplotlib>=1.5.3->lightkurve) (1.3.1)\n",
            "Collecting llvmlite<0.37,>=0.36.0rc1\n",
            "\u001b[?25l  Downloading https://files.pythonhosted.org/packages/33/99/be1dbd0b40b33f22a4f00cde3ff0be04b7bcbee1f461e011fd7e868ac3d5/llvmlite-0.36.0rc1-cp36-cp36m-manylinux2010_x86_64.whl (25.3MB)\n",
            "\u001b[K     |████████████████████████████████| 25.3MB 1.6MB/s \n",
            "\u001b[?25hRequirement already satisfied: pytz>=2017.2 in /usr/local/lib/python3.6/dist-packages (from pandas<2.0.0,>=1.1.4->lightkurve) (2018.9)\n",
            "Requirement already satisfied: chardet<5,>=3.0.2 in /usr/local/lib/python3.6/dist-packages (from requests<3.0.0,>=2.25.0->lightkurve) (3.0.4)\n",
            "Requirement already satisfied: idna<3,>=2.5 in /usr/local/lib/python3.6/dist-packages (from requests<3.0.0,>=2.25.0->lightkurve) (2.10)\n",
            "Requirement already satisfied: certifi>=2017.4.17 in /usr/local/lib/python3.6/dist-packages (from requests<3.0.0,>=2.25.0->lightkurve) (2020.12.5)\n",
            "Requirement already satisfied: urllib3<1.27,>=1.21.1 in /usr/local/lib/python3.6/dist-packages (from requests<3.0.0,>=2.25.0->lightkurve) (1.24.3)\n",
            "Collecting threadpoolctl>=2.0.0\n",
            "  Downloading https://files.pythonhosted.org/packages/f7/12/ec3f2e203afa394a149911729357aa48affc59c20e2c1c8297a60f33f133/threadpoolctl-2.1.0-py3-none-any.whl\n",
            "Requirement already satisfied: joblib>=0.11 in /usr/local/lib/python3.6/dist-packages (from scikit-learn>=0.24.0->lightkurve) (1.0.0)\n",
            "Requirement already satisfied: autograd in /usr/local/lib/python3.6/dist-packages (from oktopus<0.2.0,>=0.1.2->lightkurve) (1.3)\n",
            "Collecting keyring>=4.0\n",
            "  Downloading https://files.pythonhosted.org/packages/96/17/86e1e5b50dc14e5984a661dde2ed3b7f05efe1fdee32145a77708cf06904/keyring-22.0.1-py3-none-any.whl\n",
            "Requirement already satisfied: html5lib>=0.999 in /usr/local/lib/python3.6/dist-packages (from astroquery>=0.3.10->lightkurve) (1.0.1)\n",
            "Requirement already satisfied: six in /usr/local/lib/python3.6/dist-packages (from astroquery>=0.3.10->lightkurve) (1.15.0)\n",
            "Requirement already satisfied: MarkupSafe>=0.23 in /usr/local/lib/python3.6/dist-packages (from Jinja2>=2.7->bokeh>=1.0->lightkurve) (1.1.1)\n",
            "Requirement already satisfied: ptyprocess>=0.5 in /usr/local/lib/python3.6/dist-packages (from pexpect; sys_platform != \"win32\"->ipython>=6.0.0->lightkurve) (0.7.0)\n",
            "Requirement already satisfied: wcwidth in /usr/local/lib/python3.6/dist-packages (from prompt-toolkit!=3.0.0,!=3.0.1,<3.1.0,>=2.0.0->ipython>=6.0.0->lightkurve) (0.2.5)\n",
            "Requirement already satisfied: parso<0.9.0,>=0.8.0 in /usr/local/lib/python3.6/dist-packages (from jedi>=0.10->ipython>=6.0.0->lightkurve) (0.8.1)\n",
            "Requirement already satisfied: ipython-genutils in /usr/local/lib/python3.6/dist-packages (from traitlets>=4.2->ipython>=6.0.0->lightkurve) (0.2.0)\n",
            "Collecting SecretStorage>=3.2; sys_platform == \"linux\"\n",
            "  Downloading https://files.pythonhosted.org/packages/d9/1e/29cd69fdac7391aa51510dfd42aa70b4e6a826c8cd019ee2a8ab9ec0777f/SecretStorage-3.3.1-py3-none-any.whl\n",
            "Requirement already satisfied: importlib-metadata>=1; python_version < \"3.8\" in /usr/local/lib/python3.6/dist-packages (from keyring>=4.0->astroquery>=0.3.10->lightkurve) (3.4.0)\n",
            "Collecting jeepney>=0.4.2; sys_platform == \"linux\"\n",
            "\u001b[?25l  Downloading https://files.pythonhosted.org/packages/51/b0/a6ea72741aaac3f37fb96d195e4ee576a103c4c04e279bc6b446a70960e1/jeepney-0.6.0-py3-none-any.whl (45kB)\n",
            "\u001b[K     |████████████████████████████████| 51kB 5.8MB/s \n",
            "\u001b[?25hRequirement already satisfied: webencodings in /usr/local/lib/python3.6/dist-packages (from html5lib>=0.999->astroquery>=0.3.10->lightkurve) (0.5.1)\n",
            "Collecting cryptography>=2.0\n",
            "\u001b[?25l  Downloading https://files.pythonhosted.org/packages/f8/1f/acde6ff69864c5e78b56488e3afd93c1ccc8c2651186e2a5f93d93f64859/cryptography-3.4.6-cp36-abi3-manylinux2014_x86_64.whl (3.2MB)\n",
            "\u001b[K     |████████████████████████████████| 3.2MB 36.6MB/s \n",
            "\u001b[?25hRequirement already satisfied: zipp>=0.5 in /usr/local/lib/python3.6/dist-packages (from importlib-metadata>=1; python_version < \"3.8\"->keyring>=4.0->astroquery>=0.3.10->lightkurve) (3.4.0)\n",
            "Requirement already satisfied: cffi>=1.12 in /usr/local/lib/python3.6/dist-packages (from cryptography>=2.0->SecretStorage>=3.2; sys_platform == \"linux\"->keyring>=4.0->astroquery>=0.3.10->lightkurve) (1.14.4)\n",
            "Requirement already satisfied: pycparser in /usr/local/lib/python3.6/dist-packages (from cffi>=1.12->cryptography>=2.0->SecretStorage>=3.2; sys_platform == \"linux\"->keyring>=4.0->astroquery>=0.3.10->lightkurve) (2.20)\n",
            "Building wheels for collected packages: fbpca, oktopus, astroquery\n",
            "  Building wheel for fbpca (setup.py) ... \u001b[?25l\u001b[?25hdone\n",
            "  Created wheel for fbpca: filename=fbpca-1.0-cp36-none-any.whl size=11377 sha256=fff944ffab7cf06e192febbdc80e54cfa372609bd41eb99022742be9e7e4a3a8\n",
            "  Stored in directory: /root/.cache/pip/wheels/53/a2/dd/9b66cf53dbc58cec1e613d216689e5fa946d3e7805c30f60dc\n",
            "  Building wheel for oktopus (setup.py) ... \u001b[?25l\u001b[?25hdone\n",
            "  Created wheel for oktopus: filename=oktopus-0.1.2-cp36-none-any.whl size=12779 sha256=58cfea61067d3e5141c1961275564a5febf045d6f7a9b9edf981815b2c8c501d\n",
            "  Stored in directory: /root/.cache/pip/wheels/9b/90/81/098fc66ee56166d63c9a8fc0a9672ae7b3423396a588ec952a\n",
            "  Building wheel for astroquery (setup.py) ... \u001b[?25l\u001b[?25hdone\n",
            "  Created wheel for astroquery: filename=astroquery-0.4.1-cp36-none-any.whl size=3831873 sha256=7429887de44404ce2551179945bf99976f1f2d40450fc297f619c0d929e4fd9d\n",
            "  Stored in directory: /root/.cache/pip/wheels/88/f8/b7/a254cd96e808f708bc0b7d755a8e095c56fbbe94099d7b464f\n",
            "Successfully built fbpca oktopus astroquery\n",
            "\u001b[31mERROR: jupyter-console 5.2.0 has requirement prompt-toolkit<2.0.0,>=1.0.0, but you'll have prompt-toolkit 3.0.16 which is incompatible.\u001b[0m\n",
            "\u001b[31mERROR: google-colab 1.0.0 has requirement ipython~=5.5.0, but you'll have ipython 7.16.1 which is incompatible.\u001b[0m\n",
            "\u001b[31mERROR: google-colab 1.0.0 has requirement requests~=2.23.0, but you'll have requests 2.25.1 which is incompatible.\u001b[0m\n",
            "\u001b[31mERROR: datascience 0.10.6 has requirement folium==0.2.1, but you'll have folium 0.8.3 which is incompatible.\u001b[0m\n",
            "Installing collected packages: uncertainties, fbpca, prompt-toolkit, ipython, memoization, llvmlite, numba, requests, threadpoolctl, scikit-learn, oktopus, cryptography, jeepney, SecretStorage, keyring, astroquery, lightkurve\n",
            "  Found existing installation: prompt-toolkit 1.0.18\n",
            "    Uninstalling prompt-toolkit-1.0.18:\n",
            "      Successfully uninstalled prompt-toolkit-1.0.18\n",
            "  Found existing installation: ipython 5.5.0\n",
            "    Uninstalling ipython-5.5.0:\n",
            "      Successfully uninstalled ipython-5.5.0\n",
            "  Found existing installation: llvmlite 0.34.0\n",
            "    Uninstalling llvmlite-0.34.0:\n",
            "      Successfully uninstalled llvmlite-0.34.0\n",
            "  Found existing installation: numba 0.51.2\n",
            "    Uninstalling numba-0.51.2:\n",
            "      Successfully uninstalled numba-0.51.2\n",
            "  Found existing installation: requests 2.23.0\n",
            "    Uninstalling requests-2.23.0:\n",
            "      Successfully uninstalled requests-2.23.0\n",
            "  Found existing installation: scikit-learn 0.22.2.post1\n",
            "    Uninstalling scikit-learn-0.22.2.post1:\n",
            "      Successfully uninstalled scikit-learn-0.22.2.post1\n",
            "Successfully installed SecretStorage-3.3.1 astroquery-0.4.1 cryptography-3.4.6 fbpca-1.0 ipython-7.16.1 jeepney-0.6.0 keyring-22.0.1 lightkurve-2.0.1 llvmlite-0.36.0rc1 memoization-0.3.2 numba-0.53.0rc1.post1 oktopus-0.1.2 prompt-toolkit-3.0.16 requests-2.25.1 scikit-learn-0.24.1 threadpoolctl-2.1.0 uncertainties-3.1.5\n"
          ],
          "name": "stdout"
        },
        {
          "output_type": "display_data",
          "data": {
            "application/vnd.colab-display-data+json": {
              "pip_warning": {
                "packages": [
                  "IPython",
                  "prompt_toolkit"
                ]
              }
            }
          },
          "metadata": {
            "tags": []
          }
        },
        {
          "output_type": "stream",
          "text": [
            "Requirement already satisfied: astroquery in /usr/local/lib/python3.6/dist-packages (0.4.1)\n",
            "Requirement already satisfied: numpy in /usr/local/lib/python3.6/dist-packages (from astroquery) (1.19.5)\n",
            "Requirement already satisfied: requests>=2.4.3 in /usr/local/lib/python3.6/dist-packages (from astroquery) (2.25.1)\n",
            "Requirement already satisfied: html5lib>=0.999 in /usr/local/lib/python3.6/dist-packages (from astroquery) (1.0.1)\n",
            "Requirement already satisfied: six in /usr/local/lib/python3.6/dist-packages (from astroquery) (1.15.0)\n",
            "Requirement already satisfied: keyring>=4.0 in /usr/local/lib/python3.6/dist-packages (from astroquery) (22.0.1)\n",
            "Requirement already satisfied: astropy>=3.1 in /usr/local/lib/python3.6/dist-packages (from astroquery) (4.1)\n",
            "Requirement already satisfied: beautifulsoup4>=4.3.2 in /usr/local/lib/python3.6/dist-packages (from astroquery) (4.6.3)\n",
            "Requirement already satisfied: certifi>=2017.4.17 in /usr/local/lib/python3.6/dist-packages (from requests>=2.4.3->astroquery) (2020.12.5)\n",
            "Requirement already satisfied: urllib3<1.27,>=1.21.1 in /usr/local/lib/python3.6/dist-packages (from requests>=2.4.3->astroquery) (1.24.3)\n",
            "Requirement already satisfied: chardet<5,>=3.0.2 in /usr/local/lib/python3.6/dist-packages (from requests>=2.4.3->astroquery) (3.0.4)\n",
            "Requirement already satisfied: idna<3,>=2.5 in /usr/local/lib/python3.6/dist-packages (from requests>=2.4.3->astroquery) (2.10)\n",
            "Requirement already satisfied: webencodings in /usr/local/lib/python3.6/dist-packages (from html5lib>=0.999->astroquery) (0.5.1)\n",
            "Requirement already satisfied: importlib-metadata>=1; python_version < \"3.8\" in /usr/local/lib/python3.6/dist-packages (from keyring>=4.0->astroquery) (3.4.0)\n",
            "Requirement already satisfied: jeepney>=0.4.2; sys_platform == \"linux\" in /usr/local/lib/python3.6/dist-packages (from keyring>=4.0->astroquery) (0.6.0)\n",
            "Requirement already satisfied: SecretStorage>=3.2; sys_platform == \"linux\" in /usr/local/lib/python3.6/dist-packages (from keyring>=4.0->astroquery) (3.3.1)\n",
            "Requirement already satisfied: zipp>=0.5 in /usr/local/lib/python3.6/dist-packages (from importlib-metadata>=1; python_version < \"3.8\"->keyring>=4.0->astroquery) (3.4.0)\n",
            "Requirement already satisfied: typing-extensions>=3.6.4; python_version < \"3.8\" in /usr/local/lib/python3.6/dist-packages (from importlib-metadata>=1; python_version < \"3.8\"->keyring>=4.0->astroquery) (3.7.4.3)\n",
            "Requirement already satisfied: cryptography>=2.0 in /usr/local/lib/python3.6/dist-packages (from SecretStorage>=3.2; sys_platform == \"linux\"->keyring>=4.0->astroquery) (3.4.6)\n",
            "Requirement already satisfied: cffi>=1.12 in /usr/local/lib/python3.6/dist-packages (from cryptography>=2.0->SecretStorage>=3.2; sys_platform == \"linux\"->keyring>=4.0->astroquery) (1.14.4)\n",
            "Requirement already satisfied: pycparser in /usr/local/lib/python3.6/dist-packages (from cffi>=1.12->cryptography>=2.0->SecretStorage>=3.2; sys_platform == \"linux\"->keyring>=4.0->astroquery) (2.20)\n",
            "Requirement already satisfied: matplotlib in /usr/local/lib/python3.6/dist-packages (3.2.2)\n",
            "Requirement already satisfied: kiwisolver>=1.0.1 in /usr/local/lib/python3.6/dist-packages (from matplotlib) (1.3.1)\n",
            "Requirement already satisfied: numpy>=1.11 in /usr/local/lib/python3.6/dist-packages (from matplotlib) (1.19.5)\n",
            "Requirement already satisfied: python-dateutil>=2.1 in /usr/local/lib/python3.6/dist-packages (from matplotlib) (2.8.1)\n",
            "Requirement already satisfied: pyparsing!=2.0.4,!=2.1.2,!=2.1.6,>=2.0.1 in /usr/local/lib/python3.6/dist-packages (from matplotlib) (2.4.7)\n",
            "Requirement already satisfied: cycler>=0.10 in /usr/local/lib/python3.6/dist-packages (from matplotlib) (0.10.0)\n",
            "Requirement already satisfied: six>=1.5 in /usr/local/lib/python3.6/dist-packages (from python-dateutil>=2.1->matplotlib) (1.15.0)\n",
            "Requirement already satisfied: numpy in /usr/local/lib/python3.6/dist-packages (1.19.5)\n",
            "Requirement already satisfied: scipy in /usr/local/lib/python3.6/dist-packages (1.4.1)\n",
            "Requirement already satisfied: numpy>=1.13.3 in /usr/local/lib/python3.6/dist-packages (from scipy) (1.19.5)\n",
            "Requirement already satisfied: pandas in /usr/local/lib/python3.6/dist-packages (1.1.5)\n",
            "Requirement already satisfied: numpy>=1.15.4 in /usr/local/lib/python3.6/dist-packages (from pandas) (1.19.5)\n",
            "Requirement already satisfied: pytz>=2017.2 in /usr/local/lib/python3.6/dist-packages (from pandas) (2018.9)\n",
            "Requirement already satisfied: python-dateutil>=2.7.3 in /usr/local/lib/python3.6/dist-packages (from pandas) (2.8.1)\n",
            "Requirement already satisfied: six>=1.5 in /usr/local/lib/python3.6/dist-packages (from python-dateutil>=2.7.3->pandas) (1.15.0)\n",
            "Requirement already satisfied: tensorflow in /usr/local/lib/python3.6/dist-packages (2.4.1)\n",
            "Requirement already satisfied: opt-einsum~=3.3.0 in /usr/local/lib/python3.6/dist-packages (from tensorflow) (3.3.0)\n",
            "Requirement already satisfied: six~=1.15.0 in /usr/local/lib/python3.6/dist-packages (from tensorflow) (1.15.0)\n",
            "Requirement already satisfied: grpcio~=1.32.0 in /usr/local/lib/python3.6/dist-packages (from tensorflow) (1.32.0)\n",
            "Requirement already satisfied: keras-preprocessing~=1.1.2 in /usr/local/lib/python3.6/dist-packages (from tensorflow) (1.1.2)\n",
            "Requirement already satisfied: gast==0.3.3 in /usr/local/lib/python3.6/dist-packages (from tensorflow) (0.3.3)\n",
            "Requirement already satisfied: wheel~=0.35 in /usr/local/lib/python3.6/dist-packages (from tensorflow) (0.36.2)\n",
            "Requirement already satisfied: tensorboard~=2.4 in /usr/local/lib/python3.6/dist-packages (from tensorflow) (2.4.1)\n",
            "Requirement already satisfied: flatbuffers~=1.12.0 in /usr/local/lib/python3.6/dist-packages (from tensorflow) (1.12)\n",
            "Requirement already satisfied: astunparse~=1.6.3 in /usr/local/lib/python3.6/dist-packages (from tensorflow) (1.6.3)\n",
            "Requirement already satisfied: google-pasta~=0.2 in /usr/local/lib/python3.6/dist-packages (from tensorflow) (0.2.0)\n",
            "Requirement already satisfied: typing-extensions~=3.7.4 in /usr/local/lib/python3.6/dist-packages (from tensorflow) (3.7.4.3)\n",
            "Requirement already satisfied: protobuf>=3.9.2 in /usr/local/lib/python3.6/dist-packages (from tensorflow) (3.12.4)\n",
            "Requirement already satisfied: wrapt~=1.12.1 in /usr/local/lib/python3.6/dist-packages (from tensorflow) (1.12.1)\n",
            "Requirement already satisfied: numpy~=1.19.2 in /usr/local/lib/python3.6/dist-packages (from tensorflow) (1.19.5)\n",
            "Requirement already satisfied: tensorflow-estimator<2.5.0,>=2.4.0 in /usr/local/lib/python3.6/dist-packages (from tensorflow) (2.4.0)\n",
            "Requirement already satisfied: h5py~=2.10.0 in /usr/local/lib/python3.6/dist-packages (from tensorflow) (2.10.0)\n",
            "Requirement already satisfied: absl-py~=0.10 in /usr/local/lib/python3.6/dist-packages (from tensorflow) (0.10.0)\n",
            "Requirement already satisfied: termcolor~=1.1.0 in /usr/local/lib/python3.6/dist-packages (from tensorflow) (1.1.0)\n",
            "Requirement already satisfied: google-auth<2,>=1.6.3 in /usr/local/lib/python3.6/dist-packages (from tensorboard~=2.4->tensorflow) (1.25.0)\n",
            "Requirement already satisfied: werkzeug>=0.11.15 in /usr/local/lib/python3.6/dist-packages (from tensorboard~=2.4->tensorflow) (1.0.1)\n",
            "Requirement already satisfied: google-auth-oauthlib<0.5,>=0.4.1 in /usr/local/lib/python3.6/dist-packages (from tensorboard~=2.4->tensorflow) (0.4.2)\n",
            "Requirement already satisfied: markdown>=2.6.8 in /usr/local/lib/python3.6/dist-packages (from tensorboard~=2.4->tensorflow) (3.3.3)\n",
            "Requirement already satisfied: requests<3,>=2.21.0 in /usr/local/lib/python3.6/dist-packages (from tensorboard~=2.4->tensorflow) (2.25.1)\n",
            "Requirement already satisfied: tensorboard-plugin-wit>=1.6.0 in /usr/local/lib/python3.6/dist-packages (from tensorboard~=2.4->tensorflow) (1.8.0)\n",
            "Requirement already satisfied: setuptools>=41.0.0 in /usr/local/lib/python3.6/dist-packages (from tensorboard~=2.4->tensorflow) (53.0.0)\n",
            "Requirement already satisfied: cachetools<5.0,>=2.0.0 in /usr/local/lib/python3.6/dist-packages (from google-auth<2,>=1.6.3->tensorboard~=2.4->tensorflow) (4.2.1)\n",
            "Requirement already satisfied: pyasn1-modules>=0.2.1 in /usr/local/lib/python3.6/dist-packages (from google-auth<2,>=1.6.3->tensorboard~=2.4->tensorflow) (0.2.8)\n",
            "Requirement already satisfied: rsa<5,>=3.1.4; python_version >= \"3.6\" in /usr/local/lib/python3.6/dist-packages (from google-auth<2,>=1.6.3->tensorboard~=2.4->tensorflow) (4.7)\n",
            "Requirement already satisfied: requests-oauthlib>=0.7.0 in /usr/local/lib/python3.6/dist-packages (from google-auth-oauthlib<0.5,>=0.4.1->tensorboard~=2.4->tensorflow) (1.3.0)\n",
            "Requirement already satisfied: importlib-metadata; python_version < \"3.8\" in /usr/local/lib/python3.6/dist-packages (from markdown>=2.6.8->tensorboard~=2.4->tensorflow) (3.4.0)\n",
            "Requirement already satisfied: certifi>=2017.4.17 in /usr/local/lib/python3.6/dist-packages (from requests<3,>=2.21.0->tensorboard~=2.4->tensorflow) (2020.12.5)\n",
            "Requirement already satisfied: idna<3,>=2.5 in /usr/local/lib/python3.6/dist-packages (from requests<3,>=2.21.0->tensorboard~=2.4->tensorflow) (2.10)\n",
            "Requirement already satisfied: urllib3<1.27,>=1.21.1 in /usr/local/lib/python3.6/dist-packages (from requests<3,>=2.21.0->tensorboard~=2.4->tensorflow) (1.24.3)\n",
            "Requirement already satisfied: chardet<5,>=3.0.2 in /usr/local/lib/python3.6/dist-packages (from requests<3,>=2.21.0->tensorboard~=2.4->tensorflow) (3.0.4)\n",
            "Requirement already satisfied: pyasn1<0.5.0,>=0.4.6 in /usr/local/lib/python3.6/dist-packages (from pyasn1-modules>=0.2.1->google-auth<2,>=1.6.3->tensorboard~=2.4->tensorflow) (0.4.8)\n",
            "Requirement already satisfied: oauthlib>=3.0.0 in /usr/local/lib/python3.6/dist-packages (from requests-oauthlib>=0.7.0->google-auth-oauthlib<0.5,>=0.4.1->tensorboard~=2.4->tensorflow) (3.1.0)\n",
            "Requirement already satisfied: zipp>=0.5 in /usr/local/lib/python3.6/dist-packages (from importlib-metadata; python_version < \"3.8\"->markdown>=2.6.8->tensorboard~=2.4->tensorflow) (3.4.0)\n",
            "Requirement already satisfied: astropy in /usr/local/lib/python3.6/dist-packages (4.1)\n",
            "Requirement already satisfied: numpy>=1.16 in /usr/local/lib/python3.6/dist-packages (from astropy) (1.19.5)\n"
          ],
          "name": "stdout"
        }
      ]
    },
    {
      "cell_type": "code",
      "metadata": {
        "id": "7shLojBNXI3W"
      },
      "source": [
        "import lightkurve as lk\n",
        "from astropy.io import fits\n",
        "from matplotlib import pyplot as plt\n",
        "import numpy as np\n",
        "from sklearn.model_selection import train_test_split\n",
        "from sklearn.linear_model import LinearRegression\n",
        "from sklearn.metrics import r2_score, mean_squared_error, mean_absolute_error\n",
        "import math\n",
        "import scipy\n",
        "import pandas as pd \n",
        "from scipy import interpolate\n",
        "#tf\n",
        "from __future__ import absolute_import, division, print_function, unicode_literals\n",
        "import tensorflow as tf\n",
        "from tensorflow import keras\n",
        "from tensorflow.keras import datasets, layers, models"
      ],
      "execution_count": 2,
      "outputs": []
    },
    {
      "cell_type": "code",
      "metadata": {
        "colab": {
          "base_uri": "https://localhost:8080/"
        },
        "id": "DLHab7V3XP4i",
        "outputId": "b0904b4d-5af3-4a81-b15c-68c7de892f26"
      },
      "source": [
        "from google.colab import drive\n",
        "drive.mount('/content/drive')"
      ],
      "execution_count": 3,
      "outputs": [
        {
          "output_type": "stream",
          "text": [
            "Mounted at /content/drive\n"
          ],
          "name": "stdout"
        }
      ]
    },
    {
      "cell_type": "code",
      "metadata": {
        "id": "5ZKcFyGfXQaX"
      },
      "source": [
        "#Cycles\n",
        "    #21\n",
        "        #cycle_21 = []\n",
        "        \n",
        "        #Start 1 March 1976\n",
        "        #End 1 September 1986\n",
        "        \n",
        "    #22\n",
        "        #cycle_22 = [2446674.5,2450296.5]\n",
        "        \n",
        "        #Start: 1 September 1986 2446674.5\n",
        "        #End: 1 August 1996 2450296.5\n",
        "        \n",
        "    #23\n",
        "cycle_23 = [2450296.5,2454801.5]\n",
        "        \n",
        "        #Start: 1 August 1996 2450296.5\n",
        "        #End: 1 December 2008 2454801.5\n",
        "        \n",
        "    #24\n",
        "cycle_24 = [2454801.5,2458940.5]\n",
        "        \n",
        "        #Start: 1 December 2008 2454801.5\n",
        "        #End: 1 May 2020 2458970.5\n",
        "        #NOTE: Due to dataset limitation, only analyzed up to 2458940.5\n",
        "        "
      ],
      "execution_count": null,
      "outputs": []
    },
    {
      "cell_type": "markdown",
      "metadata": {
        "id": "sGSkrknqYIxF"
      },
      "source": [
        "# Surface Velocity"
      ]
    },
    {
      "cell_type": "code",
      "metadata": {
        "colab": {
          "base_uri": "https://localhost:8080/"
        },
        "id": "kH9U4qZyXcsv",
        "outputId": "b78b26b0-1e67-48e4-decf-68520a70bc56"
      },
      "source": [
        "#hdul = fits.open('data/allsites-alldata-waverage-fill.fits')\n",
        "hdul = fits.open('/content/drive/MyDrive/Korea Research - Yihong Song and Rohit Prasanna/DSHS & AOS Physics Research Collaboration 2020/Project/Jr:Sr Project/Data/allsites-alldata-waverage-fill.fits')\n",
        "\n",
        "hdul.info()\n",
        "\n",
        "tsdata = hdul[0].data\n",
        "#         SIMPLE  =                    T / Written by IDL:  Tue Jan 19 11:22:20 2016      \n",
        "#         BITPIX  =                  -64 /Real*8 (double precision)                       \n",
        "#         NAXIS   =                    2 /                                                \n",
        "#         NAXIS1  =                    2 /                                                \n",
        "#         NAXIS2  =             24455519 /                                                \n",
        "DSTART =        2442778.50000 #Data start (Julian)      1/1/1976 0:00:00                        \n",
        "DEND   =        2458940.50000 #Data end (Julian)        4/1/2020 0:00:00                       \n",
        "#         STATIONS= 'na ca cb su iz la lb mo' /Stations Used                              \n",
        "#         METHOD  = 'waverage'           /Overlap Method                                  \n",
        "#         CADENCE = '40      '           /Timeseries Cadence                              \n",
        "#         N-THRES =                   80 /Noise Rejection Threshold                       \n",
        "#         GAPFILL =                    1 /GapFill                                         \n",
        "#         FILL    =             0.638866 /Duty Cycle   \n",
        "#\n",
        "#         ~2160 datapoints per day"
      ],
      "execution_count": 45,
      "outputs": [
        {
          "output_type": "stream",
          "text": [
            "Filename: /content/drive/MyDrive/Korea Research - Yihong Song and Rohit Prasanna/DSHS & AOS Physics Research Collaboration 2020/Project/Jr:Sr Project/Data/allsites-alldata-waverage-fill.fits\n",
            "No.    Name      Ver    Type      Cards   Dimensions   Format\n",
            "  0  PRIMARY       1 PrimaryHDU      15   (2, 34909918)   float64   \n"
          ],
          "name": "stdout"
        }
      ]
    },
    {
      "cell_type": "code",
      "metadata": {
        "id": "jodTHElTX93F"
      },
      "source": [
        "def getSV(cycle):\n",
        "    #Subtract starting date\n",
        "    cycle = np.subtract(cycle,DSTART)\n",
        "    \n",
        "    #multiply by 2160 (2160 datapoints per day)\n",
        "    cycle = np.multiply(cycle,2160)\n",
        "    \n",
        "    return tsdata[int(cycle[0]):int(cycle[1])].T[1]"
      ],
      "execution_count": 42,
      "outputs": []
    },
    {
      "cell_type": "code",
      "metadata": {
        "id": "kTYNLJheYDEN"
      },
      "source": [
        "def getSV_index(cycle):\n",
        "    #Subtract starting date\n",
        "    cycle = np.subtract(cycle,DSTART)\n",
        "    \n",
        "    #multiply by 2160 (2160 datapoints per day)\n",
        "    cycle = np.multiply(cycle,2160)\n",
        "    \n",
        "    return tsdata[int(cycle[0]):int(cycle[1])].T[0]"
      ],
      "execution_count": 7,
      "outputs": []
    },
    {
      "cell_type": "code",
      "metadata": {
        "colab": {
          "base_uri": "https://localhost:8080/"
        },
        "id": "y1sX2qHVYEED",
        "outputId": "538a1b9c-a73b-4efd-f710-df66d6149277"
      },
      "source": [
        "print(getSV(cycle_23))\n",
        "print(getSV_index(cycle_23))"
      ],
      "execution_count": 8,
      "outputs": [
        {
          "output_type": "stream",
          "text": [
            "[ 0.52007627  0.87248993  0.11934945 ...  0.25079036 -1.0275805\n",
            " -0.95429337]\n",
            "[2450296.50033958 2450296.50080254 2450296.50126551 ... 2454801.49915418\n",
            " 2454801.49961714 2454801.50008011]\n"
          ],
          "name": "stdout"
        }
      ]
    },
    {
      "cell_type": "markdown",
      "metadata": {
        "id": "wfFK4UnCYMwN"
      },
      "source": [
        "# Sunspot Number"
      ]
    },
    {
      "cell_type": "code",
      "metadata": {
        "id": "z-srS4JVYFLy"
      },
      "source": [
        "#sunspot_Day = np.genfromtxt('data/SN_d_tot_V2.0.csv',delimiter=';')\n",
        "sunspot_Day = np.genfromtxt('/content/drive/MyDrive/Korea Research - Yihong Song and Rohit Prasanna/DSHS & AOS Physics Research Collaboration 2020/Project/Jr:Sr Project/Data/SN_d_tot_V2.0.csv',delimiter=';')\n",
        "SNSTART_Day = 2385070.5\n",
        "SNEND_day = 2459000.5\n",
        "\n",
        "#sunspot_Month = np.genfromtxt('data/SN_ms_tot_V2.0.csv',delimiter=';')\n",
        "sunspot_Month = np.genfromtxt('/content/drive/MyDrive/Korea Research - Yihong Song and Rohit Prasanna/DSHS & AOS Physics Research Collaboration 2020/Project/Jr:Sr Project/Data/SN_ms_tot_V2.0.csv',delimiter=';')\n",
        "sunspot_Month = sunspot_Month[828:]"
      ],
      "execution_count": 9,
      "outputs": []
    },
    {
      "cell_type": "code",
      "metadata": {
        "id": "6EqN00fdYPiu"
      },
      "source": [
        "def getSN_Day(cycle):\n",
        "    if cycle[1] >= SNEND_day:\n",
        "        cycle[1] = SNEND_day\n",
        "    cycle = np.subtract(cycle, SNSTART_Day)\n",
        "    sn = sunspot_Day.T[4][int(cycle[0]):int(cycle[1])]\n",
        "    \n",
        "    npout = [[0,0]]\n",
        "    for i in range(len(sn)):\n",
        "        npout = np.append(npout,[[i+SNSTART_Day+cycle[0],sn[i]]],0)\n",
        "    npout = npout[1:]\n",
        "    return npout"
      ],
      "execution_count": 10,
      "outputs": []
    },
    {
      "cell_type": "code",
      "metadata": {
        "id": "PO-bkCcmYRFk"
      },
      "source": [
        "def getSNAverage(cycle,length):\n",
        "    \n",
        "    npout = [[0,0]]\n",
        "    total = 0\n",
        "    valid_count = 0\n",
        "    start = cycle[0][0]\n",
        "    for i in range(len(cycle)):\n",
        "        if cycle[i][1] >= 0:\n",
        "            total += cycle[i][1]\n",
        "            valid_count += 1\n",
        "        if (i+1) % length < 1 or i == len(cycle)-1:\n",
        "            if valid_count == 0:\n",
        "              npout = np.append(npout,[[start,np.average(cycle)]],0)\n",
        "            else:\n",
        "              npout = np.append(npout,[[start,total/valid_count]],0)\n",
        "            total = 0\n",
        "            valid_count = 0\n",
        "            if i == len(cycle)-1:\n",
        "                break\n",
        "            start = cycle[i+1][0]\n",
        "    npout = npout[1:]\n",
        "    return npout"
      ],
      "execution_count": 11,
      "outputs": []
    },
    {
      "cell_type": "code",
      "metadata": {
        "colab": {
          "base_uri": "https://localhost:8080/"
        },
        "id": "tA4IeAc6YSDM",
        "outputId": "03f2ed8b-9df3-4a20-80ca-bba69335c283"
      },
      "source": [
        "getSN_Day(cycle_23)"
      ],
      "execution_count": 12,
      "outputs": [
        {
          "output_type": "execute_result",
          "data": {
            "text/plain": [
              "array([[2.4502965e+06, 2.6000000e+01],\n",
              "       [2.4502975e+06, 3.1000000e+01],\n",
              "       [2.4502985e+06, 3.1000000e+01],\n",
              "       ...,\n",
              "       [2.4547985e+06, 0.0000000e+00],\n",
              "       [2.4547995e+06, 0.0000000e+00],\n",
              "       [2.4548005e+06, 0.0000000e+00]])"
            ]
          },
          "metadata": {
            "tags": []
          },
          "execution_count": 12
        }
      ]
    },
    {
      "cell_type": "code",
      "metadata": {
        "colab": {
          "base_uri": "https://localhost:8080/"
        },
        "id": "Dns0zisTYTMz",
        "outputId": "8dbf3c5c-146c-4dca-801b-77c60863e686"
      },
      "source": [
        "getSNAverage(getSN_Day(cycle_23),365)"
      ],
      "execution_count": 13,
      "outputs": [
        {
          "output_type": "execute_result",
          "data": {
            "text/plain": [
              "array([[2.45029650e+06, 1.45643836e+01],\n",
              "       [2.45066150e+06, 6.19232877e+01],\n",
              "       [2.45102650e+06, 1.21704110e+02],\n",
              "       [2.45139150e+06, 1.69175342e+02],\n",
              "       [2.45175650e+06, 1.53487671e+02],\n",
              "       [2.45212150e+06, 1.78747945e+02],\n",
              "       [2.45248650e+06, 1.29030137e+02],\n",
              "       [2.45285150e+06, 7.85397260e+01],\n",
              "       [2.45321650e+06, 5.33808219e+01],\n",
              "       [2.45358150e+06, 3.17945205e+01],\n",
              "       [2.45394650e+06, 1.95780822e+01],\n",
              "       [2.45431150e+06, 6.09041096e+00],\n",
              "       [2.45467650e+06, 2.98400000e+00]])"
            ]
          },
          "metadata": {
            "tags": []
          },
          "execution_count": 13
        }
      ]
    },
    {
      "cell_type": "markdown",
      "metadata": {
        "id": "XiwYhOmpYXsw"
      },
      "source": [
        "# Preprocessing\n"
      ]
    },
    {
      "cell_type": "code",
      "metadata": {
        "id": "2neuAkQrYZwi"
      },
      "source": [
        "def getPeriodogram(time,freq):\n",
        "    lc = lk.LightCurve(time=time.tolist(),flux=freq.tolist())\n",
        "    lc = lc.remove_nans()\n",
        "    pg = lc.to_periodogram(method='lombscargle', normalization='psd',minimum_frequency=1000, maximum_frequency=5000)\n",
        "    #ax = pg.plot()\n",
        "    pg_data = pg.to_table()\n",
        "    data = np.array(pg_data['power']).T#.tolist()\n",
        "\n",
        "\n",
        "    # pg.smooth(method='boxkernel', filter_width=1.)#.plot(ax=ax, label='Smoothed', c='red', lw=2)\n",
        "    # #ax.axvline(pg.frequency_at_max_power.value, lw=2, ls='dashed')\n",
        "    # snr = pg.flatten()\n",
        "    # seis = snr.to_seismology()\n",
        "    # numax = seis.estimate_numax()\n",
        "    # numax = float(str(numax)[0:7])\n",
        "    return data"
      ],
      "execution_count": 14,
      "outputs": []
    },
    {
      "cell_type": "code",
      "metadata": {
        "id": "xj-nwd5IYgnG"
      },
      "source": [
        "pg = getPeriodogram(getSV_index(cycle_23)[110000:120000],getSV(cycle_23)[110000:120000])"
      ],
      "execution_count": 15,
      "outputs": []
    },
    {
      "cell_type": "code",
      "metadata": {
        "colab": {
          "base_uri": "https://localhost:8080/"
        },
        "id": "dCevb53xaN-x",
        "outputId": "cb2c846d-6bcf-452b-ad4a-a3ebe66ee17f"
      },
      "source": [
        "print(pg[0:5])"
      ],
      "execution_count": 16,
      "outputs": [
        {
          "output_type": "stream",
          "text": [
            "[9.43163103e-06 9.01683009e-06 9.53623339e-05 4.53297555e-05\n",
            " 6.06767015e-05]\n"
          ],
          "name": "stdout"
        }
      ]
    },
    {
      "cell_type": "code",
      "metadata": {
        "id": "TP73XJJRxoBq"
      },
      "source": [
        "#Debug\n",
        "# time,freq,length,interval = getSV_index(cycle_23),getSV(cycle_23),182.5,91.25\n",
        "\n",
        "# length = int(length * 2160)\n",
        "# interval = int(interval * 2160)\n",
        "# #npout = [[0,0]]\n",
        "# check = True\n",
        "# for start in range(0,len(time),interval):\n",
        "#     if start + length >= len(time):\n",
        "#         length = len(time) - start\n",
        "#     if check:\n",
        "#       check = False\n",
        "#       npout1d = np.array([getPeriodogram(time[start:start+length],freq[start:start+length])])\n",
        "#     else:\n",
        "#       temp = np.array([getPeriodogram(time[start:start+length],freq[start:start+length])])\n",
        "#       if temp.size == npout1d[-1].size:\n",
        "#         npout1d = np.append(npout1d,temp,0)\n",
        "#       else:\n",
        "#         print(temp.shape,npout1d.shape)\n",
        "#     print(npout1d.shape)"
      ],
      "execution_count": 17,
      "outputs": []
    },
    {
      "cell_type": "code",
      "metadata": {
        "id": "NIBjkqCRYiNI"
      },
      "source": [
        "def tsNumax(time,freq,length,interval):\n",
        "  length = int(length * 2160)\n",
        "  interval = int(interval * 2160)\n",
        "  #npout = [[0,0]]\n",
        "  check = True\n",
        "  for start in range(0,len(time),interval):\n",
        "      if start + length >= len(time):\n",
        "          length = len(time) - start\n",
        "      if check:\n",
        "        check = False\n",
        "        npout1d = np.array([getPeriodogram(time[start:start+length],freq[start:start+length])])\n",
        "      else:\n",
        "        temp = np.array([getPeriodogram(time[start:start+length],freq[start:start+length])])\n",
        "        if temp.size == npout1d[-1].size:\n",
        "          npout1d = np.append(npout1d,temp,0)\n",
        "  return npout1d"
      ],
      "execution_count": 18,
      "outputs": []
    },
    {
      "cell_type": "code",
      "metadata": {
        "id": "4a92CSayL9Ul"
      },
      "source": [
        "#Interpolation\n",
        "def interpolate(data, smoothness):\n",
        "    from scipy import interpolate\n",
        "    x_new = np.linspace((data[0][0])-1,int(data[-1][0])+1,smoothness)\n",
        "    a_BSpline = interpolate.make_interp_spline(data.T[0],data.T[1])\n",
        "    y_new = a_BSpline(x_new)\n",
        "    return x_new,y_new"
      ],
      "execution_count": 19,
      "outputs": []
    },
    {
      "cell_type": "code",
      "metadata": {
        "id": "wPNdioKxEQZ2"
      },
      "source": [
        "numax_cycle_23_37 = tsNumax(getSV_index(cycle_23),getSV(cycle_23),182.5,37)"
      ],
      "execution_count": 21,
      "outputs": []
    },
    {
      "cell_type": "code",
      "metadata": {
        "id": "ZRAqbWg4a0kq"
      },
      "source": [
        "numax_cycle_23_182 = tsNumax(getSV_index(cycle_23),getSV(cycle_23),182.5,91.25)\n",
        "#print(numax_cycle_23)"
      ],
      "execution_count": 22,
      "outputs": []
    },
    {
      "cell_type": "code",
      "metadata": {
        "id": "QNzss0hdELgs"
      },
      "source": [
        "numax_cycle_23_365 = tsNumax(getSV_index(cycle_23),getSV(cycle_23),365,91.25)\n",
        "#print(numax_cycle_23)"
      ],
      "execution_count": null,
      "outputs": []
    },
    {
      "cell_type": "code",
      "metadata": {
        "id": "eVRCFL1aESXI"
      },
      "source": [
        "numax_cycle_24_37 = tsNumax(getSV_index(cycle_24),getSV(cycle_24),182.5,37)"
      ],
      "execution_count": 23,
      "outputs": []
    },
    {
      "cell_type": "code",
      "metadata": {
        "id": "GQmIDBUd5I9A"
      },
      "source": [
        "numax_cycle_24_182 = tsNumax(getSV_index(cycle_24),getSV(cycle_24),182.5,91.25)"
      ],
      "execution_count": 24,
      "outputs": []
    },
    {
      "cell_type": "code",
      "metadata": {
        "id": "03suygzfEMh_"
      },
      "source": [
        "numax_cycle_24_365 = tsNumax(getSV_index(cycle_24),getSV(cycle_24),365,91.25)\n",
        "#print(numax_cycle_23)"
      ],
      "execution_count": null,
      "outputs": []
    },
    {
      "cell_type": "code",
      "metadata": {
        "colab": {
          "base_uri": "https://localhost:8080/"
        },
        "id": "wtYgin1va2Vn",
        "outputId": "71767c71-57df-4a71-9daa-7114e58dd870"
      },
      "source": [
        "print(numax_cycle_23_182)"
      ],
      "execution_count": 25,
      "outputs": [
        {
          "output_type": "stream",
          "text": [
            "[[2.97696466e-05 8.19987704e-06 1.05384707e-04 ... 3.20928767e-05\n",
            "  3.64857617e-05 7.95015702e-06]\n",
            " [1.89955818e-05 4.13591288e-07 8.07475522e-05 ... 1.53489174e-05\n",
            "  3.13521866e-05 8.11285198e-06]\n",
            " [2.30028433e-05 9.34467566e-05 1.23647725e-04 ... 3.59797493e-06\n",
            "  1.25009879e-05 2.82519005e-05]\n",
            " ...\n",
            " [1.96578274e-05 4.02596243e-06 9.75902648e-05 ... 2.66164597e-06\n",
            "  4.55807005e-05 4.70582693e-05]\n",
            " [5.72381487e-06 7.66772419e-05 3.20141675e-06 ... 6.67835719e-06\n",
            "  3.86473800e-07 1.02447020e-04]\n",
            " [5.38898835e-05 1.23581167e-05 6.63245233e-05 ... 6.38514917e-06\n",
            "  7.26191132e-05 6.05639946e-05]]\n"
          ],
          "name": "stdout"
        }
      ]
    },
    {
      "cell_type": "markdown",
      "metadata": {
        "id": "hHLqwfqqwg1A"
      },
      "source": [
        "# LOI Data"
      ]
    },
    {
      "cell_type": "code",
      "metadata": {
        "colab": {
          "base_uri": "https://localhost:8080/"
        },
        "id": "TfzUzUXYjUPy",
        "outputId": "f6c6f50c-58f7-4140-e07f-f78f84ebe59a"
      },
      "source": [
        "#hdul = fits.open('data/allsites-alldata-waverage-fill.fits')\n",
        "hdul = fits.open('/content/drive/MyDrive/Korea Research - Yihong Song and Rohit Prasanna/DSHS & AOS Physics Research Collaboration 2020/Project/Jr:Sr Project/Data/ts_loi.fits')\n",
        "\n",
        "hdul.info()\n",
        "\n",
        "loidata = hdul[0].data\n",
        "\n",
        "# variations at at most 2000 ppm\n",
        "# cadence: 60s\n",
        "LOI_DSTART =        2450174.50000 #Data start (Julian)      1 April 1996 0:00:00                        \n",
        "LOI_DEND   =        2458589.50000 #Data end (Julian)        15 April 2019 0:00:00  \n",
        "\n",
        "#    #23\n",
        "# cycle_23 = [2450296.5,2454801.5]\n",
        "        \n",
        "#         #Start: 1 August 1996 2450296.5\n",
        "#         #End: 1 December 2008 2454801.5\n",
        "        \n",
        "#     #24\n",
        "# cycle_24 = [2454801.5,2458940.5]\n",
        "        \n",
        "#         #Start: 1 December 2008 2454801.5\n",
        "#         #End: 1 May 2020 2458970.5\n"
      ],
      "execution_count": 70,
      "outputs": [
        {
          "output_type": "stream",
          "text": [
            "Filename: /content/drive/MyDrive/Korea Research - Yihong Song and Rohit Prasanna/DSHS & AOS Physics Research Collaboration 2020/Project/Jr:Sr Project/Data/ts_loi.fits\n",
            "No.    Name      Ver    Type      Cards   Dimensions   Format\n",
            "  0  PRIMARY       1 PrimaryHDU       8   (12117600,)   float64   \n"
          ],
          "name": "stdout"
        }
      ]
    },
    {
      "cell_type": "code",
      "metadata": {
        "colab": {
          "base_uri": "https://localhost:8080/"
        },
        "id": "uHCmINHo6QK7",
        "outputId": "8c859cb1-2acb-44fa-b732-79fc8b843a04"
      },
      "source": [
        "#Prepare LOI\n",
        "loidatax = np.arange(LOI_DSTART,LOI_DEND,1/1440)\n",
        "print(len(loidatax))\n",
        "loifull = np.append([loidatax],[loidata],0).T\n",
        "print(loifull.shape)\n",
        "print(loifull[200000])"
      ],
      "execution_count": 86,
      "outputs": [
        {
          "output_type": "stream",
          "text": [
            "12117600\n",
            "(12117600, 2)\n",
            "[ 2.45031339e+06 -2.10748728e-04]\n"
          ],
          "name": "stdout"
        }
      ]
    },
    {
      "cell_type": "code",
      "metadata": {
        "id": "gL2HRaqwwfiB"
      },
      "source": [
        "def getLOI(cycle):\n",
        "    #Subtract starting date\n",
        "    cycle = np.subtract(cycle,LOI_DSTART)\n",
        "    \n",
        "    #multiply by 1440 (1440 datapoints per day)\n",
        "    cycle = np.multiply(cycle,1440)\n",
        "    \n",
        "    return loifull[int(cycle[0]):int(cycle[1])]"
      ],
      "execution_count": 87,
      "outputs": []
    },
    {
      "cell_type": "code",
      "metadata": {
        "colab": {
          "base_uri": "https://localhost:8080/"
        },
        "id": "954SaYQ15IcP",
        "outputId": "5e15cd05-6ae5-4e20-c993-45c40d353538"
      },
      "source": [
        "print(getLOI([2450174.5,2458590.5]).shape)"
      ],
      "execution_count": 89,
      "outputs": [
        {
          "output_type": "stream",
          "text": [
            "(12117600, 2)\n"
          ],
          "name": "stdout"
        }
      ]
    },
    {
      "cell_type": "code",
      "metadata": {
        "id": "He1ZGBjr5RW0"
      },
      "source": [
        "def tsLOI(time,freq,length,interval):\n",
        "  length = int(length * 1440)\n",
        "  interval = int(interval * 1440)\n",
        "  #npout = [[0,0]]\n",
        "  check = True\n",
        "  for start in range(0,len(time),interval):\n",
        "      if start + length >= len(time):\n",
        "          length = len(time) - start\n",
        "      if check:\n",
        "        check = False\n",
        "        npout1d = np.array([getPeriodogram(time[start:start+length],freq[start:start+length])])\n",
        "      else:\n",
        "        temp = np.array([getPeriodogram(time[start:start+length],freq[start:start+length])])\n",
        "        if temp.size == npout1d[-1].size:\n",
        "          npout1d = np.append(npout1d,temp,0)\n",
        "  return npout1d"
      ],
      "execution_count": 95,
      "outputs": []
    },
    {
      "cell_type": "code",
      "metadata": {
        "id": "6cPu7sNH8sbI"
      },
      "source": [
        "LOI_37 = tsLOI(getLOI([2450174.5,2458590.5]).T[0],getLOI([2450174.5,2458590.5]).T[1],182.5,37)"
      ],
      "execution_count": 96,
      "outputs": []
    },
    {
      "cell_type": "code",
      "metadata": {
        "colab": {
          "base_uri": "https://localhost:8080/"
        },
        "id": "ubXk1-AO8-rF",
        "outputId": "9142c1a3-52b1-48f3-90dd-f569bd3d81ae"
      },
      "source": [
        "print(LOI_37.shape)"
      ],
      "execution_count": 97,
      "outputs": [
        {
          "output_type": "stream",
          "text": [
            "(223, 63072)\n"
          ],
          "name": "stdout"
        }
      ]
    },
    {
      "cell_type": "code",
      "metadata": {
        "colab": {
          "base_uri": "https://localhost:8080/"
        },
        "id": "kGTMt2ApAT7H",
        "outputId": "4335b39b-c3c5-401f-f0c2-8228899d3939"
      },
      "source": [
        "print(LOI_37)"
      ],
      "execution_count": 102,
      "outputs": [
        {
          "output_type": "stream",
          "text": [
            "[[6.75599211e-13 5.43055508e-13 4.43217376e-13 ... 4.73805527e-14\n",
            "  2.35625347e-13 2.27213386e-14]\n",
            " [4.02580820e-13 1.03647820e-12 1.17410627e-12 ... 2.65607532e-14\n",
            "  1.68967253e-13 4.45083666e-14]\n",
            " [6.62265043e-13 3.48913102e-13 1.77244515e-14 ... 1.37647139e-13\n",
            "  3.24254467e-14 1.35503333e-13]\n",
            " ...\n",
            " [2.74580889e-13 5.29345242e-13 4.98513844e-13 ... 1.11057776e-14\n",
            "  1.66136463e-14 5.00461954e-15]\n",
            " [5.27712795e-15 2.09883300e-13 3.47817820e-13 ... 2.48603102e-15\n",
            "  1.85339429e-15 2.17779476e-14]\n",
            " [5.24297422e-13 5.13445652e-13 5.73860651e-14 ... 6.12175773e-15\n",
            "  1.70744863e-14 7.05726588e-15]]\n"
          ],
          "name": "stdout"
        }
      ]
    },
    {
      "cell_type": "markdown",
      "metadata": {
        "id": "xnTl7YNPcPRl"
      },
      "source": [
        "# SN"
      ]
    },
    {
      "cell_type": "code",
      "metadata": {
        "colab": {
          "base_uri": "https://localhost:8080/",
          "height": 312
        },
        "id": "H7C0UBPqb5sn",
        "outputId": "22b22922-c822-44e3-dffb-e8711b6ea2f4"
      },
      "source": [
        "data_SN = getSNAverage(np.ma.masked_equal(getSN_Day(cycle_23),0),37)\n",
        "datax_SN = data_SN.T[0] #np.subtract(data_SN.T[0],200)\n",
        "datay_SN = data_SN.T[1]\n",
        "\n",
        "plt.xlabel('Time (BJD)')\n",
        "plt.title('Numax and Sunspot Number vs. Time - Cycle 24')\n",
        "\n",
        "#Axis 1\n",
        "plt.autoscale(enable=True, axis='both', tight=None)\n",
        "plt.scatter(datax_SN,datay_SN, s = 10, c='blue', alpha=0.5)\n",
        "plt.show()\n",
        "print(data_SN.size)\n"
      ],
      "execution_count": 26,
      "outputs": [
        {
          "output_type": "display_data",
          "data": {
            "image/png": "[encoded data removed]",
            "text/plain": [
              "<Figure size 432x288 with 1 Axes>"
            ]
          },
          "metadata": {
            "tags": [],
            "needs_background": "light"
          }
        },
        {
          "output_type": "stream",
          "text": [
            "244\n"
          ],
          "name": "stdout"
        }
      ]
    },
    {
      "cell_type": "code",
      "metadata": {
        "colab": {
          "base_uri": "https://localhost:8080/"
        },
        "id": "alk3QHltcRFe",
        "outputId": "18dbdb8a-abe4-4629-d7f5-964699600465"
      },
      "source": [
        "train_x = numax_cycle_23_37\n",
        "train_y_pre = datay_SN[:-5]\n",
        "print(train_y_pre)\n",
        "print(train_x.shape, train_y_pre.shape)\n",
        "#train_x = np.reshape(train_x, (-1, 2160))\n",
        "print(train_x.shape)\n",
        "print(train_x)\n",
        "\n",
        "# normalize\n",
        "max = float(np.max(train_y_pre))\n",
        "train_y = np.divide(train_y_pre,max)\n",
        "print(np.max(train_y),train_y.shape)\n",
        "\n",
        "#Train-test set\n",
        "train_test_x = numax_cycle_24_37\n",
        "train_test_y = getSNAverage(np.ma.masked_equal(getSN_Day(cycle_24),0),37)[:-5].T[1]\n",
        "print(train_test_x.shape,train_test_y.shape)"
      ],
      "execution_count": 27,
      "outputs": [
        {
          "output_type": "stream",
          "text": [
            "[ 19.52941176  18.5         18.07692308  32.26666667  12.78947368\n",
            "  20.42105263  27.16666667  23.2         24.19444444  19.5\n",
            "  52.91666667  42.16216216  45.41666667  53.54054054  45.70588235\n",
            "  63.83783784  87.27027027  65.94594595  92.64864865  97.40540541\n",
            " 126.54054054 104.64864865  86.97297297 115.32432432  74.56756757\n",
            " 126.51351351  86.37837838 145.83783784 204.86486486 157.32432432\n",
            " 129.16216216 141.32432432 181.40540541 112.56756757 153.78378378\n",
            " 194.54054054 203.7027027  160.72972973 213.56756757 226.78378378\n",
            " 146.51351351 150.48648649 147.13513514 156.18918919 130.18918919\n",
            " 142.21621622 171.81081081 150.75675676 169.97297297 147.54054054\n",
            " 223.32432432 192.94594595 189.32432432 196.13513514 175.62162162\n",
            " 152.83783784 195.16216216 164.18918919 116.10810811 195.78378378\n",
            " 174.48648649 169.59459459 138.67567568 126.91891892  84.13513514\n",
            " 103.94594595  93.21621622 100.72972973 132.45945946 107.86486486\n",
            "  78.64864865  82.64864865  94.94594595  60.58333333  69.48648649\n",
            "  72.37837838  65.54054054  73.59459459  77.24324324  65.02702703\n",
            "  44.05714286  95.59459459  34.83783784  44.7027027   42.13888889\n",
            "  43.54054054  51.64864865  59.47222222  71.20588235  48.24324324\n",
            "  28.72222222  25.76666667  54.48648649  22.21428571  14.95238095\n",
            "  42.97142857  43.45454545  31.5         20.61290323  28.57142857\n",
            "  20.79310345  36.15625     32.96551724  25.82857143  18.85\n",
            "  13.46153846  25.09090909  26.42307692  18.73913043  14.75\n",
            "  15.33333333  14.36363636  24.82608696  11.66666667  17.72727273\n",
            "  25.76470588  14.6       ]\n",
            "(117, 63072) (117,)\n",
            "(117, 63072)\n",
            "[[2.97696466e-05 8.19987704e-06 1.05384707e-04 ... 3.20928767e-05\n",
            "  3.64857617e-05 7.95015702e-06]\n",
            " [1.07202266e-05 2.83683463e-06 5.94144656e-05 ... 2.89363698e-05\n",
            "  4.35436937e-05 8.50935487e-06]\n",
            " [1.72897600e-05 8.40387531e-07 6.51667962e-05 ... 2.43125107e-05\n",
            "  4.50207131e-05 2.83999930e-06]\n",
            " ...\n",
            " [3.38958581e-05 3.23911170e-05 3.75300672e-06 ... 3.73555823e-05\n",
            "  2.70621422e-05 5.70845298e-05]\n",
            " [7.24643834e-05 8.29724122e-06 5.17779539e-05 ... 2.55449402e-06\n",
            "  3.02395369e-05 2.62616957e-05]\n",
            " [5.81281525e-05 1.48872068e-05 6.78919835e-05 ... 3.73952765e-06\n",
            "  6.05977285e-05 4.74009161e-05]]\n",
            "1.0 (117,)\n",
            "(107, 63072) (107,)\n"
          ],
          "name": "stdout"
        }
      ]
    },
    {
      "cell_type": "code",
      "metadata": {
        "colab": {
          "base_uri": "https://localhost:8080/"
        },
        "id": "NMJn0fPZcf2B",
        "outputId": "b12ffdfe-6de5-49cb-c39a-9ccafd8c6c8b"
      },
      "source": [
        "tf.test.gpu_device_name()\n",
        "keras.backend.clear_session()\n",
        "# model = models.Sequential()\n",
        "\n",
        "# model.add(layers.Conv1D(1024, 1, activation='relu',batch_input_shape=train_x.shape))\n",
        "# model.add(layers.Dense(128))\n",
        "# model.add(layers.Conv1D(32, 1, activation='relu'))\n",
        "# model.add(layers.Dense(1,activation=\"sigmoid\"))\n",
        "\n",
        "# model.summary()\n",
        "\n",
        "model = models.Sequential()\n",
        "#model.add(layers.Conv1D(filters=16, kernel_size=1, activation='relu', batch_input_shape=(train_x.shape)))\n",
        "\n",
        "#model.add(layers.Embedding(input_dim=64, output_dim=16))\n",
        "model.add(layers.Dense(1024, activation='relu', input_shape=(train_x.shape)))\n",
        "model.add(layers.Dense(512, activation='relu'))\n",
        "model.add(layers.Dense(128, activation='relu'))\n",
        "model.add(layers.Dense(16, activation='relu'))\n",
        "model.add(layers.Dense(1))\n",
        "model.summary()"
      ],
      "execution_count": 28,
      "outputs": [
        {
          "output_type": "stream",
          "text": [
            "Model: \"sequential\"\n",
            "_________________________________________________________________\n",
            "Layer (type)                 Output Shape              Param #   \n",
            "=================================================================\n",
            "dense (Dense)                (None, 117, 1024)         64586752  \n",
            "_________________________________________________________________\n",
            "dense_1 (Dense)              (None, 117, 512)          524800    \n",
            "_________________________________________________________________\n",
            "dense_2 (Dense)              (None, 117, 128)          65664     \n",
            "_________________________________________________________________\n",
            "dense_3 (Dense)              (None, 117, 16)           2064      \n",
            "_________________________________________________________________\n",
            "dense_4 (Dense)              (None, 117, 1)            17        \n",
            "=================================================================\n",
            "Total params: 65,179,297\n",
            "Trainable params: 65,179,297\n",
            "Non-trainable params: 0\n",
            "_________________________________________________________________\n"
          ],
          "name": "stdout"
        }
      ]
    },
    {
      "cell_type": "code",
      "metadata": {
        "id": "qS2YU2JFc4y2"
      },
      "source": [
        "# model.compile(optimizer='adam',\n",
        "#              loss='binary_crossentropy',\n",
        "#              metrics=['accuracy'])\n",
        "model.compile(optimizer='adam', loss='mse', metrics=['accuracy'])"
      ],
      "execution_count": 29,
      "outputs": []
    },
    {
      "cell_type": "code",
      "metadata": {
        "colab": {
          "base_uri": "https://localhost:8080/"
        },
        "id": "ffIxg9adc69j",
        "outputId": "2069be60-9f76-4ba3-9433-5b64fd60a96c"
      },
      "source": [
        "history = model.fit(train_x, train_y, epochs=30,\n",
        "                   validation_data=(train_test_x, train_test_y))"
      ],
      "execution_count": 30,
      "outputs": [
        {
          "output_type": "stream",
          "text": [
            "Epoch 1/30\n",
            "WARNING:tensorflow:Model was constructed with shape (None, 117, 63072) for input KerasTensor(type_spec=TensorSpec(shape=(None, 117, 63072), dtype=tf.float32, name='dense_input'), name='dense_input', description=\"created by layer 'dense_input'\"), but it was called on an input with incompatible shape (None, 63072).\n",
            "WARNING:tensorflow:Model was constructed with shape (None, 117, 63072) for input KerasTensor(type_spec=TensorSpec(shape=(None, 117, 63072), dtype=tf.float32, name='dense_input'), name='dense_input', description=\"created by layer 'dense_input'\"), but it was called on an input with incompatible shape (None, 63072).\n",
            "4/4 [==============================] - ETA: 0s - loss: 0.1798 - accuracy: 0.0000e+00WARNING:tensorflow:Model was constructed with shape (None, 117, 63072) for input KerasTensor(type_spec=TensorSpec(shape=(None, 117, 63072), dtype=tf.float32, name='dense_input'), name='dense_input', description=\"created by layer 'dense_input'\"), but it was called on an input with incompatible shape (None, 63072).\n",
            "4/4 [==============================] - 4s 687ms/step - loss: 0.1753 - accuracy: 0.0000e+00 - val_loss: 4252.8833 - val_accuracy: 0.0000e+00\n",
            "Epoch 2/30\n",
            "4/4 [==============================] - 2s 612ms/step - loss: 0.1000 - accuracy: 0.0149 - val_loss: 4282.7012 - val_accuracy: 0.0000e+00\n",
            "Epoch 3/30\n",
            "4/4 [==============================] - 2s 605ms/step - loss: 0.0775 - accuracy: 0.0000e+00 - val_loss: 4275.3203 - val_accuracy: 0.0000e+00\n",
            "Epoch 4/30\n",
            "4/4 [==============================] - 2s 592ms/step - loss: 0.0652 - accuracy: 0.0034 - val_loss: 4260.5415 - val_accuracy: 0.0000e+00\n",
            "Epoch 5/30\n",
            "4/4 [==============================] - 2s 610ms/step - loss: 0.0516 - accuracy: 0.0086 - val_loss: 4275.9097 - val_accuracy: 0.0000e+00\n",
            "Epoch 6/30\n",
            "4/4 [==============================] - 2s 600ms/step - loss: 0.0355 - accuracy: 0.0055 - val_loss: 4269.3652 - val_accuracy: 0.0000e+00\n",
            "Epoch 7/30\n",
            "4/4 [==============================] - 2s 597ms/step - loss: 0.0162 - accuracy: 0.0086 - val_loss: 4268.1714 - val_accuracy: 0.0000e+00\n",
            "Epoch 8/30\n",
            "4/4 [==============================] - 2s 592ms/step - loss: 0.0055 - accuracy: 0.0086 - val_loss: 4275.3911 - val_accuracy: 0.0000e+00\n",
            "Epoch 9/30\n",
            "4/4 [==============================] - 2s 590ms/step - loss: 0.0056 - accuracy: 0.0149 - val_loss: 4274.0977 - val_accuracy: 0.0000e+00\n",
            "Epoch 10/30\n",
            "4/4 [==============================] - 2s 602ms/step - loss: 0.0053 - accuracy: 0.0055 - val_loss: 4278.9619 - val_accuracy: 0.0000e+00\n",
            "Epoch 11/30\n",
            "4/4 [==============================] - 2s 599ms/step - loss: 0.0044 - accuracy: 0.0086 - val_loss: 4272.3403 - val_accuracy: 0.0000e+00\n",
            "Epoch 12/30\n",
            "4/4 [==============================] - 2s 602ms/step - loss: 0.0038 - accuracy: 0.0055 - val_loss: 4275.5562 - val_accuracy: 0.0000e+00\n",
            "Epoch 13/30\n",
            "4/4 [==============================] - 2s 590ms/step - loss: 0.0032 - accuracy: 0.0034 - val_loss: 4271.7139 - val_accuracy: 0.0000e+00\n",
            "Epoch 14/30\n",
            "4/4 [==============================] - 2s 604ms/step - loss: 0.0034 - accuracy: 0.0055 - val_loss: 4277.8267 - val_accuracy: 0.0000e+00\n",
            "Epoch 15/30\n",
            "4/4 [==============================] - 2s 595ms/step - loss: 0.0033 - accuracy: 0.0149 - val_loss: 4272.7241 - val_accuracy: 0.0000e+00\n",
            "Epoch 16/30\n",
            "4/4 [==============================] - 2s 603ms/step - loss: 0.0030 - accuracy: 0.0149 - val_loss: 4277.8032 - val_accuracy: 0.0000e+00\n",
            "Epoch 17/30\n",
            "4/4 [==============================] - 2s 591ms/step - loss: 0.0026 - accuracy: 0.0086 - val_loss: 4273.4067 - val_accuracy: 0.0000e+00\n",
            "Epoch 18/30\n",
            "4/4 [==============================] - 2s 607ms/step - loss: 0.0014 - accuracy: 0.0055 - val_loss: 4275.7065 - val_accuracy: 0.0000e+00\n",
            "Epoch 19/30\n",
            "4/4 [==============================] - 2s 599ms/step - loss: 0.0015 - accuracy: 0.0086 - val_loss: 4275.1987 - val_accuracy: 0.0000e+00\n",
            "Epoch 20/30\n",
            "4/4 [==============================] - 2s 602ms/step - loss: 0.0011 - accuracy: 0.0055 - val_loss: 4275.7725 - val_accuracy: 0.0000e+00\n",
            "Epoch 21/30\n",
            "4/4 [==============================] - 2s 599ms/step - loss: 0.0011 - accuracy: 0.0055 - val_loss: 4275.4395 - val_accuracy: 0.0000e+00\n",
            "Epoch 22/30\n",
            "4/4 [==============================] - 2s 592ms/step - loss: 9.9118e-04 - accuracy: 0.0034 - val_loss: 4274.9512 - val_accuracy: 0.0000e+00\n",
            "Epoch 23/30\n",
            "4/4 [==============================] - 2s 601ms/step - loss: 7.0496e-04 - accuracy: 0.0034 - val_loss: 4275.7300 - val_accuracy: 0.0000e+00\n",
            "Epoch 24/30\n",
            "4/4 [==============================] - 2s 591ms/step - loss: 7.2735e-04 - accuracy: 0.0086 - val_loss: 4277.4731 - val_accuracy: 0.0000e+00\n",
            "Epoch 25/30\n",
            "4/4 [==============================] - 2s 598ms/step - loss: 8.2020e-04 - accuracy: 0.0086 - val_loss: 4272.5991 - val_accuracy: 0.0000e+00\n",
            "Epoch 26/30\n",
            "4/4 [==============================] - 2s 594ms/step - loss: 0.0012 - accuracy: 0.0149 - val_loss: 4278.3687 - val_accuracy: 0.0000e+00\n",
            "Epoch 27/30\n",
            "4/4 [==============================] - 2s 602ms/step - loss: 6.9119e-04 - accuracy: 0.0086 - val_loss: 4274.0679 - val_accuracy: 0.0000e+00\n",
            "Epoch 28/30\n",
            "4/4 [==============================] - 2s 601ms/step - loss: 4.7992e-04 - accuracy: 0.0034 - val_loss: 4276.5649 - val_accuracy: 0.0000e+00\n",
            "Epoch 29/30\n",
            "4/4 [==============================] - 2s 602ms/step - loss: 4.4105e-04 - accuracy: 0.0055 - val_loss: 4276.5859 - val_accuracy: 0.0000e+00\n",
            "Epoch 30/30\n",
            "4/4 [==============================] - 2s 599ms/step - loss: 3.9280e-04 - accuracy: 0.0086 - val_loss: 4274.6016 - val_accuracy: 0.0000e+00\n"
          ],
          "name": "stdout"
        }
      ]
    },
    {
      "cell_type": "code",
      "metadata": {
        "id": "XNm1Qq7Bc9rJ"
      },
      "source": [
        "pred_y = model.predict(train_x)"
      ],
      "execution_count": 149,
      "outputs": []
    },
    {
      "cell_type": "code",
      "metadata": {
        "colab": {
          "base_uri": "https://localhost:8080/"
        },
        "id": "k4ne-vcH19Qp",
        "outputId": "a42c209f-1570-475b-c8b8-044e4f3e6156"
      },
      "source": [
        "pred_y = pred_y.reshape(-1)\n",
        "#pred_y = np.multiply(pred_y,353.0)\n",
        "print(pred_y)"
      ],
      "execution_count": 150,
      "outputs": [
        {
          "output_type": "stream",
          "text": [
            "[0.08393366 0.07866777 0.08956576 0.12376942 0.09143389 0.09208523\n",
            " 0.10304175 0.10035351 0.10404647 0.11003446 0.22976404 0.20805283\n",
            " 0.2206594  0.23521376 0.2250312  0.29616383 0.38013807 0.31184536\n",
            " 0.41439095 0.45050144 0.5667266  0.48125952 0.40350193 0.5069055\n",
            " 0.35009414 0.5404306  0.40588003 0.6414295  0.9078796  0.6894885\n",
            " 0.5614081  0.62814885 0.772242   0.52735054 0.6934661  0.8887025\n",
            " 0.90038687 0.7447559  0.9427212  1.0071747  0.67012006 0.6697994\n",
            " 0.6697767  0.7037248  0.59699136 0.6340323  0.76205045 0.6984968\n",
            " 0.75813013 0.684159   0.98538417 0.8864895  0.836825   0.8725888\n",
            " 0.7671131  0.69697636 0.8651771  0.71854365 0.53951514 0.8592401\n",
            " 0.79903287 0.74090487 0.62385184 0.56142336 0.39718023 0.4614005\n",
            " 0.4345654  0.46264178 0.60012156 0.50355333 0.37844795 0.38053292\n",
            " 0.42359462 0.29952756 0.317459   0.32804835 0.31094855 0.33464637\n",
            " 0.34074634 0.2810554  0.23155855 0.39456198 0.20605001 0.20113689\n",
            " 0.19467402 0.20233321 0.23550835 0.2878315  0.31350318 0.22162285\n",
            " 0.13982397 0.13703805 0.21626669 0.11947694 0.09831531 0.17430282\n",
            " 0.1970233  0.13845363 0.10761638 0.11050261 0.11540639 0.16054648\n",
            " 0.15020855 0.12554972 0.09127025 0.08168249 0.09569962 0.10209769\n",
            " 0.0864115  0.07717919 0.07104026 0.07472651 0.07895188 0.07500608\n",
            " 0.07598312 0.0876205  0.08142859]\n"
          ],
          "name": "stdout"
        }
      ]
    },
    {
      "cell_type": "code",
      "metadata": {
        "colab": {
          "base_uri": "https://localhost:8080/",
          "height": 312
        },
        "id": "DTgImdoD2Blo",
        "outputId": "a1d77bb4-97da-4492-a78f-f934d5644b90"
      },
      "source": [
        "data_SN_23 = getSNAverage(np.ma.masked_equal(getSN_Day(cycle_23),0),37)[:-5]\n",
        "#data_SN = np.ma.masked_equal(getSN_Day(cycle_23),0)\n",
        "datax_SN_23 = data_SN_23.T[0] #np.subtract(data_SN.T[0],200)\n",
        "datay_SN_23 = data_SN_23.T[1]\n",
        "print(datax_SN_23.shape, datay_SN_23.shape, pred_y.shape)\n",
        "\n",
        "datax_SN_23_ITP, pred_y_ITP = interpolate(np.array([datax_SN_23,pred_y]).T,40)\n",
        "datax_SN_23_ITP, datay_SN_23_ITP = interpolate(np.array([datax_SN_23,datay_SN_23]).T,40)\n",
        "\n",
        "figure, axis_1 = plt.subplots()\n",
        "plt.xlabel('Time (BJD)')\n",
        "plt.title('ML Prediction and Sunspot Number vs. Time - Cycle 23')\n",
        "\n",
        "#Axis 1\n",
        "axis_1.autoscale(enable=True, axis='both', tight=None)\n",
        "axis_1.set_ylabel('ML Prediction')\n",
        "axis_1.plot(datax_SN_23_ITP, pred_y_ITP, c='blue', alpha=0.5, label = \"Pred.\")\n",
        "axis_1.scatter(datax_SN_23,pred_y, s = 10, c='blue', alpha=0.5)\n",
        "\n",
        "#Axis 2\n",
        "axis_2 = axis_1.twinx()\n",
        "axis_2.set_ylabel('Sunspot Number')\n",
        "axis_2.plot(datax_SN_23_ITP,datay_SN_23_ITP, c='red', alpha=0.5, label = \"Actual\")\n",
        "axis_2.scatter(datax_SN_23,datay_SN_23, s = 10, c='red', alpha=0.5)\n",
        "\n",
        "#Append Labels\n",
        "lines_1, labels_1 = axis_1.get_legend_handles_labels()\n",
        "lines_2, labels_2 = axis_2.get_legend_handles_labels()\n",
        "lines = lines_1 + lines_2\n",
        "labels = labels_1 + labels_2\n",
        "axis_1.legend(lines, labels, loc=0)\n",
        "\n",
        "#Show Plot\n",
        "#plt.savefig('Graphs/C23_Numax_SSN_Time.png')\n",
        "plt.show()"
      ],
      "execution_count": 152,
      "outputs": [
        {
          "output_type": "stream",
          "text": [
            "(117,) (117,) (117,)\n"
          ],
          "name": "stdout"
        },
        {
          "output_type": "display_data",
          "data": {
            "image/png": "[encoded data removed]",
            "text/plain": [
              "<Figure size 432x288 with 2 Axes>"
            ]
          },
          "metadata": {
            "tags": [],
            "needs_background": "light"
          }
        }
      ]
    },
    {
      "cell_type": "code",
      "metadata": {
        "id": "k9flLwuehlW-"
      },
      "source": [
        "scale_23 = np.max(datay_SN_23)\n",
        "valid_datay_SN_23 = np.divide(datay_SN_23,scale_23)"
      ],
      "execution_count": 153,
      "outputs": []
    },
    {
      "cell_type": "code",
      "metadata": {
        "colab": {
          "base_uri": "https://localhost:8080/"
        },
        "id": "ZH2UJac42vIR",
        "outputId": "b186a4bf-8209-4fa5-b1ce-c852d0c40029"
      },
      "source": [
        "print(numax_cycle_24_182)"
      ],
      "execution_count": 154,
      "outputs": [
        {
          "output_type": "stream",
          "text": [
            "[[5.12939512e-06 2.74658667e-05 1.30162586e-04 ... 1.87572875e-05\n",
            "  1.07630421e-04 1.14339673e-05]\n",
            " [8.86564049e-06 1.51447890e-05 1.33395100e-04 ... 9.20475404e-05\n",
            "  6.35275028e-06 3.08707556e-05]\n",
            " [7.59165790e-06 4.96486497e-05 1.19273949e-05 ... 1.41437212e-04\n",
            "  2.59161848e-05 1.19579854e-05]\n",
            " ...\n",
            " [5.68322111e-06 6.56638822e-05 2.34159817e-05 ... 2.65698299e-05\n",
            "  9.17601694e-05 1.25909167e-05]\n",
            " [3.51589832e-05 2.43807003e-05 2.50134107e-05 ... 9.85385126e-06\n",
            "  7.86522784e-05 1.88420818e-05]\n",
            " [7.53107874e-07 7.63718514e-06 1.56116418e-05 ... 5.53692171e-05\n",
            "  2.80536905e-05 2.98976611e-05]]\n"
          ],
          "name": "stdout"
        }
      ]
    },
    {
      "cell_type": "code",
      "metadata": {
        "colab": {
          "base_uri": "https://localhost:8080/"
        },
        "id": "4pwNRp1_2Dli",
        "outputId": "4d1e1adf-505c-4661-b244-3c181cd1a2ed"
      },
      "source": [
        "\n",
        "test_x = numax_cycle_24_37\n",
        "print(test_x.shape)\n",
        "test_y = model.predict(test_x)\n",
        "test_y = test_y.reshape(-1)\n",
        "print(test_y)"
      ],
      "execution_count": 137,
      "outputs": [
        {
          "output_type": "stream",
          "text": [
            "(107, 63072)\n",
            "[0.25718954 0.27154678 0.26526582 0.23617043 0.24023429 0.22249061\n",
            " 0.23805618 0.25600114 0.24962191 0.2870376  0.24388972 0.2649425\n",
            " 0.27405596 0.28561443 0.26805955 0.24452311 0.2528139  0.2369869\n",
            " 0.24259016 0.25211984 0.2601863  0.27441865 0.26868975 0.28045657\n",
            " 0.28976938 0.31184548 0.30503333 0.34793347 0.3690576  0.33305454\n",
            " 0.3226664  0.3345709  0.3272885  0.33465207 0.28866303 0.29599756\n",
            " 0.2883426  0.28981936 0.30322415 0.3119343  0.323162   0.33369446\n",
            " 0.3165388  0.29458743 0.30580208 0.29981935 0.31366673 0.36798796\n",
            " 0.38254923 0.39437273 0.39346886 0.4244904  0.3937391  0.37255812\n",
            " 0.37569556 0.38467056 0.42137486 0.41248876 0.41647983 0.38584524\n",
            " 0.37250876 0.38861358 0.37444776 0.36033037 0.32096654 0.33390936\n",
            " 0.34213877 0.3426051  0.33838215 0.35730267 0.32092994 0.31041083\n",
            " 0.35045797 0.32730383 0.30466214 0.29901594 0.29380342 0.27237195\n",
            " 0.24741295 0.27090123 0.28654644 0.31904045 0.3358263  0.32426137\n",
            " 0.32420653 0.3140666  0.27841473 0.2431893  0.22867286 0.2232806\n",
            " 0.21627825 0.22893128 0.24642336 0.25381026 0.27294928 0.295308\n",
            " 0.29153043 0.28378206 0.28034753 0.2998071  0.2587086  0.26859948\n",
            " 0.27099597 0.2554282  0.22308025 0.23163804 0.25911132]\n"
          ],
          "name": "stdout"
        }
      ]
    },
    {
      "cell_type": "code",
      "metadata": {
        "colab": {
          "base_uri": "https://localhost:8080/",
          "height": 312
        },
        "id": "zEmwlRrx22TU",
        "outputId": "33935e02-b2e9-4dcf-fca8-71e2bd5767f2"
      },
      "source": [
        "data_SN_24 = getSNAverage(np.ma.masked_equal(getSN_Day(cycle_24),0),37)[:-5]\n",
        "datax_SN_24 = data_SN_24.T[0] #np.subtract(data_SN.T[0],200)\n",
        "datay_SN_24 = data_SN_24.T[1]\n",
        "data2_SN_24 = np.ma.masked_equal(getSN_Day(cycle_24),0)[:-1]\n",
        "data2x_SN_24 = data2_SN_24.T[0]\n",
        "data2y_SN_24 = data2_SN_24.T[1]\n",
        "print(datax_SN_24.shape, datay_SN_24.shape, test_y.shape)\n",
        "\n",
        "datax_SN_24_ITP, test_y_ITP = interpolate(np.array([datax_SN_24,test_y]).T,40)\n",
        "datax_SN_24_ITP, datay_SN_24_ITP = interpolate(np.array([datax_SN_24,datay_SN_24]).T,40)\n",
        "\n",
        "figure, axis_1 = plt.subplots()\n",
        "plt.xlabel('Time (BJD)')\n",
        "plt.title('ML Prediction and Sunspot Number vs. Time - Cycle 24')\n",
        "\n",
        "#Axis 1\n",
        "axis_1.autoscale(enable=True, axis='both', tight=None)\n",
        "axis_1.set_ylabel('ML Prediction')\n",
        "axis_1.plot(datax_SN_24_ITP, test_y_ITP, c='blue', alpha=0.5, label = \"Pred.\")\n",
        "axis_1.scatter(datax_SN_24,test_y, s = 10, c='blue', alpha=0.5)\n",
        "\n",
        "#Axis 2\n",
        "axis_2 = axis_1.twinx()\n",
        "axis_2.set_ylabel('Sunspot Number')\n",
        "axis_2.plot(datax_SN_24_ITP,datay_SN_24_ITP, c='red', alpha=0.5, label = \"Actual\")\n",
        "axis_2.scatter(datax_SN_24,datay_SN_24, s = 10, c='red', alpha=0.5)\n",
        "\n",
        "#Append Labels\n",
        "lines_1, labels_1 = axis_1.get_legend_handles_labels()\n",
        "lines_2, labels_2 = axis_2.get_legend_handles_labels()\n",
        "lines = lines_1 + lines_2\n",
        "labels = labels_1 + labels_2\n",
        "axis_1.legend(lines, labels, loc=0)\n",
        "\n",
        "#Show Plot\n",
        "#plt.savefig('Graphs/C23_Numax_SSN_Time.png')\n",
        "plt.show()"
      ],
      "execution_count": 155,
      "outputs": [
        {
          "output_type": "stream",
          "text": [
            "(107,) (107,) (107,)\n"
          ],
          "name": "stdout"
        },
        {
          "output_type": "display_data",
          "data": {
            "image/png": "[encoded data removed]",
            "text/plain": [
              "<Figure size 432x288 with 2 Axes>"
            ]
          },
          "metadata": {
            "tags": [],
            "needs_background": "light"
          }
        }
      ]
    },
    {
      "cell_type": "code",
      "metadata": {
        "colab": {
          "base_uri": "https://localhost:8080/"
        },
        "id": "wKYyAPlwgjaY",
        "outputId": "fc96b51e-08e0-4859-95ad-41940081402f"
      },
      "source": [
        "mse_23 = np.sqrt(mean_squared_error(valid_datay_SN_23,pred_y))\n",
        "mae_23 = mean_absolute_error(valid_datay_SN_23,pred_y)\n",
        "print(\"Cycle 23: Mean Sq. Err, Mean Abs. Err.\")\n",
        "print(round(mse_23,4),round(mae_23,4),round(min(mse_23,mae_23)*scale_23,4))\n",
        "print()\n",
        "scale_24 = np.max(datay_SN_24)\n",
        "valid_datay_SN_24 = np.divide(datay_SN_24,scale_24)\n",
        "mse_24 = np.sqrt(mean_squared_error(valid_datay_SN_24,test_y))\n",
        "mae_24 = mean_absolute_error(valid_datay_SN_24,test_y)\n",
        "print(\"Cycle 24: Mean Sq. Err, Mean Abs. Err.\")\n",
        "print(round(mse_24,4),round(mae_24,4),round(min(mse_24,mae_24)*scale_24,4))"
      ],
      "execution_count": 156,
      "outputs": [
        {
          "output_type": "stream",
          "text": [
            "Cycle 23: Mean Sq. Err, Mean Abs. Err.\n",
            "0.0184 0.0148 3.3481\n",
            "\n",
            "Cycle 24: Mean Sq. Err, Mean Abs. Err.\n",
            "0.237 0.1924 27.7126\n"
          ],
          "name": "stdout"
        }
      ]
    },
    {
      "cell_type": "code",
      "metadata": {
        "colab": {
          "base_uri": "https://localhost:8080/"
        },
        "id": "-K6Et1UtAgfY",
        "outputId": "7cc42cfb-cba2-454e-b222-687573d0c630"
      },
      "source": [
        "test_LOI_y = LOI_37[0]\n",
        "print(test_LOI_y)"
      ],
      "execution_count": 114,
      "outputs": [
        {
          "output_type": "stream",
          "text": [
            "[6.75599211e-13 5.43055508e-13 4.43217376e-13 ... 4.73805527e-14\n",
            " 2.35625347e-13 2.27213386e-14]\n"
          ],
          "name": "stdout"
        }
      ]
    },
    {
      "cell_type": "code",
      "metadata": {
        "colab": {
          "base_uri": "https://localhost:8080/",
          "height": 295
        },
        "id": "HCOSZhf_Allu",
        "outputId": "46b6d31f-d029-4175-a977-efe4631f1e9f"
      },
      "source": [
        "test_LOI_x = np.arange(0,len(test_LOI_y))\n",
        "\n",
        "\n",
        "figure, axis_1 = plt.subplots()\n",
        "plt.xlabel('Frequency (Matched Indices)')\n",
        "plt.title('BiSON vs. LOI Periodogram')\n",
        "\n",
        "#Axis 1\n",
        "axis_1.autoscale(enable=True, axis='both', tight=None)\n",
        "axis_1.set_ylabel('LOI (Scaling)')\n",
        "axis_1.scatter(test_LOI_x,np.multiply(test_LOI_y,1250000000), s = 10, c='blue', alpha=0.5, label=\"LOI Periodogram\")\n",
        "\n",
        "#Axis 2\n",
        "axis_2 = axis_1.twinx()\n",
        "axis_2.set_ylabel('BiSON (Scaling)')\n",
        "axis_2.scatter(test_LOI_x,train_x[0], s = 10, c='red', alpha=0.5, label=\"BiSON Periodogram\")\n",
        "\n",
        "#Append Labels\n",
        "lines_1, labels_1 = axis_1.get_legend_handles_labels()\n",
        "lines_2, labels_2 = axis_2.get_legend_handles_labels()\n",
        "lines = lines_1 + lines_2\n",
        "labels = labels_1 + labels_2\n",
        "axis_1.legend(lines, labels, loc=0)\n",
        "\n",
        "#Show Plot\n",
        "#plt.savefig('Graphs/C23_Numax_SSN_Time.png')\n",
        "plt.savefig('/content/drive/MyDrive/Korea Research - Yihong Song and Rohit Prasanna/DSHS & AOS Physics Research Collaboration 2020/Project/Jr:Sr Project/Graphs/BiSON_LOI_Periodogram.png')\n",
        "plt.show()"
      ],
      "execution_count": 214,
      "outputs": [
        {
          "output_type": "display_data",
          "data": {
            "image/png": "[encoded data removed]",
            "text/plain": [
              "<Figure size 432x288 with 2 Axes>"
            ]
          },
          "metadata": {
            "tags": [],
            "needs_background": "light"
          }
        }
      ]
    },
    {
      "cell_type": "code",
      "metadata": {
        "colab": {
          "base_uri": "https://localhost:8080/"
        },
        "id": "g20KNQil-TqH",
        "outputId": "699261a5-f833-4677-c1ab-14f06536cb56"
      },
      "source": [
        "pred_LOI = model.predict(np.multiply(LOI_37,1250000000))\n",
        "pred_LOI = pred_LOI.reshape(-1)\n",
        "print(pred_LOI.shape)"
      ],
      "execution_count": 124,
      "outputs": [
        {
          "output_type": "stream",
          "text": [
            "(223,)\n"
          ],
          "name": "stdout"
        }
      ]
    },
    {
      "cell_type": "code",
      "metadata": {
        "colab": {
          "base_uri": "https://localhost:8080/",
          "height": 282
        },
        "id": "q0HfmsIm_zt6",
        "outputId": "bb63cdb4-8133-40f8-94a1-bcc5bb93b179"
      },
      "source": [
        "pred_LOI_x = np.arange(0,len(pred_LOI))\n",
        "plt.autoscale(enable=True, axis='both', tight=None)\n",
        "plt.scatter(pred_LOI_x,pred_LOI, s = 10, c='blue', alpha=0.5)"
      ],
      "execution_count": 117,
      "outputs": [
        {
          "output_type": "execute_result",
          "data": {
            "text/plain": [
              "<matplotlib.collections.PathCollection at 0x7f56b3e88c18>"
            ]
          },
          "metadata": {
            "tags": []
          },
          "execution_count": 117
        },
        {
          "output_type": "display_data",
          "data": {
            "image/png": "[encoded data removed]",
            "text/plain": [
              "<Figure size 432x288 with 1 Axes>"
            ]
          },
          "metadata": {
            "tags": [],
            "needs_background": "light"
          }
        }
      ]
    },
    {
      "cell_type": "code",
      "metadata": {
        "id": "a6fb0FPnDkPQ"
      },
      "source": [
        ""
      ],
      "execution_count": null,
      "outputs": []
    },
    {
      "cell_type": "markdown",
      "metadata": {
        "id": "iKRqukyuFq-C"
      },
      "source": [
        "#Data Presentation "
      ]
    },
    {
      "cell_type": "code",
      "metadata": {
        "colab": {
          "base_uri": "https://localhost:8080/"
        },
        "id": "EMiehpGLF0tl",
        "outputId": "510e7435-a688-49e4-b828-8d7e035f884f"
      },
      "source": [
        "#Connect BiSON 23 and 24\n",
        "BiSON_pred = np.append(pred_y,test_y)\n",
        "BiSON_pred = BiSON_pred[:-1]\n",
        "print(BiSON_pred.shape)#,BiSON_pred)"
      ],
      "execution_count": 129,
      "outputs": [
        {
          "output_type": "stream",
          "text": [
            "(223,)\n"
          ],
          "name": "stdout"
        }
      ]
    },
    {
      "cell_type": "code",
      "metadata": {
        "colab": {
          "base_uri": "https://localhost:8080/"
        },
        "id": "CG2KaFJJF5Jr",
        "outputId": "f79cbe57-0329-4f62-ff8a-26bb82ee408c"
      },
      "source": [
        "#Universal X\n",
        "datax_SN = np.append(datax_SN_23,datax_SN_24)\n",
        "datax_SN = datax_SN[:-1]\n",
        "print(datax_SN.shape)"
      ],
      "execution_count": 140,
      "outputs": [
        {
          "output_type": "stream",
          "text": [
            "(223,)\n"
          ],
          "name": "stdout"
        }
      ]
    },
    {
      "cell_type": "code",
      "metadata": {
        "colab": {
          "base_uri": "https://localhost:8080/"
        },
        "id": "1qiFBsk3JK9m",
        "outputId": "0cf60a46-b314-4f1e-c15e-58368df58fa3"
      },
      "source": [
        "#Universal Sunspot Number\n",
        "datay_SN = np.append(datay_SN_23,datay_SN_24)\n",
        "datay_SN = datay_SN[:-1]\n",
        "print(datay_SN.shape)"
      ],
      "execution_count": 158,
      "outputs": [
        {
          "output_type": "stream",
          "text": [
            "(223,)\n"
          ],
          "name": "stdout"
        }
      ]
    },
    {
      "cell_type": "code",
      "metadata": {
        "colab": {
          "base_uri": "https://localhost:8080/",
          "height": 295
        },
        "id": "BYxH24fNHkhs",
        "outputId": "8a306363-912f-4685-a71c-a446549ee373"
      },
      "source": [
        "figure, axis_1 = plt.subplots()\n",
        "plt.xlabel('Time (BJD)')\n",
        "plt.title('ML Prediction and Sunspot Number vs. Time - Cycle 23 & 24')\n",
        "\n",
        "#Axis 1\n",
        "axis_1.autoscale(enable=True, axis='both', tight=None)\n",
        "axis_1.set_ylabel('BiSON (Scaling)')\n",
        "axis_1.scatter(datax_SN,BiSON_pred, s = 10, c='blue', alpha=0.5, label=\"pred_BiSON\")\n",
        "\n",
        "#Axis 2\n",
        "axis_2 = axis_1.twinx()\n",
        "axis_2.set_ylabel('LOI (Scaling)')\n",
        "axis_2.scatter(datax_SN,pred_LOI, s = 10, c='red', alpha=0.5, label=\"pred_LOI\")\n",
        "\n",
        "#Axis 3\n",
        "axis_3 = axis_1.twinx()\n",
        "axis_3.axis(\"off\")\n",
        "axis_3.set_ylabel('SN')\n",
        "axis_3.scatter(datax_SN,datay_SN, s = 10, c='green', alpha=0.5, label=\"actual_SN\")\n",
        "\n",
        "#Append Labels\n",
        "lines_1, labels_1 = axis_1.get_legend_handles_labels()\n",
        "lines_2, labels_2 = axis_2.get_legend_handles_labels()\n",
        "lines_3, labels_3 = axis_3.get_legend_handles_labels()\n",
        "lines = lines_1 + lines_2 + lines_3\n",
        "labels = labels_1 + labels_2 + labels_3\n",
        "axis_1.legend(lines, labels, loc=0)\n",
        "\n",
        "#Show Plot\n",
        "#plt.savefig('Graphs/C23_Numax_SSN_Time.png')\n",
        "plt.savefig('/content/drive/MyDrive/Korea Research - Yihong Song and Rohit Prasanna/DSHS & AOS Physics Research Collaboration 2020/Project/Jr:Sr Project/Graphs/BiSON_LOI_SN.png')\n",
        "plt.show()"
      ],
      "execution_count": 213,
      "outputs": [
        {
          "output_type": "display_data",
          "data": {
            "image/png": "[encoded data removed]",
            "text/plain": [
              "<Figure size 432x288 with 3 Axes>"
            ]
          },
          "metadata": {
            "tags": [],
            "needs_background": "light"
          }
        }
      ]
    },
    {
      "cell_type": "code",
      "metadata": {
        "id": "EPPk_peUHvNd"
      },
      "source": [
        "scale_total = np.max(datay_SN)\n",
        "valid_datay_SN = np.divide(datay_SN,scale_total)"
      ],
      "execution_count": 168,
      "outputs": []
    },
    {
      "cell_type": "code",
      "metadata": {
        "id": "lM_63zcEMCbf"
      },
      "source": [
        "BiSON_pred_total = np.max(BiSON_pred)\n",
        "valid_BiSON_pred = np.divide(BiSON_pred,scale_total)"
      ],
      "execution_count": 169,
      "outputs": []
    },
    {
      "cell_type": "code",
      "metadata": {
        "id": "T2rxugaRMjAQ"
      },
      "source": [
        "pred_LOI_total = np.max(pred_LOI)\n",
        "valid_pred_LOI = np.divide(pred_LOI,scale_total)"
      ],
      "execution_count": 170,
      "outputs": []
    },
    {
      "cell_type": "code",
      "metadata": {
        "colab": {
          "base_uri": "https://localhost:8080/"
        },
        "id": "esaF6nkqL5oU",
        "outputId": "58e75c26-cfca-48ca-c88e-452b20126b8f"
      },
      "source": [
        "BiSONxSN_mse = np.sqrt(mean_squared_error(valid_datay_SN,valid_BiSON_pred))\n",
        "BiSONxSN_mae = mean_absolute_error(valid_datay_SN,valid_BiSON_pred)\n",
        "print(\"BiSON vs. Actual - Mean Sq. Error, Mean Abs. Error\")\n",
        "print(BiSONxSN_mse,BiSONxSN_mae)"
      ],
      "execution_count": 208,
      "outputs": [
        {
          "output_type": "stream",
          "text": [
            "BiSON vs. Actual - Mean Sq. Error, Mean Abs. Error\n",
            "0.39600919265823803 0.3153416412513468\n"
          ],
          "name": "stdout"
        }
      ]
    },
    {
      "cell_type": "code",
      "metadata": {
        "colab": {
          "base_uri": "https://localhost:8080/"
        },
        "id": "WrzD7pFqNADc",
        "outputId": "6fe584bf-8bcc-493f-f126-ad628e07f7b0"
      },
      "source": [
        "LOIxSN_mse = np.sqrt(mean_squared_error(valid_datay_SN,valid_pred_LOI))\n",
        "LOIxSN_mae = mean_absolute_error(valid_datay_SN,valid_pred_LOI)\n",
        "print(\"LOI vs. Actual - Mean Sq. Error, Mean Abs. Error\")\n",
        "print(LOIxSN_mse,LOIxSN_mae)"
      ],
      "execution_count": 209,
      "outputs": [
        {
          "output_type": "stream",
          "text": [
            "LOI vs. Actual - Mean Sq. Error, Mean Abs. Error\n",
            "0.3935311685236277 0.312350685269688\n"
          ],
          "name": "stdout"
        }
      ]
    },
    {
      "cell_type": "code",
      "metadata": {
        "colab": {
          "base_uri": "https://localhost:8080/"
        },
        "id": "X2B11UNANcR7",
        "outputId": "f8a81bbe-37c8-47f9-fb8d-63dd1053c480"
      },
      "source": [
        "BiSONxLOI_mse = np.sqrt(mean_squared_error(valid_BiSON_pred,valid_pred_LOI))\n",
        "BiSONxLOI_mae = mean_absolute_error(valid_BiSON_pred,valid_pred_LOI)\n",
        "print(\"BiSON vs. LOI - Mean Sq. Error, Mean Abs. Error, +- #Sunspots\")\n",
        "print(BiSONxLOI_mse,BiSONxLOI_mae,min(BiSONxLOI_mse,BiSONxLOI_mae)*scale_total)"
      ],
      "execution_count": 212,
      "outputs": [
        {
          "output_type": "stream",
          "text": [
            "BiSON vs. LOI - Mean Sq. Error, Mean Abs. Error, +- #Sunspots\n",
            "0.0031015435 0.0029924074 0.6786294770552902\n"
          ],
          "name": "stdout"
        }
      ]
    },
    {
      "cell_type": "code",
      "metadata": {
        "id": "Av-TDC4aNxM9"
      },
      "source": [
        ""
      ],
      "execution_count": null,
      "outputs": []
    }
  ]
}
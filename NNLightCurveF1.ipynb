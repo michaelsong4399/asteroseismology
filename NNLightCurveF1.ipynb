{
  "nbformat": 4,
  "nbformat_minor": 0,
  "metadata": {
    "colab": {
      "name": "NNLightCurve.ipynb",
      "provenance": [],
      "collapsed_sections": [
        "QxQoSvIgsMt3",
        "k3m1DupVtFpy",
        "ibWpBF6Wtcm0",
        "qTogHSG6CCzr",
        "RdzzwEyWvELy",
        "U4eOXkoW7XKZ",
        "H2RNBiUsBnCn",
        "9GdgXJ-XEr_J"
      ],
      "authorship_tag": "ABX9TyMCVzsn2wcRbI7QieCqxfz7",
      "include_colab_link": true
    },
    "kernelspec": {
      "display_name": "Python 3",
      "name": "python3"
    }
  },
  "cells": [
    {
      "cell_type": "markdown",
      "metadata": {
        "id": "view-in-github",
        "colab_type": "text"
      },
      "source": [
        "<a href=\"https://colab.research.google.com/github/michaelsong4399/asteroseismology/blob/yihong/NNLightCurveF1.ipynb\" target=\"_parent\"><img src=\"https://colab.research.google.com/assets/colab-badge.svg\" alt=\"Open In Colab\"/></a>"
      ]
    },
    {
      "cell_type": "markdown",
      "metadata": {
        "id": "fgWzaIiqtliy"
      },
      "source": [
        "# Initialization"
      ]
    },
    {
      "cell_type": "code",
      "metadata": {
        "colab": {
          "base_uri": "https://localhost:8080/",
          "height": 1000
        },
        "id": "5N38g_6rr5tq",
        "outputId": "9b78e5b9-2f49-4bc0-809f-35e142684b8a"
      },
      "source": [
        "!pip install lightkurve\n",
        "!pip install astroquery\n",
        "!pip install matplotlib\n",
        "!pip install numpy\n",
        "!pip install scipy\n",
        "!pip install pandas\n",
        "!pip install tensorflow\n",
        "!pip install astropy"
      ],
      "execution_count": 1,
      "outputs": [
        {
          "output_type": "stream",
          "text": [
            "Collecting lightkurve\n",
            "\u001b[?25l  Downloading https://files.pythonhosted.org/packages/fd/1f/6f350fbf7d41c786c14eeacec5f24aae212da5362560763574c845973a54/lightkurve-2.0.3-py3-none-any.whl (235kB)\n",
            "\r\u001b[K     |█▍                              | 10kB 12.7MB/s eta 0:00:01\r\u001b[K     |██▉                             | 20kB 13.4MB/s eta 0:00:01\r\u001b[K     |████▏                           | 30kB 10.2MB/s eta 0:00:01\r\u001b[K     |█████▋                          | 40kB 8.9MB/s eta 0:00:01\r\u001b[K     |███████                         | 51kB 8.1MB/s eta 0:00:01\r\u001b[K     |████████▍                       | 61kB 7.6MB/s eta 0:00:01\r\u001b[K     |█████████▊                      | 71kB 8.2MB/s eta 0:00:01\r\u001b[K     |███████████▏                    | 81kB 8.4MB/s eta 0:00:01\r\u001b[K     |████████████▌                   | 92kB 8.9MB/s eta 0:00:01\r\u001b[K     |██████████████                  | 102kB 8.2MB/s eta 0:00:01\r\u001b[K     |███████████████▎                | 112kB 8.2MB/s eta 0:00:01\r\u001b[K     |████████████████▊               | 122kB 8.2MB/s eta 0:00:01\r\u001b[K     |██████████████████▏             | 133kB 8.2MB/s eta 0:00:01\r\u001b[K     |███████████████████▌            | 143kB 8.2MB/s eta 0:00:01\r\u001b[K     |█████████████████████           | 153kB 8.2MB/s eta 0:00:01\r\u001b[K     |██████████████████████▎         | 163kB 8.2MB/s eta 0:00:01\r\u001b[K     |███████████████████████▊        | 174kB 8.2MB/s eta 0:00:01\r\u001b[K     |█████████████████████████       | 184kB 8.2MB/s eta 0:00:01\r\u001b[K     |██████████████████████████▌     | 194kB 8.2MB/s eta 0:00:01\r\u001b[K     |███████████████████████████▉    | 204kB 8.2MB/s eta 0:00:01\r\u001b[K     |█████████████████████████████▎  | 215kB 8.2MB/s eta 0:00:01\r\u001b[K     |██████████████████████████████▋ | 225kB 8.2MB/s eta 0:00:01\r\u001b[K     |████████████████████████████████| 235kB 8.2MB/s \n",
            "\u001b[?25hRequirement already satisfied: patsy>=0.5.0 in /usr/local/lib/python3.7/dist-packages (from lightkurve) (0.5.1)\n",
            "Requirement already satisfied: scipy>=0.19.0 in /usr/local/lib/python3.7/dist-packages (from lightkurve) (1.4.1)\n",
            "Collecting memoization>=0.3.1\n",
            "  Downloading https://files.pythonhosted.org/packages/16/87/37229296c2a9506867d5f5440b9aac015d97af54c951cdfc129bb4bb8d75/memoization-0.3.2-py3-none-any.whl\n",
            "Collecting fbpca>=1.0\n",
            "  Downloading https://files.pythonhosted.org/packages/a7/a5/2085d0645a4bb4f0b606251b0b7466c61326e4a471d445c1c3761a2d07bc/fbpca-1.0.tar.gz\n",
            "Requirement already satisfied: numpy>=1.11 in /usr/local/lib/python3.7/dist-packages (from lightkurve) (1.19.5)\n",
            "Requirement already satisfied: beautifulsoup4<5.0.0,>=4.6.0 in /usr/local/lib/python3.7/dist-packages (from lightkurve) (4.6.3)\n",
            "Requirement already satisfied: pandas<2.0.0,>=1.1.4 in /usr/local/lib/python3.7/dist-packages (from lightkurve) (1.1.5)\n",
            "Collecting scikit-learn>=0.24.0\n",
            "\u001b[?25l  Downloading https://files.pythonhosted.org/packages/f3/74/eb899f41d55f957e2591cde5528e75871f817d9fb46d4732423ecaca736d/scikit_learn-0.24.1-cp37-cp37m-manylinux2010_x86_64.whl (22.3MB)\n",
            "\u001b[K     |████████████████████████████████| 22.3MB 1.4MB/s \n",
            "\u001b[?25hRequirement already satisfied: tqdm>=4.25.0 in /usr/local/lib/python3.7/dist-packages (from lightkurve) (4.41.1)\n",
            "Collecting requests<3.0.0,>=2.25.0\n",
            "\u001b[?25l  Downloading https://files.pythonhosted.org/packages/29/c1/24814557f1d22c56d50280771a17307e6bf87b70727d975fd6b2ce6b014a/requests-2.25.1-py2.py3-none-any.whl (61kB)\n",
            "\u001b[K     |████████████████████████████████| 61kB 8.1MB/s \n",
            "\u001b[?25hCollecting uncertainties<4.0.0,>=3.1.4\n",
            "\u001b[?25l  Downloading https://files.pythonhosted.org/packages/45/41/fc7e7b73b603e7c2c9e040b7aa8caf4a88d74b6faa567601ed82b6f0d8e1/uncertainties-3.1.5-py2.py3-none-any.whl (246kB)\n",
            "\u001b[K     |████████████████████████████████| 256kB 44.5MB/s \n",
            "\u001b[?25hRequirement already satisfied: bokeh>=1.0 in /usr/local/lib/python3.7/dist-packages (from lightkurve) (2.1.1)\n",
            "Collecting oktopus<0.2.0,>=0.1.2\n",
            "  Downloading https://files.pythonhosted.org/packages/2d/6e/7b7e11442ff70286c22614d200f6145f83528dc6c99fec0982665e25c8d3/oktopus-0.1.2.tar.gz\n",
            "Collecting ipython>=6.0.0\n",
            "\u001b[?25l  Downloading https://files.pythonhosted.org/packages/3b/43/6dbd0610550708fc418ad027fda97b5f415da9053749641654fdacfec93f/ipython-7.21.0-py3-none-any.whl (784kB)\n",
            "\u001b[K     |████████████████████████████████| 788kB 38.5MB/s \n",
            "\u001b[?25hCollecting astroquery>=0.3.10\n",
            "\u001b[?25l  Downloading https://files.pythonhosted.org/packages/1b/f8/4690523783691ed816b3469c3ec611af3798594d37ade510dd918d59f57e/astroquery-0.4.1.tar.gz (6.5MB)\n",
            "\u001b[K     |████████████████████████████████| 6.5MB 30.7MB/s \n",
            "\u001b[?25hCollecting numba>=0.53.0rc1; python_version >= \"3.6\" and python_version < \"3.10\"\n",
            "\u001b[?25l  Downloading https://files.pythonhosted.org/packages/d2/05/00ac92a96f72370eafa1f7071dad8b24650cb81bf03257bf9a3b0f60984e/numba-0.53.0rc2-cp37-cp37m-manylinux2014_x86_64.whl (3.4MB)\n",
            "\u001b[K     |████████████████████████████████| 3.4MB 40.1MB/s \n",
            "\u001b[?25hRequirement already satisfied: astropy>=4.1 in /usr/local/lib/python3.7/dist-packages (from lightkurve) (4.2)\n",
            "Requirement already satisfied: matplotlib>=1.5.3 in /usr/local/lib/python3.7/dist-packages (from lightkurve) (3.2.2)\n",
            "Requirement already satisfied: six in /usr/local/lib/python3.7/dist-packages (from patsy>=0.5.0->lightkurve) (1.15.0)\n",
            "Requirement already satisfied: pytz>=2017.2 in /usr/local/lib/python3.7/dist-packages (from pandas<2.0.0,>=1.1.4->lightkurve) (2018.9)\n",
            "Requirement already satisfied: python-dateutil>=2.7.3 in /usr/local/lib/python3.7/dist-packages (from pandas<2.0.0,>=1.1.4->lightkurve) (2.8.1)\n",
            "Requirement already satisfied: joblib>=0.11 in /usr/local/lib/python3.7/dist-packages (from scikit-learn>=0.24.0->lightkurve) (1.0.1)\n",
            "Collecting threadpoolctl>=2.0.0\n",
            "  Downloading https://files.pythonhosted.org/packages/f7/12/ec3f2e203afa394a149911729357aa48affc59c20e2c1c8297a60f33f133/threadpoolctl-2.1.0-py3-none-any.whl\n",
            "Requirement already satisfied: chardet<5,>=3.0.2 in /usr/local/lib/python3.7/dist-packages (from requests<3.0.0,>=2.25.0->lightkurve) (3.0.4)\n",
            "Requirement already satisfied: certifi>=2017.4.17 in /usr/local/lib/python3.7/dist-packages (from requests<3.0.0,>=2.25.0->lightkurve) (2020.12.5)\n",
            "Requirement already satisfied: idna<3,>=2.5 in /usr/local/lib/python3.7/dist-packages (from requests<3.0.0,>=2.25.0->lightkurve) (2.10)\n",
            "Requirement already satisfied: urllib3<1.27,>=1.21.1 in /usr/local/lib/python3.7/dist-packages (from requests<3.0.0,>=2.25.0->lightkurve) (1.24.3)\n",
            "Requirement already satisfied: future in /usr/local/lib/python3.7/dist-packages (from uncertainties<4.0.0,>=3.1.4->lightkurve) (0.16.0)\n",
            "Requirement already satisfied: Jinja2>=2.7 in /usr/local/lib/python3.7/dist-packages (from bokeh>=1.0->lightkurve) (2.11.3)\n",
            "Requirement already satisfied: tornado>=5.1 in /usr/local/lib/python3.7/dist-packages (from bokeh>=1.0->lightkurve) (5.1.1)\n",
            "Requirement already satisfied: pillow>=4.0 in /usr/local/lib/python3.7/dist-packages (from bokeh>=1.0->lightkurve) (7.0.0)\n",
            "Requirement already satisfied: typing-extensions>=3.7.4 in /usr/local/lib/python3.7/dist-packages (from bokeh>=1.0->lightkurve) (3.7.4.3)\n",
            "Requirement already satisfied: PyYAML>=3.10 in /usr/local/lib/python3.7/dist-packages (from bokeh>=1.0->lightkurve) (3.13)\n",
            "Requirement already satisfied: packaging>=16.8 in /usr/local/lib/python3.7/dist-packages (from bokeh>=1.0->lightkurve) (20.9)\n",
            "Requirement already satisfied: autograd in /usr/local/lib/python3.7/dist-packages (from oktopus<0.2.0,>=0.1.2->lightkurve) (1.3)\n",
            "Requirement already satisfied: decorator in /usr/local/lib/python3.7/dist-packages (from ipython>=6.0.0->lightkurve) (4.4.2)\n",
            "Requirement already satisfied: jedi>=0.16 in /usr/local/lib/python3.7/dist-packages (from ipython>=6.0.0->lightkurve) (0.18.0)\n",
            "Requirement already satisfied: setuptools>=18.5 in /usr/local/lib/python3.7/dist-packages (from ipython>=6.0.0->lightkurve) (53.0.0)\n",
            "Requirement already satisfied: backcall in /usr/local/lib/python3.7/dist-packages (from ipython>=6.0.0->lightkurve) (0.2.0)\n",
            "Requirement already satisfied: pygments in /usr/local/lib/python3.7/dist-packages (from ipython>=6.0.0->lightkurve) (2.6.1)\n",
            "Requirement already satisfied: traitlets>=4.2 in /usr/local/lib/python3.7/dist-packages (from ipython>=6.0.0->lightkurve) (5.0.5)\n",
            "Requirement already satisfied: pexpect>4.3; sys_platform != \"win32\" in /usr/local/lib/python3.7/dist-packages (from ipython>=6.0.0->lightkurve) (4.8.0)\n",
            "Requirement already satisfied: pickleshare in /usr/local/lib/python3.7/dist-packages (from ipython>=6.0.0->lightkurve) (0.7.5)\n",
            "Collecting prompt-toolkit!=3.0.0,!=3.0.1,<3.1.0,>=2.0.0\n",
            "\u001b[?25l  Downloading https://files.pythonhosted.org/packages/a6/0b/c6de29441b29f8b54d5bbe29a8b223de6e400714ff50e85541bd4c783421/prompt_toolkit-3.0.16-py3-none-any.whl (366kB)\n",
            "\u001b[K     |████████████████████████████████| 368kB 48.4MB/s \n",
            "\u001b[?25hCollecting keyring>=4.0\n",
            "\u001b[?25l  Downloading https://files.pythonhosted.org/packages/96/69/3ee574555067bb416b07b9816dc73dc2a0deb1799464f2f7fe4dee506453/keyring-22.3.0-py3-none-any.whl (58kB)\n",
            "\u001b[K     |████████████████████████████████| 61kB 7.9MB/s \n",
            "\u001b[?25hRequirement already satisfied: html5lib>=0.999 in /usr/local/lib/python3.7/dist-packages (from astroquery>=0.3.10->lightkurve) (1.0.1)\n",
            "Collecting llvmlite<0.37,>=0.36.0rc1\n",
            "\u001b[?25l  Downloading https://files.pythonhosted.org/packages/7a/8a/73ebe617e4cbc42b9c35c1c62e17de785a8b72e9ddb6b3bf4dbe62ea9b04/llvmlite-0.36.0rc2-cp37-cp37m-manylinux2010_x86_64.whl (25.3MB)\n",
            "\u001b[K     |████████████████████████████████| 25.3MB 1.5MB/s \n",
            "\u001b[?25hRequirement already satisfied: pyerfa in /usr/local/lib/python3.7/dist-packages (from astropy>=4.1->lightkurve) (1.7.2)\n",
            "Requirement already satisfied: cycler>=0.10 in /usr/local/lib/python3.7/dist-packages (from matplotlib>=1.5.3->lightkurve) (0.10.0)\n",
            "Requirement already satisfied: kiwisolver>=1.0.1 in /usr/local/lib/python3.7/dist-packages (from matplotlib>=1.5.3->lightkurve) (1.3.1)\n",
            "Requirement already satisfied: pyparsing!=2.0.4,!=2.1.2,!=2.1.6,>=2.0.1 in /usr/local/lib/python3.7/dist-packages (from matplotlib>=1.5.3->lightkurve) (2.4.7)\n",
            "Requirement already satisfied: MarkupSafe>=0.23 in /usr/local/lib/python3.7/dist-packages (from Jinja2>=2.7->bokeh>=1.0->lightkurve) (1.1.1)\n",
            "Requirement already satisfied: parso<0.9.0,>=0.8.0 in /usr/local/lib/python3.7/dist-packages (from jedi>=0.16->ipython>=6.0.0->lightkurve) (0.8.1)\n",
            "Requirement already satisfied: ipython-genutils in /usr/local/lib/python3.7/dist-packages (from traitlets>=4.2->ipython>=6.0.0->lightkurve) (0.2.0)\n",
            "Requirement already satisfied: ptyprocess>=0.5 in /usr/local/lib/python3.7/dist-packages (from pexpect>4.3; sys_platform != \"win32\"->ipython>=6.0.0->lightkurve) (0.7.0)\n",
            "Requirement already satisfied: wcwidth in /usr/local/lib/python3.7/dist-packages (from prompt-toolkit!=3.0.0,!=3.0.1,<3.1.0,>=2.0.0->ipython>=6.0.0->lightkurve) (0.2.5)\n",
            "Requirement already satisfied: importlib-metadata>=1; python_version < \"3.8\" in /usr/local/lib/python3.7/dist-packages (from keyring>=4.0->astroquery>=0.3.10->lightkurve) (3.7.0)\n",
            "Collecting SecretStorage>=3.2; sys_platform == \"linux\"\n",
            "  Downloading https://files.pythonhosted.org/packages/d9/1e/29cd69fdac7391aa51510dfd42aa70b4e6a826c8cd019ee2a8ab9ec0777f/SecretStorage-3.3.1-py3-none-any.whl\n",
            "Collecting jeepney>=0.4.2; sys_platform == \"linux\"\n",
            "\u001b[?25l  Downloading https://files.pythonhosted.org/packages/51/b0/a6ea72741aaac3f37fb96d195e4ee576a103c4c04e279bc6b446a70960e1/jeepney-0.6.0-py3-none-any.whl (45kB)\n",
            "\u001b[K     |████████████████████████████████| 51kB 7.2MB/s \n",
            "\u001b[?25hRequirement already satisfied: webencodings in /usr/local/lib/python3.7/dist-packages (from html5lib>=0.999->astroquery>=0.3.10->lightkurve) (0.5.1)\n",
            "Requirement already satisfied: zipp>=0.5 in /usr/local/lib/python3.7/dist-packages (from importlib-metadata>=1; python_version < \"3.8\"->keyring>=4.0->astroquery>=0.3.10->lightkurve) (3.4.0)\n",
            "Collecting cryptography>=2.0\n",
            "\u001b[?25l  Downloading https://files.pythonhosted.org/packages/f8/1f/acde6ff69864c5e78b56488e3afd93c1ccc8c2651186e2a5f93d93f64859/cryptography-3.4.6-cp36-abi3-manylinux2014_x86_64.whl (3.2MB)\n",
            "\u001b[K     |████████████████████████████████| 3.2MB 48.9MB/s \n",
            "\u001b[?25hRequirement already satisfied: cffi>=1.12 in /usr/local/lib/python3.7/dist-packages (from cryptography>=2.0->SecretStorage>=3.2; sys_platform == \"linux\"->keyring>=4.0->astroquery>=0.3.10->lightkurve) (1.14.5)\n",
            "Requirement already satisfied: pycparser in /usr/local/lib/python3.7/dist-packages (from cffi>=1.12->cryptography>=2.0->SecretStorage>=3.2; sys_platform == \"linux\"->keyring>=4.0->astroquery>=0.3.10->lightkurve) (2.20)\n",
            "Building wheels for collected packages: fbpca, oktopus, astroquery\n",
            "  Building wheel for fbpca (setup.py) ... \u001b[?25l\u001b[?25hdone\n",
            "  Created wheel for fbpca: filename=fbpca-1.0-cp37-none-any.whl size=11376 sha256=2d614521e57437fa4f8864d3b1d8f69e890e4235f972ea152156954efa3e54ac\n",
            "  Stored in directory: /root/.cache/pip/wheels/53/a2/dd/9b66cf53dbc58cec1e613d216689e5fa946d3e7805c30f60dc\n",
            "  Building wheel for oktopus (setup.py) ... \u001b[?25l\u001b[?25hdone\n",
            "  Created wheel for oktopus: filename=oktopus-0.1.2-cp37-none-any.whl size=12780 sha256=1fc925c9c61c6ebaf4b36811e445909a39d26c6b462be75f99b7937425bb3f82\n",
            "  Stored in directory: /root/.cache/pip/wheels/9b/90/81/098fc66ee56166d63c9a8fc0a9672ae7b3423396a588ec952a\n",
            "  Building wheel for astroquery (setup.py) ... \u001b[?25l\u001b[?25hdone\n",
            "  Created wheel for astroquery: filename=astroquery-0.4.1-cp37-none-any.whl size=3831874 sha256=9e435ba74b73fc19c8796cd2ea9bf2f623470492af0220846d6b814163650081\n",
            "  Stored in directory: /root/.cache/pip/wheels/88/f8/b7/a254cd96e808f708bc0b7d755a8e095c56fbbe94099d7b464f\n",
            "Successfully built fbpca oktopus astroquery\n",
            "\u001b[31mERROR: jupyter-console 5.2.0 has requirement prompt-toolkit<2.0.0,>=1.0.0, but you'll have prompt-toolkit 3.0.16 which is incompatible.\u001b[0m\n",
            "\u001b[31mERROR: google-colab 1.0.0 has requirement ipython~=5.5.0, but you'll have ipython 7.21.0 which is incompatible.\u001b[0m\n",
            "\u001b[31mERROR: google-colab 1.0.0 has requirement requests~=2.23.0, but you'll have requests 2.25.1 which is incompatible.\u001b[0m\n",
            "\u001b[31mERROR: datascience 0.10.6 has requirement folium==0.2.1, but you'll have folium 0.8.3 which is incompatible.\u001b[0m\n",
            "Installing collected packages: memoization, fbpca, threadpoolctl, scikit-learn, requests, uncertainties, oktopus, prompt-toolkit, ipython, jeepney, cryptography, SecretStorage, keyring, astroquery, llvmlite, numba, lightkurve\n",
            "  Found existing installation: scikit-learn 0.22.2.post1\n",
            "    Uninstalling scikit-learn-0.22.2.post1:\n",
            "      Successfully uninstalled scikit-learn-0.22.2.post1\n",
            "  Found existing installation: requests 2.23.0\n",
            "    Uninstalling requests-2.23.0:\n",
            "      Successfully uninstalled requests-2.23.0\n",
            "  Found existing installation: prompt-toolkit 1.0.18\n",
            "    Uninstalling prompt-toolkit-1.0.18:\n",
            "      Successfully uninstalled prompt-toolkit-1.0.18\n",
            "  Found existing installation: ipython 5.5.0\n",
            "    Uninstalling ipython-5.5.0:\n",
            "      Successfully uninstalled ipython-5.5.0\n",
            "  Found existing installation: llvmlite 0.34.0\n",
            "    Uninstalling llvmlite-0.34.0:\n",
            "      Successfully uninstalled llvmlite-0.34.0\n",
            "  Found existing installation: numba 0.51.2\n",
            "    Uninstalling numba-0.51.2:\n",
            "      Successfully uninstalled numba-0.51.2\n",
            "Successfully installed SecretStorage-3.3.1 astroquery-0.4.1 cryptography-3.4.6 fbpca-1.0 ipython-7.21.0 jeepney-0.6.0 keyring-22.3.0 lightkurve-2.0.3 llvmlite-0.36.0rc2 memoization-0.3.2 numba-0.53.0rc2 oktopus-0.1.2 prompt-toolkit-3.0.16 requests-2.25.1 scikit-learn-0.24.1 threadpoolctl-2.1.0 uncertainties-3.1.5\n"
          ],
          "name": "stdout"
        },
        {
          "output_type": "display_data",
          "data": {
            "application/vnd.colab-display-data+json": {
              "pip_warning": {
                "packages": [
                  "IPython",
                  "prompt_toolkit"
                ]
              }
            }
          },
          "metadata": {
            "tags": []
          }
        },
        {
          "output_type": "stream",
          "text": [
            "Requirement already satisfied: astroquery in /usr/local/lib/python3.7/dist-packages (0.4.1)\n",
            "Requirement already satisfied: astropy>=3.1 in /usr/local/lib/python3.7/dist-packages (from astroquery) (4.2)\n",
            "Requirement already satisfied: beautifulsoup4>=4.3.2 in /usr/local/lib/python3.7/dist-packages (from astroquery) (4.6.3)\n",
            "Requirement already satisfied: six in /usr/local/lib/python3.7/dist-packages (from astroquery) (1.15.0)\n",
            "Requirement already satisfied: numpy in /usr/local/lib/python3.7/dist-packages (from astroquery) (1.19.5)\n",
            "Requirement already satisfied: keyring>=4.0 in /usr/local/lib/python3.7/dist-packages (from astroquery) (22.3.0)\n",
            "Requirement already satisfied: requests>=2.4.3 in /usr/local/lib/python3.7/dist-packages (from astroquery) (2.25.1)\n",
            "Requirement already satisfied: html5lib>=0.999 in /usr/local/lib/python3.7/dist-packages (from astroquery) (1.0.1)\n",
            "Requirement already satisfied: pyerfa in /usr/local/lib/python3.7/dist-packages (from astropy>=3.1->astroquery) (1.7.2)\n",
            "Requirement already satisfied: SecretStorage>=3.2; sys_platform == \"linux\" in /usr/local/lib/python3.7/dist-packages (from keyring>=4.0->astroquery) (3.3.1)\n",
            "Requirement already satisfied: importlib-metadata>=1; python_version < \"3.8\" in /usr/local/lib/python3.7/dist-packages (from keyring>=4.0->astroquery) (3.7.0)\n",
            "Requirement already satisfied: jeepney>=0.4.2; sys_platform == \"linux\" in /usr/local/lib/python3.7/dist-packages (from keyring>=4.0->astroquery) (0.6.0)\n",
            "Requirement already satisfied: chardet<5,>=3.0.2 in /usr/local/lib/python3.7/dist-packages (from requests>=2.4.3->astroquery) (3.0.4)\n",
            "Requirement already satisfied: certifi>=2017.4.17 in /usr/local/lib/python3.7/dist-packages (from requests>=2.4.3->astroquery) (2020.12.5)\n",
            "Requirement already satisfied: idna<3,>=2.5 in /usr/local/lib/python3.7/dist-packages (from requests>=2.4.3->astroquery) (2.10)\n",
            "Requirement already satisfied: urllib3<1.27,>=1.21.1 in /usr/local/lib/python3.7/dist-packages (from requests>=2.4.3->astroquery) (1.24.3)\n",
            "Requirement already satisfied: webencodings in /usr/local/lib/python3.7/dist-packages (from html5lib>=0.999->astroquery) (0.5.1)\n",
            "Requirement already satisfied: cryptography>=2.0 in /usr/local/lib/python3.7/dist-packages (from SecretStorage>=3.2; sys_platform == \"linux\"->keyring>=4.0->astroquery) (3.4.6)\n",
            "Requirement already satisfied: typing-extensions>=3.6.4; python_version < \"3.8\" in /usr/local/lib/python3.7/dist-packages (from importlib-metadata>=1; python_version < \"3.8\"->keyring>=4.0->astroquery) (3.7.4.3)\n",
            "Requirement already satisfied: zipp>=0.5 in /usr/local/lib/python3.7/dist-packages (from importlib-metadata>=1; python_version < \"3.8\"->keyring>=4.0->astroquery) (3.4.0)\n",
            "Requirement already satisfied: cffi>=1.12 in /usr/local/lib/python3.7/dist-packages (from cryptography>=2.0->SecretStorage>=3.2; sys_platform == \"linux\"->keyring>=4.0->astroquery) (1.14.5)\n",
            "Requirement already satisfied: pycparser in /usr/local/lib/python3.7/dist-packages (from cffi>=1.12->cryptography>=2.0->SecretStorage>=3.2; sys_platform == \"linux\"->keyring>=4.0->astroquery) (2.20)\n",
            "Requirement already satisfied: matplotlib in /usr/local/lib/python3.7/dist-packages (3.2.2)\n",
            "Requirement already satisfied: pyparsing!=2.0.4,!=2.1.2,!=2.1.6,>=2.0.1 in /usr/local/lib/python3.7/dist-packages (from matplotlib) (2.4.7)\n",
            "Requirement already satisfied: numpy>=1.11 in /usr/local/lib/python3.7/dist-packages (from matplotlib) (1.19.5)\n",
            "Requirement already satisfied: kiwisolver>=1.0.1 in /usr/local/lib/python3.7/dist-packages (from matplotlib) (1.3.1)\n",
            "Requirement already satisfied: python-dateutil>=2.1 in /usr/local/lib/python3.7/dist-packages (from matplotlib) (2.8.1)\n",
            "Requirement already satisfied: cycler>=0.10 in /usr/local/lib/python3.7/dist-packages (from matplotlib) (0.10.0)\n",
            "Requirement already satisfied: six>=1.5 in /usr/local/lib/python3.7/dist-packages (from python-dateutil>=2.1->matplotlib) (1.15.0)\n",
            "Requirement already satisfied: numpy in /usr/local/lib/python3.7/dist-packages (1.19.5)\n",
            "Requirement already satisfied: scipy in /usr/local/lib/python3.7/dist-packages (1.4.1)\n",
            "Requirement already satisfied: numpy>=1.13.3 in /usr/local/lib/python3.7/dist-packages (from scipy) (1.19.5)\n",
            "Requirement already satisfied: pandas in /usr/local/lib/python3.7/dist-packages (1.1.5)\n",
            "Requirement already satisfied: numpy>=1.15.4 in /usr/local/lib/python3.7/dist-packages (from pandas) (1.19.5)\n",
            "Requirement already satisfied: pytz>=2017.2 in /usr/local/lib/python3.7/dist-packages (from pandas) (2018.9)\n",
            "Requirement already satisfied: python-dateutil>=2.7.3 in /usr/local/lib/python3.7/dist-packages (from pandas) (2.8.1)\n",
            "Requirement already satisfied: six>=1.5 in /usr/local/lib/python3.7/dist-packages (from python-dateutil>=2.7.3->pandas) (1.15.0)\n",
            "Requirement already satisfied: tensorflow in /usr/local/lib/python3.7/dist-packages (2.4.1)\n",
            "Requirement already satisfied: h5py~=2.10.0 in /usr/local/lib/python3.7/dist-packages (from tensorflow) (2.10.0)\n",
            "Requirement already satisfied: six~=1.15.0 in /usr/local/lib/python3.7/dist-packages (from tensorflow) (1.15.0)\n",
            "Requirement already satisfied: wheel~=0.35 in /usr/local/lib/python3.7/dist-packages (from tensorflow) (0.36.2)\n",
            "Requirement already satisfied: wrapt~=1.12.1 in /usr/local/lib/python3.7/dist-packages (from tensorflow) (1.12.1)\n",
            "Requirement already satisfied: tensorflow-estimator<2.5.0,>=2.4.0 in /usr/local/lib/python3.7/dist-packages (from tensorflow) (2.4.0)\n",
            "Requirement already satisfied: flatbuffers~=1.12.0 in /usr/local/lib/python3.7/dist-packages (from tensorflow) (1.12)\n",
            "Requirement already satisfied: protobuf>=3.9.2 in /usr/local/lib/python3.7/dist-packages (from tensorflow) (3.12.4)\n",
            "Requirement already satisfied: astunparse~=1.6.3 in /usr/local/lib/python3.7/dist-packages (from tensorflow) (1.6.3)\n",
            "Requirement already satisfied: termcolor~=1.1.0 in /usr/local/lib/python3.7/dist-packages (from tensorflow) (1.1.0)\n",
            "Requirement already satisfied: tensorboard~=2.4 in /usr/local/lib/python3.7/dist-packages (from tensorflow) (2.4.1)\n",
            "Requirement already satisfied: grpcio~=1.32.0 in /usr/local/lib/python3.7/dist-packages (from tensorflow) (1.32.0)\n",
            "Requirement already satisfied: google-pasta~=0.2 in /usr/local/lib/python3.7/dist-packages (from tensorflow) (0.2.0)\n",
            "Requirement already satisfied: gast==0.3.3 in /usr/local/lib/python3.7/dist-packages (from tensorflow) (0.3.3)\n",
            "Requirement already satisfied: typing-extensions~=3.7.4 in /usr/local/lib/python3.7/dist-packages (from tensorflow) (3.7.4.3)\n",
            "Requirement already satisfied: keras-preprocessing~=1.1.2 in /usr/local/lib/python3.7/dist-packages (from tensorflow) (1.1.2)\n",
            "Requirement already satisfied: absl-py~=0.10 in /usr/local/lib/python3.7/dist-packages (from tensorflow) (0.10.0)\n",
            "Requirement already satisfied: numpy~=1.19.2 in /usr/local/lib/python3.7/dist-packages (from tensorflow) (1.19.5)\n",
            "Requirement already satisfied: opt-einsum~=3.3.0 in /usr/local/lib/python3.7/dist-packages (from tensorflow) (3.3.0)\n",
            "Requirement already satisfied: setuptools in /usr/local/lib/python3.7/dist-packages (from protobuf>=3.9.2->tensorflow) (53.0.0)\n",
            "Requirement already satisfied: google-auth-oauthlib<0.5,>=0.4.1 in /usr/local/lib/python3.7/dist-packages (from tensorboard~=2.4->tensorflow) (0.4.2)\n",
            "Requirement already satisfied: werkzeug>=0.11.15 in /usr/local/lib/python3.7/dist-packages (from tensorboard~=2.4->tensorflow) (1.0.1)\n",
            "Requirement already satisfied: google-auth<2,>=1.6.3 in /usr/local/lib/python3.7/dist-packages (from tensorboard~=2.4->tensorflow) (1.27.0)\n",
            "Requirement already satisfied: markdown>=2.6.8 in /usr/local/lib/python3.7/dist-packages (from tensorboard~=2.4->tensorflow) (3.3.4)\n",
            "Requirement already satisfied: tensorboard-plugin-wit>=1.6.0 in /usr/local/lib/python3.7/dist-packages (from tensorboard~=2.4->tensorflow) (1.8.0)\n",
            "Requirement already satisfied: requests<3,>=2.21.0 in /usr/local/lib/python3.7/dist-packages (from tensorboard~=2.4->tensorflow) (2.25.1)\n",
            "Requirement already satisfied: requests-oauthlib>=0.7.0 in /usr/local/lib/python3.7/dist-packages (from google-auth-oauthlib<0.5,>=0.4.1->tensorboard~=2.4->tensorflow) (1.3.0)\n",
            "Requirement already satisfied: rsa<5,>=3.1.4; python_version >= \"3.6\" in /usr/local/lib/python3.7/dist-packages (from google-auth<2,>=1.6.3->tensorboard~=2.4->tensorflow) (4.7.2)\n",
            "Requirement already satisfied: cachetools<5.0,>=2.0.0 in /usr/local/lib/python3.7/dist-packages (from google-auth<2,>=1.6.3->tensorboard~=2.4->tensorflow) (4.2.1)\n",
            "Requirement already satisfied: pyasn1-modules>=0.2.1 in /usr/local/lib/python3.7/dist-packages (from google-auth<2,>=1.6.3->tensorboard~=2.4->tensorflow) (0.2.8)\n",
            "Requirement already satisfied: importlib-metadata; python_version < \"3.8\" in /usr/local/lib/python3.7/dist-packages (from markdown>=2.6.8->tensorboard~=2.4->tensorflow) (3.7.0)\n",
            "Requirement already satisfied: certifi>=2017.4.17 in /usr/local/lib/python3.7/dist-packages (from requests<3,>=2.21.0->tensorboard~=2.4->tensorflow) (2020.12.5)\n",
            "Requirement already satisfied: urllib3<1.27,>=1.21.1 in /usr/local/lib/python3.7/dist-packages (from requests<3,>=2.21.0->tensorboard~=2.4->tensorflow) (1.24.3)\n",
            "Requirement already satisfied: chardet<5,>=3.0.2 in /usr/local/lib/python3.7/dist-packages (from requests<3,>=2.21.0->tensorboard~=2.4->tensorflow) (3.0.4)\n",
            "Requirement already satisfied: idna<3,>=2.5 in /usr/local/lib/python3.7/dist-packages (from requests<3,>=2.21.0->tensorboard~=2.4->tensorflow) (2.10)\n",
            "Requirement already satisfied: oauthlib>=3.0.0 in /usr/local/lib/python3.7/dist-packages (from requests-oauthlib>=0.7.0->google-auth-oauthlib<0.5,>=0.4.1->tensorboard~=2.4->tensorflow) (3.1.0)\n",
            "Requirement already satisfied: pyasn1>=0.1.3 in /usr/local/lib/python3.7/dist-packages (from rsa<5,>=3.1.4; python_version >= \"3.6\"->google-auth<2,>=1.6.3->tensorboard~=2.4->tensorflow) (0.4.8)\n",
            "Requirement already satisfied: zipp>=0.5 in /usr/local/lib/python3.7/dist-packages (from importlib-metadata; python_version < \"3.8\"->markdown>=2.6.8->tensorboard~=2.4->tensorflow) (3.4.0)\n",
            "Requirement already satisfied: astropy in /usr/local/lib/python3.7/dist-packages (4.2)\n",
            "Requirement already satisfied: pyerfa in /usr/local/lib/python3.7/dist-packages (from astropy) (1.7.2)\n",
            "Requirement already satisfied: numpy>=1.17 in /usr/local/lib/python3.7/dist-packages (from astropy) (1.19.5)\n"
          ],
          "name": "stdout"
        }
      ]
    },
    {
      "cell_type": "code",
      "metadata": {
        "id": "Oe9YHGNpr_NV"
      },
      "source": [
        "import lightkurve as lk\n",
        "from astropy.io import fits\n",
        "from matplotlib import pyplot as plt\n",
        "import numpy as np\n",
        "from sklearn.model_selection import train_test_split\n",
        "from sklearn.linear_model import LinearRegression\n",
        "from sklearn.metrics import r2_score, mean_squared_error, mean_absolute_error\n",
        "import math\n",
        "import scipy\n",
        "import pandas as pd \n",
        "from scipy import interpolate\n",
        "#tf\n",
        "from __future__ import absolute_import, division, print_function, unicode_literals\n",
        "import tensorflow as tf\n",
        "from tensorflow import keras\n",
        "from tensorflow.keras import datasets, layers, models"
      ],
      "execution_count": 2,
      "outputs": []
    },
    {
      "cell_type": "code",
      "metadata": {
        "colab": {
          "base_uri": "https://localhost:8080/"
        },
        "id": "E-fZxcJGsC1X",
        "outputId": "8383ecad-f11c-47d2-eb9e-447fd7a6a041"
      },
      "source": [
        "from google.colab import drive\n",
        "drive.mount('/content/drive')"
      ],
      "execution_count": 4,
      "outputs": [
        {
          "output_type": "stream",
          "text": [
            "Drive already mounted at /content/drive; to attempt to forcibly remount, call drive.mount(\"/content/drive\", force_remount=True).\n"
          ],
          "name": "stdout"
        }
      ]
    },
    {
      "cell_type": "markdown",
      "metadata": {
        "id": "DVGjokUlsHAR"
      },
      "source": [
        "# ML Model"
      ]
    },
    {
      "cell_type": "markdown",
      "metadata": {
        "id": "QxQoSvIgsMt3"
      },
      "source": [
        "## Cycle Configs"
      ]
    },
    {
      "cell_type": "code",
      "metadata": {
        "id": "XWra6TU8sEqV"
      },
      "source": [
        "#Cycles\n",
        "    #21\n",
        "        #cycle_21 = []\n",
        "        \n",
        "        #Start 1 March 1976\n",
        "        #End 1 September 1986\n",
        "        \n",
        "    #22\n",
        "        #cycle_22 = [2446674.5,2450296.5]\n",
        "        \n",
        "        #Start: 1 September 1986 2446674.5\n",
        "        #End: 1 August 1996 2450296.5\n",
        "        \n",
        "    #23\n",
        "cycle_23 = [2450296.5,2454801.5]\n",
        "        \n",
        "        #Start: 1 August 1996 2450296.5\n",
        "        #End: 1 December 2008 2454801.5\n",
        "        \n",
        "    #24\n",
        "cycle_24 = [2454801.5,2458940.5]\n",
        "        \n",
        "        #Start: 1 December 2008 2454801.5\n",
        "        #End: 1 May 2020 2458970.5\n",
        "        #NOTE: Due to dataset limitation, only analyzed up to 2458940.5\n",
        "\n",
        "cycle_2324 = [2450296.5,2458940.5]\n",
        "        "
      ],
      "execution_count": 5,
      "outputs": []
    },
    {
      "cell_type": "markdown",
      "metadata": {
        "id": "k3m1DupVtFpy"
      },
      "source": [
        "## BiSON Surface Velocity - Import X"
      ]
    },
    {
      "cell_type": "code",
      "metadata": {
        "colab": {
          "base_uri": "https://localhost:8080/"
        },
        "id": "cxjYC6eCtA3f",
        "outputId": "d0da1eed-479d-4efd-c4bb-babb435d1f1d"
      },
      "source": [
        "#hdul = fits.open('data/allsites-alldata-waverage-fill.fits')\n",
        "hdul = fits.open('/content/drive/MyDrive/Korea Research - Yihong Song and Rohit Prasanna/DSHS & AOS Physics Research Collaboration 2020/Project/Jr:Sr Project/Data/allsites-alldata-waverage-fill.fits')\n",
        "\n",
        "hdul.info()\n",
        "\n",
        "tsdata = hdul[0].data\n",
        "#         SIMPLE  =                    T / Written by IDL:  Tue Jan 19 11:22:20 2016      \n",
        "#         BITPIX  =                  -64 /Real*8 (double precision)                       \n",
        "#         NAXIS   =                    2 /                                                \n",
        "#         NAXIS1  =                    2 /                                                \n",
        "#         NAXIS2  =             24455519 /                                                \n",
        "DSTART =        2442778.50000 #Data start (Julian)      1/1/1976 0:00:00                        \n",
        "DEND   =        2458940.50000 #Data end (Julian)        4/1/2020 0:00:00                       \n",
        "#         STATIONS= 'na ca cb su iz la lb mo' /Stations Used                              \n",
        "#         METHOD  = 'waverage'           /Overlap Method                                  \n",
        "#         CADENCE = '40      '           /Timeseries Cadence                              \n",
        "#         N-THRES =                   80 /Noise Rejection Threshold                       \n",
        "#         GAPFILL =                    1 /GapFill                                         \n",
        "#         FILL    =             0.638866 /Duty Cycle   \n",
        "#\n",
        "#         ~2160 datapoints per day"
      ],
      "execution_count": 6,
      "outputs": [
        {
          "output_type": "stream",
          "text": [
            "Filename: /content/drive/MyDrive/Korea Research - Yihong Song and Rohit Prasanna/DSHS & AOS Physics Research Collaboration 2020/Project/Jr:Sr Project/Data/allsites-alldata-waverage-fill.fits\n",
            "No.    Name      Ver    Type      Cards   Dimensions   Format\n",
            "  0  PRIMARY       1 PrimaryHDU      15   (2, 34909918)   float64   \n"
          ],
          "name": "stdout"
        }
      ]
    },
    {
      "cell_type": "code",
      "metadata": {
        "colab": {
          "base_uri": "https://localhost:8080/"
        },
        "id": "Z0Dr-zxetLVx",
        "outputId": "bf349c0f-9032-4cf4-f0ea-3a89be64fc5d"
      },
      "source": [
        "def getSV(cycle):\n",
        "    #Subtract starting date\n",
        "    cycle = np.subtract(cycle,DSTART)\n",
        "    \n",
        "    #multiply by 2160 (2160 datapoints per day)\n",
        "    cycle = np.multiply(cycle,2160)\n",
        "    \n",
        "    return tsdata[int(cycle[0]):int(cycle[1])].T[1]\n",
        "\n",
        "def getSV_index(cycle):\n",
        "    #Subtract starting date\n",
        "    cycle = np.subtract(cycle,DSTART)\n",
        "    \n",
        "    #multiply by 2160 (2160 datapoints per day)\n",
        "    cycle = np.multiply(cycle,2160)\n",
        "    \n",
        "    return tsdata[int(cycle[0]):int(cycle[1])].T[0]\n",
        "\n",
        "#test\n",
        "print(getSV(cycle_23))\n",
        "print(getSV_index(cycle_23))"
      ],
      "execution_count": 7,
      "outputs": [
        {
          "output_type": "stream",
          "text": [
            "[ 0.52007627  0.87248993  0.11934945 ...  0.25079036 -1.0275805\n",
            " -0.95429337]\n",
            "[2450296.50033958 2450296.50080254 2450296.50126551 ... 2454801.49915418\n",
            " 2454801.49961714 2454801.50008011]\n"
          ],
          "name": "stdout"
        }
      ]
    },
    {
      "cell_type": "markdown",
      "metadata": {
        "id": "ibWpBF6Wtcm0"
      },
      "source": [
        "## Sunspot Number - Import Y"
      ]
    },
    {
      "cell_type": "code",
      "metadata": {
        "id": "loH2j9fGti1M"
      },
      "source": [
        "#sunspot_Day = np.genfromtxt('data/SN_d_tot_V2.0.csv',delimiter=';')\n",
        "sunspot_Day = np.genfromtxt('/content/drive/MyDrive/Korea Research - Yihong Song and Rohit Prasanna/DSHS & AOS Physics Research Collaboration 2020/Project/Jr:Sr Project/Data/SN_d_tot_V2.0.csv',delimiter=';')\n",
        "SNSTART_Day = 2385070.5\n",
        "SNEND_day = 2459000.5\n",
        "\n",
        "#sunspot_Month = np.genfromtxt('data/SN_ms_tot_V2.0.csv',delimiter=';')\n",
        "sunspot_Month = np.genfromtxt('/content/drive/MyDrive/Korea Research - Yihong Song and Rohit Prasanna/DSHS & AOS Physics Research Collaboration 2020/Project/Jr:Sr Project/Data/SN_ms_tot_V2.0.csv',delimiter=';')\n",
        "sunspot_Month = sunspot_Month[828:]"
      ],
      "execution_count": 8,
      "outputs": []
    },
    {
      "cell_type": "code",
      "metadata": {
        "colab": {
          "base_uri": "https://localhost:8080/"
        },
        "id": "HuJF_F7GuNrX",
        "outputId": "97dc053d-7fc6-4102-96da-b510cf877ffc"
      },
      "source": [
        "def getSN_Day(cycle):\n",
        "    if cycle[1] >= SNEND_day:\n",
        "        cycle[1] = SNEND_day\n",
        "    cycle = np.subtract(cycle, SNSTART_Day)\n",
        "    sn = sunspot_Day.T[4][int(cycle[0]):int(cycle[1])]\n",
        "    \n",
        "    npout = [[0,0]]\n",
        "    for i in range(len(sn)):\n",
        "        npout = np.append(npout,[[i+SNSTART_Day+cycle[0],sn[i]]],0)\n",
        "    npout = npout[1:]\n",
        "    return npout\n",
        "\n",
        "def getSNAverage(cycle,length):\n",
        "    \n",
        "    npout = [[0,0]]\n",
        "    total = 0\n",
        "    valid_count = 0\n",
        "    start = cycle[0][0]\n",
        "    for i in range(len(cycle)):\n",
        "        if cycle[i][1] >= 0:\n",
        "            total += cycle[i][1]\n",
        "            valid_count += 1\n",
        "        if (i+1) % length < 1 or i == len(cycle)-1:\n",
        "            if valid_count == 0:\n",
        "              npout = np.append(npout,[[start,np.average(cycle)]],0)\n",
        "            else:\n",
        "              npout = np.append(npout,[[start,total/valid_count]],0)\n",
        "            total = 0\n",
        "            valid_count = 0\n",
        "            if i == len(cycle)-1:\n",
        "                break\n",
        "            start = cycle[i+1][0]\n",
        "    npout = npout[1:]\n",
        "    return npout\n",
        "\n",
        "#Test\n",
        "getSN_Day(cycle_23)\n",
        "getSNAverage(getSN_Day(cycle_23),365)"
      ],
      "execution_count": 9,
      "outputs": [
        {
          "output_type": "execute_result",
          "data": {
            "text/plain": [
              "array([[2.45029650e+06, 1.45643836e+01],\n",
              "       [2.45066150e+06, 6.19232877e+01],\n",
              "       [2.45102650e+06, 1.21704110e+02],\n",
              "       [2.45139150e+06, 1.69175342e+02],\n",
              "       [2.45175650e+06, 1.53487671e+02],\n",
              "       [2.45212150e+06, 1.78747945e+02],\n",
              "       [2.45248650e+06, 1.29030137e+02],\n",
              "       [2.45285150e+06, 7.85397260e+01],\n",
              "       [2.45321650e+06, 5.33808219e+01],\n",
              "       [2.45358150e+06, 3.17945205e+01],\n",
              "       [2.45394650e+06, 1.95780822e+01],\n",
              "       [2.45431150e+06, 6.09041096e+00],\n",
              "       [2.45467650e+06, 2.98400000e+00]])"
            ]
          },
          "metadata": {
            "tags": []
          },
          "execution_count": 9
        }
      ]
    },
    {
      "cell_type": "markdown",
      "metadata": {
        "id": "qTogHSG6CCzr"
      },
      "source": [
        "## LOI Luminosity - Import Pred_Y"
      ]
    },
    {
      "cell_type": "code",
      "metadata": {
        "colab": {
          "base_uri": "https://localhost:8080/"
        },
        "id": "kGEexqpOCLVe",
        "outputId": "509fc9c3-23ee-4696-a064-7ce039194c37"
      },
      "source": [
        "#hdul = fits.open('data/allsites-alldata-waverage-fill.fits')\n",
        "hdul = fits.open('/content/drive/MyDrive/Korea Research - Yihong Song and Rohit Prasanna/DSHS & AOS Physics Research Collaboration 2020/Project/Jr:Sr Project/Data/ts_loi.fits')\n",
        "\n",
        "hdul.info()\n",
        "\n",
        "loidata = hdul[0].data\n",
        "\n",
        "# variations at at most 2000 ppm\n",
        "# cadence: 60s\n",
        "LOI_DSTART =        2450174.50000 #Data start (Julian)      1 April 1996 0:00:00                        \n",
        "LOI_DEND   =        2458589.50000 #Data end (Julian)        15 April 2019 0:00:00  \n",
        "\n",
        "#    #23\n",
        "# cycle_23 = [2450296.5,2454801.5]\n",
        "        \n",
        "#         #Start: 1 August 1996 2450296.5\n",
        "#         #End: 1 December 2008 2454801.5\n",
        "        \n",
        "#     #24\n",
        "# cycle_24 = [2454801.5,2458940.5]\n",
        "        \n",
        "#         #Start: 1 December 2008 2454801.5\n",
        "#         #End: 1 May 2020 2458970.5\n"
      ],
      "execution_count": 10,
      "outputs": [
        {
          "output_type": "stream",
          "text": [
            "Filename: /content/drive/MyDrive/Korea Research - Yihong Song and Rohit Prasanna/DSHS & AOS Physics Research Collaboration 2020/Project/Jr:Sr Project/Data/ts_loi.fits\n",
            "No.    Name      Ver    Type      Cards   Dimensions   Format\n",
            "  0  PRIMARY       1 PrimaryHDU       8   (12117600,)   float64   \n"
          ],
          "name": "stdout"
        }
      ]
    },
    {
      "cell_type": "code",
      "metadata": {
        "colab": {
          "base_uri": "https://localhost:8080/"
        },
        "id": "kRQ9lUiKCS0P",
        "outputId": "26614542-1735-4396-e944-6e14b492d0d4"
      },
      "source": [
        "#Prepare LOI\n",
        "loidatax = np.arange(LOI_DSTART,LOI_DEND,1/1440)\n",
        "loifull = np.append([loidatax],[loidata],0).T\n",
        "print(loifull.shape)"
      ],
      "execution_count": 11,
      "outputs": [
        {
          "output_type": "stream",
          "text": [
            "(12117600, 2)\n"
          ],
          "name": "stdout"
        }
      ]
    },
    {
      "cell_type": "code",
      "metadata": {
        "colab": {
          "base_uri": "https://localhost:8080/"
        },
        "id": "-9zTYxeDCbYg",
        "outputId": "5d780c46-4231-4d3f-ca2d-985cf4b55e9e"
      },
      "source": [
        "def getLOI(cycle):\n",
        "    #Subtract starting date\n",
        "    cycle = np.subtract(cycle,LOI_DSTART)\n",
        "    \n",
        "    #multiply by 1440 (1440 datapoints per day)\n",
        "    cycle = np.multiply(cycle,1440)\n",
        "    \n",
        "    return loifull[int(cycle[0]):int(cycle[1])]\n",
        "\n",
        "print(getLOI([2450174.5,2458590.5]).shape)"
      ],
      "execution_count": 12,
      "outputs": [
        {
          "output_type": "stream",
          "text": [
            "(12117600, 2)\n"
          ],
          "name": "stdout"
        }
      ]
    },
    {
      "cell_type": "markdown",
      "metadata": {
        "id": "PP5GA4qKvi9u"
      },
      "source": [
        "## Helper Functions"
      ]
    },
    {
      "cell_type": "code",
      "metadata": {
        "id": "QVsGWCJsvyAF"
      },
      "source": [
        "#Interpolation\n",
        "def interpolate(data, smoothness):\n",
        "    from scipy import interpolate\n",
        "    x_new = np.linspace((data[0][0])-1,int(data[-1][0])+1,smoothness)\n",
        "    a_BSpline = interpolate.make_interp_spline(data.T[0],data.T[1])\n",
        "    y_new = a_BSpline(x_new)\n",
        "    return x_new,y_new"
      ],
      "execution_count": null,
      "outputs": []
    },
    {
      "cell_type": "code",
      "metadata": {
        "id": "iHp-zY52JK0Q"
      },
      "source": [
        "def normalize1D(data):\n",
        "    return np.divide(np.nan_to_num(data,np.nanmean(data)),np.nanmax(data))"
      ],
      "execution_count": null,
      "outputs": []
    },
    {
      "cell_type": "code",
      "metadata": {
        "id": "jZiUtYeIKP5k"
      },
      "source": [
        "def normalize2D(data):\n",
        "    for i in range(int(len(data))):\n",
        "        if np.isnan(data[i]).all():\n",
        "            data[i] = np.nan_to_num(data[i],np.nanmean(data[i-1]))\n",
        "        else:\n",
        "            data[i] = np.nan_to_num(data[i],np.nanmean(data[i-1] if i > 0 else 0))\n",
        "            data[i] = np.divide(data[i],np.nanmax(data[i]))\n",
        "    return data"
      ],
      "execution_count": null,
      "outputs": []
    },
    {
      "cell_type": "code",
      "metadata": {
        "id": "TKfYGF1Gfu89"
      },
      "source": [
        "def removeNans(data):\n",
        "  arr = data.T[1]\n",
        "  arr[arr == 0] = 'nan'\n",
        "  return [data.T[0],arr].T"
      ],
      "execution_count": null,
      "outputs": []
    },
    {
      "cell_type": "markdown",
      "metadata": {
        "id": "RdzzwEyWvELy"
      },
      "source": [
        "## Lightkurve Asteroseismology - Functions"
      ]
    },
    {
      "cell_type": "code",
      "metadata": {
        "colab": {
          "base_uri": "https://localhost:8080/"
        },
        "id": "Juc8dyxbuO_B",
        "outputId": "171d31c4-b422-4aa0-f7a3-5b5544e608a3"
      },
      "source": [
        "def getPeriodogram(time,freq,numax=-1):\n",
        "    lc = lk.LightCurve(time=time.tolist(),flux=freq.tolist())\n",
        "    lc = lc.remove_nans()\n",
        "    if numax != -1:\n",
        "        pg = lc.to_periodogram(method='lombscargle', normalization='psd',minimum_frequency=numax-600, maximum_frequency=numax+1000)\n",
        "    else:\n",
        "        pg = lc.to_periodogram(method='lombscargle', normalization='psd',minimum_frequency=500, maximum_frequency=5000)\n",
        "    #ax = pg.plot()\n",
        "    return pg\n",
        "\n",
        "pg = getPeriodogram(getSV_index(cycle_23)[110000:120000],getSV(cycle_23)[110000:120000])[0:5]\n",
        "print(pg)"
      ],
      "execution_count": null,
      "outputs": [
        {
          "output_type": "stream",
          "text": [
            "LombScarglePeriodogram(ID: None)\n"
          ],
          "name": "stdout"
        }
      ]
    },
    {
      "cell_type": "code",
      "metadata": {
        "colab": {
          "base_uri": "https://localhost:8080/"
        },
        "id": "dbhEO8JyyFX7",
        "outputId": "6d2cdc7f-f3bc-4cb1-8d6c-7050342d771c"
      },
      "source": [
        "def getPower(pg):\n",
        "    pg_data = pg.to_table()\n",
        "    data = np.array(pg_data['power']).T#.tolist()\n",
        "    return data\n",
        "\n",
        "ptest = getPower(getPeriodogram(getSV_index(cycle_23)[110000:120000],getSV(cycle_23)[110000:120000]))[0:5]\n",
        "print(ptest)"
      ],
      "execution_count": null,
      "outputs": [
        {
          "output_type": "stream",
          "text": [
            "[1.63584896e-04 5.28813580e-05 2.22539936e-05 5.47090798e-05\n",
            " 1.00064050e-05]\n"
          ],
          "name": "stdout"
        }
      ]
    },
    {
      "cell_type": "code",
      "metadata": {
        "colab": {
          "base_uri": "https://localhost:8080/"
        },
        "id": "skiqRJwiyTQS",
        "outputId": "67b35102-1e12-45d1-fd4a-ed04101ddc79"
      },
      "source": [
        "def getNumax(pg):\n",
        "  snr = pg.flatten()\n",
        "  seis = snr.to_seismology()\n",
        "  numax = int(str(seis.estimate_numax())[:-6])\n",
        "\n",
        "  return numax\n",
        "\n",
        "nutest = getNumax(getPeriodogram(getSV_index(cycle_23)[110000:120000],getSV(cycle_23)[110000:120000]))\n",
        "print(nutest)"
      ],
      "execution_count": null,
      "outputs": [
        {
          "output_type": "stream",
          "text": [
            "3105\n"
          ],
          "name": "stdout"
        }
      ]
    },
    {
      "cell_type": "code",
      "metadata": {
        "id": "ISIWlXg4vILA"
      },
      "source": [
        "def tsPower(time,freq,length,interval,BiSON=False):\n",
        "  if BiSON:\n",
        "      length = int(length * 2160)\n",
        "      interval = int(interval * 2160)\n",
        "  else:\n",
        "      length = int(length * 1440)\n",
        "      interval = int(interval * 1440)\n",
        "  \n",
        "  numax = getNumax(getPeriodogram(time[:500000],freq[:500000]))\n",
        "\n",
        "  check = True\n",
        "  for start in range(0,len(time),interval):\n",
        "      if start + length >= len(time):\n",
        "          length = len(time) - start\n",
        "      if check:\n",
        "        check = False\n",
        "        npout1d = np.array([getPower(getPeriodogram(time[start:start+length],freq[start:start+length],numax))])\n",
        "      else:\n",
        "        temp = np.array([getPower(getPeriodogram(time[start:start+length],freq[start:start+length],numax))])\n",
        "        if temp.size == npout1d[-1].size:\n",
        "          npout1d = np.append(npout1d,temp,0)\n",
        "\n",
        "\n",
        "  return npout1d,numax"
      ],
      "execution_count": null,
      "outputs": []
    },
    {
      "cell_type": "code",
      "metadata": {
        "id": "2BMN0X1BYper"
      },
      "source": [
        "def toLightCurve(time,freq):\n",
        "  return lk.LightCurve(time=time,flux=freq)"
      ],
      "execution_count": null,
      "outputs": []
    },
    {
      "cell_type": "code",
      "metadata": {
        "id": "GZczSCZzgEba"
      },
      "source": [
        "def toData(lc):\n",
        "    lc_data = lc.to_table()\n",
        "    data = np.array(lc_data['flux'])\n",
        "    \n"
      ],
      "execution_count": null,
      "outputs": []
    },
    {
      "cell_type": "markdown",
      "metadata": {
        "id": "x1LYwyeEvkrf"
      },
      "source": [
        "## Model Preprocessing"
      ]
    },
    {
      "cell_type": "markdown",
      "metadata": {
        "id": "U4eOXkoW7XKZ"
      },
      "source": [
        "### BiSON Surface Velocity - Preprocess X"
      ]
    },
    {
      "cell_type": "code",
      "metadata": {
        "id": "eVKe_vlRvY2L"
      },
      "source": [
        "BiSON_ts_23,BiSON_numax_23= tsPower(getSV_index(cycle_23),getSV(cycle_23),90,30,True)"
      ],
      "execution_count": null,
      "outputs": []
    },
    {
      "cell_type": "code",
      "metadata": {
        "colab": {
          "base_uri": "https://localhost:8080/"
        },
        "id": "vLX6vNIk2Beb",
        "outputId": "bb3c1275-59c1-43b0-d2f2-95131053084a"
      },
      "source": [
        "print(BiSON_numax_23,BiSON_ts_23.shape)\n",
        "print(BiSON_ts_23[:5])"
      ],
      "execution_count": null,
      "outputs": [
        {
          "output_type": "stream",
          "text": [
            "3015 (148, 12442)\n",
            "[[1.03979968e-05 5.29660439e-05 6.79584287e-05 ... 7.36963116e-06\n",
            "  1.04668014e-05 6.01689644e-05]\n",
            " [9.34218945e-06 3.68326689e-05 5.81982251e-05 ... 1.62203664e-05\n",
            "  9.01618981e-07 2.32030182e-05]\n",
            " [5.72219990e-05 3.62517996e-05 4.45341103e-05 ... 2.90240840e-05\n",
            "  7.96319713e-05 5.88030316e-05]\n",
            " [1.27027056e-04 6.99308610e-05 7.00852551e-05 ... 9.37977980e-06\n",
            "  9.25918224e-05 3.92324547e-05]\n",
            " [2.86466009e-05 1.19806514e-04 3.20532445e-05 ... 8.00815947e-05\n",
            "  3.41505514e-05 2.50407341e-05]]\n"
          ],
          "name": "stdout"
        }
      ]
    },
    {
      "cell_type": "code",
      "metadata": {
        "id": "mFoyeOmL6k1z"
      },
      "source": [
        "BiSON_ts_24,BiSON_numax_24 = tsPower(getSV_index(cycle_24),getSV(cycle_24),90,30,True)"
      ],
      "execution_count": null,
      "outputs": []
    },
    {
      "cell_type": "code",
      "metadata": {
        "colab": {
          "base_uri": "https://localhost:8080/"
        },
        "id": "12_hPsaQ7HAx",
        "outputId": "5e407f87-a435-4d51-9cb2-50f3dc3c09a1"
      },
      "source": [
        "print(BiSON_numax_24,BiSON_ts_24.shape)\n",
        "print(BiSON_ts_24[:5])"
      ],
      "execution_count": null,
      "outputs": [
        {
          "output_type": "stream",
          "text": [
            "3025 (135, 12442)\n",
            "[[2.18577106e-03 6.16210276e-03 2.21387947e-03 ... 2.16143741e-04\n",
            "  2.61870979e-06 2.80215805e-05]\n",
            " [1.17659371e-03 5.62225820e-03 1.68746566e-03 ... 5.12118329e-05\n",
            "  4.57678851e-05 4.06941549e-05]\n",
            " [3.24292581e-03 4.64330741e-04 5.91899543e-05 ... 3.51976427e-05\n",
            "  2.36395466e-05 1.84987228e-04]\n",
            " [7.13741373e-04 1.64587826e-03 5.02287057e-04 ... 5.40686663e-05\n",
            "  7.04134051e-05 4.22713209e-05]\n",
            " [5.00993037e-04 5.98173391e-04 1.36099010e-03 ... 1.77870671e-06\n",
            "  1.17520176e-04 1.69768958e-05]]\n"
          ],
          "name": "stdout"
        }
      ]
    },
    {
      "cell_type": "code",
      "metadata": {
        "id": "sp23I4WT7qUj"
      },
      "source": [
        "BiSON_ts_full,BiSON_numax_full = tsPower(getSV_index(cycle_2324),getSV(cycle_2324),90,30,True)"
      ],
      "execution_count": null,
      "outputs": []
    },
    {
      "cell_type": "code",
      "metadata": {
        "colab": {
          "base_uri": "https://localhost:8080/"
        },
        "id": "pWB8ykV38zVe",
        "outputId": "9a8b2fc4-c252-405c-8ae9-d7197359bbbb"
      },
      "source": [
        "print(BiSON_numax_full,BiSON_ts_full.shape)\n",
        "print(BiSON_ts_full[:5])"
      ],
      "execution_count": null,
      "outputs": [
        {
          "output_type": "stream",
          "text": [
            "3015 (286, 12442)\n",
            "[[1.03979968e-05 5.29660439e-05 6.79584287e-05 ... 7.36963116e-06\n",
            "  1.04668014e-05 6.01689644e-05]\n",
            " [9.34218945e-06 3.68326689e-05 5.81982251e-05 ... 1.62203664e-05\n",
            "  9.01618981e-07 2.32030182e-05]\n",
            " [5.72219990e-05 3.62517996e-05 4.45341103e-05 ... 2.90240840e-05\n",
            "  7.96319713e-05 5.88030316e-05]\n",
            " [1.27027056e-04 6.99308610e-05 7.00852551e-05 ... 9.37977980e-06\n",
            "  9.25918224e-05 3.92324547e-05]\n",
            " [2.86466009e-05 1.19806514e-04 3.20532445e-05 ... 8.00815947e-05\n",
            "  3.41505514e-05 2.50407341e-05]]\n"
          ],
          "name": "stdout"
        }
      ]
    },
    {
      "cell_type": "markdown",
      "metadata": {
        "id": "8n-wlqek7giV"
      },
      "source": [
        "### Sunspot Number - Preprocess Y"
      ]
    },
    {
      "cell_type": "code",
      "metadata": {
        "id": "0fn2OZLNBYc0"
      },
      "source": [
        "SN_DELETE = -3"
      ],
      "execution_count": null,
      "outputs": []
    },
    {
      "cell_type": "code",
      "metadata": {
        "colab": {
          "base_uri": "https://localhost:8080/"
        },
        "id": "vUm9luU47IGy",
        "outputId": "74dffe03-7261-4be5-e954-0b0391276062"
      },
      "source": [
        "SN_ts_23 = getSNAverage(np.ma.masked_equal(getSN_Day(cycle_23),0),30)[:SN_DELETE]\n",
        "print(SN_ts_23.shape)"
      ],
      "execution_count": null,
      "outputs": [
        {
          "output_type": "stream",
          "text": [
            "(148, 2)\n"
          ],
          "name": "stdout"
        }
      ]
    },
    {
      "cell_type": "code",
      "metadata": {
        "colab": {
          "base_uri": "https://localhost:8080/"
        },
        "id": "w0JqYzN1-j89",
        "outputId": "e9d61a62-a41d-4a02-d5cb-4fc3fb233d12"
      },
      "source": [
        "SN_ts_24 = getSNAverage(np.ma.masked_equal(getSN_Day(cycle_24),0),30)[:SN_DELETE]\n",
        "print(SN_ts_24.shape)"
      ],
      "execution_count": null,
      "outputs": [
        {
          "output_type": "stream",
          "text": [
            "(135, 2)\n"
          ],
          "name": "stdout"
        }
      ]
    },
    {
      "cell_type": "code",
      "metadata": {
        "colab": {
          "base_uri": "https://localhost:8080/"
        },
        "id": "orldmhXG_IR7",
        "outputId": "daf6b565-6014-4287-ae3f-bc635ce8f2b6"
      },
      "source": [
        "SN_ts_full = getSNAverage(np.ma.masked_equal(getSN_Day(cycle_2324),0),30)[:SN_DELETE]\n",
        "print(SN_ts_full.shape)"
      ],
      "execution_count": null,
      "outputs": [
        {
          "output_type": "stream",
          "text": [
            "(286, 2)\n"
          ],
          "name": "stdout"
        }
      ]
    },
    {
      "cell_type": "markdown",
      "metadata": {
        "id": "H2RNBiUsBnCn"
      },
      "source": [
        "### LOI Luminosity - Preprocess Pred_Y"
      ]
    },
    {
      "cell_type": "code",
      "metadata": {
        "colab": {
          "base_uri": "https://localhost:8080/"
        },
        "id": "bQrZ1Hx9_KNg",
        "outputId": "295bfed7-ae1d-4fbe-a93f-945bed4bbaed"
      },
      "source": [
        "print(getLOI(cycle_23).shape)\n",
        "print(getLOI(cycle_23)[:10])"
      ],
      "execution_count": null,
      "outputs": [
        {
          "output_type": "stream",
          "text": [
            "(6487200, 2)\n",
            "[[ 2.45029650e+06 -2.08807224e-04]\n",
            " [ 2.45029650e+06 -1.99935382e-04]\n",
            " [ 2.45029650e+06 -2.12478601e-04]\n",
            " [ 2.45029650e+06 -2.09473520e-04]\n",
            " [ 2.45029650e+06 -2.38117448e-04]\n",
            " [ 2.45029650e+06 -2.55843421e-04]\n",
            " [ 2.45029650e+06 -2.29274237e-04]\n",
            " [ 2.45029650e+06 -2.39407792e-04]\n",
            " [ 2.45029651e+06 -2.34207347e-04]\n",
            " [ 2.45029651e+06 -1.84112930e-04]]\n"
          ],
          "name": "stdout"
        }
      ]
    },
    {
      "cell_type": "code",
      "metadata": {
        "id": "Nq_-jtMVC9j6"
      },
      "source": [
        "LOI_ts_23,LOI_numax_23= tsPower(getLOI(cycle_23).T[0],getLOI(cycle_23).T[1],90,30)"
      ],
      "execution_count": null,
      "outputs": []
    },
    {
      "cell_type": "code",
      "metadata": {
        "colab": {
          "base_uri": "https://localhost:8080/"
        },
        "id": "vAtqlsO2DkxS",
        "outputId": "9e2fd81e-6a83-4290-964a-a49e7369d692"
      },
      "source": [
        "print(LOI_numax_23,LOI_ts_23.shape)\n",
        "print(LOI_ts_23[0:5])"
      ],
      "execution_count": null,
      "outputs": [
        {
          "output_type": "stream",
          "text": [
            "3135 (148, 12442)\n",
            "[[2.90967053e-13 5.74977068e-13 1.84570823e-13 ... 5.10627338e-15\n",
            "  6.43127798e-16 1.08807813e-13]\n",
            " [1.35447485e-13 5.78911594e-13 2.80072719e-13 ... 5.23836402e-14\n",
            "  6.99206514e-14 5.95356905e-15]\n",
            " [9.44777825e-14 5.52449633e-14 7.36447570e-13 ... 8.94679500e-14\n",
            "  3.91803577e-14 1.97046697e-14]\n",
            " [2.81269308e-14 3.25171329e-14 3.48045210e-13 ... 2.37893347e-13\n",
            "  2.65631315e-14 2.91629728e-14]\n",
            " [1.40729347e-13 3.60212653e-14 4.01436433e-13 ... 1.67769600e-13\n",
            "  9.98741958e-14 4.24867664e-14]]\n"
          ],
          "name": "stdout"
        }
      ]
    },
    {
      "cell_type": "code",
      "metadata": {
        "id": "mFzeLBpGD5Is"
      },
      "source": [
        "LOI_ts_24,LOI_numax_24= tsPower(getLOI(cycle_24).T[0],getLOI(cycle_24).T[1],90,30)"
      ],
      "execution_count": null,
      "outputs": []
    },
    {
      "cell_type": "code",
      "metadata": {
        "colab": {
          "base_uri": "https://localhost:8080/"
        },
        "id": "La4xs0vgEcfl",
        "outputId": "2baef165-47ff-4955-8234-731ccde2ce66"
      },
      "source": [
        "print(LOI_numax_24,LOI_ts_24.shape)\n",
        "print(LOI_ts_24[0:5])"
      ],
      "execution_count": null,
      "outputs": [
        {
          "output_type": "stream",
          "text": [
            "3125 (124, 12442)\n",
            "[[1.22759802e-13 1.05065790e-14 5.39679140e-14 ... 1.53897234e-14\n",
            "  2.64453164e-14 1.21345111e-13]\n",
            " [1.17943064e-13 4.11838551e-13 3.49158538e-13 ... 1.55539243e-13\n",
            "  2.51200152e-14 1.10986065e-13]\n",
            " [2.10667055e-13 4.92489719e-13 1.28134575e-13 ... 6.81037481e-14\n",
            "  5.29893794e-14 6.81585689e-14]\n",
            " [3.66371866e-14 1.17594388e-12 1.28265368e-13 ... 1.10979573e-13\n",
            "  1.24778388e-15 1.52842913e-13]\n",
            " [1.56761895e-13 1.56913231e-13 5.91421666e-13 ... 3.09191164e-14\n",
            "  6.42176783e-14 4.39267055e-14]]\n"
          ],
          "name": "stdout"
        }
      ]
    },
    {
      "cell_type": "code",
      "metadata": {
        "id": "lX70UBDtEeAV"
      },
      "source": [
        "LOI_ts_full,LOI_numax_full= tsPower(getLOI(cycle_2324).T[0],getLOI(cycle_2324).T[1],90,30)"
      ],
      "execution_count": null,
      "outputs": []
    },
    {
      "cell_type": "code",
      "metadata": {
        "colab": {
          "base_uri": "https://localhost:8080/"
        },
        "id": "dDKMl2_sEkaR",
        "outputId": "e1ddc48d-a925-475a-e902-b6c13c25d330"
      },
      "source": [
        "print(LOI_numax_full,LOI_ts_full.shape)\n",
        "print(LOI_ts_full[0:5])"
      ],
      "execution_count": null,
      "outputs": [
        {
          "output_type": "stream",
          "text": [
            "3135 (274, 12442)\n",
            "[[2.90967053e-13 5.74977068e-13 1.84570823e-13 ... 5.10627338e-15\n",
            "  6.43127798e-16 1.08807813e-13]\n",
            " [1.35447485e-13 5.78911594e-13 2.80072719e-13 ... 5.23836402e-14\n",
            "  6.99206514e-14 5.95356905e-15]\n",
            " [9.44777825e-14 5.52449633e-14 7.36447570e-13 ... 8.94679500e-14\n",
            "  3.91803577e-14 1.97046697e-14]\n",
            " [2.81269308e-14 3.25171329e-14 3.48045210e-13 ... 2.37893347e-13\n",
            "  2.65631315e-14 2.91629728e-14]\n",
            " [1.40729347e-13 3.60212653e-14 4.01436433e-13 ... 1.67769600e-13\n",
            "  9.98741958e-14 4.24867664e-14]]\n"
          ],
          "name": "stdout"
        }
      ]
    },
    {
      "cell_type": "markdown",
      "metadata": {
        "id": "9GdgXJ-XEr_J"
      },
      "source": [
        "## Align Dims"
      ]
    },
    {
      "cell_type": "code",
      "metadata": {
        "colab": {
          "base_uri": "https://localhost:8080/"
        },
        "id": "VVVqrL5fEnT3",
        "outputId": "335bd076-9cdd-42b8-eb1a-6b155f497957"
      },
      "source": [
        "# Cycle 23 Dims\n",
        "print(\"Cycle 23 Dims\")\n",
        "try:\n",
        "  print(BiSON_ts_23.shape,SN_ts_23.shape,LOI_ts_23.shape)\n",
        "except:\n",
        "  pass\n",
        "print()\n",
        "\n",
        "# Cycle 24 Dims\n",
        "print(\"Cycle 24 Dims\")\n",
        "try:\n",
        "  print(BiSON_ts_24.shape,SN_ts_24.shape,LOI_ts_24.shape)\n",
        "except:\n",
        "  pass\n",
        "print()\n",
        "\n",
        "# Full Cycle Dims\n",
        "print(\"Cycle FULL Dims\")\n",
        "try:\n",
        "  print(BiSON_ts_full.shape,SN_ts_full.shape,LOI_ts_full.shape)\n",
        "except:\n",
        "  pass\n",
        "print()"
      ],
      "execution_count": null,
      "outputs": [
        {
          "output_type": "stream",
          "text": [
            "Cycle 23 Dims\n",
            "(148, 12442) (148, 2) (148, 12442)\n",
            "\n",
            "Cycle 24 Dims\n",
            "(135, 12442) (135, 2) (124, 12442)\n",
            "\n",
            "Cycle FULL Dims\n",
            "(286, 12442) (286, 2) (274, 12442)\n",
            "\n"
          ],
          "name": "stdout"
        }
      ]
    },
    {
      "cell_type": "code",
      "metadata": {
        "id": "LDWqFa_rFtUC"
      },
      "source": [
        "#Fitting dims to LOI due to missing end of cycle 24\n",
        "BiSON_ts_24_fit = BiSON_ts_24[:len(LOI_ts_24)]\n",
        "SN_ts_24_fit = SN_ts_24[:len(LOI_ts_24)]\n",
        "\n",
        "BiSON_ts_full_fit = BiSON_ts_full[:len(LOI_ts_full)]\n",
        "SN_ts_full_fit = SN_ts_full[:len(LOI_ts_full)]"
      ],
      "execution_count": null,
      "outputs": []
    },
    {
      "cell_type": "code",
      "metadata": {
        "colab": {
          "base_uri": "https://localhost:8080/"
        },
        "id": "bIB-nkdDG7Mb",
        "outputId": "bceb07e2-da75-43cd-bfaa-8ce6001ea750"
      },
      "source": [
        "# Test Fitted Dims\n",
        "# Cycle 23 Dims\n",
        "print(\"Cycle 23 Dims\")\n",
        "try:\n",
        "  print(BiSON_ts_23.shape,SN_ts_23.shape,LOI_ts_23.shape)\n",
        "except:\n",
        "  pass\n",
        "print()\n",
        "\n",
        "# Cycle 24 Dims\n",
        "print(\"Cycle 24 Dims\")\n",
        "try:\n",
        "  print(BiSON_ts_24_fit.shape,SN_ts_24_fit.shape,LOI_ts_24.shape)\n",
        "except:\n",
        "  pass\n",
        "print()\n",
        "\n",
        "# Full Cycle Dims\n",
        "print(\"Cycle FULL Dims\")\n",
        "try:\n",
        "  print(BiSON_ts_full_fit.shape,SN_ts_full_fit.shape,LOI_ts_full.shape)\n",
        "except:\n",
        "  pass\n",
        "print()"
      ],
      "execution_count": null,
      "outputs": [
        {
          "output_type": "stream",
          "text": [
            "Cycle 23 Dims\n",
            "(148, 12442) (148, 2) (148, 12442)\n",
            "\n",
            "Cycle 24 Dims\n",
            "(124, 12442) (124, 2) (124, 12442)\n",
            "\n",
            "Cycle FULL Dims\n",
            "(274, 12442) (274, 2) (274, 12442)\n",
            "\n"
          ],
          "name": "stdout"
        }
      ]
    },
    {
      "cell_type": "markdown",
      "metadata": {
        "id": "hVpmJmoWHih2"
      },
      "source": [
        "## Model Architecture"
      ]
    },
    {
      "cell_type": "code",
      "metadata": {
        "colab": {
          "base_uri": "https://localhost:8080/"
        },
        "id": "69wMSk9cKCC3",
        "outputId": "336c8876-8de9-47f9-aaaf-7fd671a014d8"
      },
      "source": [
        "#Test_Normalize\n",
        "print(normalize1D(SN_ts_full_fit.T[1])[0:10])\n",
        "print(np.max(normalize2D(BiSON_ts_full_fit)))\n",
        "print(normalize2D(BiSON_ts_full_fit)[0:2])"
      ],
      "execution_count": null,
      "outputs": [
        {
          "output_type": "stream",
          "text": [
            "[0.07982504 0.07996173 0.02870421 0.14460016 0.09997657 0.05194095\n",
            " 0.07927829 0.0763737  0.11193123 0.1154477 ]\n",
            "1.0\n",
            "[[2.83240377e-04 1.44278966e-03 1.85118070e-03 ... 2.00748005e-04\n",
            "  2.85114608e-04 1.63899648e-03]\n",
            " [2.37534598e-04 9.36507790e-04 1.47974863e-03 ... 4.12419191e-04\n",
            "  2.29245728e-05 5.89960162e-04]]\n"
          ],
          "name": "stdout"
        }
      ]
    },
    {
      "cell_type": "code",
      "metadata": {
        "colab": {
          "base_uri": "https://localhost:8080/"
        },
        "id": "GG6HSObaH_32",
        "outputId": "555d4e9c-bfa7-4215-a61d-872d0f3f1ee8"
      },
      "source": [
        "#Load Data\n",
        "train_x = normalize2D(BiSON_ts_full_fit)\n",
        "train_y = normalize1D(SN_ts_full_fit.T[1])\n",
        "test_x = normalize2D(BiSON_ts_24_fit)\n",
        "test_y = normalize1D(SN_ts_24_fit.T[1])\n",
        "print(np.max(train_x),np.max(train_y),np.max(test_x),np.max(test_y))"
      ],
      "execution_count": null,
      "outputs": [
        {
          "output_type": "stream",
          "text": [
            "1.0 1.0 1.0 1.0\n"
          ],
          "name": "stdout"
        }
      ]
    },
    {
      "cell_type": "code",
      "metadata": {
        "colab": {
          "base_uri": "https://localhost:8080/"
        },
        "id": "WQrAq0ZxHQIn",
        "outputId": "1c4df232-4a29-49f0-8e47-a18f22a970ae"
      },
      "source": [
        "# tf.test.gpu_device_name() # No GPU Sad :v\n",
        "keras.backend.clear_session()\n",
        "# model = models.Sequential()\n",
        "\n",
        "# model.add(layers.Conv1D(1024, 1, activation='relu',batch_input_shape=train_x.shape))\n",
        "# model.add(layers.Dense(128))\n",
        "# model.add(layers.Conv1D(32, 1, activation='relu'))\n",
        "# model.add(layers.Dense(1,activation=\"sigmoid\"))\n",
        "\n",
        "# model.summary()\n",
        "\n",
        "model = models.Sequential()\n",
        "#model.add(layers.Conv1D(filters=16, kernel_size=1, activation='relu', batch_input_shape=(train_x.shape)))\n",
        "\n",
        "#model.add(layers.Embedding(input_dim=64, output_dim=16))\n",
        "model.add(layers.Dense(1024, activation='relu', input_shape=(train_x.shape)))\n",
        "model.add(layers.Dense(512, activation='relu'))\n",
        "model.add(layers.Dense(128, activation='relu'))\n",
        "model.add(layers.Dense(16, activation='relu'))\n",
        "model.add(layers.Dense(1))\n",
        "model.summary()"
      ],
      "execution_count": null,
      "outputs": [
        {
          "output_type": "stream",
          "text": [
            "Model: \"sequential\"\n",
            "_________________________________________________________________\n",
            "Layer (type)                 Output Shape              Param #   \n",
            "=================================================================\n",
            "dense (Dense)                (None, 274, 1024)         12741632  \n",
            "_________________________________________________________________\n",
            "dense_1 (Dense)              (None, 274, 512)          524800    \n",
            "_________________________________________________________________\n",
            "dense_2 (Dense)              (None, 274, 128)          65664     \n",
            "_________________________________________________________________\n",
            "dense_3 (Dense)              (None, 274, 16)           2064      \n",
            "_________________________________________________________________\n",
            "dense_4 (Dense)              (None, 274, 1)            17        \n",
            "=================================================================\n",
            "Total params: 13,334,177\n",
            "Trainable params: 13,334,177\n",
            "Non-trainable params: 0\n",
            "_________________________________________________________________\n"
          ],
          "name": "stdout"
        }
      ]
    },
    {
      "cell_type": "code",
      "metadata": {
        "id": "ztmdn70rH9BT"
      },
      "source": [
        "model.compile(optimizer='adam', loss='mse', metrics=['accuracy'])"
      ],
      "execution_count": null,
      "outputs": []
    },
    {
      "cell_type": "code",
      "metadata": {
        "colab": {
          "base_uri": "https://localhost:8080/"
        },
        "id": "GHwC6-3eIhj3",
        "outputId": "87e12799-ecc2-4e92-b1e6-f882b6f743a2"
      },
      "source": [
        "history = model.fit(train_x, train_y, epochs=20,\n",
        "                   validation_data=(test_x, test_y))"
      ],
      "execution_count": null,
      "outputs": [
        {
          "output_type": "stream",
          "text": [
            "Epoch 1/20\n",
            "WARNING:tensorflow:Model was constructed with shape (None, 274, 12442) for input KerasTensor(type_spec=TensorSpec(shape=(None, 274, 12442), dtype=tf.float32, name='dense_input'), name='dense_input', description=\"created by layer 'dense_input'\"), but it was called on an input with incompatible shape (None, 12442).\n",
            "WARNING:tensorflow:Model was constructed with shape (None, 274, 12442) for input KerasTensor(type_spec=TensorSpec(shape=(None, 274, 12442), dtype=tf.float32, name='dense_input'), name='dense_input', description=\"created by layer 'dense_input'\"), but it was called on an input with incompatible shape (None, 12442).\n",
            "9/9 [==============================] - ETA: 0s - loss: 0.0865 - accuracy: 0.0000e+00WARNING:tensorflow:Model was constructed with shape (None, 274, 12442) for input KerasTensor(type_spec=TensorSpec(shape=(None, 274, 12442), dtype=tf.float32, name='dense_input'), name='dense_input', description=\"created by layer 'dense_input'\"), but it was called on an input with incompatible shape (None, 12442).\n",
            "9/9 [==============================] - 1s 103ms/step - loss: 0.0848 - accuracy: 0.0000e+00 - val_loss: 0.0927 - val_accuracy: 0.0000e+00\n",
            "Epoch 2/20\n",
            "9/9 [==============================] - 1s 89ms/step - loss: 0.0423 - accuracy: 0.0000e+00 - val_loss: 0.2101 - val_accuracy: 0.0000e+00\n",
            "Epoch 3/20\n",
            "9/9 [==============================] - 1s 89ms/step - loss: 0.0325 - accuracy: 0.0027 - val_loss: 0.1828 - val_accuracy: 0.0000e+00\n",
            "Epoch 4/20\n",
            "9/9 [==============================] - 1s 89ms/step - loss: 0.0139 - accuracy: 0.0027 - val_loss: 0.1449 - val_accuracy: 0.0000e+00\n",
            "Epoch 5/20\n",
            "9/9 [==============================] - 1s 87ms/step - loss: 0.0118 - accuracy: 0.0027 - val_loss: 0.1247 - val_accuracy: 0.0000e+00\n",
            "Epoch 6/20\n",
            "9/9 [==============================] - 1s 89ms/step - loss: 0.0073 - accuracy: 0.0045 - val_loss: 0.1476 - val_accuracy: 0.0000e+00\n",
            "Epoch 7/20\n",
            "9/9 [==============================] - 1s 87ms/step - loss: 0.0040 - accuracy: 0.0021 - val_loss: 0.1447 - val_accuracy: 0.0000e+00\n",
            "Epoch 8/20\n",
            "9/9 [==============================] - 1s 89ms/step - loss: 0.0025 - accuracy: 0.0092 - val_loss: 0.1441 - val_accuracy: 0.0000e+00\n",
            "Epoch 9/20\n",
            "9/9 [==============================] - 1s 91ms/step - loss: 0.0018 - accuracy: 0.0045 - val_loss: 0.1345 - val_accuracy: 0.0000e+00\n",
            "Epoch 10/20\n",
            "9/9 [==============================] - 1s 91ms/step - loss: 0.0011 - accuracy: 0.0021 - val_loss: 0.1425 - val_accuracy: 0.0000e+00\n",
            "Epoch 11/20\n",
            "9/9 [==============================] - 1s 89ms/step - loss: 8.3060e-04 - accuracy: 0.0061 - val_loss: 0.1405 - val_accuracy: 0.0000e+00\n",
            "Epoch 12/20\n",
            "9/9 [==============================] - 1s 89ms/step - loss: 5.1002e-04 - accuracy: 0.0092 - val_loss: 0.1356 - val_accuracy: 0.0000e+00\n",
            "Epoch 13/20\n",
            "9/9 [==============================] - 1s 89ms/step - loss: 3.8827e-04 - accuracy: 0.0061 - val_loss: 0.1288 - val_accuracy: 0.0000e+00\n",
            "Epoch 14/20\n",
            "9/9 [==============================] - 1s 87ms/step - loss: 3.3245e-04 - accuracy: 0.0092 - val_loss: 0.1374 - val_accuracy: 0.0000e+00\n",
            "Epoch 15/20\n",
            "9/9 [==============================] - 1s 88ms/step - loss: 1.8394e-04 - accuracy: 0.0092 - val_loss: 0.1377 - val_accuracy: 0.0000e+00\n",
            "Epoch 16/20\n",
            "9/9 [==============================] - 1s 87ms/step - loss: 1.1219e-04 - accuracy: 0.0061 - val_loss: 0.1340 - val_accuracy: 0.0000e+00\n",
            "Epoch 17/20\n",
            "9/9 [==============================] - 1s 87ms/step - loss: 1.0858e-04 - accuracy: 0.0016 - val_loss: 0.1349 - val_accuracy: 0.0000e+00\n",
            "Epoch 18/20\n",
            "9/9 [==============================] - 1s 88ms/step - loss: 6.3211e-05 - accuracy: 0.0027 - val_loss: 0.1354 - val_accuracy: 0.0000e+00\n",
            "Epoch 19/20\n",
            "9/9 [==============================] - 1s 90ms/step - loss: 6.0759e-05 - accuracy: 7.2993e-04 - val_loss: 0.1364 - val_accuracy: 0.0000e+00\n",
            "Epoch 20/20\n",
            "9/9 [==============================] - 1s 85ms/step - loss: 4.7344e-05 - accuracy: 7.2993e-04 - val_loss: 0.1350 - val_accuracy: 0.0000e+00\n"
          ],
          "name": "stdout"
        }
      ]
    },
    {
      "cell_type": "markdown",
      "metadata": {
        "id": "j3kkaWgTTyH9"
      },
      "source": [
        "## Model Prediction"
      ]
    },
    {
      "cell_type": "code",
      "metadata": {
        "colab": {
          "base_uri": "https://localhost:8080/"
        },
        "id": "bkD6txXUT2Fk",
        "outputId": "e0e950e3-4a6d-44f6-b874-829447a99d18"
      },
      "source": [
        "# Load Prediction Data\n",
        "pred_BiSON = normalize2D(BiSON_ts_full_fit)\n",
        "pred_LOI = normalize2D(LOI_ts_full)\n",
        "print(np.max(pred_BiSON),np.max(pred_LOI))"
      ],
      "execution_count": null,
      "outputs": [
        {
          "output_type": "stream",
          "text": [
            "1.0 1.0\n"
          ],
          "name": "stdout"
        }
      ]
    },
    {
      "cell_type": "code",
      "metadata": {
        "colab": {
          "base_uri": "https://localhost:8080/"
        },
        "id": "-QNspIGiIizL",
        "outputId": "60d0799a-2746-43bc-804b-e219936a6f9f"
      },
      "source": [
        "pred_BiSON = model.predict(pred_BiSON).reshape(-1)\n",
        "print(pred_BiSON[0:15])\n",
        "pred_LOI = model.predict(pred_LOI).reshape(-1)\n",
        "print(pred_LOI[0:15])\n",
        "# for i in range(int(len(pred_LOI)/2),len(pred_LOI)):\n",
        "#   if pred_LOI[i] >= 0.75:\n",
        "#     pred_LOI[i] = pred_LOI[i-1]"
      ],
      "execution_count": null,
      "outputs": [
        {
          "output_type": "stream",
          "text": [
            "WARNING:tensorflow:Model was constructed with shape (None, 274, 12442) for input KerasTensor(type_spec=TensorSpec(shape=(None, 274, 12442), dtype=tf.float32, name='dense_input'), name='dense_input', description=\"created by layer 'dense_input'\"), but it was called on an input with incompatible shape (None, 12442).\n",
            "[0.08608574 0.06433015 0.05607313 0.13796587 0.10360704 0.05254282\n",
            " 0.07603002 0.07604266 0.11533187 0.1017675  0.09486323 0.08252796\n",
            " 0.13330986 0.25467518 0.13417147]\n",
            "[0.3059213  0.31286213 0.21370529 0.21068098 0.17576645 0.21517669\n",
            " 0.27143964 0.28036088 0.16532177 0.17044093 0.17582987 0.25228053\n",
            " 0.45442158 0.34959778 0.28196937]\n"
          ],
          "name": "stdout"
        }
      ]
    },
    {
      "cell_type": "code",
      "metadata": {
        "colab": {
          "base_uri": "https://localhost:8080/",
          "height": 294
        },
        "id": "7BJVrVp8OvCe",
        "outputId": "8f40479c-2d0d-404e-f568-99c4afec1e11"
      },
      "source": [
        "figure, axis_1 = plt.subplots()\n",
        "plt.xlabel('Time (BJD)')\n",
        "plt.title('ML Prediction and Sunspot Number vs. Time - Cycle 23 & 24')\n",
        "\n",
        "#Axis 1\n",
        "axis_1.autoscale(enable=True, axis='both', tight=None)\n",
        "axis_1.set_ylabel('BiSON (Scaling)')\n",
        "axis_1.scatter(SN_ts_full_fit.T[0],pred_BiSON, s = 10, c='blue', alpha=0.5, label=\"pred_BiSON\")\n",
        "x1_ITP, y1_ITP = interpolate(np.array([SN_ts_full_fit.T[0],pred_BiSON]).T,50)\n",
        "axis_1.plot(x1_ITP, y1_ITP, c='blue', alpha=0.5, label = \"Pred. BiSON\")\n",
        "\n",
        "# #Axis 2\n",
        "axis_2 = axis_1.twinx()\n",
        "axis_2.set_ylabel('LOI (Scaling)')\n",
        "axis_2.scatter(SN_ts_full_fit.T[0],pred_LOI, s = 10, c='red', alpha=0.5, label=\"pred_LOI\")\n",
        "x2_ITP, y2_ITP = interpolate(np.array([SN_ts_full_fit.T[0],pred_LOI]).T,50)\n",
        "axis_1.plot(x2_ITP, y2_ITP, c='red', alpha=0.5, label = \"Pred. LOI\")\n",
        "\n",
        "#Axis 3\n",
        "axis_3 = axis_1.twinx()\n",
        "axis_3.axis(\"off\")\n",
        "axis_3.set_ylabel('SN')\n",
        "axis_3.scatter(SN_ts_full_fit.T[0],SN_ts_full_fit.T[1], s = 10, c='green', alpha=0.5, label=\"actual_SN\")\n",
        "\n",
        "#Append Labels\n",
        "lines_1, labels_1 = axis_1.get_legend_handles_labels()\n",
        "lines_2, labels_2 = axis_2.get_legend_handles_labels()\n",
        "lines_3, labels_3 = axis_3.get_legend_handles_labels()\n",
        "lines = lines_1 + lines_2 + lines_3\n",
        "labels = labels_1 + labels_2 + labels_3\n",
        "axis_1.legend(lines, labels, loc=0)\n",
        "\n",
        "#Show Plot\n",
        "#plt.savefig('Graphs/C23_Numax_SSN_Time.png')\n",
        "plt.savefig('/content/drive/MyDrive/Korea Research - Yihong Song and Rohit Prasanna/DSHS & AOS Physics Research Collaboration 2020/Project/Jr:Sr Project/Graphs/BiSON_LOI_SN.png')\n",
        "plt.show()"
      ],
      "execution_count": null,
      "outputs": [
        {
          "output_type": "display_data",
          "data": {
            "image/png": "[encoded data removed]",
            "text/plain": [
              "<Figure size 432x288 with 3 Axes>"
            ]
          },
          "metadata": {
            "tags": [],
            "needs_background": "light"
          }
        }
      ]
    },
    {
      "cell_type": "code",
      "metadata": {
        "colab": {
          "base_uri": "https://localhost:8080/",
          "height": 294
        },
        "id": "VFvynv1qQrNl",
        "outputId": "176384de-6a7d-45c8-a716-4eb7e1671cac"
      },
      "source": [
        "figure, axis_1 = plt.subplots()\n",
        "plt.xlabel('Solar Activity (Scaling)')\n",
        "plt.title('ML Prediction and Sunspot Number vs. Time - Cycle 23 & 24')\n",
        "\n",
        "#Axis 1\n",
        "axis_1.autoscale(enable=True, axis='both', tight=None)\n",
        "axis_1.set_ylabel('BiSON (Scaling)')\n",
        "axis_1.scatter(SN_ts_full_fit.T[1],pred_BiSON, s = 10, c='blue', alpha=0.5, label=\"pred_BiSON\")\n",
        "\n",
        "#Axis 2\n",
        "axis_2 = axis_1.twinx()\n",
        "axis_2.set_ylabel('LOI (Scaling)')\n",
        "axis_2.scatter(SN_ts_full_fit.T[1],pred_LOI, s = 10, c='red', alpha=0.5, label=\"pred_LOI\")\n",
        "\n",
        "# #Axis 3\n",
        "# axis_3 = axis_1.twinx()\n",
        "# axis_3.axis(\"off\")\n",
        "# axis_3.set_ylabel('SN')\n",
        "# axis_3.scatter(datax_SN,datay_SN, s = 10, c='green', alpha=0.5, label=\"actual_SN\")\n",
        "\n",
        "#Append Labels\n",
        "lines_1, labels_1 = axis_1.get_legend_handles_labels()\n",
        "lines_2, labels_2 = axis_2.get_legend_handles_labels()\n",
        "# lines_3, labels_3 = axis_3.get_legend_handles_labels()\n",
        "lines = lines_1 + lines_2 #+ lines_3\n",
        "labels = labels_1 + labels_2 #+ labels_3\n",
        "axis_1.legend(lines, labels, loc=0)\n",
        "\n",
        "#Show Plot\n",
        "#plt.savefig('Graphs/C23_Numax_SSN_Time.png')\n",
        "plt.savefig('/content/drive/MyDrive/Korea Research - Yihong Song and Rohit Prasanna/DSHS & AOS Physics Research Collaboration 2020/Project/Jr:Sr Project/Graphs/BiSON_LOI_SN.png')\n",
        "plt.show()"
      ],
      "execution_count": null,
      "outputs": [
        {
          "output_type": "display_data",
          "data": {
            "image/png": "[encoded data removed]",
            "text/plain": [
              "<Figure size 432x288 with 2 Axes>"
            ]
          },
          "metadata": {
            "tags": [],
            "needs_background": "light"
          }
        }
      ]
    },
    {
      "cell_type": "code",
      "metadata": {
        "colab": {
          "base_uri": "https://localhost:8080/"
        },
        "id": "ALps_abvRJkY",
        "outputId": "32e613d5-c7b4-44f0-be43-55571c6ab910"
      },
      "source": [
        "sn_ts_full_fit_norm = normalize1D(SN_ts_full_fit.T[1])\n",
        "BiSONxSN_mse = np.sqrt(mean_squared_error(sn_ts_full_fit_norm,pred_BiSON))\n",
        "BiSONxSN_mae = mean_absolute_error(sn_ts_full_fit_norm,pred_BiSON)\n",
        "print(\"BiSON vs. Actual - Mean Sq. Error, Mean Abs. Error\")\n",
        "print(BiSONxSN_mse,BiSONxSN_mae)"
      ],
      "execution_count": null,
      "outputs": [
        {
          "output_type": "stream",
          "text": [
            "BiSON vs. Actual - Mean Sq. Error, Mean Abs. Error\n",
            "0.006525118279256344 0.005006905047524024\n"
          ],
          "name": "stdout"
        }
      ]
    },
    {
      "cell_type": "code",
      "metadata": {
        "colab": {
          "base_uri": "https://localhost:8080/"
        },
        "id": "DqZZCzspRoj6",
        "outputId": "b32f7df0-c8c6-45b9-b3d7-3e8b2e1f715d"
      },
      "source": [
        "LOIxSN_mse = np.sqrt(mean_squared_error(sn_ts_full_fit_norm,pred_LOI))\n",
        "LOIxSN_mae = mean_absolute_error(sn_ts_full_fit_norm,pred_LOI)\n",
        "print(\"LOI vs. Actual - Mean Sq. Error, Mean Abs. Error\")\n",
        "print(LOIxSN_mse,LOIxSN_mae)"
      ],
      "execution_count": null,
      "outputs": [
        {
          "output_type": "stream",
          "text": [
            "LOI vs. Actual - Mean Sq. Error, Mean Abs. Error\n",
            "0.16007785086519294 0.11391995409761316\n"
          ],
          "name": "stdout"
        }
      ]
    },
    {
      "cell_type": "code",
      "metadata": {
        "colab": {
          "base_uri": "https://localhost:8080/"
        },
        "id": "sCr2wiKbsLko",
        "outputId": "56624a2d-f9d8-4dd6-db4d-98506135b16f"
      },
      "source": [
        "BiSONxLOI_mse = np.sqrt(mean_squared_error(pred_BiSON,pred_LOI))\n",
        "BiSONxLOI_mae = mean_absolute_error(pred_BiSON,pred_LOI)\n",
        "print(\"BiSON vs. LOI - Mean Sq. Error, Mean Abs. Error\")\n",
        "print(BiSONxLOI_mse,BiSONxLOI_mae)"
      ],
      "execution_count": null,
      "outputs": [
        {
          "output_type": "stream",
          "text": [
            "BiSON vs. LOI - Mean Sq. Error, Mean Abs. Error\n",
            "0.15933391 0.112988226\n"
          ],
          "name": "stdout"
        }
      ]
    },
    {
      "cell_type": "code",
      "metadata": {
        "id": "qGCHiqsRRM_k"
      },
      "source": [
        "def getData(koi_name):\n",
        "  search_result = lk.search_lightcurve(koi_name, author='Kepler', cadence=\"short\")\n",
        "  lc_test = search_result.download_all().stitch()\n",
        "  lc_test = lc_test.fill_gaps()\n",
        "  lc_table = lc_test.to_table()\n",
        "  lc_array = np.array(lc_table['flux'])\n",
        "  lcdatax = np.arange(0,len(lc_array)/1440,1/1440)\n",
        "  lcfull = np.append([lcdatax],[lc_array],0).T\n",
        "  return lcfull"
      ],
      "execution_count": null,
      "outputs": []
    },
    {
      "cell_type": "code",
      "metadata": {
        "colab": {
          "base_uri": "https://localhost:8080/",
          "height": 404
        },
        "id": "SfTytx0JR0Ir",
        "outputId": "947fbc11-fdfd-4a09-c162-ac3bb9b22bd6"
      },
      "source": [
        "search_result = lk.search_lightcurve('KIC 10454113', author='Kepler', cadence=\"short\")\n",
        "search_result\n",
        "lc_test = search_result.download_all().stitch()\n",
        "lc_test.plot()"
      ],
      "execution_count": null,
      "outputs": [
        {
          "output_type": "execute_result",
          "data": {
            "text/plain": [
              "<matplotlib.axes._subplots.AxesSubplot at 0x7fa04a18ddd0>"
            ]
          },
          "metadata": {
            "tags": []
          },
          "execution_count": 79
        },
        {
          "output_type": "display_data",
          "data": {
            "image/png": "[encoded data removed]",
            "text/plain": [
              "<Figure size 848.5x400 with 1 Axes>"
            ]
          },
          "metadata": {
            "tags": []
          }
        }
      ]
    },
    {
      "cell_type": "code",
      "metadata": {
        "colab": {
          "base_uri": "https://localhost:8080/",
          "height": 404
        },
        "id": "VEYHxHRtXd_6",
        "outputId": "756a2bdb-b0a0-4afc-ac1a-81b48cf41a15"
      },
      "source": [
        "lc_test = lc_test.fill_gaps()\n",
        "lc_test.plot()"
      ],
      "execution_count": null,
      "outputs": [
        {
          "output_type": "execute_result",
          "data": {
            "text/plain": [
              "<matplotlib.axes._subplots.AxesSubplot at 0x7fa049e69190>"
            ]
          },
          "metadata": {
            "tags": []
          },
          "execution_count": 80
        },
        {
          "output_type": "display_data",
          "data": {
            "image/png": "[encoded data removed]",
            "text/plain": [
              "<Figure size 848.5x400 with 1 Axes>"
            ]
          },
          "metadata": {
            "tags": []
          }
        }
      ]
    },
    {
      "cell_type": "code",
      "metadata": {
        "id": "PHLvcn4FXoIM"
      },
      "source": [
        "Dlc_table = lc_test.to_table()\n",
        "lc_array = np.array(lc_table['flux'])\n",
        "print(lc_array)"
      ],
      "execution_count": null,
      "outputs": []
    },
    {
      "cell_type": "code",
      "metadata": {
        "colab": {
          "base_uri": "https://localhost:8080/"
        },
        "id": "j4k4clUGrpUu",
        "outputId": "bfa1e412-2052-4405-d91c-b1957b3c7992"
      },
      "source": [
        "lcdatax = np.arange(0,len(lc_array)/1440,1/1440)\n",
        "lcfull = np.append([lcdatax],[lc_array],0).T\n",
        "print(lcfull.shape)"
      ],
      "execution_count": null,
      "outputs": [
        {
          "output_type": "stream",
          "text": [
            "(1996170, 2)\n"
          ],
          "name": "stdout"
        }
      ]
    },
    {
      "cell_type": "code",
      "metadata": {
        "colab": {
          "base_uri": "https://localhost:8080/"
        },
        "id": "nQlyHOmdxrgO",
        "outputId": "dac435f9-c41a-4ac7-9a69-1119d3f57f0b"
      },
      "source": [
        "print(lcfull[-1])"
      ],
      "execution_count": null,
      "outputs": [
        {
          "output_type": "stream",
          "text": [
            "[1.38622847e+03 1.00039232e+00]\n"
          ],
          "name": "stdout"
        }
      ]
    },
    {
      "cell_type": "code",
      "metadata": {
        "id": "fHUO4dAsxuq4"
      },
      "source": [
        "lc_power, lc_numax = tsPower(lcfull.T[0],lcfull.T[1],90,30)"
      ],
      "execution_count": null,
      "outputs": []
    },
    {
      "cell_type": "code",
      "metadata": {
        "colab": {
          "base_uri": "https://localhost:8080/"
        },
        "id": "t1FkTsS4IJi5",
        "outputId": "98e181a0-d15a-484a-cdb9-7e6c1034efd6"
      },
      "source": [
        "print(lc_power.shape,lc_numax)"
      ],
      "execution_count": null,
      "outputs": [
        {
          "output_type": "stream",
          "text": [
            "(44, 7776) 1425\n"
          ],
          "name": "stdout"
        }
      ]
    },
    {
      "cell_type": "code",
      "metadata": {
        "colab": {
          "base_uri": "https://localhost:8080/"
        },
        "id": "RYZqVKsLIkTy",
        "outputId": "c14b15c3-18e7-4939-8454-1df0a3c3bcb7"
      },
      "source": [
        "lc_power_norm = normalize2D(lc_power)\n",
        "print(np.max(lc_power_norm))"
      ],
      "execution_count": null,
      "outputs": [
        {
          "output_type": "stream",
          "text": [
            "1.0\n"
          ],
          "name": "stdout"
        }
      ]
    },
    {
      "cell_type": "code",
      "metadata": {
        "colab": {
          "base_uri": "https://localhost:8080/"
        },
        "id": "eogoUd46Iznw",
        "outputId": "1cec3147-0d7a-4043-846f-9eca43f55cba"
      },
      "source": [
        "pred_lc = model.predict(lc_power_norm[9:]).reshape(-1)\n",
        "print(pred_lc.shape)\n",
        "print(pred_lc)"
      ],
      "execution_count": null,
      "outputs": [
        {
          "output_type": "stream",
          "text": [
            "(35,)\n",
            "[2.1501856 2.1978247 2.218618  1.9813035 1.8138002 1.6447774 1.7670627\n",
            " 1.3543344 1.6227567 1.4145533 1.6896728 1.8097239 1.6240644 2.0843878\n",
            " 2.0923507 1.9381614 2.283571  2.4614487 2.109753  1.9923794 2.4358625\n",
            " 2.504476  2.693074  2.2238019 2.4378045 2.00395   1.5316311 2.0904558\n",
            " 1.6939368 1.8036245 1.837662  1.5059265 2.7730196 2.3647003 2.3227234]\n"
          ],
          "name": "stdout"
        }
      ]
    },
    {
      "cell_type": "code",
      "metadata": {
        "colab": {
          "base_uri": "https://localhost:8080/",
          "height": 312
        },
        "id": "BcydxAK4JAeF",
        "outputId": "bca64533-50d6-4ed3-8824-1f9f726f8771"
      },
      "source": [
        "plt.xlabel('Time (BJD)')\n",
        "plt.title('ML Prediction and Sunspot Number vs. Time - Cycle 23 & 24')\n",
        "\n",
        "lc_testx = np.arange(0,int(len(pred_lc)))\n",
        "\n",
        "#Axis 1\n",
        "plt.autoscale(enable=True, axis='both', tight=None)\n",
        "plt.scatter(lc_testx,pred_lc, s = 10, c='blue', alpha=0.5, label=\"pred_BiSON\")\n",
        "x1_ITP, y1_ITP = interpolate(np.array([lc_testx,pred_lc]).T,50)\n",
        "plt.plot(x1_ITP, y1_ITP, c='blue', alpha=0.5, label = \"Pred. BiSON\")\n",
        "\n",
        "plt.show"
      ],
      "execution_count": null,
      "outputs": [
        {
          "output_type": "execute_result",
          "data": {
            "text/plain": [
              "<function matplotlib.pyplot.show>"
            ]
          },
          "metadata": {
            "tags": []
          },
          "execution_count": 109
        },
        {
          "output_type": "display_data",
          "data": {
            "image/png": "[encoded data removed]",
            "text/plain": [
              "<Figure size 432x288 with 1 Axes>"
            ]
          },
          "metadata": {
            "tags": []
          }
        }
      ]
    },
    {
      "cell_type": "code",
      "metadata": {
        "id": "j-yFPY2CQaUP"
      },
      "source": [
        "lcdata3 = getData(\"KIC 6116048\")"
      ],
      "execution_count": null,
      "outputs": []
    },
    {
      "cell_type": "code",
      "metadata": {
        "id": "SgRO735OR3VQ"
      },
      "source": [
        "lc_power, lc_numax = tsPower(lcdata3.T[0],lcdata3.T[1],90,30)"
      ],
      "execution_count": null,
      "outputs": []
    },
    {
      "cell_type": "code",
      "metadata": {
        "colab": {
          "base_uri": "https://localhost:8080/"
        },
        "id": "pg9JgEJyR7t3",
        "outputId": "dfd9b5ba-77f0-4ba7-fbdb-892034b2690f"
      },
      "source": [
        "lc_power_norm = normalize2D(lc_power)\n",
        "print(np.max(lc_power_norm))"
      ],
      "execution_count": null,
      "outputs": [
        {
          "output_type": "stream",
          "text": [
            "1.0\n"
          ],
          "name": "stdout"
        }
      ]
    },
    {
      "cell_type": "code",
      "metadata": {
        "colab": {
          "base_uri": "https://localhost:8080/"
        },
        "id": "9MzwGRYaSEZt",
        "outputId": "d8f0dba2-6b57-4242-b0bf-7d5f921d200a"
      },
      "source": [
        "pred_lc = model.predict(lc_power_norm[9:]).reshape(-1)\n",
        "print(pred_lc.shape)\n",
        "print(pred_lc)"
      ],
      "execution_count": null,
      "outputs": [
        {
          "output_type": "stream",
          "text": [
            "(36,)\n",
            "[0.5277961  0.63132465 0.40478465 0.42059588 0.5209544  0.7009002\n",
            " 1.031577   0.7302094  0.58843035 0.5559162  0.57662654 0.58658266\n",
            " 0.5535707  0.4052446  0.38021135 0.54982436 1.748396   1.4241097\n",
            " 2.086725   1.1885546  1.8470598  1.8879963  1.9531791  1.8862461\n",
            " 1.4063263  1.131757   1.1278707  1.4685751  1.067278   1.2002715\n",
            " 1.1034241  0.6847471  0.71507204 1.2039894  1.3913287  1.1852996 ]\n"
          ],
          "name": "stdout"
        }
      ]
    },
    {
      "cell_type": "code",
      "metadata": {
        "id": "Bv_2SXKJStOF"
      },
      "source": [
        "lcdata4 = getData(\"KIC 12009504\")"
      ],
      "execution_count": null,
      "outputs": []
    },
    {
      "cell_type": "code",
      "metadata": {
        "id": "kV49mnLmSwck"
      },
      "source": [
        "lc_power2, lc_numax2 = tsPower(lcdata4.T[0],lcdata4.T[1],90,30)"
      ],
      "execution_count": null,
      "outputs": []
    },
    {
      "cell_type": "code",
      "metadata": {
        "colab": {
          "base_uri": "https://localhost:8080/"
        },
        "id": "58gSwqazSz0l",
        "outputId": "adfd212b-187b-4c38-d1e9-003eb1b9f833"
      },
      "source": [
        "lc_power_norm2 = normalize2D(lc_power2)\n",
        "print(np.max(lc_power_norm2))\n",
        "pred_lc2 = model.predict(lc_power_norm2[9:-2]).reshape(-1)\n",
        "print(pred_lc2.shape)\n",
        "print(pred_lc2)"
      ],
      "execution_count": null,
      "outputs": [
        {
          "output_type": "stream",
          "text": [
            "1.0\n",
            "(36,)\n",
            "[1.0906223  1.0631001  1.0119612  1.1853065  1.2532316  0.87308747\n",
            " 0.9431411  0.9877703  1.6166066  1.683091   1.5640908  0.886065\n",
            " 1.0997486  1.0799937  1.2167377  0.99084055 1.1682     1.0814201\n",
            " 1.524697   1.6352017  1.7068578  1.4969152  0.9861238  1.2276504\n",
            " 1.0122035  1.7186154  1.7474402  2.0638342  2.1568449  1.5226185\n",
            " 1.688213   1.412455   1.489743   1.0179482  1.2917794  0.8883791 ]\n"
          ],
          "name": "stdout"
        }
      ]
    },
    {
      "cell_type": "code",
      "metadata": {
        "id": "xFcTMRD2VVvo"
      },
      "source": [
        "lcdata5 = getData(\"KIC 8006161\")"
      ],
      "execution_count": null,
      "outputs": []
    },
    {
      "cell_type": "code",
      "metadata": {
        "id": "DlomK81KVXg1"
      },
      "source": [
        "lc_power3, lc_numax3 = tsPower(lcdata5.T[0],lcdata5.T[1],90,30)"
      ],
      "execution_count": null,
      "outputs": []
    },
    {
      "cell_type": "code",
      "metadata": {
        "id": "UkaTTnEeVaRO",
        "colab": {
          "base_uri": "https://localhost:8080/"
        },
        "outputId": "8a2cd349-cc97-48e2-98c9-5ba1ec414f11"
      },
      "source": [
        "lc_power_norm3 = normalize2D(lc_power3)\n",
        "print(np.max(lc_power_norm3))\n",
        "pred_lc3 = model.predict(lc_power_norm3[9:]).reshape(-1)\n",
        "print(pred_lc3.shape)\n",
        "print(pred_lc3)"
      ],
      "execution_count": null,
      "outputs": [
        {
          "output_type": "stream",
          "text": [
            "1.0\n",
            "(36,)\n",
            "[0.51671636 0.4697245  0.5306659  0.4744122  0.5324677  0.8603418\n",
            " 0.8463695  0.9316367  1.2206714  1.2951821  0.85572636 0.7345146\n",
            " 0.80385494 0.774252   1.3114283  1.420307   1.7812022  1.5878102\n",
            " 1.1935314  1.2851081  1.3955448  2.1604865  2.4565613  1.9691529\n",
            " 1.7256997  1.3129588  1.7235616  1.5142536  1.7675918  1.2173353\n",
            " 0.9837395  0.6535239  2.0073683  1.9211634  1.6827221  1.8208772 ]\n"
          ],
          "name": "stdout"
        }
      ]
    },
    {
      "cell_type": "code",
      "metadata": {
        "id": "12BPuOaBSJwu",
        "colab": {
          "base_uri": "https://localhost:8080/",
          "height": 312
        },
        "outputId": "b3e2c772-547e-4c76-992a-2f44ff41d8ff"
      },
      "source": [
        "figure, axis_1 = plt.subplots()\n",
        "plt.xlabel('Time (BJD)')\n",
        "plt.title('ML Prediction and Sunspot Number vs. Time - Cycle 23 & 24')\n",
        "\n",
        "lc_testx = np.arange(200,int(len(pred_lc))*30+200,30)\n",
        "\n",
        "\n",
        "\n",
        "#Axis 1\n",
        "axis_1.autoscale(enable=True, axis='both', tight=None)\n",
        "axis_1.scatter(lc_testx,pred_lc, s = 10, c='blue', alpha=0.5, label=\"pred_BiSON\")\n",
        "x1_ITP, y1_ITP = interpolate(np.array([lc_testx,pred_lc]).T,30)\n",
        "axis_1.plot(x1_ITP[1:-1], y1_ITP[1:-1], c='blue', alpha=0.5, label = \"Pred. BiSON\")\n",
        "\n",
        "\n",
        "# #Axis 2\n",
        "axis_2 = axis_1.twinx()\n",
        "axis_2.scatter(lc_testx,pred_lc2, s = 10, c='red', alpha=0.5, label=\"pred_BiSON\")\n",
        "x1_ITP, y1_ITP = interpolate(np.array([lc_testx,pred_lc2]).T,30)\n",
        "axis_2.plot(x1_ITP[1:-1], y1_ITP[1:-1], c='red', alpha=0.5, label = \"Pred. BiSON\")\n",
        "\n",
        "\n",
        "# #Axis 3\n",
        "axis_3 = axis_1.twinx()\n",
        "axis_3.scatter(lc_testx,pred_lc3, s = 10, c='green', alpha=0.5, label=\"pred_BiSON\")\n",
        "x1_ITP, y1_ITP = interpolate(np.array([lc_testx,pred_lc3]).T,30)\n",
        "axis_3.plot(x1_ITP[1:-1], y1_ITP[1:-1], c='green', alpha=0.5, label = \"Pred. BiSON\")\n",
        "\n",
        "#Append Labels\n",
        "lines_1, labels_1 = axis_1.get_legend_handles_labels()\n",
        "lines_2, labels_2 = axis_2.get_legend_handles_labels()\n",
        "lines_3, labels_3 = axis_3.get_legend_handles_labels()\n",
        "lines = lines_1 + lines_2 + lines_3\n",
        "labels = labels_1 + labels_2 + labels_3\n",
        "axis_1.legend(lines, labels, loc=0)\n",
        "\n",
        "\n",
        "plt.show"
      ],
      "execution_count": null,
      "outputs": [
        {
          "output_type": "execute_result",
          "data": {
            "text/plain": [
              "<function matplotlib.pyplot.show>"
            ]
          },
          "metadata": {
            "tags": []
          },
          "execution_count": 179
        },
        {
          "output_type": "display_data",
          "data": {
            "image/png": "[encoded data removed]",
            "text/plain": [
              "<Figure size 432x288 with 3 Axes>"
            ]
          },
          "metadata": {
            "tags": [],
            "needs_background": "light"
          }
        }
      ]
    },
    {
      "cell_type": "code",
      "metadata": {
        "id": "hBlft6OQSZH3"
      },
      "source": [
        ""
      ],
      "execution_count": null,
      "outputs": []
    }
  ]
}
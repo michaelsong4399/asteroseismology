{
  "nbformat": 4,
  "nbformat_minor": 0,
  "metadata": {
    "colab": {
      "name": "NNFourier.ipynb",
      "provenance": [],
      "collapsed_sections": [],
      "toc_visible": true,
      "authorship_tag": "ABX9TyN9PyjsN2urQpRl8KoIREfs",
      "include_colab_link": true
    },
    "kernelspec": {
      "name": "python3",
      "display_name": "Python 3"
    }
  },
  "cells": [
    {
      "cell_type": "markdown",
      "metadata": {
        "id": "view-in-github",
        "colab_type": "text"
      },
      "source": [
        "<a href=\"https://colab.research.google.com/github/michaelsong4399/asteroseismology/blob/yihong/NNFourier2.ipynb\" target=\"_parent\"><img src=\"https://colab.research.google.com/assets/colab-badge.svg\" alt=\"Open In Colab\"/></a>"
      ]
    },
    {
      "cell_type": "code",
      "metadata": {
        "colab": {
          "base_uri": "https://localhost:8080/",
          "height": 1000
        },
        "id": "zzDDjvqhW-q0",
        "outputId": "32b2c1dc-64f5-4b31-f64d-e02d71170156"
      },
      "source": [
        "!pip install lightkurve\n",
        "!pip install astroquery\n",
        "!pip install matplotlib\n",
        "!pip install numpy\n",
        "!pip install scipy\n",
        "!pip install pandas\n",
        "!pip install tensorflow\n",
        "!pip install astropy"
      ],
      "execution_count": 1,
      "outputs": [
        {
          "output_type": "stream",
          "text": [
            "Collecting lightkurve\n",
            "\u001b[?25l  Downloading https://files.pythonhosted.org/packages/6c/ed/f2aaf0b3a9641457ccb44f05c7afc111ec232387c84c33f13ff196b8940d/lightkurve-2.0.0-py3-none-any.whl (232kB)\n",
            "\r\u001b[K     |█▍                              | 10kB 19.5MB/s eta 0:00:01\r\u001b[K     |██▉                             | 20kB 24.3MB/s eta 0:00:01\r\u001b[K     |████▏                           | 30kB 17.0MB/s eta 0:00:01\r\u001b[K     |█████▋                          | 40kB 14.6MB/s eta 0:00:01\r\u001b[K     |███████                         | 51kB 9.2MB/s eta 0:00:01\r\u001b[K     |████████▍                       | 61kB 8.8MB/s eta 0:00:01\r\u001b[K     |█████████▉                      | 71kB 9.8MB/s eta 0:00:01\r\u001b[K     |███████████▎                    | 81kB 10.2MB/s eta 0:00:01\r\u001b[K     |████████████▋                   | 92kB 10.2MB/s eta 0:00:01\r\u001b[K     |██████████████                  | 102kB 8.8MB/s eta 0:00:01\r\u001b[K     |███████████████▌                | 112kB 8.8MB/s eta 0:00:01\r\u001b[K     |████████████████▉               | 122kB 8.8MB/s eta 0:00:01\r\u001b[K     |██████████████████▎             | 133kB 8.8MB/s eta 0:00:01\r\u001b[K     |███████████████████▊            | 143kB 8.8MB/s eta 0:00:01\r\u001b[K     |█████████████████████           | 153kB 8.8MB/s eta 0:00:01\r\u001b[K     |██████████████████████▌         | 163kB 8.8MB/s eta 0:00:01\r\u001b[K     |████████████████████████        | 174kB 8.8MB/s eta 0:00:01\r\u001b[K     |█████████████████████████▎      | 184kB 8.8MB/s eta 0:00:01\r\u001b[K     |██████████████████████████▊     | 194kB 8.8MB/s eta 0:00:01\r\u001b[K     |████████████████████████████▏   | 204kB 8.8MB/s eta 0:00:01\r\u001b[K     |█████████████████████████████▌  | 215kB 8.8MB/s eta 0:00:01\r\u001b[K     |███████████████████████████████ | 225kB 8.8MB/s eta 0:00:01\r\u001b[K     |████████████████████████████████| 235kB 8.8MB/s \n",
            "\u001b[?25hCollecting memoization>=0.3.1\n",
            "  Downloading https://files.pythonhosted.org/packages/16/87/37229296c2a9506867d5f5440b9aac015d97af54c951cdfc129bb4bb8d75/memoization-0.3.2-py3-none-any.whl\n",
            "Requirement already satisfied: beautifulsoup4<5.0.0,>=4.6.0 in /usr/local/lib/python3.6/dist-packages (from lightkurve) (4.6.3)\n",
            "Collecting ipython>=6.0.0\n",
            "\u001b[?25l  Downloading https://files.pythonhosted.org/packages/23/6a/210816c943c9aeeb29e4e18a298f14bf0e118fe222a23e13bfcc2d41b0a4/ipython-7.16.1-py3-none-any.whl (785kB)\n",
            "\u001b[K     |████████████████████████████████| 788kB 26.5MB/s \n",
            "\u001b[?25hCollecting oktopus<0.2.0,>=0.1.2\n",
            "  Downloading https://files.pythonhosted.org/packages/2d/6e/7b7e11442ff70286c22614d200f6145f83528dc6c99fec0982665e25c8d3/oktopus-0.1.2.tar.gz\n",
            "Collecting requests<3.0.0,>=2.25.0\n",
            "\u001b[?25l  Downloading https://files.pythonhosted.org/packages/29/c1/24814557f1d22c56d50280771a17307e6bf87b70727d975fd6b2ce6b014a/requests-2.25.1-py2.py3-none-any.whl (61kB)\n",
            "\u001b[K     |████████████████████████████████| 61kB 9.9MB/s \n",
            "\u001b[?25hCollecting uncertainties<4.0.0,>=3.1.4\n",
            "\u001b[?25l  Downloading https://files.pythonhosted.org/packages/45/41/fc7e7b73b603e7c2c9e040b7aa8caf4a88d74b6faa567601ed82b6f0d8e1/uncertainties-3.1.5-py2.py3-none-any.whl (246kB)\n",
            "\u001b[K     |████████████████████████████████| 256kB 17.8MB/s \n",
            "\u001b[?25hCollecting scikit-learn>=0.24.0\n",
            "\u001b[?25l  Downloading https://files.pythonhosted.org/packages/e2/4c/6111b9a325f29527d7f262e2ee8c730d354b47a728d955e186dacad57a0d/scikit_learn-0.24.1-cp36-cp36m-manylinux2010_x86_64.whl (22.2MB)\n",
            "\u001b[K     |████████████████████████████████| 22.2MB 1.5MB/s \n",
            "\u001b[?25hRequirement already satisfied: pandas<2.0.0,>=1.1.4 in /usr/local/lib/python3.6/dist-packages (from lightkurve) (1.1.5)\n",
            "Collecting fbpca>=1.0\n",
            "  Downloading https://files.pythonhosted.org/packages/a7/a5/2085d0645a4bb4f0b606251b0b7466c61326e4a471d445c1c3761a2d07bc/fbpca-1.0.tar.gz\n",
            "Collecting astroquery>=0.3.10\n",
            "\u001b[?25l  Downloading https://files.pythonhosted.org/packages/1b/f8/4690523783691ed816b3469c3ec611af3798594d37ade510dd918d59f57e/astroquery-0.4.1.tar.gz (6.5MB)\n",
            "\u001b[K     |████████████████████████████████| 6.5MB 26.5MB/s \n",
            "\u001b[?25hRequirement already satisfied: matplotlib>=1.5.3 in /usr/local/lib/python3.6/dist-packages (from lightkurve) (3.2.2)\n",
            "Requirement already satisfied: numpy>=1.11 in /usr/local/lib/python3.6/dist-packages (from lightkurve) (1.19.5)\n",
            "Requirement already satisfied: numba>=0.39.0 in /usr/local/lib/python3.6/dist-packages (from lightkurve) (0.51.2)\n",
            "Requirement already satisfied: scipy>=0.19.0 in /usr/local/lib/python3.6/dist-packages (from lightkurve) (1.4.1)\n",
            "Requirement already satisfied: bokeh>=1.0 in /usr/local/lib/python3.6/dist-packages (from lightkurve) (2.1.1)\n",
            "Requirement already satisfied: tqdm>=4.25.0 in /usr/local/lib/python3.6/dist-packages (from lightkurve) (4.41.1)\n",
            "Requirement already satisfied: astropy>=4.1 in /usr/local/lib/python3.6/dist-packages (from lightkurve) (4.1)\n",
            "Requirement already satisfied: patsy>=0.5.0 in /usr/local/lib/python3.6/dist-packages (from lightkurve) (0.5.1)\n",
            "Requirement already satisfied: backcall in /usr/local/lib/python3.6/dist-packages (from ipython>=6.0.0->lightkurve) (0.2.0)\n",
            "Requirement already satisfied: traitlets>=4.2 in /usr/local/lib/python3.6/dist-packages (from ipython>=6.0.0->lightkurve) (4.3.3)\n",
            "Collecting prompt-toolkit!=3.0.0,!=3.0.1,<3.1.0,>=2.0.0\n",
            "\u001b[?25l  Downloading https://files.pythonhosted.org/packages/a6/0b/c6de29441b29f8b54d5bbe29a8b223de6e400714ff50e85541bd4c783421/prompt_toolkit-3.0.16-py3-none-any.whl (366kB)\n",
            "\u001b[K     |████████████████████████████████| 368kB 55.3MB/s \n",
            "\u001b[?25hRequirement already satisfied: jedi>=0.10 in /usr/local/lib/python3.6/dist-packages (from ipython>=6.0.0->lightkurve) (0.18.0)\n",
            "Requirement already satisfied: pickleshare in /usr/local/lib/python3.6/dist-packages (from ipython>=6.0.0->lightkurve) (0.7.5)\n",
            "Requirement already satisfied: setuptools>=18.5 in /usr/local/lib/python3.6/dist-packages (from ipython>=6.0.0->lightkurve) (53.0.0)\n",
            "Requirement already satisfied: pexpect; sys_platform != \"win32\" in /usr/local/lib/python3.6/dist-packages (from ipython>=6.0.0->lightkurve) (4.8.0)\n",
            "Requirement already satisfied: decorator in /usr/local/lib/python3.6/dist-packages (from ipython>=6.0.0->lightkurve) (4.4.2)\n",
            "Requirement already satisfied: pygments in /usr/local/lib/python3.6/dist-packages (from ipython>=6.0.0->lightkurve) (2.6.1)\n",
            "Requirement already satisfied: autograd in /usr/local/lib/python3.6/dist-packages (from oktopus<0.2.0,>=0.1.2->lightkurve) (1.3)\n",
            "Requirement already satisfied: urllib3<1.27,>=1.21.1 in /usr/local/lib/python3.6/dist-packages (from requests<3.0.0,>=2.25.0->lightkurve) (1.24.3)\n",
            "Requirement already satisfied: chardet<5,>=3.0.2 in /usr/local/lib/python3.6/dist-packages (from requests<3.0.0,>=2.25.0->lightkurve) (3.0.4)\n",
            "Requirement already satisfied: certifi>=2017.4.17 in /usr/local/lib/python3.6/dist-packages (from requests<3.0.0,>=2.25.0->lightkurve) (2020.12.5)\n",
            "Requirement already satisfied: idna<3,>=2.5 in /usr/local/lib/python3.6/dist-packages (from requests<3.0.0,>=2.25.0->lightkurve) (2.10)\n",
            "Requirement already satisfied: future in /usr/local/lib/python3.6/dist-packages (from uncertainties<4.0.0,>=3.1.4->lightkurve) (0.16.0)\n",
            "Collecting threadpoolctl>=2.0.0\n",
            "  Downloading https://files.pythonhosted.org/packages/f7/12/ec3f2e203afa394a149911729357aa48affc59c20e2c1c8297a60f33f133/threadpoolctl-2.1.0-py3-none-any.whl\n",
            "Requirement already satisfied: joblib>=0.11 in /usr/local/lib/python3.6/dist-packages (from scikit-learn>=0.24.0->lightkurve) (1.0.0)\n",
            "Requirement already satisfied: python-dateutil>=2.7.3 in /usr/local/lib/python3.6/dist-packages (from pandas<2.0.0,>=1.1.4->lightkurve) (2.8.1)\n",
            "Requirement already satisfied: pytz>=2017.2 in /usr/local/lib/python3.6/dist-packages (from pandas<2.0.0,>=1.1.4->lightkurve) (2018.9)\n",
            "Collecting keyring>=4.0\n",
            "  Downloading https://files.pythonhosted.org/packages/96/17/86e1e5b50dc14e5984a661dde2ed3b7f05efe1fdee32145a77708cf06904/keyring-22.0.1-py3-none-any.whl\n",
            "Requirement already satisfied: html5lib>=0.999 in /usr/local/lib/python3.6/dist-packages (from astroquery>=0.3.10->lightkurve) (1.0.1)\n",
            "Requirement already satisfied: six in /usr/local/lib/python3.6/dist-packages (from astroquery>=0.3.10->lightkurve) (1.15.0)\n",
            "Requirement already satisfied: pyparsing!=2.0.4,!=2.1.2,!=2.1.6,>=2.0.1 in /usr/local/lib/python3.6/dist-packages (from matplotlib>=1.5.3->lightkurve) (2.4.7)\n",
            "Requirement already satisfied: cycler>=0.10 in /usr/local/lib/python3.6/dist-packages (from matplotlib>=1.5.3->lightkurve) (0.10.0)\n",
            "Requirement already satisfied: kiwisolver>=1.0.1 in /usr/local/lib/python3.6/dist-packages (from matplotlib>=1.5.3->lightkurve) (1.3.1)\n",
            "Requirement already satisfied: llvmlite<0.35,>=0.34.0.dev0 in /usr/local/lib/python3.6/dist-packages (from numba>=0.39.0->lightkurve) (0.34.0)\n",
            "Requirement already satisfied: pillow>=4.0 in /usr/local/lib/python3.6/dist-packages (from bokeh>=1.0->lightkurve) (7.0.0)\n",
            "Requirement already satisfied: packaging>=16.8 in /usr/local/lib/python3.6/dist-packages (from bokeh>=1.0->lightkurve) (20.9)\n",
            "Requirement already satisfied: typing-extensions>=3.7.4 in /usr/local/lib/python3.6/dist-packages (from bokeh>=1.0->lightkurve) (3.7.4.3)\n",
            "Requirement already satisfied: PyYAML>=3.10 in /usr/local/lib/python3.6/dist-packages (from bokeh>=1.0->lightkurve) (3.13)\n",
            "Requirement already satisfied: Jinja2>=2.7 in /usr/local/lib/python3.6/dist-packages (from bokeh>=1.0->lightkurve) (2.11.3)\n",
            "Requirement already satisfied: tornado>=5.1 in /usr/local/lib/python3.6/dist-packages (from bokeh>=1.0->lightkurve) (5.1.1)\n",
            "Requirement already satisfied: ipython-genutils in /usr/local/lib/python3.6/dist-packages (from traitlets>=4.2->ipython>=6.0.0->lightkurve) (0.2.0)\n",
            "Requirement already satisfied: wcwidth in /usr/local/lib/python3.6/dist-packages (from prompt-toolkit!=3.0.0,!=3.0.1,<3.1.0,>=2.0.0->ipython>=6.0.0->lightkurve) (0.2.5)\n",
            "Requirement already satisfied: parso<0.9.0,>=0.8.0 in /usr/local/lib/python3.6/dist-packages (from jedi>=0.10->ipython>=6.0.0->lightkurve) (0.8.1)\n",
            "Requirement already satisfied: ptyprocess>=0.5 in /usr/local/lib/python3.6/dist-packages (from pexpect; sys_platform != \"win32\"->ipython>=6.0.0->lightkurve) (0.7.0)\n",
            "Requirement already satisfied: importlib-metadata>=1; python_version < \"3.8\" in /usr/local/lib/python3.6/dist-packages (from keyring>=4.0->astroquery>=0.3.10->lightkurve) (3.4.0)\n",
            "Collecting jeepney>=0.4.2; sys_platform == \"linux\"\n",
            "\u001b[?25l  Downloading https://files.pythonhosted.org/packages/51/b0/a6ea72741aaac3f37fb96d195e4ee576a103c4c04e279bc6b446a70960e1/jeepney-0.6.0-py3-none-any.whl (45kB)\n",
            "\u001b[K     |████████████████████████████████| 51kB 8.8MB/s \n",
            "\u001b[?25hCollecting SecretStorage>=3.2; sys_platform == \"linux\"\n",
            "  Downloading https://files.pythonhosted.org/packages/d9/1e/29cd69fdac7391aa51510dfd42aa70b4e6a826c8cd019ee2a8ab9ec0777f/SecretStorage-3.3.1-py3-none-any.whl\n",
            "Requirement already satisfied: webencodings in /usr/local/lib/python3.6/dist-packages (from html5lib>=0.999->astroquery>=0.3.10->lightkurve) (0.5.1)\n",
            "Requirement already satisfied: MarkupSafe>=0.23 in /usr/local/lib/python3.6/dist-packages (from Jinja2>=2.7->bokeh>=1.0->lightkurve) (1.1.1)\n",
            "Requirement already satisfied: zipp>=0.5 in /usr/local/lib/python3.6/dist-packages (from importlib-metadata>=1; python_version < \"3.8\"->keyring>=4.0->astroquery>=0.3.10->lightkurve) (3.4.0)\n",
            "Collecting cryptography>=2.0\n",
            "\u001b[?25l  Downloading https://files.pythonhosted.org/packages/f8/1f/acde6ff69864c5e78b56488e3afd93c1ccc8c2651186e2a5f93d93f64859/cryptography-3.4.6-cp36-abi3-manylinux2014_x86_64.whl (3.2MB)\n",
            "\u001b[K     |████████████████████████████████| 3.2MB 41.7MB/s \n",
            "\u001b[?25hRequirement already satisfied: cffi>=1.12 in /usr/local/lib/python3.6/dist-packages (from cryptography>=2.0->SecretStorage>=3.2; sys_platform == \"linux\"->keyring>=4.0->astroquery>=0.3.10->lightkurve) (1.14.4)\n",
            "Requirement already satisfied: pycparser in /usr/local/lib/python3.6/dist-packages (from cffi>=1.12->cryptography>=2.0->SecretStorage>=3.2; sys_platform == \"linux\"->keyring>=4.0->astroquery>=0.3.10->lightkurve) (2.20)\n",
            "Building wheels for collected packages: oktopus, fbpca, astroquery\n",
            "  Building wheel for oktopus (setup.py) ... \u001b[?25l\u001b[?25hdone\n",
            "  Created wheel for oktopus: filename=oktopus-0.1.2-cp36-none-any.whl size=12779 sha256=9b741cbd600bc3f56f52916c52a33a24ee574fe804ba12d73031592927b64b6b\n",
            "  Stored in directory: /root/.cache/pip/wheels/9b/90/81/098fc66ee56166d63c9a8fc0a9672ae7b3423396a588ec952a\n",
            "  Building wheel for fbpca (setup.py) ... \u001b[?25l\u001b[?25hdone\n",
            "  Created wheel for fbpca: filename=fbpca-1.0-cp36-none-any.whl size=11377 sha256=a92f11c756bdf2c1eb85b625d8d3be6850446cba01a44f0a21f9438ee4544222\n",
            "  Stored in directory: /root/.cache/pip/wheels/53/a2/dd/9b66cf53dbc58cec1e613d216689e5fa946d3e7805c30f60dc\n",
            "  Building wheel for astroquery (setup.py) ... \u001b[?25l\u001b[?25hdone\n",
            "  Created wheel for astroquery: filename=astroquery-0.4.1-cp36-none-any.whl size=3831873 sha256=e312c96d3101df70a3b8c9cc0a0099278f26ba7188842ae58ffbe8b1d0e3fbc0\n",
            "  Stored in directory: /root/.cache/pip/wheels/88/f8/b7/a254cd96e808f708bc0b7d755a8e095c56fbbe94099d7b464f\n",
            "Successfully built oktopus fbpca astroquery\n",
            "\u001b[31mERROR: jupyter-console 5.2.0 has requirement prompt-toolkit<2.0.0,>=1.0.0, but you'll have prompt-toolkit 3.0.16 which is incompatible.\u001b[0m\n",
            "\u001b[31mERROR: google-colab 1.0.0 has requirement ipython~=5.5.0, but you'll have ipython 7.16.1 which is incompatible.\u001b[0m\n",
            "\u001b[31mERROR: google-colab 1.0.0 has requirement requests~=2.23.0, but you'll have requests 2.25.1 which is incompatible.\u001b[0m\n",
            "\u001b[31mERROR: datascience 0.10.6 has requirement folium==0.2.1, but you'll have folium 0.8.3 which is incompatible.\u001b[0m\n",
            "Installing collected packages: memoization, prompt-toolkit, ipython, oktopus, requests, uncertainties, threadpoolctl, scikit-learn, fbpca, jeepney, cryptography, SecretStorage, keyring, astroquery, lightkurve\n",
            "  Found existing installation: prompt-toolkit 1.0.18\n",
            "    Uninstalling prompt-toolkit-1.0.18:\n",
            "      Successfully uninstalled prompt-toolkit-1.0.18\n",
            "  Found existing installation: ipython 5.5.0\n",
            "    Uninstalling ipython-5.5.0:\n",
            "      Successfully uninstalled ipython-5.5.0\n",
            "  Found existing installation: requests 2.23.0\n",
            "    Uninstalling requests-2.23.0:\n",
            "      Successfully uninstalled requests-2.23.0\n",
            "  Found existing installation: scikit-learn 0.22.2.post1\n",
            "    Uninstalling scikit-learn-0.22.2.post1:\n",
            "      Successfully uninstalled scikit-learn-0.22.2.post1\n",
            "Successfully installed SecretStorage-3.3.1 astroquery-0.4.1 cryptography-3.4.6 fbpca-1.0 ipython-7.16.1 jeepney-0.6.0 keyring-22.0.1 lightkurve-2.0.0 memoization-0.3.2 oktopus-0.1.2 prompt-toolkit-3.0.16 requests-2.25.1 scikit-learn-0.24.1 threadpoolctl-2.1.0 uncertainties-3.1.5\n"
          ],
          "name": "stdout"
        },
        {
          "output_type": "display_data",
          "data": {
            "application/vnd.colab-display-data+json": {
              "pip_warning": {
                "packages": [
                  "IPython",
                  "prompt_toolkit"
                ]
              }
            }
          },
          "metadata": {
            "tags": []
          }
        },
        {
          "output_type": "stream",
          "text": [
            "Requirement already satisfied: astroquery in /usr/local/lib/python3.6/dist-packages (0.4.1)\n",
            "Requirement already satisfied: numpy in /usr/local/lib/python3.6/dist-packages (from astroquery) (1.19.5)\n",
            "Requirement already satisfied: requests>=2.4.3 in /usr/local/lib/python3.6/dist-packages (from astroquery) (2.25.1)\n",
            "Requirement already satisfied: keyring>=4.0 in /usr/local/lib/python3.6/dist-packages (from astroquery) (22.0.1)\n",
            "Requirement already satisfied: six in /usr/local/lib/python3.6/dist-packages (from astroquery) (1.15.0)\n",
            "Requirement already satisfied: beautifulsoup4>=4.3.2 in /usr/local/lib/python3.6/dist-packages (from astroquery) (4.6.3)\n",
            "Requirement already satisfied: astropy>=3.1 in /usr/local/lib/python3.6/dist-packages (from astroquery) (4.1)\n",
            "Requirement already satisfied: html5lib>=0.999 in /usr/local/lib/python3.6/dist-packages (from astroquery) (1.0.1)\n",
            "Requirement already satisfied: chardet<5,>=3.0.2 in /usr/local/lib/python3.6/dist-packages (from requests>=2.4.3->astroquery) (3.0.4)\n",
            "Requirement already satisfied: certifi>=2017.4.17 in /usr/local/lib/python3.6/dist-packages (from requests>=2.4.3->astroquery) (2020.12.5)\n",
            "Requirement already satisfied: urllib3<1.27,>=1.21.1 in /usr/local/lib/python3.6/dist-packages (from requests>=2.4.3->astroquery) (1.24.3)\n",
            "Requirement already satisfied: idna<3,>=2.5 in /usr/local/lib/python3.6/dist-packages (from requests>=2.4.3->astroquery) (2.10)\n",
            "Requirement already satisfied: importlib-metadata>=1; python_version < \"3.8\" in /usr/local/lib/python3.6/dist-packages (from keyring>=4.0->astroquery) (3.4.0)\n",
            "Requirement already satisfied: jeepney>=0.4.2; sys_platform == \"linux\" in /usr/local/lib/python3.6/dist-packages (from keyring>=4.0->astroquery) (0.6.0)\n",
            "Requirement already satisfied: SecretStorage>=3.2; sys_platform == \"linux\" in /usr/local/lib/python3.6/dist-packages (from keyring>=4.0->astroquery) (3.3.1)\n",
            "Requirement already satisfied: webencodings in /usr/local/lib/python3.6/dist-packages (from html5lib>=0.999->astroquery) (0.5.1)\n",
            "Requirement already satisfied: zipp>=0.5 in /usr/local/lib/python3.6/dist-packages (from importlib-metadata>=1; python_version < \"3.8\"->keyring>=4.0->astroquery) (3.4.0)\n",
            "Requirement already satisfied: typing-extensions>=3.6.4; python_version < \"3.8\" in /usr/local/lib/python3.6/dist-packages (from importlib-metadata>=1; python_version < \"3.8\"->keyring>=4.0->astroquery) (3.7.4.3)\n",
            "Requirement already satisfied: cryptography>=2.0 in /usr/local/lib/python3.6/dist-packages (from SecretStorage>=3.2; sys_platform == \"linux\"->keyring>=4.0->astroquery) (3.4.6)\n",
            "Requirement already satisfied: cffi>=1.12 in /usr/local/lib/python3.6/dist-packages (from cryptography>=2.0->SecretStorage>=3.2; sys_platform == \"linux\"->keyring>=4.0->astroquery) (1.14.4)\n",
            "Requirement already satisfied: pycparser in /usr/local/lib/python3.6/dist-packages (from cffi>=1.12->cryptography>=2.0->SecretStorage>=3.2; sys_platform == \"linux\"->keyring>=4.0->astroquery) (2.20)\n",
            "Requirement already satisfied: matplotlib in /usr/local/lib/python3.6/dist-packages (3.2.2)\n",
            "Requirement already satisfied: python-dateutil>=2.1 in /usr/local/lib/python3.6/dist-packages (from matplotlib) (2.8.1)\n",
            "Requirement already satisfied: kiwisolver>=1.0.1 in /usr/local/lib/python3.6/dist-packages (from matplotlib) (1.3.1)\n",
            "Requirement already satisfied: pyparsing!=2.0.4,!=2.1.2,!=2.1.6,>=2.0.1 in /usr/local/lib/python3.6/dist-packages (from matplotlib) (2.4.7)\n",
            "Requirement already satisfied: cycler>=0.10 in /usr/local/lib/python3.6/dist-packages (from matplotlib) (0.10.0)\n",
            "Requirement already satisfied: numpy>=1.11 in /usr/local/lib/python3.6/dist-packages (from matplotlib) (1.19.5)\n",
            "Requirement already satisfied: six>=1.5 in /usr/local/lib/python3.6/dist-packages (from python-dateutil>=2.1->matplotlib) (1.15.0)\n",
            "Requirement already satisfied: numpy in /usr/local/lib/python3.6/dist-packages (1.19.5)\n",
            "Requirement already satisfied: scipy in /usr/local/lib/python3.6/dist-packages (1.4.1)\n",
            "Requirement already satisfied: numpy>=1.13.3 in /usr/local/lib/python3.6/dist-packages (from scipy) (1.19.5)\n",
            "Requirement already satisfied: pandas in /usr/local/lib/python3.6/dist-packages (1.1.5)\n",
            "Requirement already satisfied: pytz>=2017.2 in /usr/local/lib/python3.6/dist-packages (from pandas) (2018.9)\n",
            "Requirement already satisfied: python-dateutil>=2.7.3 in /usr/local/lib/python3.6/dist-packages (from pandas) (2.8.1)\n",
            "Requirement already satisfied: numpy>=1.15.4 in /usr/local/lib/python3.6/dist-packages (from pandas) (1.19.5)\n",
            "Requirement already satisfied: six>=1.5 in /usr/local/lib/python3.6/dist-packages (from python-dateutil>=2.7.3->pandas) (1.15.0)\n",
            "Requirement already satisfied: tensorflow in /usr/local/lib/python3.6/dist-packages (2.4.1)\n",
            "Requirement already satisfied: tensorboard~=2.4 in /usr/local/lib/python3.6/dist-packages (from tensorflow) (2.4.1)\n",
            "Requirement already satisfied: keras-preprocessing~=1.1.2 in /usr/local/lib/python3.6/dist-packages (from tensorflow) (1.1.2)\n",
            "Requirement already satisfied: opt-einsum~=3.3.0 in /usr/local/lib/python3.6/dist-packages (from tensorflow) (3.3.0)\n",
            "Requirement already satisfied: absl-py~=0.10 in /usr/local/lib/python3.6/dist-packages (from tensorflow) (0.10.0)\n",
            "Requirement already satisfied: typing-extensions~=3.7.4 in /usr/local/lib/python3.6/dist-packages (from tensorflow) (3.7.4.3)\n",
            "Requirement already satisfied: gast==0.3.3 in /usr/local/lib/python3.6/dist-packages (from tensorflow) (0.3.3)\n",
            "Requirement already satisfied: protobuf>=3.9.2 in /usr/local/lib/python3.6/dist-packages (from tensorflow) (3.12.4)\n",
            "Requirement already satisfied: tensorflow-estimator<2.5.0,>=2.4.0 in /usr/local/lib/python3.6/dist-packages (from tensorflow) (2.4.0)\n",
            "Requirement already satisfied: flatbuffers~=1.12.0 in /usr/local/lib/python3.6/dist-packages (from tensorflow) (1.12)\n",
            "Requirement already satisfied: numpy~=1.19.2 in /usr/local/lib/python3.6/dist-packages (from tensorflow) (1.19.5)\n",
            "Requirement already satisfied: google-pasta~=0.2 in /usr/local/lib/python3.6/dist-packages (from tensorflow) (0.2.0)\n",
            "Requirement already satisfied: grpcio~=1.32.0 in /usr/local/lib/python3.6/dist-packages (from tensorflow) (1.32.0)\n",
            "Requirement already satisfied: six~=1.15.0 in /usr/local/lib/python3.6/dist-packages (from tensorflow) (1.15.0)\n",
            "Requirement already satisfied: h5py~=2.10.0 in /usr/local/lib/python3.6/dist-packages (from tensorflow) (2.10.0)\n",
            "Requirement already satisfied: termcolor~=1.1.0 in /usr/local/lib/python3.6/dist-packages (from tensorflow) (1.1.0)\n",
            "Requirement already satisfied: wheel~=0.35 in /usr/local/lib/python3.6/dist-packages (from tensorflow) (0.36.2)\n",
            "Requirement already satisfied: astunparse~=1.6.3 in /usr/local/lib/python3.6/dist-packages (from tensorflow) (1.6.3)\n",
            "Requirement already satisfied: wrapt~=1.12.1 in /usr/local/lib/python3.6/dist-packages (from tensorflow) (1.12.1)\n",
            "Requirement already satisfied: markdown>=2.6.8 in /usr/local/lib/python3.6/dist-packages (from tensorboard~=2.4->tensorflow) (3.3.3)\n",
            "Requirement already satisfied: google-auth<2,>=1.6.3 in /usr/local/lib/python3.6/dist-packages (from tensorboard~=2.4->tensorflow) (1.25.0)\n",
            "Requirement already satisfied: setuptools>=41.0.0 in /usr/local/lib/python3.6/dist-packages (from tensorboard~=2.4->tensorflow) (53.0.0)\n",
            "Requirement already satisfied: requests<3,>=2.21.0 in /usr/local/lib/python3.6/dist-packages (from tensorboard~=2.4->tensorflow) (2.25.1)\n",
            "Requirement already satisfied: tensorboard-plugin-wit>=1.6.0 in /usr/local/lib/python3.6/dist-packages (from tensorboard~=2.4->tensorflow) (1.8.0)\n",
            "Requirement already satisfied: google-auth-oauthlib<0.5,>=0.4.1 in /usr/local/lib/python3.6/dist-packages (from tensorboard~=2.4->tensorflow) (0.4.2)\n",
            "Requirement already satisfied: werkzeug>=0.11.15 in /usr/local/lib/python3.6/dist-packages (from tensorboard~=2.4->tensorflow) (1.0.1)\n",
            "Requirement already satisfied: importlib-metadata; python_version < \"3.8\" in /usr/local/lib/python3.6/dist-packages (from markdown>=2.6.8->tensorboard~=2.4->tensorflow) (3.4.0)\n",
            "Requirement already satisfied: pyasn1-modules>=0.2.1 in /usr/local/lib/python3.6/dist-packages (from google-auth<2,>=1.6.3->tensorboard~=2.4->tensorflow) (0.2.8)\n",
            "Requirement already satisfied: cachetools<5.0,>=2.0.0 in /usr/local/lib/python3.6/dist-packages (from google-auth<2,>=1.6.3->tensorboard~=2.4->tensorflow) (4.2.1)\n",
            "Requirement already satisfied: rsa<5,>=3.1.4; python_version >= \"3.6\" in /usr/local/lib/python3.6/dist-packages (from google-auth<2,>=1.6.3->tensorboard~=2.4->tensorflow) (4.7)\n",
            "Requirement already satisfied: urllib3<1.27,>=1.21.1 in /usr/local/lib/python3.6/dist-packages (from requests<3,>=2.21.0->tensorboard~=2.4->tensorflow) (1.24.3)\n",
            "Requirement already satisfied: chardet<5,>=3.0.2 in /usr/local/lib/python3.6/dist-packages (from requests<3,>=2.21.0->tensorboard~=2.4->tensorflow) (3.0.4)\n",
            "Requirement already satisfied: idna<3,>=2.5 in /usr/local/lib/python3.6/dist-packages (from requests<3,>=2.21.0->tensorboard~=2.4->tensorflow) (2.10)\n",
            "Requirement already satisfied: certifi>=2017.4.17 in /usr/local/lib/python3.6/dist-packages (from requests<3,>=2.21.0->tensorboard~=2.4->tensorflow) (2020.12.5)\n",
            "Requirement already satisfied: requests-oauthlib>=0.7.0 in /usr/local/lib/python3.6/dist-packages (from google-auth-oauthlib<0.5,>=0.4.1->tensorboard~=2.4->tensorflow) (1.3.0)\n",
            "Requirement already satisfied: zipp>=0.5 in /usr/local/lib/python3.6/dist-packages (from importlib-metadata; python_version < \"3.8\"->markdown>=2.6.8->tensorboard~=2.4->tensorflow) (3.4.0)\n",
            "Requirement already satisfied: pyasn1<0.5.0,>=0.4.6 in /usr/local/lib/python3.6/dist-packages (from pyasn1-modules>=0.2.1->google-auth<2,>=1.6.3->tensorboard~=2.4->tensorflow) (0.4.8)\n",
            "Requirement already satisfied: oauthlib>=3.0.0 in /usr/local/lib/python3.6/dist-packages (from requests-oauthlib>=0.7.0->google-auth-oauthlib<0.5,>=0.4.1->tensorboard~=2.4->tensorflow) (3.1.0)\n",
            "Requirement already satisfied: astropy in /usr/local/lib/python3.6/dist-packages (4.1)\n",
            "Requirement already satisfied: numpy>=1.16 in /usr/local/lib/python3.6/dist-packages (from astropy) (1.19.5)\n"
          ],
          "name": "stdout"
        }
      ]
    },
    {
      "cell_type": "code",
      "metadata": {
        "id": "7shLojBNXI3W"
      },
      "source": [
        "import lightkurve as lk\n",
        "from astropy.io import fits\n",
        "from matplotlib import pyplot as plt\n",
        "import numpy as np\n",
        "from sklearn.model_selection import train_test_split\n",
        "from sklearn.linear_model import LinearRegression\n",
        "from sklearn.metrics import r2_score\n",
        "import math\n",
        "import scipy\n",
        "import pandas as pd \n",
        "from scipy import interpolate\n",
        "#tf\n",
        "from __future__ import absolute_import, division, print_function, unicode_literals\n",
        "import tensorflow as tf\n",
        "from tensorflow import keras\n",
        "from tensorflow.keras import datasets, layers, models"
      ],
      "execution_count": 2,
      "outputs": []
    },
    {
      "cell_type": "code",
      "metadata": {
        "colab": {
          "base_uri": "https://localhost:8080/"
        },
        "id": "DLHab7V3XP4i",
        "outputId": "b7e93a2a-e186-4424-ed31-2ab0673f4550"
      },
      "source": [
        "from google.colab import drive\n",
        "drive.mount('/content/drive')"
      ],
      "execution_count": 3,
      "outputs": [
        {
          "output_type": "stream",
          "text": [
            "Mounted at /content/drive\n"
          ],
          "name": "stdout"
        }
      ]
    },
    {
      "cell_type": "code",
      "metadata": {
        "id": "5ZKcFyGfXQaX"
      },
      "source": [
        "#Cycles\n",
        "    #21\n",
        "        #cycle_21 = []\n",
        "        \n",
        "        #Start 1 March 1976\n",
        "        #End 1 September 1986\n",
        "        \n",
        "    #22\n",
        "        #cycle_22 = [2446674.5,2450296.5]\n",
        "        \n",
        "        #Start: 1 September 1986 2446674.5\n",
        "        #End: 1 August 1996 2450296.5\n",
        "        \n",
        "    #23\n",
        "cycle_23 = [2450296.5,2454801.5]\n",
        "        \n",
        "        #Start: 1 August 1996 2450296.5\n",
        "        #End: 1 December 2008 2454801.5\n",
        "        \n",
        "    #24\n",
        "cycle_24 = [2454801.5,2458940.5]\n",
        "        \n",
        "        #Start: 1 December 2008 2454801.5\n",
        "        #End: 1 May 2020 2458970.5\n",
        "        #NOTE: Due to dataset limitation, only analyzed up to 2458940.5\n",
        "        "
      ],
      "execution_count": 4,
      "outputs": []
    },
    {
      "cell_type": "markdown",
      "metadata": {
        "id": "sGSkrknqYIxF"
      },
      "source": [
        "# Surface Velocity"
      ]
    },
    {
      "cell_type": "code",
      "metadata": {
        "colab": {
          "base_uri": "https://localhost:8080/"
        },
        "id": "kH9U4qZyXcsv",
        "outputId": "7cf9d682-7dff-45f6-9465-4ecf74baf0d5"
      },
      "source": [
        "#hdul = fits.open('data/allsites-alldata-waverage-fill.fits')\n",
        "hdul = fits.open('/content/drive/MyDrive/Korea Research - Yihong Song and Rohit Prasanna/DSHS & AOS Physics Research Collaboration 2020/Project/Jr:Sr Project/Data/allsites-alldata-waverage-fill.fits')\n",
        "\n",
        "hdul.info()\n",
        "\n",
        "tsdata = hdul[0].data\n",
        "#         SIMPLE  =                    T / Written by IDL:  Tue Jan 19 11:22:20 2016      \n",
        "#         BITPIX  =                  -64 /Real*8 (double precision)                       \n",
        "#         NAXIS   =                    2 /                                                \n",
        "#         NAXIS1  =                    2 /                                                \n",
        "#         NAXIS2  =             24455519 /                                                \n",
        "DSTART =        2442778.50000 #Data start (Julian)      1/1/1976 0:00:00                        \n",
        "DEND   =        2458940.50000 #Data end (Julian)        4/1/2020 0:00:00                       \n",
        "#         STATIONS= 'na ca cb su iz la lb mo' /Stations Used                              \n",
        "#         METHOD  = 'waverage'           /Overlap Method                                  \n",
        "#         CADENCE = '40      '           /Timeseries Cadence                              \n",
        "#         N-THRES =                   80 /Noise Rejection Threshold                       \n",
        "#         GAPFILL =                    1 /GapFill                                         \n",
        "#         FILL    =             0.638866 /Duty Cycle   \n",
        "#\n",
        "#         ~2160 datapoints per day"
      ],
      "execution_count": 409,
      "outputs": [
        {
          "output_type": "stream",
          "text": [
            "Filename: /content/drive/MyDrive/Korea Research - Yihong Song and Rohit Prasanna/DSHS & AOS Physics Research Collaboration 2020/Project/Jr:Sr Project/Data/allsites-alldata-waverage-fill.fits\n",
            "No.    Name      Ver    Type      Cards   Dimensions   Format\n",
            "  0  PRIMARY       1 PrimaryHDU      15   (2, 34909918)   float64   \n"
          ],
          "name": "stdout"
        }
      ]
    },
    {
      "cell_type": "code",
      "metadata": {
        "id": "jodTHElTX93F"
      },
      "source": [
        "def getSV(cycle):\n",
        "    #Subtract starting date\n",
        "    cycle = np.subtract(cycle,DSTART)\n",
        "    \n",
        "    #multiply by 2160 (2160 datapoints per day)\n",
        "    cycle = np.multiply(cycle,2160)\n",
        "    \n",
        "    return tsdata[int(cycle[0]):int(cycle[1])].T[1]"
      ],
      "execution_count": 6,
      "outputs": []
    },
    {
      "cell_type": "code",
      "metadata": {
        "id": "kTYNLJheYDEN"
      },
      "source": [
        "def getSV_index(cycle):\n",
        "    #Subtract starting date\n",
        "    cycle = np.subtract(cycle,DSTART)\n",
        "    \n",
        "    #multiply by 2160 (2160 datapoints per day)\n",
        "    cycle = np.multiply(cycle,2160)\n",
        "    \n",
        "    return tsdata[int(cycle[0]):int(cycle[1])].T[0]"
      ],
      "execution_count": 7,
      "outputs": []
    },
    {
      "cell_type": "code",
      "metadata": {
        "colab": {
          "base_uri": "https://localhost:8080/"
        },
        "id": "y1sX2qHVYEED",
        "outputId": "2858284b-95f1-4a56-d827-b5371a021ac2"
      },
      "source": [
        "print(getSV(cycle_23))\n",
        "print(getSV_index(cycle_23))"
      ],
      "execution_count": 8,
      "outputs": [
        {
          "output_type": "stream",
          "text": [
            "[ 0.52007627  0.87248993  0.11934945 ...  0.25079036 -1.0275805\n",
            " -0.95429337]\n",
            "[2450296.50033958 2450296.50080254 2450296.50126551 ... 2454801.49915418\n",
            " 2454801.49961714 2454801.50008011]\n"
          ],
          "name": "stdout"
        }
      ]
    },
    {
      "cell_type": "markdown",
      "metadata": {
        "id": "wfFK4UnCYMwN"
      },
      "source": [
        "# Sunspot Number"
      ]
    },
    {
      "cell_type": "code",
      "metadata": {
        "id": "z-srS4JVYFLy"
      },
      "source": [
        "#sunspot_Day = np.genfromtxt('data/SN_d_tot_V2.0.csv',delimiter=';')\n",
        "sunspot_Day = np.genfromtxt('/content/drive/MyDrive/Korea Research - Yihong Song and Rohit Prasanna/DSHS & AOS Physics Research Collaboration 2020/Project/Jr:Sr Project/Data/SN_d_tot_V2.0.csv',delimiter=';')\n",
        "SNSTART_Day = 2385070.5\n",
        "SNEND_day = 2459000.5\n",
        "\n",
        "#sunspot_Month = np.genfromtxt('data/SN_ms_tot_V2.0.csv',delimiter=';')\n",
        "sunspot_Month = np.genfromtxt('/content/drive/MyDrive/Korea Research - Yihong Song and Rohit Prasanna/DSHS & AOS Physics Research Collaboration 2020/Project/Jr:Sr Project/Data/SN_ms_tot_V2.0.csv',delimiter=';')\n",
        "sunspot_Month = sunspot_Month[828:]"
      ],
      "execution_count": 410,
      "outputs": []
    },
    {
      "cell_type": "code",
      "metadata": {
        "id": "6EqN00fdYPiu"
      },
      "source": [
        "def getSN_Day(cycle):\n",
        "    if cycle[1] >= SNEND_day:\n",
        "        cycle[1] = SNEND_day\n",
        "    cycle = np.subtract(cycle, SNSTART_Day)\n",
        "    sn = sunspot_Day.T[4][int(cycle[0]):int(cycle[1])]\n",
        "    \n",
        "    npout = [[0,0]]\n",
        "    for i in range(len(sn)):\n",
        "        npout = np.append(npout,[[i+SNSTART_Day+cycle[0],sn[i]]],0)\n",
        "    npout = npout[1:]\n",
        "    return npout"
      ],
      "execution_count": 10,
      "outputs": []
    },
    {
      "cell_type": "code",
      "metadata": {
        "id": "PO-bkCcmYRFk"
      },
      "source": [
        "def getSNAverage(cycle,length):\n",
        "    \n",
        "    npout = [[0,0]]\n",
        "    total = 0\n",
        "    valid_count = 0\n",
        "    start = cycle[0][0]\n",
        "    for i in range(len(cycle)):\n",
        "        if cycle[i][1] >= 0:\n",
        "            total += cycle[i][1]\n",
        "            valid_count += 1\n",
        "        if (i+1) % length < 1 or i == len(cycle)-1:\n",
        "            if valid_count == 0:\n",
        "              npout = np.append(npout,[[start,np.average(cycle)]],0)\n",
        "            else:\n",
        "              npout = np.append(npout,[[start,total/valid_count]],0)\n",
        "            total = 0\n",
        "            valid_count = 0\n",
        "            if i == len(cycle)-1:\n",
        "                break\n",
        "            start = cycle[i+1][0]\n",
        "    npout = npout[1:]\n",
        "    return npout"
      ],
      "execution_count": 339,
      "outputs": []
    },
    {
      "cell_type": "code",
      "metadata": {
        "colab": {
          "base_uri": "https://localhost:8080/"
        },
        "id": "tA4IeAc6YSDM",
        "outputId": "c812fb80-f147-4c3e-b5f2-a21c5bce8d00"
      },
      "source": [
        "getSN_Day(cycle_23)"
      ],
      "execution_count": 12,
      "outputs": [
        {
          "output_type": "execute_result",
          "data": {
            "text/plain": [
              "array([[2.4502965e+06, 2.6000000e+01],\n",
              "       [2.4502975e+06, 3.1000000e+01],\n",
              "       [2.4502985e+06, 3.1000000e+01],\n",
              "       ...,\n",
              "       [2.4547985e+06, 0.0000000e+00],\n",
              "       [2.4547995e+06, 0.0000000e+00],\n",
              "       [2.4548005e+06, 0.0000000e+00]])"
            ]
          },
          "metadata": {
            "tags": []
          },
          "execution_count": 12
        }
      ]
    },
    {
      "cell_type": "code",
      "metadata": {
        "colab": {
          "base_uri": "https://localhost:8080/"
        },
        "id": "Dns0zisTYTMz",
        "outputId": "770745c8-4310-4c33-f21c-440f6f7e005e"
      },
      "source": [
        "getSNAverage(getSN_Day(cycle_23),365)"
      ],
      "execution_count": 336,
      "outputs": [
        {
          "output_type": "execute_result",
          "data": {
            "text/plain": [
              "array([[2.45029650e+06, 1.45643836e+01],\n",
              "       [2.45066150e+06, 6.19232877e+01],\n",
              "       [2.45102650e+06, 1.21704110e+02],\n",
              "       [2.45139150e+06, 1.69175342e+02],\n",
              "       [2.45175650e+06, 1.53487671e+02],\n",
              "       [2.45212150e+06, 1.78747945e+02],\n",
              "       [2.45248650e+06, 1.29030137e+02],\n",
              "       [2.45285150e+06, 7.85397260e+01],\n",
              "       [2.45321650e+06, 5.33808219e+01],\n",
              "       [2.45358150e+06, 3.17945205e+01],\n",
              "       [2.45394650e+06, 1.95780822e+01],\n",
              "       [2.45431150e+06, 6.09041096e+00],\n",
              "       [2.45467650e+06, 2.98400000e+00]])"
            ]
          },
          "metadata": {
            "tags": []
          },
          "execution_count": 336
        }
      ]
    },
    {
      "cell_type": "markdown",
      "metadata": {
        "id": "XiwYhOmpYXsw"
      },
      "source": [
        "# Preprocessing\n"
      ]
    },
    {
      "cell_type": "code",
      "metadata": {
        "id": "2neuAkQrYZwi"
      },
      "source": [
        "def getPeriodogram(time,freq):\n",
        "    lc = lk.LightCurve(time=time.tolist(),flux=freq.tolist())\n",
        "    lc = lc.remove_nans()\n",
        "    pg = lc.to_periodogram(method='lombscargle', normalization='psd',minimum_frequency=1000, maximum_frequency=5000)\n",
        "    #ax = pg.plot()\n",
        "    pg_data = pg.to_table()\n",
        "    data = np.array(pg_data['power']).T#.tolist()\n",
        "\n",
        "\n",
        "    # pg.smooth(method='boxkernel', filter_width=1.)#.plot(ax=ax, label='Smoothed', c='red', lw=2)\n",
        "    # #ax.axvline(pg.frequency_at_max_power.value, lw=2, ls='dashed')\n",
        "    # snr = pg.flatten()\n",
        "    # seis = snr.to_seismology()\n",
        "    # numax = seis.estimate_numax()\n",
        "    # numax = float(str(numax)[0:7])\n",
        "    return data"
      ],
      "execution_count": 29,
      "outputs": []
    },
    {
      "cell_type": "code",
      "metadata": {
        "id": "xj-nwd5IYgnG"
      },
      "source": [
        "pg = getPeriodogram(getSV_index(cycle_23)[110000:120000],getSV(cycle_23)[110000:120000])"
      ],
      "execution_count": 30,
      "outputs": []
    },
    {
      "cell_type": "code",
      "metadata": {
        "colab": {
          "base_uri": "https://localhost:8080/"
        },
        "id": "dCevb53xaN-x",
        "outputId": "059cf5fc-1d77-4da1-849d-7f2ba1777161"
      },
      "source": [
        "print(pg[0:5])"
      ],
      "execution_count": 31,
      "outputs": [
        {
          "output_type": "stream",
          "text": [
            "[9.43163103e-06 9.01683009e-06 9.53623339e-05 4.53297555e-05\n",
            " 6.06767015e-05]\n"
          ],
          "name": "stdout"
        }
      ]
    },
    {
      "cell_type": "code",
      "metadata": {
        "id": "TP73XJJRxoBq"
      },
      "source": [
        "#Debug\n",
        "# time,freq,length,interval = getSV_index(cycle_23),getSV(cycle_23),182.5,91.25\n",
        "\n",
        "# length = int(length * 2160)\n",
        "# interval = int(interval * 2160)\n",
        "# #npout = [[0,0]]\n",
        "# check = True\n",
        "# for start in range(0,len(time),interval):\n",
        "#     if start + length >= len(time):\n",
        "#         length = len(time) - start\n",
        "#     if check:\n",
        "#       check = False\n",
        "#       npout1d = np.array([getPeriodogram(time[start:start+length],freq[start:start+length])])\n",
        "#     else:\n",
        "#       temp = np.array([getPeriodogram(time[start:start+length],freq[start:start+length])])\n",
        "#       if temp.size == npout1d[-1].size:\n",
        "#         npout1d = np.append(npout1d,temp,0)\n",
        "#       else:\n",
        "#         print(temp.shape,npout1d.shape)\n",
        "#     print(npout1d.shape)"
      ],
      "execution_count": 80,
      "outputs": []
    },
    {
      "cell_type": "code",
      "metadata": {
        "id": "NIBjkqCRYiNI"
      },
      "source": [
        "def tsNumax(time,freq,length,interval):\n",
        "  length = int(length * 2160)\n",
        "  interval = int(interval * 2160)\n",
        "  #npout = [[0,0]]\n",
        "  check = True\n",
        "  for start in range(0,len(time),interval):\n",
        "      if start + length >= len(time):\n",
        "          length = len(time) - start\n",
        "      if check:\n",
        "        check = False\n",
        "        npout1d = np.array([getPeriodogram(time[start:start+length],freq[start:start+length])])\n",
        "      else:\n",
        "        temp = np.array([getPeriodogram(time[start:start+length],freq[start:start+length])])\n",
        "        if temp.size == npout1d[-1].size:\n",
        "          npout1d = np.append(npout1d,temp,0)\n",
        "  return npout1d"
      ],
      "execution_count": 81,
      "outputs": []
    },
    {
      "cell_type": "code",
      "metadata": {
        "id": "4a92CSayL9Ul"
      },
      "source": [
        "#Interpolation\n",
        "def interpolate(data, smoothness):\n",
        "    from scipy import interpolate\n",
        "    x_new = np.linspace((data[0][0])-1,int(data[-1][0])+1,smoothness)\n",
        "    a_BSpline = interpolate.make_interp_spline(data.T[0],data.T[1])\n",
        "    y_new = a_BSpline(x_new)\n",
        "    return x_new,y_new"
      ],
      "execution_count": 397,
      "outputs": []
    },
    {
      "cell_type": "code",
      "metadata": {
        "id": "wPNdioKxEQZ2"
      },
      "source": [
        "numax_cycle_23_37 = tsNumax(getSV_index(cycle_23),getSV(cycle_23),182.5,37)"
      ],
      "execution_count": 358,
      "outputs": []
    },
    {
      "cell_type": "code",
      "metadata": {
        "id": "ZRAqbWg4a0kq"
      },
      "source": [
        "numax_cycle_23_182 = tsNumax(getSV_index(cycle_23),getSV(cycle_23),182.5,91.25)\n",
        "#print(numax_cycle_23)"
      ],
      "execution_count": 82,
      "outputs": []
    },
    {
      "cell_type": "code",
      "metadata": {
        "id": "QNzss0hdELgs"
      },
      "source": [
        "numax_cycle_23_365 = tsNumax(getSV_index(cycle_23),getSV(cycle_23),365,91.25)\n",
        "#print(numax_cycle_23)"
      ],
      "execution_count": null,
      "outputs": []
    },
    {
      "cell_type": "code",
      "metadata": {
        "id": "eVRCFL1aESXI"
      },
      "source": [
        "numax_cycle_24_37 = tsNumax(getSV_index(cycle_24),getSV(cycle_24),182.5,37)"
      ],
      "execution_count": 359,
      "outputs": []
    },
    {
      "cell_type": "code",
      "metadata": {
        "id": "GQmIDBUd5I9A"
      },
      "source": [
        "numax_cycle_24_182 = tsNumax(getSV_index(cycle_24),getSV(cycle_24),182.5,91.25)"
      ],
      "execution_count": null,
      "outputs": []
    },
    {
      "cell_type": "code",
      "metadata": {
        "id": "03suygzfEMh_"
      },
      "source": [
        "numax_cycle_24_365 = tsNumax(getSV_index(cycle_24),getSV(cycle_24),365,91.25)\n",
        "#print(numax_cycle_23)"
      ],
      "execution_count": null,
      "outputs": []
    },
    {
      "cell_type": "code",
      "metadata": {
        "colab": {
          "base_uri": "https://localhost:8080/"
        },
        "id": "wtYgin1va2Vn",
        "outputId": "d324033e-edf6-45fc-a340-6dd72d733a54"
      },
      "source": [
        "print(numax_cycle_23_182)"
      ],
      "execution_count": 84,
      "outputs": [
        {
          "output_type": "stream",
          "text": [
            "[[2.97696466e-05 8.19987704e-06 1.05384707e-04 ... 3.20928767e-05\n",
            "  3.64857617e-05 7.95015702e-06]\n",
            " [1.89955818e-05 4.13591288e-07 8.07475522e-05 ... 1.53489174e-05\n",
            "  3.13521866e-05 8.11285198e-06]\n",
            " [2.30028433e-05 9.34467566e-05 1.23647725e-04 ... 3.59797493e-06\n",
            "  1.25009879e-05 2.82519005e-05]\n",
            " ...\n",
            " [1.96578274e-05 4.02596243e-06 9.75902648e-05 ... 2.66164597e-06\n",
            "  4.55807005e-05 4.70582693e-05]\n",
            " [5.72381487e-06 7.66772419e-05 3.20141675e-06 ... 6.67835719e-06\n",
            "  3.86473800e-07 1.02447020e-04]\n",
            " [5.38898835e-05 1.23581167e-05 6.63245233e-05 ... 6.38514917e-06\n",
            "  7.26191132e-05 6.05639946e-05]]\n"
          ],
          "name": "stdout"
        }
      ]
    },
    {
      "cell_type": "markdown",
      "metadata": {
        "id": "xnTl7YNPcPRl"
      },
      "source": [
        "# SN"
      ]
    },
    {
      "cell_type": "code",
      "metadata": {
        "colab": {
          "base_uri": "https://localhost:8080/",
          "height": 312
        },
        "id": "H7C0UBPqb5sn",
        "outputId": "ac4a63ca-8743-49c5-f963-84f5b87a82d3"
      },
      "source": [
        "data_SN = getSNAverage(np.ma.masked_equal(getSN_Day(cycle_23),0),37)\n",
        "datax_SN = data_SN.T[0] #np.subtract(data_SN.T[0],200)\n",
        "datay_SN = data_SN.T[1]\n",
        "\n",
        "plt.xlabel('Time (BJD)')\n",
        "plt.title('Numax and Sunspot Number vs. Time - Cycle 24')\n",
        "\n",
        "#Axis 1\n",
        "plt.autoscale(enable=True, axis='both', tight=None)\n",
        "plt.scatter(datax_SN,datay_SN, s = 10, c='blue', alpha=0.5)\n",
        "plt.show()\n",
        "print(data_SN.size)\n"
      ],
      "execution_count": 356,
      "outputs": [
        {
          "output_type": "display_data",
          "data": {
            "image/png": "[encoded data removed]",
            "text/plain": [
              "<Figure size 432x288 with 1 Axes>"
            ]
          },
          "metadata": {
            "tags": [],
            "needs_background": "light"
          }
        },
        {
          "output_type": "stream",
          "text": [
            "244\n"
          ],
          "name": "stdout"
        }
      ]
    },
    {
      "cell_type": "code",
      "metadata": {
        "colab": {
          "base_uri": "https://localhost:8080/"
        },
        "id": "alk3QHltcRFe",
        "outputId": "a2c862a4-2f37-4e24-d386-d551ca330ef7"
      },
      "source": [
        "train_x = numax_cycle_23_37\n",
        "train_y_pre = datay_SN[:-5]\n",
        "print(train_y_pre)\n",
        "print(train_x.shape, train_y_pre.shape)\n",
        "#train_x = np.reshape(train_x, (-1, 2160))\n",
        "print(train_x.shape)\n",
        "print(train_x)\n",
        "\n",
        "# normalize\n",
        "max = float(np.max(train_y_pre))\n",
        "train_y = np.divide(train_y_pre,max)\n",
        "print(np.max(train_y),train_y.shape)\n",
        "\n",
        "#Train-test set\n",
        "train_test_x = numax_cycle_24_37\n",
        "train_test_y = getSNAverage(np.ma.masked_equal(getSN_Day(cycle_24),0),37)[:-5].T[1]\n",
        "print(train_test_x.shape,train_test_y.shape)"
      ],
      "execution_count": 372,
      "outputs": [
        {
          "output_type": "stream",
          "text": [
            "[ 19.52941176  18.5         18.07692308  32.26666667  12.78947368\n",
            "  20.42105263  27.16666667  23.2         24.19444444  19.5\n",
            "  52.91666667  42.16216216  45.41666667  53.54054054  45.70588235\n",
            "  63.83783784  87.27027027  65.94594595  92.64864865  97.40540541\n",
            " 126.54054054 104.64864865  86.97297297 115.32432432  74.56756757\n",
            " 126.51351351  86.37837838 145.83783784 204.86486486 157.32432432\n",
            " 129.16216216 141.32432432 181.40540541 112.56756757 153.78378378\n",
            " 194.54054054 203.7027027  160.72972973 213.56756757 226.78378378\n",
            " 146.51351351 150.48648649 147.13513514 156.18918919 130.18918919\n",
            " 142.21621622 171.81081081 150.75675676 169.97297297 147.54054054\n",
            " 223.32432432 192.94594595 189.32432432 196.13513514 175.62162162\n",
            " 152.83783784 195.16216216 164.18918919 116.10810811 195.78378378\n",
            " 174.48648649 169.59459459 138.67567568 126.91891892  84.13513514\n",
            " 103.94594595  93.21621622 100.72972973 132.45945946 107.86486486\n",
            "  78.64864865  82.64864865  94.94594595  60.58333333  69.48648649\n",
            "  72.37837838  65.54054054  73.59459459  77.24324324  65.02702703\n",
            "  44.05714286  95.59459459  34.83783784  44.7027027   42.13888889\n",
            "  43.54054054  51.64864865  59.47222222  71.20588235  48.24324324\n",
            "  28.72222222  25.76666667  54.48648649  22.21428571  14.95238095\n",
            "  42.97142857  43.45454545  31.5         20.61290323  28.57142857\n",
            "  20.79310345  36.15625     32.96551724  25.82857143  18.85\n",
            "  13.46153846  25.09090909  26.42307692  18.73913043  14.75\n",
            "  15.33333333  14.36363636  24.82608696  11.66666667  17.72727273\n",
            "  25.76470588  14.6       ]\n",
            "(117, 63072) (117,)\n",
            "(117, 63072)\n",
            "[[2.97696466e-05 8.19987704e-06 1.05384707e-04 ... 3.20928767e-05\n",
            "  3.64857617e-05 7.95015702e-06]\n",
            " [1.07202266e-05 2.83683463e-06 5.94144656e-05 ... 2.89363698e-05\n",
            "  4.35436937e-05 8.50935487e-06]\n",
            " [1.72897600e-05 8.40387531e-07 6.51667962e-05 ... 2.43125107e-05\n",
            "  4.50207131e-05 2.83999930e-06]\n",
            " ...\n",
            " [3.38958581e-05 3.23911170e-05 3.75300672e-06 ... 3.73555823e-05\n",
            "  2.70621422e-05 5.70845298e-05]\n",
            " [7.24643834e-05 8.29724122e-06 5.17779539e-05 ... 2.55449402e-06\n",
            "  3.02395369e-05 2.62616957e-05]\n",
            " [5.81281525e-05 1.48872068e-05 6.78919835e-05 ... 3.73952765e-06\n",
            "  6.05977285e-05 4.74009161e-05]]\n",
            "1.0 (117,)\n",
            "(107, 63072) (107,)\n"
          ],
          "name": "stdout"
        }
      ]
    },
    {
      "cell_type": "code",
      "metadata": {
        "colab": {
          "base_uri": "https://localhost:8080/"
        },
        "id": "NMJn0fPZcf2B",
        "outputId": "c96e2f99-7e9b-4966-e476-3a562ffb6873"
      },
      "source": [
        "tf.test.gpu_device_name()\n",
        "keras.backend.clear_session()\n",
        "# model = models.Sequential()\n",
        "\n",
        "# model.add(layers.Conv1D(1024, 1, activation='relu',batch_input_shape=train_x.shape))\n",
        "# model.add(layers.Dense(128))\n",
        "# model.add(layers.Conv1D(32, 1, activation='relu'))\n",
        "# model.add(layers.Dense(1,activation=\"sigmoid\"))\n",
        "\n",
        "# model.summary()\n",
        "\n",
        "model = models.Sequential()\n",
        "#model.add(layers.Conv1D(filters=16, kernel_size=1, activation='relu', batch_input_shape=(train_x.shape)))\n",
        "model.add(layers.Dense(1024, activation='relu', input_shape=(train_x.shape)))\n",
        "model.add(layers.Dense(512, activation='relu'))\n",
        "model.add(layers.Dense(128, activation='relu'))\n",
        "model.add(layers.Dense(16, activation='relu'))\n",
        "model.add(layers.Dense(1))\n",
        "model.summary()"
      ],
      "execution_count": 388,
      "outputs": [
        {
          "output_type": "stream",
          "text": [
            "Model: \"sequential\"\n",
            "_________________________________________________________________\n",
            "Layer (type)                 Output Shape              Param #   \n",
            "=================================================================\n",
            "dense (Dense)                (None, 117, 1024)         64586752  \n",
            "_________________________________________________________________\n",
            "dense_1 (Dense)              (None, 117, 512)          524800    \n",
            "_________________________________________________________________\n",
            "dense_2 (Dense)              (None, 117, 128)          65664     \n",
            "_________________________________________________________________\n",
            "dense_3 (Dense)              (None, 117, 16)           2064      \n",
            "_________________________________________________________________\n",
            "dense_4 (Dense)              (None, 117, 1)            17        \n",
            "=================================================================\n",
            "Total params: 65,179,297\n",
            "Trainable params: 65,179,297\n",
            "Non-trainable params: 0\n",
            "_________________________________________________________________\n"
          ],
          "name": "stdout"
        }
      ]
    },
    {
      "cell_type": "code",
      "metadata": {
        "id": "qS2YU2JFc4y2"
      },
      "source": [
        "# model.compile(optimizer='adam',\n",
        "#              loss='binary_crossentropy',\n",
        "#              metrics=['accuracy'])\n",
        "model.compile(optimizer='adam', loss='mse', metrics=['accuracy'])"
      ],
      "execution_count": 389,
      "outputs": []
    },
    {
      "cell_type": "code",
      "metadata": {
        "colab": {
          "base_uri": "https://localhost:8080/"
        },
        "id": "ffIxg9adc69j",
        "outputId": "ad601d12-009f-4fe4-dbe6-a8884b65c747"
      },
      "source": [
        "history = model.fit(train_x, train_y, epochs=30,\n",
        "                   validation_data=(train_test_x, train_test_y))"
      ],
      "execution_count": 390,
      "outputs": [
        {
          "output_type": "stream",
          "text": [
            "Epoch 1/30\n",
            "WARNING:tensorflow:Model was constructed with shape (None, 117, 63072) for input KerasTensor(type_spec=TensorSpec(shape=(None, 117, 63072), dtype=tf.float32, name='dense_input'), name='dense_input', description=\"created by layer 'dense_input'\"), but it was called on an input with incompatible shape (None, 63072).\n",
            "WARNING:tensorflow:Model was constructed with shape (None, 117, 63072) for input KerasTensor(type_spec=TensorSpec(shape=(None, 117, 63072), dtype=tf.float32, name='dense_input'), name='dense_input', description=\"created by layer 'dense_input'\"), but it was called on an input with incompatible shape (None, 63072).\n",
            "4/4 [==============================] - ETA: 0s - loss: 0.1996 - accuracy: 0.0000e+00WARNING:tensorflow:Model was constructed with shape (None, 117, 63072) for input KerasTensor(type_spec=TensorSpec(shape=(None, 117, 63072), dtype=tf.float32, name='dense_input'), name='dense_input', description=\"created by layer 'dense_input'\"), but it was called on an input with incompatible shape (None, 63072).\n",
            "4/4 [==============================] - 2s 449ms/step - loss: 0.1935 - accuracy: 0.0000e+00 - val_loss: 4261.0068 - val_accuracy: 0.0000e+00\n",
            "Epoch 2/30\n",
            "4/4 [==============================] - 2s 407ms/step - loss: 0.0991 - accuracy: 0.0055 - val_loss: 4273.6489 - val_accuracy: 0.0000e+00\n",
            "Epoch 3/30\n",
            "4/4 [==============================] - 2s 407ms/step - loss: 0.0782 - accuracy: 0.0000e+00 - val_loss: 4279.7471 - val_accuracy: 0.0000e+00\n",
            "Epoch 4/30\n",
            "4/4 [==============================] - 2s 404ms/step - loss: 0.0680 - accuracy: 0.0000e+00 - val_loss: 4266.8335 - val_accuracy: 0.0000e+00\n",
            "Epoch 5/30\n",
            "4/4 [==============================] - 2s 410ms/step - loss: 0.0584 - accuracy: 0.0149 - val_loss: 4267.2983 - val_accuracy: 0.0000e+00\n",
            "Epoch 6/30\n",
            "4/4 [==============================] - 2s 408ms/step - loss: 0.0401 - accuracy: 0.0055 - val_loss: 4276.3374 - val_accuracy: 0.0000e+00\n",
            "Epoch 7/30\n",
            "4/4 [==============================] - 2s 407ms/step - loss: 0.0260 - accuracy: 0.0086 - val_loss: 4265.4814 - val_accuracy: 0.0000e+00\n",
            "Epoch 8/30\n",
            "4/4 [==============================] - 2s 406ms/step - loss: 0.0129 - accuracy: 0.0086 - val_loss: 4272.0439 - val_accuracy: 0.0000e+00\n",
            "Epoch 9/30\n",
            "4/4 [==============================] - 2s 407ms/step - loss: 0.0063 - accuracy: 0.0034 - val_loss: 4274.8574 - val_accuracy: 0.0000e+00\n",
            "Epoch 10/30\n",
            "4/4 [==============================] - 2s 410ms/step - loss: 0.0064 - accuracy: 0.0055 - val_loss: 4275.8760 - val_accuracy: 0.0000e+00\n",
            "Epoch 11/30\n",
            "4/4 [==============================] - 2s 399ms/step - loss: 0.0054 - accuracy: 0.0055 - val_loss: 4275.4487 - val_accuracy: 0.0000e+00\n",
            "Epoch 12/30\n",
            "4/4 [==============================] - 2s 406ms/step - loss: 0.0037 - accuracy: 0.0055 - val_loss: 4274.2061 - val_accuracy: 0.0000e+00\n",
            "Epoch 13/30\n",
            "4/4 [==============================] - 2s 412ms/step - loss: 0.0029 - accuracy: 0.0149 - val_loss: 4274.6245 - val_accuracy: 0.0000e+00\n",
            "Epoch 14/30\n",
            "4/4 [==============================] - 2s 406ms/step - loss: 0.0026 - accuracy: 0.0034 - val_loss: 4273.1685 - val_accuracy: 0.0000e+00\n",
            "Epoch 15/30\n",
            "4/4 [==============================] - 2s 410ms/step - loss: 0.0024 - accuracy: 0.0149 - val_loss: 4275.8057 - val_accuracy: 0.0000e+00\n",
            "Epoch 16/30\n",
            "4/4 [==============================] - 2s 406ms/step - loss: 0.0021 - accuracy: 0.0086 - val_loss: 4273.7676 - val_accuracy: 0.0000e+00\n",
            "Epoch 17/30\n",
            "4/4 [==============================] - 2s 476ms/step - loss: 0.0024 - accuracy: 0.0149 - val_loss: 4277.1006 - val_accuracy: 0.0000e+00\n",
            "Epoch 18/30\n",
            "4/4 [==============================] - 2s 408ms/step - loss: 0.0019 - accuracy: 0.0149 - val_loss: 4273.5127 - val_accuracy: 0.0000e+00\n",
            "Epoch 19/30\n",
            "4/4 [==============================] - 2s 402ms/step - loss: 0.0015 - accuracy: 0.0086 - val_loss: 4277.4590 - val_accuracy: 0.0000e+00\n",
            "Epoch 20/30\n",
            "4/4 [==============================] - 1s 400ms/step - loss: 0.0013 - accuracy: 0.0034 - val_loss: 4273.0225 - val_accuracy: 0.0000e+00\n",
            "Epoch 21/30\n",
            "4/4 [==============================] - 2s 402ms/step - loss: 0.0018 - accuracy: 0.0086 - val_loss: 4277.5933 - val_accuracy: 0.0000e+00\n",
            "Epoch 22/30\n",
            "4/4 [==============================] - 2s 401ms/step - loss: 0.0010 - accuracy: 0.0055 - val_loss: 4274.1714 - val_accuracy: 0.0000e+00\n",
            "Epoch 23/30\n",
            "4/4 [==============================] - 2s 408ms/step - loss: 8.5989e-04 - accuracy: 0.0086 - val_loss: 4277.4424 - val_accuracy: 0.0000e+00\n",
            "Epoch 24/30\n",
            "4/4 [==============================] - 2s 407ms/step - loss: 0.0011 - accuracy: 0.0055 - val_loss: 4275.0396 - val_accuracy: 0.0000e+00\n",
            "Epoch 25/30\n",
            "4/4 [==============================] - 2s 415ms/step - loss: 5.7257e-04 - accuracy: 0.0034 - val_loss: 4275.6699 - val_accuracy: 0.0000e+00\n",
            "Epoch 26/30\n",
            "4/4 [==============================] - 2s 404ms/step - loss: 5.0864e-04 - accuracy: 0.0149 - val_loss: 4276.6772 - val_accuracy: 0.0000e+00\n",
            "Epoch 27/30\n",
            "4/4 [==============================] - 2s 405ms/step - loss: 4.1895e-04 - accuracy: 0.0086 - val_loss: 4276.3804 - val_accuracy: 0.0000e+00\n",
            "Epoch 28/30\n",
            "4/4 [==============================] - 2s 404ms/step - loss: 3.3378e-04 - accuracy: 0.0034 - val_loss: 4275.4297 - val_accuracy: 0.0000e+00\n",
            "Epoch 29/30\n",
            "4/4 [==============================] - 2s 402ms/step - loss: 3.0862e-04 - accuracy: 0.0086 - val_loss: 4276.3506 - val_accuracy: 0.0000e+00\n",
            "Epoch 30/30\n",
            "4/4 [==============================] - 1s 400ms/step - loss: 2.0348e-04 - accuracy: 0.0086 - val_loss: 4276.3281 - val_accuracy: 0.0000e+00\n"
          ],
          "name": "stdout"
        }
      ]
    },
    {
      "cell_type": "code",
      "metadata": {
        "id": "XNm1Qq7Bc9rJ",
        "colab": {
          "base_uri": "https://localhost:8080/"
        },
        "outputId": "b05c3571-e12a-4535-b1fb-ce7638fcc604"
      },
      "source": [
        "pred_y = model.predict(train_x)"
      ],
      "execution_count": 391,
      "outputs": [
        {
          "output_type": "stream",
          "text": [
            "WARNING:tensorflow:Model was constructed with shape (None, 117, 63072) for input KerasTensor(type_spec=TensorSpec(shape=(None, 117, 63072), dtype=tf.float32, name='dense_input'), name='dense_input', description=\"created by layer 'dense_input'\"), but it was called on an input with incompatible shape (None, 63072).\n"
          ],
          "name": "stdout"
        }
      ]
    },
    {
      "cell_type": "code",
      "metadata": {
        "colab": {
          "base_uri": "https://localhost:8080/"
        },
        "id": "k4ne-vcH19Qp",
        "outputId": "9940cf25-056d-422c-f332-206469dd4a25"
      },
      "source": [
        "pred_y = pred_y.reshape(-1)\n",
        "#pred_y = np.multiply(pred_y,353.0)\n",
        "print(pred_y)"
      ],
      "execution_count": 392,
      "outputs": [
        {
          "output_type": "stream",
          "text": [
            "[0.07999802 0.07660505 0.08544668 0.12108106 0.08205384 0.08648986\n",
            " 0.10037933 0.09720916 0.0991722  0.10214319 0.21026275 0.18619584\n",
            " 0.1972271  0.21797064 0.21268547 0.27735734 0.37294307 0.29863408\n",
            " 0.3979499  0.43239325 0.555461   0.46459594 0.3836523  0.49626184\n",
            " 0.34015095 0.54805    0.38696674 0.62860054 0.90573716 0.69151706\n",
            " 0.567423   0.6379879  0.77573824 0.51358956 0.6628237  0.85713613\n",
            " 0.8833425  0.71994865 0.924793   0.9946558  0.650664   0.64866006\n",
            " 0.65217817 0.68136424 0.574805   0.6206613  0.74763674 0.6752187\n",
            " 0.73477566 0.66462445 0.9698807  0.8678663  0.8329358  0.87173283\n",
            " 0.767836   0.6803574  0.8542067  0.705429   0.5289613  0.8437067\n",
            " 0.78566635 0.7403172  0.6164482  0.5575846  0.38431957 0.44352716\n",
            " 0.42582595 0.44155997 0.578532   0.4717805  0.35249126 0.36251628\n",
            " 0.41194043 0.27864724 0.29877776 0.31619716 0.29804832 0.32683656\n",
            " 0.33963272 0.27554777 0.2155331  0.38428414 0.18644208 0.17966878\n",
            " 0.17763218 0.19099349 0.22803265 0.27340218 0.30074513 0.21448278\n",
            " 0.12788697 0.12358742 0.19810411 0.11115406 0.09151579 0.17583087\n",
            " 0.19141793 0.13119566 0.10265035 0.10474272 0.10839465 0.15472284\n",
            " 0.14095223 0.11949888 0.08592416 0.07784663 0.09427603 0.10042128\n",
            " 0.08367252 0.07324308 0.07013308 0.07133887 0.07766387 0.0720841\n",
            " 0.07539984 0.09256168 0.07777181]\n"
          ],
          "name": "stdout"
        }
      ]
    },
    {
      "cell_type": "code",
      "metadata": {
        "colab": {
          "base_uri": "https://localhost:8080/",
          "height": 312
        },
        "id": "DTgImdoD2Blo",
        "outputId": "2541c360-36b5-4f30-d3f3-3e49b98febe2"
      },
      "source": [
        "data_SN = getSNAverage(np.ma.masked_equal(getSN_Day(cycle_23),0),37)[:-5]\n",
        "#data_SN = np.ma.masked_equal(getSN_Day(cycle_23),0)\n",
        "datax_SN = data_SN.T[0] #np.subtract(data_SN.T[0],200)\n",
        "datay_SN = data_SN.T[1]\n",
        "print(datax_SN.shape, datay_SN.shape, pred_y.shape)\n",
        "\n",
        "datax_SN_ITP, pred_y_ITP = interpolate(np.array([datax_SN,pred_y]).T,40)\n",
        "datax_SN_ITP, datay_SN_ITP = interpolate(np.array([datax_SN,datay_SN]).T,40)\n",
        "\n",
        "figure, axis_1 = plt.subplots()\n",
        "plt.xlabel('Time (BJD)')\n",
        "plt.title('ML Prediction and Sunspot Number vs. Time - Cycle 23')\n",
        "\n",
        "#Axis 1\n",
        "axis_1.autoscale(enable=True, axis='both', tight=None)\n",
        "axis_1.set_ylabel('ML Prediction')\n",
        "axis_1.plot(datax_SN_ITP, pred_y_ITP, c='blue', alpha=0.5, label = \"Pred.\")\n",
        "axis_1.scatter(datax_SN,pred_y, s = 10, c='blue', alpha=0.5)\n",
        "\n",
        "#Axis 2\n",
        "axis_2 = axis_1.twinx()\n",
        "axis_2.set_ylabel('Sunspot Number')\n",
        "axis_2.plot(datax_SN_ITP,datay_SN_ITP, c='red', alpha=0.5, label = \"Actual\")\n",
        "axis_2.scatter(datax_SN,datay_SN, s = 10, c='red', alpha=0.5)\n",
        "\n",
        "#Append Labels\n",
        "lines_1, labels_1 = axis_1.get_legend_handles_labels()\n",
        "lines_2, labels_2 = axis_2.get_legend_handles_labels()\n",
        "lines = lines_1 + lines_2\n",
        "labels = labels_1 + labels_2\n",
        "axis_1.legend(lines, labels, loc=0)\n",
        "\n",
        "#Show Plot\n",
        "#plt.savefig('Graphs/C23_Numax_SSN_Time.png')\n",
        "plt.show()"
      ],
      "execution_count": 406,
      "outputs": [
        {
          "output_type": "stream",
          "text": [
            "(117,) (117,) (117,)\n"
          ],
          "name": "stdout"
        },
        {
          "output_type": "display_data",
          "data": {
            "image/png": "[encoded data removed]",
            "text/plain": [
              "<Figure size 432x288 with 2 Axes>"
            ]
          },
          "metadata": {
            "tags": [],
            "needs_background": "light"
          }
        }
      ]
    },
    {
      "cell_type": "code",
      "metadata": {
        "colab": {
          "base_uri": "https://localhost:8080/"
        },
        "id": "ZH2UJac42vIR",
        "outputId": "de99c56b-ec03-436c-cee0-da62d33f2fb5"
      },
      "source": [
        "print(numax_cycle_24_182)"
      ],
      "execution_count": 394,
      "outputs": [
        {
          "output_type": "stream",
          "text": [
            "[[5.12939512e-06 2.74658667e-05 1.30162586e-04 ... 1.87572875e-05\n",
            "  1.07630421e-04 1.14339673e-05]\n",
            " [8.86564049e-06 1.51447890e-05 1.33395100e-04 ... 9.20475404e-05\n",
            "  6.35275028e-06 3.08707556e-05]\n",
            " [7.59165790e-06 4.96486497e-05 1.19273949e-05 ... 1.41437212e-04\n",
            "  2.59161848e-05 1.19579854e-05]\n",
            " ...\n",
            " [5.68322111e-06 6.56638822e-05 2.34159817e-05 ... 2.65698299e-05\n",
            "  9.17601694e-05 1.25909167e-05]\n",
            " [3.51589832e-05 2.43807003e-05 2.50134107e-05 ... 9.85385126e-06\n",
            "  7.86522784e-05 1.88420818e-05]\n",
            " [7.53107874e-07 7.63718514e-06 1.56116418e-05 ... 5.53692171e-05\n",
            "  2.80536905e-05 2.98976611e-05]]\n"
          ],
          "name": "stdout"
        }
      ]
    },
    {
      "cell_type": "code",
      "metadata": {
        "colab": {
          "base_uri": "https://localhost:8080/"
        },
        "id": "4pwNRp1_2Dli",
        "outputId": "474301a4-a856-4ff6-807f-d28d0df3d1d2"
      },
      "source": [
        "\n",
        "test_x = numax_cycle_24_37\n",
        "print(test_x.shape)\n",
        "test_y = model.predict(test_x)\n",
        "test_y = test_y.reshape(-1)\n",
        "print(test_y)"
      ],
      "execution_count": 395,
      "outputs": [
        {
          "output_type": "stream",
          "text": [
            "(107, 63072)\n",
            "[0.23858196 0.2521027  0.2479249  0.22345917 0.22507814 0.20795307\n",
            " 0.22189203 0.23718567 0.23384681 0.2708028  0.23329873 0.24817315\n",
            " 0.2532734  0.26576337 0.25384974 0.23160508 0.2358951  0.22151142\n",
            " 0.22514862 0.23316324 0.24136505 0.25529146 0.25114936 0.2609399\n",
            " 0.2678597  0.28902575 0.28742138 0.33483297 0.35329977 0.31439084\n",
            " 0.30721834 0.31626108 0.31133476 0.31719202 0.2729428  0.28258586\n",
            " 0.2752058  0.27894175 0.29006785 0.29627746 0.30527627 0.31388968\n",
            " 0.2966938  0.27750292 0.28914484 0.28190544 0.2967741  0.35152304\n",
            " 0.36463907 0.38248235 0.3840139  0.41593382 0.38101223 0.35821795\n",
            " 0.36348176 0.3730746  0.41138572 0.3976106  0.402188   0.37007734\n",
            " 0.3552065  0.3753718  0.36085397 0.34716874 0.30322495 0.3174889\n",
            " 0.32986578 0.3274996  0.32250738 0.34073117 0.29896307 0.2904002\n",
            " 0.3332187  0.31010237 0.2848611  0.27508834 0.2708979  0.25256175\n",
            " 0.22929135 0.24867561 0.26253518 0.29635474 0.31439367 0.30416614\n",
            " 0.30309242 0.29406083 0.2569344  0.22224472 0.20971346 0.20365654\n",
            " 0.19966522 0.21105976 0.22436741 0.22949854 0.25219426 0.27804846\n",
            " 0.27371463 0.2646223  0.25869596 0.27829388 0.23596448 0.24579558\n",
            " 0.24951383 0.23448989 0.20649144 0.21503264 0.24119638]\n"
          ],
          "name": "stdout"
        }
      ]
    },
    {
      "cell_type": "code",
      "metadata": {
        "colab": {
          "base_uri": "https://localhost:8080/",
          "height": 312
        },
        "id": "zEmwlRrx22TU",
        "outputId": "a64be6d0-55f1-4554-e136-d840af6cdcfc"
      },
      "source": [
        "data_SN = getSNAverage(np.ma.masked_equal(getSN_Day(cycle_24),0),37)[:-5]\n",
        "datax_SN = data_SN.T[0] #np.subtract(data_SN.T[0],200)\n",
        "datay_SN = data_SN.T[1]\n",
        "data2_SN = np.ma.masked_equal(getSN_Day(cycle_24),0)[:-1]\n",
        "data2x_SN = data2_SN.T[0]\n",
        "data2y_SN = data2_SN.T[1]\n",
        "print(datax_SN.shape, datay_SN.shape, test_y.shape)\n",
        "\n",
        "datax_SN_ITP, test_y_ITP = interpolate(np.array([datax_SN,test_y]).T,40)\n",
        "datax_SN_ITP, datay_SN_ITP = interpolate(np.array([datax_SN,datay_SN]).T,40)\n",
        "\n",
        "figure, axis_1 = plt.subplots()\n",
        "plt.xlabel('Time (BJD)')\n",
        "plt.title('ML Prediction and Sunspot Number vs. Time - Cycle 24')\n",
        "\n",
        "#Axis 1\n",
        "axis_1.autoscale(enable=True, axis='both', tight=None)\n",
        "axis_1.set_ylabel('ML Prediction')\n",
        "axis_1.plot(datax_SN_ITP, test_y_ITP, c='blue', alpha=0.5, label = \"Pred.\")\n",
        "axis_1.scatter(datax_SN,test_y, s = 10, c='blue', alpha=0.5)\n",
        "\n",
        "#Axis 2\n",
        "axis_2 = axis_1.twinx()\n",
        "axis_2.set_ylabel('Sunspot Number')\n",
        "axis_2.plot(datax_SN_ITP,datay_SN_ITP, c='red', alpha=0.5, label = \"Actual\")\n",
        "axis_2.scatter(datax_SN,datay_SN, s = 10, c='red', alpha=0.5)\n",
        "\n",
        "#Append Labels\n",
        "lines_1, labels_1 = axis_1.get_legend_handles_labels()\n",
        "lines_2, labels_2 = axis_2.get_legend_handles_labels()\n",
        "lines = lines_1 + lines_2\n",
        "labels = labels_1 + labels_2\n",
        "axis_1.legend(lines, labels, loc=0)\n",
        "\n",
        "#Show Plot\n",
        "#plt.savefig('Graphs/C23_Numax_SSN_Time.png')\n",
        "plt.show()"
      ],
      "execution_count": 408,
      "outputs": [
        {
          "output_type": "stream",
          "text": [
            "(107,) (107,) (107,)\n"
          ],
          "name": "stdout"
        },
        {
          "output_type": "display_data",
          "data": {
            "image/png": "[encoded data removed]",
            "text/plain": [
              "<Figure size 432x288 with 2 Axes>"
            ]
          },
          "metadata": {
            "tags": [],
            "needs_background": "light"
          }
        }
      ]
    },
    {
      "cell_type": "code",
      "metadata": {
        "id": "i1w3VNVQ3cgV"
      },
      "source": [
        ""
      ],
      "execution_count": 211,
      "outputs": []
    }
  ]
}
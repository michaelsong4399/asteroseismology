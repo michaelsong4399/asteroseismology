{
  "nbformat": 4,
  "nbformat_minor": 0,
  "metadata": {
    "colab": {
      "name": "NNLightCurve.ipynb",
      "provenance": [],
      "collapsed_sections": [
        "fgWzaIiqtliy",
        "QxQoSvIgsMt3",
        "k3m1DupVtFpy",
        "ibWpBF6Wtcm0",
        "qTogHSG6CCzr",
        "PP5GA4qKvi9u",
        "RdzzwEyWvELy",
        "U4eOXkoW7XKZ",
        "8n-wlqek7giV",
        "H2RNBiUsBnCn",
        "9GdgXJ-XEr_J",
        "qL9x3XBGeUT_",
        "SCx800fhc51y"
      ],
      "authorship_tag": "ABX9TyO6A9P9+xd3VmK/sIMwOEAo",
      "include_colab_link": true
    },
    "kernelspec": {
      "display_name": "Python 3",
      "name": "python3"
    }
  },
  "cells": [
    {
      "cell_type": "markdown",
      "metadata": {
        "id": "view-in-github",
        "colab_type": "text"
      },
      "source": [
        "<a href=\"https://colab.research.google.com/github/michaelsong4399/asteroseismology/blob/master/NNLightCurveRSEF.ipynb\" target=\"_parent\"><img src=\"https://colab.research.google.com/assets/colab-badge.svg\" alt=\"Open In Colab\"/></a>"
      ]
    },
    {
      "cell_type": "markdown",
      "metadata": {
        "id": "fgWzaIiqtliy"
      },
      "source": [
        "# Initialization"
      ]
    },
    {
      "cell_type": "code",
      "metadata": {
        "colab": {
          "base_uri": "https://localhost:8080/"
        },
        "id": "E-fZxcJGsC1X",
        "outputId": "d53ac622-617a-4156-87f3-c56d67994182"
      },
      "source": [
        "from google.colab import drive\n",
        "drive.mount('/content/drive')"
      ],
      "execution_count": null,
      "outputs": [
        {
          "output_type": "stream",
          "text": [
            "Mounted at /content/drive\n"
          ],
          "name": "stdout"
        }
      ]
    },
    {
      "cell_type": "code",
      "metadata": {
        "colab": {
          "base_uri": "https://localhost:8080/",
          "height": 1000
        },
        "id": "5N38g_6rr5tq",
        "outputId": "c90a6e8f-81ab-43c7-d234-5848940180e1"
      },
      "source": [
        "!pip install lightkurve\n",
        "!pip install astroquery\n",
        "!pip install matplotlib\n",
        "!pip install numpy\n",
        "!pip install scipy\n",
        "!pip install pandas\n",
        "!pip install tensorflow\n",
        "!pip install astropy\n",
        "!pip install statsmodels"
      ],
      "execution_count": null,
      "outputs": [
        {
          "output_type": "stream",
          "text": [
            "Collecting lightkurve\n",
            "\u001b[?25l  Downloading https://files.pythonhosted.org/packages/47/78/d5618b872168f075b89205cfd0035d997205c0eac62f7658a34367593224/lightkurve-2.0.5-py3-none-any.whl (236kB)\n",
            "\u001b[K     |████████████████████████████████| 245kB 5.5MB/s \n",
            "\u001b[?25hRequirement already satisfied: matplotlib>=1.5.3 in /usr/local/lib/python3.7/dist-packages (from lightkurve) (3.2.2)\n",
            "Collecting astroquery>=0.3.10\n",
            "\u001b[?25l  Downloading https://files.pythonhosted.org/packages/1b/f8/4690523783691ed816b3469c3ec611af3798594d37ade510dd918d59f57e/astroquery-0.4.1.tar.gz (6.5MB)\n",
            "\u001b[K     |████████████████████████████████| 6.5MB 18.4MB/s \n",
            "\u001b[?25hCollecting memoization>=0.3.1; python_version >= \"3.6\" and python_version < \"4.0\"\n",
            "  Downloading https://files.pythonhosted.org/packages/16/87/37229296c2a9506867d5f5440b9aac015d97af54c951cdfc129bb4bb8d75/memoization-0.3.2-py3-none-any.whl\n",
            "Collecting requests<3.0.0,>=2.25.0\n",
            "\u001b[?25l  Downloading https://files.pythonhosted.org/packages/29/c1/24814557f1d22c56d50280771a17307e6bf87b70727d975fd6b2ce6b014a/requests-2.25.1-py2.py3-none-any.whl (61kB)\n",
            "\u001b[K     |████████████████████████████████| 61kB 7.3MB/s \n",
            "\u001b[?25hRequirement already satisfied: tqdm>=4.25.0 in /usr/local/lib/python3.7/dist-packages (from lightkurve) (4.41.1)\n",
            "Collecting fbpca>=1.0\n",
            "  Downloading https://files.pythonhosted.org/packages/a7/a5/2085d0645a4bb4f0b606251b0b7466c61326e4a471d445c1c3761a2d07bc/fbpca-1.0.tar.gz\n",
            "Requirement already satisfied: scipy>=0.19.0 in /usr/local/lib/python3.7/dist-packages (from lightkurve) (1.4.1)\n",
            "Requirement already satisfied: beautifulsoup4<5.0.0,>=4.6.0 in /usr/local/lib/python3.7/dist-packages (from lightkurve) (4.6.3)\n",
            "Requirement already satisfied: numpy>=1.11 in /usr/local/lib/python3.7/dist-packages (from lightkurve) (1.19.5)\n",
            "Collecting oktopus<0.2.0,>=0.1.2\n",
            "  Downloading https://files.pythonhosted.org/packages/2d/6e/7b7e11442ff70286c22614d200f6145f83528dc6c99fec0982665e25c8d3/oktopus-0.1.2.tar.gz\n",
            "Requirement already satisfied: astropy>=4.1 in /usr/local/lib/python3.7/dist-packages (from lightkurve) (4.2)\n",
            "Collecting uncertainties<4.0.0,>=3.1.4\n",
            "\u001b[?25l  Downloading https://files.pythonhosted.org/packages/45/41/fc7e7b73b603e7c2c9e040b7aa8caf4a88d74b6faa567601ed82b6f0d8e1/uncertainties-3.1.5-py2.py3-none-any.whl (246kB)\n",
            "\u001b[K     |████████████████████████████████| 256kB 50.9MB/s \n",
            "\u001b[?25hRequirement already satisfied: patsy>=0.5.0 in /usr/local/lib/python3.7/dist-packages (from lightkurve) (0.5.1)\n",
            "Requirement already satisfied: pandas<2.0.0,>=1.1.4 in /usr/local/lib/python3.7/dist-packages (from lightkurve) (1.1.5)\n",
            "Collecting scikit-learn>=0.24.0\n",
            "\u001b[?25l  Downloading https://files.pythonhosted.org/packages/f3/74/eb899f41d55f957e2591cde5528e75871f817d9fb46d4732423ecaca736d/scikit_learn-0.24.1-cp37-cp37m-manylinux2010_x86_64.whl (22.3MB)\n",
            "\u001b[K     |████████████████████████████████| 22.3MB 70.6MB/s \n",
            "\u001b[?25hCollecting ipython>=6.0.0\n",
            "\u001b[?25l  Downloading https://files.pythonhosted.org/packages/3b/43/6dbd0610550708fc418ad027fda97b5f415da9053749641654fdacfec93f/ipython-7.21.0-py3-none-any.whl (784kB)\n",
            "\u001b[K     |████████████████████████████████| 788kB 47.9MB/s \n",
            "\u001b[?25hRequirement already satisfied: bokeh>=1.0 in /usr/local/lib/python3.7/dist-packages (from lightkurve) (2.1.1)\n",
            "Requirement already satisfied: pyparsing!=2.0.4,!=2.1.2,!=2.1.6,>=2.0.1 in /usr/local/lib/python3.7/dist-packages (from matplotlib>=1.5.3->lightkurve) (2.4.7)\n",
            "Requirement already satisfied: kiwisolver>=1.0.1 in /usr/local/lib/python3.7/dist-packages (from matplotlib>=1.5.3->lightkurve) (1.3.1)\n",
            "Requirement already satisfied: cycler>=0.10 in /usr/local/lib/python3.7/dist-packages (from matplotlib>=1.5.3->lightkurve) (0.10.0)\n",
            "Requirement already satisfied: python-dateutil>=2.1 in /usr/local/lib/python3.7/dist-packages (from matplotlib>=1.5.3->lightkurve) (2.8.1)\n",
            "Collecting keyring>=4.0\n",
            "  Downloading https://files.pythonhosted.org/packages/4a/4f/a63f284d26eac29a29e24657d12f17bddac58b12673ca39b53ae5f20c1a3/keyring-23.0.0-py3-none-any.whl\n",
            "Requirement already satisfied: html5lib>=0.999 in /usr/local/lib/python3.7/dist-packages (from astroquery>=0.3.10->lightkurve) (1.0.1)\n",
            "Requirement already satisfied: six in /usr/local/lib/python3.7/dist-packages (from astroquery>=0.3.10->lightkurve) (1.15.0)\n",
            "Requirement already satisfied: chardet<5,>=3.0.2 in /usr/local/lib/python3.7/dist-packages (from requests<3.0.0,>=2.25.0->lightkurve) (3.0.4)\n",
            "Requirement already satisfied: certifi>=2017.4.17 in /usr/local/lib/python3.7/dist-packages (from requests<3.0.0,>=2.25.0->lightkurve) (2020.12.5)\n",
            "Requirement already satisfied: urllib3<1.27,>=1.21.1 in /usr/local/lib/python3.7/dist-packages (from requests<3.0.0,>=2.25.0->lightkurve) (1.24.3)\n",
            "Requirement already satisfied: idna<3,>=2.5 in /usr/local/lib/python3.7/dist-packages (from requests<3.0.0,>=2.25.0->lightkurve) (2.10)\n",
            "Requirement already satisfied: autograd in /usr/local/lib/python3.7/dist-packages (from oktopus<0.2.0,>=0.1.2->lightkurve) (1.3)\n",
            "Requirement already satisfied: pyerfa in /usr/local/lib/python3.7/dist-packages (from astropy>=4.1->lightkurve) (1.7.2)\n",
            "Requirement already satisfied: future in /usr/local/lib/python3.7/dist-packages (from uncertainties<4.0.0,>=3.1.4->lightkurve) (0.16.0)\n",
            "Requirement already satisfied: pytz>=2017.2 in /usr/local/lib/python3.7/dist-packages (from pandas<2.0.0,>=1.1.4->lightkurve) (2018.9)\n",
            "Collecting threadpoolctl>=2.0.0\n",
            "  Downloading https://files.pythonhosted.org/packages/f7/12/ec3f2e203afa394a149911729357aa48affc59c20e2c1c8297a60f33f133/threadpoolctl-2.1.0-py3-none-any.whl\n",
            "Requirement already satisfied: joblib>=0.11 in /usr/local/lib/python3.7/dist-packages (from scikit-learn>=0.24.0->lightkurve) (1.0.1)\n",
            "Requirement already satisfied: setuptools>=18.5 in /usr/local/lib/python3.7/dist-packages (from ipython>=6.0.0->lightkurve) (54.0.0)\n",
            "Requirement already satisfied: pexpect>4.3; sys_platform != \"win32\" in /usr/local/lib/python3.7/dist-packages (from ipython>=6.0.0->lightkurve) (4.8.0)\n",
            "Requirement already satisfied: pickleshare in /usr/local/lib/python3.7/dist-packages (from ipython>=6.0.0->lightkurve) (0.7.5)\n",
            "Collecting prompt-toolkit!=3.0.0,!=3.0.1,<3.1.0,>=2.0.0\n",
            "\u001b[?25l  Downloading https://files.pythonhosted.org/packages/ce/ee/08ceeb759c570bf96b4c636582ebf18c14c3c844a601b2e77b17f462aa6b/prompt_toolkit-3.0.17-py3-none-any.whl (367kB)\n",
            "\u001b[K     |████████████████████████████████| 368kB 43.1MB/s \n",
            "\u001b[?25hRequirement already satisfied: pygments in /usr/local/lib/python3.7/dist-packages (from ipython>=6.0.0->lightkurve) (2.6.1)\n",
            "Requirement already satisfied: backcall in /usr/local/lib/python3.7/dist-packages (from ipython>=6.0.0->lightkurve) (0.2.0)\n",
            "Requirement already satisfied: traitlets>=4.2 in /usr/local/lib/python3.7/dist-packages (from ipython>=6.0.0->lightkurve) (5.0.5)\n",
            "Requirement already satisfied: decorator in /usr/local/lib/python3.7/dist-packages (from ipython>=6.0.0->lightkurve) (4.4.2)\n",
            "Requirement already satisfied: jedi>=0.16 in /usr/local/lib/python3.7/dist-packages (from ipython>=6.0.0->lightkurve) (0.18.0)\n",
            "Requirement already satisfied: packaging>=16.8 in /usr/local/lib/python3.7/dist-packages (from bokeh>=1.0->lightkurve) (20.9)\n",
            "Requirement already satisfied: typing-extensions>=3.7.4 in /usr/local/lib/python3.7/dist-packages (from bokeh>=1.0->lightkurve) (3.7.4.3)\n",
            "Requirement already satisfied: pillow>=4.0 in /usr/local/lib/python3.7/dist-packages (from bokeh>=1.0->lightkurve) (7.0.0)\n",
            "Requirement already satisfied: Jinja2>=2.7 in /usr/local/lib/python3.7/dist-packages (from bokeh>=1.0->lightkurve) (2.11.3)\n",
            "Requirement already satisfied: tornado>=5.1 in /usr/local/lib/python3.7/dist-packages (from bokeh>=1.0->lightkurve) (5.1.1)\n",
            "Requirement already satisfied: PyYAML>=3.10 in /usr/local/lib/python3.7/dist-packages (from bokeh>=1.0->lightkurve) (3.13)\n",
            "Requirement already satisfied: importlib-metadata>=3.6 in /usr/local/lib/python3.7/dist-packages (from keyring>=4.0->astroquery>=0.3.10->lightkurve) (3.7.0)\n",
            "Collecting SecretStorage>=3.2; sys_platform == \"linux\"\n",
            "  Downloading https://files.pythonhosted.org/packages/d9/1e/29cd69fdac7391aa51510dfd42aa70b4e6a826c8cd019ee2a8ab9ec0777f/SecretStorage-3.3.1-py3-none-any.whl\n",
            "Collecting jeepney>=0.4.2; sys_platform == \"linux\"\n",
            "\u001b[?25l  Downloading https://files.pythonhosted.org/packages/51/b0/a6ea72741aaac3f37fb96d195e4ee576a103c4c04e279bc6b446a70960e1/jeepney-0.6.0-py3-none-any.whl (45kB)\n",
            "\u001b[K     |████████████████████████████████| 51kB 7.1MB/s \n",
            "\u001b[?25hRequirement already satisfied: webencodings in /usr/local/lib/python3.7/dist-packages (from html5lib>=0.999->astroquery>=0.3.10->lightkurve) (0.5.1)\n",
            "Requirement already satisfied: ptyprocess>=0.5 in /usr/local/lib/python3.7/dist-packages (from pexpect>4.3; sys_platform != \"win32\"->ipython>=6.0.0->lightkurve) (0.7.0)\n",
            "Requirement already satisfied: wcwidth in /usr/local/lib/python3.7/dist-packages (from prompt-toolkit!=3.0.0,!=3.0.1,<3.1.0,>=2.0.0->ipython>=6.0.0->lightkurve) (0.2.5)\n",
            "Requirement already satisfied: ipython-genutils in /usr/local/lib/python3.7/dist-packages (from traitlets>=4.2->ipython>=6.0.0->lightkurve) (0.2.0)\n",
            "Requirement already satisfied: parso<0.9.0,>=0.8.0 in /usr/local/lib/python3.7/dist-packages (from jedi>=0.16->ipython>=6.0.0->lightkurve) (0.8.1)\n",
            "Requirement already satisfied: MarkupSafe>=0.23 in /usr/local/lib/python3.7/dist-packages (from Jinja2>=2.7->bokeh>=1.0->lightkurve) (1.1.1)\n",
            "Requirement already satisfied: zipp>=0.5 in /usr/local/lib/python3.7/dist-packages (from importlib-metadata>=3.6->keyring>=4.0->astroquery>=0.3.10->lightkurve) (3.4.1)\n",
            "Collecting cryptography>=2.0\n",
            "\u001b[?25l  Downloading https://files.pythonhosted.org/packages/f8/1f/acde6ff69864c5e78b56488e3afd93c1ccc8c2651186e2a5f93d93f64859/cryptography-3.4.6-cp36-abi3-manylinux2014_x86_64.whl (3.2MB)\n",
            "\u001b[K     |████████████████████████████████| 3.2MB 41.2MB/s \n",
            "\u001b[?25hRequirement already satisfied: cffi>=1.12 in /usr/local/lib/python3.7/dist-packages (from cryptography>=2.0->SecretStorage>=3.2; sys_platform == \"linux\"->keyring>=4.0->astroquery>=0.3.10->lightkurve) (1.14.5)\n",
            "Requirement already satisfied: pycparser in /usr/local/lib/python3.7/dist-packages (from cffi>=1.12->cryptography>=2.0->SecretStorage>=3.2; sys_platform == \"linux\"->keyring>=4.0->astroquery>=0.3.10->lightkurve) (2.20)\n",
            "Building wheels for collected packages: astroquery, fbpca, oktopus\n",
            "  Building wheel for astroquery (setup.py) ... \u001b[?25l\u001b[?25hdone\n",
            "  Created wheel for astroquery: filename=astroquery-0.4.1-cp37-none-any.whl size=3831874 sha256=3920145014aac33ef37b5278d23944aca4c525f8c580c9caf23eb14adb1736db\n",
            "  Stored in directory: /root/.cache/pip/wheels/88/f8/b7/a254cd96e808f708bc0b7d755a8e095c56fbbe94099d7b464f\n",
            "  Building wheel for fbpca (setup.py) ... \u001b[?25l\u001b[?25hdone\n",
            "  Created wheel for fbpca: filename=fbpca-1.0-cp37-none-any.whl size=11376 sha256=d4e95ce0ae829cf22553125d09ab30e4e557dfcd9e5390a3591b754d0ed00f67\n",
            "  Stored in directory: /root/.cache/pip/wheels/53/a2/dd/9b66cf53dbc58cec1e613d216689e5fa946d3e7805c30f60dc\n",
            "  Building wheel for oktopus (setup.py) ... \u001b[?25l\u001b[?25hdone\n",
            "  Created wheel for oktopus: filename=oktopus-0.1.2-cp37-none-any.whl size=12780 sha256=176b805c340454857dbd02aef74a38f39ad281c6f60aa0684cee914fe4ccbf16\n",
            "  Stored in directory: /root/.cache/pip/wheels/9b/90/81/098fc66ee56166d63c9a8fc0a9672ae7b3423396a588ec952a\n",
            "Successfully built astroquery fbpca oktopus\n",
            "\u001b[31mERROR: jupyter-console 5.2.0 has requirement prompt-toolkit<2.0.0,>=1.0.0, but you'll have prompt-toolkit 3.0.17 which is incompatible.\u001b[0m\n",
            "\u001b[31mERROR: google-colab 1.0.0 has requirement ipython~=5.5.0, but you'll have ipython 7.21.0 which is incompatible.\u001b[0m\n",
            "\u001b[31mERROR: google-colab 1.0.0 has requirement requests~=2.23.0, but you'll have requests 2.25.1 which is incompatible.\u001b[0m\n",
            "\u001b[31mERROR: datascience 0.10.6 has requirement folium==0.2.1, but you'll have folium 0.8.3 which is incompatible.\u001b[0m\n",
            "Installing collected packages: requests, cryptography, jeepney, SecretStorage, keyring, astroquery, memoization, fbpca, oktopus, uncertainties, threadpoolctl, scikit-learn, prompt-toolkit, ipython, lightkurve\n",
            "  Found existing installation: requests 2.23.0\n",
            "    Uninstalling requests-2.23.0:\n",
            "      Successfully uninstalled requests-2.23.0\n",
            "  Found existing installation: scikit-learn 0.22.2.post1\n",
            "    Uninstalling scikit-learn-0.22.2.post1:\n",
            "      Successfully uninstalled scikit-learn-0.22.2.post1\n",
            "  Found existing installation: prompt-toolkit 1.0.18\n",
            "    Uninstalling prompt-toolkit-1.0.18:\n",
            "      Successfully uninstalled prompt-toolkit-1.0.18\n",
            "  Found existing installation: ipython 5.5.0\n",
            "    Uninstalling ipython-5.5.0:\n",
            "      Successfully uninstalled ipython-5.5.0\n",
            "Successfully installed SecretStorage-3.3.1 astroquery-0.4.1 cryptography-3.4.6 fbpca-1.0 ipython-7.21.0 jeepney-0.6.0 keyring-23.0.0 lightkurve-2.0.5 memoization-0.3.2 oktopus-0.1.2 prompt-toolkit-3.0.17 requests-2.25.1 scikit-learn-0.24.1 threadpoolctl-2.1.0 uncertainties-3.1.5\n"
          ],
          "name": "stdout"
        },
        {
          "output_type": "display_data",
          "data": {
            "application/vnd.colab-display-data+json": {
              "pip_warning": {
                "packages": [
                  "IPython",
                  "prompt_toolkit"
                ]
              }
            }
          },
          "metadata": {
            "tags": []
          }
        },
        {
          "output_type": "stream",
          "text": [
            "Requirement already satisfied: astroquery in /usr/local/lib/python3.7/dist-packages (0.4.1)\n",
            "Requirement already satisfied: beautifulsoup4>=4.3.2 in /usr/local/lib/python3.7/dist-packages (from astroquery) (4.6.3)\n",
            "Requirement already satisfied: six in /usr/local/lib/python3.7/dist-packages (from astroquery) (1.15.0)\n",
            "Requirement already satisfied: html5lib>=0.999 in /usr/local/lib/python3.7/dist-packages (from astroquery) (1.0.1)\n",
            "Requirement already satisfied: numpy in /usr/local/lib/python3.7/dist-packages (from astroquery) (1.19.5)\n",
            "Requirement already satisfied: requests>=2.4.3 in /usr/local/lib/python3.7/dist-packages (from astroquery) (2.25.1)\n",
            "Requirement already satisfied: keyring>=4.0 in /usr/local/lib/python3.7/dist-packages (from astroquery) (23.0.0)\n",
            "Requirement already satisfied: astropy>=3.1 in /usr/local/lib/python3.7/dist-packages (from astroquery) (4.2)\n",
            "Requirement already satisfied: webencodings in /usr/local/lib/python3.7/dist-packages (from html5lib>=0.999->astroquery) (0.5.1)\n",
            "Requirement already satisfied: certifi>=2017.4.17 in /usr/local/lib/python3.7/dist-packages (from requests>=2.4.3->astroquery) (2020.12.5)\n",
            "Requirement already satisfied: idna<3,>=2.5 in /usr/local/lib/python3.7/dist-packages (from requests>=2.4.3->astroquery) (2.10)\n",
            "Requirement already satisfied: chardet<5,>=3.0.2 in /usr/local/lib/python3.7/dist-packages (from requests>=2.4.3->astroquery) (3.0.4)\n",
            "Requirement already satisfied: urllib3<1.27,>=1.21.1 in /usr/local/lib/python3.7/dist-packages (from requests>=2.4.3->astroquery) (1.24.3)\n",
            "Requirement already satisfied: SecretStorage>=3.2; sys_platform == \"linux\" in /usr/local/lib/python3.7/dist-packages (from keyring>=4.0->astroquery) (3.3.1)\n",
            "Requirement already satisfied: importlib-metadata>=3.6 in /usr/local/lib/python3.7/dist-packages (from keyring>=4.0->astroquery) (3.7.0)\n",
            "Requirement already satisfied: jeepney>=0.4.2; sys_platform == \"linux\" in /usr/local/lib/python3.7/dist-packages (from keyring>=4.0->astroquery) (0.6.0)\n",
            "Requirement already satisfied: pyerfa in /usr/local/lib/python3.7/dist-packages (from astropy>=3.1->astroquery) (1.7.2)\n",
            "Requirement already satisfied: cryptography>=2.0 in /usr/local/lib/python3.7/dist-packages (from SecretStorage>=3.2; sys_platform == \"linux\"->keyring>=4.0->astroquery) (3.4.6)\n",
            "Requirement already satisfied: zipp>=0.5 in /usr/local/lib/python3.7/dist-packages (from importlib-metadata>=3.6->keyring>=4.0->astroquery) (3.4.1)\n",
            "Requirement already satisfied: typing-extensions>=3.6.4; python_version < \"3.8\" in /usr/local/lib/python3.7/dist-packages (from importlib-metadata>=3.6->keyring>=4.0->astroquery) (3.7.4.3)\n",
            "Requirement already satisfied: cffi>=1.12 in /usr/local/lib/python3.7/dist-packages (from cryptography>=2.0->SecretStorage>=3.2; sys_platform == \"linux\"->keyring>=4.0->astroquery) (1.14.5)\n",
            "Requirement already satisfied: pycparser in /usr/local/lib/python3.7/dist-packages (from cffi>=1.12->cryptography>=2.0->SecretStorage>=3.2; sys_platform == \"linux\"->keyring>=4.0->astroquery) (2.20)\n",
            "Requirement already satisfied: matplotlib in /usr/local/lib/python3.7/dist-packages (3.2.2)\n",
            "Requirement already satisfied: kiwisolver>=1.0.1 in /usr/local/lib/python3.7/dist-packages (from matplotlib) (1.3.1)\n",
            "Requirement already satisfied: pyparsing!=2.0.4,!=2.1.2,!=2.1.6,>=2.0.1 in /usr/local/lib/python3.7/dist-packages (from matplotlib) (2.4.7)\n",
            "Requirement already satisfied: python-dateutil>=2.1 in /usr/local/lib/python3.7/dist-packages (from matplotlib) (2.8.1)\n",
            "Requirement already satisfied: numpy>=1.11 in /usr/local/lib/python3.7/dist-packages (from matplotlib) (1.19.5)\n",
            "Requirement already satisfied: cycler>=0.10 in /usr/local/lib/python3.7/dist-packages (from matplotlib) (0.10.0)\n",
            "Requirement already satisfied: six>=1.5 in /usr/local/lib/python3.7/dist-packages (from python-dateutil>=2.1->matplotlib) (1.15.0)\n",
            "Requirement already satisfied: numpy in /usr/local/lib/python3.7/dist-packages (1.19.5)\n",
            "Requirement already satisfied: scipy in /usr/local/lib/python3.7/dist-packages (1.4.1)\n",
            "Requirement already satisfied: numpy>=1.13.3 in /usr/local/lib/python3.7/dist-packages (from scipy) (1.19.5)\n",
            "Requirement already satisfied: pandas in /usr/local/lib/python3.7/dist-packages (1.1.5)\n",
            "Requirement already satisfied: pytz>=2017.2 in /usr/local/lib/python3.7/dist-packages (from pandas) (2018.9)\n",
            "Requirement already satisfied: python-dateutil>=2.7.3 in /usr/local/lib/python3.7/dist-packages (from pandas) (2.8.1)\n",
            "Requirement already satisfied: numpy>=1.15.4 in /usr/local/lib/python3.7/dist-packages (from pandas) (1.19.5)\n",
            "Requirement already satisfied: six>=1.5 in /usr/local/lib/python3.7/dist-packages (from python-dateutil>=2.7.3->pandas) (1.15.0)\n",
            "Requirement already satisfied: tensorflow in /usr/local/lib/python3.7/dist-packages (2.4.1)\n",
            "Requirement already satisfied: astunparse~=1.6.3 in /usr/local/lib/python3.7/dist-packages (from tensorflow) (1.6.3)\n",
            "Requirement already satisfied: typing-extensions~=3.7.4 in /usr/local/lib/python3.7/dist-packages (from tensorflow) (3.7.4.3)\n",
            "Requirement already satisfied: opt-einsum~=3.3.0 in /usr/local/lib/python3.7/dist-packages (from tensorflow) (3.3.0)\n",
            "Requirement already satisfied: numpy~=1.19.2 in /usr/local/lib/python3.7/dist-packages (from tensorflow) (1.19.5)\n",
            "Requirement already satisfied: google-pasta~=0.2 in /usr/local/lib/python3.7/dist-packages (from tensorflow) (0.2.0)\n",
            "Requirement already satisfied: wheel~=0.35 in /usr/local/lib/python3.7/dist-packages (from tensorflow) (0.36.2)\n",
            "Requirement already satisfied: wrapt~=1.12.1 in /usr/local/lib/python3.7/dist-packages (from tensorflow) (1.12.1)\n",
            "Requirement already satisfied: keras-preprocessing~=1.1.2 in /usr/local/lib/python3.7/dist-packages (from tensorflow) (1.1.2)\n",
            "Requirement already satisfied: gast==0.3.3 in /usr/local/lib/python3.7/dist-packages (from tensorflow) (0.3.3)\n",
            "Requirement already satisfied: protobuf>=3.9.2 in /usr/local/lib/python3.7/dist-packages (from tensorflow) (3.12.4)\n",
            "Requirement already satisfied: termcolor~=1.1.0 in /usr/local/lib/python3.7/dist-packages (from tensorflow) (1.1.0)\n",
            "Requirement already satisfied: grpcio~=1.32.0 in /usr/local/lib/python3.7/dist-packages (from tensorflow) (1.32.0)\n",
            "Requirement already satisfied: tensorflow-estimator<2.5.0,>=2.4.0 in /usr/local/lib/python3.7/dist-packages (from tensorflow) (2.4.0)\n",
            "Requirement already satisfied: flatbuffers~=1.12.0 in /usr/local/lib/python3.7/dist-packages (from tensorflow) (1.12)\n",
            "Requirement already satisfied: h5py~=2.10.0 in /usr/local/lib/python3.7/dist-packages (from tensorflow) (2.10.0)\n",
            "Requirement already satisfied: tensorboard~=2.4 in /usr/local/lib/python3.7/dist-packages (from tensorflow) (2.4.1)\n",
            "Requirement already satisfied: six~=1.15.0 in /usr/local/lib/python3.7/dist-packages (from tensorflow) (1.15.0)\n",
            "Requirement already satisfied: absl-py~=0.10 in /usr/local/lib/python3.7/dist-packages (from tensorflow) (0.10.0)\n",
            "Requirement already satisfied: setuptools in /usr/local/lib/python3.7/dist-packages (from protobuf>=3.9.2->tensorflow) (54.0.0)\n",
            "Requirement already satisfied: markdown>=2.6.8 in /usr/local/lib/python3.7/dist-packages (from tensorboard~=2.4->tensorflow) (3.3.4)\n",
            "Requirement already satisfied: google-auth-oauthlib<0.5,>=0.4.1 in /usr/local/lib/python3.7/dist-packages (from tensorboard~=2.4->tensorflow) (0.4.3)\n",
            "Requirement already satisfied: tensorboard-plugin-wit>=1.6.0 in /usr/local/lib/python3.7/dist-packages (from tensorboard~=2.4->tensorflow) (1.8.0)\n",
            "Requirement already satisfied: google-auth<2,>=1.6.3 in /usr/local/lib/python3.7/dist-packages (from tensorboard~=2.4->tensorflow) (1.27.1)\n",
            "Requirement already satisfied: requests<3,>=2.21.0 in /usr/local/lib/python3.7/dist-packages (from tensorboard~=2.4->tensorflow) (2.25.1)\n",
            "Requirement already satisfied: werkzeug>=0.11.15 in /usr/local/lib/python3.7/dist-packages (from tensorboard~=2.4->tensorflow) (1.0.1)\n",
            "Requirement already satisfied: importlib-metadata; python_version < \"3.8\" in /usr/local/lib/python3.7/dist-packages (from markdown>=2.6.8->tensorboard~=2.4->tensorflow) (3.7.0)\n",
            "Requirement already satisfied: requests-oauthlib>=0.7.0 in /usr/local/lib/python3.7/dist-packages (from google-auth-oauthlib<0.5,>=0.4.1->tensorboard~=2.4->tensorflow) (1.3.0)\n",
            "Requirement already satisfied: rsa<5,>=3.1.4; python_version >= \"3.6\" in /usr/local/lib/python3.7/dist-packages (from google-auth<2,>=1.6.3->tensorboard~=2.4->tensorflow) (4.7.2)\n",
            "Requirement already satisfied: pyasn1-modules>=0.2.1 in /usr/local/lib/python3.7/dist-packages (from google-auth<2,>=1.6.3->tensorboard~=2.4->tensorflow) (0.2.8)\n",
            "Requirement already satisfied: cachetools<5.0,>=2.0.0 in /usr/local/lib/python3.7/dist-packages (from google-auth<2,>=1.6.3->tensorboard~=2.4->tensorflow) (4.2.1)\n",
            "Requirement already satisfied: idna<3,>=2.5 in /usr/local/lib/python3.7/dist-packages (from requests<3,>=2.21.0->tensorboard~=2.4->tensorflow) (2.10)\n",
            "Requirement already satisfied: chardet<5,>=3.0.2 in /usr/local/lib/python3.7/dist-packages (from requests<3,>=2.21.0->tensorboard~=2.4->tensorflow) (3.0.4)\n",
            "Requirement already satisfied: certifi>=2017.4.17 in /usr/local/lib/python3.7/dist-packages (from requests<3,>=2.21.0->tensorboard~=2.4->tensorflow) (2020.12.5)\n",
            "Requirement already satisfied: urllib3<1.27,>=1.21.1 in /usr/local/lib/python3.7/dist-packages (from requests<3,>=2.21.0->tensorboard~=2.4->tensorflow) (1.24.3)\n",
            "Requirement already satisfied: zipp>=0.5 in /usr/local/lib/python3.7/dist-packages (from importlib-metadata; python_version < \"3.8\"->markdown>=2.6.8->tensorboard~=2.4->tensorflow) (3.4.1)\n",
            "Requirement already satisfied: oauthlib>=3.0.0 in /usr/local/lib/python3.7/dist-packages (from requests-oauthlib>=0.7.0->google-auth-oauthlib<0.5,>=0.4.1->tensorboard~=2.4->tensorflow) (3.1.0)\n",
            "Requirement already satisfied: pyasn1>=0.1.3 in /usr/local/lib/python3.7/dist-packages (from rsa<5,>=3.1.4; python_version >= \"3.6\"->google-auth<2,>=1.6.3->tensorboard~=2.4->tensorflow) (0.4.8)\n",
            "Requirement already satisfied: astropy in /usr/local/lib/python3.7/dist-packages (4.2)\n",
            "Requirement already satisfied: pyerfa in /usr/local/lib/python3.7/dist-packages (from astropy) (1.7.2)\n",
            "Requirement already satisfied: numpy>=1.17 in /usr/local/lib/python3.7/dist-packages (from astropy) (1.19.5)\n",
            "Requirement already satisfied: statsmodels in /usr/local/lib/python3.7/dist-packages (0.10.2)\n",
            "Requirement already satisfied: scipy>=0.18 in /usr/local/lib/python3.7/dist-packages (from statsmodels) (1.4.1)\n",
            "Requirement already satisfied: patsy>=0.4.0 in /usr/local/lib/python3.7/dist-packages (from statsmodels) (0.5.1)\n",
            "Requirement already satisfied: numpy>=1.11 in /usr/local/lib/python3.7/dist-packages (from statsmodels) (1.19.5)\n",
            "Requirement already satisfied: pandas>=0.19 in /usr/local/lib/python3.7/dist-packages (from statsmodels) (1.1.5)\n",
            "Requirement already satisfied: six in /usr/local/lib/python3.7/dist-packages (from patsy>=0.4.0->statsmodels) (1.15.0)\n",
            "Requirement already satisfied: pytz>=2017.2 in /usr/local/lib/python3.7/dist-packages (from pandas>=0.19->statsmodels) (2018.9)\n",
            "Requirement already satisfied: python-dateutil>=2.7.3 in /usr/local/lib/python3.7/dist-packages (from pandas>=0.19->statsmodels) (2.8.1)\n"
          ],
          "name": "stdout"
        }
      ]
    },
    {
      "cell_type": "code",
      "metadata": {
        "id": "Oe9YHGNpr_NV"
      },
      "source": [
        "import lightkurve as lk\n",
        "from astropy.io import fits\n",
        "from matplotlib import pyplot as plt\n",
        "import numpy as np\n",
        "from sklearn.model_selection import train_test_split\n",
        "from sklearn.linear_model import LinearRegression\n",
        "from sklearn.metrics import r2_score, mean_squared_error, mean_absolute_error\n",
        "import sklearn\n",
        "import math\n",
        "import scipy\n",
        "import pandas as pd \n",
        "from scipy import interpolate\n",
        "#tf\n",
        "from __future__ import absolute_import, division, print_function, unicode_literals\n",
        "import tensorflow as tf\n",
        "from tensorflow import keras\n",
        "from tensorflow.keras import datasets, layers, models\n",
        "#sm\n",
        "import statsmodels.api as sm"
      ],
      "execution_count": null,
      "outputs": []
    },
    {
      "cell_type": "markdown",
      "metadata": {
        "id": "DVGjokUlsHAR"
      },
      "source": [
        "# ML Model"
      ]
    },
    {
      "cell_type": "markdown",
      "metadata": {
        "id": "QxQoSvIgsMt3"
      },
      "source": [
        "## Cycle Configs"
      ]
    },
    {
      "cell_type": "code",
      "metadata": {
        "id": "XWra6TU8sEqV"
      },
      "source": [
        "#Cycles\n",
        "    #21\n",
        "        #cycle_21 = []\n",
        "        \n",
        "        #Start 1 March 1976\n",
        "        #End 1 September 1986\n",
        "        \n",
        "    #22\n",
        "        #cycle_22 = [2446674.5,2450296.5]\n",
        "        \n",
        "        #Start: 1 September 1986 2446674.5\n",
        "        #End: 1 August 1996 2450296.5\n",
        "        \n",
        "    #23\n",
        "cycle_23 = [2450296.5,2454801.5]\n",
        "        \n",
        "        #Start: 1 August 1996 2450296.5\n",
        "        #End: 1 December 2008 2454801.5\n",
        "        \n",
        "    #24\n",
        "cycle_24 = [2454801.5,2458940.5]\n",
        "        \n",
        "        #Start: 1 December 2008 2454801.5\n",
        "        #End: 1 May 2020 2458970.5\n",
        "        #NOTE: Due to dataset limitation, only analyzed up to 2458940.5\n",
        "\n",
        "cycle_2324 = [2450296.5,2458940.5]\n",
        "        "
      ],
      "execution_count": null,
      "outputs": []
    },
    {
      "cell_type": "markdown",
      "metadata": {
        "id": "k3m1DupVtFpy"
      },
      "source": [
        "## BiSON Surface Velocity - Import X"
      ]
    },
    {
      "cell_type": "code",
      "metadata": {
        "colab": {
          "base_uri": "https://localhost:8080/"
        },
        "id": "cxjYC6eCtA3f",
        "outputId": "3b958518-4e76-426b-c6ae-5eda8da42b6f"
      },
      "source": [
        "#hdul = fits.open('data/allsites-alldata-waverage-fill.fits')\n",
        "hdul = fits.open('/content/drive/MyDrive/Korea Research - Yihong Song and Rohit Prasanna/DSHS & AOS Physics Research Collaboration 2020/Project/Jr:Sr Project/Data/allsites-alldata-waverage-fill.fits')\n",
        "\n",
        "hdul.info()\n",
        "\n",
        "tsdata = hdul[0].data\n",
        "#         SIMPLE  =                    T / Written by IDL:  Tue Jan 19 11:22:20 2016      \n",
        "#         BITPIX  =                  -64 /Real*8 (double precision)                       \n",
        "#         NAXIS   =                    2 /                                                \n",
        "#         NAXIS1  =                    2 /                                                \n",
        "#         NAXIS2  =             24455519 /                                                \n",
        "DSTART =        2442778.50000 #Data start (Julian)      1/1/1976 0:00:00                        \n",
        "DEND   =        2458940.50000 #Data end (Julian)        4/1/2020 0:00:00                       \n",
        "#         STATIONS= 'na ca cb su iz la lb mo' /Stations Used                              \n",
        "#         METHOD  = 'waverage'           /Overlap Method                                  \n",
        "#         CADENCE = '40      '           /Timeseries Cadence                              \n",
        "#         N-THRES =                   80 /Noise Rejection Threshold                       \n",
        "#         GAPFILL =                    1 /GapFill                                         \n",
        "#         FILL    =             0.638866 /Duty Cycle   \n",
        "#\n",
        "#         ~2160 datapoints per day"
      ],
      "execution_count": null,
      "outputs": [
        {
          "output_type": "stream",
          "text": [
            "Filename: /content/drive/MyDrive/Korea Research - Yihong Song and Rohit Prasanna/DSHS & AOS Physics Research Collaboration 2020/Project/Jr:Sr Project/Data/allsites-alldata-waverage-fill.fits\n",
            "No.    Name      Ver    Type      Cards   Dimensions   Format\n",
            "  0  PRIMARY       1 PrimaryHDU      15   (2, 34909918)   float64   \n"
          ],
          "name": "stdout"
        }
      ]
    },
    {
      "cell_type": "code",
      "metadata": {
        "id": "GSxgMWHPTQgC"
      },
      "source": [
        "NOISE = False\n",
        "\n",
        "if NOISE:\n",
        "  noise = np.random.normal(0, 0.2*np.max(tsdata.T[1]), tsdata.T[1].shape)\n",
        "  tsdata = np.array([tsdata.T[0],np.add(tsdata.T[1],noise).T]).T"
      ],
      "execution_count": null,
      "outputs": []
    },
    {
      "cell_type": "code",
      "metadata": {
        "colab": {
          "base_uri": "https://localhost:8080/"
        },
        "id": "Z0Dr-zxetLVx",
        "outputId": "b3bc8a3a-399e-43df-c0ee-5e1d9f8e15b0"
      },
      "source": [
        "def getSV(cycle):\n",
        "    #Subtract starting date\n",
        "    cycle = np.subtract(cycle,DSTART)\n",
        "    \n",
        "    #multiply by 2160 (2160 datapoints per day)\n",
        "    cycle = np.multiply(cycle,2160)\n",
        "    \n",
        "    return tsdata[int(cycle[0]):int(cycle[1])].T[1]\n",
        "\n",
        "def getSV_index(cycle):\n",
        "    #Subtract starting date\n",
        "    cycle = np.subtract(cycle,DSTART)\n",
        "    \n",
        "    #multiply by 2160 (2160 datapoints per day)\n",
        "    cycle = np.multiply(cycle,2160)\n",
        "    \n",
        "    return tsdata[int(cycle[0]):int(cycle[1])].T[0]\n",
        "\n",
        "#test\n",
        "print(getSV(cycle_23))\n",
        "print(getSV_index(cycle_23))"
      ],
      "execution_count": null,
      "outputs": [
        {
          "output_type": "stream",
          "text": [
            "[ 0.52007627  0.87248993  0.11934945 ...  0.25079036 -1.0275805\n",
            " -0.95429337]\n",
            "[2450296.50033958 2450296.50080254 2450296.50126551 ... 2454801.49915418\n",
            " 2454801.49961714 2454801.50008011]\n"
          ],
          "name": "stdout"
        }
      ]
    },
    {
      "cell_type": "markdown",
      "metadata": {
        "id": "ibWpBF6Wtcm0"
      },
      "source": [
        "## Sunspot Number - Import Y"
      ]
    },
    {
      "cell_type": "code",
      "metadata": {
        "id": "loH2j9fGti1M"
      },
      "source": [
        "#sunspot_Day = np.genfromtxt('data/SN_d_tot_V2.0.csv',delimiter=';')\n",
        "sunspot_Day = np.genfromtxt('/content/drive/MyDrive/Korea Research - Yihong Song and Rohit Prasanna/DSHS & AOS Physics Research Collaboration 2020/Project/Jr:Sr Project/Data/SN_d_tot_V2.0.csv',delimiter=';')\n",
        "SNSTART_Day = 2385070.5\n",
        "SNEND_day = 2459000.5\n",
        "\n",
        "#sunspot_Month = np.genfromtxt('data/SN_ms_tot_V2.0.csv',delimiter=';')\n",
        "sunspot_Month = np.genfromtxt('/content/drive/MyDrive/Korea Research - Yihong Song and Rohit Prasanna/DSHS & AOS Physics Research Collaboration 2020/Project/Jr:Sr Project/Data/SN_ms_tot_V2.0.csv',delimiter=';')\n",
        "sunspot_Month = sunspot_Month[828:]"
      ],
      "execution_count": null,
      "outputs": []
    },
    {
      "cell_type": "code",
      "metadata": {
        "colab": {
          "base_uri": "https://localhost:8080/"
        },
        "id": "HuJF_F7GuNrX",
        "outputId": "42936820-f37b-4c96-992b-f272c527684c"
      },
      "source": [
        "def getSN_Day(cycle):\n",
        "    if cycle[1] >= SNEND_day:\n",
        "        cycle[1] = SNEND_day\n",
        "    cycle = np.subtract(cycle, SNSTART_Day)\n",
        "    sn = sunspot_Day.T[4][int(cycle[0]):int(cycle[1])]\n",
        "    \n",
        "    npout = [[0,0]]\n",
        "    for i in range(len(sn)):\n",
        "        npout = np.append(npout,[[i+SNSTART_Day+cycle[0],sn[i]]],0)\n",
        "    npout = npout[1:]\n",
        "    return npout\n",
        "\n",
        "def getSNAverage(cycle,length):\n",
        "    \n",
        "    npout = [[0,0]]\n",
        "    total = 0\n",
        "    valid_count = 0\n",
        "    start = cycle[0][0]\n",
        "    for i in range(len(cycle)):\n",
        "        if cycle[i][1] >= 0:\n",
        "            total += cycle[i][1]\n",
        "            valid_count += 1\n",
        "        if (i+1) % length < 1 or i == len(cycle)-1:\n",
        "            if valid_count == 0:\n",
        "              npout = np.append(npout,[[start,np.average(cycle)]],0)\n",
        "            else:\n",
        "              npout = np.append(npout,[[start,total/valid_count]],0)\n",
        "            total = 0\n",
        "            valid_count = 0\n",
        "            if i == len(cycle)-1:\n",
        "                break\n",
        "            start = cycle[i+1][0]\n",
        "    npout = npout[1:]\n",
        "    return npout\n",
        "\n",
        "#Test\n",
        "getSN_Day(cycle_23)\n",
        "getSNAverage(getSN_Day(cycle_23),365)"
      ],
      "execution_count": null,
      "outputs": [
        {
          "output_type": "execute_result",
          "data": {
            "text/plain": [
              "array([[2.45029650e+06, 1.45643836e+01],\n",
              "       [2.45066150e+06, 6.19232877e+01],\n",
              "       [2.45102650e+06, 1.21704110e+02],\n",
              "       [2.45139150e+06, 1.69175342e+02],\n",
              "       [2.45175650e+06, 1.53487671e+02],\n",
              "       [2.45212150e+06, 1.78747945e+02],\n",
              "       [2.45248650e+06, 1.29030137e+02],\n",
              "       [2.45285150e+06, 7.85397260e+01],\n",
              "       [2.45321650e+06, 5.33808219e+01],\n",
              "       [2.45358150e+06, 3.17945205e+01],\n",
              "       [2.45394650e+06, 1.95780822e+01],\n",
              "       [2.45431150e+06, 6.09041096e+00],\n",
              "       [2.45467650e+06, 2.98400000e+00]])"
            ]
          },
          "metadata": {
            "tags": []
          },
          "execution_count": 9
        }
      ]
    },
    {
      "cell_type": "markdown",
      "metadata": {
        "id": "qTogHSG6CCzr"
      },
      "source": [
        "## LOI Luminosity - Import Pred_Y"
      ]
    },
    {
      "cell_type": "code",
      "metadata": {
        "colab": {
          "base_uri": "https://localhost:8080/"
        },
        "id": "kGEexqpOCLVe",
        "outputId": "af4092de-2d4e-4853-d5ba-2334abfff4b0"
      },
      "source": [
        "#hdul = fits.open('data/allsites-alldata-waverage-fill.fits')\n",
        "hdul = fits.open('/content/drive/MyDrive/Korea Research - Yihong Song and Rohit Prasanna/DSHS & AOS Physics Research Collaboration 2020/Project/Jr:Sr Project/Data/ts_loi.fits')\n",
        "\n",
        "hdul.info()\n",
        "\n",
        "loidata = hdul[0].data\n",
        "\n",
        "# variations at at most 2000 ppm\n",
        "# cadence: 60s\n",
        "LOI_DSTART =        2450174.50000 #Data start (Julian)      1 April 1996 0:00:00                        \n",
        "LOI_DEND   =        2458589.50000 #Data end (Julian)        15 April 2019 0:00:00  \n",
        "\n",
        "#    #23\n",
        "# cycle_23 = [2450296.5,2454801.5]\n",
        "        \n",
        "#         #Start: 1 August 1996 2450296.5\n",
        "#         #End: 1 December 2008 2454801.5\n",
        "        \n",
        "#     #24\n",
        "# cycle_24 = [2454801.5,2458940.5]\n",
        "        \n",
        "#         #Start: 1 December 2008 2454801.5\n",
        "#         #End: 1 May 2020 2458970.5\n"
      ],
      "execution_count": null,
      "outputs": [
        {
          "output_type": "stream",
          "text": [
            "Filename: /content/drive/MyDrive/Korea Research - Yihong Song and Rohit Prasanna/DSHS & AOS Physics Research Collaboration 2020/Project/Jr:Sr Project/Data/ts_loi.fits\n",
            "No.    Name      Ver    Type      Cards   Dimensions   Format\n",
            "  0  PRIMARY       1 PrimaryHDU       8   (12117600,)   float64   \n"
          ],
          "name": "stdout"
        }
      ]
    },
    {
      "cell_type": "code",
      "metadata": {
        "colab": {
          "base_uri": "https://localhost:8080/"
        },
        "id": "kRQ9lUiKCS0P",
        "outputId": "995782dc-205e-44e7-b364-5c80a517425d"
      },
      "source": [
        "#Prepare LOI\n",
        "\n",
        "if NOISE:\n",
        "  noise = np.random.normal(0, 0.2*np.max(loidata), loidata.shape)\n",
        "  loidata = np.add(loidata,noise)\n",
        "\n",
        "loidatax = np.arange(LOI_DSTART,LOI_DEND,1/1440)\n",
        "loifull = np.append([loidatax],[loidata],0).T\n",
        "print(loifull.shape)"
      ],
      "execution_count": null,
      "outputs": [
        {
          "output_type": "stream",
          "text": [
            "(12117600, 2)\n"
          ],
          "name": "stdout"
        }
      ]
    },
    {
      "cell_type": "code",
      "metadata": {
        "colab": {
          "base_uri": "https://localhost:8080/"
        },
        "id": "-9zTYxeDCbYg",
        "outputId": "05ffdaa9-e944-49ef-8b70-ea362294c7e2"
      },
      "source": [
        "def getLOI(cycle):\n",
        "    #Subtract starting date\n",
        "    cycle = np.subtract(cycle,LOI_DSTART)\n",
        "    \n",
        "    #multiply by 1440 (1440 datapoints per day)\n",
        "    cycle = np.multiply(cycle,1440)\n",
        "    \n",
        "    return loifull[int(cycle[0]):int(cycle[1])]\n",
        "\n",
        "print(getLOI([2450174.5,2458590.5]).shape)"
      ],
      "execution_count": null,
      "outputs": [
        {
          "output_type": "stream",
          "text": [
            "(12117600, 2)\n"
          ],
          "name": "stdout"
        }
      ]
    },
    {
      "cell_type": "markdown",
      "metadata": {
        "id": "PP5GA4qKvi9u"
      },
      "source": [
        "## Helper Functions"
      ]
    },
    {
      "cell_type": "code",
      "metadata": {
        "id": "QVsGWCJsvyAF"
      },
      "source": [
        "#Interpolation\n",
        "def interpolate(data, smoothness):\n",
        "    from scipy import interpolate\n",
        "    x_new = np.linspace((data[0][0])-1,int(data[-1][0])+1,smoothness)\n",
        "    a_BSpline = interpolate.make_interp_spline(data.T[0],data.T[1])\n",
        "    y_new = a_BSpline(x_new)\n",
        "    return x_new,y_new"
      ],
      "execution_count": null,
      "outputs": []
    },
    {
      "cell_type": "code",
      "metadata": {
        "id": "iHp-zY52JK0Q"
      },
      "source": [
        "def normalize1D(data):\n",
        "    return np.divide(np.nan_to_num(data,np.nanmean(data)),np.nanmax(data))"
      ],
      "execution_count": null,
      "outputs": []
    },
    {
      "cell_type": "code",
      "metadata": {
        "id": "jZiUtYeIKP5k",
        "colab": {
          "base_uri": "https://localhost:8080/"
        },
        "outputId": "3bac25d8-0900-49ff-e7a8-35ab1f1dcea2"
      },
      "source": [
        "def normalize2D(data,feature = None):\n",
        "    threshold = 0.4\n",
        "    data = np.asarray(data).T\n",
        "    power = data[0:int(len(data)/2)].T\n",
        "    freq = data[int(len(data)/2):].T\n",
        "    data = power\n",
        "    for i in range(int(len(data))):\n",
        "        # Scale to 0-1\n",
        "        if np.isnan(data[i]).all():\n",
        "            data[i] = np.nan_to_num(data[i],np.nanmean(data[i-1]))\n",
        "        else:\n",
        "            data[i] = np.nan_to_num(data[i],np.nanmean(data[i-1] if i > 0 else 0))\n",
        "            maximum = float(np.nanmax(data[i]))\n",
        "            maximum = maximum if maximum not in [\"nan\",0] else 1\n",
        "            data[i] = np.divide(data[i],maximum)\n",
        "\n",
        "    # Remove < 0.4\n",
        "    # for i in range(int(len(data))):\n",
        "    #     for j in range(int(len(data[i]))):\n",
        "    #         if data[i][j] < threshold:\n",
        "    #           data[i][j] = 0\n",
        "\n",
        "    # Frequency Normalization\n",
        "    for i in range(int(len(freq))):\n",
        "        # Scale to 0-1\n",
        "        if np.isnan(freq[i]).all():\n",
        "            freq[i] = np.nan_to_num(freq[i],np.nanmean(freq[i-1]))\n",
        "        else:\n",
        "            freq[i] = np.nan_to_num(freq[i],np.nanmean(freq[i-1] if i > 0 else 0))\n",
        "            maximum = float(np.nanmax(freq[i]))\n",
        "            maximum = maximum if maximum not in [\"nan\",0] else 1\n",
        "            freq[i] = np.divide(freq[i],maximum)\n",
        "\n",
        "\n",
        "    value = 1 if feature == \"BiSON\" else 0\n",
        "    add = np.full((1,len(data)),value)\n",
        "    # return np.append(add,np.append(data.T,freq,0),0).T\n",
        "    return np.append(add,data.T,0).T\n",
        "\n",
        "print(normalize2D([[1.0,2,3,4,5,6,7,8,9,10],[2,3,4,5,6,7,8,9,10,11]],\"BiSON\"))"
      ],
      "execution_count": null,
      "outputs": [
        {
          "output_type": "stream",
          "text": [
            "[[1.         0.2        0.4        0.6        0.8        1.        ]\n",
            " [1.         0.33333333 0.5        0.66666667 0.83333333 1.        ]]\n"
          ],
          "name": "stdout"
        }
      ]
    },
    {
      "cell_type": "code",
      "metadata": {
        "id": "TKfYGF1Gfu89"
      },
      "source": [
        "def removeNans(data):\n",
        "  arr = data.T[1]\n",
        "  arr[arr == 0] = 'nan'\n",
        "  return [data.T[0],arr].T"
      ],
      "execution_count": null,
      "outputs": []
    },
    {
      "cell_type": "markdown",
      "metadata": {
        "id": "RdzzwEyWvELy"
      },
      "source": [
        "## Lightkurve Asteroseismology - Functions"
      ]
    },
    {
      "cell_type": "code",
      "metadata": {
        "colab": {
          "base_uri": "https://localhost:8080/"
        },
        "id": "Juc8dyxbuO_B",
        "outputId": "97715848-db91-4e81-b767-553fc783a2a5"
      },
      "source": [
        "def getPeriodogram(time,freq,numax=-1):\n",
        "    lc = lk.LightCurve(time=time.tolist(),flux=freq.tolist())\n",
        "    lc = lc.remove_nans()\n",
        "    if numax != -1:\n",
        "        pg = lc.to_periodogram(method='lombscargle', normalization='psd',minimum_frequency=numax-500, maximum_frequency=numax+500) #-600, +1000\n",
        "    else:\n",
        "        pg = lc.to_periodogram(method='lombscargle', normalization='psd',minimum_frequency=500, maximum_frequency=5000)\n",
        "    #ax = pg.plot()\n",
        "    return pg.flatten()\n",
        "\n",
        "pg = getPeriodogram(getSV_index(cycle_23)[110000:120000],getSV(cycle_23)[110000:120000],3105)\n",
        "print(pg.to_table())"
      ],
      "execution_count": null,
      "outputs": [
        {
          "output_type": "stream",
          "text": [
            "    frequency              period                 power        \n",
            "       uHz                1 / uHz                              \n",
            "------------------ ---------------------- ---------------------\n",
            "            2605.0 0.00038387715930902113    0.5183842828585827\n",
            "2607.5002499119582  0.0003835090715844667   0.06818543899408096\n",
            "2610.0004998239165  0.0003831416890791649    0.6750983499705479\n",
            "2612.5007497358747 0.00038277500976836105     4.443719639554906\n",
            " 2615.000999647833  0.0003824090316350441     3.829050619734312\n",
            " 2617.501249559791  0.0003820437526699095     8.709403792707228\n",
            "2620.0014994717494  0.0003816791708713229     16.14398284340772\n",
            "2622.5017493837076  0.0003813152842452828    2.9357315757093776\n",
            " 2625.001999295666  0.0003809520908053851    1.0190896447020263\n",
            " 2627.502249207624  0.0003805895885727862     1.875493760940966\n",
            "               ...                    ...                   ...\n",
            " 3580.097465663712 0.00027932200438420484     1.176656488453895\n",
            "  3582.59771557567  0.0002791270690684608    0.8847092292437155\n",
            "3585.0979654876282 0.00027893240564877696    0.6739722210825612\n",
            "3587.5982153995865  0.0002787380135566881    0.1848163258260714\n",
            "3590.0984653115447 0.00027854389222531286    0.8022217128352351\n",
            " 3592.598715223503 0.00027835004108934776    0.2790930526849903\n",
            " 3595.098965135461 0.00027815645958506195   0.11866200773206755\n",
            "3597.5992150474194  0.0002779631471502918    0.9168855143814063\n",
            "3600.0994649593777  0.0002777701032244351    0.4829967511482274\n",
            " 3602.599714871336 0.00027757732724844627 0.0012660833641079947\n",
            "Length = 400 rows\n"
          ],
          "name": "stdout"
        }
      ]
    },
    {
      "cell_type": "code",
      "metadata": {
        "colab": {
          "base_uri": "https://localhost:8080/"
        },
        "id": "dbhEO8JyyFX7",
        "outputId": "28e4652c-b067-4cad-c91a-2a79577c2ec7"
      },
      "source": [
        "def getPower(pg):\n",
        "    pg_data = pg.to_table()\n",
        "    data = np.array(pg_data['power']).T#.tolist()\n",
        "    return data\n",
        "\n",
        "ptest = getPower(getPeriodogram(getSV_index(cycle_23)[110000:120000],getSV(cycle_23)[110000:120000]))[0:5]\n",
        "print(ptest)"
      ],
      "execution_count": null,
      "outputs": [
        {
          "output_type": "stream",
          "text": [
            "[1.8647114  0.60279692 0.25367425 0.61840873 0.11310825]\n"
          ],
          "name": "stdout"
        }
      ]
    },
    {
      "cell_type": "code",
      "metadata": {
        "colab": {
          "base_uri": "https://localhost:8080/"
        },
        "id": "UmGy8zFj7j31",
        "outputId": "57320c48-33a2-4eb0-cfda-481bd6e8b331"
      },
      "source": [
        "def getModes(pg,deltanu):\n",
        "    pg_data = pg.to_table()\n",
        "    data = np.array(pg_data['power']).T#.tolist()\n",
        "    length = int(len(data)/15) #15\n",
        "    out = []\n",
        "    outindex = []\n",
        "    for i in range(0,int(len(data))-10,length):\n",
        "        highest = -100\n",
        "        highestindex = 0\n",
        "        for j in range(i,min(int(len(data)),i+length)):\n",
        "            if data[j] >= highest:\n",
        "                highest = data[j]\n",
        "                highestindex = j-i\n",
        "        outindex = np.append(outindex,highestindex)\n",
        "        out = np.append(out,highest)\n",
        "\n",
        "    return np.append(out,outindex)\n",
        "\n",
        "mtest = getModes(getPeriodogram(getSV_index(cycle_23)[110000:120000],getSV(cycle_23)[110000:120000],3105.0),135.231610746949)\n",
        "print(mtest,mtest.shape)\n",
        "        "
      ],
      "execution_count": null,
      "outputs": [
        {
          "output_type": "stream",
          "text": [
            "[16.14398284 28.9110643  42.96931075 79.67117142 25.97593252 41.13780699\n",
            " 13.82713721 13.20238083 91.0264496  16.81150796 22.77728573  7.93711392\n",
            " 23.87083736 22.94008291 17.98447853  6.          9.         12.\n",
            " 11.         10.         14.         15.         15.         17.\n",
            " 17.         15.         19.         22.         21.         21.        ] (30,)\n"
          ],
          "name": "stdout"
        }
      ]
    },
    {
      "cell_type": "code",
      "metadata": {
        "colab": {
          "base_uri": "https://localhost:8080/"
        },
        "id": "skiqRJwiyTQS",
        "outputId": "2518ead9-9a50-4247-8814-d632267bb115"
      },
      "source": [
        "def getNumax(pg):\n",
        "  snr = pg.flatten()\n",
        "  seis = snr.to_seismology()\n",
        "  numax = float(str(seis.estimate_numax())[:-6])\n",
        "  deltanu = float(str(seis.estimate_deltanu(numax=numax))[:-6])\n",
        "\n",
        "  return numax,deltanu\n",
        "\n",
        "nutest,deltanu = getNumax(getPeriodogram(getSV_index(cycle_23)[110000:120000],getSV(cycle_23)[110000:120000]))\n",
        "print(nutest,deltanu)"
      ],
      "execution_count": null,
      "outputs": [
        {
          "output_type": "stream",
          "text": [
            "3105.0 135.231610746949\n"
          ],
          "name": "stdout"
        }
      ]
    },
    {
      "cell_type": "code",
      "metadata": {
        "id": "ISIWlXg4vILA"
      },
      "source": [
        "def tsPower(time,freq,length,interval,BiSON=False):\n",
        "  if BiSON:\n",
        "      length = int(length * 2160)\n",
        "      interval = int(interval * 2160)\n",
        "  else:\n",
        "      length = int(length * 1440)\n",
        "      interval = int(interval * 1440)\n",
        "  \n",
        "  numax,deltanu = getNumax(getPeriodogram(time[:500000],freq[:500000]))\n",
        "\n",
        "  check = True\n",
        "  for start in range(0,len(time),interval):\n",
        "      if start + length >= len(time):\n",
        "          length = len(time) - start\n",
        "      if check:\n",
        "        check = False\n",
        "        npout1d = np.array([getModes(getPeriodogram(time[start:start+length],freq[start:start+length],numax),deltanu)])\n",
        "      else:\n",
        "        temp = np.array([getModes(getPeriodogram(time[start:start+length],freq[start:start+length],numax),deltanu)])\n",
        "        if temp.size == npout1d[-1].size:\n",
        "          npout1d = np.append(npout1d,temp,0)\n",
        "\n",
        "\n",
        "  return npout1d,numax"
      ],
      "execution_count": null,
      "outputs": []
    },
    {
      "cell_type": "code",
      "metadata": {
        "id": "2BMN0X1BYper"
      },
      "source": [
        "def toLightCurve(time,freq):\n",
        "  return lk.LightCurve(time=time,flux=freq)"
      ],
      "execution_count": null,
      "outputs": []
    },
    {
      "cell_type": "code",
      "metadata": {
        "id": "GZczSCZzgEba"
      },
      "source": [
        "def toData(lc):\n",
        "    lc_data = lc.to_table()\n",
        "    data = np.array(lc_data['flux'])\n",
        "    \n"
      ],
      "execution_count": null,
      "outputs": []
    },
    {
      "cell_type": "markdown",
      "metadata": {
        "id": "x1LYwyeEvkrf"
      },
      "source": [
        "## Model Preprocessing"
      ]
    },
    {
      "cell_type": "markdown",
      "metadata": {
        "id": "U4eOXkoW7XKZ"
      },
      "source": [
        "### BiSON Surface Velocity - Preprocess X"
      ]
    },
    {
      "cell_type": "code",
      "metadata": {
        "id": "eVKe_vlRvY2L"
      },
      "source": [
        "BiSON_ts_23,BiSON_numax_23= tsPower(getSV_index(cycle_23),getSV(cycle_23),90,30,True)"
      ],
      "execution_count": null,
      "outputs": []
    },
    {
      "cell_type": "code",
      "metadata": {
        "colab": {
          "base_uri": "https://localhost:8080/"
        },
        "id": "vLX6vNIk2Beb",
        "outputId": "5ce9cdea-e7f1-4ea3-c4e5-6841d28d8f9f"
      },
      "source": [
        "print(BiSON_numax_23,BiSON_ts_23.shape)\n",
        "print(BiSON_ts_23[:5])"
      ],
      "execution_count": null,
      "outputs": [
        {
          "output_type": "stream",
          "text": [
            "3005.0 (150, 30)\n",
            "[[115.27197433  76.24804261 218.81762513  88.18222376 129.31946428\n",
            "  181.54922494 147.02860713 144.11885917 148.548598   125.07438946\n",
            "  189.3807417   97.61721604  65.17035864  79.52131513  87.76847738\n",
            "  427.         448.         423.         393.         437.\n",
            "  409.         459.         408.         474.         497.\n",
            "  487.         505.         495.         471.         514.        ]\n",
            " [120.66220742 109.53475563 127.19569676  80.11389879 150.2618182\n",
            "  204.94065549 113.61672557  97.82269348 113.76414317 143.28014219\n",
            "  116.82270082  78.80519079  81.95511619  63.92859124  60.67534495\n",
            "  427.         453.         423.         461.         438.\n",
            "  405.         457.         486.         462.         424.\n",
            "  487.         514.         501.         471.         511.        ]\n",
            " [104.05341892  98.45097456 137.42725953  69.88116591 192.39534396\n",
            "  182.4948956  121.17380806  91.19191074 101.75213002  59.80012173\n",
            "  196.81588387  42.51882659  86.04682186  43.93645428  55.17343517\n",
            "  417.         452.         424.         462.         443.\n",
            "  405.         457.         484.         468.         500.\n",
            "  485.         443.         506.         471.         514.        ]\n",
            " [ 80.22170093  62.87854159  72.87952212  77.49593938  89.9198627\n",
            "   96.03385944 204.97969048  81.49958902 151.66826133  70.58403257\n",
            "  126.87468018  56.70349236 147.16841285  28.95887078  54.09593797\n",
            "  418.         451.         429.         457.         443.\n",
            "  405.         457.         484.         467.         435.\n",
            "  478.         442.         507.         478.           2.        ]\n",
            " [ 65.33096098  74.53372927  97.60052175  69.29379571  82.20049033\n",
            "   52.35862365 187.69294194  85.49070774 137.79029631  57.50493489\n",
            "  173.44852932  81.54446497  85.4970863   34.82771052  37.35878862\n",
            "  425.         380.         427.         462.         444.\n",
            "  407.         458.         422.         472.         436.\n",
            "  486.         451.         507.         462.          11.        ]]\n"
          ],
          "name": "stdout"
        }
      ]
    },
    {
      "cell_type": "code",
      "metadata": {
        "id": "mFoyeOmL6k1z"
      },
      "source": [
        "BiSON_ts_24,BiSON_numax_24 = tsPower(getSV_index(cycle_24),getSV(cycle_24),90,30,True)"
      ],
      "execution_count": null,
      "outputs": []
    },
    {
      "cell_type": "code",
      "metadata": {
        "colab": {
          "base_uri": "https://localhost:8080/"
        },
        "id": "12_hPsaQ7HAx",
        "outputId": "d5945ee0-a7f0-4651-d048-571b04a8b3e6"
      },
      "source": [
        "print(BiSON_numax_24,BiSON_ts_24.shape)\n",
        "print(BiSON_ts_24[:5])"
      ],
      "execution_count": null,
      "outputs": [
        {
          "output_type": "stream",
          "text": [
            "3025.0 (137, 30)\n",
            "[[ 84.86662088  51.03536712 113.60531887  81.43405157 128.10329102\n",
            "  118.28566566 134.75091985  91.60489569 221.00072168  52.79489883\n",
            "   53.34352287  52.51274613  72.01857869  49.56080134  62.42520382\n",
            "  269.         294.         271.         237.         285.\n",
            "  236.         297.         332.         313.         271.\n",
            "  321.         286.         345.         304.         361.        ]\n",
            " [ 77.91431246  62.99781227  97.54806691  73.75741947 166.39962977\n",
            "  113.07462735 146.32364098  99.18414796 139.34606057  82.26319154\n",
            "  132.98131872  97.33710556  43.56013535  36.00319535  34.11817082\n",
            "  267.         294.         276.         307.         287.\n",
            "  246.         297.         328.         313.         271.\n",
            "  326.         297.         340.         376.         357.        ]\n",
            " [ 37.48598009  66.01676526  75.80278167  71.69749719 130.69510933\n",
            "   92.61934843 161.51765926 142.496191    71.97323922 134.5011945\n",
            "  118.17716203  88.3217759   50.80259049  36.34092725  26.37661252\n",
            "  267.         223.         272.         307.         288.\n",
            "  246.         297.         330.         318.         278.\n",
            "  326.         297.         352.         375.         363.        ]\n",
            " [ 51.09905852  75.89024159  54.04037509 104.87045359 112.40578803\n",
            "  121.23413496 191.20974929 241.26607271 161.04418644 147.10829769\n",
            "  110.80525709  97.68971392  54.55753287  50.68510881  98.28805632\n",
            "  264.         222.         274.         307.         289.\n",
            "  317.         303.         330.         318.         279.\n",
            "  323.         361.         348.         296.         359.        ]\n",
            " [ 66.85556989  72.83883382  57.08526629  65.77580673 161.60277076\n",
            "  104.88548425 154.91106362 144.41993316 134.54932597 108.95875274\n",
            "  134.06027093  89.8754362   48.65910386  40.04691252  59.73906552\n",
            "  261.         221.         273.         236.         290.\n",
            "  316.         298.         330.         318.         343.\n",
            "  323.         355.         344.         313.         360.        ]]\n"
          ],
          "name": "stdout"
        }
      ]
    },
    {
      "cell_type": "code",
      "metadata": {
        "id": "sp23I4WT7qUj",
        "colab": {
          "base_uri": "https://localhost:8080/"
        },
        "outputId": "afc75000-4145-4e82-ada7-2481cd60c9b2"
      },
      "source": [
        "BiSON_ts_full,BiSON_numax_full = tsPower(getSV_index(cycle_2324),getSV(cycle_2324),90,30,True)"
      ],
      "execution_count": null,
      "outputs": [
        {
          "output_type": "stream",
          "text": [
            "/usr/local/lib/python3.7/dist-packages/astropy/units/quantity.py:477: RuntimeWarning: divide by zero encountered in true_divide\n",
            "  result = super().__array_ufunc__(function, method, *arrays, **kwargs)\n",
            "/usr/local/lib/python3.7/dist-packages/astropy/units/quantity.py:477: RuntimeWarning: invalid value encountered in multiply\n",
            "  result = super().__array_ufunc__(function, method, *arrays, **kwargs)\n"
          ],
          "name": "stderr"
        }
      ]
    },
    {
      "cell_type": "code",
      "metadata": {
        "colab": {
          "base_uri": "https://localhost:8080/"
        },
        "id": "pWB8ykV38zVe",
        "outputId": "39b1bae1-cf15-4488-d255-e6153236bf67"
      },
      "source": [
        "print(BiSON_numax_full,BiSON_ts_full.shape)\n",
        "print(BiSON_ts_full[:5])"
      ],
      "execution_count": null,
      "outputs": [
        {
          "output_type": "stream",
          "text": [
            "3005.0 (288, 30)\n",
            "[[115.27197433  76.24804261 218.81762513  88.18222376 129.31946428\n",
            "  181.54922494 147.02860713 144.11885917 148.548598   125.07438946\n",
            "  189.3807417   97.61721604  65.17035864  79.52131513  87.76847738\n",
            "  427.         448.         423.         393.         437.\n",
            "  409.         459.         408.         474.         497.\n",
            "  487.         505.         495.         471.         514.        ]\n",
            " [120.66220742 109.53475563 127.19569676  80.11389879 150.2618182\n",
            "  204.94065549 113.61672557  97.82269348 113.76414317 143.28014219\n",
            "  116.82270082  78.80519079  81.95511619  63.92859124  60.67534495\n",
            "  427.         453.         423.         461.         438.\n",
            "  405.         457.         486.         462.         424.\n",
            "  487.         514.         501.         471.         511.        ]\n",
            " [104.05341892  98.45097456 137.42725953  69.88116591 192.39534396\n",
            "  182.4948956  121.17380806  91.19191074 101.75213002  59.80012173\n",
            "  196.81588387  42.51882659  86.04682186  43.93645428  55.17343517\n",
            "  417.         452.         424.         462.         443.\n",
            "  405.         457.         484.         468.         500.\n",
            "  485.         443.         506.         471.         514.        ]\n",
            " [ 80.22170093  62.87854159  72.87952212  77.49593938  89.9198627\n",
            "   96.03385944 204.97969048  81.49958902 151.66826133  70.58403257\n",
            "  126.87468018  56.70349236 147.16841285  28.95887078  54.09593797\n",
            "  418.         451.         429.         457.         443.\n",
            "  405.         457.         484.         467.         435.\n",
            "  478.         442.         507.         478.           2.        ]\n",
            " [ 65.33096098  74.53372927  97.60052175  69.29379571  82.20049033\n",
            "   52.35862365 187.69294194  85.49070774 137.79029631  57.50493489\n",
            "  173.44852932  81.54446497  85.4970863   34.82771052  37.35878862\n",
            "  425.         380.         427.         462.         444.\n",
            "  407.         458.         422.         472.         436.\n",
            "  486.         451.         507.         462.          11.        ]]\n"
          ],
          "name": "stdout"
        }
      ]
    },
    {
      "cell_type": "markdown",
      "metadata": {
        "id": "8n-wlqek7giV"
      },
      "source": [
        "### Sunspot Number - Preprocess Y"
      ]
    },
    {
      "cell_type": "code",
      "metadata": {
        "id": "0fn2OZLNBYc0"
      },
      "source": [
        "SN_DELETE = -3"
      ],
      "execution_count": null,
      "outputs": []
    },
    {
      "cell_type": "code",
      "metadata": {
        "colab": {
          "base_uri": "https://localhost:8080/"
        },
        "id": "vUm9luU47IGy",
        "outputId": "da24a5d4-27e2-448e-ec66-cd684ad59206"
      },
      "source": [
        "SN_ts_23 = getSNAverage(np.ma.masked_equal(getSN_Day(cycle_23),0),30)[:SN_DELETE]\n",
        "print(SN_ts_23.shape)"
      ],
      "execution_count": null,
      "outputs": [
        {
          "output_type": "stream",
          "text": [
            "(148, 2)\n"
          ],
          "name": "stdout"
        }
      ]
    },
    {
      "cell_type": "code",
      "metadata": {
        "colab": {
          "base_uri": "https://localhost:8080/"
        },
        "id": "w0JqYzN1-j89",
        "outputId": "f7f804a7-5b69-41fe-926a-eefadf4aeca1"
      },
      "source": [
        "SN_ts_24 = getSNAverage(np.ma.masked_equal(getSN_Day(cycle_24),0),30)[:SN_DELETE]\n",
        "print(SN_ts_24.shape)"
      ],
      "execution_count": null,
      "outputs": [
        {
          "output_type": "stream",
          "text": [
            "(135, 2)\n"
          ],
          "name": "stdout"
        }
      ]
    },
    {
      "cell_type": "code",
      "metadata": {
        "colab": {
          "base_uri": "https://localhost:8080/"
        },
        "id": "orldmhXG_IR7",
        "outputId": "cc249549-7ea8-4279-8212-93eeeb202159"
      },
      "source": [
        "SN_ts_full = getSNAverage(np.ma.masked_equal(getSN_Day(cycle_2324),0),30)[:SN_DELETE]\n",
        "print(SN_ts_full.shape)"
      ],
      "execution_count": null,
      "outputs": [
        {
          "output_type": "stream",
          "text": [
            "(286, 2)\n"
          ],
          "name": "stdout"
        }
      ]
    },
    {
      "cell_type": "markdown",
      "metadata": {
        "id": "H2RNBiUsBnCn"
      },
      "source": [
        "### LOI Luminosity - Preprocess Pred_Y"
      ]
    },
    {
      "cell_type": "code",
      "metadata": {
        "colab": {
          "base_uri": "https://localhost:8080/"
        },
        "id": "bQrZ1Hx9_KNg",
        "outputId": "477d7e5a-dc81-4fa3-be80-375cc129cfb5"
      },
      "source": [
        "print(getLOI(cycle_23).shape)\n",
        "print(getLOI(cycle_23)[:10])"
      ],
      "execution_count": null,
      "outputs": [
        {
          "output_type": "stream",
          "text": [
            "(6487200, 2)\n",
            "[[ 2.45029650e+06 -2.08807224e-04]\n",
            " [ 2.45029650e+06 -1.99935382e-04]\n",
            " [ 2.45029650e+06 -2.12478601e-04]\n",
            " [ 2.45029650e+06 -2.09473520e-04]\n",
            " [ 2.45029650e+06 -2.38117448e-04]\n",
            " [ 2.45029650e+06 -2.55843421e-04]\n",
            " [ 2.45029650e+06 -2.29274237e-04]\n",
            " [ 2.45029650e+06 -2.39407792e-04]\n",
            " [ 2.45029651e+06 -2.34207347e-04]\n",
            " [ 2.45029651e+06 -1.84112930e-04]]\n"
          ],
          "name": "stdout"
        }
      ]
    },
    {
      "cell_type": "code",
      "metadata": {
        "id": "Nq_-jtMVC9j6",
        "colab": {
          "base_uri": "https://localhost:8080/"
        },
        "outputId": "5ff6f09e-069c-4669-9669-526de8db54fd"
      },
      "source": [
        "LOI_ts_23,LOI_numax_23= tsPower(getLOI(cycle_23).T[0],getLOI(cycle_23).T[1],90,30)"
      ],
      "execution_count": null,
      "outputs": [
        {
          "output_type": "stream",
          "text": [
            "/usr/local/lib/python3.7/dist-packages/astropy/units/quantity.py:477: RuntimeWarning: divide by zero encountered in true_divide\n",
            "  result = super().__array_ufunc__(function, method, *arrays, **kwargs)\n",
            "/usr/local/lib/python3.7/dist-packages/astropy/units/quantity.py:477: RuntimeWarning: invalid value encountered in multiply\n",
            "  result = super().__array_ufunc__(function, method, *arrays, **kwargs)\n"
          ],
          "name": "stderr"
        }
      ]
    },
    {
      "cell_type": "code",
      "metadata": {
        "colab": {
          "base_uri": "https://localhost:8080/"
        },
        "id": "vAtqlsO2DkxS",
        "outputId": "a0d6ea35-7053-40cf-e0e0-4cf214f6472f"
      },
      "source": [
        "print(LOI_numax_23,LOI_ts_23.shape)\n",
        "print(LOI_ts_23[0:5])"
      ],
      "execution_count": null,
      "outputs": [
        {
          "output_type": "stream",
          "text": [
            "3135.0 (150, 30)\n",
            "[[ 47.98165651  23.10740797  78.44157143  51.93608801  61.38520253\n",
            "   48.64217823  58.59022828  34.04069843  63.18077303  37.83090253\n",
            "   55.29990935  36.36982317  28.94200752  46.48183635  17.65381014\n",
            "  448.         486.         468.         434.         484.\n",
            "  439.         495.         446.         506.         476.\n",
            "   12.           8.          34.          21.          60.        ]\n",
            " [ 41.56048388  27.89874246 107.8765242   47.27836807  49.63243748\n",
            "   66.11715255  52.73826855  36.84224164  62.34785886  27.15823236\n",
            "   50.91744357  46.81299229  20.71633558  33.4645546   14.53521015\n",
            "  454.         484.         468.         430.         482.\n",
            "  511.         487.         449.           3.           0.\n",
            "   21.          19.          32.          18.          44.        ]\n",
            " [ 34.48446171  33.20358558 110.47526211  55.6160969   46.18263259\n",
            "   56.46611957 110.54428944  24.2185684  103.52306104  31.45599955\n",
            "   29.20774667  44.02909883  30.94079121  26.86141092  12.96988363\n",
            "  449.         487.         468.         430.         482.\n",
            "  439.         493.         451.         508.           1.\n",
            "   24.           3.          27.          21.          44.        ]\n",
            " [ 30.13768688  53.44778898  70.05145858  46.88653049 102.07754227\n",
            "   42.57416698  77.87142001  41.26797383 100.29437839  28.51876531\n",
            "   34.75877767  89.57449633  31.60537399  19.1587204   12.94923495\n",
            "  454.         485.         463.         495.         482.\n",
            "  512.         492.         460.         503.         467.\n",
            "   20.          14.          27.          16.          52.        ]\n",
            " [ 23.08893058  43.54752802  76.49090829  67.03005146 127.33501915\n",
            "   56.63764853  98.95345721  33.5826062  123.86467855  64.27296372\n",
            "   53.1307573   86.66416341  55.54525836  29.69388843  19.73055684\n",
            "  465.         485.         471.         500.         483.\n",
            "  511.         497.         459.         511.         467.\n",
            "   20.          14.          39.          20.          54.        ]]\n"
          ],
          "name": "stdout"
        }
      ]
    },
    {
      "cell_type": "code",
      "metadata": {
        "id": "mFzeLBpGD5Is"
      },
      "source": [
        "LOI_ts_24,LOI_numax_24= tsPower(getLOI(cycle_24).T[0],getLOI(cycle_24).T[1],90,30)"
      ],
      "execution_count": null,
      "outputs": []
    },
    {
      "cell_type": "code",
      "metadata": {
        "id": "La4xs0vgEcfl",
        "colab": {
          "base_uri": "https://localhost:8080/"
        },
        "outputId": "f137963e-81b4-4c18-d2ed-9eeb5ee7fdaf"
      },
      "source": [
        "print(LOI_numax_24,LOI_ts_24.shape)\n",
        "print(LOI_ts_24[0:5])"
      ],
      "execution_count": null,
      "outputs": [
        {
          "output_type": "stream",
          "text": [
            "3115.0 (125, 30)\n",
            "[[ 18.01916051  47.3493574   27.97056836 107.28512022  52.53455023\n",
            "  138.03631513 103.14769172 228.16979872  47.28110525  90.2007494\n",
            "   60.99721502  54.01090112  36.21008135  56.78275268  25.47494954\n",
            "  115.          89.          46.         103.          68.\n",
            "  115.         150.         131.         157.         148.\n",
            "  104.         163.         192.         179.         155.        ]\n",
            " [ 36.45337049  73.59710752  39.30346327  71.04262191  64.62528035\n",
            "  132.29327224  90.47491164 163.44013829  55.3788672  189.85460934\n",
            "   61.87798426  32.59033862  32.72389682  33.13007803  24.0597421\n",
            "  112.          94.         125.         103.         141.\n",
            "  115.         146.         131.          84.         144.\n",
            "  115.         158.         193.         179.         190.        ]\n",
            " [ 28.83899276  43.59731323  61.72215206  50.50501861  72.41713901\n",
            "  110.1620372  141.92900246 128.13712044  76.86503396 229.78985597\n",
            "   73.8175273   63.72149339  31.75459224  34.14024545  22.1238411\n",
            "  115.          90.         125.         101.         141.\n",
            "  115.         148.         132.          96.         144.\n",
            "  115.         170.         193.         181.         203.        ]\n",
            " [ 22.37068596  23.39624679  52.95354209  79.82695695 102.00411315\n",
            "   87.54454519 204.90656699 196.93613901  76.96313798 125.97453277\n",
            "   87.43056335  50.24051271  52.04035835  78.05794247  40.40393216\n",
            "  111.          85.         125.         107.         135.\n",
            "  121.         148.         136.         157.         144.\n",
            "  179.         166.         200.         177.         203.        ]\n",
            " [ 52.05912069  28.48580206  48.30320707  98.42558112 120.92118102\n",
            "  110.91308091 115.47348668 184.69122544 137.92823753 114.45900432\n",
            "   91.17818774  47.80395063  46.08384043  69.37773931  34.24618444\n",
            "  114.          90.         124.         108.         135.\n",
            "  121.         148.         136.         161.         144.\n",
            "  175.         162.         200.         178.         217.        ]]\n"
          ],
          "name": "stdout"
        }
      ]
    },
    {
      "cell_type": "code",
      "metadata": {
        "id": "lX70UBDtEeAV",
        "colab": {
          "base_uri": "https://localhost:8080/"
        },
        "outputId": "5a94cd44-7d6f-4395-a1dc-e9b799ba75d7"
      },
      "source": [
        "LOI_ts_full,LOI_numax_full= tsPower(getLOI(cycle_2324).T[0],getLOI(cycle_2324).T[1],90,30)"
      ],
      "execution_count": null,
      "outputs": [
        {
          "output_type": "stream",
          "text": [
            "/usr/local/lib/python3.7/dist-packages/astropy/units/quantity.py:477: RuntimeWarning: divide by zero encountered in true_divide\n",
            "  result = super().__array_ufunc__(function, method, *arrays, **kwargs)\n",
            "/usr/local/lib/python3.7/dist-packages/astropy/units/quantity.py:477: RuntimeWarning: invalid value encountered in multiply\n",
            "  result = super().__array_ufunc__(function, method, *arrays, **kwargs)\n"
          ],
          "name": "stderr"
        }
      ]
    },
    {
      "cell_type": "code",
      "metadata": {
        "id": "dDKMl2_sEkaR",
        "colab": {
          "base_uri": "https://localhost:8080/"
        },
        "outputId": "6611c3bd-d30e-49ec-8da0-734712f573bd"
      },
      "source": [
        "print(LOI_numax_full,LOI_ts_full.shape)\n",
        "print(LOI_ts_full[0:5])"
      ],
      "execution_count": null,
      "outputs": [
        {
          "output_type": "stream",
          "text": [
            "3135.0 (275, 30)\n",
            "[[ 47.98165651  23.10740797  78.44157143  51.93608801  61.38520253\n",
            "   48.64217823  58.59022828  34.04069843  63.18077303  37.83090253\n",
            "   55.29990935  36.36982317  28.94200752  46.48183635  17.65381014\n",
            "  448.         486.         468.         434.         484.\n",
            "  439.         495.         446.         506.         476.\n",
            "   12.           8.          34.          21.          60.        ]\n",
            " [ 41.56048388  27.89874246 107.8765242   47.27836807  49.63243748\n",
            "   66.11715255  52.73826855  36.84224164  62.34785886  27.15823236\n",
            "   50.91744357  46.81299229  20.71633558  33.4645546   14.53521015\n",
            "  454.         484.         468.         430.         482.\n",
            "  511.         487.         449.           3.           0.\n",
            "   21.          19.          32.          18.          44.        ]\n",
            " [ 34.48446171  33.20358558 110.47526211  55.6160969   46.18263259\n",
            "   56.46611957 110.54428944  24.2185684  103.52306104  31.45599955\n",
            "   29.20774667  44.02909883  30.94079121  26.86141092  12.96988363\n",
            "  449.         487.         468.         430.         482.\n",
            "  439.         493.         451.         508.           1.\n",
            "   24.           3.          27.          21.          44.        ]\n",
            " [ 30.13768688  53.44778898  70.05145858  46.88653049 102.07754227\n",
            "   42.57416698  77.87142001  41.26797383 100.29437839  28.51876531\n",
            "   34.75877767  89.57449633  31.60537399  19.1587204   12.94923495\n",
            "  454.         485.         463.         495.         482.\n",
            "  512.         492.         460.         503.         467.\n",
            "   20.          14.          27.          16.          52.        ]\n",
            " [ 23.08893058  43.54752802  76.49090829  67.03005146 127.33501915\n",
            "   56.63764853  98.95345721  33.5826062  123.86467855  64.27296372\n",
            "   53.1307573   86.66416341  55.54525836  29.69388843  19.73055684\n",
            "  465.         485.         471.         500.         483.\n",
            "  511.         497.         459.         511.         467.\n",
            "   20.          14.          39.          20.          54.        ]]\n"
          ],
          "name": "stdout"
        }
      ]
    },
    {
      "cell_type": "markdown",
      "metadata": {
        "id": "9GdgXJ-XEr_J"
      },
      "source": [
        "## Align Dims"
      ]
    },
    {
      "cell_type": "code",
      "metadata": {
        "id": "VVVqrL5fEnT3",
        "colab": {
          "base_uri": "https://localhost:8080/"
        },
        "outputId": "912bb107-e4db-4f76-8aca-875b6d45263e"
      },
      "source": [
        "# Cycle 23 Dims\n",
        "print(\"Cycle 23 Dims\")\n",
        "try:\n",
        "  print(BiSON_ts_23.shape,SN_ts_23.shape,LOI_ts_23.shape)\n",
        "except:\n",
        "  pass\n",
        "print()\n",
        "\n",
        "# Cycle 24 Dims\n",
        "print(\"Cycle 24 Dims\")\n",
        "try:\n",
        "  print(BiSON_ts_24.shape,SN_ts_24.shape,LOI_ts_24.shape)\n",
        "except:\n",
        "  pass\n",
        "print()\n",
        "\n",
        "# Full Cycle Dims\n",
        "print(\"Cycle FULL Dims\")\n",
        "try:\n",
        "  print(BiSON_ts_full.shape,SN_ts_full.shape,LOI_ts_full.shape)\n",
        "except:\n",
        "  pass\n",
        "print()"
      ],
      "execution_count": null,
      "outputs": [
        {
          "output_type": "stream",
          "text": [
            "Cycle 23 Dims\n",
            "(150, 30) (148, 2) (150, 30)\n",
            "\n",
            "Cycle 24 Dims\n",
            "(137, 30) (135, 2) (125, 30)\n",
            "\n",
            "Cycle FULL Dims\n",
            "(288, 30) (286, 2) (275, 30)\n",
            "\n"
          ],
          "name": "stdout"
        }
      ]
    },
    {
      "cell_type": "code",
      "metadata": {
        "id": "LDWqFa_rFtUC"
      },
      "source": [
        "#Fitting dims to LOI due to missing end of cycle 24\n",
        "BiSON_ts_24_fit = BiSON_ts_24[:len(LOI_ts_24)]\n",
        "SN_ts_24_fit = SN_ts_24[:len(LOI_ts_24)]\n",
        "\n",
        "BiSON_ts_full_fit = BiSON_ts_full[:len(LOI_ts_full)]\n",
        "SN_ts_full_fit = SN_ts_full[:len(LOI_ts_full)]"
      ],
      "execution_count": null,
      "outputs": []
    },
    {
      "cell_type": "code",
      "metadata": {
        "id": "bIB-nkdDG7Mb",
        "colab": {
          "base_uri": "https://localhost:8080/"
        },
        "outputId": "97933a89-4184-4514-e7a7-1d126ddd4197"
      },
      "source": [
        "# Test Fitted Dims\n",
        "# Cycle 23 Dims\n",
        "print(\"Cycle 23 Dims\")\n",
        "try:\n",
        "  print(BiSON_ts_23.shape,SN_ts_23.shape,LOI_ts_23.shape)\n",
        "except:\n",
        "  pass\n",
        "print()\n",
        "\n",
        "# Cycle 24 Dims\n",
        "print(\"Cycle 24 Dims\")\n",
        "try:\n",
        "  print(BiSON_ts_24_fit.shape,SN_ts_24_fit.shape,LOI_ts_24.shape)\n",
        "except:\n",
        "  pass\n",
        "print()\n",
        "\n",
        "# Full Cycle Dims\n",
        "print(\"Cycle FULL Dims\")\n",
        "try:\n",
        "  print(BiSON_ts_full_fit.shape,SN_ts_full_fit.shape,LOI_ts_full.shape)\n",
        "except:\n",
        "  pass\n",
        "print()"
      ],
      "execution_count": null,
      "outputs": [
        {
          "output_type": "stream",
          "text": [
            "Cycle 23 Dims\n",
            "(150, 30) (148, 2) (150, 30)\n",
            "\n",
            "Cycle 24 Dims\n",
            "(125, 30) (125, 2) (125, 30)\n",
            "\n",
            "Cycle FULL Dims\n",
            "(275, 30) (275, 2) (275, 30)\n",
            "\n"
          ],
          "name": "stdout"
        }
      ]
    },
    {
      "cell_type": "markdown",
      "metadata": {
        "id": "hVpmJmoWHih2"
      },
      "source": [
        "## Model Architecture"
      ]
    },
    {
      "cell_type": "code",
      "metadata": {
        "colab": {
          "base_uri": "https://localhost:8080/"
        },
        "id": "GG6HSObaH_32",
        "outputId": "d9c53455-c0a1-4550-e2da-ab5be53f2352"
      },
      "source": [
        "#Load Data\n",
        "tLOI = normalize2D(LOI_ts_full,\"LOI\")#.T[:16].T\n",
        "tBiSON = normalize2D(BiSON_ts_full_fit,\"BiSON\")#.T[:16].T\n",
        "print(np.max(tLOI),np.max(tBiSON))\n",
        "print(tLOI.shape,tBiSON.shape)\n",
        "\n",
        "ty2 = np.append(normalize1D(SN_ts_full_fit.T[1]),normalize1D(SN_ts_full_fit.T[1]),0)\n",
        "\n",
        "\n",
        "tx = np.append(tBiSON,tLOI,0) #BiSON_ts_full_fit\n",
        "ty = ty2\n",
        "print(tx.shape,ty.shape)\n",
        "\n",
        "train_x,test_x,train_y,test_y=train_test_split(tx, ty, test_size=0.20, random_state=42)\n",
        "train_x = train_x.reshape(train_x.shape[0],1,train_x.shape[1])\n",
        "test_x = test_x.reshape(test_x.shape[0],1,test_x.shape[1])\n",
        "\n",
        "# train_x = train_x[..., None]\n",
        "# test_x = test_x[..., None]\n",
        "print(train_x.shape,test_x.shape)\n",
        "\n",
        "print(np.max(train_x),np.max(train_y),np.max(test_x),np.max(test_y))"
      ],
      "execution_count": null,
      "outputs": [
        {
          "output_type": "stream",
          "text": [
            "1.0 1.0\n",
            "(275, 16) (275, 16)\n",
            "(550, 16) (550,)\n",
            "(440, 1, 16) (110, 1, 16)\n",
            "1.0 1.0 1.0 0.9484691088026244\n"
          ],
          "name": "stdout"
        }
      ]
    },
    {
      "cell_type": "code",
      "metadata": {
        "colab": {
          "base_uri": "https://localhost:8080/"
        },
        "id": "OO7Q1o3PUoPn",
        "outputId": "0e6a375c-ce25-4450-9b43-0d8aa0ce8855"
      },
      "source": [
        "print(train_x[12])"
      ],
      "execution_count": null,
      "outputs": [
        {
          "output_type": "stream",
          "text": [
            "[[0.         0.5281824  0.37758137 0.73481042 0.68895881 0.84214408\n",
            "  0.93320187 0.91239361 0.37330112 1.         0.19775474 0.34408754\n",
            "  0.40206268 0.37674197 0.23723085 0.14688365]]\n"
          ],
          "name": "stdout"
        }
      ]
    },
    {
      "cell_type": "code",
      "metadata": {
        "colab": {
          "base_uri": "https://localhost:8080/"
        },
        "id": "WQrAq0ZxHQIn",
        "outputId": "dd682877-3c64-471c-e176-62f332de4ed7"
      },
      "source": [
        "# tf.test.gpu_device_name() # No GPU Sad :v\n",
        "keras.backend.clear_session()\n",
        "# model = models.Sequential()\n",
        "\n",
        "# model.add(layers.Conv1D(1024, 1, activation='relu',batch_input_shape=train_x.shape))\n",
        "# model.add(layers.Dense(128))\n",
        "# model.add(layers.Conv1D(32, 1, activation='relu'))\n",
        "# model.add(layers.Dense(1,activation=\"sigmoid\"))\n",
        "\n",
        "# model.summary()\n",
        "\n",
        "model = models.Sequential()\n",
        "#model.add(layers.Conv1D(filters=16, kernel_size=1, activation='relu', batch_input_shape=(train_x.shape)))\n",
        "\n",
        "#model.add(layers.Embedding(input_dim=64, output_dim=16))\n",
        "#model.add(layers.LSTM(128,dropout=0.2,recurrent_dropout=0.2,input_dim=(train_x.shape[2])))\n",
        "model.add(layers.Dense(2048, activation='relu', input_shape=(train_x.shape)))\n",
        "#model.add(layers.Conv1D(1024,1,activation='relu',input_shape=(train_x.shape)))\n",
        "#model.add(layers.Conv1D(256,1,activation='relu'))\n",
        "model.add(layers.Dense(1024, activation=\"relu\"))\n",
        "model.add(layers.Dense(512, activation=\"relu\"))\n",
        "model.add(layers.Dense(256, activation=\"relu\"))\n",
        "model.add(layers.Dense(32, activation=\"relu\"))\n",
        "model.add(layers.Dense(4, activation=\"relu\"))\n",
        "# model.add(layers.Dense(2, activation=\"relu\"))\n",
        "model.add(layers.Dense(1))\n",
        "model.summary()"
      ],
      "execution_count": null,
      "outputs": [
        {
          "output_type": "stream",
          "text": [
            "Model: \"sequential\"\n",
            "_________________________________________________________________\n",
            "Layer (type)                 Output Shape              Param #   \n",
            "=================================================================\n",
            "dense (Dense)                (None, 440, 1, 2048)      34816     \n",
            "_________________________________________________________________\n",
            "dense_1 (Dense)              (None, 440, 1, 1024)      2098176   \n",
            "_________________________________________________________________\n",
            "dense_2 (Dense)              (None, 440, 1, 512)       524800    \n",
            "_________________________________________________________________\n",
            "dense_3 (Dense)              (None, 440, 1, 256)       131328    \n",
            "_________________________________________________________________\n",
            "dense_4 (Dense)              (None, 440, 1, 32)        8224      \n",
            "_________________________________________________________________\n",
            "dense_5 (Dense)              (None, 440, 1, 4)         132       \n",
            "_________________________________________________________________\n",
            "dense_6 (Dense)              (None, 440, 1, 1)         5         \n",
            "=================================================================\n",
            "Total params: 2,797,481\n",
            "Trainable params: 2,797,481\n",
            "Non-trainable params: 0\n",
            "_________________________________________________________________\n"
          ],
          "name": "stdout"
        }
      ]
    },
    {
      "cell_type": "code",
      "metadata": {
        "id": "ztmdn70rH9BT"
      },
      "source": [
        "model.compile(optimizer='adam', loss='mse', metrics=['accuracy'])\n",
        "monitor = keras.callbacks.EarlyStopping(monitor='val_loss', min_delta=1e-4, \n",
        "        patience=30, verbose=1, mode='auto',\n",
        "        restore_best_weights=True)"
      ],
      "execution_count": null,
      "outputs": []
    },
    {
      "cell_type": "code",
      "metadata": {
        "colab": {
          "base_uri": "https://localhost:8080/"
        },
        "id": "GHwC6-3eIhj3",
        "outputId": "40796b5a-ac75-4e1a-82e7-9000906e1b06"
      },
      "source": [
        "history = model.fit(train_x, train_y, epochs=1000,\n",
        "                   validation_data=(test_x, test_y),callbacks=[monitor], verbose=2)"
      ],
      "execution_count": null,
      "outputs": [
        {
          "output_type": "stream",
          "text": [
            "Epoch 1/1000\n",
            "WARNING:tensorflow:Model was constructed with shape (None, 440, 1, 16) for input KerasTensor(type_spec=TensorSpec(shape=(None, 440, 1, 16), dtype=tf.float32, name='dense_input'), name='dense_input', description=\"created by layer 'dense_input'\"), but it was called on an input with incompatible shape (None, 1, 16).\n",
            "WARNING:tensorflow:Model was constructed with shape (None, 440, 1, 16) for input KerasTensor(type_spec=TensorSpec(shape=(None, 440, 1, 16), dtype=tf.float32, name='dense_input'), name='dense_input', description=\"created by layer 'dense_input'\"), but it was called on an input with incompatible shape (None, 1, 16).\n",
            "WARNING:tensorflow:Model was constructed with shape (None, 440, 1, 16) for input KerasTensor(type_spec=TensorSpec(shape=(None, 440, 1, 16), dtype=tf.float32, name='dense_input'), name='dense_input', description=\"created by layer 'dense_input'\"), but it was called on an input with incompatible shape (None, 1, 16).\n",
            "14/14 - 2s - loss: 0.0684 - accuracy: 0.0000e+00 - val_loss: 0.0534 - val_accuracy: 0.0000e+00\n",
            "Epoch 2/1000\n",
            "14/14 - 1s - loss: 0.0550 - accuracy: 0.0000e+00 - val_loss: 0.0472 - val_accuracy: 0.0000e+00\n",
            "Epoch 3/1000\n",
            "14/14 - 1s - loss: 0.0481 - accuracy: 0.0000e+00 - val_loss: 0.0470 - val_accuracy: 0.0000e+00\n",
            "Epoch 4/1000\n",
            "14/14 - 1s - loss: 0.0493 - accuracy: 0.0000e+00 - val_loss: 0.0444 - val_accuracy: 0.0000e+00\n",
            "Epoch 5/1000\n",
            "14/14 - 1s - loss: 0.0452 - accuracy: 0.0023 - val_loss: 0.0445 - val_accuracy: 0.0000e+00\n",
            "Epoch 6/1000\n",
            "14/14 - 1s - loss: 0.0441 - accuracy: 0.0023 - val_loss: 0.0412 - val_accuracy: 0.0000e+00\n",
            "Epoch 7/1000\n",
            "14/14 - 1s - loss: 0.0425 - accuracy: 0.0000e+00 - val_loss: 0.0426 - val_accuracy: 0.0000e+00\n",
            "Epoch 8/1000\n",
            "14/14 - 1s - loss: 0.0423 - accuracy: 0.0023 - val_loss: 0.0411 - val_accuracy: 0.0000e+00\n",
            "Epoch 9/1000\n",
            "14/14 - 1s - loss: 0.0405 - accuracy: 0.0023 - val_loss: 0.0452 - val_accuracy: 0.0000e+00\n",
            "Epoch 10/1000\n",
            "14/14 - 1s - loss: 0.0393 - accuracy: 0.0023 - val_loss: 0.0415 - val_accuracy: 0.0000e+00\n",
            "Epoch 11/1000\n",
            "14/14 - 1s - loss: 0.0393 - accuracy: 0.0023 - val_loss: 0.0433 - val_accuracy: 0.0000e+00\n",
            "Epoch 12/1000\n",
            "14/14 - 1s - loss: 0.0397 - accuracy: 0.0023 - val_loss: 0.0405 - val_accuracy: 0.0000e+00\n",
            "Epoch 13/1000\n",
            "14/14 - 1s - loss: 0.0402 - accuracy: 0.0023 - val_loss: 0.0432 - val_accuracy: 0.0000e+00\n",
            "Epoch 14/1000\n",
            "14/14 - 1s - loss: 0.0386 - accuracy: 0.0023 - val_loss: 0.0430 - val_accuracy: 0.0000e+00\n",
            "Epoch 15/1000\n",
            "14/14 - 1s - loss: 0.0352 - accuracy: 0.0023 - val_loss: 0.0415 - val_accuracy: 0.0000e+00\n",
            "Epoch 16/1000\n",
            "14/14 - 1s - loss: 0.0341 - accuracy: 0.0023 - val_loss: 0.0444 - val_accuracy: 0.0000e+00\n",
            "Epoch 17/1000\n",
            "14/14 - 1s - loss: 0.0338 - accuracy: 0.0023 - val_loss: 0.0425 - val_accuracy: 0.0000e+00\n",
            "Epoch 18/1000\n",
            "14/14 - 1s - loss: 0.0327 - accuracy: 0.0023 - val_loss: 0.0436 - val_accuracy: 0.0000e+00\n",
            "Epoch 19/1000\n",
            "14/14 - 1s - loss: 0.0309 - accuracy: 0.0023 - val_loss: 0.0452 - val_accuracy: 0.0000e+00\n",
            "Epoch 20/1000\n",
            "14/14 - 1s - loss: 0.0323 - accuracy: 0.0045 - val_loss: 0.0561 - val_accuracy: 0.0000e+00\n",
            "Epoch 21/1000\n",
            "14/14 - 1s - loss: 0.0430 - accuracy: 0.0023 - val_loss: 0.0442 - val_accuracy: 0.0000e+00\n",
            "Epoch 22/1000\n",
            "14/14 - 1s - loss: 0.0313 - accuracy: 0.0023 - val_loss: 0.0454 - val_accuracy: 0.0000e+00\n",
            "Epoch 23/1000\n",
            "14/14 - 1s - loss: 0.0300 - accuracy: 0.0023 - val_loss: 0.0416 - val_accuracy: 0.0000e+00\n",
            "Epoch 24/1000\n",
            "14/14 - 1s - loss: 0.0278 - accuracy: 0.0045 - val_loss: 0.0499 - val_accuracy: 0.0000e+00\n",
            "Epoch 25/1000\n",
            "14/14 - 1s - loss: 0.0304 - accuracy: 0.0045 - val_loss: 0.0471 - val_accuracy: 0.0000e+00\n",
            "Epoch 26/1000\n",
            "14/14 - 1s - loss: 0.0271 - accuracy: 0.0045 - val_loss: 0.0513 - val_accuracy: 0.0000e+00\n",
            "Epoch 27/1000\n",
            "14/14 - 1s - loss: 0.0243 - accuracy: 0.0045 - val_loss: 0.0499 - val_accuracy: 0.0000e+00\n",
            "Epoch 28/1000\n",
            "14/14 - 1s - loss: 0.0259 - accuracy: 0.0045 - val_loss: 0.0578 - val_accuracy: 0.0000e+00\n",
            "Epoch 29/1000\n",
            "14/14 - 1s - loss: 0.0276 - accuracy: 0.0023 - val_loss: 0.0433 - val_accuracy: 0.0000e+00\n",
            "Epoch 30/1000\n",
            "14/14 - 1s - loss: 0.0220 - accuracy: 0.0045 - val_loss: 0.0494 - val_accuracy: 0.0000e+00\n",
            "Epoch 31/1000\n",
            "14/14 - 1s - loss: 0.0208 - accuracy: 0.0045 - val_loss: 0.0611 - val_accuracy: 0.0000e+00\n",
            "Epoch 32/1000\n",
            "14/14 - 1s - loss: 0.0245 - accuracy: 0.0045 - val_loss: 0.0468 - val_accuracy: 0.0000e+00\n",
            "Epoch 33/1000\n",
            "14/14 - 1s - loss: 0.0219 - accuracy: 0.0045 - val_loss: 0.0524 - val_accuracy: 0.0000e+00\n",
            "Epoch 34/1000\n",
            "14/14 - 1s - loss: 0.0207 - accuracy: 0.0045 - val_loss: 0.0520 - val_accuracy: 0.0000e+00\n",
            "Epoch 35/1000\n",
            "14/14 - 1s - loss: 0.0172 - accuracy: 0.0045 - val_loss: 0.0509 - val_accuracy: 0.0000e+00\n",
            "Epoch 36/1000\n",
            "14/14 - 1s - loss: 0.0160 - accuracy: 0.0045 - val_loss: 0.0497 - val_accuracy: 0.0000e+00\n",
            "Epoch 37/1000\n",
            "14/14 - 1s - loss: 0.0189 - accuracy: 0.0045 - val_loss: 0.0554 - val_accuracy: 0.0000e+00\n",
            "Epoch 38/1000\n",
            "14/14 - 1s - loss: 0.0182 - accuracy: 0.0045 - val_loss: 0.0581 - val_accuracy: 0.0000e+00\n",
            "Epoch 39/1000\n",
            "14/14 - 1s - loss: 0.0161 - accuracy: 0.0045 - val_loss: 0.0635 - val_accuracy: 0.0000e+00\n",
            "Epoch 40/1000\n",
            "14/14 - 1s - loss: 0.0167 - accuracy: 0.0045 - val_loss: 0.0434 - val_accuracy: 0.0000e+00\n",
            "Epoch 41/1000\n",
            "14/14 - 1s - loss: 0.0199 - accuracy: 0.0045 - val_loss: 0.0385 - val_accuracy: 0.0000e+00\n",
            "Epoch 42/1000\n",
            "14/14 - 1s - loss: 0.0166 - accuracy: 0.0045 - val_loss: 0.0565 - val_accuracy: 0.0000e+00\n",
            "Epoch 43/1000\n",
            "14/14 - 1s - loss: 0.0141 - accuracy: 0.0045 - val_loss: 0.0540 - val_accuracy: 0.0000e+00\n",
            "Epoch 44/1000\n",
            "14/14 - 1s - loss: 0.0146 - accuracy: 0.0045 - val_loss: 0.0622 - val_accuracy: 0.0000e+00\n",
            "Epoch 45/1000\n",
            "14/14 - 1s - loss: 0.0156 - accuracy: 0.0045 - val_loss: 0.0570 - val_accuracy: 0.0000e+00\n",
            "Epoch 46/1000\n",
            "14/14 - 1s - loss: 0.0132 - accuracy: 0.0045 - val_loss: 0.0547 - val_accuracy: 0.0000e+00\n",
            "Epoch 47/1000\n",
            "14/14 - 1s - loss: 0.0114 - accuracy: 0.0045 - val_loss: 0.0502 - val_accuracy: 0.0000e+00\n",
            "Epoch 48/1000\n",
            "14/14 - 1s - loss: 0.0114 - accuracy: 0.0045 - val_loss: 0.0571 - val_accuracy: 0.0000e+00\n",
            "Epoch 49/1000\n",
            "14/14 - 1s - loss: 0.0100 - accuracy: 0.0045 - val_loss: 0.0544 - val_accuracy: 0.0000e+00\n",
            "Epoch 50/1000\n",
            "14/14 - 1s - loss: 0.0076 - accuracy: 0.0045 - val_loss: 0.0609 - val_accuracy: 0.0000e+00\n",
            "Epoch 51/1000\n",
            "14/14 - 1s - loss: 0.0071 - accuracy: 0.0045 - val_loss: 0.0557 - val_accuracy: 0.0000e+00\n",
            "Epoch 52/1000\n",
            "14/14 - 1s - loss: 0.0062 - accuracy: 0.0045 - val_loss: 0.0614 - val_accuracy: 0.0000e+00\n",
            "Epoch 53/1000\n",
            "14/14 - 1s - loss: 0.0049 - accuracy: 0.0045 - val_loss: 0.0626 - val_accuracy: 0.0000e+00\n",
            "Epoch 54/1000\n",
            "14/14 - 1s - loss: 0.0045 - accuracy: 0.0045 - val_loss: 0.0538 - val_accuracy: 0.0000e+00\n",
            "Epoch 55/1000\n",
            "14/14 - 1s - loss: 0.0045 - accuracy: 0.0045 - val_loss: 0.0527 - val_accuracy: 0.0000e+00\n",
            "Epoch 56/1000\n",
            "14/14 - 1s - loss: 0.0041 - accuracy: 0.0045 - val_loss: 0.0582 - val_accuracy: 0.0000e+00\n",
            "Epoch 57/1000\n",
            "14/14 - 1s - loss: 0.0034 - accuracy: 0.0045 - val_loss: 0.0571 - val_accuracy: 0.0000e+00\n",
            "Epoch 58/1000\n",
            "14/14 - 1s - loss: 0.0029 - accuracy: 0.0045 - val_loss: 0.0584 - val_accuracy: 0.0000e+00\n",
            "Epoch 59/1000\n",
            "14/14 - 1s - loss: 0.0037 - accuracy: 0.0045 - val_loss: 0.0636 - val_accuracy: 0.0000e+00\n",
            "Epoch 60/1000\n",
            "14/14 - 1s - loss: 0.0034 - accuracy: 0.0045 - val_loss: 0.0594 - val_accuracy: 0.0000e+00\n",
            "Epoch 61/1000\n",
            "14/14 - 1s - loss: 0.0044 - accuracy: 0.0045 - val_loss: 0.0629 - val_accuracy: 0.0000e+00\n",
            "Epoch 62/1000\n",
            "14/14 - 1s - loss: 0.0043 - accuracy: 0.0045 - val_loss: 0.0616 - val_accuracy: 0.0000e+00\n",
            "Epoch 63/1000\n",
            "14/14 - 1s - loss: 0.0043 - accuracy: 0.0045 - val_loss: 0.0618 - val_accuracy: 0.0000e+00\n",
            "Epoch 64/1000\n",
            "14/14 - 1s - loss: 0.0030 - accuracy: 0.0045 - val_loss: 0.0559 - val_accuracy: 0.0000e+00\n",
            "Epoch 65/1000\n",
            "14/14 - 1s - loss: 0.0022 - accuracy: 0.0045 - val_loss: 0.0594 - val_accuracy: 0.0000e+00\n",
            "Epoch 66/1000\n",
            "14/14 - 1s - loss: 0.0025 - accuracy: 0.0045 - val_loss: 0.0549 - val_accuracy: 0.0000e+00\n",
            "Epoch 67/1000\n",
            "14/14 - 1s - loss: 0.0026 - accuracy: 0.0045 - val_loss: 0.0623 - val_accuracy: 0.0000e+00\n",
            "Epoch 68/1000\n",
            "14/14 - 1s - loss: 0.0025 - accuracy: 0.0045 - val_loss: 0.0597 - val_accuracy: 0.0000e+00\n",
            "Epoch 69/1000\n",
            "14/14 - 1s - loss: 0.0020 - accuracy: 0.0045 - val_loss: 0.0565 - val_accuracy: 0.0000e+00\n",
            "Epoch 70/1000\n",
            "14/14 - 1s - loss: 0.0025 - accuracy: 0.0045 - val_loss: 0.0592 - val_accuracy: 0.0000e+00\n",
            "Epoch 71/1000\n",
            "14/14 - 1s - loss: 0.0015 - accuracy: 0.0045 - val_loss: 0.0586 - val_accuracy: 0.0000e+00\n",
            "Restoring model weights from the end of the best epoch.\n",
            "Epoch 00071: early stopping\n"
          ],
          "name": "stdout"
        }
      ]
    },
    {
      "cell_type": "code",
      "metadata": {
        "id": "Ee-u4bH3EvJr"
      },
      "source": [
        "#model = keras.models.load_model('/content/drive/MyDrive/Korea Research - Yihong Song and Rohit Prasanna/DSHS & AOS Physics Research Collaboration 2020/Project/Jr:Sr Project/ML/p010')"
      ],
      "execution_count": null,
      "outputs": []
    },
    {
      "cell_type": "markdown",
      "metadata": {
        "id": "j3kkaWgTTyH9"
      },
      "source": [
        "## Model Prediction"
      ]
    },
    {
      "cell_type": "code",
      "metadata": {
        "colab": {
          "base_uri": "https://localhost:8080/"
        },
        "id": "bkD6txXUT2Fk",
        "outputId": "36682a59-5a40-441b-b1f5-34419da773cc"
      },
      "source": [
        "# Load Prediction Data\n",
        "pred_BiSON = normalize2D(BiSON_ts_full_fit,\"BiSON\")#.T[16:].T\n",
        "pred_LOI = normalize2D(LOI_ts_full,\"LOI\")#.T[16:].T\n",
        "print(np.max(pred_BiSON),np.max(pred_LOI))\n",
        "pred_BiSON = np.subtract(pred_BiSON.reshape(pred_BiSON.shape[0],1,pred_BiSON.shape[1]),0)\n",
        "pred_LOI = np.subtract(pred_LOI.reshape(pred_LOI.shape[0],1,pred_LOI.shape[1]),0)\n",
        "# pred_BiSON = normalizePred(pred_BiSON)\n",
        "# pred_LOI = normalizePred(pred_LOI)\n",
        "print(train_x.shape,test_x.shape)"
      ],
      "execution_count": null,
      "outputs": [
        {
          "output_type": "stream",
          "text": [
            "1.0 1.0\n",
            "(440, 1, 16) (110, 1, 16)\n"
          ],
          "name": "stdout"
        }
      ]
    },
    {
      "cell_type": "code",
      "metadata": {
        "colab": {
          "base_uri": "https://localhost:8080/"
        },
        "id": "-QNspIGiIizL",
        "outputId": "5e6913b7-5d09-4ba3-8463-50cad9f11071"
      },
      "source": [
        "pred_BiSON = model.predict(pred_BiSON)\n",
        "print(pred_BiSON.shape)\n",
        "pred_BiSON = pred_BiSON.reshape(-1)\n",
        "print(pred_BiSON.shape)\n",
        "print(pred_BiSON[0])\n",
        "pred_LOI = model.predict(pred_LOI).reshape(-1)\n",
        "print(pred_LOI[0:15])\n",
        "# for i in range(0,int(len(pred_LOI)/2)):\n",
        "#   if pred_LOI[i] >= 0.8:\n",
        "#     pred_LOI[i] = pred_LOI[i-1]\n",
        "# for i in range(int(len(pred_LOI)/2),len(pred_LOI)):\n",
        "#   if pred_LOI[i] >= 0.55:\n",
        "#     pred_LOI[i] = pred_LOI[i-1]"
      ],
      "execution_count": null,
      "outputs": [
        {
          "output_type": "stream",
          "text": [
            "(275, 1, 1)\n",
            "(275,)\n",
            "0.23974918\n",
            "[0.37153634 0.15761971 0.06412345 0.17747514 0.17864358 0.20520018\n",
            " 0.2387127  0.28046778 0.40133554 0.3174602  0.2044762  0.15222326\n",
            " 0.21681653 0.26322612 0.19971253]\n"
          ],
          "name": "stdout"
        }
      ]
    },
    {
      "cell_type": "code",
      "metadata": {
        "id": "tUq1LcEkm0KC"
      },
      "source": [
        "def normalizePred(data):\n",
        "  data = np.subtract(data,np.min(data))\n",
        "  data = np.divide(data,np.max(data))\n",
        "  return data"
      ],
      "execution_count": null,
      "outputs": []
    },
    {
      "cell_type": "code",
      "metadata": {
        "colab": {
          "base_uri": "https://localhost:8080/",
          "height": 329
        },
        "id": "7BJVrVp8OvCe",
        "outputId": "d61222e7-997a-4629-cbaf-d628b95d2869"
      },
      "source": [
        "figure, axis_1 = plt.subplots()\n",
        "plt.xlabel('Time (Year)')\n",
        "plt.title('Solar Activity - Sun Cycle 23 & 24')\n",
        "\n",
        "print(pred_BiSON.shape, SN_ts_full_fit.T[0].shape)\n",
        "print(SN_ts_full_fit.T[0][0],SN_ts_full_fit.T[0][-1])\n",
        "pred_x = np.arange(1996.586,2019.008,(2019.008-1996.586)/len(SN_ts_full_fit.T[0]))\n",
        "\n",
        "#Axis 1\n",
        "axis_1.autoscale(enable=True, axis='both', tight=None)\n",
        "axis_1.set_ylabel('Solar Activity (Scaled)')\n",
        "#axis_1.scatter(pred_x,pred_BiSON, s = 10, c='blue', alpha=0.5, label=\"pred_BiSON\")\n",
        "#x1_ITP, y1_ITP = interpolate(np.array([pred_x,pred_BiSON]).T,140)\n",
        "ITP_BiSON = sm.nonparametric.lowess(pred_BiSON,pred_x,frac=0.15).T\n",
        "axis_1.plot(ITP_BiSON[0],normalizePred(ITP_BiSON[1]), c='blue', alpha=0.5, label = \"Prediction - Surface Velocity\")\n",
        "\n",
        "# #Axis 2\n",
        "# axis_2 = axis_1.twinx()\n",
        "#axis_2.set_ylabel('LOI (Scaling)')\n",
        "#axis_1.scatter(pred_x,pred_LOI, s = 10, c='red', alpha=0.5, label=\"pred_LOI\")\n",
        "#x2_ITP, y2_ITP = interpolate(np.array([pred_x,pred_LOI]).T,140)\n",
        "ITP_LOI = sm.nonparametric.lowess(pred_LOI,pred_x,frac=0.15).T\n",
        "axis_1.plot(ITP_LOI[0], normalizePred(ITP_LOI[1]), c='red', alpha=0.5, label = \"Prediction - Light Curve\")\n",
        "\n",
        "#Axis 3\n",
        "#axis_3 = axis_1.twinx()\n",
        "#axis_3.axis(\"off\")\n",
        "#axis_3.set_ylabel('SN')\n",
        "axis_1.scatter(pred_x,np.add(normalizePred(SN_ts_full_fit.T[1]),0.02), s = 10, c='green', alpha=0.5, label=\"Observed\")\n",
        "\n",
        "#Append Labels\n",
        "lines_1, labels_1 = axis_1.get_legend_handles_labels()\n",
        "#lines_2, labels_2 = axis_2.get_legend_handles_labels()\n",
        "#lines_3, labels_3 = axis_3.get_legend_handles_labels()\n",
        "lines = lines_1\n",
        "labels = labels_1\n",
        "axis_1.legend(lines, labels, loc=0)\n",
        "\n",
        "#Show Plot\n",
        "#plt.savefig('Graphs/C23_Numax_SSN_Time.png')\n",
        "plt.savefig('/content/drive/MyDrive/Korea Research - Yihong Song and Rohit Prasanna/DSHS & AOS Physics Research Collaboration 2020/Project/Jr:Sr Project/Graphs/BiSON_LOI_SN.png')\n",
        "plt.show()"
      ],
      "execution_count": null,
      "outputs": [
        {
          "output_type": "stream",
          "text": [
            "(275,) (275,)\n",
            "2450296.5 2458516.5\n"
          ],
          "name": "stdout"
        },
        {
          "output_type": "display_data",
          "data": {
            "image/png": "[encoded data removed]",
            "text/plain": [
              "<Figure size 432x288 with 1 Axes>"
            ]
          },
          "metadata": {
            "tags": [],
            "needs_background": "light"
          }
        }
      ]
    },
    {
      "cell_type": "code",
      "metadata": {
        "colab": {
          "base_uri": "https://localhost:8080/",
          "height": 294
        },
        "id": "VFvynv1qQrNl",
        "outputId": "8cf46df2-e10d-4536-8e16-3594bcb42942"
      },
      "source": [
        "figure, axis_1 = plt.subplots()\n",
        "plt.xlabel('Solar Activity (Scaling)')\n",
        "plt.title('ML Prediction and Sunspot Number vs. Time - Cycle 23 & 24')\n",
        "\n",
        "#Axis 1\n",
        "axis_1.autoscale(enable=True, axis='both', tight=None)\n",
        "axis_1.set_ylabel('BiSON (Scaling)')\n",
        "axis_1.scatter(SN_ts_full_fit.T[1],normalizePred(pred_BiSON), s = 10, c='blue', alpha=0.5, label=\"pred_BiSON\")\n",
        "\n",
        "#Axis 2\n",
        "axis_2 = axis_1.twinx()\n",
        "axis_2.set_ylabel('LOI (Scaling)')\n",
        "axis_2.scatter(SN_ts_full_fit.T[1],normalizePred(pred_LOI), s = 10, c='red', alpha=0.5, label=\"pred_LOI\")\n",
        "\n",
        "# #Axis 3\n",
        "# axis_3 = axis_1.twinx()\n",
        "# axis_3.axis(\"off\")\n",
        "# axis_3.set_ylabel('SN')\n",
        "# axis_3.scatter(datax_SN,datay_SN, s = 10, c='green', alpha=0.5, label=\"actual_SN\")\n",
        "\n",
        "#Append Labels\n",
        "lines_1, labels_1 = axis_1.get_legend_handles_labels()\n",
        "lines_2, labels_2 = axis_2.get_legend_handles_labels()\n",
        "# lines_3, labels_3 = axis_3.get_legend_handles_labels()\n",
        "lines = lines_1 + lines_2 #+ lines_3\n",
        "labels = labels_1 + labels_2 #+ labels_3\n",
        "axis_1.legend(lines, labels, loc=0)\n",
        "\n",
        "#Show Plot\n",
        "#plt.savefig('Graphs/C23_Numax_SSN_Time.png')\n",
        "plt.savefig('/content/drive/MyDrive/Korea Research - Yihong Song and Rohit Prasanna/DSHS & AOS Physics Research Collaboration 2020/Project/Jr:Sr Project/Graphs/BiSON_LOI_SN.png')\n",
        "plt.show()"
      ],
      "execution_count": null,
      "outputs": [
        {
          "output_type": "display_data",
          "data": {
            "image/png": "[encoded data removed]",
            "text/plain": [
              "<Figure size 432x288 with 2 Axes>"
            ]
          },
          "metadata": {
            "tags": [],
            "needs_background": "light"
          }
        }
      ]
    },
    {
      "cell_type": "code",
      "metadata": {
        "colab": {
          "base_uri": "https://localhost:8080/"
        },
        "id": "ALps_abvRJkY",
        "outputId": "4791e4e0-6b0f-448e-99d4-fc009f06fe62"
      },
      "source": [
        "sn_ts_full_fit_norm = normalize1D(SN_ts_full_fit.T[1])\n",
        "BiSONxSN_mse = np.sqrt(mean_squared_error(sn_ts_full_fit_norm,pred_BiSON))\n",
        "BiSONxSN_mae = mean_absolute_error(sn_ts_full_fit_norm,pred_BiSON)\n",
        "print(\"BiSON vs. Actual - Mean Sq. Error, Mean Abs. Error\")\n",
        "print(BiSONxSN_mse,BiSONxSN_mae)"
      ],
      "execution_count": null,
      "outputs": [
        {
          "output_type": "stream",
          "text": [
            "BiSON vs. Actual - Mean Sq. Error, Mean Abs. Error\n",
            "0.1801844415787202 0.14603203272802523\n"
          ],
          "name": "stdout"
        }
      ]
    },
    {
      "cell_type": "code",
      "metadata": {
        "colab": {
          "base_uri": "https://localhost:8080/"
        },
        "id": "DqZZCzspRoj6",
        "outputId": "a82f331e-4bb0-435a-d3cd-1466a7931db6"
      },
      "source": [
        "LOIxSN_mse = np.sqrt(mean_squared_error(sn_ts_full_fit_norm,pred_LOI))\n",
        "LOIxSN_mae = mean_absolute_error(sn_ts_full_fit_norm,pred_LOI)\n",
        "print(\"LOI vs. Actual - Mean Sq. Error, Mean Abs. Error\")\n",
        "print(LOIxSN_mse,LOIxSN_mae)"
      ],
      "execution_count": null,
      "outputs": [
        {
          "output_type": "stream",
          "text": [
            "LOI vs. Actual - Mean Sq. Error, Mean Abs. Error\n",
            "0.11264252022539821 0.08263648746113517\n"
          ],
          "name": "stdout"
        }
      ]
    },
    {
      "cell_type": "code",
      "metadata": {
        "colab": {
          "base_uri": "https://localhost:8080/"
        },
        "id": "sCr2wiKbsLko",
        "outputId": "8f0ed785-4ba1-494c-ec54-4336a49348dd"
      },
      "source": [
        "BiSONxLOI_mse = np.sqrt(mean_squared_error(pred_BiSON,pred_LOI))\n",
        "BiSONxLOI_mae = mean_absolute_error(pred_BiSON,pred_LOI)\n",
        "print(\"BiSON vs. LOI - Mean Sq. Error, Mean Abs. Error\")\n",
        "print(BiSONxLOI_mse,BiSONxLOI_mae)"
      ],
      "execution_count": null,
      "outputs": [
        {
          "output_type": "stream",
          "text": [
            "BiSON vs. LOI - Mean Sq. Error, Mean Abs. Error\n",
            "0.14846042 0.116639346\n"
          ],
          "name": "stdout"
        }
      ]
    },
    {
      "cell_type": "code",
      "metadata": {
        "colab": {
          "base_uri": "https://localhost:8080/"
        },
        "id": "dnWwFku-01AL",
        "outputId": "b8727dfc-5a25-4017-951a-9dee068958d8"
      },
      "source": [
        "print(sklearn.metrics.r2_score(normalizePred(SN_ts_full_fit.T[1]), normalizePred(pred_BiSON)))\n",
        "print(sklearn.metrics.r2_score(normalizePred(SN_ts_full_fit.T[1]), normalizePred(pred_LOI)))"
      ],
      "execution_count": null,
      "outputs": [
        {
          "output_type": "stream",
          "text": [
            "0.2782344967621362\n",
            "0.7561239054969247\n"
          ],
          "name": "stdout"
        }
      ]
    },
    {
      "cell_type": "code",
      "metadata": {
        "id": "EN04FfRNCnAk"
      },
      "source": [
        "#model.save('/content/drive/MyDrive/Korea Research - Yihong Song and Rohit Prasanna/DSHS & AOS Physics Research Collaboration 2020/Project/Jr:Sr Project/ML/p010')"
      ],
      "execution_count": null,
      "outputs": []
    },
    {
      "cell_type": "markdown",
      "metadata": {
        "id": "8P_wJulSeBe8"
      },
      "source": [
        "## Helper Functions - Prediction"
      ]
    },
    {
      "cell_type": "code",
      "metadata": {
        "id": "qGCHiqsRRM_k"
      },
      "source": [
        "def getData(koi_name,skipfront=0):\n",
        "  search_result = lk.search_lightcurve(koi_name, author='Kepler', cadence=\"short\")\n",
        "  lc_test = search_result.download_all().stitch()\n",
        "  lc_test = lc_test.fill_gaps()\n",
        "  lc_table = lc_test.to_table()\n",
        "  lc_array = np.array(lc_table['flux'])[skipfront*1440:]\n",
        "  lcdatax = np.arange(0,len(lc_array)/1440,1/1440)\n",
        "  lcfull = np.append([lcdatax],[lc_array],0).T\n",
        "  return lcfull"
      ],
      "execution_count": null,
      "outputs": []
    },
    {
      "cell_type": "code",
      "metadata": {
        "id": "H_dZiEeTosL0"
      },
      "source": [
        "# search_result = lk.search_lightcurve(\"KIC 2571238\", author='Kepler', cadence=\"short\")\n",
        "# #[1871056,8120608,2571238,2692377,3632418,3544595,11968749] #8120608, 2571238\n",
        "# lc_test = search_result.download_all().stitch()\n",
        "# lc_test = lc_test.fill_gaps()"
      ],
      "execution_count": null,
      "outputs": []
    },
    {
      "cell_type": "code",
      "metadata": {
        "id": "Awn2nSk2nR-c"
      },
      "source": [
        "#print(getData(\"KIC 2571238\"))"
      ],
      "execution_count": null,
      "outputs": []
    },
    {
      "cell_type": "code",
      "metadata": {
        "id": "OqSlh2_KVEAT"
      },
      "source": [
        "# search_result = lk.search_lightcurve(\"KIC 10454113\", author='Kepler', cadence=\"short\")\n",
        "# lc_test = search_result.download_all().stitch()\n",
        "# lc_test = lc_test.fill_gaps()\n",
        "# lc_test.plot()"
      ],
      "execution_count": null,
      "outputs": []
    },
    {
      "cell_type": "code",
      "metadata": {
        "id": "6yS2xoelrJOb"
      },
      "source": [
        "def prepData(data):\n",
        "  power, numax = tsPower(data.T[0],data.T[1],90,30)\n",
        "  power = normalize2D(power,\"LOI\")\n",
        "  return power,numax"
      ],
      "execution_count": null,
      "outputs": []
    },
    {
      "cell_type": "code",
      "metadata": {
        "id": "3ap9rjR_YbUi"
      },
      "source": [
        "def predData(power):\n",
        "  pred = model.predict(power).reshape(-1)\n",
        "  return pred"
      ],
      "execution_count": null,
      "outputs": []
    },
    {
      "cell_type": "code",
      "metadata": {
        "id": "587yfp8fj0nI"
      },
      "source": [
        "def getSlice(data):\n",
        "  power, numax = tsPower(data.T[0],data.T[1],90,30)\n",
        "  return normalize2D(power)"
      ],
      "execution_count": null,
      "outputs": []
    },
    {
      "cell_type": "code",
      "metadata": {
        "id": "u9f69i4ps6oP"
      },
      "source": [
        "def to3D(data):\n",
        "  return data.reshape(data.shape[0],1,data.shape[1])"
      ],
      "execution_count": null,
      "outputs": []
    },
    {
      "cell_type": "code",
      "metadata": {
        "id": "FDwLOB8ktvGW"
      },
      "source": [
        "def addFiller(data,totallength):\n",
        "  while len(data) < totallength:\n",
        "    data = np.append(data,0.5)\n",
        "  return data"
      ],
      "execution_count": null,
      "outputs": []
    },
    {
      "cell_type": "code",
      "metadata": {
        "id": "HRfhDiwLurDi"
      },
      "source": [
        "def findMaxLen(data): \n",
        "    maxLength = max(len(x) for x in data) \n",
        "    return maxLength "
      ],
      "execution_count": null,
      "outputs": []
    },
    {
      "cell_type": "code",
      "metadata": {
        "id": "1tYZN4kAcC_9"
      },
      "source": [
        "def prepAll(data):\n",
        "  starpreds = []\n",
        "  for star in data:\n",
        "    try:\n",
        "      stardata = getData((\"KIC \"+str(star)))\n",
        "      stardata = prepData(stardata)[0]\n",
        "      starpreds.append(stardata)\n",
        "    except:\n",
        "      continue\n",
        "  return starpreds"
      ],
      "execution_count": null,
      "outputs": []
    },
    {
      "cell_type": "code",
      "metadata": {
        "id": "Ysojs_jefH2O"
      },
      "source": [
        "def predAll(data):\n",
        "  starpreds = []\n",
        "  for star in data:\n",
        "    try:\n",
        "      stardata = to3D(star)\n",
        "      stardata = normalizePred(predData(stardata))\n",
        "      starpreds.append(stardata)\n",
        "    except:\n",
        "      continue\n",
        "  starfill = []\n",
        "  maxlen = findMaxLen(starpreds)\n",
        "  for starpred in starpreds:\n",
        "    starfill.append(addFiller(starpred,maxlen))\n",
        "  return starfill"
      ],
      "execution_count": null,
      "outputs": []
    },
    {
      "cell_type": "markdown",
      "metadata": {
        "id": "dMmsrJbneHRd"
      },
      "source": [
        "## Data - Prediction"
      ]
    },
    {
      "cell_type": "markdown",
      "metadata": {
        "id": "qL9x3XBGeUT_"
      },
      "source": [
        "### Simple"
      ]
    },
    {
      "cell_type": "code",
      "metadata": {
        "id": "K7juh8FdqieC",
        "colab": {
          "base_uri": "https://localhost:8080/",
          "height": 200
        },
        "outputId": "7b854c00-5878-43f1-a60f-d07f1bd5a05c"
      },
      "source": [
        "lc1 = getData(\"KIC 10454113\",400)\n",
        "lc2 = getData(\"KIC 8006161\",400)\n",
        "lc3 = getData(\"KIC 6116048\",400)"
      ],
      "execution_count": null,
      "outputs": [
        {
          "output_type": "error",
          "ename": "NameError",
          "evalue": "ignored",
          "traceback": [
            "\u001b[0;31m---------------------------------------------------------------------------\u001b[0m",
            "\u001b[0;31mNameError\u001b[0m                                 Traceback (most recent call last)",
            "\u001b[0;32m<ipython-input-26-7aaf46fc8845>\u001b[0m in \u001b[0;36m<module>\u001b[0;34m()\u001b[0m\n\u001b[0;32m----> 1\u001b[0;31m \u001b[0mlc1\u001b[0m \u001b[0;34m=\u001b[0m \u001b[0mgetData\u001b[0m\u001b[0;34m(\u001b[0m\u001b[0;34m\"KIC 10454113\"\u001b[0m\u001b[0;34m,\u001b[0m\u001b[0;36m400\u001b[0m\u001b[0;34m)\u001b[0m\u001b[0;34m\u001b[0m\u001b[0;34m\u001b[0m\u001b[0m\n\u001b[0m\u001b[1;32m      2\u001b[0m \u001b[0mlc2\u001b[0m \u001b[0;34m=\u001b[0m \u001b[0mgetData\u001b[0m\u001b[0;34m(\u001b[0m\u001b[0;34m\"KIC 8006161\"\u001b[0m\u001b[0;34m,\u001b[0m\u001b[0;36m400\u001b[0m\u001b[0;34m)\u001b[0m\u001b[0;34m\u001b[0m\u001b[0;34m\u001b[0m\u001b[0m\n\u001b[1;32m      3\u001b[0m \u001b[0mlc3\u001b[0m \u001b[0;34m=\u001b[0m \u001b[0mgetData\u001b[0m\u001b[0;34m(\u001b[0m\u001b[0;34m\"KIC 6116048\"\u001b[0m\u001b[0;34m,\u001b[0m\u001b[0;36m400\u001b[0m\u001b[0;34m)\u001b[0m\u001b[0;34m\u001b[0m\u001b[0;34m\u001b[0m\u001b[0m\n",
            "\u001b[0;31mNameError\u001b[0m: name 'getData' is not defined"
          ]
        }
      ]
    },
    {
      "cell_type": "code",
      "metadata": {
        "id": "qHU2KFSRR7rI",
        "colab": {
          "base_uri": "https://localhost:8080/",
          "height": 182
        },
        "outputId": "f5b0e23e-1c3b-4e9d-e3b5-724137773b10"
      },
      "source": [
        "#lc4 = getData(\"KIC 6444896\",400)\n",
        "lc5 = getData(\"KIC 8120608\")"
      ],
      "execution_count": null,
      "outputs": [
        {
          "output_type": "error",
          "ename": "NameError",
          "evalue": "ignored",
          "traceback": [
            "\u001b[0;31m---------------------------------------------------------------------------\u001b[0m",
            "\u001b[0;31mNameError\u001b[0m                                 Traceback (most recent call last)",
            "\u001b[0;32m<ipython-input-27-fe9ee0522c52>\u001b[0m in \u001b[0;36m<module>\u001b[0;34m()\u001b[0m\n\u001b[1;32m      1\u001b[0m \u001b[0;31m#lc4 = getData(\"KIC 6444896\",400)\u001b[0m\u001b[0;34m\u001b[0m\u001b[0;34m\u001b[0m\u001b[0;34m\u001b[0m\u001b[0m\n\u001b[0;32m----> 2\u001b[0;31m \u001b[0mlc5\u001b[0m \u001b[0;34m=\u001b[0m \u001b[0mgetData\u001b[0m\u001b[0;34m(\u001b[0m\u001b[0;34m\"KIC 8120608\"\u001b[0m\u001b[0;34m)\u001b[0m\u001b[0;34m\u001b[0m\u001b[0;34m\u001b[0m\u001b[0m\n\u001b[0m",
            "\u001b[0;31mNameError\u001b[0m: name 'getData' is not defined"
          ]
        }
      ]
    },
    {
      "cell_type": "code",
      "metadata": {
        "id": "SAoa-YqOrbfP"
      },
      "source": [
        "lc1_prep,p1 = prepData(lc1)\n",
        "lc2_prep,p2 = prepData(lc2)\n",
        "lc3_prep,p3 = prepData(lc3)"
      ],
      "execution_count": null,
      "outputs": []
    },
    {
      "cell_type": "code",
      "metadata": {
        "id": "QtUMS-vMT3Sn"
      },
      "source": [
        "lc5_prep,p5 = prepData(lc5)\n",
        "lc5_prep = lc5_prep.reshape(lc5_prep.shape[0],1,lc5_prep.shape[1])"
      ],
      "execution_count": null,
      "outputs": []
    },
    {
      "cell_type": "code",
      "metadata": {
        "id": "xDymiYKz8g_z"
      },
      "source": [
        "IS_3D = True\n",
        "if IS_3D:\n",
        "    lc1_prep = lc1_prep.reshape(lc1_prep.shape[0],1,lc1_prep.shape[1])\n",
        "    lc2_prep = lc2_prep.reshape(lc2_prep.shape[0],1,lc2_prep.shape[1])\n",
        "    lc3_prep = lc3_prep.reshape(lc3_prep.shape[0],1,lc3_prep.shape[1])"
      ],
      "execution_count": null,
      "outputs": []
    },
    {
      "cell_type": "code",
      "metadata": {
        "id": "rvkELUv9ZUJQ"
      },
      "source": [
        "pred1 = predData(lc1_prep)\n",
        "pred2 = predData(lc2_prep)\n",
        "pred3 = predData(lc3_prep)\n",
        "\n",
        "print(pred1[0:10])"
      ],
      "execution_count": null,
      "outputs": []
    },
    {
      "cell_type": "code",
      "metadata": {
        "id": "lGfG5UwbUChv"
      },
      "source": [
        "pred5 = predData(lc5_prep)\n",
        "print(pred5)\n",
        "print(len(pred5),len(pred3))"
      ],
      "execution_count": null,
      "outputs": []
    },
    {
      "cell_type": "code",
      "metadata": {
        "id": "w2JOX_zxdFsH"
      },
      "source": [
        "#figure, axis_1 = plt.subplots()\n",
        "plt.xlabel('Time (BJD)')\n",
        "plt.ylabel(\"Predicted Solar Activity\")\n",
        "plt.title('Predicted Solar Activity vs. Time')\n",
        "\n",
        "lc_predy1 = pred1\n",
        "lc_predy2 = pred2\n",
        "lc_predy3 = pred3\n",
        "\n",
        "lc_predx = np.arange(200,int(len(lc_predy1))*30+200,30)\n",
        "\n",
        "#Axis 1\n",
        "plt.autoscale(enable=True, axis='both', tight=None)\n",
        "plt.scatter(lc_predx,lc_predy1, s = 10, c='blue', alpha=0.5, label=\"KIC 10454113\")\n",
        "x1_ITP, y1_ITP = interpolate(np.array([lc_predx,lc_predy1]).T,30)\n",
        "plt.plot(x1_ITP[1:-1], y1_ITP[1:-1], c='blue', alpha=0.5)\n",
        "\n",
        "#axis_2 = axis_1.twinx()\n",
        "#axis_2.set_ylabel('LOI (Scaling)')\n",
        "plt.scatter(lc_predx,lc_predy2, s = 5, c='red', alpha=0.5, label=\"KIC 8006161\")\n",
        "x2_ITP, y2_ITP = interpolate(np.array([lc_predx,lc_predy2]).T,30)\n",
        "plt.plot(x2_ITP, y2_ITP, c='red', alpha=0.5)\n",
        "\n",
        "#axis_3 = axis_1.twinx()\n",
        "#axis_3.set_ylabel('LOI (Scaling)')\n",
        "plt.scatter(lc_predx,lc_predy3, s = 5, c='green', alpha=0.5, label=\"KIC 6116048\")\n",
        "x2_ITP, y2_ITP = interpolate(np.array([lc_predx,lc_predy3]).T,30)\n",
        "plt.plot(x2_ITP, y2_ITP, c='green', alpha=0.5)\n",
        "\n",
        "plt.legend()\n",
        "plt.show()"
      ],
      "execution_count": null,
      "outputs": []
    },
    {
      "cell_type": "code",
      "metadata": {
        "id": "PomUPNAxpvAX"
      },
      "source": [
        "exohost = [1871056,8120608,2571238,2692377,3632418,3544595,11968749] #11554100,\n",
        "#First 6 Exoplanet, Last red giant"
      ],
      "execution_count": null,
      "outputs": []
    },
    {
      "cell_type": "code",
      "metadata": {
        "id": "xNHqgIekEe3b"
      },
      "source": [
        "search_result = lk.search_lightcurve(\"KIC 11968749\", author='Kepler', cadence=\"short\")\n",
        "lc_test = search_result.download_all().stitch()\n",
        "lc_test = lc_test.fill_gaps()\n",
        "lc_test.plot()"
      ],
      "execution_count": null,
      "outputs": []
    },
    {
      "cell_type": "code",
      "metadata": {
        "id": "tonryUswqSEY"
      },
      "source": [
        "exohost_data = []\n",
        "for star in exohost:\n",
        "  exohost_data.append(getData((\"KIC \"+str(star))))"
      ],
      "execution_count": null,
      "outputs": []
    },
    {
      "cell_type": "code",
      "metadata": {
        "id": "VaAmmAMY6Yfp"
      },
      "source": [
        "print(exohost_data[0][0])"
      ],
      "execution_count": null,
      "outputs": []
    },
    {
      "cell_type": "code",
      "metadata": {
        "id": "mLhSdS3Zqj48"
      },
      "source": [
        "exohost_prep = []\n",
        "for stardata in exohost_data:\n",
        "  exohost_prep.append(prepData(stardata)[0])"
      ],
      "execution_count": null,
      "outputs": []
    },
    {
      "cell_type": "code",
      "metadata": {
        "id": "x4UYNgMbtX9y"
      },
      "source": [
        "for i in range(len(exohost_prep)):\n",
        "  exohost_prep[i] = to3D(exohost_prep[i])"
      ],
      "execution_count": null,
      "outputs": []
    },
    {
      "cell_type": "code",
      "metadata": {
        "id": "poB7MJyFtfD7"
      },
      "source": [
        "exohost_pred = []\n",
        "for starpred in exohost_prep:\n",
        "  exohost_pred.append(predData(starpred))"
      ],
      "execution_count": null,
      "outputs": []
    },
    {
      "cell_type": "code",
      "metadata": {
        "id": "3GXUsEMPuNtM"
      },
      "source": [
        "exohost_fill = []\n",
        "maxlen2 = findMaxLen(exohost_pred)\n",
        "for starpred in exohost_pred:\n",
        "  exohost_fill.append(addFiller(starpred,maxlen))"
      ],
      "execution_count": null,
      "outputs": []
    },
    {
      "cell_type": "markdown",
      "metadata": {
        "id": "Bfq7x6peeY5f"
      },
      "source": [
        "### Streamline"
      ]
    },
    {
      "cell_type": "code",
      "metadata": {
        "id": "rMM-wP-ufpRr"
      },
      "source": [
        "null_flag = [1435467,2837475,3424541,3427720,3456181]#,3632418,3656476,3733735,3735871]\n",
        "red_giant = [11968749]\n",
        "false_positive = [5356593,5652983,8505215]\n",
        "exohost = [1871056,2571238,2692377,3102384,3323887,3544595,3632418,4833421,4914423,8120608]\n",
        "exopotential = [2444412,4055765,5897826]\n",
        "experiment = [11968749]#7771282,4638884]#,8026226,9226926] #10644253"
      ],
      "execution_count": null,
      "outputs": []
    },
    {
      "cell_type": "code",
      "metadata": {
        "id": "VMgChqaafqQf"
      },
      "source": [
        "exohost_data = prepAll(experiment)"
      ],
      "execution_count": null,
      "outputs": []
    },
    {
      "cell_type": "code",
      "metadata": {
        "id": "V0XsP_OhfyAw"
      },
      "source": [
        "exohost_preds = predAll(exohost_data)"
      ],
      "execution_count": null,
      "outputs": []
    },
    {
      "cell_type": "code",
      "metadata": {
        "colab": {
          "base_uri": "https://localhost:8080/"
        },
        "id": "ZJh2JIgGvAbX",
        "outputId": "7ced5153-b595-4920-f7fd-786139b0f8b7"
      },
      "source": [
        "print(len(exohost_preds))"
      ],
      "execution_count": null,
      "outputs": [
        {
          "output_type": "stream",
          "text": [
            "1\n"
          ],
          "name": "stdout"
        }
      ]
    },
    {
      "cell_type": "code",
      "metadata": {
        "colab": {
          "base_uri": "https://localhost:8080/",
          "height": 312
        },
        "id": "iNaDmd87vFJL",
        "outputId": "9800f512-d47f-49ec-fb74-d9ccb866cfff"
      },
      "source": [
        "plt.xlabel('Time (Days)')\n",
        "plt.ylabel(\"Solar Activity (Scaled)\")\n",
        "plt.title('Predicted Solar Activity - Star')\n",
        "\n",
        "exohost_fill = exohost_preds\n",
        "print(len(exohost_fill))\n",
        "\n",
        "maxlen = findMaxLen(exohost_fill)\n",
        "lcx = np.arange(0,maxlen*30,30)\n",
        "\n",
        "plt.autoscale(enable=True, axis='both', tight=None)\n",
        "\n",
        "# for i in range(len(exohost_fill)):\n",
        "#   plt.scatter(lcx,exohost_fill[i], s = 10, c='blue', alpha=0.5, label=(\"KIC\"+str(exohost[i])))\n",
        "#   x1_ITP, y1_ITP = interpolate(np.array([lcx,exohost_fill[i]]).T,30)\n",
        "#   plt.plot(x1_ITP[1:-1], y1_ITP[1:-1], c='blue', alpha=0.5)\n",
        "plt.scatter(lcx,exohost_fill[0], s = 10, c='red', alpha=0.5,label=(\"KIC \"+str(experiment[0])))\n",
        "# plt.scatter([0],[0], s = 8, c='black', alpha=0.5,label=\"Mathur et al. 2014 Prediction\")\n",
        "x1_ITP, y1_ITP = interpolate(np.array([lcx,exohost_fill[0]]).T,100)\n",
        "y2_ITP = sm.nonparametric.lowess(exohost_fill[0],lcx,frac=0.1).T\n",
        "plt.plot(x1_ITP[1:-1], y1_ITP[1:-1], c='red', alpha=0.5)\n",
        "plt.plot(y2_ITP[0],y2_ITP[1], c='blue', alpha=0.5)\n",
        "\n",
        "# plt.scatter(lcx,exohost_fill[1], s = 10, c='red', alpha=0.5, label=(\"KIC\"+str(experiment[1])))\n",
        "# x1_ITP, y1_ITP = interpolate(np.array([lcx,exohost_fill[1]]).T,30)\n",
        "# plt.plot(x1_ITP[1:-1], y1_ITP[1:-1], c='red', alpha=0.5)\n",
        "\n",
        "# plt.scatter(lcx,exohost_fill[2], s = 10, c='green', alpha=0.5, label=(\"KIC\"+str(exohost_fill[2])))\n",
        "# x1_ITP, y1_ITP = interpolate(np.array([lcx,exohost_fill[2]]).T,30)\n",
        "# plt.plot(x1_ITP[1:-1], y1_ITP[1:-1], c='green', alpha=0.5)\n",
        "\n",
        "# #plt.scatter(lcx,exohost_fill[3], s = 10, c='orange', alpha=0.5, label=(\"KIC\"+str(exohost[3])))\n",
        "# x1_ITP, y1_ITP = interpolate(np.array([lcx,exohost_fill[3]]).T,30)\n",
        "# plt.plot(x1_ITP[1:-1], y1_ITP[1:-1], c='orange', alpha=0.5)\n",
        "# #plt.scatter(lcx,exohost_fill[4], s = 10, c='purple', alpha=0.5, label=(\"KIC\"+str(exohost[4])))\n",
        "# x1_ITP, y1_ITP = interpolate(np.array([lcx,exohost_fill[4]]).T,30)\n",
        "# plt.plot(x1_ITP[1:-1], y1_ITP[1:-1], c='purple', alpha=0.5)\n",
        "# #plt.scatter(lcx,exohost_fill[5], s = 10, c='black', alpha=0.5, label=(\"KIC\"+str(exohost[5])))\n",
        "# x1_ITP, y1_ITP = interpolate(np.array([lcx,exohost_fill[5]]).T,30)\n",
        "# plt.plot(x1_ITP[1:-1], y1_ITP[1:-1], c='black', alpha=0.5)\n",
        "# #plt.scatter(lcx,exohost_fill[6], s = 10, c='brown', alpha=0.5, label=(\"KIC\"+str(exohost[6])))\n",
        "# x1_ITP, y1_ITP = interpolate(np.array([lcx,exohost_fill[6]]).T,30)\n",
        "# plt.plot(x1_ITP[1:-1], y1_ITP[1:-1], c='brown', alpha=0.5)\n",
        "\n",
        "# #plt.scatter(lcx,exohost_fill[7], s = 10, c='orange', alpha=0.5, label=(\"KIC\"+str(exohost[7])))\n",
        "# x1_ITP, y1_ITP = interpolate(np.array([lcx,exohost_fill[7]]).T,30)\n",
        "# plt.plot(x1_ITP[1:-1], y1_ITP[1:-1], c='orange', alpha=0.5)\n",
        "# #plt.scatter(lcx,exohost_fill[8], s = 10, c='purple', alpha=0.5, label=(\"KIC\"+str(exohost[8])))\n",
        "# x1_ITP, y1_ITP = interpolate(np.array([lcx,exohost_fill[8]]).T,30)\n",
        "# plt.plot(x1_ITP[1:-1], y1_ITP[1:-1], c='purple', alpha=0.5)\n",
        "# #plt.scatter(lcx,exohost_fill[9], s = 10, c='black', alpha=0.5, label=(\"KIC\"+str(exohost[9])))\n",
        "# x1_ITP, y1_ITP = interpolate(np.array([lcx,exohost_fill[9]]).T,30)\n",
        "# plt.plot(x1_ITP[1:-1], y1_ITP[1:-1], c='black', alpha=0.5)\n",
        "# #plt.scatter(lcx,exohost_fill[10], s = 10, c='brown', alpha=0.5, label=(\"KIC\"+str(exohost[10])))\n",
        "# x1_ITP, y1_ITP = interpolate(np.array([lcx,exohost_fill[10]]).T,30)\n",
        "# plt.plot(x1_ITP[1:-1], y1_ITP[1:-1], c='brown', alpha=0.5)\n",
        "\n",
        "# #plt.scatter(lcx,exohost_fill[11], s = 10, c='orange', alpha=0.5, label=(\"KIC\"+str(exohost[11])))\n",
        "# x1_ITP, y1_ITP = interpolate(np.array([lcx,exohost_fill[11]]).T,30)\n",
        "# plt.plot(x1_ITP[1:-1], y1_ITP[1:-1], c='orange', alpha=0.5)\n",
        "# #plt.scatter(lcx,exohost_fill[12], s = 10, c='purple', alpha=0.5, label=(\"KIC\"+str(exohost[12])))\n",
        "# x1_ITP, y1_ITP = interpolate(np.array([lcx,exohost_fill[12]]).T,30)\n",
        "# plt.plot(x1_ITP[1:-1], y1_ITP[1:-1], c='purple', alpha=0.5)\n",
        "\n",
        "\n",
        "# plt.scatter(lcx,exohost_fill[3], s = 10, c='purple', alpha=0.5, label=(\"KIC\"+str(exohost[3])))\n",
        "# x1_ITP, y1_ITP = interpolate(np.array([lcx,exohost_fill[3]]).T,30)\n",
        "# plt.plot(x1_ITP[1:-1], y1_ITP[1:-1], c='purple', alpha=0.5)\n",
        "\n",
        "\n",
        "\n",
        "plt.legend()\n",
        "plt.savefig('/content/drive/MyDrive/Korea Research - Yihong Song and Rohit Prasanna/DSHS & AOS Physics Research Collaboration 2020/Project/Jr:Sr Project/Graphs/pred_lc.png')\n",
        "plt.show()"
      ],
      "execution_count": null,
      "outputs": [
        {
          "output_type": "stream",
          "text": [
            "1\n"
          ],
          "name": "stdout"
        },
        {
          "output_type": "display_data",
          "data": {
            "image/png": "[encoded data removed]",
            "text/plain": [
              "<Figure size 432x288 with 1 Axes>"
            ]
          },
          "metadata": {
            "tags": [],
            "needs_background": "light"
          }
        }
      ]
    },
    {
      "cell_type": "markdown",
      "metadata": {
        "id": "AVeEeZh0hNJv"
      },
      "source": [
        "## Compare Datasets"
      ]
    },
    {
      "cell_type": "code",
      "metadata": {
        "id": "6Bj19EW_hPt4",
        "colab": {
          "base_uri": "https://localhost:8080/",
          "height": 200
        },
        "outputId": "edcb3f98-9560-4d66-dd8c-610571f70efd"
      },
      "source": [
        "#23\n",
        "#   print(BiSON_ts_23.shape,SN_ts_23.shape,LOI_ts_23.shape)\n",
        "\n",
        "#24\n",
        "#   print(BiSON_ts_24_fit.shape,SN_ts_24_fit.shape,LOI_ts_24.shape)\n",
        "\n",
        "#Full\n",
        "#   print(BiSON_ts_full_fit.shape,SN_ts_full_fit.shape,LOI_ts_full.shape)\n",
        "y1 = normalize2D(BiSON_ts_full_fit)[0]\n",
        "y2 = normalize2D(LOI_ts_full)[0]\n",
        "y3 = lc1_prep[0]"
      ],
      "execution_count": null,
      "outputs": [
        {
          "output_type": "error",
          "ename": "NameError",
          "evalue": "ignored",
          "traceback": [
            "\u001b[0;31m---------------------------------------------------------------------------\u001b[0m",
            "\u001b[0;31mNameError\u001b[0m                                 Traceback (most recent call last)",
            "\u001b[0;32m<ipython-input-153-3c7a0705dc03>\u001b[0m in \u001b[0;36m<module>\u001b[0;34m()\u001b[0m\n\u001b[1;32m      9\u001b[0m \u001b[0my1\u001b[0m \u001b[0;34m=\u001b[0m \u001b[0mnormalize2D\u001b[0m\u001b[0;34m(\u001b[0m\u001b[0mBiSON_ts_full_fit\u001b[0m\u001b[0;34m)\u001b[0m\u001b[0;34m[\u001b[0m\u001b[0;36m0\u001b[0m\u001b[0;34m]\u001b[0m\u001b[0;34m\u001b[0m\u001b[0;34m\u001b[0m\u001b[0m\n\u001b[1;32m     10\u001b[0m \u001b[0my2\u001b[0m \u001b[0;34m=\u001b[0m \u001b[0mnormalize2D\u001b[0m\u001b[0;34m(\u001b[0m\u001b[0mLOI_ts_full\u001b[0m\u001b[0;34m)\u001b[0m\u001b[0;34m[\u001b[0m\u001b[0;36m0\u001b[0m\u001b[0;34m]\u001b[0m\u001b[0;34m\u001b[0m\u001b[0;34m\u001b[0m\u001b[0m\n\u001b[0;32m---> 11\u001b[0;31m \u001b[0my3\u001b[0m \u001b[0;34m=\u001b[0m \u001b[0mlc1_prep\u001b[0m\u001b[0;34m[\u001b[0m\u001b[0;36m0\u001b[0m\u001b[0;34m]\u001b[0m\u001b[0;34m\u001b[0m\u001b[0;34m\u001b[0m\u001b[0m\n\u001b[0m",
            "\u001b[0;31mNameError\u001b[0m: name 'lc1_prep' is not defined"
          ]
        }
      ]
    },
    {
      "cell_type": "code",
      "metadata": {
        "id": "30S56QilauDa"
      },
      "source": [
        "def filterPg(pg):\n",
        "  discard = 0.3\n",
        "  for i in range(int(len(pg))):\n",
        "    if pg[i] <= discard:\n",
        "      pg[i] = 0\n",
        "  #   else:\n",
        "  #     pg[i] -= discard\n",
        "  # pg = np.divide(pg,np.max(pg))\n",
        "  return pg"
      ],
      "execution_count": null,
      "outputs": []
    },
    {
      "cell_type": "code",
      "metadata": {
        "colab": {
          "base_uri": "https://localhost:8080/",
          "height": 381
        },
        "id": "Y8GDaptYhuU7",
        "outputId": "5c9cfbfe-0456-4d10-efdc-76822ce77f88"
      },
      "source": [
        "figure, axis_1 = plt.subplots()\n",
        "plt.xlabel('Time (BJD)')\n",
        "plt.title('ML Prediction and Sunspot Number vs. Time - Cycle 23 & 24')\n",
        "# for i in range(len(y3)):\n",
        "#   if y3[i] < 0.4:\n",
        "#     y3[i] = 0\n",
        "# print(y3[0])\n",
        "  \n",
        "\n",
        "x1 = np.arange(0,7776)\n",
        "\n",
        "y4 = []\n",
        "for value in x1:\n",
        "    check = True\n",
        "    for i in range(int(len(tfreqs))):\n",
        "        if int(tfreqs[i]-1) == value:\n",
        "            y4 = np.append(y4,tmodes[i])\n",
        "            check = False\n",
        "            break\n",
        "    if check:\n",
        "        y4 = np.append(y4,0)\n",
        "\n",
        "print(len(y4))\n",
        "\n",
        "#Axis 1\n",
        "axis_1.autoscale(enable=True, axis='both', tight=None)\n",
        "axis_1.set_ylabel('BiSON (Scaling)')\n",
        "axis_1.scatter(x1,y4, s = 5, c='blue', alpha=0.5, label=\"pred_BiSON\")\n",
        "# x1_ITP, y1_ITP = interpolate(np.array([x1,y1]).T,50)\n",
        "# axis_1.plot(x1_ITP, y1_ITP, c='blue', alpha=0.5, label = \"Pred. BiSON\")\n",
        "\n",
        "# # #Axis 2\n",
        "# axis_2 = axis_1.twinx()\n",
        "# axis_2.set_ylabel('LOI (Scaling)')\n",
        "# axis_2.scatter(x1,y2, s = 5, c='red', alpha=0.5, label=\"pred_LOI\")\n",
        "# x2_ITP, y2_ITP = interpolate(np.array([x1,y2]).T,50)\n",
        "# axis_1.plot(x2_ITP, y2_ITP, c='red', alpha=0.5, label = \"Pred. LOI\")\n",
        "\n",
        "# #Axis 3\n",
        "# axis_3 = axis_1.twinx()\n",
        "# axis_3.axis(\"off\")\n",
        "# axis_3.set_ylabel('SN')\n",
        "# axis_3.scatter(x1,y4, s = 5, c='green', alpha=0.5, label=\"actual_SN\")\n",
        "\n",
        "#Append Labels\n",
        "lines_1, labels_1 = axis_1.get_legend_handles_labels()\n",
        "lines_2, labels_2 = axis_2.get_legend_handles_labels()\n",
        "lines_3, labels_3 = axis_3.get_legend_handles_labels()\n",
        "lines = lines_1 + lines_2 + lines_3\n",
        "labels = labels_1 + labels_2 + labels_3\n",
        "axis_1.legend(lines, labels, loc=0)\n",
        "plt.show()"
      ],
      "execution_count": null,
      "outputs": [
        {
          "output_type": "stream",
          "text": [
            "[ 992. 1380. 1622. 2132. 2916. 3371. 4148. 4526. 4939. 5290. 5836. 6571.\n",
            " 6951. 7354.] [0.44721106 0.49577136 0.56318943 0.54038116 1.         0.39177608\n",
            " 0.36370707 0.53226221 0.47128111 0.35626258 0.50778757 0.52390755\n",
            " 0.55922793 0.35757202 0.44401813 0.04963992]\n",
            "7776\n"
          ],
          "name": "stdout"
        },
        {
          "output_type": "display_data",
          "data": {
            "image/png": "[encoded data removed]",
            "text/plain": [
              "<Figure size 432x288 with 1 Axes>"
            ]
          },
          "metadata": {
            "tags": [],
            "needs_background": "light"
          }
        }
      ]
    },
    {
      "cell_type": "code",
      "metadata": {
        "id": "xaQ84OGIj_FQ"
      },
      "source": [
        "lk.seismology.estimate_deltanu_acf2d?"
      ],
      "execution_count": null,
      "outputs": []
    },
    {
      "cell_type": "markdown",
      "metadata": {
        "id": "SCx800fhc51y"
      },
      "source": [
        "## Test Code"
      ]
    },
    {
      "cell_type": "code",
      "metadata": {
        "colab": {
          "base_uri": "https://localhost:8080/",
          "height": 404
        },
        "id": "SfTytx0JR0Ir",
        "outputId": "947fbc11-fdfd-4a09-c162-ac3bb9b22bd6"
      },
      "source": [
        "search_result = lk.search_lightcurve('KIC 10454113', author='Kepler', cadence=\"short\")\n",
        "search_result\n",
        "lc_test = search_result.download_all().stitch()\n",
        "lc_test.plot()"
      ],
      "execution_count": null,
      "outputs": [
        {
          "output_type": "execute_result",
          "data": {
            "text/plain": [
              "<matplotlib.axes._subplots.AxesSubplot at 0x7fa04a18ddd0>"
            ]
          },
          "metadata": {
            "tags": []
          },
          "execution_count": 79
        },
        {
          "output_type": "display_data",
          "data": {
            "image/png": "[encoded data removed]",
            "text/plain": [
              "<Figure size 848.5x400 with 1 Axes>"
            ]
          },
          "metadata": {
            "tags": []
          }
        }
      ]
    },
    {
      "cell_type": "code",
      "metadata": {
        "colab": {
          "base_uri": "https://localhost:8080/",
          "height": 404
        },
        "id": "VEYHxHRtXd_6",
        "outputId": "756a2bdb-b0a0-4afc-ac1a-81b48cf41a15"
      },
      "source": [
        "lc_test = lc_test.fill_gaps()\n",
        "lc_test.plot()"
      ],
      "execution_count": null,
      "outputs": [
        {
          "output_type": "execute_result",
          "data": {
            "text/plain": [
              "<matplotlib.axes._subplots.AxesSubplot at 0x7fa049e69190>"
            ]
          },
          "metadata": {
            "tags": []
          },
          "execution_count": 80
        },
        {
          "output_type": "display_data",
          "data": {
            "image/png": "[encoded data removed]",
            "text/plain": [
              "<Figure size 848.5x400 with 1 Axes>"
            ]
          },
          "metadata": {
            "tags": []
          }
        }
      ]
    },
    {
      "cell_type": "code",
      "metadata": {
        "id": "PHLvcn4FXoIM"
      },
      "source": [
        "Dlc_table = lc_test.to_table()\n",
        "lc_array = np.array(lc_table['flux'])\n",
        "print(lc_array)"
      ],
      "execution_count": null,
      "outputs": []
    },
    {
      "cell_type": "code",
      "metadata": {
        "colab": {
          "base_uri": "https://localhost:8080/"
        },
        "id": "j4k4clUGrpUu",
        "outputId": "bfa1e412-2052-4405-d91c-b1957b3c7992"
      },
      "source": [
        "lcdatax = np.arange(0,len(lc_array)/1440,1/1440)\n",
        "lcfull = np.append([lcdatax],[lc_array],0).T\n",
        "print(lcfull.shape)"
      ],
      "execution_count": null,
      "outputs": [
        {
          "output_type": "stream",
          "text": [
            "(1996170, 2)\n"
          ],
          "name": "stdout"
        }
      ]
    },
    {
      "cell_type": "code",
      "metadata": {
        "colab": {
          "base_uri": "https://localhost:8080/"
        },
        "id": "nQlyHOmdxrgO",
        "outputId": "dac435f9-c41a-4ac7-9a69-1119d3f57f0b"
      },
      "source": [
        "print(lcfull[-1])"
      ],
      "execution_count": null,
      "outputs": [
        {
          "output_type": "stream",
          "text": [
            "[1.38622847e+03 1.00039232e+00]\n"
          ],
          "name": "stdout"
        }
      ]
    },
    {
      "cell_type": "code",
      "metadata": {
        "id": "fHUO4dAsxuq4"
      },
      "source": [
        "lc_power, lc_numax = tsPower(lcfull.T[0],lcfull.T[1],90,30)"
      ],
      "execution_count": null,
      "outputs": []
    },
    {
      "cell_type": "code",
      "metadata": {
        "colab": {
          "base_uri": "https://localhost:8080/"
        },
        "id": "t1FkTsS4IJi5",
        "outputId": "98e181a0-d15a-484a-cdb9-7e6c1034efd6"
      },
      "source": [
        "print(lc_power.shape,lc_numax)"
      ],
      "execution_count": null,
      "outputs": [
        {
          "output_type": "stream",
          "text": [
            "(44, 7776) 1425\n"
          ],
          "name": "stdout"
        }
      ]
    },
    {
      "cell_type": "code",
      "metadata": {
        "colab": {
          "base_uri": "https://localhost:8080/"
        },
        "id": "RYZqVKsLIkTy",
        "outputId": "c14b15c3-18e7-4939-8454-1df0a3c3bcb7"
      },
      "source": [
        "lc_power_norm = normalize2D(lc_power)\n",
        "print(np.max(lc_power_norm))"
      ],
      "execution_count": null,
      "outputs": [
        {
          "output_type": "stream",
          "text": [
            "1.0\n"
          ],
          "name": "stdout"
        }
      ]
    },
    {
      "cell_type": "code",
      "metadata": {
        "colab": {
          "base_uri": "https://localhost:8080/"
        },
        "id": "eogoUd46Iznw",
        "outputId": "1cec3147-0d7a-4043-846f-9eca43f55cba"
      },
      "source": [
        "pred_lc = model.predict(lc_power_norm[9:]).reshape(-1)\n",
        "print(pred_lc.shape)\n",
        "print(pred_lc)"
      ],
      "execution_count": null,
      "outputs": [
        {
          "output_type": "stream",
          "text": [
            "(35,)\n",
            "[2.1501856 2.1978247 2.218618  1.9813035 1.8138002 1.6447774 1.7670627\n",
            " 1.3543344 1.6227567 1.4145533 1.6896728 1.8097239 1.6240644 2.0843878\n",
            " 2.0923507 1.9381614 2.283571  2.4614487 2.109753  1.9923794 2.4358625\n",
            " 2.504476  2.693074  2.2238019 2.4378045 2.00395   1.5316311 2.0904558\n",
            " 1.6939368 1.8036245 1.837662  1.5059265 2.7730196 2.3647003 2.3227234]\n"
          ],
          "name": "stdout"
        }
      ]
    },
    {
      "cell_type": "code",
      "metadata": {
        "colab": {
          "base_uri": "https://localhost:8080/",
          "height": 312
        },
        "id": "BcydxAK4JAeF",
        "outputId": "bca64533-50d6-4ed3-8824-1f9f726f8771"
      },
      "source": [
        "plt.xlabel('Time (BJD)')\n",
        "plt.title('ML Prediction and Sunspot Number vs. Time - Cycle 23 & 24')\n",
        "\n",
        "lc_testx = np.arange(0,int(len(pred_lc)))\n",
        "\n",
        "#Axis 1\n",
        "plt.autoscale(enable=True, axis='both', tight=None)\n",
        "plt.scatter(lc_testx,pred_lc, s = 10, c='blue', alpha=0.5, label=\"pred_BiSON\")\n",
        "x1_ITP, y1_ITP = interpolate(np.array([lc_testx,pred_lc]).T,50)\n",
        "plt.plot(x1_ITP, y1_ITP, c='blue', alpha=0.5, label = \"Pred. BiSON\")\n",
        "\n",
        "plt.show"
      ],
      "execution_count": null,
      "outputs": [
        {
          "output_type": "execute_result",
          "data": {
            "text/plain": [
              "<function matplotlib.pyplot.show>"
            ]
          },
          "metadata": {
            "tags": []
          },
          "execution_count": 109
        },
        {
          "output_type": "display_data",
          "data": {
            "image/png": "[encoded data removed]",
            "text/plain": [
              "<Figure size 432x288 with 1 Axes>"
            ]
          },
          "metadata": {
            "tags": []
          }
        }
      ]
    },
    {
      "cell_type": "code",
      "metadata": {
        "id": "j-yFPY2CQaUP"
      },
      "source": [
        "lcdata3 = getData(\"KIC 6116048\")"
      ],
      "execution_count": null,
      "outputs": []
    },
    {
      "cell_type": "code",
      "metadata": {
        "id": "SgRO735OR3VQ"
      },
      "source": [
        "lc_power, lc_numax = tsPower(lcdata3.T[0],lcdata3.T[1],90,30)"
      ],
      "execution_count": null,
      "outputs": []
    },
    {
      "cell_type": "code",
      "metadata": {
        "colab": {
          "base_uri": "https://localhost:8080/"
        },
        "id": "pg9JgEJyR7t3",
        "outputId": "dfd9b5ba-77f0-4ba7-fbdb-892034b2690f"
      },
      "source": [
        "lc_power_norm = normalize2D(lc_power)\n",
        "print(np.max(lc_power_norm))"
      ],
      "execution_count": null,
      "outputs": [
        {
          "output_type": "stream",
          "text": [
            "1.0\n"
          ],
          "name": "stdout"
        }
      ]
    },
    {
      "cell_type": "code",
      "metadata": {
        "colab": {
          "base_uri": "https://localhost:8080/"
        },
        "id": "9MzwGRYaSEZt",
        "outputId": "d8f0dba2-6b57-4242-b0bf-7d5f921d200a"
      },
      "source": [
        "pred_lc = model.predict(lc_power_norm[9:]).reshape(-1)\n",
        "print(pred_lc.shape)\n",
        "print(pred_lc)"
      ],
      "execution_count": null,
      "outputs": [
        {
          "output_type": "stream",
          "text": [
            "(36,)\n",
            "[0.5277961  0.63132465 0.40478465 0.42059588 0.5209544  0.7009002\n",
            " 1.031577   0.7302094  0.58843035 0.5559162  0.57662654 0.58658266\n",
            " 0.5535707  0.4052446  0.38021135 0.54982436 1.748396   1.4241097\n",
            " 2.086725   1.1885546  1.8470598  1.8879963  1.9531791  1.8862461\n",
            " 1.4063263  1.131757   1.1278707  1.4685751  1.067278   1.2002715\n",
            " 1.1034241  0.6847471  0.71507204 1.2039894  1.3913287  1.1852996 ]\n"
          ],
          "name": "stdout"
        }
      ]
    },
    {
      "cell_type": "code",
      "metadata": {
        "id": "Bv_2SXKJStOF"
      },
      "source": [
        "lcdata4 = getData(\"KIC 12009504\")"
      ],
      "execution_count": null,
      "outputs": []
    },
    {
      "cell_type": "code",
      "metadata": {
        "id": "kV49mnLmSwck"
      },
      "source": [
        "lc_power2, lc_numax2 = tsPower(lcdata4.T[0],lcdata4.T[1],90,30)"
      ],
      "execution_count": null,
      "outputs": []
    },
    {
      "cell_type": "code",
      "metadata": {
        "colab": {
          "base_uri": "https://localhost:8080/"
        },
        "id": "58gSwqazSz0l",
        "outputId": "adfd212b-187b-4c38-d1e9-003eb1b9f833"
      },
      "source": [
        "lc_power_norm2 = normalize2D(lc_power2)\n",
        "print(np.max(lc_power_norm2))\n",
        "pred_lc2 = model.predict(lc_power_norm2[9:-2]).reshape(-1)\n",
        "print(pred_lc2.shape)\n",
        "print(pred_lc2)"
      ],
      "execution_count": null,
      "outputs": [
        {
          "output_type": "stream",
          "text": [
            "1.0\n",
            "(36,)\n",
            "[1.0906223  1.0631001  1.0119612  1.1853065  1.2532316  0.87308747\n",
            " 0.9431411  0.9877703  1.6166066  1.683091   1.5640908  0.886065\n",
            " 1.0997486  1.0799937  1.2167377  0.99084055 1.1682     1.0814201\n",
            " 1.524697   1.6352017  1.7068578  1.4969152  0.9861238  1.2276504\n",
            " 1.0122035  1.7186154  1.7474402  2.0638342  2.1568449  1.5226185\n",
            " 1.688213   1.412455   1.489743   1.0179482  1.2917794  0.8883791 ]\n"
          ],
          "name": "stdout"
        }
      ]
    },
    {
      "cell_type": "code",
      "metadata": {
        "id": "xFcTMRD2VVvo"
      },
      "source": [
        "lcdata5 = getData(\"KIC 8006161\")"
      ],
      "execution_count": null,
      "outputs": []
    },
    {
      "cell_type": "code",
      "metadata": {
        "id": "DlomK81KVXg1"
      },
      "source": [
        "lc_power3, lc_numax3 = tsPower(lcdata5.T[0],lcdata5.T[1],90,30)"
      ],
      "execution_count": null,
      "outputs": []
    },
    {
      "cell_type": "code",
      "metadata": {
        "colab": {
          "base_uri": "https://localhost:8080/"
        },
        "id": "UkaTTnEeVaRO",
        "outputId": "8a2cd349-cc97-48e2-98c9-5ba1ec414f11"
      },
      "source": [
        "lc_power_norm3 = normalize2D(lc_power3)\n",
        "print(np.max(lc_power_norm3))\n",
        "pred_lc3 = model.predict(lc_power_norm3[9:]).reshape(-1)\n",
        "print(pred_lc3.shape)\n",
        "print(pred_lc3)"
      ],
      "execution_count": null,
      "outputs": [
        {
          "output_type": "stream",
          "text": [
            "1.0\n",
            "(36,)\n",
            "[0.51671636 0.4697245  0.5306659  0.4744122  0.5324677  0.8603418\n",
            " 0.8463695  0.9316367  1.2206714  1.2951821  0.85572636 0.7345146\n",
            " 0.80385494 0.774252   1.3114283  1.420307   1.7812022  1.5878102\n",
            " 1.1935314  1.2851081  1.3955448  2.1604865  2.4565613  1.9691529\n",
            " 1.7256997  1.3129588  1.7235616  1.5142536  1.7675918  1.2173353\n",
            " 0.9837395  0.6535239  2.0073683  1.9211634  1.6827221  1.8208772 ]\n"
          ],
          "name": "stdout"
        }
      ]
    },
    {
      "cell_type": "code",
      "metadata": {
        "colab": {
          "base_uri": "https://localhost:8080/",
          "height": 312
        },
        "id": "12BPuOaBSJwu",
        "outputId": "b3e2c772-547e-4c76-992a-2f44ff41d8ff"
      },
      "source": [
        "figure, axis_1 = plt.subplots()\n",
        "plt.xlabel('Time (BJD)')\n",
        "plt.title('ML Prediction and Sunspot Number vs. Time - Cycle 23 & 24')\n",
        "\n",
        "lc_testx = np.arange(200,int(len(pred_lc))*30+200,30)\n",
        "\n",
        "\n",
        "\n",
        "#Axis 1\n",
        "axis_1.autoscale(enable=True, axis='both', tight=None)\n",
        "axis_1.scatter(lc_testx,pred_lc, s = 10, c='blue', alpha=0.5, label=\"pred_BiSON\")\n",
        "x1_ITP, y1_ITP = interpolate(np.array([lc_testx,pred_lc]).T,30)\n",
        "axis_1.plot(x1_ITP[1:-1], y1_ITP[1:-1], c='blue', alpha=0.5, label = \"Pred. BiSON\")\n",
        "\n",
        "\n",
        "# #Axis 2\n",
        "axis_2 = axis_1.twinx()\n",
        "axis_2.scatter(lc_testx,pred_lc2, s = 10, c='red', alpha=0.5, label=\"pred_BiSON\")\n",
        "x1_ITP, y1_ITP = interpolate(np.array([lc_testx,pred_lc2]).T,30)\n",
        "axis_2.plot(x1_ITP[1:-1], y1_ITP[1:-1], c='red', alpha=0.5, label = \"Pred. BiSON\")\n",
        "\n",
        "\n",
        "# #Axis 3\n",
        "axis_3 = axis_1.twinx()\n",
        "axis_3.scatter(lc_testx,pred_lc3, s = 10, c='green', alpha=0.5, label=\"pred_BiSON\")\n",
        "x1_ITP, y1_ITP = interpolate(np.array([lc_testx,pred_lc3]).T,30)\n",
        "axis_3.plot(x1_ITP[1:-1], y1_ITP[1:-1], c='green', alpha=0.5, label = \"Pred. BiSON\")\n",
        "\n",
        "#Append Labels\n",
        "lines_1, labels_1 = axis_1.get_legend_handles_labels()\n",
        "lines_2, labels_2 = axis_2.get_legend_handles_labels()\n",
        "lines_3, labels_3 = axis_3.get_legend_handles_labels()\n",
        "lines = lines_1 + lines_2 + lines_3\n",
        "labels = labels_1 + labels_2 + labels_3\n",
        "axis_1.legend(lines, labels, loc=0)\n",
        "\n",
        "\n",
        "plt.show"
      ],
      "execution_count": null,
      "outputs": [
        {
          "output_type": "execute_result",
          "data": {
            "text/plain": [
              "<function matplotlib.pyplot.show>"
            ]
          },
          "metadata": {
            "tags": []
          },
          "execution_count": 179
        },
        {
          "output_type": "display_data",
          "data": {
            "image/png": "[encoded data removed]",
            "text/plain": [
              "<Figure size 432x288 with 3 Axes>"
            ]
          },
          "metadata": {
            "tags": []
          }
        }
      ]
    },
    {
      "cell_type": "code",
      "metadata": {
        "id": "hBlft6OQSZH3"
      },
      "source": [
        ""
      ],
      "execution_count": null,
      "outputs": []
    }
  ]
}